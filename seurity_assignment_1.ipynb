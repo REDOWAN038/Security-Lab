{
  "nbformat": 4,
  "nbformat_minor": 0,
  "metadata": {
    "colab": {
      "provenance": [],
      "authorship_tag": "ABX9TyO4wBZs+J3H2WvZ391acICr",
      "include_colab_link": true
    },
    "kernelspec": {
      "name": "python3",
      "display_name": "Python 3"
    },
    "language_info": {
      "name": "python"
    }
  },
  "cells": [
    {
      "cell_type": "markdown",
      "metadata": {
        "id": "view-in-github",
        "colab_type": "text"
      },
      "source": [
        "<a href=\"https://colab.research.google.com/github/REDOWAN038/Security-Lab/blob/main/seurity_assignment_1.ipynb\" target=\"_parent\"><img src=\"https://colab.research.google.com/assets/colab-badge.svg\" alt=\"Open In Colab\"/></a>"
      ]
    },
    {
      "cell_type": "markdown",
      "source": [
        "**Task - 01(A)**"
      ],
      "metadata": {
        "id": "ju8bFe3btyPU"
      }
    },
    {
      "cell_type": "code",
      "source": [
        "def decryption(ciphertext,key):\n",
        "    plaintext = \"\"\n",
        "    for i in range(len(ciphertext)):\n",
        "        ch = ciphertext[i]\n",
        "        if(ch.isupper()):\n",
        "            plaintext += chr((ord(ch) - (key-65)) % 26 + 65)\n",
        "        elif(ch.islower()):\n",
        "            plaintext += chr((ord(ch) - (key-97)) % 26 + 97)\n",
        "        else:\n",
        "          plaintext+=ch\n",
        "    return plaintext"
      ],
      "metadata": {
        "id": "RO0Ra9Wzt29T"
      },
      "execution_count": 174,
      "outputs": []
    },
    {
      "cell_type": "markdown",
      "source": [
        "**Task - 01(B)**"
      ],
      "metadata": {
        "id": "sVyE9eNc2gE_"
      }
    },
    {
      "cell_type": "code",
      "source": [
        "ciphertext = \"XNZ XVMIDQVG VO DDXO WPDGYDIB NPNO DN BJDIB OJ WZ BMZVO VBVDI.\""
      ],
      "metadata": {
        "id": "2omhU80puf-Y"
      },
      "execution_count": 175,
      "outputs": []
    },
    {
      "cell_type": "code",
      "source": [
        "# key = 1\n",
        "print(\"Plain Text : \",decryption(ciphertext,1))"
      ],
      "metadata": {
        "colab": {
          "base_uri": "https://localhost:8080/"
        },
        "id": "KwGi44gHvC1f",
        "outputId": "f70b4c10-d413-4ab7-a43a-7518840b246c"
      },
      "execution_count": 176,
      "outputs": [
        {
          "output_type": "stream",
          "name": "stdout",
          "text": [
            "Plain Text :  WMY WULHCPUF UN CCWN VOCFXCHA MOMN CM AICHA NI VY ALYUN UAUCH.\n"
          ]
        }
      ]
    },
    {
      "cell_type": "code",
      "source": [
        "# key = 2\n",
        "print(\"Plain Text : \",decryption(ciphertext,2))"
      ],
      "metadata": {
        "colab": {
          "base_uri": "https://localhost:8080/"
        },
        "id": "R6sMOzn1x9kH",
        "outputId": "3e30a92d-3ce0-4acc-b82d-df89e820f48d"
      },
      "execution_count": 177,
      "outputs": [
        {
          "output_type": "stream",
          "name": "stdout",
          "text": [
            "Plain Text :  VLX VTKGBOTE TM BBVM UNBEWBGZ LNLM BL ZHBGZ MH UX ZKXTM TZTBG.\n"
          ]
        }
      ]
    },
    {
      "cell_type": "code",
      "source": [
        "# key = 3\n",
        "print(\"Plain Text : \",decryption(ciphertext,3))"
      ],
      "metadata": {
        "colab": {
          "base_uri": "https://localhost:8080/"
        },
        "id": "FwNGNNwWyAob",
        "outputId": "66d0a219-033d-48b7-d061-fdf090774db3"
      },
      "execution_count": 178,
      "outputs": [
        {
          "output_type": "stream",
          "name": "stdout",
          "text": [
            "Plain Text :  UKW USJFANSD SL AAUL TMADVAFY KMKL AK YGAFY LG TW YJWSL SYSAF.\n"
          ]
        }
      ]
    },
    {
      "cell_type": "code",
      "source": [
        "# key = 4\n",
        "print(\"Plain Text : \",decryption(ciphertext,4))"
      ],
      "metadata": {
        "colab": {
          "base_uri": "https://localhost:8080/"
        },
        "id": "R1D0wPagyDOZ",
        "outputId": "f6dfdb92-943f-455c-992c-46cb8243bd68"
      },
      "execution_count": 179,
      "outputs": [
        {
          "output_type": "stream",
          "name": "stdout",
          "text": [
            "Plain Text :  TJV TRIEZMRC RK ZZTK SLZCUZEX JLJK ZJ XFZEX KF SV XIVRK RXRZE.\n"
          ]
        }
      ]
    },
    {
      "cell_type": "code",
      "source": [
        "# key = 5\n",
        "print(\"Plain Text : \",decryption(ciphertext,5))"
      ],
      "metadata": {
        "colab": {
          "base_uri": "https://localhost:8080/"
        },
        "id": "S38H9YAOyGBh",
        "outputId": "8e75ae2a-18a8-4892-a0d1-52ef73d87e36"
      },
      "execution_count": 180,
      "outputs": [
        {
          "output_type": "stream",
          "name": "stdout",
          "text": [
            "Plain Text :  SIU SQHDYLQB QJ YYSJ RKYBTYDW IKIJ YI WEYDW JE RU WHUQJ QWQYD.\n"
          ]
        }
      ]
    },
    {
      "cell_type": "code",
      "source": [
        "# key = 6\n",
        "print(\"Plain Text : \",decryption(ciphertext,6))"
      ],
      "metadata": {
        "colab": {
          "base_uri": "https://localhost:8080/"
        },
        "id": "QKqkqB35yIgl",
        "outputId": "851e24dc-9d85-4f09-86ed-5dd03154799f"
      },
      "execution_count": 181,
      "outputs": [
        {
          "output_type": "stream",
          "name": "stdout",
          "text": [
            "Plain Text :  RHT RPGCXKPA PI XXRI QJXASXCV HJHI XH VDXCV ID QT VGTPI PVPXC.\n"
          ]
        }
      ]
    },
    {
      "cell_type": "code",
      "source": [
        "# key = 7\n",
        "print(\"Plain Text : \",decryption(ciphertext,7))"
      ],
      "metadata": {
        "colab": {
          "base_uri": "https://localhost:8080/"
        },
        "id": "qRlLX1KyyLhT",
        "outputId": "52b36db6-3969-4700-adac-ec7ef63ff706"
      },
      "execution_count": 182,
      "outputs": [
        {
          "output_type": "stream",
          "name": "stdout",
          "text": [
            "Plain Text :  QGS QOFBWJOZ OH WWQH PIWZRWBU GIGH WG UCWBU HC PS UFSOH OUOWB.\n"
          ]
        }
      ]
    },
    {
      "cell_type": "code",
      "source": [
        "# key = 8\n",
        "print(\"Plain Text : \",decryption(ciphertext,8))"
      ],
      "metadata": {
        "colab": {
          "base_uri": "https://localhost:8080/"
        },
        "id": "gaHP2sApyOLb",
        "outputId": "75e9979e-2a70-441e-8555-9c2f461d014f"
      },
      "execution_count": 183,
      "outputs": [
        {
          "output_type": "stream",
          "name": "stdout",
          "text": [
            "Plain Text :  PFR PNEAVINY NG VVPG OHVYQVAT FHFG VF TBVAT GB OR TERNG NTNVA.\n"
          ]
        }
      ]
    },
    {
      "cell_type": "code",
      "source": [
        "# key = 9\n",
        "print(\"Plain Text : \",decryption(ciphertext,9))"
      ],
      "metadata": {
        "colab": {
          "base_uri": "https://localhost:8080/"
        },
        "id": "g_v_G0gayQbi",
        "outputId": "67210558-2899-4036-8628-0c50cbc81d86"
      },
      "execution_count": 184,
      "outputs": [
        {
          "output_type": "stream",
          "name": "stdout",
          "text": [
            "Plain Text :  OEQ OMDZUHMX MF UUOF NGUXPUZS EGEF UE SAUZS FA NQ SDQMF MSMUZ.\n"
          ]
        }
      ]
    },
    {
      "cell_type": "code",
      "source": [
        "# key = 10\n",
        "print(\"Plain Text : \",decryption(ciphertext,10))"
      ],
      "metadata": {
        "colab": {
          "base_uri": "https://localhost:8080/"
        },
        "id": "RlywALJFySTO",
        "outputId": "14cfe059-7526-477f-d972-b272e5e193d9"
      },
      "execution_count": 185,
      "outputs": [
        {
          "output_type": "stream",
          "name": "stdout",
          "text": [
            "Plain Text :  NDP NLCYTGLW LE TTNE MFTWOTYR DFDE TD RZTYR EZ MP RCPLE LRLTY.\n"
          ]
        }
      ]
    },
    {
      "cell_type": "code",
      "source": [
        "# key = 11\n",
        "print(\"Plain Text : \",decryption(ciphertext,11))"
      ],
      "metadata": {
        "colab": {
          "base_uri": "https://localhost:8080/"
        },
        "id": "893fMaiOyU3F",
        "outputId": "791e274c-e665-4eea-ef91-38d46c5bbeaa"
      },
      "execution_count": 186,
      "outputs": [
        {
          "output_type": "stream",
          "name": "stdout",
          "text": [
            "Plain Text :  MCO MKBXSFKV KD SSMD LESVNSXQ CECD SC QYSXQ DY LO QBOKD KQKSX.\n"
          ]
        }
      ]
    },
    {
      "cell_type": "code",
      "source": [
        "# key = 12\n",
        "print(\"Plain Text : \",decryption(ciphertext,12))"
      ],
      "metadata": {
        "colab": {
          "base_uri": "https://localhost:8080/"
        },
        "id": "CvYRtWpqyXD1",
        "outputId": "d01fc30b-eb55-46b2-9917-cd9fde6b21c7"
      },
      "execution_count": 187,
      "outputs": [
        {
          "output_type": "stream",
          "name": "stdout",
          "text": [
            "Plain Text :  LBN LJAWREJU JC RRLC KDRUMRWP BDBC RB PXRWP CX KN PANJC JPJRW.\n"
          ]
        }
      ]
    },
    {
      "cell_type": "code",
      "source": [
        "# key = 13\n",
        "print(\"Plain Text : \",decryption(ciphertext,13))"
      ],
      "metadata": {
        "colab": {
          "base_uri": "https://localhost:8080/"
        },
        "id": "gHohfg_ayZJv",
        "outputId": "e4d1eb1c-5eae-45d9-84d9-f8ecd9cca217"
      },
      "execution_count": 188,
      "outputs": [
        {
          "output_type": "stream",
          "name": "stdout",
          "text": [
            "Plain Text :  KAM KIZVQDIT IB QQKB JCQTLQVO ACAB QA OWQVO BW JM OZMIB IOIQV.\n"
          ]
        }
      ]
    },
    {
      "cell_type": "code",
      "source": [
        "# key = 14\n",
        "print(\"Plain Text : \",decryption(ciphertext,14))"
      ],
      "metadata": {
        "colab": {
          "base_uri": "https://localhost:8080/"
        },
        "id": "3u5V-5V7y0Hf",
        "outputId": "38fc83d1-0dec-43d6-e3c6-1c63f70fa668"
      },
      "execution_count": 189,
      "outputs": [
        {
          "output_type": "stream",
          "name": "stdout",
          "text": [
            "Plain Text :  JZL JHYUPCHS HA PPJA IBPSKPUN ZBZA PZ NVPUN AV IL NYLHA HNHPU.\n"
          ]
        }
      ]
    },
    {
      "cell_type": "code",
      "source": [
        "# key = 15\n",
        "print(\"Plain Text : \",decryption(ciphertext,15))"
      ],
      "metadata": {
        "colab": {
          "base_uri": "https://localhost:8080/"
        },
        "id": "0wA0JSGzy2xN",
        "outputId": "a5b1722a-5a3b-44a6-da98-6d57f7426cd2"
      },
      "execution_count": 190,
      "outputs": [
        {
          "output_type": "stream",
          "name": "stdout",
          "text": [
            "Plain Text :  IYK IGXTOBGR GZ OOIZ HAORJOTM YAYZ OY MUOTM ZU HK MXKGZ GMGOT.\n"
          ]
        }
      ]
    },
    {
      "cell_type": "code",
      "source": [
        "# key = 16\n",
        "print(\"Plain Text : \",decryption(ciphertext,16))"
      ],
      "metadata": {
        "colab": {
          "base_uri": "https://localhost:8080/"
        },
        "id": "ApGlUXmRy5cv",
        "outputId": "26aff29b-6184-429b-c33e-9b8efee14d8e"
      },
      "execution_count": 191,
      "outputs": [
        {
          "output_type": "stream",
          "name": "stdout",
          "text": [
            "Plain Text :  HXJ HFWSNAFQ FY NNHY GZNQINSL XZXY NX LTNSL YT GJ LWJFY FLFNS.\n"
          ]
        }
      ]
    },
    {
      "cell_type": "code",
      "source": [
        "# key = 17\n",
        "print(\"Plain Text : \",decryption(ciphertext,17))"
      ],
      "metadata": {
        "colab": {
          "base_uri": "https://localhost:8080/"
        },
        "id": "H_DvnRjWy7jv",
        "outputId": "61921108-ece9-4ecf-9795-3c3c0d9b3d50"
      },
      "execution_count": 192,
      "outputs": [
        {
          "output_type": "stream",
          "name": "stdout",
          "text": [
            "Plain Text :  GWI GEVRMZEP EX MMGX FYMPHMRK WYWX MW KSMRK XS FI KVIEX EKEMR.\n"
          ]
        }
      ]
    },
    {
      "cell_type": "code",
      "source": [
        "# key = 18\n",
        "print(\"Plain Text : \",decryption(ciphertext,18))"
      ],
      "metadata": {
        "colab": {
          "base_uri": "https://localhost:8080/"
        },
        "id": "S9oKMIEyy_Oy",
        "outputId": "e6fd1be5-2773-4351-bd13-106faf83f4b4"
      },
      "execution_count": 193,
      "outputs": [
        {
          "output_type": "stream",
          "name": "stdout",
          "text": [
            "Plain Text :  FVH FDUQLYDO DW LLFW EXLOGLQJ VXVW LV JRLQJ WR EH JUHDW DJDLQ.\n"
          ]
        }
      ]
    },
    {
      "cell_type": "code",
      "source": [
        "# key = 19\n",
        "print(\"Plain Text : \",decryption(ciphertext,19))"
      ],
      "metadata": {
        "colab": {
          "base_uri": "https://localhost:8080/"
        },
        "id": "YAka9PHKzCB7",
        "outputId": "7cf64e8a-9009-4963-cb2f-38a300ead613"
      },
      "execution_count": 194,
      "outputs": [
        {
          "output_type": "stream",
          "name": "stdout",
          "text": [
            "Plain Text :  EUG ECTPKXCN CV KKEV DWKNFKPI UWUV KU IQKPI VQ DG ITGCV CICKP.\n"
          ]
        }
      ]
    },
    {
      "cell_type": "code",
      "source": [
        "# key = 20\n",
        "print(\"Plain Text : \",decryption(ciphertext,20))"
      ],
      "metadata": {
        "colab": {
          "base_uri": "https://localhost:8080/"
        },
        "id": "dYkOYY8pzDtA",
        "outputId": "32ad026c-8414-48fa-a44b-70732cde5255"
      },
      "execution_count": 195,
      "outputs": [
        {
          "output_type": "stream",
          "name": "stdout",
          "text": [
            "Plain Text :  DTF DBSOJWBM BU JJDU CVJMEJOH TVTU JT HPJOH UP CF HSFBU BHBJO.\n"
          ]
        }
      ]
    },
    {
      "cell_type": "code",
      "source": [
        "# key = 21\n",
        "print(\"Plain Text : \",decryption(ciphertext,21))"
      ],
      "metadata": {
        "colab": {
          "base_uri": "https://localhost:8080/"
        },
        "id": "woZ_ltJozG1y",
        "outputId": "24d4e5a8-81bf-46c8-8c98-6a145a55606f"
      },
      "execution_count": 196,
      "outputs": [
        {
          "output_type": "stream",
          "name": "stdout",
          "text": [
            "Plain Text :  CSE CARNIVAL AT IICT BUILDING SUST IS GOING TO BE GREAT AGAIN.\n"
          ]
        }
      ]
    },
    {
      "cell_type": "markdown",
      "source": [
        "**when we use key 21, we are getting a sentence which is not a grabage**"
      ],
      "metadata": {
        "id": "v5dyxxBGz5aN"
      }
    },
    {
      "cell_type": "markdown",
      "source": [
        "**Task - 04**"
      ],
      "metadata": {
        "id": "glr5c6CXBqS7"
      }
    },
    {
      "cell_type": "code",
      "source": [
        "# key_string = \"AWESOME INTRODUCTION TO COMPUTER SECURITY AND FORENSICS\"\n",
        "key_string = \"GYBNQKURP\""
      ],
      "metadata": {
        "id": "VsLY8NB3BuTu"
      },
      "execution_count": 251,
      "outputs": []
    },
    {
      "cell_type": "code",
      "source": [
        "# key string without spaces\n",
        "key_string = key_string.replace(\" \",\"\")\n",
        "key_string"
      ],
      "metadata": {
        "colab": {
          "base_uri": "https://localhost:8080/",
          "height": 35
        },
        "id": "HL1rDrbECC8j",
        "outputId": "150c77ae-5326-480b-cdbf-5b9c0e79a103"
      },
      "execution_count": 252,
      "outputs": [
        {
          "output_type": "execute_result",
          "data": {
            "text/plain": [
              "'GYBNQKURP'"
            ],
            "application/vnd.google.colaboratory.intrinsic+json": {
              "type": "string"
            }
          },
          "metadata": {},
          "execution_count": 252
        }
      ]
    },
    {
      "cell_type": "code",
      "source": [
        "# calculating dimension of the key_string_ascii_matrix\n",
        "# we want mxm = n\n",
        "import math\n",
        "n = len(key_string)\n",
        "m = int(math.sqrt(n))\n",
        "m"
      ],
      "metadata": {
        "colab": {
          "base_uri": "https://localhost:8080/"
        },
        "id": "8B0En5DYCJw_",
        "outputId": "9ab70755-186c-4cf7-e14a-c1a690a3fa2b"
      },
      "execution_count": 253,
      "outputs": [
        {
          "output_type": "execute_result",
          "data": {
            "text/plain": [
              "3"
            ]
          },
          "metadata": {},
          "execution_count": 253
        }
      ]
    },
    {
      "cell_type": "code",
      "source": [
        "# calculating key_string_ascii_matrix\n",
        "import numpy as np\n",
        "key_string_ascii_matrix = np.zeros((m,m))\n",
        "cnt = 0\n",
        "for i in range(m):\n",
        "  for j in range(m):\n",
        "    key_string_ascii_matrix[i][j] = int(ord(key_string[cnt]))\n",
        "    cnt+=1\n",
        "key_string_ascii_matrix = key_string_ascii_matrix % 65\n",
        "key_string_ascii_matrix"
      ],
      "metadata": {
        "colab": {
          "base_uri": "https://localhost:8080/"
        },
        "id": "XthmEvTnCP-p",
        "outputId": "c50d9d7c-5357-4fdc-902e-a0d5a3c78735"
      },
      "execution_count": 254,
      "outputs": [
        {
          "output_type": "execute_result",
          "data": {
            "text/plain": [
              "array([[19., 11., 14.],\n",
              "       [ 0.,  3., 23.],\n",
              "       [ 7.,  4.,  2.]])"
            ]
          },
          "metadata": {},
          "execution_count": 254
        }
      ]
    },
    {
      "cell_type": "code",
      "source": [
        "# encryption function\n",
        "def encryption(plaintext):\n",
        "  plaintext = plaintext.replace(\" \",\"\")\n",
        "  n = len(plaintext)\n",
        "  # calculating plaintext_ascii_matrix\n",
        "  plaintext_ascii_matrix = np.zeros((n,1))\n",
        "  for i in range(n):\n",
        "    plaintext_ascii_matrix[i][0] = int(ord(plaintext[i]))\n",
        "  plaintext_ascii_matrix = plaintext_ascii_matrix % 65\n",
        "\n",
        "  # calculating ciphertext_ascii_matrix\n",
        "  ciphertext_ascii_matrix = np.dot(key_string_ascii_matrix, plaintext_ascii_matrix)\n",
        "  ciphertext_ascii_matrix = ciphertext_ascii_matrix % 26\n",
        "\n",
        "  # generating cipher text\n",
        "  ciphertext = \"\"\n",
        "  for i in range(n):\n",
        "    ciphertext += chr(int(ciphertext_ascii_matrix[i][0]) + ord('A'))\n",
        "  return ciphertext"
      ],
      "metadata": {
        "id": "Bjmhv_uhD6FA"
      },
      "execution_count": 255,
      "outputs": []
    },
    {
      "cell_type": "code",
      "source": [
        "# calling encryption function\n",
        "plaintext = input(\"enter plain text : \")\n",
        "ciphertext = encryption(plaintext)\n",
        "ciphertext_with_spaces = \"\"\n",
        "\n",
        "for char1,char2 in zip(plaintext, ciphertext):\n",
        "  if char1==' ':\n",
        "    ciphertext_with_spaces+=' '\n",
        "  ciphertext_with_spaces+=char2\n",
        "\n",
        "print(\"cipher text of given plain text : \", ciphertext_with_spaces)"
      ],
      "metadata": {
        "colab": {
          "base_uri": "https://localhost:8080/"
        },
        "id": "xKA2XAkgHGy-",
        "outputId": "d1a1b427-094b-4da5-8a7c-c9cdafb12327"
      },
      "execution_count": 256,
      "outputs": [
        {
          "output_type": "stream",
          "name": "stdout",
          "text": [
            "enter plain text : ACT\n",
            "cipher text of given plain text :  CBH\n"
          ]
        }
      ]
    },
    {
      "cell_type": "code",
      "source": [
        "# decryption function\n",
        "def decryption(ciphertext):\n",
        "  ciphertext = ciphertext.replace(\" \",\"\")\n",
        "  n = len(ciphertext)\n",
        "  # calculating ciphertext_ascii_matrix\n",
        "  ciphertext_ascii_matrix = np.zeros((n,1))\n",
        "  for i in range(n):\n",
        "    ciphertext_ascii_matrix[i][0] = int(ord(ciphertext[i]))\n",
        "  ciphertext_ascii_matrix = ciphertext_ascii_matrix % 65\n",
        "\n",
        "  # inverse of key_string_ascii_matrix\n",
        "  key_string_ascii_matrix_inv = np.linalg.inv(key_string_ascii_matrix)\n",
        "  key_string_ascii_matrix_inv = key_string_ascii_matrix_inv % 65\n",
        "\n",
        "  # calculating plaintext_ascii_matrix\n",
        "  plaintext_ascii_matrix = np.dot(key_string_ascii_matrix_inv, ciphertext_ascii_matrix)\n",
        "  plaintext_ascii_matrix = plaintext_ascii_matrix % 26\n",
        "\n",
        "  # generating plain text\n",
        "  plaintext = \"\"\n",
        "  for i in range(n):\n",
        "    plaintext += chr(int(plaintext_ascii_matrix[i][0]) + ord('A'))\n",
        "  return plaintext"
      ],
      "metadata": {
        "id": "1rm8voH1Hgm3"
      },
      "execution_count": 250,
      "outputs": []
    },
    {
      "cell_type": "code",
      "source": [
        "# calling decryption function\n",
        "ciphertext = input(\"enter cipher text : \")\n",
        "plaintext = decryption(ciphertext)\n",
        "plaintext_with_spaces = \"\"\n",
        "\n",
        "for char1,char2 in zip(ciphertext, plaintext):\n",
        "  if char1==' ':\n",
        "    plaintext_with_spaces+=' '\n",
        "  plaintext_with_spaces+=char2\n",
        "\n",
        "print(\"plain text of given plain text : \", plaintext_with_spaces)"
      ],
      "metadata": {
        "colab": {
          "base_uri": "https://localhost:8080/"
        },
        "id": "1JDvEU2zL8lb",
        "outputId": "f8a87da1-6eb4-4f3f-cedd-e746285eea1a"
      },
      "execution_count": 257,
      "outputs": [
        {
          "output_type": "stream",
          "name": "stdout",
          "text": [
            "enter cipher text : CBH\n",
            "plain text of given plain text :  RRX\n"
          ]
        }
      ]
    },
    {
      "cell_type": "code",
      "source": [],
      "metadata": {
        "id": "Xljy5Y2bMQE-"
      },
      "execution_count": 204,
      "outputs": []
    }
  ]
}