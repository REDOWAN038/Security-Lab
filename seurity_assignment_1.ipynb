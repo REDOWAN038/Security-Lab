{
  "nbformat": 4,
  "nbformat_minor": 0,
  "metadata": {
    "colab": {
      "provenance": [],
      "authorship_tag": "ABX9TyMV1cYwnGkAlivuAOEacrmt",
      "include_colab_link": true
    },
    "kernelspec": {
      "name": "python3",
      "display_name": "Python 3"
    },
    "language_info": {
      "name": "python"
    }
  },
  "cells": [
    {
      "cell_type": "markdown",
      "metadata": {
        "id": "view-in-github",
        "colab_type": "text"
      },
      "source": [
        "<a href=\"https://colab.research.google.com/github/REDOWAN038/Security-Lab/blob/main/seurity_assignment_1.ipynb\" target=\"_parent\"><img src=\"https://colab.research.google.com/assets/colab-badge.svg\" alt=\"Open In Colab\"/></a>"
      ]
    },
    {
      "cell_type": "markdown",
      "source": [
        "**Task - 01(A)**"
      ],
      "metadata": {
        "id": "ju8bFe3btyPU"
      }
    },
    {
      "cell_type": "code",
      "source": [
        "def decryption(ciphertext,key):\n",
        "    plaintext = \"\"\n",
        "    for i in range(len(ciphertext)):\n",
        "        ch = ciphertext[i]\n",
        "        if(ch.isupper()):\n",
        "            plaintext += chr((ord(ch) - (key-65)) % 26 + 65)\n",
        "        elif(ch.islower()):\n",
        "            plaintext += chr((ord(ch) - (key-97)) % 26 + 97)\n",
        "        else:\n",
        "          plaintext+=ch\n",
        "    return plaintext"
      ],
      "metadata": {
        "id": "RO0Ra9Wzt29T"
      },
      "execution_count": null,
      "outputs": []
    },
    {
      "cell_type": "markdown",
      "source": [
        "**Task - 01(B)**"
      ],
      "metadata": {
        "id": "sVyE9eNc2gE_"
      }
    },
    {
      "cell_type": "code",
      "source": [
        "ciphertext = \"XNZ XVMIDQVG VO DDXO WPDGYDIB NPNO DN BJDIB OJ WZ BMZVO VBVDI.\""
      ],
      "metadata": {
        "id": "2omhU80puf-Y"
      },
      "execution_count": null,
      "outputs": []
    },
    {
      "cell_type": "code",
      "source": [
        "# key = 1\n",
        "print(\"Plain Text : \",decryption(ciphertext,1))"
      ],
      "metadata": {
        "colab": {
          "base_uri": "https://localhost:8080/"
        },
        "id": "KwGi44gHvC1f",
        "outputId": "f70b4c10-d413-4ab7-a43a-7518840b246c"
      },
      "execution_count": null,
      "outputs": [
        {
          "output_type": "stream",
          "name": "stdout",
          "text": [
            "Plain Text :  WMY WULHCPUF UN CCWN VOCFXCHA MOMN CM AICHA NI VY ALYUN UAUCH.\n"
          ]
        }
      ]
    },
    {
      "cell_type": "code",
      "source": [
        "# key = 2\n",
        "print(\"Plain Text : \",decryption(ciphertext,2))"
      ],
      "metadata": {
        "colab": {
          "base_uri": "https://localhost:8080/"
        },
        "id": "R6sMOzn1x9kH",
        "outputId": "3e30a92d-3ce0-4acc-b82d-df89e820f48d"
      },
      "execution_count": null,
      "outputs": [
        {
          "output_type": "stream",
          "name": "stdout",
          "text": [
            "Plain Text :  VLX VTKGBOTE TM BBVM UNBEWBGZ LNLM BL ZHBGZ MH UX ZKXTM TZTBG.\n"
          ]
        }
      ]
    },
    {
      "cell_type": "code",
      "source": [
        "# key = 3\n",
        "print(\"Plain Text : \",decryption(ciphertext,3))"
      ],
      "metadata": {
        "colab": {
          "base_uri": "https://localhost:8080/"
        },
        "id": "FwNGNNwWyAob",
        "outputId": "66d0a219-033d-48b7-d061-fdf090774db3"
      },
      "execution_count": null,
      "outputs": [
        {
          "output_type": "stream",
          "name": "stdout",
          "text": [
            "Plain Text :  UKW USJFANSD SL AAUL TMADVAFY KMKL AK YGAFY LG TW YJWSL SYSAF.\n"
          ]
        }
      ]
    },
    {
      "cell_type": "code",
      "source": [
        "# key = 4\n",
        "print(\"Plain Text : \",decryption(ciphertext,4))"
      ],
      "metadata": {
        "colab": {
          "base_uri": "https://localhost:8080/"
        },
        "id": "R1D0wPagyDOZ",
        "outputId": "f6dfdb92-943f-455c-992c-46cb8243bd68"
      },
      "execution_count": null,
      "outputs": [
        {
          "output_type": "stream",
          "name": "stdout",
          "text": [
            "Plain Text :  TJV TRIEZMRC RK ZZTK SLZCUZEX JLJK ZJ XFZEX KF SV XIVRK RXRZE.\n"
          ]
        }
      ]
    },
    {
      "cell_type": "code",
      "source": [
        "# key = 5\n",
        "print(\"Plain Text : \",decryption(ciphertext,5))"
      ],
      "metadata": {
        "colab": {
          "base_uri": "https://localhost:8080/"
        },
        "id": "S38H9YAOyGBh",
        "outputId": "8e75ae2a-18a8-4892-a0d1-52ef73d87e36"
      },
      "execution_count": null,
      "outputs": [
        {
          "output_type": "stream",
          "name": "stdout",
          "text": [
            "Plain Text :  SIU SQHDYLQB QJ YYSJ RKYBTYDW IKIJ YI WEYDW JE RU WHUQJ QWQYD.\n"
          ]
        }
      ]
    },
    {
      "cell_type": "code",
      "source": [
        "# key = 6\n",
        "print(\"Plain Text : \",decryption(ciphertext,6))"
      ],
      "metadata": {
        "colab": {
          "base_uri": "https://localhost:8080/"
        },
        "id": "QKqkqB35yIgl",
        "outputId": "851e24dc-9d85-4f09-86ed-5dd03154799f"
      },
      "execution_count": null,
      "outputs": [
        {
          "output_type": "stream",
          "name": "stdout",
          "text": [
            "Plain Text :  RHT RPGCXKPA PI XXRI QJXASXCV HJHI XH VDXCV ID QT VGTPI PVPXC.\n"
          ]
        }
      ]
    },
    {
      "cell_type": "code",
      "source": [
        "# key = 7\n",
        "print(\"Plain Text : \",decryption(ciphertext,7))"
      ],
      "metadata": {
        "colab": {
          "base_uri": "https://localhost:8080/"
        },
        "id": "qRlLX1KyyLhT",
        "outputId": "52b36db6-3969-4700-adac-ec7ef63ff706"
      },
      "execution_count": null,
      "outputs": [
        {
          "output_type": "stream",
          "name": "stdout",
          "text": [
            "Plain Text :  QGS QOFBWJOZ OH WWQH PIWZRWBU GIGH WG UCWBU HC PS UFSOH OUOWB.\n"
          ]
        }
      ]
    },
    {
      "cell_type": "code",
      "source": [
        "# key = 8\n",
        "print(\"Plain Text : \",decryption(ciphertext,8))"
      ],
      "metadata": {
        "colab": {
          "base_uri": "https://localhost:8080/"
        },
        "id": "gaHP2sApyOLb",
        "outputId": "75e9979e-2a70-441e-8555-9c2f461d014f"
      },
      "execution_count": null,
      "outputs": [
        {
          "output_type": "stream",
          "name": "stdout",
          "text": [
            "Plain Text :  PFR PNEAVINY NG VVPG OHVYQVAT FHFG VF TBVAT GB OR TERNG NTNVA.\n"
          ]
        }
      ]
    },
    {
      "cell_type": "code",
      "source": [
        "# key = 9\n",
        "print(\"Plain Text : \",decryption(ciphertext,9))"
      ],
      "metadata": {
        "colab": {
          "base_uri": "https://localhost:8080/"
        },
        "id": "g_v_G0gayQbi",
        "outputId": "67210558-2899-4036-8628-0c50cbc81d86"
      },
      "execution_count": null,
      "outputs": [
        {
          "output_type": "stream",
          "name": "stdout",
          "text": [
            "Plain Text :  OEQ OMDZUHMX MF UUOF NGUXPUZS EGEF UE SAUZS FA NQ SDQMF MSMUZ.\n"
          ]
        }
      ]
    },
    {
      "cell_type": "code",
      "source": [
        "# key = 10\n",
        "print(\"Plain Text : \",decryption(ciphertext,10))"
      ],
      "metadata": {
        "colab": {
          "base_uri": "https://localhost:8080/"
        },
        "id": "RlywALJFySTO",
        "outputId": "14cfe059-7526-477f-d972-b272e5e193d9"
      },
      "execution_count": null,
      "outputs": [
        {
          "output_type": "stream",
          "name": "stdout",
          "text": [
            "Plain Text :  NDP NLCYTGLW LE TTNE MFTWOTYR DFDE TD RZTYR EZ MP RCPLE LRLTY.\n"
          ]
        }
      ]
    },
    {
      "cell_type": "code",
      "source": [
        "# key = 11\n",
        "print(\"Plain Text : \",decryption(ciphertext,11))"
      ],
      "metadata": {
        "colab": {
          "base_uri": "https://localhost:8080/"
        },
        "id": "893fMaiOyU3F",
        "outputId": "791e274c-e665-4eea-ef91-38d46c5bbeaa"
      },
      "execution_count": null,
      "outputs": [
        {
          "output_type": "stream",
          "name": "stdout",
          "text": [
            "Plain Text :  MCO MKBXSFKV KD SSMD LESVNSXQ CECD SC QYSXQ DY LO QBOKD KQKSX.\n"
          ]
        }
      ]
    },
    {
      "cell_type": "code",
      "source": [
        "# key = 12\n",
        "print(\"Plain Text : \",decryption(ciphertext,12))"
      ],
      "metadata": {
        "colab": {
          "base_uri": "https://localhost:8080/"
        },
        "id": "CvYRtWpqyXD1",
        "outputId": "d01fc30b-eb55-46b2-9917-cd9fde6b21c7"
      },
      "execution_count": null,
      "outputs": [
        {
          "output_type": "stream",
          "name": "stdout",
          "text": [
            "Plain Text :  LBN LJAWREJU JC RRLC KDRUMRWP BDBC RB PXRWP CX KN PANJC JPJRW.\n"
          ]
        }
      ]
    },
    {
      "cell_type": "code",
      "source": [
        "# key = 13\n",
        "print(\"Plain Text : \",decryption(ciphertext,13))"
      ],
      "metadata": {
        "colab": {
          "base_uri": "https://localhost:8080/"
        },
        "id": "gHohfg_ayZJv",
        "outputId": "e4d1eb1c-5eae-45d9-84d9-f8ecd9cca217"
      },
      "execution_count": null,
      "outputs": [
        {
          "output_type": "stream",
          "name": "stdout",
          "text": [
            "Plain Text :  KAM KIZVQDIT IB QQKB JCQTLQVO ACAB QA OWQVO BW JM OZMIB IOIQV.\n"
          ]
        }
      ]
    },
    {
      "cell_type": "code",
      "source": [
        "# key = 14\n",
        "print(\"Plain Text : \",decryption(ciphertext,14))"
      ],
      "metadata": {
        "colab": {
          "base_uri": "https://localhost:8080/"
        },
        "id": "3u5V-5V7y0Hf",
        "outputId": "38fc83d1-0dec-43d6-e3c6-1c63f70fa668"
      },
      "execution_count": null,
      "outputs": [
        {
          "output_type": "stream",
          "name": "stdout",
          "text": [
            "Plain Text :  JZL JHYUPCHS HA PPJA IBPSKPUN ZBZA PZ NVPUN AV IL NYLHA HNHPU.\n"
          ]
        }
      ]
    },
    {
      "cell_type": "code",
      "source": [
        "# key = 15\n",
        "print(\"Plain Text : \",decryption(ciphertext,15))"
      ],
      "metadata": {
        "colab": {
          "base_uri": "https://localhost:8080/"
        },
        "id": "0wA0JSGzy2xN",
        "outputId": "a5b1722a-5a3b-44a6-da98-6d57f7426cd2"
      },
      "execution_count": null,
      "outputs": [
        {
          "output_type": "stream",
          "name": "stdout",
          "text": [
            "Plain Text :  IYK IGXTOBGR GZ OOIZ HAORJOTM YAYZ OY MUOTM ZU HK MXKGZ GMGOT.\n"
          ]
        }
      ]
    },
    {
      "cell_type": "code",
      "source": [
        "# key = 16\n",
        "print(\"Plain Text : \",decryption(ciphertext,16))"
      ],
      "metadata": {
        "colab": {
          "base_uri": "https://localhost:8080/"
        },
        "id": "ApGlUXmRy5cv",
        "outputId": "26aff29b-6184-429b-c33e-9b8efee14d8e"
      },
      "execution_count": null,
      "outputs": [
        {
          "output_type": "stream",
          "name": "stdout",
          "text": [
            "Plain Text :  HXJ HFWSNAFQ FY NNHY GZNQINSL XZXY NX LTNSL YT GJ LWJFY FLFNS.\n"
          ]
        }
      ]
    },
    {
      "cell_type": "code",
      "source": [
        "# key = 17\n",
        "print(\"Plain Text : \",decryption(ciphertext,17))"
      ],
      "metadata": {
        "colab": {
          "base_uri": "https://localhost:8080/"
        },
        "id": "H_DvnRjWy7jv",
        "outputId": "61921108-ece9-4ecf-9795-3c3c0d9b3d50"
      },
      "execution_count": null,
      "outputs": [
        {
          "output_type": "stream",
          "name": "stdout",
          "text": [
            "Plain Text :  GWI GEVRMZEP EX MMGX FYMPHMRK WYWX MW KSMRK XS FI KVIEX EKEMR.\n"
          ]
        }
      ]
    },
    {
      "cell_type": "code",
      "source": [
        "# key = 18\n",
        "print(\"Plain Text : \",decryption(ciphertext,18))"
      ],
      "metadata": {
        "colab": {
          "base_uri": "https://localhost:8080/"
        },
        "id": "S9oKMIEyy_Oy",
        "outputId": "e6fd1be5-2773-4351-bd13-106faf83f4b4"
      },
      "execution_count": null,
      "outputs": [
        {
          "output_type": "stream",
          "name": "stdout",
          "text": [
            "Plain Text :  FVH FDUQLYDO DW LLFW EXLOGLQJ VXVW LV JRLQJ WR EH JUHDW DJDLQ.\n"
          ]
        }
      ]
    },
    {
      "cell_type": "code",
      "source": [
        "# key = 19\n",
        "print(\"Plain Text : \",decryption(ciphertext,19))"
      ],
      "metadata": {
        "colab": {
          "base_uri": "https://localhost:8080/"
        },
        "id": "YAka9PHKzCB7",
        "outputId": "7cf64e8a-9009-4963-cb2f-38a300ead613"
      },
      "execution_count": null,
      "outputs": [
        {
          "output_type": "stream",
          "name": "stdout",
          "text": [
            "Plain Text :  EUG ECTPKXCN CV KKEV DWKNFKPI UWUV KU IQKPI VQ DG ITGCV CICKP.\n"
          ]
        }
      ]
    },
    {
      "cell_type": "code",
      "source": [
        "# key = 20\n",
        "print(\"Plain Text : \",decryption(ciphertext,20))"
      ],
      "metadata": {
        "colab": {
          "base_uri": "https://localhost:8080/"
        },
        "id": "dYkOYY8pzDtA",
        "outputId": "32ad026c-8414-48fa-a44b-70732cde5255"
      },
      "execution_count": null,
      "outputs": [
        {
          "output_type": "stream",
          "name": "stdout",
          "text": [
            "Plain Text :  DTF DBSOJWBM BU JJDU CVJMEJOH TVTU JT HPJOH UP CF HSFBU BHBJO.\n"
          ]
        }
      ]
    },
    {
      "cell_type": "code",
      "source": [
        "# key = 21\n",
        "print(\"Plain Text : \",decryption(ciphertext,21))"
      ],
      "metadata": {
        "colab": {
          "base_uri": "https://localhost:8080/"
        },
        "id": "woZ_ltJozG1y",
        "outputId": "24d4e5a8-81bf-46c8-8c98-6a145a55606f"
      },
      "execution_count": null,
      "outputs": [
        {
          "output_type": "stream",
          "name": "stdout",
          "text": [
            "Plain Text :  CSE CARNIVAL AT IICT BUILDING SUST IS GOING TO BE GREAT AGAIN.\n"
          ]
        }
      ]
    },
    {
      "cell_type": "markdown",
      "source": [
        "**when we use key 21, we are getting a sentence which is not a grabage**"
      ],
      "metadata": {
        "id": "v5dyxxBGz5aN"
      }
    },
    {
      "cell_type": "markdown",
      "source": [
        "**Task - 02(a)**"
      ],
      "metadata": {
        "id": "OZouv1O47U1n"
      }
    },
    {
      "cell_type": "code",
      "source": [
        "# function for substitution cipher\n",
        "\n",
        "def substitution_cipher(ciphertext, mapping):\n",
        "  plaintext = \"\"\n",
        "  for c in ciphertext:\n",
        "    if c.isalpha():\n",
        "      if c in mapping:\n",
        "        plaintext+=mapping[c]\n",
        "      else:\n",
        "        plaintext+='*'\n",
        "    else:\n",
        "      plaintext+=c\n",
        "\n",
        "  return plaintext"
      ],
      "metadata": {
        "id": "g_ccuFzx7-PA"
      },
      "execution_count": 12,
      "outputs": []
    },
    {
      "cell_type": "code",
      "source": [
        "# printing plaintext and ciphertext\n",
        "\n",
        "def print_result(text, words_per_line):\n",
        "  cnt=0\n",
        "  for c in text:\n",
        "    print(c, end='')\n",
        "    if(c==' '):\n",
        "      cnt+=1\n",
        "    if(cnt==words_per_line):\n",
        "      print(\"\\n\")\n",
        "      cnt=0\n",
        "\n",
        "  print(\"\\n\\n\")"
      ],
      "metadata": {
        "id": "oZjQGkYw8r93"
      },
      "execution_count": 14,
      "outputs": []
    },
    {
      "cell_type": "code",
      "source": [
        "from collections import Counter\n",
        "\n",
        "def calc_frequency(text):\n",
        "    frequency = Counter(text)\n",
        "    sorted_characters = sorted(frequency.items(), key=lambda x: x[1], reverse=True)\n",
        "\n",
        "    for char, freq in sorted_characters:\n",
        "        print(f\"Character: {char}, Frequency: {freq}\")"
      ],
      "metadata": {
        "id": "jtSFxJ_d-RGK"
      },
      "execution_count": 13,
      "outputs": []
    },
    {
      "cell_type": "code",
      "source": [
        "ciphertext = \"gtd bsvgl vf fgedsugt dffml dkcymvsf gtmg gtd chjde ha aevdsxftvc tdycf \\\n",
        "bf gh id fgehsu aehz tmexftvcf. aevdsxf qms uvod bf gtd fgedsugt jd sddx \\\n",
        "jtds yvad udgf ghbut. vs mxxvgvhs, cdhcyd dkcedff bsvgl gtehbut \\\n",
        "yhod,amzvyl, aevdsxf, msx hgtdef ftmed fghevdf ha avsxvsu qhzzhs \\\n",
        "uehbsx jvgt fhzdhsd.gtded med zmsl idsdavgf ha fgmlvsu bsvgdx vs \\\n",
        "ghbut gvzdf, mf vg tdycf gh amqd qtmyydsuvsu fvgbmgvhsf jvgt \\\n",
        "qhbemud. gtd vzchegmsqd ha fgmlvsu bsvgdx tmf fgebqp m qthex mzhsu \\\n",
        "zmsl cdhcyd gtehbuthbg tvfghel.pddcvsu zdzhevdf ha jtmg jd tmod \\\n",
        "mqqhzcyvftdx gtehbuthbg tvfghel qms tdyc bf fdd thj vsxvovxbmyf msx \\\n",
        "qhzzbsvgvdf tmod cdefdodedx gtehbut ghbut gvzdf msx vsgh m ievutgde \\\n",
        "abgbed.\"\n",
        "\n",
        "mapping = {}\n",
        "words_per_line = 10\n",
        "plaintext = substitution_cipher(ciphertext, mapping)\n",
        "print_result(ciphertext, words_per_line)\n",
        "print_result(plaintext, words_per_line)"
      ],
      "metadata": {
        "colab": {
          "base_uri": "https://localhost:8080/"
        },
        "id": "B7w1_MAs7Z0C",
        "outputId": "26d3e55e-6ace-46f4-820e-f8a5a4ce2009"
      },
      "execution_count": 15,
      "outputs": [
        {
          "output_type": "stream",
          "name": "stdout",
          "text": [
            "gtd bsvgl vf fgedsugt dffml dkcymvsf gtmg gtd chjde ha \n",
            "\n",
            "aevdsxftvc tdycf bf gh id fgehsu aehz tmexftvcf. aevdsxf qms \n",
            "\n",
            "uvod bf gtd fgedsugt jd sddx jtds yvad udgf ghbut. \n",
            "\n",
            "vs mxxvgvhs, cdhcyd dkcedff bsvgl gtehbut yhod,amzvyl, aevdsxf, msx hgtdef \n",
            "\n",
            "ftmed fghevdf ha avsxvsu qhzzhs uehbsx jvgt fhzdhsd.gtded med zmsl \n",
            "\n",
            "idsdavgf ha fgmlvsu bsvgdx vs ghbut gvzdf, mf vg tdycf \n",
            "\n",
            "gh amqd qtmyydsuvsu fvgbmgvhsf jvgt qhbemud. gtd vzchegmsqd ha fgmlvsu \n",
            "\n",
            "bsvgdx tmf fgebqp m qthex mzhsu zmsl cdhcyd gtehbuthbg tvfghel.pddcvsu \n",
            "\n",
            "zdzhevdf ha jtmg jd tmod mqqhzcyvftdx gtehbuthbg tvfghel qms tdyc \n",
            "\n",
            "bf fdd thj vsxvovxbmyf msx qhzzbsvgvdf tmod cdefdodedx gtehbut ghbut \n",
            "\n",
            "gvzdf msx vsgh m ievutgde abgbed.\n",
            "\n",
            "\n",
            "*** ***** ** ******** ***** ******** **** *** ***** ** \n",
            "\n",
            "********** ***** ** ** ** ****** **** *********. ******* *** \n",
            "\n",
            "**** ** *** ******** ** **** **** **** **** *****. \n",
            "\n",
            "** ********, ****** ******* ***** ******* ****,******, *******, *** ****** \n",
            "\n",
            "***** ******* ** ******* ****** ****** **** *******.***** *** **** \n",
            "\n",
            "******** ** ******* ****** ** ***** *****, ** ** ***** \n",
            "\n",
            "** **** *********** ********** **** *******. *** ********** ** ******* \n",
            "\n",
            "****** *** ****** * ***** ***** **** ****** ********** *******.******* \n",
            "\n",
            "******** ** **** ** **** ************ ********** ******* *** **** \n",
            "\n",
            "** *** *** *********** *** *********** **** ********** ******* ***** \n",
            "\n",
            "***** *** **** * ******** ******.\n",
            "\n",
            "\n"
          ]
        }
      ]
    },
    {
      "cell_type": "code",
      "source": [
        "calc_frequency(ciphertext)"
      ],
      "metadata": {
        "colab": {
          "base_uri": "https://localhost:8080/"
        },
        "id": "zTKqY1OO-KMb",
        "outputId": "ffd89942-872b-4244-9163-fc47bbf6e023"
      },
      "execution_count": 16,
      "outputs": [
        {
          "output_type": "stream",
          "name": "stdout",
          "text": [
            "Character:  , Frequency: 105\n",
            "Character: d, Frequency: 65\n",
            "Character: g, Frequency: 50\n",
            "Character: v, Frequency: 45\n",
            "Character: f, Frequency: 43\n",
            "Character: h, Frequency: 42\n",
            "Character: t, Frequency: 41\n",
            "Character: s, Frequency: 40\n",
            "Character: e, Frequency: 32\n",
            "Character: m, Frequency: 32\n",
            "Character: b, Frequency: 24\n",
            "Character: u, Frequency: 22\n",
            "Character: x, Frequency: 19\n",
            "Character: c, Frequency: 16\n",
            "Character: z, Frequency: 16\n",
            "Character: a, Frequency: 15\n",
            "Character: y, Frequency: 13\n",
            "Character: q, Frequency: 12\n",
            "Character: l, Frequency: 10\n",
            "Character: j, Frequency: 8\n",
            "Character: ., Frequency: 6\n",
            "Character: o, Frequency: 6\n",
            "Character: ,, Frequency: 5\n",
            "Character: i, Frequency: 3\n",
            "Character: k, Frequency: 2\n",
            "Character: p, Frequency: 2\n"
          ]
        }
      ]
    },
    {
      "cell_type": "code",
      "source": [
        "# here we can see that character \"m\" is a single letter word. let's use 'a' for 'm'\n",
        "mapping = {'m':'a'}\n",
        "words_per_line = 10\n",
        "plaintext = substitution_cipher(ciphertext, mapping)\n",
        "print_result(ciphertext, words_per_line)\n",
        "print_result(plaintext, words_per_line)"
      ],
      "metadata": {
        "colab": {
          "base_uri": "https://localhost:8080/"
        },
        "id": "yUeVYNe7Agyt",
        "outputId": "2b4225a5-f763-437c-fda6-a18c85fe3fcd"
      },
      "execution_count": 17,
      "outputs": [
        {
          "output_type": "stream",
          "name": "stdout",
          "text": [
            "gtd bsvgl vf fgedsugt dffml dkcymvsf gtmg gtd chjde ha \n",
            "\n",
            "aevdsxftvc tdycf bf gh id fgehsu aehz tmexftvcf. aevdsxf qms \n",
            "\n",
            "uvod bf gtd fgedsugt jd sddx jtds yvad udgf ghbut. \n",
            "\n",
            "vs mxxvgvhs, cdhcyd dkcedff bsvgl gtehbut yhod,amzvyl, aevdsxf, msx hgtdef \n",
            "\n",
            "ftmed fghevdf ha avsxvsu qhzzhs uehbsx jvgt fhzdhsd.gtded med zmsl \n",
            "\n",
            "idsdavgf ha fgmlvsu bsvgdx vs ghbut gvzdf, mf vg tdycf \n",
            "\n",
            "gh amqd qtmyydsuvsu fvgbmgvhsf jvgt qhbemud. gtd vzchegmsqd ha fgmlvsu \n",
            "\n",
            "bsvgdx tmf fgebqp m qthex mzhsu zmsl cdhcyd gtehbuthbg tvfghel.pddcvsu \n",
            "\n",
            "zdzhevdf ha jtmg jd tmod mqqhzcyvftdx gtehbuthbg tvfghel qms tdyc \n",
            "\n",
            "bf fdd thj vsxvovxbmyf msx qhzzbsvgvdf tmod cdefdodedx gtehbut ghbut \n",
            "\n",
            "gvzdf msx vsgh m ievutgde abgbed.\n",
            "\n",
            "\n",
            "*** ***** ** ******** ***a* ****a*** **a* *** ***** ** \n",
            "\n",
            "********** ***** ** ** ** ****** **** *a*******. ******* *a* \n",
            "\n",
            "**** ** *** ******** ** **** **** **** **** *****. \n",
            "\n",
            "** a*******, ****** ******* ***** ******* ****,*a****, *******, a** ****** \n",
            "\n",
            "**a** ******* ** ******* ****** ****** **** *******.***** a** *a** \n",
            "\n",
            "******** ** **a**** ****** ** ***** *****, a* ** ***** \n",
            "\n",
            "** *a** **a******** ****a***** **** ****a**. *** ******a*** ** **a**** \n",
            "\n",
            "****** *a* ****** a ***** a**** *a** ****** ********** *******.******* \n",
            "\n",
            "******** ** **a* ** *a** a*********** ********** ******* *a* **** \n",
            "\n",
            "** *** *** ********a** a** *********** *a** ********** ******* ***** \n",
            "\n",
            "***** a** **** a ******** ******.\n",
            "\n",
            "\n"
          ]
        }
      ]
    },
    {
      "cell_type": "code",
      "source": [
        "# in line 6, word no 8, we are seeing a two letter word. from given hints we can consider the word as \"as\"\n",
        "\n",
        "mapping = {'m':'a', 'f':'s'}\n",
        "words_per_line = 10\n",
        "plaintext = substitution_cipher(ciphertext, mapping)\n",
        "print_result(ciphertext, words_per_line)\n",
        "print_result(plaintext, words_per_line)"
      ],
      "metadata": {
        "colab": {
          "base_uri": "https://localhost:8080/"
        },
        "id": "aTQF3InmBBEi",
        "outputId": "469070c9-bb00-4190-8cb4-beecbc5ac372"
      },
      "execution_count": 18,
      "outputs": [
        {
          "output_type": "stream",
          "name": "stdout",
          "text": [
            "gtd bsvgl vf fgedsugt dffml dkcymvsf gtmg gtd chjde ha \n",
            "\n",
            "aevdsxftvc tdycf bf gh id fgehsu aehz tmexftvcf. aevdsxf qms \n",
            "\n",
            "uvod bf gtd fgedsugt jd sddx jtds yvad udgf ghbut. \n",
            "\n",
            "vs mxxvgvhs, cdhcyd dkcedff bsvgl gtehbut yhod,amzvyl, aevdsxf, msx hgtdef \n",
            "\n",
            "ftmed fghevdf ha avsxvsu qhzzhs uehbsx jvgt fhzdhsd.gtded med zmsl \n",
            "\n",
            "idsdavgf ha fgmlvsu bsvgdx vs ghbut gvzdf, mf vg tdycf \n",
            "\n",
            "gh amqd qtmyydsuvsu fvgbmgvhsf jvgt qhbemud. gtd vzchegmsqd ha fgmlvsu \n",
            "\n",
            "bsvgdx tmf fgebqp m qthex mzhsu zmsl cdhcyd gtehbuthbg tvfghel.pddcvsu \n",
            "\n",
            "zdzhevdf ha jtmg jd tmod mqqhzcyvftdx gtehbuthbg tvfghel qms tdyc \n",
            "\n",
            "bf fdd thj vsxvovxbmyf msx qhzzbsvgvdf tmod cdefdodedx gtehbut ghbut \n",
            "\n",
            "gvzdf msx vsgh m ievutgde abgbed.\n",
            "\n",
            "\n",
            "*** ***** *s s******* *ssa* ****a**s **a* *** ***** ** \n",
            "\n",
            "******s*** ****s *s ** ** s***** **** *a**s***s. ******s *a* \n",
            "\n",
            "**** *s *** s******* ** **** **** **** ***s *****. \n",
            "\n",
            "** a*******, ****** *****ss ***** ******* ****,*a****, ******s, a** *****s \n",
            "\n",
            "s*a** s*****s ** ******* ****** ****** **** s******.***** a** *a** \n",
            "\n",
            "*******s ** s*a**** ****** ** ***** ****s, as ** ****s \n",
            "\n",
            "** *a** **a******** s***a****s **** ****a**. *** ******a*** ** s*a**** \n",
            "\n",
            "****** *as s***** a ***** a**** *a** ****** ********** **s****.******* \n",
            "\n",
            "*******s ** **a* ** *a** a*******s*** ********** **s**** *a* **** \n",
            "\n",
            "*s s** *** ********a*s a** **********s *a** ***s****** ******* ***** \n",
            "\n",
            "****s a** **** a ******** ******.\n",
            "\n",
            "\n"
          ]
        }
      ]
    },
    {
      "cell_type": "code",
      "source": [
        "# in line 1, word no 3, we are seeing a two letter word. from given hints we can consider the word as \"is\"\n",
        "\n",
        "mapping = {'m':'a', 'f':'s', 'v':'i'}\n",
        "words_per_line = 10\n",
        "plaintext = substitution_cipher(ciphertext, mapping)\n",
        "print_result(ciphertext, words_per_line)\n",
        "print_result(plaintext, words_per_line)"
      ],
      "metadata": {
        "colab": {
          "base_uri": "https://localhost:8080/"
        },
        "id": "HFHRkEsrCGGl",
        "outputId": "a6e25586-e649-4cc0-bcee-974aa9d397e7"
      },
      "execution_count": 19,
      "outputs": [
        {
          "output_type": "stream",
          "name": "stdout",
          "text": [
            "gtd bsvgl vf fgedsugt dffml dkcymvsf gtmg gtd chjde ha \n",
            "\n",
            "aevdsxftvc tdycf bf gh id fgehsu aehz tmexftvcf. aevdsxf qms \n",
            "\n",
            "uvod bf gtd fgedsugt jd sddx jtds yvad udgf ghbut. \n",
            "\n",
            "vs mxxvgvhs, cdhcyd dkcedff bsvgl gtehbut yhod,amzvyl, aevdsxf, msx hgtdef \n",
            "\n",
            "ftmed fghevdf ha avsxvsu qhzzhs uehbsx jvgt fhzdhsd.gtded med zmsl \n",
            "\n",
            "idsdavgf ha fgmlvsu bsvgdx vs ghbut gvzdf, mf vg tdycf \n",
            "\n",
            "gh amqd qtmyydsuvsu fvgbmgvhsf jvgt qhbemud. gtd vzchegmsqd ha fgmlvsu \n",
            "\n",
            "bsvgdx tmf fgebqp m qthex mzhsu zmsl cdhcyd gtehbuthbg tvfghel.pddcvsu \n",
            "\n",
            "zdzhevdf ha jtmg jd tmod mqqhzcyvftdx gtehbuthbg tvfghel qms tdyc \n",
            "\n",
            "bf fdd thj vsxvovxbmyf msx qhzzbsvgvdf tmod cdefdodedx gtehbut ghbut \n",
            "\n",
            "gvzdf msx vsgh m ievutgde abgbed.\n",
            "\n",
            "\n",
            "*** **i** is s******* *ssa* ****ai*s **a* *** ***** ** \n",
            "\n",
            "**i***s*i* ****s *s ** ** s***** **** *a**s*i*s. **i***s *a* \n",
            "\n",
            "*i** *s *** s******* ** **** **** *i** ***s *****. \n",
            "\n",
            "i* a**i*i**, ****** *****ss **i** ******* ****,*a*i**, **i***s, a** *****s \n",
            "\n",
            "s*a** s***i*s ** *i**i** ****** ****** *i** s******.***** a** *a** \n",
            "\n",
            "*****i*s ** s*a*i** **i*** i* ***** *i**s, as i* ****s \n",
            "\n",
            "** *a** **a*****i** si**a*i**s *i** ****a**. *** i*****a*** ** s*a*i** \n",
            "\n",
            "**i*** *as s***** a ***** a**** *a** ****** ********** *is****.****i** \n",
            "\n",
            "*****i*s ** **a* ** *a** a******is*** ********** *is**** *a* **** \n",
            "\n",
            "*s s** *** i**i*i**a*s a** ******i*i*s *a** ***s****** ******* ***** \n",
            "\n",
            "*i**s a** i*** a **i***** ******.\n",
            "\n",
            "\n"
          ]
        }
      ]
    },
    {
      "cell_type": "markdown",
      "source": [
        "**Task - 03**"
      ],
      "metadata": {
        "id": "5xNroxD-EIiP"
      }
    },
    {
      "cell_type": "code",
      "source": [
        "# encryption function\n",
        "\n",
        "def encryption(plaintext, keystring):\n",
        "  plaintext = plaintext.replace(\" \",\"\")     # removing space\n",
        "  n = int(len(plaintext) / len(keystring))\n",
        "  rem = int(len(plaintext) % len(keystring))\n",
        "\n",
        "  for i in range(n-1):\n",
        "    keystring += keystring\n",
        "  for i in range(rem):\n",
        "    keystring += keystring[i]\n",
        "\n",
        "  ciphertext = \"\"\n",
        "\n",
        "  for i in range(len(plaintext)):\n",
        "    ciphertext += chr((ord(plaintext[i]) + ord(keystring[i])) % 26 + 65)\n",
        "  return ciphertext"
      ],
      "metadata": {
        "id": "i39z-SUSEQs2"
      },
      "execution_count": null,
      "outputs": []
    },
    {
      "cell_type": "code",
      "source": [
        "# decryption function\n",
        "\n",
        "def decryption(ciphertext, keystring):\n",
        "  ciphertext = ciphertext.replace(\" \",\"\")     # removing space\n",
        "  n = int(len(ciphertext) / len(keystring))\n",
        "  rem = int(len(ciphertext) % len(keystring))\n",
        "\n",
        "  for i in range(n-1):\n",
        "    keystring += keystring\n",
        "  for i in range(rem):\n",
        "    keystring += keystring[i]\n",
        "\n",
        "  plaintext = \"\"\n",
        "\n",
        "  for i in range(len(ciphertext)):\n",
        "    plaintext += chr((ord(ciphertext[i]) - ord(keystring[i])) % 26 + 65)\n",
        "  return plaintext"
      ],
      "metadata": {
        "id": "YvFf6ESsIeOb"
      },
      "execution_count": null,
      "outputs": []
    },
    {
      "cell_type": "code",
      "source": [
        "def print_result(a, b, key, s1, s2):\n",
        "  res = \"\"\n",
        "  j = 0\n",
        "  for i in range(len(a)):\n",
        "    if a[i]==' ':\n",
        "      res+=' '\n",
        "    else:\n",
        "      res+=b[j]\n",
        "      j+=1\n",
        "  print(f\"\\n{s1} of your given {s2} by using key {key} is : {res}\\n\")"
      ],
      "metadata": {
        "id": "oSQol1QFJXFh"
      },
      "execution_count": null,
      "outputs": []
    },
    {
      "cell_type": "code",
      "source": [
        "while True:\n",
        "  print(\"0. break\\n1. encryption\\n2. decryption\\n\")\n",
        "  choice = input(\"enter your choice : \")\n",
        "  if(choice==\"0\"):\n",
        "    break\n",
        "  elif(choice==\"1\"):\n",
        "    plaintext = input(\"enter your plain text : \")\n",
        "    plaintext = plaintext.upper()\n",
        "    keystring = input(\"enter your keystring : \")\n",
        "    keystring = keystring.upper()\n",
        "    ciphertext = encryption(plaintext, keystring)\n",
        "    print_result(plaintext, ciphertext, keystring, \"cipher text\", \"plain text\")\n",
        "  else:\n",
        "    ciphertext = input(\"enter your cipher text : \")\n",
        "    ciphertext = ciphertext.upper()\n",
        "    keystring = input(\"enter your keystring : \")\n",
        "    keystring = keystring.upper()\n",
        "    plaintext = decryption(ciphertext, keystring)\n",
        "    print_result(ciphertext, plaintext, keystring, \"plain text\", \"cipher text\")"
      ],
      "metadata": {
        "colab": {
          "base_uri": "https://localhost:8080/"
        },
        "id": "NnpIKVk0FVGe",
        "outputId": "25274f27-a8a2-496f-b0da-8a296db8a2d1"
      },
      "execution_count": null,
      "outputs": [
        {
          "name": "stdout",
          "output_type": "stream",
          "text": [
            "0. break\n",
            "1. encryption\n",
            "2. decryption\n",
            "\n",
            "enter your choice : 1\n",
            "enter your plain text : CSE FINAL YEAR THEORY COURSE INTRODUCTION TO COMPUER SECURITY AND FORENSICS\n",
            "enter your keystring : sustcse\n",
            "\n",
            "cipher text of your given plain text by using key SUSTCSE is : UMW YKFED SWTT LLWIJR EGYJMW BPLVGXMVVASF NG VQETMYJ LGUYJCLR CFH XIJXPKMUM\n",
            "\n",
            "0. break\n",
            "1. encryption\n",
            "2. decryption\n",
            "\n",
            "enter your choice : 2\n",
            "enter your cipher text : UMW YKFED SWTT LLWIJR EGYJMW BPLVGXMVVASF NG VQETMYJ LGUYJCLR CFH XIJXPKMUM\n",
            "enter your keystring : sustcse\n",
            "\n",
            "plain text of your given cipher text by using key SUSTCSE is : CSE FINAL YEAR THEORY COURSE INTRODUCTION TO COMPUER SECURITY AND FORENSICS\n",
            "\n",
            "0. break\n",
            "1. encryption\n",
            "2. decryption\n",
            "\n",
            "enter your choice : 0\n"
          ]
        }
      ]
    },
    {
      "cell_type": "markdown",
      "source": [
        "**Task - 04**"
      ],
      "metadata": {
        "id": "glr5c6CXBqS7"
      }
    },
    {
      "cell_type": "code",
      "source": [
        "# key_string = \"AWESOME INTRODUCTION TO COMPUTER SECURITY AND FORENSICS\"\n",
        "key_string = \"GYBNQKURP\""
      ],
      "metadata": {
        "id": "VsLY8NB3BuTu"
      },
      "execution_count": null,
      "outputs": []
    },
    {
      "cell_type": "code",
      "source": [
        "# key string without spaces\n",
        "key_string = key_string.replace(\" \",\"\")\n",
        "key_string"
      ],
      "metadata": {
        "colab": {
          "base_uri": "https://localhost:8080/",
          "height": 35
        },
        "id": "HL1rDrbECC8j",
        "outputId": "00df2d71-9ae1-40c0-d355-ffc56b5364f3"
      },
      "execution_count": null,
      "outputs": [
        {
          "output_type": "execute_result",
          "data": {
            "text/plain": [
              "'GYBNQKURP'"
            ],
            "application/vnd.google.colaboratory.intrinsic+json": {
              "type": "string"
            }
          },
          "metadata": {},
          "execution_count": 2
        }
      ]
    },
    {
      "cell_type": "code",
      "source": [
        "# calculating dimension of the key_string_ascii_matrix\n",
        "# we want mxm = n\n",
        "import math\n",
        "n = len(key_string)\n",
        "m = int(math.sqrt(n))\n",
        "m"
      ],
      "metadata": {
        "colab": {
          "base_uri": "https://localhost:8080/"
        },
        "id": "8B0En5DYCJw_",
        "outputId": "633ebce5-1b72-4576-8d33-1c8863f1c6ec"
      },
      "execution_count": null,
      "outputs": [
        {
          "output_type": "execute_result",
          "data": {
            "text/plain": [
              "3"
            ]
          },
          "metadata": {},
          "execution_count": 3
        }
      ]
    },
    {
      "cell_type": "code",
      "source": [
        "# calculating key_string_ascii_matrix\n",
        "import numpy as np\n",
        "key_string_ascii_matrix = np.zeros((m,m))\n",
        "cnt = 0\n",
        "for i in range(m):\n",
        "  for j in range(m):\n",
        "    key_string_ascii_matrix[i][j] = int(ord(key_string[cnt]))\n",
        "    cnt+=1\n",
        "key_string_ascii_matrix = key_string_ascii_matrix % 65\n",
        "key_string_ascii_matrix"
      ],
      "metadata": {
        "colab": {
          "base_uri": "https://localhost:8080/"
        },
        "id": "XthmEvTnCP-p",
        "outputId": "7f775c3b-2f65-46db-9570-26e66b05b085"
      },
      "execution_count": null,
      "outputs": [
        {
          "output_type": "execute_result",
          "data": {
            "text/plain": [
              "array([[ 6., 24.,  1.],\n",
              "       [13., 16., 10.],\n",
              "       [20., 17., 15.]])"
            ]
          },
          "metadata": {},
          "execution_count": 94
        }
      ]
    },
    {
      "cell_type": "code",
      "source": [
        "# encryption function\n",
        "def encryption(plaintext):\n",
        "  plaintext = plaintext.replace(\" \",\"\")\n",
        "  n = len(plaintext)\n",
        "  # calculating plaintext_ascii_matrix\n",
        "  plaintext_ascii_matrix = np.zeros((n,1))\n",
        "  for i in range(n):\n",
        "    plaintext_ascii_matrix[i][0] = int(ord(plaintext[i]))\n",
        "  plaintext_ascii_matrix = plaintext_ascii_matrix % 65\n",
        "\n",
        "  # calculating ciphertext_ascii_matrix\n",
        "  ciphertext_ascii_matrix = np.dot(key_string_ascii_matrix, plaintext_ascii_matrix)\n",
        "  ciphertext_ascii_matrix = ciphertext_ascii_matrix % 26\n",
        "\n",
        "  # generating cipher text\n",
        "  ciphertext = \"\"\n",
        "  for i in range(n):\n",
        "    ciphertext += chr(int(ciphertext_ascii_matrix[i][0]) + ord('A'))\n",
        "  return ciphertext"
      ],
      "metadata": {
        "id": "Bjmhv_uhD6FA"
      },
      "execution_count": null,
      "outputs": []
    },
    {
      "cell_type": "code",
      "source": [
        "# calling encryption function\n",
        "plaintext = input(\"enter plain text : \")\n",
        "ciphertext = encryption(plaintext)\n",
        "ciphertext_with_spaces = \"\"\n",
        "\n",
        "for char1,char2 in zip(plaintext, ciphertext):\n",
        "  if char1==' ':\n",
        "    ciphertext_with_spaces+=' '\n",
        "  ciphertext_with_spaces+=char2\n",
        "\n",
        "print(\"cipher text of given plain text : \", ciphertext_with_spaces)"
      ],
      "metadata": {
        "colab": {
          "base_uri": "https://localhost:8080/"
        },
        "id": "xKA2XAkgHGy-",
        "outputId": "1c6216ca-2b03-4511-996a-2dd270563280"
      },
      "execution_count": null,
      "outputs": [
        {
          "output_type": "stream",
          "name": "stdout",
          "text": [
            "enter plain text : ACT\n",
            "cipher text of given plain text :  POH\n"
          ]
        }
      ]
    },
    {
      "cell_type": "code",
      "source": [
        "# decryption function\n",
        "def decryption(ciphertext):\n",
        "  ciphertext = ciphertext.replace(\" \",\"\")\n",
        "  n = len(ciphertext)\n",
        "  # calculating ciphertext_ascii_matrix\n",
        "  ciphertext_ascii_matrix = np.zeros((n,1))\n",
        "  for i in range(n):\n",
        "    ciphertext_ascii_matrix[i][0] = int(ord(ciphertext[i]))\n",
        "  ciphertext_ascii_matrix = ciphertext_ascii_matrix % 65\n",
        "\n",
        "  # inverse of key_string_ascii_matrix\n",
        "  key_string_ascii_matrix_inv = np.linalg.inv(key_string_ascii_matrix)\n",
        "  key_string_ascii_matrix_inv = (key_string_ascii_matrix_inv) % 26\n",
        "\n",
        "\n",
        "  # calculating plaintext_ascii_matrix\n",
        "  plaintext_ascii_matrix = np.dot(key_string_ascii_matrix_inv, ciphertext_ascii_matrix)\n",
        "  plaintext_ascii_matrix = plaintext_ascii_matrix % 26\n",
        "\n",
        "  # generating plain text\n",
        "  plaintext = \"\"\n",
        "  for i in range(n):\n",
        "    plaintext += chr(int(plaintext_ascii_matrix[i][0]) + ord('A'))\n",
        "  return plaintext"
      ],
      "metadata": {
        "id": "1rm8voH1Hgm3"
      },
      "execution_count": null,
      "outputs": []
    },
    {
      "cell_type": "code",
      "source": [
        "# calling decryption function\n",
        "ciphertext = input(\"enter cipher text : \")\n",
        "plaintext = decryption(ciphertext)\n",
        "plaintext_with_spaces = \"\"\n",
        "\n",
        "for char1,char2 in zip(ciphertext, plaintext):\n",
        "  if char1==' ':\n",
        "    plaintext_with_spaces+=' '\n",
        "  plaintext_with_spaces+=char2\n",
        "\n",
        "print(\"plain text of given plain text : \", plaintext_with_spaces)"
      ],
      "metadata": {
        "colab": {
          "base_uri": "https://localhost:8080/"
        },
        "id": "1JDvEU2zL8lb",
        "outputId": "9977811c-e94f-4801-bb73-6d226d2aeefd"
      },
      "execution_count": null,
      "outputs": [
        {
          "output_type": "stream",
          "name": "stdout",
          "text": [
            "enter cipher text : POH\n",
            "[[15.]\n",
            " [14.]\n",
            " [ 7.]]\n",
            "[[ 6. 24.  1.]\n",
            " [13. 16. 10.]\n",
            " [20. 17. 15.]]\n",
            "plain text of given plain text :  AAA\n"
          ]
        }
      ]
    }
  ]
}