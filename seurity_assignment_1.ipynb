{
  "nbformat": 4,
  "nbformat_minor": 0,
  "metadata": {
    "colab": {
      "provenance": [],
      "collapsed_sections": [
        "ju8bFe3btyPU",
        "OZouv1O47U1n",
        "Crk7sgjeJDr_",
        "bF45EjMhJT2X",
        "-Bkmi2HkJ_tc",
        "--ijcIXHwg18",
        "5xNroxD-EIiP"
      ],
      "toc_visible": true,
      "authorship_tag": "ABX9TyOQfwvZMHZEYF1Hgeln85lp",
      "include_colab_link": true
    },
    "kernelspec": {
      "name": "python3",
      "display_name": "Python 3"
    },
    "language_info": {
      "name": "python"
    }
  },
  "cells": [
    {
      "cell_type": "markdown",
      "metadata": {
        "id": "view-in-github",
        "colab_type": "text"
      },
      "source": [
        "<a href=\"https://colab.research.google.com/github/REDOWAN038/Security-Lab/blob/main/seurity_assignment_1.ipynb\" target=\"_parent\"><img src=\"https://colab.research.google.com/assets/colab-badge.svg\" alt=\"Open In Colab\"/></a>"
      ]
    },
    {
      "cell_type": "markdown",
      "source": [
        "# <ins>Task - 01(A)</ins>"
      ],
      "metadata": {
        "id": "ju8bFe3btyPU"
      }
    },
    {
      "cell_type": "code",
      "source": [
        "'''\n",
        "  the decryption function takes ciphertext and key as input\n",
        "  Every character is replaced with the character K slots to the left\n",
        "  Dn(x) = (x-n) mod 26\n",
        "'''\n",
        "\n",
        "def decryption(ciphertext,key):\n",
        "    plaintext = \"\"\n",
        "    for i in range(len(ciphertext)):\n",
        "        ch = ciphertext[i]\n",
        "        if(ch.isupper()):\n",
        "            plaintext += chr((ord(ch) - (key-65)) % 26 + 65)\n",
        "        elif(ch.islower()):\n",
        "            plaintext += chr((ord(ch) - (key-97)) % 26 + 97)\n",
        "        else:\n",
        "          plaintext+=ch\n",
        "    return plaintext"
      ],
      "metadata": {
        "id": "RO0Ra9Wzt29T"
      },
      "execution_count": null,
      "outputs": []
    },
    {
      "cell_type": "markdown",
      "source": [
        "# <ins>Task - 01(B)</ins>"
      ],
      "metadata": {
        "id": "sVyE9eNc2gE_"
      }
    },
    {
      "cell_type": "code",
      "source": [
        "# given ciphertext\n",
        "\n",
        "ciphertext = \"XNZ XVMIDQVG VO DDXO WPDGYDIB NPNO DN BJDIB OJ WZ BMZVO VBVDI.\""
      ],
      "metadata": {
        "id": "2omhU80puf-Y"
      },
      "execution_count": null,
      "outputs": []
    },
    {
      "cell_type": "code",
      "source": [
        "# first let's use key = 1\n",
        "\n",
        "key = 1\n",
        "plaintext = decryption(ciphertext,key)\n",
        "print(f\"plaintext of given ciphertext when we use key {key} : \", plaintext)"
      ],
      "metadata": {
        "colab": {
          "base_uri": "https://localhost:8080/"
        },
        "id": "KwGi44gHvC1f",
        "outputId": "a76a09e1-92de-476b-b356-a956200ed961"
      },
      "execution_count": null,
      "outputs": [
        {
          "output_type": "stream",
          "name": "stdout",
          "text": [
            "plaintext of given ciphertext when we use key 1 :  WMY WULHCPUF UN CCWN VOCFXCHA MOMN CM AICHA NI VY ALYUN UAUCH.\n"
          ]
        }
      ]
    },
    {
      "cell_type": "code",
      "source": [
        "# let's use key = 2\n",
        "\n",
        "key = 2\n",
        "plaintext = decryption(ciphertext,key)\n",
        "print(f\"plaintext of given ciphertext when we use key {key} : \", plaintext)"
      ],
      "metadata": {
        "colab": {
          "base_uri": "https://localhost:8080/"
        },
        "id": "R6sMOzn1x9kH",
        "outputId": "03cd9d97-ae08-4d37-c191-76923bbaeaef"
      },
      "execution_count": null,
      "outputs": [
        {
          "output_type": "stream",
          "name": "stdout",
          "text": [
            "plaintext of given ciphertext when we use key 2 :  VLX VTKGBOTE TM BBVM UNBEWBGZ LNLM BL ZHBGZ MH UX ZKXTM TZTBG.\n"
          ]
        }
      ]
    },
    {
      "cell_type": "code",
      "source": [
        "# let's use key = 3\n",
        "\n",
        "key = 3\n",
        "plaintext = decryption(ciphertext,key)\n",
        "print(f\"plaintext of given ciphertext when we use key {key} : \", plaintext)"
      ],
      "metadata": {
        "colab": {
          "base_uri": "https://localhost:8080/"
        },
        "id": "FwNGNNwWyAob",
        "outputId": "fcc6fe63-bcad-4ed1-e0b0-9ca652fc3080"
      },
      "execution_count": null,
      "outputs": [
        {
          "output_type": "stream",
          "name": "stdout",
          "text": [
            "plaintext of given ciphertext when we use key 3 :  UKW USJFANSD SL AAUL TMADVAFY KMKL AK YGAFY LG TW YJWSL SYSAF.\n"
          ]
        }
      ]
    },
    {
      "cell_type": "code",
      "source": [
        "# let's use key = 4\n",
        "\n",
        "key = 4\n",
        "plaintext = decryption(ciphertext,key)\n",
        "print(f\"plaintext of given ciphertext when we use key {key} : \", plaintext)"
      ],
      "metadata": {
        "colab": {
          "base_uri": "https://localhost:8080/"
        },
        "id": "R1D0wPagyDOZ",
        "outputId": "0cce4374-c070-4a07-9b56-c68e20ab3617"
      },
      "execution_count": null,
      "outputs": [
        {
          "output_type": "stream",
          "name": "stdout",
          "text": [
            "plaintext of given ciphertext when we use key 4 :  TJV TRIEZMRC RK ZZTK SLZCUZEX JLJK ZJ XFZEX KF SV XIVRK RXRZE.\n"
          ]
        }
      ]
    },
    {
      "cell_type": "code",
      "source": [
        "# let's use key = 5\n",
        "\n",
        "key = 5\n",
        "plaintext = decryption(ciphertext,key)\n",
        "print(f\"plaintext of given ciphertext when we use key {key} : \", plaintext)"
      ],
      "metadata": {
        "colab": {
          "base_uri": "https://localhost:8080/"
        },
        "id": "S38H9YAOyGBh",
        "outputId": "b1c478a5-0e44-4718-8643-41d319430a94"
      },
      "execution_count": null,
      "outputs": [
        {
          "output_type": "stream",
          "name": "stdout",
          "text": [
            "plaintext of given ciphertext when we use key 5 :  SIU SQHDYLQB QJ YYSJ RKYBTYDW IKIJ YI WEYDW JE RU WHUQJ QWQYD.\n"
          ]
        }
      ]
    },
    {
      "cell_type": "code",
      "source": [
        "# let's use key = 6\n",
        "\n",
        "key = 6\n",
        "plaintext = decryption(ciphertext,key)\n",
        "print(f\"plaintext of given ciphertext when we use key {key} : \", plaintext)"
      ],
      "metadata": {
        "colab": {
          "base_uri": "https://localhost:8080/"
        },
        "id": "QKqkqB35yIgl",
        "outputId": "f056b08d-8a16-4147-f5c3-98a6ef447538"
      },
      "execution_count": null,
      "outputs": [
        {
          "output_type": "stream",
          "name": "stdout",
          "text": [
            "plaintext of given ciphertext when we use key 6 :  RHT RPGCXKPA PI XXRI QJXASXCV HJHI XH VDXCV ID QT VGTPI PVPXC.\n"
          ]
        }
      ]
    },
    {
      "cell_type": "code",
      "source": [
        "# let's use key = 7\n",
        "\n",
        "key = 7\n",
        "plaintext = decryption(ciphertext,key)\n",
        "print(f\"plaintext of given ciphertext when we use key {key} : \", plaintext)"
      ],
      "metadata": {
        "colab": {
          "base_uri": "https://localhost:8080/"
        },
        "id": "qRlLX1KyyLhT",
        "outputId": "5614af07-961f-4c49-e26a-0688e1e0c96b"
      },
      "execution_count": null,
      "outputs": [
        {
          "output_type": "stream",
          "name": "stdout",
          "text": [
            "plaintext of given ciphertext when we use key 7 :  QGS QOFBWJOZ OH WWQH PIWZRWBU GIGH WG UCWBU HC PS UFSOH OUOWB.\n"
          ]
        }
      ]
    },
    {
      "cell_type": "code",
      "source": [
        "# let's use key = 8\n",
        "\n",
        "key = 8\n",
        "plaintext = decryption(ciphertext,key)\n",
        "print(f\"plaintext of given ciphertext when we use key {key} : \", plaintext)"
      ],
      "metadata": {
        "colab": {
          "base_uri": "https://localhost:8080/"
        },
        "id": "gaHP2sApyOLb",
        "outputId": "169bfc83-32eb-4c96-ba04-047c6647722e"
      },
      "execution_count": null,
      "outputs": [
        {
          "output_type": "stream",
          "name": "stdout",
          "text": [
            "plaintext of given ciphertext when we use key 8 :  PFR PNEAVINY NG VVPG OHVYQVAT FHFG VF TBVAT GB OR TERNG NTNVA.\n"
          ]
        }
      ]
    },
    {
      "cell_type": "code",
      "source": [
        "# let's use key = 9\n",
        "\n",
        "key = 9\n",
        "plaintext = decryption(ciphertext,key)\n",
        "print(f\"plaintext of given ciphertext when we use key {key} : \", plaintext)"
      ],
      "metadata": {
        "colab": {
          "base_uri": "https://localhost:8080/"
        },
        "id": "g_v_G0gayQbi",
        "outputId": "d127c901-d644-4131-bf64-01d3779c3c78"
      },
      "execution_count": null,
      "outputs": [
        {
          "output_type": "stream",
          "name": "stdout",
          "text": [
            "plaintext of given ciphertext when we use key 9 :  OEQ OMDZUHMX MF UUOF NGUXPUZS EGEF UE SAUZS FA NQ SDQMF MSMUZ.\n"
          ]
        }
      ]
    },
    {
      "cell_type": "code",
      "source": [
        "# let's use key = 10\n",
        "\n",
        "key = 10\n",
        "plaintext = decryption(ciphertext,key)\n",
        "print(f\"plaintext of given ciphertext when we use key {key} : \", plaintext)"
      ],
      "metadata": {
        "colab": {
          "base_uri": "https://localhost:8080/"
        },
        "id": "RlywALJFySTO",
        "outputId": "6a9d54d1-7a1d-47f0-bb03-b86b1c38f0f2"
      },
      "execution_count": null,
      "outputs": [
        {
          "output_type": "stream",
          "name": "stdout",
          "text": [
            "plaintext of given ciphertext when we use key 10 :  NDP NLCYTGLW LE TTNE MFTWOTYR DFDE TD RZTYR EZ MP RCPLE LRLTY.\n"
          ]
        }
      ]
    },
    {
      "cell_type": "code",
      "source": [
        "# let's use key = 11\n",
        "\n",
        "key = 11\n",
        "plaintext = decryption(ciphertext,key)\n",
        "print(f\"plaintext of given ciphertext when we use key {key} : \", plaintext)"
      ],
      "metadata": {
        "colab": {
          "base_uri": "https://localhost:8080/"
        },
        "id": "893fMaiOyU3F",
        "outputId": "069ce9da-ac25-431e-e134-1835a9060cec"
      },
      "execution_count": null,
      "outputs": [
        {
          "output_type": "stream",
          "name": "stdout",
          "text": [
            "plaintext of given ciphertext when we use key 11 :  MCO MKBXSFKV KD SSMD LESVNSXQ CECD SC QYSXQ DY LO QBOKD KQKSX.\n"
          ]
        }
      ]
    },
    {
      "cell_type": "code",
      "source": [
        "# let's use key = 12\n",
        "\n",
        "key = 12\n",
        "plaintext = decryption(ciphertext,key)\n",
        "print(f\"plaintext of given ciphertext when we use key {key} : \", plaintext)"
      ],
      "metadata": {
        "colab": {
          "base_uri": "https://localhost:8080/"
        },
        "id": "CvYRtWpqyXD1",
        "outputId": "94c765e2-4b3b-4368-a40d-ce843c3d5e15"
      },
      "execution_count": null,
      "outputs": [
        {
          "output_type": "stream",
          "name": "stdout",
          "text": [
            "plaintext of given ciphertext when we use key 12 :  LBN LJAWREJU JC RRLC KDRUMRWP BDBC RB PXRWP CX KN PANJC JPJRW.\n"
          ]
        }
      ]
    },
    {
      "cell_type": "code",
      "source": [
        "# let's use key = 13\n",
        "\n",
        "key = 13\n",
        "plaintext = decryption(ciphertext,key)\n",
        "print(f\"plaintext of given ciphertext when we use key {key} : \", plaintext)"
      ],
      "metadata": {
        "colab": {
          "base_uri": "https://localhost:8080/"
        },
        "id": "gHohfg_ayZJv",
        "outputId": "50ec9d29-ab46-4c9e-f5a9-c911d9d9cbfb"
      },
      "execution_count": null,
      "outputs": [
        {
          "output_type": "stream",
          "name": "stdout",
          "text": [
            "plaintext of given ciphertext when we use key 13 :  KAM KIZVQDIT IB QQKB JCQTLQVO ACAB QA OWQVO BW JM OZMIB IOIQV.\n"
          ]
        }
      ]
    },
    {
      "cell_type": "code",
      "source": [
        "# let's use key = 14\n",
        "\n",
        "key = 14\n",
        "plaintext = decryption(ciphertext,key)\n",
        "print(f\"plaintext of given ciphertext when we use key {key} : \", plaintext)"
      ],
      "metadata": {
        "colab": {
          "base_uri": "https://localhost:8080/"
        },
        "id": "3u5V-5V7y0Hf",
        "outputId": "b62da6ea-1ec4-4948-d459-ccb5b70dd580"
      },
      "execution_count": null,
      "outputs": [
        {
          "output_type": "stream",
          "name": "stdout",
          "text": [
            "plaintext of given ciphertext when we use key 14 :  JZL JHYUPCHS HA PPJA IBPSKPUN ZBZA PZ NVPUN AV IL NYLHA HNHPU.\n"
          ]
        }
      ]
    },
    {
      "cell_type": "code",
      "source": [
        "# let's use key = 15\n",
        "\n",
        "key = 15\n",
        "plaintext = decryption(ciphertext,key)\n",
        "print(f\"plaintext of given ciphertext when we use key {key} : \", plaintext)"
      ],
      "metadata": {
        "colab": {
          "base_uri": "https://localhost:8080/"
        },
        "id": "0wA0JSGzy2xN",
        "outputId": "e02c81cb-0b37-4259-cba3-2eb0cda2dfae"
      },
      "execution_count": null,
      "outputs": [
        {
          "output_type": "stream",
          "name": "stdout",
          "text": [
            "plaintext of given ciphertext when we use key 15 :  IYK IGXTOBGR GZ OOIZ HAORJOTM YAYZ OY MUOTM ZU HK MXKGZ GMGOT.\n"
          ]
        }
      ]
    },
    {
      "cell_type": "code",
      "source": [
        "# let's use key = 16\n",
        "\n",
        "key = 16\n",
        "plaintext = decryption(ciphertext,key)\n",
        "print(f\"plaintext of given ciphertext when we use key {key} : \", plaintext)"
      ],
      "metadata": {
        "colab": {
          "base_uri": "https://localhost:8080/"
        },
        "id": "ApGlUXmRy5cv",
        "outputId": "fd6dadb4-f638-46f4-9141-7e73a0927709"
      },
      "execution_count": null,
      "outputs": [
        {
          "output_type": "stream",
          "name": "stdout",
          "text": [
            "plaintext of given ciphertext when we use key 16 :  HXJ HFWSNAFQ FY NNHY GZNQINSL XZXY NX LTNSL YT GJ LWJFY FLFNS.\n"
          ]
        }
      ]
    },
    {
      "cell_type": "code",
      "source": [
        "# let's use key = 17\n",
        "\n",
        "key = 17\n",
        "plaintext = decryption(ciphertext,key)\n",
        "print(f\"plaintext of given ciphertext when we use key {key} : \", plaintext)"
      ],
      "metadata": {
        "colab": {
          "base_uri": "https://localhost:8080/"
        },
        "id": "H_DvnRjWy7jv",
        "outputId": "1fe1c548-20b0-49a1-f47c-a945eb08b04c"
      },
      "execution_count": null,
      "outputs": [
        {
          "output_type": "stream",
          "name": "stdout",
          "text": [
            "plaintext of given ciphertext when we use key 17 :  GWI GEVRMZEP EX MMGX FYMPHMRK WYWX MW KSMRK XS FI KVIEX EKEMR.\n"
          ]
        }
      ]
    },
    {
      "cell_type": "code",
      "source": [
        "# let's use key = 18\n",
        "\n",
        "key = 18\n",
        "plaintext = decryption(ciphertext,key)\n",
        "print(f\"plaintext of given ciphertext when we use key {key} : \", plaintext)"
      ],
      "metadata": {
        "colab": {
          "base_uri": "https://localhost:8080/"
        },
        "id": "S9oKMIEyy_Oy",
        "outputId": "6dc8a121-99ab-4e67-a90a-bf2c377b69de"
      },
      "execution_count": null,
      "outputs": [
        {
          "output_type": "stream",
          "name": "stdout",
          "text": [
            "plaintext of given ciphertext when we use key 18 :  FVH FDUQLYDO DW LLFW EXLOGLQJ VXVW LV JRLQJ WR EH JUHDW DJDLQ.\n"
          ]
        }
      ]
    },
    {
      "cell_type": "code",
      "source": [
        "# let's use key = 19\n",
        "\n",
        "key = 19\n",
        "plaintext = decryption(ciphertext,key)\n",
        "print(f\"plaintext of given ciphertext when we use key {key} : \", plaintext)"
      ],
      "metadata": {
        "colab": {
          "base_uri": "https://localhost:8080/"
        },
        "id": "YAka9PHKzCB7",
        "outputId": "d9db0ecc-df06-4004-c13d-ddced3f9a0f0"
      },
      "execution_count": null,
      "outputs": [
        {
          "output_type": "stream",
          "name": "stdout",
          "text": [
            "plaintext of given ciphertext when we use key 19 :  EUG ECTPKXCN CV KKEV DWKNFKPI UWUV KU IQKPI VQ DG ITGCV CICKP.\n"
          ]
        }
      ]
    },
    {
      "cell_type": "code",
      "source": [
        "# let's use key = 20\n",
        "\n",
        "key = 20\n",
        "plaintext = decryption(ciphertext,key)\n",
        "print(f\"plaintext of given ciphertext when we use key {key} : \", plaintext)"
      ],
      "metadata": {
        "colab": {
          "base_uri": "https://localhost:8080/"
        },
        "id": "dYkOYY8pzDtA",
        "outputId": "d31d1fdb-ae15-47e0-ea89-a877a1b99d10"
      },
      "execution_count": null,
      "outputs": [
        {
          "output_type": "stream",
          "name": "stdout",
          "text": [
            "plaintext of given ciphertext when we use key 20 :  DTF DBSOJWBM BU JJDU CVJMEJOH TVTU JT HPJOH UP CF HSFBU BHBJO.\n"
          ]
        }
      ]
    },
    {
      "cell_type": "code",
      "source": [
        "# let's use key = 21\n",
        "\n",
        "key = 21\n",
        "plaintext = decryption(ciphertext,key)\n",
        "print(f\"plaintext of given ciphertext when we use key {key} : \", plaintext)"
      ],
      "metadata": {
        "colab": {
          "base_uri": "https://localhost:8080/"
        },
        "id": "woZ_ltJozG1y",
        "outputId": "593b1955-4036-41cc-abfa-1d7b5e381b0b"
      },
      "execution_count": null,
      "outputs": [
        {
          "output_type": "stream",
          "name": "stdout",
          "text": [
            "plaintext of given ciphertext when we use key 21 :  CSE CARNIVAL AT IICT BUILDING SUST IS GOING TO BE GREAT AGAIN.\n"
          ]
        }
      ]
    },
    {
      "cell_type": "markdown",
      "source": [
        "<p><b>We use every keys from 1 to 20. but all of them provides garbage results. But when we use key=21, we get a plain text which is not a garbage</b></p>\n",
        "\n",
        "<ins>**Plaintext of given ciphertext by using key 21  :**</ins><br>\n",
        "<p><b>CSE CARNIVAL AT IICT BUILDING SUST IS GOING TO BE GREAT AGAIN.</b></p>"
      ],
      "metadata": {
        "id": "v5dyxxBGz5aN"
      }
    },
    {
      "cell_type": "markdown",
      "source": [
        "# <ins>Task - 01(C)</ins>"
      ],
      "metadata": {
        "id": "pLJqc9wIsHbO"
      }
    },
    {
      "cell_type": "code",
      "source": [
        "ciphertext = \"ZKDW GR BRX JHW ZKHQ BRX FURVV D VQRZPDQ ZLWK D YDPSLUH? IURVWELWH\""
      ],
      "metadata": {
        "id": "3Z9OYZ8UsL_6"
      },
      "execution_count": null,
      "outputs": []
    },
    {
      "cell_type": "code",
      "source": [
        "# first let's use key = 1\n",
        "\n",
        "key = 1\n",
        "plaintext = decryption(ciphertext,key)\n",
        "print(f\"plaintext of given ciphertext when we use key {key} : \", plaintext)"
      ],
      "metadata": {
        "colab": {
          "base_uri": "https://localhost:8080/"
        },
        "id": "i1S5m90630Gs",
        "outputId": "c6dfa0ce-f697-458f-d414-7bad02e6b1ba"
      },
      "execution_count": null,
      "outputs": [
        {
          "output_type": "stream",
          "name": "stdout",
          "text": [
            "plaintext of given ciphertext when we use key 1 :  YJCV FQ AQW IGV YJGP AQW ETQUU C UPQYOCP YKVJ C XCORKTG? HTQUVDKVG\n"
          ]
        }
      ]
    },
    {
      "cell_type": "code",
      "source": [
        "# let's use key = 2\n",
        "\n",
        "key = 2\n",
        "plaintext = decryption(ciphertext,key)\n",
        "print(f\"plaintext of given ciphertext when we use key {key} : \", plaintext)"
      ],
      "metadata": {
        "colab": {
          "base_uri": "https://localhost:8080/"
        },
        "id": "edDtXJKv32ZD",
        "outputId": "ae35735d-5118-46f8-f60b-4bd9ca7756a6"
      },
      "execution_count": null,
      "outputs": [
        {
          "output_type": "stream",
          "name": "stdout",
          "text": [
            "plaintext of given ciphertext when we use key 2 :  XIBU EP ZPV HFU XIFO ZPV DSPTT B TOPXNBO XJUI B WBNQJSF? GSPTUCJUF\n"
          ]
        }
      ]
    },
    {
      "cell_type": "code",
      "source": [
        "# let's use key = 3\n",
        "\n",
        "key = 3\n",
        "plaintext = decryption(ciphertext,key)\n",
        "print(f\"plaintext of given ciphertext when we use key {key} : \", plaintext)"
      ],
      "metadata": {
        "colab": {
          "base_uri": "https://localhost:8080/"
        },
        "id": "Fuf_FnT935pg",
        "outputId": "8d52c04e-ba03-4d85-d01f-8f313be45207"
      },
      "execution_count": null,
      "outputs": [
        {
          "output_type": "stream",
          "name": "stdout",
          "text": [
            "plaintext of given ciphertext when we use key 3 :  WHAT DO YOU GET WHEN YOU CROSS A SNOWMAN WITH A VAMPIRE? FROSTBITE\n"
          ]
        }
      ]
    },
    {
      "cell_type": "markdown",
      "source": [
        "<p><b>We use every keys from 1 to 2. but all of them provides garbage results. But when we use key=3, we get a plain text which is not a garbage</b></p>\n",
        "\n",
        "<ins>**Plaintext of given ciphertext by using key 3  :**</ins><br>\n",
        "<p><b>WHAT DO YOU GET WHEN YOU CROSS A SNOWMAN WITH A VAMPIRE? FROSTBITE</b></p>"
      ],
      "metadata": {
        "id": "CcM-gyYh4jXZ"
      }
    },
    {
      "cell_type": "markdown",
      "source": [
        "# <ins>Task - 02</ins>"
      ],
      "metadata": {
        "id": "OZouv1O47U1n"
      }
    },
    {
      "cell_type": "code",
      "source": [
        "'''\n",
        "  substitution_cipher takes ciphertext and mapping as input\n",
        "  based on the mapping, it maps the characters of ciphertext\n",
        "  if the character is available in mapping, then it maps in plaintext\n",
        "  otherwise it just add '*' sign in plaintext\n",
        "'''\n",
        "\n",
        "def substitution_cipher(ciphertext, mapping):\n",
        "  plaintext = \"\"\n",
        "  for c in ciphertext:\n",
        "    if c.isalpha():\n",
        "      if c in mapping:\n",
        "        plaintext+=mapping[c]\n",
        "      else:\n",
        "        plaintext+='*'\n",
        "    else:\n",
        "      plaintext+=c\n",
        "\n",
        "  return plaintext"
      ],
      "metadata": {
        "id": "g_ccuFzx7-PA"
      },
      "execution_count": null,
      "outputs": []
    },
    {
      "cell_type": "code",
      "source": [
        "'''\n",
        "  print_result function is used for printing ciphertext and plaintext\n",
        "'''\n",
        "\n",
        "def print_result(text, words_per_line):\n",
        "  cnt=0\n",
        "  for c in text:\n",
        "    print(c, end='')\n",
        "    if(c==' '):\n",
        "      cnt+=1\n",
        "    if(cnt==words_per_line):\n",
        "      print(\"\\n\")\n",
        "      cnt=0\n",
        "\n",
        "  print(\"\\n\\n\")"
      ],
      "metadata": {
        "id": "oZjQGkYw8r93"
      },
      "execution_count": null,
      "outputs": []
    },
    {
      "cell_type": "code",
      "source": [
        "'''\n",
        "  calc_frequency takes \"text\" as input\n",
        "  it calculates frequency of characters in a given text\n",
        "'''\n",
        "\n",
        "from collections import Counter\n",
        "\n",
        "def calc_frequency(text):\n",
        "    frequency = Counter(text)\n",
        "    sorted_characters = sorted(frequency.items(), key=lambda x: x[1], reverse=True)\n",
        "\n",
        "    for char, freq in sorted_characters:\n",
        "        print(f\"Character: {char}, Frequency: {freq}\")"
      ],
      "metadata": {
        "id": "jtSFxJ_d-RGK"
      },
      "execution_count": null,
      "outputs": []
    },
    {
      "cell_type": "code",
      "source": [
        "'''\n",
        "  desired_mapping function is used to print characters mapping\n",
        "'''\n",
        "\n",
        "def desired_mapping(mapping):\n",
        "  print(\"Desired Mappings : \")\n",
        "  for key,val in mapping.items():\n",
        "    print(f\"{key}:{val}\")"
      ],
      "metadata": {
        "id": "WbVSHMnTJkWg"
      },
      "execution_count": null,
      "outputs": []
    },
    {
      "cell_type": "markdown",
      "source": [
        "# <ins>Task - 02(A)</ins>"
      ],
      "metadata": {
        "id": "Crk7sgjeJDr_"
      }
    },
    {
      "cell_type": "code",
      "source": [
        "ciphertext = \"gtd bsvgl vf fgedsugt dffml dkcymvsf gtmg gtd chjde ha aevdsxftvc tdycf \\\n",
        "bf gh id fgehsu aehz tmexftvcf. aevdsxf qms uvod bf gtd fgedsugt jd sddx \\\n",
        "jtds yvad udgf ghbut. vs mxxvgvhs, cdhcyd dkcedff bsvgl gtehbut \\\n",
        "yhod,amzvyl, aevdsxf, msx hgtdef ftmed fghevdf ha avsxvsu qhzzhs \\\n",
        "uehbsx jvgt fhzdhsd.gtded med zmsl idsdavgf ha fgmlvsu bsvgdx vs \\\n",
        "ghbut gvzdf, mf vg tdycf gh amqd qtmyydsuvsu fvgbmgvhsf jvgt \\\n",
        "qhbemud. gtd vzchegmsqd ha fgmlvsu bsvgdx tmf fgebqp m qthex mzhsu \\\n",
        "zmsl cdhcyd gtehbuthbg tvfghel.pddcvsu zdzhevdf ha jtmg jd tmod \\\n",
        "mqqhzcyvftdx gtehbuthbg tvfghel qms tdyc bf fdd thj vsxvovxbmyf msx \\\n",
        "qhzzbsvgvdf tmod cdefdodedx gtehbut ghbut gvzdf msx vsgh m ievutgde \\\n",
        "abgbed.\"\n",
        "\n",
        "mapping = {}\n",
        "words_per_line = 10\n",
        "plaintext = substitution_cipher(ciphertext, mapping)\n",
        "print_result(ciphertext, words_per_line)\n",
        "print_result(plaintext, words_per_line)"
      ],
      "metadata": {
        "colab": {
          "base_uri": "https://localhost:8080/"
        },
        "id": "B7w1_MAs7Z0C",
        "outputId": "410dedd5-40f7-49b2-f9d3-533a3b3e9039"
      },
      "execution_count": null,
      "outputs": [
        {
          "output_type": "stream",
          "name": "stdout",
          "text": [
            "gtd bsvgl vf fgedsugt dffml dkcymvsf gtmg gtd chjde ha \n",
            "\n",
            "aevdsxftvc tdycf bf gh id fgehsu aehz tmexftvcf. aevdsxf qms \n",
            "\n",
            "uvod bf gtd fgedsugt jd sddx jtds yvad udgf ghbut. \n",
            "\n",
            "vs mxxvgvhs, cdhcyd dkcedff bsvgl gtehbut yhod,amzvyl, aevdsxf, msx hgtdef \n",
            "\n",
            "ftmed fghevdf ha avsxvsu qhzzhs uehbsx jvgt fhzdhsd.gtded med zmsl \n",
            "\n",
            "idsdavgf ha fgmlvsu bsvgdx vs ghbut gvzdf, mf vg tdycf \n",
            "\n",
            "gh amqd qtmyydsuvsu fvgbmgvhsf jvgt qhbemud. gtd vzchegmsqd ha fgmlvsu \n",
            "\n",
            "bsvgdx tmf fgebqp m qthex mzhsu zmsl cdhcyd gtehbuthbg tvfghel.pddcvsu \n",
            "\n",
            "zdzhevdf ha jtmg jd tmod mqqhzcyvftdx gtehbuthbg tvfghel qms tdyc \n",
            "\n",
            "bf fdd thj vsxvovxbmyf msx qhzzbsvgvdf tmod cdefdodedx gtehbut ghbut \n",
            "\n",
            "gvzdf msx vsgh m ievutgde abgbed.\n",
            "\n",
            "\n",
            "*** ***** ** ******** ***** ******** **** *** ***** ** \n",
            "\n",
            "********** ***** ** ** ** ****** **** *********. ******* *** \n",
            "\n",
            "**** ** *** ******** ** **** **** **** **** *****. \n",
            "\n",
            "** ********, ****** ******* ***** ******* ****,******, *******, *** ****** \n",
            "\n",
            "***** ******* ** ******* ****** ****** **** *******.***** *** **** \n",
            "\n",
            "******** ** ******* ****** ** ***** *****, ** ** ***** \n",
            "\n",
            "** **** *********** ********** **** *******. *** ********** ** ******* \n",
            "\n",
            "****** *** ****** * ***** ***** **** ****** ********** *******.******* \n",
            "\n",
            "******** ** **** ** **** ************ ********** ******* *** **** \n",
            "\n",
            "** *** *** *********** *** *********** **** ********** ******* ***** \n",
            "\n",
            "***** *** **** * ******** ******.\n",
            "\n",
            "\n"
          ]
        }
      ]
    },
    {
      "cell_type": "code",
      "source": [
        "# let's cheack frequency of characters in the ciphertext\n",
        "\n",
        "calc_frequency(ciphertext)"
      ],
      "metadata": {
        "colab": {
          "base_uri": "https://localhost:8080/"
        },
        "id": "zTKqY1OO-KMb",
        "outputId": "02efcc00-1707-4c4b-fbe5-0955fbc582a9"
      },
      "execution_count": null,
      "outputs": [
        {
          "output_type": "stream",
          "name": "stdout",
          "text": [
            "Character:  , Frequency: 105\n",
            "Character: d, Frequency: 65\n",
            "Character: g, Frequency: 50\n",
            "Character: v, Frequency: 45\n",
            "Character: f, Frequency: 43\n",
            "Character: h, Frequency: 42\n",
            "Character: t, Frequency: 41\n",
            "Character: s, Frequency: 40\n",
            "Character: e, Frequency: 32\n",
            "Character: m, Frequency: 32\n",
            "Character: b, Frequency: 24\n",
            "Character: u, Frequency: 22\n",
            "Character: x, Frequency: 19\n",
            "Character: c, Frequency: 16\n",
            "Character: z, Frequency: 16\n",
            "Character: a, Frequency: 15\n",
            "Character: y, Frequency: 13\n",
            "Character: q, Frequency: 12\n",
            "Character: l, Frequency: 10\n",
            "Character: j, Frequency: 8\n",
            "Character: ., Frequency: 6\n",
            "Character: o, Frequency: 6\n",
            "Character: ,, Frequency: 5\n",
            "Character: i, Frequency: 3\n",
            "Character: k, Frequency: 2\n",
            "Character: p, Frequency: 2\n"
          ]
        }
      ]
    },
    {
      "cell_type": "code",
      "source": [
        "# here we can see that character \"m\" is a single letter word.\n",
        "# we know \"a\" and \"i\" are two single letter word\n",
        "# but in the ciphertext we can see that \"m\" is using in the middle of a sentence\n",
        "# we know out of \"a\" and \"i\", only \"a\" can be used in the middle of a sentence\n",
        "# let's map m=a\n",
        "\n",
        "mapping = {'m':'a'}\n",
        "words_per_line = 10\n",
        "plaintext = substitution_cipher(ciphertext, mapping)\n",
        "print_result(ciphertext, words_per_line)\n",
        "print_result(plaintext, words_per_line)"
      ],
      "metadata": {
        "colab": {
          "base_uri": "https://localhost:8080/"
        },
        "id": "yUeVYNe7Agyt",
        "outputId": "f474e484-faee-4bbd-d18d-a0caf4d44d4c"
      },
      "execution_count": null,
      "outputs": [
        {
          "output_type": "stream",
          "name": "stdout",
          "text": [
            "gtd bsvgl vf fgedsugt dffml dkcymvsf gtmg gtd chjde ha \n",
            "\n",
            "aevdsxftvc tdycf bf gh id fgehsu aehz tmexftvcf. aevdsxf qms \n",
            "\n",
            "uvod bf gtd fgedsugt jd sddx jtds yvad udgf ghbut. \n",
            "\n",
            "vs mxxvgvhs, cdhcyd dkcedff bsvgl gtehbut yhod,amzvyl, aevdsxf, msx hgtdef \n",
            "\n",
            "ftmed fghevdf ha avsxvsu qhzzhs uehbsx jvgt fhzdhsd.gtded med zmsl \n",
            "\n",
            "idsdavgf ha fgmlvsu bsvgdx vs ghbut gvzdf, mf vg tdycf \n",
            "\n",
            "gh amqd qtmyydsuvsu fvgbmgvhsf jvgt qhbemud. gtd vzchegmsqd ha fgmlvsu \n",
            "\n",
            "bsvgdx tmf fgebqp m qthex mzhsu zmsl cdhcyd gtehbuthbg tvfghel.pddcvsu \n",
            "\n",
            "zdzhevdf ha jtmg jd tmod mqqhzcyvftdx gtehbuthbg tvfghel qms tdyc \n",
            "\n",
            "bf fdd thj vsxvovxbmyf msx qhzzbsvgvdf tmod cdefdodedx gtehbut ghbut \n",
            "\n",
            "gvzdf msx vsgh m ievutgde abgbed.\n",
            "\n",
            "\n",
            "*** ***** ** ******** ***a* ****a*** **a* *** ***** ** \n",
            "\n",
            "********** ***** ** ** ** ****** **** *a*******. ******* *a* \n",
            "\n",
            "**** ** *** ******** ** **** **** **** **** *****. \n",
            "\n",
            "** a*******, ****** ******* ***** ******* ****,*a****, *******, a** ****** \n",
            "\n",
            "**a** ******* ** ******* ****** ****** **** *******.***** a** *a** \n",
            "\n",
            "******** ** **a**** ****** ** ***** *****, a* ** ***** \n",
            "\n",
            "** *a** **a******** ****a***** **** ****a**. *** ******a*** ** **a**** \n",
            "\n",
            "****** *a* ****** a ***** a**** *a** ****** ********** *******.******* \n",
            "\n",
            "******** ** **a* ** *a** a*********** ********** ******* *a* **** \n",
            "\n",
            "** *** *** ********a** a** *********** *a** ********** ******* ***** \n",
            "\n",
            "***** a** **** a ******** ******.\n",
            "\n",
            "\n"
          ]
        }
      ]
    },
    {
      "cell_type": "code",
      "source": [
        "# in line 6, word no 8, the word is \"a*\"\n",
        "# we know \"as\" is one of the most frequently used two letter words that starts with \"a\"\n",
        "# map f=s\n",
        "\n",
        "mapping = {'m':'a', 'f':'s'}\n",
        "words_per_line = 10\n",
        "plaintext = substitution_cipher(ciphertext, mapping)\n",
        "print_result(ciphertext, words_per_line)\n",
        "print_result(plaintext, words_per_line)"
      ],
      "metadata": {
        "colab": {
          "base_uri": "https://localhost:8080/"
        },
        "id": "aTQF3InmBBEi",
        "outputId": "3a366810-9602-4b1c-8cd8-0a599c825a9a"
      },
      "execution_count": null,
      "outputs": [
        {
          "output_type": "stream",
          "name": "stdout",
          "text": [
            "gtd bsvgl vf fgedsugt dffml dkcymvsf gtmg gtd chjde ha \n",
            "\n",
            "aevdsxftvc tdycf bf gh id fgehsu aehz tmexftvcf. aevdsxf qms \n",
            "\n",
            "uvod bf gtd fgedsugt jd sddx jtds yvad udgf ghbut. \n",
            "\n",
            "vs mxxvgvhs, cdhcyd dkcedff bsvgl gtehbut yhod,amzvyl, aevdsxf, msx hgtdef \n",
            "\n",
            "ftmed fghevdf ha avsxvsu qhzzhs uehbsx jvgt fhzdhsd.gtded med zmsl \n",
            "\n",
            "idsdavgf ha fgmlvsu bsvgdx vs ghbut gvzdf, mf vg tdycf \n",
            "\n",
            "gh amqd qtmyydsuvsu fvgbmgvhsf jvgt qhbemud. gtd vzchegmsqd ha fgmlvsu \n",
            "\n",
            "bsvgdx tmf fgebqp m qthex mzhsu zmsl cdhcyd gtehbuthbg tvfghel.pddcvsu \n",
            "\n",
            "zdzhevdf ha jtmg jd tmod mqqhzcyvftdx gtehbuthbg tvfghel qms tdyc \n",
            "\n",
            "bf fdd thj vsxvovxbmyf msx qhzzbsvgvdf tmod cdefdodedx gtehbut ghbut \n",
            "\n",
            "gvzdf msx vsgh m ievutgde abgbed.\n",
            "\n",
            "\n",
            "*** ***** *s s******* *ssa* ****a**s **a* *** ***** ** \n",
            "\n",
            "******s*** ****s *s ** ** s***** **** *a**s***s. ******s *a* \n",
            "\n",
            "**** *s *** s******* ** **** **** **** ***s *****. \n",
            "\n",
            "** a*******, ****** *****ss ***** ******* ****,*a****, ******s, a** *****s \n",
            "\n",
            "s*a** s*****s ** ******* ****** ****** **** s******.***** a** *a** \n",
            "\n",
            "*******s ** s*a**** ****** ** ***** ****s, as ** ****s \n",
            "\n",
            "** *a** **a******** s***a****s **** ****a**. *** ******a*** ** s*a**** \n",
            "\n",
            "****** *as s***** a ***** a**** *a** ****** ********** **s****.******* \n",
            "\n",
            "*******s ** **a* ** *a** a*******s*** ********** **s**** *a* **** \n",
            "\n",
            "*s s** *** ********a*s a** **********s *a** ***s****** ******* ***** \n",
            "\n",
            "****s a** **** a ******** ******.\n",
            "\n",
            "\n"
          ]
        }
      ]
    },
    {
      "cell_type": "code",
      "source": [
        "# line 1, word no 3, the word is \"*s\"\n",
        "# we know \"is\" is one of the most frequently used two letter words that ends with \"s\"\n",
        "# map v=i\n",
        "\n",
        "mapping = {'m':'a', 'f':'s', 'v':'i'}\n",
        "words_per_line = 10\n",
        "plaintext = substitution_cipher(ciphertext, mapping)\n",
        "print_result(ciphertext, words_per_line)\n",
        "print_result(plaintext, words_per_line)"
      ],
      "metadata": {
        "colab": {
          "base_uri": "https://localhost:8080/"
        },
        "id": "HFHRkEsrCGGl",
        "outputId": "134b7a0d-ced9-4fb2-b593-d885bc05c781"
      },
      "execution_count": null,
      "outputs": [
        {
          "output_type": "stream",
          "name": "stdout",
          "text": [
            "gtd bsvgl vf fgedsugt dffml dkcymvsf gtmg gtd chjde ha \n",
            "\n",
            "aevdsxftvc tdycf bf gh id fgehsu aehz tmexftvcf. aevdsxf qms \n",
            "\n",
            "uvod bf gtd fgedsugt jd sddx jtds yvad udgf ghbut. \n",
            "\n",
            "vs mxxvgvhs, cdhcyd dkcedff bsvgl gtehbut yhod,amzvyl, aevdsxf, msx hgtdef \n",
            "\n",
            "ftmed fghevdf ha avsxvsu qhzzhs uehbsx jvgt fhzdhsd.gtded med zmsl \n",
            "\n",
            "idsdavgf ha fgmlvsu bsvgdx vs ghbut gvzdf, mf vg tdycf \n",
            "\n",
            "gh amqd qtmyydsuvsu fvgbmgvhsf jvgt qhbemud. gtd vzchegmsqd ha fgmlvsu \n",
            "\n",
            "bsvgdx tmf fgebqp m qthex mzhsu zmsl cdhcyd gtehbuthbg tvfghel.pddcvsu \n",
            "\n",
            "zdzhevdf ha jtmg jd tmod mqqhzcyvftdx gtehbuthbg tvfghel qms tdyc \n",
            "\n",
            "bf fdd thj vsxvovxbmyf msx qhzzbsvgvdf tmod cdefdodedx gtehbut ghbut \n",
            "\n",
            "gvzdf msx vsgh m ievutgde abgbed.\n",
            "\n",
            "\n",
            "*** **i** is s******* *ssa* ****ai*s **a* *** ***** ** \n",
            "\n",
            "**i***s*i* ****s *s ** ** s***** **** *a**s*i*s. **i***s *a* \n",
            "\n",
            "*i** *s *** s******* ** **** **** *i** ***s *****. \n",
            "\n",
            "i* a**i*i**, ****** *****ss **i** ******* ****,*a*i**, **i***s, a** *****s \n",
            "\n",
            "s*a** s***i*s ** *i**i** ****** ****** *i** s******.***** a** *a** \n",
            "\n",
            "*****i*s ** s*a*i** **i*** i* ***** *i**s, as i* ****s \n",
            "\n",
            "** *a** **a*****i** si**a*i**s *i** ****a**. *** i*****a*** ** s*a*i** \n",
            "\n",
            "**i*** *as s***** a ***** a**** *a** ****** ********** *is****.****i** \n",
            "\n",
            "*****i*s ** **a* ** *a** a******is*** ********** *is**** *a* **** \n",
            "\n",
            "*s s** *** i**i*i**a*s a** ******i*i*s *a** ***s****** ******* ***** \n",
            "\n",
            "*i**s a** i*** a **i***** ******.\n",
            "\n",
            "\n"
          ]
        }
      ]
    },
    {
      "cell_type": "code",
      "source": [
        "# i am not finding any pattern\n",
        "# so let's check the frequency again\n",
        "\n",
        "calc_frequency(ciphertext)"
      ],
      "metadata": {
        "colab": {
          "base_uri": "https://localhost:8080/"
        },
        "id": "Z5paEeRkCYQP",
        "outputId": "46eed145-dd8a-4dc0-e50f-bd6cf7af6edd"
      },
      "execution_count": null,
      "outputs": [
        {
          "output_type": "stream",
          "name": "stdout",
          "text": [
            "Character:  , Frequency: 105\n",
            "Character: d, Frequency: 65\n",
            "Character: g, Frequency: 50\n",
            "Character: v, Frequency: 45\n",
            "Character: f, Frequency: 43\n",
            "Character: h, Frequency: 42\n",
            "Character: t, Frequency: 41\n",
            "Character: s, Frequency: 40\n",
            "Character: e, Frequency: 32\n",
            "Character: m, Frequency: 32\n",
            "Character: b, Frequency: 24\n",
            "Character: u, Frequency: 22\n",
            "Character: x, Frequency: 19\n",
            "Character: c, Frequency: 16\n",
            "Character: z, Frequency: 16\n",
            "Character: a, Frequency: 15\n",
            "Character: y, Frequency: 13\n",
            "Character: q, Frequency: 12\n",
            "Character: l, Frequency: 10\n",
            "Character: j, Frequency: 8\n",
            "Character: ., Frequency: 6\n",
            "Character: o, Frequency: 6\n",
            "Character: ,, Frequency: 5\n",
            "Character: i, Frequency: 3\n",
            "Character: k, Frequency: 2\n",
            "Character: p, Frequency: 2\n"
          ]
        }
      ]
    },
    {
      "cell_type": "code",
      "source": [
        "# from frequency, we can see that 'd' comes 65 times\n",
        "# we know 'e' is one of the most frequently used character\n",
        "# let's map d=e\n",
        "\n",
        "mapping = {'m':'a', 'f':'s', 'v':'i', 'd':'e'}\n",
        "words_per_line = 10\n",
        "plaintext = substitution_cipher(ciphertext, mapping)\n",
        "print_result(ciphertext, words_per_line)\n",
        "print_result(plaintext, words_per_line)"
      ],
      "metadata": {
        "colab": {
          "base_uri": "https://localhost:8080/"
        },
        "id": "_JlzoyuvCpf3",
        "outputId": "8dd659b9-88ae-4dd2-aa6e-0b3862a3d22b"
      },
      "execution_count": null,
      "outputs": [
        {
          "output_type": "stream",
          "name": "stdout",
          "text": [
            "gtd bsvgl vf fgedsugt dffml dkcymvsf gtmg gtd chjde ha \n",
            "\n",
            "aevdsxftvc tdycf bf gh id fgehsu aehz tmexftvcf. aevdsxf qms \n",
            "\n",
            "uvod bf gtd fgedsugt jd sddx jtds yvad udgf ghbut. \n",
            "\n",
            "vs mxxvgvhs, cdhcyd dkcedff bsvgl gtehbut yhod,amzvyl, aevdsxf, msx hgtdef \n",
            "\n",
            "ftmed fghevdf ha avsxvsu qhzzhs uehbsx jvgt fhzdhsd.gtded med zmsl \n",
            "\n",
            "idsdavgf ha fgmlvsu bsvgdx vs ghbut gvzdf, mf vg tdycf \n",
            "\n",
            "gh amqd qtmyydsuvsu fvgbmgvhsf jvgt qhbemud. gtd vzchegmsqd ha fgmlvsu \n",
            "\n",
            "bsvgdx tmf fgebqp m qthex mzhsu zmsl cdhcyd gtehbuthbg tvfghel.pddcvsu \n",
            "\n",
            "zdzhevdf ha jtmg jd tmod mqqhzcyvftdx gtehbuthbg tvfghel qms tdyc \n",
            "\n",
            "bf fdd thj vsxvovxbmyf msx qhzzbsvgvdf tmod cdefdodedx gtehbut ghbut \n",
            "\n",
            "gvzdf msx vsgh m ievutgde abgbed.\n",
            "\n",
            "\n",
            "**e **i** is s**e**** essa* e***ai*s **a* **e ***e* ** \n",
            "\n",
            "**ie**s*i* *e**s *s ** *e s***** **** *a**s*i*s. **ie**s *a* \n",
            "\n",
            "*i*e *s **e s**e**** *e *ee* **e* *i*e *e*s *****. \n",
            "\n",
            "i* a**i*i**, *e***e e***ess **i** ******* ***e,*a*i**, **ie**s, a** ***e*s \n",
            "\n",
            "s*a*e s***ies ** *i**i** ****** ****** *i** s**e**e.**e*e a*e *a** \n",
            "\n",
            "*e*e*i*s ** s*a*i** **i*e* i* ***** *i*es, as i* *e**s \n",
            "\n",
            "** *a*e **a**e**i** si**a*i**s *i** ****a*e. **e i*****a**e ** s*a*i** \n",
            "\n",
            "**i*e* *as s***** a ***** a**** *a** *e***e ********** *is****.*ee*i** \n",
            "\n",
            "*e***ies ** **a* *e *a*e a******is*e* ********** *is**** *a* *e** \n",
            "\n",
            "*s see *** i**i*i**a*s a** ******i*ies *a*e *e*se*e*e* ******* ***** \n",
            "\n",
            "*i*es a** i*** a **i***e* *****e.\n",
            "\n",
            "\n"
          ]
        }
      ]
    },
    {
      "cell_type": "code",
      "source": [
        "# line 1, word no 1, the word is \"**e\"\n",
        "# we \"the\" is the most frequently used three letter word\n",
        "# and again frequency of 'g' is second most. we know 't' is one of the most frequently used characters\n",
        "# so let's map g=t and t=h\n",
        "\n",
        "mapping = {'m':'a', 'f':'s', 'v':'i', 'd':'e', 'g':'t', 't':'h'}\n",
        "words_per_line = 10\n",
        "plaintext = substitution_cipher(ciphertext, mapping)\n",
        "print_result(ciphertext, words_per_line)\n",
        "print_result(plaintext, words_per_line)"
      ],
      "metadata": {
        "colab": {
          "base_uri": "https://localhost:8080/"
        },
        "id": "qv3CkR2cDOv9",
        "outputId": "50bf7bee-af0e-46fd-e31c-28d217e39fb0"
      },
      "execution_count": null,
      "outputs": [
        {
          "output_type": "stream",
          "name": "stdout",
          "text": [
            "gtd bsvgl vf fgedsugt dffml dkcymvsf gtmg gtd chjde ha \n",
            "\n",
            "aevdsxftvc tdycf bf gh id fgehsu aehz tmexftvcf. aevdsxf qms \n",
            "\n",
            "uvod bf gtd fgedsugt jd sddx jtds yvad udgf ghbut. \n",
            "\n",
            "vs mxxvgvhs, cdhcyd dkcedff bsvgl gtehbut yhod,amzvyl, aevdsxf, msx hgtdef \n",
            "\n",
            "ftmed fghevdf ha avsxvsu qhzzhs uehbsx jvgt fhzdhsd.gtded med zmsl \n",
            "\n",
            "idsdavgf ha fgmlvsu bsvgdx vs ghbut gvzdf, mf vg tdycf \n",
            "\n",
            "gh amqd qtmyydsuvsu fvgbmgvhsf jvgt qhbemud. gtd vzchegmsqd ha fgmlvsu \n",
            "\n",
            "bsvgdx tmf fgebqp m qthex mzhsu zmsl cdhcyd gtehbuthbg tvfghel.pddcvsu \n",
            "\n",
            "zdzhevdf ha jtmg jd tmod mqqhzcyvftdx gtehbuthbg tvfghel qms tdyc \n",
            "\n",
            "bf fdd thj vsxvovxbmyf msx qhzzbsvgvdf tmod cdefdodedx gtehbut ghbut \n",
            "\n",
            "gvzdf msx vsgh m ievutgde abgbed.\n",
            "\n",
            "\n",
            "the **it* is st*e**th essa* e***ai*s that the ***e* ** \n",
            "\n",
            "**ie**shi* he**s *s t* *e st**** **** ha**shi*s. **ie**s *a* \n",
            "\n",
            "*i*e *s the st*e**th *e *ee* *he* *i*e *ets t***h. \n",
            "\n",
            "i* a**iti**, *e***e e***ess **it* th****h ***e,*a*i**, **ie**s, a** *the*s \n",
            "\n",
            "sha*e st**ies ** *i**i** ****** ****** *ith s**e**e.the*e a*e *a** \n",
            "\n",
            "*e*e*its ** sta*i** **ite* i* t***h ti*es, as it he**s \n",
            "\n",
            "t* *a*e *ha**e**i** sit*ati**s *ith ****a*e. the i****ta**e ** sta*i** \n",
            "\n",
            "**ite* has st**** a *h*** a**** *a** *e***e th****h**t hist***.*ee*i** \n",
            "\n",
            "*e***ies ** *hat *e ha*e a******ishe* th****h**t hist*** *a* he** \n",
            "\n",
            "*s see h** i**i*i**a*s a** ******ities ha*e *e*se*e*e* th****h t***h \n",
            "\n",
            "ti*es a** i*t* a **i*hte* **t**e.\n",
            "\n",
            "\n"
          ]
        }
      ]
    },
    {
      "cell_type": "code",
      "source": [
        "# in line 1 word no 10, it's a two letter word\n",
        "# we know the word \"of\" is one of the most frequently used two letter word\n",
        "# so we map h=o and a=f\n",
        "\n",
        "mapping = {'m':'a', 'f':'s', 'v':'i', 'd':'e', 'g':'t', 't':'h', 'h':'o', 'a':'f'}\n",
        "words_per_line = 10\n",
        "plaintext = substitution_cipher(ciphertext, mapping)\n",
        "print_result(ciphertext, words_per_line)\n",
        "print_result(plaintext, words_per_line)"
      ],
      "metadata": {
        "colab": {
          "base_uri": "https://localhost:8080/"
        },
        "id": "hzLXNZzuE5cp",
        "outputId": "240790b4-d8be-48c6-a990-d19d641ca71c"
      },
      "execution_count": null,
      "outputs": [
        {
          "output_type": "stream",
          "name": "stdout",
          "text": [
            "gtd bsvgl vf fgedsugt dffml dkcymvsf gtmg gtd chjde ha \n",
            "\n",
            "aevdsxftvc tdycf bf gh id fgehsu aehz tmexftvcf. aevdsxf qms \n",
            "\n",
            "uvod bf gtd fgedsugt jd sddx jtds yvad udgf ghbut. \n",
            "\n",
            "vs mxxvgvhs, cdhcyd dkcedff bsvgl gtehbut yhod,amzvyl, aevdsxf, msx hgtdef \n",
            "\n",
            "ftmed fghevdf ha avsxvsu qhzzhs uehbsx jvgt fhzdhsd.gtded med zmsl \n",
            "\n",
            "idsdavgf ha fgmlvsu bsvgdx vs ghbut gvzdf, mf vg tdycf \n",
            "\n",
            "gh amqd qtmyydsuvsu fvgbmgvhsf jvgt qhbemud. gtd vzchegmsqd ha fgmlvsu \n",
            "\n",
            "bsvgdx tmf fgebqp m qthex mzhsu zmsl cdhcyd gtehbuthbg tvfghel.pddcvsu \n",
            "\n",
            "zdzhevdf ha jtmg jd tmod mqqhzcyvftdx gtehbuthbg tvfghel qms tdyc \n",
            "\n",
            "bf fdd thj vsxvovxbmyf msx qhzzbsvgvdf tmod cdefdodedx gtehbut ghbut \n",
            "\n",
            "gvzdf msx vsgh m ievutgde abgbed.\n",
            "\n",
            "\n",
            "the **it* is st*e**th essa* e***ai*s that the *o*e* of \n",
            "\n",
            "f*ie**shi* he**s *s to *e st*o** f*o* ha**shi*s. f*ie**s *a* \n",
            "\n",
            "*i*e *s the st*e**th *e *ee* *he* *ife *ets to**h. \n",
            "\n",
            "i* a**itio*, *eo**e e***ess **it* th*o**h *o*e,fa*i**, f*ie**s, a** othe*s \n",
            "\n",
            "sha*e sto*ies of fi**i** *o**o* **o*** *ith so*eo*e.the*e a*e *a** \n",
            "\n",
            "*e*efits of sta*i** **ite* i* to**h ti*es, as it he**s \n",
            "\n",
            "to fa*e *ha**e**i** sit*atio*s *ith *o**a*e. the i**o*ta**e of sta*i** \n",
            "\n",
            "**ite* has st**** a *ho** a*o** *a** *eo**e th*o**ho*t histo**.*ee*i** \n",
            "\n",
            "*e*o*ies of *hat *e ha*e a**o***ishe* th*o**ho*t histo** *a* he** \n",
            "\n",
            "*s see ho* i**i*i**a*s a** *o****ities ha*e *e*se*e*e* th*o**h to**h \n",
            "\n",
            "ti*es a** i*to a **i*hte* f*t**e.\n",
            "\n",
            "\n"
          ]
        }
      ]
    },
    {
      "cell_type": "code",
      "source": [
        "# line 3, word no 2, the word is \"*s\"\n",
        "# we know \"is,as,us\" those are some of most frequently used two letter word that ends with 's'\n",
        "# but we already mapped \"i\" and \"a\", so we need to map \"u\" here\n",
        "# let's map b=u\n",
        "\n",
        "mapping = {'m':'a', 'f':'s', 'v':'i', 'd':'e', 'g':'t', 't':'h', 'h':'o', 'a':'f', 'b':'u'}\n",
        "words_per_line = 10\n",
        "plaintext = substitution_cipher(ciphertext, mapping)\n",
        "print_result(ciphertext, words_per_line)\n",
        "print_result(plaintext, words_per_line)"
      ],
      "metadata": {
        "colab": {
          "base_uri": "https://localhost:8080/"
        },
        "id": "RYLWFWFNF0Os",
        "outputId": "7c6e20c5-1ab0-400d-cb1f-4d907fae5483"
      },
      "execution_count": null,
      "outputs": [
        {
          "output_type": "stream",
          "name": "stdout",
          "text": [
            "gtd bsvgl vf fgedsugt dffml dkcymvsf gtmg gtd chjde ha \n",
            "\n",
            "aevdsxftvc tdycf bf gh id fgehsu aehz tmexftvcf. aevdsxf qms \n",
            "\n",
            "uvod bf gtd fgedsugt jd sddx jtds yvad udgf ghbut. \n",
            "\n",
            "vs mxxvgvhs, cdhcyd dkcedff bsvgl gtehbut yhod,amzvyl, aevdsxf, msx hgtdef \n",
            "\n",
            "ftmed fghevdf ha avsxvsu qhzzhs uehbsx jvgt fhzdhsd.gtded med zmsl \n",
            "\n",
            "idsdavgf ha fgmlvsu bsvgdx vs ghbut gvzdf, mf vg tdycf \n",
            "\n",
            "gh amqd qtmyydsuvsu fvgbmgvhsf jvgt qhbemud. gtd vzchegmsqd ha fgmlvsu \n",
            "\n",
            "bsvgdx tmf fgebqp m qthex mzhsu zmsl cdhcyd gtehbuthbg tvfghel.pddcvsu \n",
            "\n",
            "zdzhevdf ha jtmg jd tmod mqqhzcyvftdx gtehbuthbg tvfghel qms tdyc \n",
            "\n",
            "bf fdd thj vsxvovxbmyf msx qhzzbsvgvdf tmod cdefdodedx gtehbut ghbut \n",
            "\n",
            "gvzdf msx vsgh m ievutgde abgbed.\n",
            "\n",
            "\n",
            "the u*it* is st*e**th essa* e***ai*s that the *o*e* of \n",
            "\n",
            "f*ie**shi* he**s us to *e st*o** f*o* ha**shi*s. f*ie**s *a* \n",
            "\n",
            "*i*e us the st*e**th *e *ee* *he* *ife *ets tou*h. \n",
            "\n",
            "i* a**itio*, *eo**e e***ess u*it* th*ou*h *o*e,fa*i**, f*ie**s, a** othe*s \n",
            "\n",
            "sha*e sto*ies of fi**i** *o**o* **ou** *ith so*eo*e.the*e a*e *a** \n",
            "\n",
            "*e*efits of sta*i** u*ite* i* tou*h ti*es, as it he**s \n",
            "\n",
            "to fa*e *ha**e**i** situatio*s *ith *ou*a*e. the i**o*ta**e of sta*i** \n",
            "\n",
            "u*ite* has st*u** a *ho** a*o** *a** *eo**e th*ou*hout histo**.*ee*i** \n",
            "\n",
            "*e*o*ies of *hat *e ha*e a**o***ishe* th*ou*hout histo** *a* he** \n",
            "\n",
            "us see ho* i**i*i*ua*s a** *o**u*ities ha*e *e*se*e*e* th*ou*h tou*h \n",
            "\n",
            "ti*es a** i*to a **i*hte* futu*e.\n",
            "\n",
            "\n"
          ]
        }
      ]
    },
    {
      "cell_type": "code",
      "source": [
        "# the last word is \"futu*e\"\n",
        "# so let's consider it as \"future\"\n",
        "# let's map e=r\n",
        "\n",
        "mapping = {'m':'a', 'f':'s', 'v':'i', 'd':'e', 'g':'t', 't':'h', 'h':'o', 'a':'f', 'b':'u', 'e':'r'}\n",
        "words_per_line = 10\n",
        "plaintext = substitution_cipher(ciphertext, mapping)\n",
        "print_result(ciphertext, words_per_line)\n",
        "print_result(plaintext, words_per_line)"
      ],
      "metadata": {
        "colab": {
          "base_uri": "https://localhost:8080/"
        },
        "id": "8XI8uA9rGcKG",
        "outputId": "a6963bd2-ce5b-41ca-f64a-f8690d46ed09"
      },
      "execution_count": null,
      "outputs": [
        {
          "output_type": "stream",
          "name": "stdout",
          "text": [
            "gtd bsvgl vf fgedsugt dffml dkcymvsf gtmg gtd chjde ha \n",
            "\n",
            "aevdsxftvc tdycf bf gh id fgehsu aehz tmexftvcf. aevdsxf qms \n",
            "\n",
            "uvod bf gtd fgedsugt jd sddx jtds yvad udgf ghbut. \n",
            "\n",
            "vs mxxvgvhs, cdhcyd dkcedff bsvgl gtehbut yhod,amzvyl, aevdsxf, msx hgtdef \n",
            "\n",
            "ftmed fghevdf ha avsxvsu qhzzhs uehbsx jvgt fhzdhsd.gtded med zmsl \n",
            "\n",
            "idsdavgf ha fgmlvsu bsvgdx vs ghbut gvzdf, mf vg tdycf \n",
            "\n",
            "gh amqd qtmyydsuvsu fvgbmgvhsf jvgt qhbemud. gtd vzchegmsqd ha fgmlvsu \n",
            "\n",
            "bsvgdx tmf fgebqp m qthex mzhsu zmsl cdhcyd gtehbuthbg tvfghel.pddcvsu \n",
            "\n",
            "zdzhevdf ha jtmg jd tmod mqqhzcyvftdx gtehbuthbg tvfghel qms tdyc \n",
            "\n",
            "bf fdd thj vsxvovxbmyf msx qhzzbsvgvdf tmod cdefdodedx gtehbut ghbut \n",
            "\n",
            "gvzdf msx vsgh m ievutgde abgbed.\n",
            "\n",
            "\n",
            "the u*it* is stre**th essa* e***ai*s that the *o*er of \n",
            "\n",
            "frie**shi* he**s us to *e stro** fro* har*shi*s. frie**s *a* \n",
            "\n",
            "*i*e us the stre**th *e *ee* *he* *ife *ets tou*h. \n",
            "\n",
            "i* a**itio*, *eo**e e**ress u*it* throu*h *o*e,fa*i**, frie**s, a** others \n",
            "\n",
            "share stories of fi**i** *o**o* *rou** *ith so*eo*e.there are *a** \n",
            "\n",
            "*e*efits of sta*i** u*ite* i* tou*h ti*es, as it he**s \n",
            "\n",
            "to fa*e *ha**e**i** situatio*s *ith *oura*e. the i**orta**e of sta*i** \n",
            "\n",
            "u*ite* has stru** a *hor* a*o** *a** *eo**e throu*hout histor*.*ee*i** \n",
            "\n",
            "*e*ories of *hat *e ha*e a**o***ishe* throu*hout histor* *a* he** \n",
            "\n",
            "us see ho* i**i*i*ua*s a** *o**u*ities ha*e *erse*ere* throu*h tou*h \n",
            "\n",
            "ti*es a** i*to a *ri*hter future.\n",
            "\n",
            "\n"
          ]
        }
      ]
    },
    {
      "cell_type": "code",
      "source": [
        "# in line 4, word no 1, the word is \"i*\"\n",
        "# we know \"in\" is one of the most frequently used two letter word that starts with \"i\"\n",
        "# let's map s=n\n",
        "\n",
        "mapping = {'m':'a', 'f':'s', 'v':'i', 'd':'e', 'g':'t', 't':'h', 'h':'o', 'a':'f', 'b':'u', 'e':'r', 's':'n'}\n",
        "words_per_line = 10\n",
        "plaintext = substitution_cipher(ciphertext, mapping)\n",
        "print_result(ciphertext, words_per_line)\n",
        "print_result(plaintext, words_per_line)"
      ],
      "metadata": {
        "colab": {
          "base_uri": "https://localhost:8080/"
        },
        "id": "fuJTDZOvHMx_",
        "outputId": "02d9dd1f-fbdb-4330-f0cd-8e55e2d5e5cf"
      },
      "execution_count": null,
      "outputs": [
        {
          "output_type": "stream",
          "name": "stdout",
          "text": [
            "gtd bsvgl vf fgedsugt dffml dkcymvsf gtmg gtd chjde ha \n",
            "\n",
            "aevdsxftvc tdycf bf gh id fgehsu aehz tmexftvcf. aevdsxf qms \n",
            "\n",
            "uvod bf gtd fgedsugt jd sddx jtds yvad udgf ghbut. \n",
            "\n",
            "vs mxxvgvhs, cdhcyd dkcedff bsvgl gtehbut yhod,amzvyl, aevdsxf, msx hgtdef \n",
            "\n",
            "ftmed fghevdf ha avsxvsu qhzzhs uehbsx jvgt fhzdhsd.gtded med zmsl \n",
            "\n",
            "idsdavgf ha fgmlvsu bsvgdx vs ghbut gvzdf, mf vg tdycf \n",
            "\n",
            "gh amqd qtmyydsuvsu fvgbmgvhsf jvgt qhbemud. gtd vzchegmsqd ha fgmlvsu \n",
            "\n",
            "bsvgdx tmf fgebqp m qthex mzhsu zmsl cdhcyd gtehbuthbg tvfghel.pddcvsu \n",
            "\n",
            "zdzhevdf ha jtmg jd tmod mqqhzcyvftdx gtehbuthbg tvfghel qms tdyc \n",
            "\n",
            "bf fdd thj vsxvovxbmyf msx qhzzbsvgvdf tmod cdefdodedx gtehbut ghbut \n",
            "\n",
            "gvzdf msx vsgh m ievutgde abgbed.\n",
            "\n",
            "\n",
            "the unit* is stren*th essa* e***ains that the *o*er of \n",
            "\n",
            "frien*shi* he**s us to *e stron* fro* har*shi*s. frien*s *an \n",
            "\n",
            "*i*e us the stren*th *e nee* *hen *ife *ets tou*h. \n",
            "\n",
            "in a**ition, *eo**e e**ress unit* throu*h *o*e,fa*i**, frien*s, an* others \n",
            "\n",
            "share stories of fin*in* *o**on *roun* *ith so*eone.there are *an* \n",
            "\n",
            "*enefits of sta*in* unite* in tou*h ti*es, as it he**s \n",
            "\n",
            "to fa*e *ha**en*in* situations *ith *oura*e. the i**ortan*e of sta*in* \n",
            "\n",
            "unite* has stru** a *hor* a*on* *an* *eo**e throu*hout histor*.*ee*in* \n",
            "\n",
            "*e*ories of *hat *e ha*e a**o***ishe* throu*hout histor* *an he** \n",
            "\n",
            "us see ho* in*i*i*ua*s an* *o**unities ha*e *erse*ere* throu*h tou*h \n",
            "\n",
            "ti*es an* into a *ri*hter future.\n",
            "\n",
            "\n"
          ]
        }
      ]
    },
    {
      "cell_type": "code",
      "source": [
        "# let's consider the word \"stren*th\" as \"strength\"\n",
        "# let's map u=g\n",
        "\n",
        "mapping = {'m':'a', 'f':'s', 'v':'i', 'd':'e', 'g':'t', 't':'h', 'h':'o', 'a':'f', 'b':'u', 'e':'r', 's':'n', 'u':'g'}\n",
        "words_per_line = 10\n",
        "plaintext = substitution_cipher(ciphertext, mapping)\n",
        "print_result(ciphertext, words_per_line)\n",
        "print_result(plaintext, words_per_line)"
      ],
      "metadata": {
        "colab": {
          "base_uri": "https://localhost:8080/"
        },
        "id": "brZsMT8LHqME",
        "outputId": "b03193b9-31f1-4ddb-fed5-324a9d4eb4b5"
      },
      "execution_count": null,
      "outputs": [
        {
          "output_type": "stream",
          "name": "stdout",
          "text": [
            "gtd bsvgl vf fgedsugt dffml dkcymvsf gtmg gtd chjde ha \n",
            "\n",
            "aevdsxftvc tdycf bf gh id fgehsu aehz tmexftvcf. aevdsxf qms \n",
            "\n",
            "uvod bf gtd fgedsugt jd sddx jtds yvad udgf ghbut. \n",
            "\n",
            "vs mxxvgvhs, cdhcyd dkcedff bsvgl gtehbut yhod,amzvyl, aevdsxf, msx hgtdef \n",
            "\n",
            "ftmed fghevdf ha avsxvsu qhzzhs uehbsx jvgt fhzdhsd.gtded med zmsl \n",
            "\n",
            "idsdavgf ha fgmlvsu bsvgdx vs ghbut gvzdf, mf vg tdycf \n",
            "\n",
            "gh amqd qtmyydsuvsu fvgbmgvhsf jvgt qhbemud. gtd vzchegmsqd ha fgmlvsu \n",
            "\n",
            "bsvgdx tmf fgebqp m qthex mzhsu zmsl cdhcyd gtehbuthbg tvfghel.pddcvsu \n",
            "\n",
            "zdzhevdf ha jtmg jd tmod mqqhzcyvftdx gtehbuthbg tvfghel qms tdyc \n",
            "\n",
            "bf fdd thj vsxvovxbmyf msx qhzzbsvgvdf tmod cdefdodedx gtehbut ghbut \n",
            "\n",
            "gvzdf msx vsgh m ievutgde abgbed.\n",
            "\n",
            "\n",
            "the unit* is strength essa* e***ains that the *o*er of \n",
            "\n",
            "frien*shi* he**s us to *e strong fro* har*shi*s. frien*s *an \n",
            "\n",
            "gi*e us the strength *e nee* *hen *ife gets tough. \n",
            "\n",
            "in a**ition, *eo**e e**ress unit* through *o*e,fa*i**, frien*s, an* others \n",
            "\n",
            "share stories of fin*ing *o**on groun* *ith so*eone.there are *an* \n",
            "\n",
            "*enefits of sta*ing unite* in tough ti*es, as it he**s \n",
            "\n",
            "to fa*e *ha**enging situations *ith *ourage. the i**ortan*e of sta*ing \n",
            "\n",
            "unite* has stru** a *hor* a*ong *an* *eo**e throughout histor*.*ee*ing \n",
            "\n",
            "*e*ories of *hat *e ha*e a**o***ishe* throughout histor* *an he** \n",
            "\n",
            "us see ho* in*i*i*ua*s an* *o**unities ha*e *erse*ere* through tough \n",
            "\n",
            "ti*es an* into a *righter future.\n",
            "\n",
            "\n"
          ]
        }
      ]
    },
    {
      "cell_type": "code",
      "source": [
        "# line 2, word 7, the word is \"fro*\"\n",
        "# let's consider this as \"from\"\n",
        "# map z=m\n",
        "\n",
        "mapping = {'m':'a', 'f':'s', 'v':'i', 'd':'e', 'g':'t', 't':'h', 'h':'o', 'a':'f', 'b':'u', 'e':'r', 's':'n', 'u':'g', 'z':'m'}\n",
        "words_per_line = 10\n",
        "plaintext = substitution_cipher(ciphertext, mapping)\n",
        "print_result(ciphertext, words_per_line)\n",
        "print_result(plaintext, words_per_line)"
      ],
      "metadata": {
        "colab": {
          "base_uri": "https://localhost:8080/"
        },
        "id": "G76MS4YZIdXW",
        "outputId": "17404058-00d5-423a-c081-a8290f737109"
      },
      "execution_count": null,
      "outputs": [
        {
          "output_type": "stream",
          "name": "stdout",
          "text": [
            "gtd bsvgl vf fgedsugt dffml dkcymvsf gtmg gtd chjde ha \n",
            "\n",
            "aevdsxftvc tdycf bf gh id fgehsu aehz tmexftvcf. aevdsxf qms \n",
            "\n",
            "uvod bf gtd fgedsugt jd sddx jtds yvad udgf ghbut. \n",
            "\n",
            "vs mxxvgvhs, cdhcyd dkcedff bsvgl gtehbut yhod,amzvyl, aevdsxf, msx hgtdef \n",
            "\n",
            "ftmed fghevdf ha avsxvsu qhzzhs uehbsx jvgt fhzdhsd.gtded med zmsl \n",
            "\n",
            "idsdavgf ha fgmlvsu bsvgdx vs ghbut gvzdf, mf vg tdycf \n",
            "\n",
            "gh amqd qtmyydsuvsu fvgbmgvhsf jvgt qhbemud. gtd vzchegmsqd ha fgmlvsu \n",
            "\n",
            "bsvgdx tmf fgebqp m qthex mzhsu zmsl cdhcyd gtehbuthbg tvfghel.pddcvsu \n",
            "\n",
            "zdzhevdf ha jtmg jd tmod mqqhzcyvftdx gtehbuthbg tvfghel qms tdyc \n",
            "\n",
            "bf fdd thj vsxvovxbmyf msx qhzzbsvgvdf tmod cdefdodedx gtehbut ghbut \n",
            "\n",
            "gvzdf msx vsgh m ievutgde abgbed.\n",
            "\n",
            "\n",
            "the unit* is strength essa* e***ains that the *o*er of \n",
            "\n",
            "frien*shi* he**s us to *e strong from har*shi*s. frien*s *an \n",
            "\n",
            "gi*e us the strength *e nee* *hen *ife gets tough. \n",
            "\n",
            "in a**ition, *eo**e e**ress unit* through *o*e,fami**, frien*s, an* others \n",
            "\n",
            "share stories of fin*ing *ommon groun* *ith someone.there are man* \n",
            "\n",
            "*enefits of sta*ing unite* in tough times, as it he**s \n",
            "\n",
            "to fa*e *ha**enging situations *ith *ourage. the im*ortan*e of sta*ing \n",
            "\n",
            "unite* has stru** a *hor* among man* *eo**e throughout histor*.*ee*ing \n",
            "\n",
            "memories of *hat *e ha*e a**om**ishe* throughout histor* *an he** \n",
            "\n",
            "us see ho* in*i*i*ua*s an* *ommunities ha*e *erse*ere* through tough \n",
            "\n",
            "times an* into a *righter future.\n",
            "\n",
            "\n"
          ]
        }
      ]
    },
    {
      "cell_type": "code",
      "source": [
        "# line 1, word 2, consider \"unit*\" as \"unity\"\n",
        "# map l=y\n",
        "\n",
        "mapping = {'m':'a', 'f':'s', 'v':'i', 'd':'e', 'g':'t', 't':'h', 'h':'o', 'a':'f', 'b':'u', 'e':'r', 's':'n', 'u':'g', 'z':'m', 'l':'y'}\n",
        "words_per_line = 10\n",
        "plaintext = substitution_cipher(ciphertext, mapping)\n",
        "print_result(ciphertext, words_per_line)\n",
        "print_result(plaintext, words_per_line)"
      ],
      "metadata": {
        "colab": {
          "base_uri": "https://localhost:8080/"
        },
        "id": "XukKArljJKq9",
        "outputId": "2f98aca4-1711-478c-d0d5-24d9ff18a6fe"
      },
      "execution_count": null,
      "outputs": [
        {
          "output_type": "stream",
          "name": "stdout",
          "text": [
            "gtd bsvgl vf fgedsugt dffml dkcymvsf gtmg gtd chjde ha \n",
            "\n",
            "aevdsxftvc tdycf bf gh id fgehsu aehz tmexftvcf. aevdsxf qms \n",
            "\n",
            "uvod bf gtd fgedsugt jd sddx jtds yvad udgf ghbut. \n",
            "\n",
            "vs mxxvgvhs, cdhcyd dkcedff bsvgl gtehbut yhod,amzvyl, aevdsxf, msx hgtdef \n",
            "\n",
            "ftmed fghevdf ha avsxvsu qhzzhs uehbsx jvgt fhzdhsd.gtded med zmsl \n",
            "\n",
            "idsdavgf ha fgmlvsu bsvgdx vs ghbut gvzdf, mf vg tdycf \n",
            "\n",
            "gh amqd qtmyydsuvsu fvgbmgvhsf jvgt qhbemud. gtd vzchegmsqd ha fgmlvsu \n",
            "\n",
            "bsvgdx tmf fgebqp m qthex mzhsu zmsl cdhcyd gtehbuthbg tvfghel.pddcvsu \n",
            "\n",
            "zdzhevdf ha jtmg jd tmod mqqhzcyvftdx gtehbuthbg tvfghel qms tdyc \n",
            "\n",
            "bf fdd thj vsxvovxbmyf msx qhzzbsvgvdf tmod cdefdodedx gtehbut ghbut \n",
            "\n",
            "gvzdf msx vsgh m ievutgde abgbed.\n",
            "\n",
            "\n",
            "the unity is strength essay e***ains that the *o*er of \n",
            "\n",
            "frien*shi* he**s us to *e strong from har*shi*s. frien*s *an \n",
            "\n",
            "gi*e us the strength *e nee* *hen *ife gets tough. \n",
            "\n",
            "in a**ition, *eo**e e**ress unity through *o*e,fami*y, frien*s, an* others \n",
            "\n",
            "share stories of fin*ing *ommon groun* *ith someone.there are many \n",
            "\n",
            "*enefits of staying unite* in tough times, as it he**s \n",
            "\n",
            "to fa*e *ha**enging situations *ith *ourage. the im*ortan*e of staying \n",
            "\n",
            "unite* has stru** a *hor* among many *eo**e throughout history.*ee*ing \n",
            "\n",
            "memories of *hat *e ha*e a**om**ishe* throughout history *an he** \n",
            "\n",
            "us see ho* in*i*i*ua*s an* *ommunities ha*e *erse*ere* through tough \n",
            "\n",
            "times an* into a *righter future.\n",
            "\n",
            "\n"
          ]
        }
      ]
    },
    {
      "cell_type": "code",
      "source": [
        "# line 2, word 9, consider \"frien*s\" as \"friends\"\n",
        "# map x=d\n",
        "\n",
        "mapping = {'m':'a', 'f':'s', 'v':'i', 'd':'e', 'g':'t', 't':'h', 'h':'o', 'a':'f', 'b':'u', 'e':'r', 's':'n', 'u':'g', 'z':'m', 'l':'y', 'x':'d'}\n",
        "words_per_line = 10\n",
        "plaintext = substitution_cipher(ciphertext, mapping)\n",
        "print_result(ciphertext, words_per_line)\n",
        "print_result(plaintext, words_per_line)"
      ],
      "metadata": {
        "colab": {
          "base_uri": "https://localhost:8080/"
        },
        "id": "e_2UUhagJqAz",
        "outputId": "947ad74f-f697-41a8-b5da-61a6f94f1e39"
      },
      "execution_count": null,
      "outputs": [
        {
          "output_type": "stream",
          "name": "stdout",
          "text": [
            "gtd bsvgl vf fgedsugt dffml dkcymvsf gtmg gtd chjde ha \n",
            "\n",
            "aevdsxftvc tdycf bf gh id fgehsu aehz tmexftvcf. aevdsxf qms \n",
            "\n",
            "uvod bf gtd fgedsugt jd sddx jtds yvad udgf ghbut. \n",
            "\n",
            "vs mxxvgvhs, cdhcyd dkcedff bsvgl gtehbut yhod,amzvyl, aevdsxf, msx hgtdef \n",
            "\n",
            "ftmed fghevdf ha avsxvsu qhzzhs uehbsx jvgt fhzdhsd.gtded med zmsl \n",
            "\n",
            "idsdavgf ha fgmlvsu bsvgdx vs ghbut gvzdf, mf vg tdycf \n",
            "\n",
            "gh amqd qtmyydsuvsu fvgbmgvhsf jvgt qhbemud. gtd vzchegmsqd ha fgmlvsu \n",
            "\n",
            "bsvgdx tmf fgebqp m qthex mzhsu zmsl cdhcyd gtehbuthbg tvfghel.pddcvsu \n",
            "\n",
            "zdzhevdf ha jtmg jd tmod mqqhzcyvftdx gtehbuthbg tvfghel qms tdyc \n",
            "\n",
            "bf fdd thj vsxvovxbmyf msx qhzzbsvgvdf tmod cdefdodedx gtehbut ghbut \n",
            "\n",
            "gvzdf msx vsgh m ievutgde abgbed.\n",
            "\n",
            "\n",
            "the unity is strength essay e***ains that the *o*er of \n",
            "\n",
            "friendshi* he**s us to *e strong from hardshi*s. friends *an \n",
            "\n",
            "gi*e us the strength *e need *hen *ife gets tough. \n",
            "\n",
            "in addition, *eo**e e**ress unity through *o*e,fami*y, friends, and others \n",
            "\n",
            "share stories of finding *ommon ground *ith someone.there are many \n",
            "\n",
            "*enefits of staying united in tough times, as it he**s \n",
            "\n",
            "to fa*e *ha**enging situations *ith *ourage. the im*ortan*e of staying \n",
            "\n",
            "united has stru** a *hord among many *eo**e throughout history.*ee*ing \n",
            "\n",
            "memories of *hat *e ha*e a**om**ished throughout history *an he** \n",
            "\n",
            "us see ho* indi*idua*s and *ommunities ha*e *erse*ered through tough \n",
            "\n",
            "times and into a *righter future.\n",
            "\n",
            "\n"
          ]
        }
      ]
    },
    {
      "cell_type": "code",
      "source": [
        "# line 2, word 1 and 8, \"friendshi*\", \"hardshi*s\" looks similiar to \"friendship\" and \"hardships\"\n",
        "# the character \"c\" is also present in the \"*\" position in both sentences\n",
        "# so let's map c=p\n",
        "\n",
        "mapping = {'m':'a', 'f':'s', 'v':'i', 'd':'e', 'g':'t', 't':'h', 'h':'o', 'a':'f', 'b':'u', 'e':'r', 's':'n', 'u':'g', 'z':'m', 'l':'y', 'x':'d', 'c':'p'}\n",
        "words_per_line = 10\n",
        "plaintext = substitution_cipher(ciphertext, mapping)\n",
        "print_result(ciphertext, words_per_line)\n",
        "print_result(plaintext, words_per_line)"
      ],
      "metadata": {
        "colab": {
          "base_uri": "https://localhost:8080/"
        },
        "id": "MF4wbfMeKDPs",
        "outputId": "1bac7665-7954-4b3e-99ba-bd2631520e0e"
      },
      "execution_count": null,
      "outputs": [
        {
          "output_type": "stream",
          "name": "stdout",
          "text": [
            "gtd bsvgl vf fgedsugt dffml dkcymvsf gtmg gtd chjde ha \n",
            "\n",
            "aevdsxftvc tdycf bf gh id fgehsu aehz tmexftvcf. aevdsxf qms \n",
            "\n",
            "uvod bf gtd fgedsugt jd sddx jtds yvad udgf ghbut. \n",
            "\n",
            "vs mxxvgvhs, cdhcyd dkcedff bsvgl gtehbut yhod,amzvyl, aevdsxf, msx hgtdef \n",
            "\n",
            "ftmed fghevdf ha avsxvsu qhzzhs uehbsx jvgt fhzdhsd.gtded med zmsl \n",
            "\n",
            "idsdavgf ha fgmlvsu bsvgdx vs ghbut gvzdf, mf vg tdycf \n",
            "\n",
            "gh amqd qtmyydsuvsu fvgbmgvhsf jvgt qhbemud. gtd vzchegmsqd ha fgmlvsu \n",
            "\n",
            "bsvgdx tmf fgebqp m qthex mzhsu zmsl cdhcyd gtehbuthbg tvfghel.pddcvsu \n",
            "\n",
            "zdzhevdf ha jtmg jd tmod mqqhzcyvftdx gtehbuthbg tvfghel qms tdyc \n",
            "\n",
            "bf fdd thj vsxvovxbmyf msx qhzzbsvgvdf tmod cdefdodedx gtehbut ghbut \n",
            "\n",
            "gvzdf msx vsgh m ievutgde abgbed.\n",
            "\n",
            "\n",
            "the unity is strength essay e*p*ains that the po*er of \n",
            "\n",
            "friendship he*ps us to *e strong from hardships. friends *an \n",
            "\n",
            "gi*e us the strength *e need *hen *ife gets tough. \n",
            "\n",
            "in addition, peop*e e*press unity through *o*e,fami*y, friends, and others \n",
            "\n",
            "share stories of finding *ommon ground *ith someone.there are many \n",
            "\n",
            "*enefits of staying united in tough times, as it he*ps \n",
            "\n",
            "to fa*e *ha**enging situations *ith *ourage. the importan*e of staying \n",
            "\n",
            "united has stru** a *hord among many peop*e throughout history.*eeping \n",
            "\n",
            "memories of *hat *e ha*e a**omp*ished throughout history *an he*p \n",
            "\n",
            "us see ho* indi*idua*s and *ommunities ha*e perse*ered through tough \n",
            "\n",
            "times and into a *righter future.\n",
            "\n",
            "\n"
          ]
        }
      ]
    },
    {
      "cell_type": "code",
      "source": [
        "# line 1, word no 9, the word is \"po*er\"\n",
        "# let's consider \"po*er\" as \"power\"\n",
        "# again line 5, word 7, the word is \"*ith\"\n",
        "# we know the most frequently used 4 letter words that ends with \"ith\" is \"with\"\n",
        "# the character \"j\" is also present in the \"*\" position in both sentences\n",
        "# so map j=w\n",
        "\n",
        "mapping = {'m':'a', 'f':'s', 'v':'i', 'd':'e', 'g':'t', 't':'h', 'h':'o', 'a':'f', 'b':'u', 'e':'r', 's':'n',\n",
        "           'u':'g', 'z':'m', 'l':'y', 'x':'d', 'c':'p', 'j':'w'}\n",
        "words_per_line = 10\n",
        "plaintext = substitution_cipher(ciphertext, mapping)\n",
        "print_result(ciphertext, words_per_line)\n",
        "print_result(plaintext, words_per_line)"
      ],
      "metadata": {
        "colab": {
          "base_uri": "https://localhost:8080/"
        },
        "id": "CdcGIBHfK2Py",
        "outputId": "6e6bf30d-415f-42b6-e2fe-4b4496c6d50e"
      },
      "execution_count": null,
      "outputs": [
        {
          "output_type": "stream",
          "name": "stdout",
          "text": [
            "gtd bsvgl vf fgedsugt dffml dkcymvsf gtmg gtd chjde ha \n",
            "\n",
            "aevdsxftvc tdycf bf gh id fgehsu aehz tmexftvcf. aevdsxf qms \n",
            "\n",
            "uvod bf gtd fgedsugt jd sddx jtds yvad udgf ghbut. \n",
            "\n",
            "vs mxxvgvhs, cdhcyd dkcedff bsvgl gtehbut yhod,amzvyl, aevdsxf, msx hgtdef \n",
            "\n",
            "ftmed fghevdf ha avsxvsu qhzzhs uehbsx jvgt fhzdhsd.gtded med zmsl \n",
            "\n",
            "idsdavgf ha fgmlvsu bsvgdx vs ghbut gvzdf, mf vg tdycf \n",
            "\n",
            "gh amqd qtmyydsuvsu fvgbmgvhsf jvgt qhbemud. gtd vzchegmsqd ha fgmlvsu \n",
            "\n",
            "bsvgdx tmf fgebqp m qthex mzhsu zmsl cdhcyd gtehbuthbg tvfghel.pddcvsu \n",
            "\n",
            "zdzhevdf ha jtmg jd tmod mqqhzcyvftdx gtehbuthbg tvfghel qms tdyc \n",
            "\n",
            "bf fdd thj vsxvovxbmyf msx qhzzbsvgvdf tmod cdefdodedx gtehbut ghbut \n",
            "\n",
            "gvzdf msx vsgh m ievutgde abgbed.\n",
            "\n",
            "\n",
            "the unity is strength essay e*p*ains that the power of \n",
            "\n",
            "friendship he*ps us to *e strong from hardships. friends *an \n",
            "\n",
            "gi*e us the strength we need when *ife gets tough. \n",
            "\n",
            "in addition, peop*e e*press unity through *o*e,fami*y, friends, and others \n",
            "\n",
            "share stories of finding *ommon ground with someone.there are many \n",
            "\n",
            "*enefits of staying united in tough times, as it he*ps \n",
            "\n",
            "to fa*e *ha**enging situations with *ourage. the importan*e of staying \n",
            "\n",
            "united has stru** a *hord among many peop*e throughout history.*eeping \n",
            "\n",
            "memories of what we ha*e a**omp*ished throughout history *an he*p \n",
            "\n",
            "us see how indi*idua*s and *ommunities ha*e perse*ered through tough \n",
            "\n",
            "times and into a *righter future.\n",
            "\n",
            "\n"
          ]
        }
      ]
    },
    {
      "cell_type": "code",
      "source": [
        "# line 2, word 2, the word is \"he*ps\"\n",
        "# consider it as \"helps\"\n",
        "# so map y=l\n",
        "\n",
        "mapping = {'m':'a', 'f':'s', 'v':'i', 'd':'e', 'g':'t', 't':'h', 'h':'o', 'a':'f', 'b':'u', 'e':'r', 's':'n',\n",
        "           'u':'g', 'z':'m', 'l':'y', 'x':'d', 'c':'p', 'j':'w', 'y':'l'}\n",
        "words_per_line = 10\n",
        "plaintext = substitution_cipher(ciphertext, mapping)\n",
        "print_result(ciphertext, words_per_line)\n",
        "print_result(plaintext, words_per_line)"
      ],
      "metadata": {
        "colab": {
          "base_uri": "https://localhost:8080/"
        },
        "id": "Up3JVv3xL4LO",
        "outputId": "b621a551-e679-4713-cde3-176667b1352e"
      },
      "execution_count": null,
      "outputs": [
        {
          "output_type": "stream",
          "name": "stdout",
          "text": [
            "gtd bsvgl vf fgedsugt dffml dkcymvsf gtmg gtd chjde ha \n",
            "\n",
            "aevdsxftvc tdycf bf gh id fgehsu aehz tmexftvcf. aevdsxf qms \n",
            "\n",
            "uvod bf gtd fgedsugt jd sddx jtds yvad udgf ghbut. \n",
            "\n",
            "vs mxxvgvhs, cdhcyd dkcedff bsvgl gtehbut yhod,amzvyl, aevdsxf, msx hgtdef \n",
            "\n",
            "ftmed fghevdf ha avsxvsu qhzzhs uehbsx jvgt fhzdhsd.gtded med zmsl \n",
            "\n",
            "idsdavgf ha fgmlvsu bsvgdx vs ghbut gvzdf, mf vg tdycf \n",
            "\n",
            "gh amqd qtmyydsuvsu fvgbmgvhsf jvgt qhbemud. gtd vzchegmsqd ha fgmlvsu \n",
            "\n",
            "bsvgdx tmf fgebqp m qthex mzhsu zmsl cdhcyd gtehbuthbg tvfghel.pddcvsu \n",
            "\n",
            "zdzhevdf ha jtmg jd tmod mqqhzcyvftdx gtehbuthbg tvfghel qms tdyc \n",
            "\n",
            "bf fdd thj vsxvovxbmyf msx qhzzbsvgvdf tmod cdefdodedx gtehbut ghbut \n",
            "\n",
            "gvzdf msx vsgh m ievutgde abgbed.\n",
            "\n",
            "\n",
            "the unity is strength essay e*plains that the power of \n",
            "\n",
            "friendship helps us to *e strong from hardships. friends *an \n",
            "\n",
            "gi*e us the strength we need when life gets tough. \n",
            "\n",
            "in addition, people e*press unity through lo*e,family, friends, and others \n",
            "\n",
            "share stories of finding *ommon ground with someone.there are many \n",
            "\n",
            "*enefits of staying united in tough times, as it helps \n",
            "\n",
            "to fa*e *hallenging situations with *ourage. the importan*e of staying \n",
            "\n",
            "united has stru** a *hord among many people throughout history.*eeping \n",
            "\n",
            "memories of what we ha*e a**omplished throughout history *an help \n",
            "\n",
            "us see how indi*iduals and *ommunities ha*e perse*ered through tough \n",
            "\n",
            "times and into a *righter future.\n",
            "\n",
            "\n"
          ]
        }
      ]
    },
    {
      "cell_type": "code",
      "source": [
        "# line 1, word 6, the word is \"e*plains\"\n",
        "# consider it as \"explains\"\n",
        "# so map k=x\n",
        "\n",
        "mapping = {'m':'a', 'f':'s', 'v':'i', 'd':'e', 'g':'t', 't':'h', 'h':'o', 'a':'f', 'b':'u', 'e':'r', 's':'n',\n",
        "           'u':'g', 'z':'m', 'l':'y', 'x':'d', 'c':'p', 'j':'w', 'y':'l', 'k':'x'}\n",
        "words_per_line = 10\n",
        "plaintext = substitution_cipher(ciphertext, mapping)\n",
        "print_result(ciphertext, words_per_line)\n",
        "print_result(plaintext, words_per_line)"
      ],
      "metadata": {
        "colab": {
          "base_uri": "https://localhost:8080/"
        },
        "id": "kOaWlaigMRxr",
        "outputId": "a009faa0-49db-42cd-90b5-91a784d3f87f"
      },
      "execution_count": null,
      "outputs": [
        {
          "output_type": "stream",
          "name": "stdout",
          "text": [
            "gtd bsvgl vf fgedsugt dffml dkcymvsf gtmg gtd chjde ha \n",
            "\n",
            "aevdsxftvc tdycf bf gh id fgehsu aehz tmexftvcf. aevdsxf qms \n",
            "\n",
            "uvod bf gtd fgedsugt jd sddx jtds yvad udgf ghbut. \n",
            "\n",
            "vs mxxvgvhs, cdhcyd dkcedff bsvgl gtehbut yhod,amzvyl, aevdsxf, msx hgtdef \n",
            "\n",
            "ftmed fghevdf ha avsxvsu qhzzhs uehbsx jvgt fhzdhsd.gtded med zmsl \n",
            "\n",
            "idsdavgf ha fgmlvsu bsvgdx vs ghbut gvzdf, mf vg tdycf \n",
            "\n",
            "gh amqd qtmyydsuvsu fvgbmgvhsf jvgt qhbemud. gtd vzchegmsqd ha fgmlvsu \n",
            "\n",
            "bsvgdx tmf fgebqp m qthex mzhsu zmsl cdhcyd gtehbuthbg tvfghel.pddcvsu \n",
            "\n",
            "zdzhevdf ha jtmg jd tmod mqqhzcyvftdx gtehbuthbg tvfghel qms tdyc \n",
            "\n",
            "bf fdd thj vsxvovxbmyf msx qhzzbsvgvdf tmod cdefdodedx gtehbut ghbut \n",
            "\n",
            "gvzdf msx vsgh m ievutgde abgbed.\n",
            "\n",
            "\n",
            "the unity is strength essay explains that the power of \n",
            "\n",
            "friendship helps us to *e strong from hardships. friends *an \n",
            "\n",
            "gi*e us the strength we need when life gets tough. \n",
            "\n",
            "in addition, people express unity through lo*e,family, friends, and others \n",
            "\n",
            "share stories of finding *ommon ground with someone.there are many \n",
            "\n",
            "*enefits of staying united in tough times, as it helps \n",
            "\n",
            "to fa*e *hallenging situations with *ourage. the importan*e of staying \n",
            "\n",
            "united has stru** a *hord among many people throughout history.*eeping \n",
            "\n",
            "memories of what we ha*e a**omplished throughout history *an help \n",
            "\n",
            "us see how indi*iduals and *ommunities ha*e perse*ered through tough \n",
            "\n",
            "times and into a *righter future.\n",
            "\n",
            "\n"
          ]
        }
      ]
    },
    {
      "cell_type": "code",
      "source": [
        "# line 2, word 5, the word is \"*e\"\n",
        "# we know one of the most frequently used two letter word that ends with \"e\" is \"be\"\n",
        "# so map i=b\n",
        "\n",
        "mapping = {'m':'a', 'f':'s', 'v':'i', 'd':'e', 'g':'t', 't':'h', 'h':'o', 'a':'f', 'b':'u', 'e':'r', 's':'n',\n",
        "           'u':'g', 'z':'m', 'l':'y', 'x':'d', 'c':'p', 'j':'w', 'y':'l', 'k':'x', 'i':'b'}\n",
        "words_per_line = 10\n",
        "plaintext = substitution_cipher(ciphertext, mapping)\n",
        "print_result(ciphertext, words_per_line)\n",
        "print_result(plaintext, words_per_line)"
      ],
      "metadata": {
        "colab": {
          "base_uri": "https://localhost:8080/"
        },
        "id": "yeEd9Gu8Mo3r",
        "outputId": "cf410b7a-7ace-4931-9f0a-a3d08ddd3ff7"
      },
      "execution_count": null,
      "outputs": [
        {
          "output_type": "stream",
          "name": "stdout",
          "text": [
            "gtd bsvgl vf fgedsugt dffml dkcymvsf gtmg gtd chjde ha \n",
            "\n",
            "aevdsxftvc tdycf bf gh id fgehsu aehz tmexftvcf. aevdsxf qms \n",
            "\n",
            "uvod bf gtd fgedsugt jd sddx jtds yvad udgf ghbut. \n",
            "\n",
            "vs mxxvgvhs, cdhcyd dkcedff bsvgl gtehbut yhod,amzvyl, aevdsxf, msx hgtdef \n",
            "\n",
            "ftmed fghevdf ha avsxvsu qhzzhs uehbsx jvgt fhzdhsd.gtded med zmsl \n",
            "\n",
            "idsdavgf ha fgmlvsu bsvgdx vs ghbut gvzdf, mf vg tdycf \n",
            "\n",
            "gh amqd qtmyydsuvsu fvgbmgvhsf jvgt qhbemud. gtd vzchegmsqd ha fgmlvsu \n",
            "\n",
            "bsvgdx tmf fgebqp m qthex mzhsu zmsl cdhcyd gtehbuthbg tvfghel.pddcvsu \n",
            "\n",
            "zdzhevdf ha jtmg jd tmod mqqhzcyvftdx gtehbuthbg tvfghel qms tdyc \n",
            "\n",
            "bf fdd thj vsxvovxbmyf msx qhzzbsvgvdf tmod cdefdodedx gtehbut ghbut \n",
            "\n",
            "gvzdf msx vsgh m ievutgde abgbed.\n",
            "\n",
            "\n",
            "the unity is strength essay explains that the power of \n",
            "\n",
            "friendship helps us to be strong from hardships. friends *an \n",
            "\n",
            "gi*e us the strength we need when life gets tough. \n",
            "\n",
            "in addition, people express unity through lo*e,family, friends, and others \n",
            "\n",
            "share stories of finding *ommon ground with someone.there are many \n",
            "\n",
            "benefits of staying united in tough times, as it helps \n",
            "\n",
            "to fa*e *hallenging situations with *ourage. the importan*e of staying \n",
            "\n",
            "united has stru** a *hord among many people throughout history.*eeping \n",
            "\n",
            "memories of what we ha*e a**omplished throughout history *an help \n",
            "\n",
            "us see how indi*iduals and *ommunities ha*e perse*ered through tough \n",
            "\n",
            "times and into a brighter future.\n",
            "\n",
            "\n"
          ]
        }
      ]
    },
    {
      "cell_type": "code",
      "source": [
        "# line 2, word 10, the word is \"*an\"\n",
        "# one of the most frequently used three letter word that ends with \"an\" is \"can\"\n",
        "# so map q=c\n",
        "\n",
        "mapping = {'m':'a', 'f':'s', 'v':'i', 'd':'e', 'g':'t', 't':'h', 'h':'o', 'a':'f', 'b':'u', 'e':'r', 's':'n',\n",
        "           'u':'g', 'z':'m', 'l':'y', 'x':'d', 'c':'p', 'j':'w', 'y':'l', 'k':'x', 'i':'b', 'q':'c'}\n",
        "words_per_line = 10\n",
        "plaintext = substitution_cipher(ciphertext, mapping)\n",
        "print_result(ciphertext, words_per_line)\n",
        "print_result(plaintext, words_per_line)"
      ],
      "metadata": {
        "colab": {
          "base_uri": "https://localhost:8080/"
        },
        "id": "XgL_YvuvNC41",
        "outputId": "e23bf071-17f1-4d34-f5f8-e4a6b70e7281"
      },
      "execution_count": null,
      "outputs": [
        {
          "output_type": "stream",
          "name": "stdout",
          "text": [
            "gtd bsvgl vf fgedsugt dffml dkcymvsf gtmg gtd chjde ha \n",
            "\n",
            "aevdsxftvc tdycf bf gh id fgehsu aehz tmexftvcf. aevdsxf qms \n",
            "\n",
            "uvod bf gtd fgedsugt jd sddx jtds yvad udgf ghbut. \n",
            "\n",
            "vs mxxvgvhs, cdhcyd dkcedff bsvgl gtehbut yhod,amzvyl, aevdsxf, msx hgtdef \n",
            "\n",
            "ftmed fghevdf ha avsxvsu qhzzhs uehbsx jvgt fhzdhsd.gtded med zmsl \n",
            "\n",
            "idsdavgf ha fgmlvsu bsvgdx vs ghbut gvzdf, mf vg tdycf \n",
            "\n",
            "gh amqd qtmyydsuvsu fvgbmgvhsf jvgt qhbemud. gtd vzchegmsqd ha fgmlvsu \n",
            "\n",
            "bsvgdx tmf fgebqp m qthex mzhsu zmsl cdhcyd gtehbuthbg tvfghel.pddcvsu \n",
            "\n",
            "zdzhevdf ha jtmg jd tmod mqqhzcyvftdx gtehbuthbg tvfghel qms tdyc \n",
            "\n",
            "bf fdd thj vsxvovxbmyf msx qhzzbsvgvdf tmod cdefdodedx gtehbut ghbut \n",
            "\n",
            "gvzdf msx vsgh m ievutgde abgbed.\n",
            "\n",
            "\n",
            "the unity is strength essay explains that the power of \n",
            "\n",
            "friendship helps us to be strong from hardships. friends can \n",
            "\n",
            "gi*e us the strength we need when life gets tough. \n",
            "\n",
            "in addition, people express unity through lo*e,family, friends, and others \n",
            "\n",
            "share stories of finding common ground with someone.there are many \n",
            "\n",
            "benefits of staying united in tough times, as it helps \n",
            "\n",
            "to face challenging situations with courage. the importance of staying \n",
            "\n",
            "united has struc* a chord among many people throughout history.*eeping \n",
            "\n",
            "memories of what we ha*e accomplished throughout history can help \n",
            "\n",
            "us see how indi*iduals and communities ha*e perse*ered through tough \n",
            "\n",
            "times and into a brighter future.\n",
            "\n",
            "\n"
          ]
        }
      ]
    },
    {
      "cell_type": "code",
      "source": [
        "# line 9, word 5, the word is \"ha*e\"\n",
        "# \"have\" is one of the most frequently used 4 letter word\n",
        "# so map o=v\n",
        "\n",
        "mapping = {'m':'a', 'f':'s', 'v':'i', 'd':'e', 'g':'t', 't':'h', 'h':'o', 'a':'f', 'b':'u', 'e':'r', 's':'n',\n",
        "           'u':'g', 'z':'m', 'l':'y', 'x':'d', 'c':'p', 'j':'w', 'y':'l', 'k':'x', 'i':'b', 'q':'c', 'o':'v'}\n",
        "words_per_line = 10\n",
        "plaintext = substitution_cipher(ciphertext, mapping)\n",
        "print_result(ciphertext, words_per_line)\n",
        "print_result(plaintext, words_per_line)"
      ],
      "metadata": {
        "colab": {
          "base_uri": "https://localhost:8080/"
        },
        "id": "RUW-298MNg8u",
        "outputId": "90a0bc8e-f6c9-4d2a-b830-43b2a7012183"
      },
      "execution_count": null,
      "outputs": [
        {
          "output_type": "stream",
          "name": "stdout",
          "text": [
            "gtd bsvgl vf fgedsugt dffml dkcymvsf gtmg gtd chjde ha \n",
            "\n",
            "aevdsxftvc tdycf bf gh id fgehsu aehz tmexftvcf. aevdsxf qms \n",
            "\n",
            "uvod bf gtd fgedsugt jd sddx jtds yvad udgf ghbut. \n",
            "\n",
            "vs mxxvgvhs, cdhcyd dkcedff bsvgl gtehbut yhod,amzvyl, aevdsxf, msx hgtdef \n",
            "\n",
            "ftmed fghevdf ha avsxvsu qhzzhs uehbsx jvgt fhzdhsd.gtded med zmsl \n",
            "\n",
            "idsdavgf ha fgmlvsu bsvgdx vs ghbut gvzdf, mf vg tdycf \n",
            "\n",
            "gh amqd qtmyydsuvsu fvgbmgvhsf jvgt qhbemud. gtd vzchegmsqd ha fgmlvsu \n",
            "\n",
            "bsvgdx tmf fgebqp m qthex mzhsu zmsl cdhcyd gtehbuthbg tvfghel.pddcvsu \n",
            "\n",
            "zdzhevdf ha jtmg jd tmod mqqhzcyvftdx gtehbuthbg tvfghel qms tdyc \n",
            "\n",
            "bf fdd thj vsxvovxbmyf msx qhzzbsvgvdf tmod cdefdodedx gtehbut ghbut \n",
            "\n",
            "gvzdf msx vsgh m ievutgde abgbed.\n",
            "\n",
            "\n",
            "the unity is strength essay explains that the power of \n",
            "\n",
            "friendship helps us to be strong from hardships. friends can \n",
            "\n",
            "give us the strength we need when life gets tough. \n",
            "\n",
            "in addition, people express unity through love,family, friends, and others \n",
            "\n",
            "share stories of finding common ground with someone.there are many \n",
            "\n",
            "benefits of staying united in tough times, as it helps \n",
            "\n",
            "to face challenging situations with courage. the importance of staying \n",
            "\n",
            "united has struc* a chord among many people throughout history.*eeping \n",
            "\n",
            "memories of what we have accomplished throughout history can help \n",
            "\n",
            "us see how individuals and communities have persevered through tough \n",
            "\n",
            "times and into a brighter future.\n",
            "\n",
            "\n"
          ]
        }
      ]
    },
    {
      "cell_type": "code",
      "source": [
        "# only two words remians. \"struc*\" and \"*eeping\"\n",
        "# after analyzing the whole sentence, we can say that these two words are \"struck\" and \"keeping\"\n",
        "# map p=k\n",
        "\n",
        "mapping = {'m':'a', 'f':'s', 'v':'i', 'd':'e', 'g':'t', 't':'h', 'h':'o', 'a':'f', 'b':'u', 'e':'r', 's':'n',\n",
        "           'u':'g', 'z':'m', 'l':'y', 'x':'d', 'c':'p', 'j':'w', 'y':'l', 'k':'x', 'i':'b', 'q':'c', 'o':'v', 'p':'k'}\n",
        "words_per_line = 10\n",
        "plaintext = substitution_cipher(ciphertext, mapping)\n",
        "print_result(ciphertext, words_per_line)\n",
        "print_result(plaintext, words_per_line)"
      ],
      "metadata": {
        "colab": {
          "base_uri": "https://localhost:8080/"
        },
        "id": "IPt7yAvPOia4",
        "outputId": "30ac7bba-de6a-4182-9022-e44d5c658629"
      },
      "execution_count": null,
      "outputs": [
        {
          "output_type": "stream",
          "name": "stdout",
          "text": [
            "gtd bsvgl vf fgedsugt dffml dkcymvsf gtmg gtd chjde ha \n",
            "\n",
            "aevdsxftvc tdycf bf gh id fgehsu aehz tmexftvcf. aevdsxf qms \n",
            "\n",
            "uvod bf gtd fgedsugt jd sddx jtds yvad udgf ghbut. \n",
            "\n",
            "vs mxxvgvhs, cdhcyd dkcedff bsvgl gtehbut yhod,amzvyl, aevdsxf, msx hgtdef \n",
            "\n",
            "ftmed fghevdf ha avsxvsu qhzzhs uehbsx jvgt fhzdhsd.gtded med zmsl \n",
            "\n",
            "idsdavgf ha fgmlvsu bsvgdx vs ghbut gvzdf, mf vg tdycf \n",
            "\n",
            "gh amqd qtmyydsuvsu fvgbmgvhsf jvgt qhbemud. gtd vzchegmsqd ha fgmlvsu \n",
            "\n",
            "bsvgdx tmf fgebqp m qthex mzhsu zmsl cdhcyd gtehbuthbg tvfghel.pddcvsu \n",
            "\n",
            "zdzhevdf ha jtmg jd tmod mqqhzcyvftdx gtehbuthbg tvfghel qms tdyc \n",
            "\n",
            "bf fdd thj vsxvovxbmyf msx qhzzbsvgvdf tmod cdefdodedx gtehbut ghbut \n",
            "\n",
            "gvzdf msx vsgh m ievutgde abgbed.\n",
            "\n",
            "\n",
            "the unity is strength essay explains that the power of \n",
            "\n",
            "friendship helps us to be strong from hardships. friends can \n",
            "\n",
            "give us the strength we need when life gets tough. \n",
            "\n",
            "in addition, people express unity through love,family, friends, and others \n",
            "\n",
            "share stories of finding common ground with someone.there are many \n",
            "\n",
            "benefits of staying united in tough times, as it helps \n",
            "\n",
            "to face challenging situations with courage. the importance of staying \n",
            "\n",
            "united has struck a chord among many people throughout history.keeping \n",
            "\n",
            "memories of what we have accomplished throughout history can help \n",
            "\n",
            "us see how individuals and communities have persevered through tough \n",
            "\n",
            "times and into a brighter future.\n",
            "\n",
            "\n"
          ]
        }
      ]
    },
    {
      "cell_type": "code",
      "source": [
        "# desired mappings of given ciphertext\n",
        "\n",
        "desired_mapping(mapping)"
      ],
      "metadata": {
        "colab": {
          "base_uri": "https://localhost:8080/"
        },
        "id": "S5oWFCsFJ4HL",
        "outputId": "84d1bd49-15fa-49dd-f761-f19abd45ca0d"
      },
      "execution_count": null,
      "outputs": [
        {
          "output_type": "stream",
          "name": "stdout",
          "text": [
            "Desired Mappings : \n",
            "m:a\n",
            "f:s\n",
            "v:i\n",
            "d:e\n",
            "g:t\n",
            "t:h\n",
            "h:o\n",
            "a:f\n",
            "b:u\n",
            "e:r\n",
            "s:n\n",
            "u:g\n",
            "z:m\n",
            "l:y\n",
            "x:d\n",
            "c:p\n",
            "j:w\n",
            "y:l\n",
            "k:x\n",
            "i:b\n",
            "q:c\n",
            "o:v\n",
            "p:k\n"
          ]
        }
      ]
    },
    {
      "cell_type": "markdown",
      "source": [
        "<ins>**Plaintext of Task-02(A) is :**</ins><br>\n",
        "<p>the unity is strength essay explains that the power of\n",
        "friendship helps us to be strong from hardships. friends can\n",
        "give us the strength we need when life gets tough.\n",
        "in addition, people express unity through love,family, friends, and others\n",
        "share stories of finding common ground with someone.there are many\n",
        "benefits of staying united in tough times, as it helps\n",
        "to face challenging situations with courage. the importance of staying\n",
        "united has struck a chord among many people throughout history.keeping\n",
        "memories of what we have accomplished throughout history can help\n",
        "us see how individuals and communities have persevered through tough\n",
        "times and into a brighter future.</p>"
      ],
      "metadata": {
        "id": "NFVgDWv2PIqX"
      }
    },
    {
      "cell_type": "markdown",
      "source": [
        "# <ins>Task - 02(B)</ins>"
      ],
      "metadata": {
        "id": "bF45EjMhJT2X"
      }
    },
    {
      "cell_type": "code",
      "source": [
        "ciphertext = \"exupziu kxwqxagxom, upm gxsm zs l amtwzo exgg rmqzfm kigg \\\n",
        "lok xolquxjm.lgwz, l kxwqxagxomk amtwzo qlo qzoutzg lok plokgm \\\n",
        "upm wxuiluxzo zs gxjxoh xo l wzapxwuxqlumk elc uplo upzwm epz \\\n",
        "kz ozu.fztmzjmt, xs czi pljm l aglo lok czi elou \\\n",
        "uz xfagmfmou xu xo czit gxsm upmo czi ommk kxwqxagxom. \\\n",
        "xu flnmw upxohw mlwc szt czi uz plokgm lok iguxflumgc \\\n",
        "rtxoh wiqqmww uz czit gxsm.xs ulgn lrziu upm ucamw zs \\\n",
        "kxwqxagxom, upmo upmc ltm hmomtlggc zs uez ucamw. sxtwu zom \\\n",
        "xw xokiqmk kxwqxagxom lok upm wmqzok zom xw wmgs- \\\n",
        "kxwqxagxom.xokiqmk kxwqxagxom \\\n",
        "xw wzfmupxoh uplu zupmtw ulihpu iw zt em gmlto rc \\\n",
        "wmmxoh zupmtw. epxgm wmgs-kxwqxagxom qzfmw stzf exupxo lok \\\n",
        "em gmlto xu zo zit zeo wmgs. wmgs-kxwqxagxom tmyixtmw l gzu \\\n",
        "zs fzuxjluxzo lok wiaaztu stzf zupmtw.lrzjm lgg, szggzexoh czit klxgc \\\n",
        "wqpmkigm exupziu loc fxwulnm xw lgwz altu zs rmxoh kxwqxagxomk.\"\n",
        "\n",
        "mapping = {}\n",
        "words_per_line = 10\n",
        "plaintext = substitution_cipher(ciphertext, mapping)\n",
        "print_result(ciphertext, words_per_line)\n",
        "print_result(plaintext, words_per_line)"
      ],
      "metadata": {
        "colab": {
          "base_uri": "https://localhost:8080/"
        },
        "id": "w1xGW5mNKvOC",
        "outputId": "4b39f8c2-8105-4116-e001-25b81b97bad9"
      },
      "execution_count": null,
      "outputs": [
        {
          "output_type": "stream",
          "name": "stdout",
          "text": [
            "exupziu kxwqxagxom, upm gxsm zs l amtwzo exgg rmqzfm kigg \n",
            "\n",
            "lok xolquxjm.lgwz, l kxwqxagxomk amtwzo qlo qzoutzg lok plokgm upm \n",
            "\n",
            "wxuiluxzo zs gxjxoh xo l wzapxwuxqlumk elc uplo upzwm epz \n",
            "\n",
            "kz ozu.fztmzjmt, xs czi pljm l aglo lok czi elou \n",
            "\n",
            "uz xfagmfmou xu xo czit gxsm upmo czi ommk kxwqxagxom. \n",
            "\n",
            "xu flnmw upxohw mlwc szt czi uz plokgm lok iguxflumgc \n",
            "\n",
            "rtxoh wiqqmww uz czit gxsm.xs ulgn lrziu upm ucamw zs \n",
            "\n",
            "kxwqxagxom, upmo upmc ltm hmomtlggc zs uez ucamw. sxtwu zom \n",
            "\n",
            "xw xokiqmk kxwqxagxom lok upm wmqzok zom xw wmgs- kxwqxagxom.xokiqmk \n",
            "\n",
            "kxwqxagxom xw wzfmupxoh uplu zupmtw ulihpu iw zt em gmlto \n",
            "\n",
            "rc wmmxoh zupmtw. epxgm wmgs-kxwqxagxom qzfmw stzf exupxo lok em \n",
            "\n",
            "gmlto xu zo zit zeo wmgs. wmgs-kxwqxagxom tmyixtmw l gzu \n",
            "\n",
            "zs fzuxjluxzo lok wiaaztu stzf zupmtw.lrzjm lgg, szggzexoh czit klxgc \n",
            "\n",
            "wqpmkigm exupziu loc fxwulnm xw lgwz altu zs rmxoh kxwqxagxomk.\n",
            "\n",
            "\n",
            "******* **********, *** **** ** * ****** **** ****** **** \n",
            "\n",
            "*** ********.****, * *********** ****** *** ******* *** ****** *** \n",
            "\n",
            "********* ** ****** ** * ************* *** **** ***** *** \n",
            "\n",
            "** ***.********, ** *** **** * **** *** *** **** \n",
            "\n",
            "** ********* ** ** **** **** **** *** **** **********. \n",
            "\n",
            "** ***** ****** **** *** *** ** ****** *** ********** \n",
            "\n",
            "***** ******* ** **** ****.** **** ***** *** ***** ** \n",
            "\n",
            "**********, **** **** *** ********* ** *** *****. ***** *** \n",
            "\n",
            "** ******* ********** *** *** ****** *** ** ****- **********.******* \n",
            "\n",
            "********** ** ********* **** ****** ****** ** ** ** ***** \n",
            "\n",
            "** ****** ******. ***** ****-********** ***** **** ****** *** ** \n",
            "\n",
            "***** ** ** *** *** ****. ****-********** ******** * *** \n",
            "\n",
            "** ********** *** ******* **** ******.***** ***, ********* **** ***** \n",
            "\n",
            "******** ******* *** ******* ** **** **** ** ***** ***********.\n",
            "\n",
            "\n"
          ]
        }
      ]
    },
    {
      "cell_type": "code",
      "source": [
        "# let's cheack frequency of characters in the ciphertext\n",
        "\n",
        "calc_frequency(ciphertext)"
      ],
      "metadata": {
        "colab": {
          "base_uri": "https://localhost:8080/"
        },
        "id": "KmnsUbVFLRdl",
        "outputId": "acb76caa-8bfc-41fe-91eb-f1cfee2c4591"
      },
      "execution_count": null,
      "outputs": [
        {
          "output_type": "stream",
          "name": "stdout",
          "text": [
            "Character:  , Frequency: 139\n",
            "Character: x, Frequency: 74\n",
            "Character: m, Frequency: 73\n",
            "Character: z, Frequency: 57\n",
            "Character: o, Frequency: 55\n",
            "Character: u, Frequency: 52\n",
            "Character: w, Frequency: 47\n",
            "Character: g, Frequency: 44\n",
            "Character: l, Frequency: 43\n",
            "Character: k, Frequency: 32\n",
            "Character: p, Frequency: 26\n",
            "Character: t, Frequency: 26\n",
            "Character: i, Frequency: 22\n",
            "Character: q, Frequency: 22\n",
            "Character: a, Frequency: 20\n",
            "Character: s, Frequency: 20\n",
            "Character: c, Frequency: 17\n",
            "Character: e, Frequency: 13\n",
            "Character: f, Frequency: 12\n",
            "Character: ., Frequency: 10\n",
            "Character: h, Frequency: 9\n",
            "Character: r, Frequency: 6\n",
            "Character: j, Frequency: 6\n",
            "Character: ,, Frequency: 5\n",
            "Character: n, Frequency: 3\n",
            "Character: -, Frequency: 3\n",
            "Character: y, Frequency: 1\n"
          ]
        }
      ]
    },
    {
      "cell_type": "code",
      "source": [
        "# line 1, word 6, here we can see that character \"l\" is a single letter word.\n",
        "# we know \"a\" and \"i\" are two single letter word\n",
        "# but in the ciphertext we can see that \"l\" is using in the middle of a sentence\n",
        "# we know out of \"a\" and \"i\", only \"a\" can be used in the middle of a sentence\n",
        "# let's map l=a\n",
        "\n",
        "mapping = {'l':'a'}\n",
        "words_per_line = 10\n",
        "plaintext = substitution_cipher(ciphertext, mapping)\n",
        "print_result(ciphertext, words_per_line)\n",
        "print_result(plaintext, words_per_line)"
      ],
      "metadata": {
        "colab": {
          "base_uri": "https://localhost:8080/"
        },
        "id": "uws4352XLcN4",
        "outputId": "cf7ff2da-5b57-400b-dca7-149080772726"
      },
      "execution_count": null,
      "outputs": [
        {
          "output_type": "stream",
          "name": "stdout",
          "text": [
            "exupziu kxwqxagxom, upm gxsm zs l amtwzo exgg rmqzfm kigg \n",
            "\n",
            "lok xolquxjm.lgwz, l kxwqxagxomk amtwzo qlo qzoutzg lok plokgm upm \n",
            "\n",
            "wxuiluxzo zs gxjxoh xo l wzapxwuxqlumk elc uplo upzwm epz \n",
            "\n",
            "kz ozu.fztmzjmt, xs czi pljm l aglo lok czi elou \n",
            "\n",
            "uz xfagmfmou xu xo czit gxsm upmo czi ommk kxwqxagxom. \n",
            "\n",
            "xu flnmw upxohw mlwc szt czi uz plokgm lok iguxflumgc \n",
            "\n",
            "rtxoh wiqqmww uz czit gxsm.xs ulgn lrziu upm ucamw zs \n",
            "\n",
            "kxwqxagxom, upmo upmc ltm hmomtlggc zs uez ucamw. sxtwu zom \n",
            "\n",
            "xw xokiqmk kxwqxagxom lok upm wmqzok zom xw wmgs- kxwqxagxom.xokiqmk \n",
            "\n",
            "kxwqxagxom xw wzfmupxoh uplu zupmtw ulihpu iw zt em gmlto \n",
            "\n",
            "rc wmmxoh zupmtw. epxgm wmgs-kxwqxagxom qzfmw stzf exupxo lok em \n",
            "\n",
            "gmlto xu zo zit zeo wmgs. wmgs-kxwqxagxom tmyixtmw l gzu \n",
            "\n",
            "zs fzuxjluxzo lok wiaaztu stzf zupmtw.lrzjm lgg, szggzexoh czit klxgc \n",
            "\n",
            "wqpmkigm exupziu loc fxwulnm xw lgwz altu zs rmxoh kxwqxagxomk.\n",
            "\n",
            "\n",
            "******* **********, *** **** ** a ****** **** ****** **** \n",
            "\n",
            "a** **a*****.a***, a *********** ****** *a* ******* a** *a**** *** \n",
            "\n",
            "****a**** ** ****** ** a *********a*** *a* **a* ***** *** \n",
            "\n",
            "** ***.********, ** *** *a** a **a* a** *** *a** \n",
            "\n",
            "** ********* ** ** **** **** **** *** **** **********. \n",
            "\n",
            "** *a*** ****** *a** *** *** ** *a**** a** *****a**** \n",
            "\n",
            "***** ******* ** **** ****.** *a** a**** *** ***** ** \n",
            "\n",
            "**********, **** **** a** *****a*** ** *** *****. ***** *** \n",
            "\n",
            "** ******* ********** a** *** ****** *** ** ****- **********.******* \n",
            "\n",
            "********** ** ********* **a* ****** *a**** ** ** ** **a** \n",
            "\n",
            "** ****** ******. ***** ****-********** ***** **** ****** a** ** \n",
            "\n",
            "**a** ** ** *** *** ****. ****-********** ******** a *** \n",
            "\n",
            "** *****a**** a** ******* **** ******.a**** a**, ********* **** *a*** \n",
            "\n",
            "******** ******* a** ****a** ** a*** *a** ** ***** ***********.\n",
            "\n",
            "\n"
          ]
        }
      ]
    },
    {
      "cell_type": "code",
      "source": [
        "# frequency of character 'x' is 74\n",
        "# frequency of character 'm' is 73\n",
        "# we know 'e' and 't', are most frequently used characters\n",
        "# let's map x=e and m=t\n",
        "\n",
        "mapping = {'l':'a', 'x':'e', 'm':'t'}\n",
        "words_per_line = 10\n",
        "plaintext = substitution_cipher(ciphertext, mapping)\n",
        "print_result(ciphertext, words_per_line)\n",
        "print_result(plaintext, words_per_line)"
      ],
      "metadata": {
        "colab": {
          "base_uri": "https://localhost:8080/"
        },
        "id": "VXQDN_rNL8p_",
        "outputId": "ca23e661-1adf-47c7-f743-131d3ae9fe92"
      },
      "execution_count": null,
      "outputs": [
        {
          "output_type": "stream",
          "name": "stdout",
          "text": [
            "exupziu kxwqxagxom, upm gxsm zs l amtwzo exgg rmqzfm kigg \n",
            "\n",
            "lok xolquxjm.lgwz, l kxwqxagxomk amtwzo qlo qzoutzg lok plokgm upm \n",
            "\n",
            "wxuiluxzo zs gxjxoh xo l wzapxwuxqlumk elc uplo upzwm epz \n",
            "\n",
            "kz ozu.fztmzjmt, xs czi pljm l aglo lok czi elou \n",
            "\n",
            "uz xfagmfmou xu xo czit gxsm upmo czi ommk kxwqxagxom. \n",
            "\n",
            "xu flnmw upxohw mlwc szt czi uz plokgm lok iguxflumgc \n",
            "\n",
            "rtxoh wiqqmww uz czit gxsm.xs ulgn lrziu upm ucamw zs \n",
            "\n",
            "kxwqxagxom, upmo upmc ltm hmomtlggc zs uez ucamw. sxtwu zom \n",
            "\n",
            "xw xokiqmk kxwqxagxom lok upm wmqzok zom xw wmgs- kxwqxagxom.xokiqmk \n",
            "\n",
            "kxwqxagxom xw wzfmupxoh uplu zupmtw ulihpu iw zt em gmlto \n",
            "\n",
            "rc wmmxoh zupmtw. epxgm wmgs-kxwqxagxom qzfmw stzf exupxo lok em \n",
            "\n",
            "gmlto xu zo zit zeo wmgs. wmgs-kxwqxagxom tmyixtmw l gzu \n",
            "\n",
            "zs fzuxjluxzo lok wiaaztu stzf zupmtw.lrzjm lgg, szggzexoh czit klxgc \n",
            "\n",
            "wqpmkigm exupziu loc fxwulnm xw lgwz altu zs rmxoh kxwqxagxomk.\n",
            "\n",
            "\n",
            "*e***** *e**e**e*t, **t *e*t ** a *t**** *e** *t***t **** \n",
            "\n",
            "a** e*a**e*t.a***, a *e**e**e*t* *t**** *a* ******* a** *a***t **t \n",
            "\n",
            "*e**a*e** ** *e*e** e* a ****e**e*a*t* *a* **a* ****t *** \n",
            "\n",
            "** ***.***t**t*, e* *** *a*t a **a* a** *** *a** \n",
            "\n",
            "** e***t*t** e* e* **** *e*t **t* *** *tt* *e**e**e*t. \n",
            "\n",
            "e* *a*t* **e*** ta** *** *** ** *a***t a** ***e*a*t** \n",
            "\n",
            "**e** ****t** ** **** *e*t.e* *a** a**** **t ***t* ** \n",
            "\n",
            "*e**e**e*t, **t* **t* a*t *t*t*a*** ** *** ***t*. *e*** **t \n",
            "\n",
            "e* e****t* *e**e**e*t a** **t *t**** **t e* *t**- *e**e**e*t.e****t* \n",
            "\n",
            "*e**e**e*t e* ***t**e** **a* ***t** *a**** ** ** *t *ta** \n",
            "\n",
            "** *tte** ***t**. **e*t *t**-*e**e**e*t ***t* **** *e**e* a** *t \n",
            "\n",
            "*ta** e* ** *** *** *t**. *t**-*e**e**e*t *t**e*t* a *** \n",
            "\n",
            "** ***e*a*e** a** ******* **** ***t**.a***t a**, ******e** **** *ae** \n",
            "\n",
            "***t***t *e***** a** *e**a*t e* a*** *a** ** *te** *e**e**e*t*.\n",
            "\n",
            "\n"
          ]
        }
      ]
    },
    {
      "cell_type": "code",
      "source": [
        "# line 4,word 4, we can see that, it's a two letter word starting with 'e'\n",
        "# it's very unusual to see a two letter word starts with \"e\"\n",
        "# so let's change our map\n",
        "# map x=t and m=e\n",
        "\n",
        "mapping = {'l':'a', 'x':'t', 'm':'e'}\n",
        "words_per_line = 10\n",
        "plaintext = substitution_cipher(ciphertext, mapping)\n",
        "print_result(ciphertext, words_per_line)\n",
        "print_result(plaintext, words_per_line)"
      ],
      "metadata": {
        "colab": {
          "base_uri": "https://localhost:8080/"
        },
        "id": "kfmAKb7VMyVz",
        "outputId": "5bd09d92-a0ff-44d3-d1d1-452c017ed54b"
      },
      "execution_count": null,
      "outputs": [
        {
          "output_type": "stream",
          "name": "stdout",
          "text": [
            "exupziu kxwqxagxom, upm gxsm zs l amtwzo exgg rmqzfm kigg \n",
            "\n",
            "lok xolquxjm.lgwz, l kxwqxagxomk amtwzo qlo qzoutzg lok plokgm upm \n",
            "\n",
            "wxuiluxzo zs gxjxoh xo l wzapxwuxqlumk elc uplo upzwm epz \n",
            "\n",
            "kz ozu.fztmzjmt, xs czi pljm l aglo lok czi elou \n",
            "\n",
            "uz xfagmfmou xu xo czit gxsm upmo czi ommk kxwqxagxom. \n",
            "\n",
            "xu flnmw upxohw mlwc szt czi uz plokgm lok iguxflumgc \n",
            "\n",
            "rtxoh wiqqmww uz czit gxsm.xs ulgn lrziu upm ucamw zs \n",
            "\n",
            "kxwqxagxom, upmo upmc ltm hmomtlggc zs uez ucamw. sxtwu zom \n",
            "\n",
            "xw xokiqmk kxwqxagxom lok upm wmqzok zom xw wmgs- kxwqxagxom.xokiqmk \n",
            "\n",
            "kxwqxagxom xw wzfmupxoh uplu zupmtw ulihpu iw zt em gmlto \n",
            "\n",
            "rc wmmxoh zupmtw. epxgm wmgs-kxwqxagxom qzfmw stzf exupxo lok em \n",
            "\n",
            "gmlto xu zo zit zeo wmgs. wmgs-kxwqxagxom tmyixtmw l gzu \n",
            "\n",
            "zs fzuxjluxzo lok wiaaztu stzf zupmtw.lrzjm lgg, szggzexoh czit klxgc \n",
            "\n",
            "wqpmkigm exupziu loc fxwulnm xw lgwz altu zs rmxoh kxwqxagxomk.\n",
            "\n",
            "\n",
            "*t***** *t**t**t*e, **e *t*e ** a *e**** *t** *e***e **** \n",
            "\n",
            "a** t*a**t*e.a***, a *t**t**t*e* *e**** *a* ******* a** *a***e **e \n",
            "\n",
            "*t**a*t** ** *t*t** t* a ****t**t*a*e* *a* **a* ****e *** \n",
            "\n",
            "** ***.***e**e*, t* *** *a*e a **a* a** *** *a** \n",
            "\n",
            "** t***e*e** t* t* **** *t*e **e* *** *ee* *t**t**t*e. \n",
            "\n",
            "t* *a*e* **t*** ea** *** *** ** *a***e a** ***t*a*e** \n",
            "\n",
            "**t** ****e** ** **** *t*e.t* *a** a**** **e ***e* ** \n",
            "\n",
            "*t**t**t*e, **e* **e* a*e *e*e*a*** ** *** ***e*. *t*** **e \n",
            "\n",
            "t* t****e* *t**t**t*e a** **e *e**** **e t* *e**- *t**t**t*e.t****e* \n",
            "\n",
            "*t**t**t*e t* ***e**t** **a* ***e** *a**** ** ** *e *ea** \n",
            "\n",
            "** *eet** ***e**. **t*e *e**-*t**t**t*e ***e* **** *t**t* a** *e \n",
            "\n",
            "*ea** t* ** *** *** *e**. *e**-*t**t**t*e *e**t*e* a *** \n",
            "\n",
            "** ***t*a*t** a** ******* **** ***e**.a***e a**, ******t** **** *at** \n",
            "\n",
            "***e***e *t***** a** *t**a*e t* a*** *a** ** *et** *t**t**t*e*.\n",
            "\n",
            "\n"
          ]
        }
      ]
    },
    {
      "cell_type": "code",
      "source": [
        "# we can see there many \"t*\" form\n",
        "# we know \"to\" is one of the most frequently used two letter word that starts with \"t\"\n",
        "# from line 3, word 6,\n",
        "# map o=o\n",
        "\n",
        "mapping = {'l':'a', 'x':'t', 'm':'e', 'o':'o'}\n",
        "words_per_line = 10\n",
        "plaintext = substitution_cipher(ciphertext, mapping)\n",
        "print_result(ciphertext, words_per_line)\n",
        "print_result(plaintext, words_per_line)"
      ],
      "metadata": {
        "colab": {
          "base_uri": "https://localhost:8080/"
        },
        "id": "dP_eBMoHNTlo",
        "outputId": "9f9c5f2e-414b-4921-9ad3-f8b3cd031872"
      },
      "execution_count": null,
      "outputs": [
        {
          "output_type": "stream",
          "name": "stdout",
          "text": [
            "exupziu kxwqxagxom, upm gxsm zs l amtwzo exgg rmqzfm kigg \n",
            "\n",
            "lok xolquxjm.lgwz, l kxwqxagxomk amtwzo qlo qzoutzg lok plokgm upm \n",
            "\n",
            "wxuiluxzo zs gxjxoh xo l wzapxwuxqlumk elc uplo upzwm epz \n",
            "\n",
            "kz ozu.fztmzjmt, xs czi pljm l aglo lok czi elou \n",
            "\n",
            "uz xfagmfmou xu xo czit gxsm upmo czi ommk kxwqxagxom. \n",
            "\n",
            "xu flnmw upxohw mlwc szt czi uz plokgm lok iguxflumgc \n",
            "\n",
            "rtxoh wiqqmww uz czit gxsm.xs ulgn lrziu upm ucamw zs \n",
            "\n",
            "kxwqxagxom, upmo upmc ltm hmomtlggc zs uez ucamw. sxtwu zom \n",
            "\n",
            "xw xokiqmk kxwqxagxom lok upm wmqzok zom xw wmgs- kxwqxagxom.xokiqmk \n",
            "\n",
            "kxwqxagxom xw wzfmupxoh uplu zupmtw ulihpu iw zt em gmlto \n",
            "\n",
            "rc wmmxoh zupmtw. epxgm wmgs-kxwqxagxom qzfmw stzf exupxo lok em \n",
            "\n",
            "gmlto xu zo zit zeo wmgs. wmgs-kxwqxagxom tmyixtmw l gzu \n",
            "\n",
            "zs fzuxjluxzo lok wiaaztu stzf zupmtw.lrzjm lgg, szggzexoh czit klxgc \n",
            "\n",
            "wqpmkigm exupziu loc fxwulnm xw lgwz altu zs rmxoh kxwqxagxomk.\n",
            "\n",
            "\n",
            "*t***** *t**t**toe, **e *t*e ** a *e***o *t** *e***e **** \n",
            "\n",
            "ao* toa**t*e.a***, a *t**t**toe* *e***o *ao **o**** ao* *ao**e **e \n",
            "\n",
            "*t**a*t*o ** *t*to* to a ****t**t*a*e* *a* **ao ****e *** \n",
            "\n",
            "** o**.***e**e*, t* *** *a*e a **ao ao* *** *ao* \n",
            "\n",
            "** t***e*eo* t* to **** *t*e **eo *** oee* *t**t**toe. \n",
            "\n",
            "t* *a*e* **to** ea** *** *** ** *ao**e ao* ***t*a*e** \n",
            "\n",
            "**to* ****e** ** **** *t*e.t* *a** a**** **e ***e* ** \n",
            "\n",
            "*t**t**toe, **eo **e* a*e *eoe*a*** ** *** ***e*. *t*** *oe \n",
            "\n",
            "t* to***e* *t**t**toe ao* **e *e**o* *oe t* *e**- *t**t**toe.to***e* \n",
            "\n",
            "*t**t**toe t* ***e**to* **a* ***e** *a**** ** ** *e *ea*o \n",
            "\n",
            "** *eeto* ***e**. **t*e *e**-*t**t**toe ***e* **** *t**to ao* *e \n",
            "\n",
            "*ea*o t* *o *** **o *e**. *e**-*t**t**toe *e**t*e* a *** \n",
            "\n",
            "** ***t*a*t*o ao* ******* **** ***e**.a***e a**, ******to* **** *at** \n",
            "\n",
            "***e***e *t***** ao* *t**a*e t* a*** *a** ** *eto* *t**t**toe*.\n",
            "\n",
            "\n"
          ]
        }
      ]
    },
    {
      "cell_type": "code",
      "source": [
        "# line 8, word 4, the word is \"a*e\"\n",
        "# we know \"are\" is one of the most frequently used three letter word\n",
        "# let's consider \"a*e\" as \"are\"\n",
        "# let's map t=r\n",
        "\n",
        "mapping = {'l':'a', 'x':'t', 'm':'e', 'o':'o', 't':'r'}\n",
        "words_per_line = 10\n",
        "plaintext = substitution_cipher(ciphertext, mapping)\n",
        "print_result(ciphertext, words_per_line)\n",
        "print_result(plaintext, words_per_line)"
      ],
      "metadata": {
        "colab": {
          "base_uri": "https://localhost:8080/"
        },
        "id": "8RkUuayuODFA",
        "outputId": "078292e4-ee13-45ff-b1c6-7109e808d8ba"
      },
      "execution_count": null,
      "outputs": [
        {
          "output_type": "stream",
          "name": "stdout",
          "text": [
            "exupziu kxwqxagxom, upm gxsm zs l amtwzo exgg rmqzfm kigg \n",
            "\n",
            "lok xolquxjm.lgwz, l kxwqxagxomk amtwzo qlo qzoutzg lok plokgm upm \n",
            "\n",
            "wxuiluxzo zs gxjxoh xo l wzapxwuxqlumk elc uplo upzwm epz \n",
            "\n",
            "kz ozu.fztmzjmt, xs czi pljm l aglo lok czi elou \n",
            "\n",
            "uz xfagmfmou xu xo czit gxsm upmo czi ommk kxwqxagxom. \n",
            "\n",
            "xu flnmw upxohw mlwc szt czi uz plokgm lok iguxflumgc \n",
            "\n",
            "rtxoh wiqqmww uz czit gxsm.xs ulgn lrziu upm ucamw zs \n",
            "\n",
            "kxwqxagxom, upmo upmc ltm hmomtlggc zs uez ucamw. sxtwu zom \n",
            "\n",
            "xw xokiqmk kxwqxagxom lok upm wmqzok zom xw wmgs- kxwqxagxom.xokiqmk \n",
            "\n",
            "kxwqxagxom xw wzfmupxoh uplu zupmtw ulihpu iw zt em gmlto \n",
            "\n",
            "rc wmmxoh zupmtw. epxgm wmgs-kxwqxagxom qzfmw stzf exupxo lok em \n",
            "\n",
            "gmlto xu zo zit zeo wmgs. wmgs-kxwqxagxom tmyixtmw l gzu \n",
            "\n",
            "zs fzuxjluxzo lok wiaaztu stzf zupmtw.lrzjm lgg, szggzexoh czit klxgc \n",
            "\n",
            "wqpmkigm exupziu loc fxwulnm xw lgwz altu zs rmxoh kxwqxagxomk.\n",
            "\n",
            "\n",
            "*t***** *t**t**toe, **e *t*e ** a *er**o *t** *e***e **** \n",
            "\n",
            "ao* toa**t*e.a***, a *t**t**toe* *er**o *ao **o*r** ao* *ao**e **e \n",
            "\n",
            "*t**a*t*o ** *t*to* to a ****t**t*a*e* *a* **ao ****e *** \n",
            "\n",
            "** o**.**re**er, t* *** *a*e a **ao ao* *** *ao* \n",
            "\n",
            "** t***e*eo* t* to ***r *t*e **eo *** oee* *t**t**toe. \n",
            "\n",
            "t* *a*e* **to** ea** **r *** ** *ao**e ao* ***t*a*e** \n",
            "\n",
            "*rto* ****e** ** ***r *t*e.t* *a** a**** **e ***e* ** \n",
            "\n",
            "*t**t**toe, **eo **e* are *eoera*** ** *** ***e*. *tr** *oe \n",
            "\n",
            "t* to***e* *t**t**toe ao* **e *e**o* *oe t* *e**- *t**t**toe.to***e* \n",
            "\n",
            "*t**t**toe t* ***e**to* **a* ***er* *a**** ** *r *e *earo \n",
            "\n",
            "** *eeto* ***er*. **t*e *e**-*t**t**toe ***e* *r** *t**to ao* *e \n",
            "\n",
            "*earo t* *o **r **o *e**. *e**-*t**t**toe re**tre* a *** \n",
            "\n",
            "** ***t*a*t*o ao* *****r* *r** ***er*.a***e a**, ******to* ***r *at** \n",
            "\n",
            "***e***e *t***** ao* *t**a*e t* a*** *ar* ** *eto* *t**t**toe*.\n",
            "\n",
            "\n"
          ]
        }
      ]
    },
    {
      "cell_type": "code",
      "source": [
        "# we are unable to find any pattern\n",
        "# but we can see that a lot of \"t*\" is still there\n",
        "# we already used \"to\"\n",
        "# so we need to change our map again\n",
        "# we know \"is, in, it\" are some of most frequently used two letter words\n",
        "# so let's consider \"i\" in place of \"t\"\n",
        "# map x=i\n",
        "\n",
        "mapping = {'l':'a', 'x':'i', 'm':'e', 'o':'o', 't':'r'}\n",
        "words_per_line = 10\n",
        "plaintext = substitution_cipher(ciphertext, mapping)\n",
        "print_result(ciphertext, words_per_line)\n",
        "print_result(plaintext, words_per_line)"
      ],
      "metadata": {
        "colab": {
          "base_uri": "https://localhost:8080/"
        },
        "id": "eaSH-NSmQFAc",
        "outputId": "9a26c1f3-1e5c-4589-e06b-53505d9708ab"
      },
      "execution_count": null,
      "outputs": [
        {
          "output_type": "stream",
          "name": "stdout",
          "text": [
            "exupziu kxwqxagxom, upm gxsm zs l amtwzo exgg rmqzfm kigg \n",
            "\n",
            "lok xolquxjm.lgwz, l kxwqxagxomk amtwzo qlo qzoutzg lok plokgm upm \n",
            "\n",
            "wxuiluxzo zs gxjxoh xo l wzapxwuxqlumk elc uplo upzwm epz \n",
            "\n",
            "kz ozu.fztmzjmt, xs czi pljm l aglo lok czi elou \n",
            "\n",
            "uz xfagmfmou xu xo czit gxsm upmo czi ommk kxwqxagxom. \n",
            "\n",
            "xu flnmw upxohw mlwc szt czi uz plokgm lok iguxflumgc \n",
            "\n",
            "rtxoh wiqqmww uz czit gxsm.xs ulgn lrziu upm ucamw zs \n",
            "\n",
            "kxwqxagxom, upmo upmc ltm hmomtlggc zs uez ucamw. sxtwu zom \n",
            "\n",
            "xw xokiqmk kxwqxagxom lok upm wmqzok zom xw wmgs- kxwqxagxom.xokiqmk \n",
            "\n",
            "kxwqxagxom xw wzfmupxoh uplu zupmtw ulihpu iw zt em gmlto \n",
            "\n",
            "rc wmmxoh zupmtw. epxgm wmgs-kxwqxagxom qzfmw stzf exupxo lok em \n",
            "\n",
            "gmlto xu zo zit zeo wmgs. wmgs-kxwqxagxom tmyixtmw l gzu \n",
            "\n",
            "zs fzuxjluxzo lok wiaaztu stzf zupmtw.lrzjm lgg, szggzexoh czit klxgc \n",
            "\n",
            "wqpmkigm exupziu loc fxwulnm xw lgwz altu zs rmxoh kxwqxagxomk.\n",
            "\n",
            "\n",
            "*i***** *i**i**ioe, **e *i*e ** a *er**o *i** *e***e **** \n",
            "\n",
            "ao* ioa**i*e.a***, a *i**i**ioe* *er**o *ao **o*r** ao* *ao**e **e \n",
            "\n",
            "*i**a*i*o ** *i*io* io a ****i**i*a*e* *a* **ao ****e *** \n",
            "\n",
            "** o**.**re**er, i* *** *a*e a **ao ao* *** *ao* \n",
            "\n",
            "** i***e*eo* i* io ***r *i*e **eo *** oee* *i**i**ioe. \n",
            "\n",
            "i* *a*e* **io** ea** **r *** ** *ao**e ao* ***i*a*e** \n",
            "\n",
            "*rio* ****e** ** ***r *i*e.i* *a** a**** **e ***e* ** \n",
            "\n",
            "*i**i**ioe, **eo **e* are *eoera*** ** *** ***e*. *ir** *oe \n",
            "\n",
            "i* io***e* *i**i**ioe ao* **e *e**o* *oe i* *e**- *i**i**ioe.io***e* \n",
            "\n",
            "*i**i**ioe i* ***e**io* **a* ***er* *a**** ** *r *e *earo \n",
            "\n",
            "** *eeio* ***er*. **i*e *e**-*i**i**ioe ***e* *r** *i**io ao* *e \n",
            "\n",
            "*earo i* *o **r **o *e**. *e**-*i**i**ioe re**ire* a *** \n",
            "\n",
            "** ***i*a*i*o ao* *****r* *r** ***er*.a***e a**, ******io* ***r *ai** \n",
            "\n",
            "***e***e *i***** ao* *i**a*e i* a*** *ar* ** *eio* *i**i**ioe*.\n",
            "\n",
            "\n"
          ]
        }
      ]
    },
    {
      "cell_type": "code",
      "source": [
        "# we are seeing a lot of \"io\"\n",
        "# we know \"in\" is one of the most frequently used two letter word that starts with \"i\"\n",
        "# map o=n\n",
        "\n",
        "mapping = {'l':'a', 'x':'i', 'm':'e', 'o':'n', 't':'r'}\n",
        "words_per_line = 10\n",
        "plaintext = substitution_cipher(ciphertext, mapping)\n",
        "print_result(ciphertext, words_per_line)\n",
        "print_result(plaintext, words_per_line)"
      ],
      "metadata": {
        "colab": {
          "base_uri": "https://localhost:8080/"
        },
        "id": "8RhLgcI6Q34P",
        "outputId": "69aaf29e-6df5-4ac9-c34f-4c35d462deb0"
      },
      "execution_count": null,
      "outputs": [
        {
          "output_type": "stream",
          "name": "stdout",
          "text": [
            "exupziu kxwqxagxom, upm gxsm zs l amtwzo exgg rmqzfm kigg \n",
            "\n",
            "lok xolquxjm.lgwz, l kxwqxagxomk amtwzo qlo qzoutzg lok plokgm upm \n",
            "\n",
            "wxuiluxzo zs gxjxoh xo l wzapxwuxqlumk elc uplo upzwm epz \n",
            "\n",
            "kz ozu.fztmzjmt, xs czi pljm l aglo lok czi elou \n",
            "\n",
            "uz xfagmfmou xu xo czit gxsm upmo czi ommk kxwqxagxom. \n",
            "\n",
            "xu flnmw upxohw mlwc szt czi uz plokgm lok iguxflumgc \n",
            "\n",
            "rtxoh wiqqmww uz czit gxsm.xs ulgn lrziu upm ucamw zs \n",
            "\n",
            "kxwqxagxom, upmo upmc ltm hmomtlggc zs uez ucamw. sxtwu zom \n",
            "\n",
            "xw xokiqmk kxwqxagxom lok upm wmqzok zom xw wmgs- kxwqxagxom.xokiqmk \n",
            "\n",
            "kxwqxagxom xw wzfmupxoh uplu zupmtw ulihpu iw zt em gmlto \n",
            "\n",
            "rc wmmxoh zupmtw. epxgm wmgs-kxwqxagxom qzfmw stzf exupxo lok em \n",
            "\n",
            "gmlto xu zo zit zeo wmgs. wmgs-kxwqxagxom tmyixtmw l gzu \n",
            "\n",
            "zs fzuxjluxzo lok wiaaztu stzf zupmtw.lrzjm lgg, szggzexoh czit klxgc \n",
            "\n",
            "wqpmkigm exupziu loc fxwulnm xw lgwz altu zs rmxoh kxwqxagxomk.\n",
            "\n",
            "\n",
            "*i***** *i**i**ine, **e *i*e ** a *er**n *i** *e***e **** \n",
            "\n",
            "an* ina**i*e.a***, a *i**i**ine* *er**n *an **n*r** an* *an**e **e \n",
            "\n",
            "*i**a*i*n ** *i*in* in a ****i**i*a*e* *a* **an ****e *** \n",
            "\n",
            "** n**.**re**er, i* *** *a*e a **an an* *** *an* \n",
            "\n",
            "** i***e*en* i* in ***r *i*e **en *** nee* *i**i**ine. \n",
            "\n",
            "i* *a*e* **in** ea** **r *** ** *an**e an* ***i*a*e** \n",
            "\n",
            "*rin* ****e** ** ***r *i*e.i* *a** a**** **e ***e* ** \n",
            "\n",
            "*i**i**ine, **en **e* are *enera*** ** *** ***e*. *ir** *ne \n",
            "\n",
            "i* in***e* *i**i**ine an* **e *e**n* *ne i* *e**- *i**i**ine.in***e* \n",
            "\n",
            "*i**i**ine i* ***e**in* **a* ***er* *a**** ** *r *e *earn \n",
            "\n",
            "** *eein* ***er*. **i*e *e**-*i**i**ine ***e* *r** *i**in an* *e \n",
            "\n",
            "*earn i* *n **r **n *e**. *e**-*i**i**ine re**ire* a *** \n",
            "\n",
            "** ***i*a*i*n an* *****r* *r** ***er*.a***e a**, ******in* ***r *ai** \n",
            "\n",
            "***e***e *i***** an* *i**a*e i* a*** *ar* ** *ein* *i**i**ine*.\n",
            "\n",
            "\n"
          ]
        }
      ]
    },
    {
      "cell_type": "code",
      "source": [
        "# line 10, word 8, we can see a word looks like \"*r\"\n",
        "# we know \"or\" is one of the most frequently used two letter word that ends with \"r\"\n",
        "# map z=o\n",
        "\n",
        "mapping = {'l':'a', 'x':'i', 'm':'e', 'o':'n', 't':'r', 'z':'o'}\n",
        "words_per_line = 10\n",
        "plaintext = substitution_cipher(ciphertext, mapping)\n",
        "print_result(ciphertext, words_per_line)\n",
        "print_result(plaintext, words_per_line)"
      ],
      "metadata": {
        "colab": {
          "base_uri": "https://localhost:8080/"
        },
        "id": "ZM2ygtNNRauH",
        "outputId": "ca068afa-7a2f-4ba9-926e-40f72ce60d37"
      },
      "execution_count": null,
      "outputs": [
        {
          "output_type": "stream",
          "name": "stdout",
          "text": [
            "exupziu kxwqxagxom, upm gxsm zs l amtwzo exgg rmqzfm kigg \n",
            "\n",
            "lok xolquxjm.lgwz, l kxwqxagxomk amtwzo qlo qzoutzg lok plokgm upm \n",
            "\n",
            "wxuiluxzo zs gxjxoh xo l wzapxwuxqlumk elc uplo upzwm epz \n",
            "\n",
            "kz ozu.fztmzjmt, xs czi pljm l aglo lok czi elou \n",
            "\n",
            "uz xfagmfmou xu xo czit gxsm upmo czi ommk kxwqxagxom. \n",
            "\n",
            "xu flnmw upxohw mlwc szt czi uz plokgm lok iguxflumgc \n",
            "\n",
            "rtxoh wiqqmww uz czit gxsm.xs ulgn lrziu upm ucamw zs \n",
            "\n",
            "kxwqxagxom, upmo upmc ltm hmomtlggc zs uez ucamw. sxtwu zom \n",
            "\n",
            "xw xokiqmk kxwqxagxom lok upm wmqzok zom xw wmgs- kxwqxagxom.xokiqmk \n",
            "\n",
            "kxwqxagxom xw wzfmupxoh uplu zupmtw ulihpu iw zt em gmlto \n",
            "\n",
            "rc wmmxoh zupmtw. epxgm wmgs-kxwqxagxom qzfmw stzf exupxo lok em \n",
            "\n",
            "gmlto xu zo zit zeo wmgs. wmgs-kxwqxagxom tmyixtmw l gzu \n",
            "\n",
            "zs fzuxjluxzo lok wiaaztu stzf zupmtw.lrzjm lgg, szggzexoh czit klxgc \n",
            "\n",
            "wqpmkigm exupziu loc fxwulnm xw lgwz altu zs rmxoh kxwqxagxomk.\n",
            "\n",
            "\n",
            "*i**o** *i**i**ine, **e *i*e o* a *er*on *i** *e*o*e **** \n",
            "\n",
            "an* ina**i*e.a**o, a *i**i**ine* *er*on *an *on*ro* an* *an**e **e \n",
            "\n",
            "*i**a*ion o* *i*in* in a *o**i**i*a*e* *a* **an **o*e **o \n",
            "\n",
            "*o no*.*oreo*er, i* *o* *a*e a **an an* *o* *an* \n",
            "\n",
            "*o i***e*en* i* in *o*r *i*e **en *o* nee* *i**i**ine. \n",
            "\n",
            "i* *a*e* **in** ea** *or *o* *o *an**e an* ***i*a*e** \n",
            "\n",
            "*rin* ****e** *o *o*r *i*e.i* *a** a*o** **e ***e* o* \n",
            "\n",
            "*i**i**ine, **en **e* are *enera*** o* **o ***e*. *ir** one \n",
            "\n",
            "i* in***e* *i**i**ine an* **e *e*on* one i* *e**- *i**i**ine.in***e* \n",
            "\n",
            "*i**i**ine i* *o*e**in* **a* o**er* *a**** ** or *e *earn \n",
            "\n",
            "** *eein* o**er*. **i*e *e**-*i**i**ine *o*e* *ro* *i**in an* *e \n",
            "\n",
            "*earn i* on o*r o*n *e**. *e**-*i**i**ine re**ire* a *o* \n",
            "\n",
            "o* *o*i*a*ion an* ****or* *ro* o**er*.a*o*e a**, *o**o*in* *o*r *ai** \n",
            "\n",
            "***e***e *i**o** an* *i**a*e i* a**o *ar* o* *ein* *i**i**ine*.\n",
            "\n",
            "\n"
          ]
        }
      ]
    },
    {
      "cell_type": "code",
      "source": [
        "# line 1, word 5, we can see a word looks like \"o*\"\n",
        "# we know \"of\" is one of the most frequently used two letter word that starts with \"o\"\n",
        "# map s=f\n",
        "\n",
        "mapping = {'l':'a', 'x':'i', 'm':'e', 'o':'n', 't':'r', 'z':'o', 's':'f'}\n",
        "words_per_line = 10\n",
        "plaintext = substitution_cipher(ciphertext, mapping)\n",
        "print_result(ciphertext, words_per_line)\n",
        "print_result(plaintext, words_per_line)"
      ],
      "metadata": {
        "colab": {
          "base_uri": "https://localhost:8080/"
        },
        "id": "Y8BHfSRZR8Bz",
        "outputId": "0b314e0c-c1d5-4221-96f6-f88483ebde61"
      },
      "execution_count": null,
      "outputs": [
        {
          "output_type": "stream",
          "name": "stdout",
          "text": [
            "exupziu kxwqxagxom, upm gxsm zs l amtwzo exgg rmqzfm kigg \n",
            "\n",
            "lok xolquxjm.lgwz, l kxwqxagxomk amtwzo qlo qzoutzg lok plokgm upm \n",
            "\n",
            "wxuiluxzo zs gxjxoh xo l wzapxwuxqlumk elc uplo upzwm epz \n",
            "\n",
            "kz ozu.fztmzjmt, xs czi pljm l aglo lok czi elou \n",
            "\n",
            "uz xfagmfmou xu xo czit gxsm upmo czi ommk kxwqxagxom. \n",
            "\n",
            "xu flnmw upxohw mlwc szt czi uz plokgm lok iguxflumgc \n",
            "\n",
            "rtxoh wiqqmww uz czit gxsm.xs ulgn lrziu upm ucamw zs \n",
            "\n",
            "kxwqxagxom, upmo upmc ltm hmomtlggc zs uez ucamw. sxtwu zom \n",
            "\n",
            "xw xokiqmk kxwqxagxom lok upm wmqzok zom xw wmgs- kxwqxagxom.xokiqmk \n",
            "\n",
            "kxwqxagxom xw wzfmupxoh uplu zupmtw ulihpu iw zt em gmlto \n",
            "\n",
            "rc wmmxoh zupmtw. epxgm wmgs-kxwqxagxom qzfmw stzf exupxo lok em \n",
            "\n",
            "gmlto xu zo zit zeo wmgs. wmgs-kxwqxagxom tmyixtmw l gzu \n",
            "\n",
            "zs fzuxjluxzo lok wiaaztu stzf zupmtw.lrzjm lgg, szggzexoh czit klxgc \n",
            "\n",
            "wqpmkigm exupziu loc fxwulnm xw lgwz altu zs rmxoh kxwqxagxomk.\n",
            "\n",
            "\n",
            "*i**o** *i**i**ine, **e *ife of a *er*on *i** *e*o*e **** \n",
            "\n",
            "an* ina**i*e.a**o, a *i**i**ine* *er*on *an *on*ro* an* *an**e **e \n",
            "\n",
            "*i**a*ion of *i*in* in a *o**i**i*a*e* *a* **an **o*e **o \n",
            "\n",
            "*o no*.*oreo*er, if *o* *a*e a **an an* *o* *an* \n",
            "\n",
            "*o i***e*en* i* in *o*r *ife **en *o* nee* *i**i**ine. \n",
            "\n",
            "i* *a*e* **in** ea** for *o* *o *an**e an* ***i*a*e** \n",
            "\n",
            "*rin* ****e** *o *o*r *ife.if *a** a*o** **e ***e* of \n",
            "\n",
            "*i**i**ine, **en **e* are *enera*** of **o ***e*. fir** one \n",
            "\n",
            "i* in***e* *i**i**ine an* **e *e*on* one i* *e*f- *i**i**ine.in***e* \n",
            "\n",
            "*i**i**ine i* *o*e**in* **a* o**er* *a**** ** or *e *earn \n",
            "\n",
            "** *eein* o**er*. **i*e *e*f-*i**i**ine *o*e* fro* *i**in an* *e \n",
            "\n",
            "*earn i* on o*r o*n *e*f. *e*f-*i**i**ine re**ire* a *o* \n",
            "\n",
            "of *o*i*a*ion an* ****or* fro* o**er*.a*o*e a**, fo**o*in* *o*r *ai** \n",
            "\n",
            "***e***e *i**o** an* *i**a*e i* a**o *ar* of *ein* *i**i**ine*.\n",
            "\n",
            "\n"
          ]
        }
      ]
    },
    {
      "cell_type": "code",
      "source": [
        "# line 2, word 1, we can see a word looks like \"an*\"\n",
        "# we know \"and\" is one of the most frequently used three letter word that starts with \"an\"\n",
        "# map k=d\n",
        "\n",
        "mapping = {'l':'a', 'x':'i', 'm':'e', 'o':'n', 't':'r', 'z':'o', 's':'f', 'k':'d'}\n",
        "words_per_line = 10\n",
        "plaintext = substitution_cipher(ciphertext, mapping)\n",
        "print_result(ciphertext, words_per_line)\n",
        "print_result(plaintext, words_per_line)"
      ],
      "metadata": {
        "colab": {
          "base_uri": "https://localhost:8080/"
        },
        "id": "AUxSQDKOSpRi",
        "outputId": "7a1e5190-2501-423b-a66c-9cfbf27f6821"
      },
      "execution_count": null,
      "outputs": [
        {
          "output_type": "stream",
          "name": "stdout",
          "text": [
            "exupziu kxwqxagxom, upm gxsm zs l amtwzo exgg rmqzfm kigg \n",
            "\n",
            "lok xolquxjm.lgwz, l kxwqxagxomk amtwzo qlo qzoutzg lok plokgm upm \n",
            "\n",
            "wxuiluxzo zs gxjxoh xo l wzapxwuxqlumk elc uplo upzwm epz \n",
            "\n",
            "kz ozu.fztmzjmt, xs czi pljm l aglo lok czi elou \n",
            "\n",
            "uz xfagmfmou xu xo czit gxsm upmo czi ommk kxwqxagxom. \n",
            "\n",
            "xu flnmw upxohw mlwc szt czi uz plokgm lok iguxflumgc \n",
            "\n",
            "rtxoh wiqqmww uz czit gxsm.xs ulgn lrziu upm ucamw zs \n",
            "\n",
            "kxwqxagxom, upmo upmc ltm hmomtlggc zs uez ucamw. sxtwu zom \n",
            "\n",
            "xw xokiqmk kxwqxagxom lok upm wmqzok zom xw wmgs- kxwqxagxom.xokiqmk \n",
            "\n",
            "kxwqxagxom xw wzfmupxoh uplu zupmtw ulihpu iw zt em gmlto \n",
            "\n",
            "rc wmmxoh zupmtw. epxgm wmgs-kxwqxagxom qzfmw stzf exupxo lok em \n",
            "\n",
            "gmlto xu zo zit zeo wmgs. wmgs-kxwqxagxom tmyixtmw l gzu \n",
            "\n",
            "zs fzuxjluxzo lok wiaaztu stzf zupmtw.lrzjm lgg, szggzexoh czit klxgc \n",
            "\n",
            "wqpmkigm exupziu loc fxwulnm xw lgwz altu zs rmxoh kxwqxagxomk.\n",
            "\n",
            "\n",
            "*i**o** di**i**ine, **e *ife of a *er*on *i** *e*o*e d*** \n",
            "\n",
            "and ina**i*e.a**o, a di**i**ined *er*on *an *on*ro* and *and*e **e \n",
            "\n",
            "*i**a*ion of *i*in* in a *o**i**i*a*ed *a* **an **o*e **o \n",
            "\n",
            "do no*.*oreo*er, if *o* *a*e a **an and *o* *an* \n",
            "\n",
            "*o i***e*en* i* in *o*r *ife **en *o* need di**i**ine. \n",
            "\n",
            "i* *a*e* **in** ea** for *o* *o *and*e and ***i*a*e** \n",
            "\n",
            "*rin* ****e** *o *o*r *ife.if *a** a*o** **e ***e* of \n",
            "\n",
            "di**i**ine, **en **e* are *enera*** of **o ***e*. fir** one \n",
            "\n",
            "i* ind**ed di**i**ine and **e *e*ond one i* *e*f- di**i**ine.ind**ed \n",
            "\n",
            "di**i**ine i* *o*e**in* **a* o**er* *a**** ** or *e *earn \n",
            "\n",
            "** *eein* o**er*. **i*e *e*f-di**i**ine *o*e* fro* *i**in and *e \n",
            "\n",
            "*earn i* on o*r o*n *e*f. *e*f-di**i**ine re**ire* a *o* \n",
            "\n",
            "of *o*i*a*ion and ****or* fro* o**er*.a*o*e a**, fo**o*in* *o*r dai** \n",
            "\n",
            "***ed**e *i**o** an* *i**a*e i* a**o *ar* of *ein* di**i**ined.\n",
            "\n",
            "\n"
          ]
        }
      ]
    },
    {
      "cell_type": "code",
      "source": [
        "# line 5, word 1, we can see a word looks like \"*o\"\n",
        "# we know \"to\" is one of the most frequently used two letter word that ends with \"o\"\n",
        "# map u=t\n",
        "\n",
        "mapping = {'l':'a', 'x':'i', 'm':'e', 'o':'n', 't':'r', 'z':'o', 's':'f', 'k':'d', 'u':'t'}\n",
        "words_per_line = 10\n",
        "plaintext = substitution_cipher(ciphertext, mapping)\n",
        "print_result(ciphertext, words_per_line)\n",
        "print_result(plaintext, words_per_line)"
      ],
      "metadata": {
        "colab": {
          "base_uri": "https://localhost:8080/"
        },
        "id": "uZ_Q6mBST_6k",
        "outputId": "7cd68fc7-87bf-424a-ff37-58be4c5a50ac"
      },
      "execution_count": null,
      "outputs": [
        {
          "output_type": "stream",
          "name": "stdout",
          "text": [
            "exupziu kxwqxagxom, upm gxsm zs l amtwzo exgg rmqzfm kigg \n",
            "\n",
            "lok xolquxjm.lgwz, l kxwqxagxomk amtwzo qlo qzoutzg lok plokgm upm \n",
            "\n",
            "wxuiluxzo zs gxjxoh xo l wzapxwuxqlumk elc uplo upzwm epz \n",
            "\n",
            "kz ozu.fztmzjmt, xs czi pljm l aglo lok czi elou \n",
            "\n",
            "uz xfagmfmou xu xo czit gxsm upmo czi ommk kxwqxagxom. \n",
            "\n",
            "xu flnmw upxohw mlwc szt czi uz plokgm lok iguxflumgc \n",
            "\n",
            "rtxoh wiqqmww uz czit gxsm.xs ulgn lrziu upm ucamw zs \n",
            "\n",
            "kxwqxagxom, upmo upmc ltm hmomtlggc zs uez ucamw. sxtwu zom \n",
            "\n",
            "xw xokiqmk kxwqxagxom lok upm wmqzok zom xw wmgs- kxwqxagxom.xokiqmk \n",
            "\n",
            "kxwqxagxom xw wzfmupxoh uplu zupmtw ulihpu iw zt em gmlto \n",
            "\n",
            "rc wmmxoh zupmtw. epxgm wmgs-kxwqxagxom qzfmw stzf exupxo lok em \n",
            "\n",
            "gmlto xu zo zit zeo wmgs. wmgs-kxwqxagxom tmyixtmw l gzu \n",
            "\n",
            "zs fzuxjluxzo lok wiaaztu stzf zupmtw.lrzjm lgg, szggzexoh czit klxgc \n",
            "\n",
            "wqpmkigm exupziu loc fxwulnm xw lgwz altu zs rmxoh kxwqxagxomk.\n",
            "\n",
            "\n",
            "*it*o*t di**i**ine, t*e *ife of a *er*on *i** *e*o*e d*** \n",
            "\n",
            "and ina*ti*e.a**o, a di**i**ined *er*on *an *ontro* and *and*e t*e \n",
            "\n",
            "*it*ation of *i*in* in a *o**i*ti*ated *a* t*an t*o*e **o \n",
            "\n",
            "do not.*oreo*er, if *o* *a*e a **an and *o* *ant \n",
            "\n",
            "to i***e*ent it in *o*r *ife t*en *o* need di**i**ine. \n",
            "\n",
            "it *a*e* t*in** ea** for *o* to *and*e and **ti*ate** \n",
            "\n",
            "*rin* ****e** to *o*r *ife.if ta** a*o*t t*e t**e* of \n",
            "\n",
            "di**i**ine, t*en t*e* are *enera*** of t*o t**e*. fir*t one \n",
            "\n",
            "i* ind**ed di**i**ine and t*e *e*ond one i* *e*f- di**i**ine.ind**ed \n",
            "\n",
            "di**i**ine i* *o*et*in* t*at ot*er* ta***t ** or *e *earn \n",
            "\n",
            "** *eein* ot*er*. **i*e *e*f-di**i**ine *o*e* fro* *it*in and *e \n",
            "\n",
            "*earn it on o*r o*n *e*f. *e*f-di**i**ine re**ire* a *ot \n",
            "\n",
            "of *oti*ation and ****ort fro* ot*er*.a*o*e a**, fo**o*in* *o*r dai** \n",
            "\n",
            "***ed**e *it*o*t an* *i*ta*e i* a**o *art of *ein* di**i**ined.\n",
            "\n",
            "\n"
          ]
        }
      ]
    },
    {
      "cell_type": "code",
      "source": [
        "# line 1, word 3,, we can see a word looks like \"t*e\"\n",
        "# we know \"the\" is the most frequently used three letter word\n",
        "# map p=h\n",
        "\n",
        "mapping = {'l':'a', 'x':'i', 'm':'e', 'o':'n', 't':'r', 'z':'o', 's':'f', 'k':'d', 'u':'t', 'p':'h'}\n",
        "words_per_line = 10\n",
        "plaintext = substitution_cipher(ciphertext, mapping)\n",
        "print_result(ciphertext, words_per_line)\n",
        "print_result(plaintext, words_per_line)"
      ],
      "metadata": {
        "colab": {
          "base_uri": "https://localhost:8080/"
        },
        "id": "cRQ_RnU4UW7A",
        "outputId": "e37d68e2-b1a6-4924-c144-4ecfe047cbca"
      },
      "execution_count": null,
      "outputs": [
        {
          "output_type": "stream",
          "name": "stdout",
          "text": [
            "exupziu kxwqxagxom, upm gxsm zs l amtwzo exgg rmqzfm kigg \n",
            "\n",
            "lok xolquxjm.lgwz, l kxwqxagxomk amtwzo qlo qzoutzg lok plokgm upm \n",
            "\n",
            "wxuiluxzo zs gxjxoh xo l wzapxwuxqlumk elc uplo upzwm epz \n",
            "\n",
            "kz ozu.fztmzjmt, xs czi pljm l aglo lok czi elou \n",
            "\n",
            "uz xfagmfmou xu xo czit gxsm upmo czi ommk kxwqxagxom. \n",
            "\n",
            "xu flnmw upxohw mlwc szt czi uz plokgm lok iguxflumgc \n",
            "\n",
            "rtxoh wiqqmww uz czit gxsm.xs ulgn lrziu upm ucamw zs \n",
            "\n",
            "kxwqxagxom, upmo upmc ltm hmomtlggc zs uez ucamw. sxtwu zom \n",
            "\n",
            "xw xokiqmk kxwqxagxom lok upm wmqzok zom xw wmgs- kxwqxagxom.xokiqmk \n",
            "\n",
            "kxwqxagxom xw wzfmupxoh uplu zupmtw ulihpu iw zt em gmlto \n",
            "\n",
            "rc wmmxoh zupmtw. epxgm wmgs-kxwqxagxom qzfmw stzf exupxo lok em \n",
            "\n",
            "gmlto xu zo zit zeo wmgs. wmgs-kxwqxagxom tmyixtmw l gzu \n",
            "\n",
            "zs fzuxjluxzo lok wiaaztu stzf zupmtw.lrzjm lgg, szggzexoh czit klxgc \n",
            "\n",
            "wqpmkigm exupziu loc fxwulnm xw lgwz altu zs rmxoh kxwqxagxomk.\n",
            "\n",
            "\n",
            "*itho*t di**i**ine, the *ife of a *er*on *i** *e*o*e d*** \n",
            "\n",
            "and ina*ti*e.a**o, a di**i**ined *er*on *an *ontro* and hand*e the \n",
            "\n",
            "*it*ation of *i*in* in a *o*hi*ti*ated *a* than tho*e *ho \n",
            "\n",
            "do not.*oreo*er, if *o* ha*e a **an and *o* *ant \n",
            "\n",
            "to i***e*ent it in *o*r *ife then *o* need di**i**ine. \n",
            "\n",
            "it *a*e* thin** ea** for *o* to hand*e and **ti*ate** \n",
            "\n",
            "*rin* ****e** to *o*r *ife.if ta** a*o*t the t**e* of \n",
            "\n",
            "di**i**ine, then the* are *enera*** of t*o t**e*. fir*t one \n",
            "\n",
            "i* ind**ed di**i**ine and the *e*ond one i* *e*f- di**i**ine.ind**ed \n",
            "\n",
            "di**i**ine i* *o*ethin* that other* ta**ht ** or *e *earn \n",
            "\n",
            "** *eein* other*. *hi*e *e*f-di**i**ine *o*e* fro* *ithin and *e \n",
            "\n",
            "*earn it on o*r o*n *e*f. *e*f-di**i**ine re**ire* a *ot \n",
            "\n",
            "of *oti*ation and ****ort fro* other*.a*o*e a**, fo**o*in* *o*r dai** \n",
            "\n",
            "**hed**e *itho*t an* *i*ta*e i* a**o *art of *ein* di**i**ined.\n",
            "\n",
            "\n"
          ]
        }
      ]
    },
    {
      "cell_type": "code",
      "source": [
        "# line 9, word 1, we can see a word looks like \"i*\"\n",
        "# we know \"is\" is one of the most frequently used two letter word that starts with \"i\"\n",
        "# map w=s\n",
        "\n",
        "mapping = {'l':'a', 'x':'i', 'm':'e', 'o':'n', 't':'r', 'z':'o', 's':'f', 'k':'d', 'u':'t', 'p':'h', 'w':'s'}\n",
        "words_per_line = 10\n",
        "plaintext = substitution_cipher(ciphertext, mapping)\n",
        "print_result(ciphertext, words_per_line)\n",
        "print_result(plaintext, words_per_line)"
      ],
      "metadata": {
        "colab": {
          "base_uri": "https://localhost:8080/"
        },
        "id": "xgL8sJq3U0uf",
        "outputId": "97633bba-0421-4727-fdc8-844c64637f79"
      },
      "execution_count": null,
      "outputs": [
        {
          "output_type": "stream",
          "name": "stdout",
          "text": [
            "exupziu kxwqxagxom, upm gxsm zs l amtwzo exgg rmqzfm kigg \n",
            "\n",
            "lok xolquxjm.lgwz, l kxwqxagxomk amtwzo qlo qzoutzg lok plokgm upm \n",
            "\n",
            "wxuiluxzo zs gxjxoh xo l wzapxwuxqlumk elc uplo upzwm epz \n",
            "\n",
            "kz ozu.fztmzjmt, xs czi pljm l aglo lok czi elou \n",
            "\n",
            "uz xfagmfmou xu xo czit gxsm upmo czi ommk kxwqxagxom. \n",
            "\n",
            "xu flnmw upxohw mlwc szt czi uz plokgm lok iguxflumgc \n",
            "\n",
            "rtxoh wiqqmww uz czit gxsm.xs ulgn lrziu upm ucamw zs \n",
            "\n",
            "kxwqxagxom, upmo upmc ltm hmomtlggc zs uez ucamw. sxtwu zom \n",
            "\n",
            "xw xokiqmk kxwqxagxom lok upm wmqzok zom xw wmgs- kxwqxagxom.xokiqmk \n",
            "\n",
            "kxwqxagxom xw wzfmupxoh uplu zupmtw ulihpu iw zt em gmlto \n",
            "\n",
            "rc wmmxoh zupmtw. epxgm wmgs-kxwqxagxom qzfmw stzf exupxo lok em \n",
            "\n",
            "gmlto xu zo zit zeo wmgs. wmgs-kxwqxagxom tmyixtmw l gzu \n",
            "\n",
            "zs fzuxjluxzo lok wiaaztu stzf zupmtw.lrzjm lgg, szggzexoh czit klxgc \n",
            "\n",
            "wqpmkigm exupziu loc fxwulnm xw lgwz altu zs rmxoh kxwqxagxomk.\n",
            "\n",
            "\n",
            "*itho*t dis*i**ine, the *ife of a *erson *i** *e*o*e d*** \n",
            "\n",
            "and ina*ti*e.a*so, a dis*i**ined *erson *an *ontro* and hand*e the \n",
            "\n",
            "sit*ation of *i*in* in a so*histi*ated *a* than those *ho \n",
            "\n",
            "do not.*oreo*er, if *o* ha*e a **an and *o* *ant \n",
            "\n",
            "to i***e*ent it in *o*r *ife then *o* need dis*i**ine. \n",
            "\n",
            "it *a*es thin*s eas* for *o* to hand*e and **ti*ate** \n",
            "\n",
            "*rin* s***ess to *o*r *ife.if ta** a*o*t the t**es of \n",
            "\n",
            "dis*i**ine, then the* are *enera*** of t*o t**es. first one \n",
            "\n",
            "is ind**ed dis*i**ine and the se*ond one is se*f- dis*i**ine.ind**ed \n",
            "\n",
            "dis*i**ine is so*ethin* that others ta**ht *s or *e *earn \n",
            "\n",
            "** seein* others. *hi*e se*f-dis*i**ine *o*es fro* *ithin and *e \n",
            "\n",
            "*earn it on o*r o*n se*f. se*f-dis*i**ine re**ires a *ot \n",
            "\n",
            "of *oti*ation and s***ort fro* others.a*o*e a**, fo**o*in* *o*r dai** \n",
            "\n",
            "s*hed**e *itho*t an* *ista*e is a*so *art of *ein* dis*i**ined.\n",
            "\n",
            "\n"
          ]
        }
      ]
    },
    {
      "cell_type": "code",
      "source": [
        "# line 1, word 4,, we can see a word looks like \"*ife\"\n",
        "# let's consider \"*ife\" as \"life\"\n",
        "# map g=l\n",
        "\n",
        "mapping = {'l':'a', 'x':'i', 'm':'e', 'o':'n', 't':'r', 'z':'o', 's':'f', 'k':'d', 'u':'t', 'p':'h', 'w':'s', 'g':'l'}\n",
        "words_per_line = 10\n",
        "plaintext = substitution_cipher(ciphertext, mapping)\n",
        "print_result(ciphertext, words_per_line)\n",
        "print_result(plaintext, words_per_line)"
      ],
      "metadata": {
        "colab": {
          "base_uri": "https://localhost:8080/"
        },
        "id": "LrqfzuWHVV_W",
        "outputId": "7cae4943-e94a-4efb-e840-f96d692f4b4b"
      },
      "execution_count": null,
      "outputs": [
        {
          "output_type": "stream",
          "name": "stdout",
          "text": [
            "exupziu kxwqxagxom, upm gxsm zs l amtwzo exgg rmqzfm kigg \n",
            "\n",
            "lok xolquxjm.lgwz, l kxwqxagxomk amtwzo qlo qzoutzg lok plokgm upm \n",
            "\n",
            "wxuiluxzo zs gxjxoh xo l wzapxwuxqlumk elc uplo upzwm epz \n",
            "\n",
            "kz ozu.fztmzjmt, xs czi pljm l aglo lok czi elou \n",
            "\n",
            "uz xfagmfmou xu xo czit gxsm upmo czi ommk kxwqxagxom. \n",
            "\n",
            "xu flnmw upxohw mlwc szt czi uz plokgm lok iguxflumgc \n",
            "\n",
            "rtxoh wiqqmww uz czit gxsm.xs ulgn lrziu upm ucamw zs \n",
            "\n",
            "kxwqxagxom, upmo upmc ltm hmomtlggc zs uez ucamw. sxtwu zom \n",
            "\n",
            "xw xokiqmk kxwqxagxom lok upm wmqzok zom xw wmgs- kxwqxagxom.xokiqmk \n",
            "\n",
            "kxwqxagxom xw wzfmupxoh uplu zupmtw ulihpu iw zt em gmlto \n",
            "\n",
            "rc wmmxoh zupmtw. epxgm wmgs-kxwqxagxom qzfmw stzf exupxo lok em \n",
            "\n",
            "gmlto xu zo zit zeo wmgs. wmgs-kxwqxagxom tmyixtmw l gzu \n",
            "\n",
            "zs fzuxjluxzo lok wiaaztu stzf zupmtw.lrzjm lgg, szggzexoh czit klxgc \n",
            "\n",
            "wqpmkigm exupziu loc fxwulnm xw lgwz altu zs rmxoh kxwqxagxomk.\n",
            "\n",
            "\n",
            "*itho*t dis*i*line, the life of a *erson *ill *e*o*e d*ll \n",
            "\n",
            "and ina*ti*e.also, a dis*i*lined *erson *an *ontrol and handle the \n",
            "\n",
            "sit*ation of li*in* in a so*histi*ated *a* than those *ho \n",
            "\n",
            "do not.*oreo*er, if *o* ha*e a *lan and *o* *ant \n",
            "\n",
            "to i**le*ent it in *o*r life then *o* need dis*i*line. \n",
            "\n",
            "it *a*es thin*s eas* for *o* to handle and *lti*atel* \n",
            "\n",
            "*rin* s***ess to *o*r life.if tal* a*o*t the t**es of \n",
            "\n",
            "dis*i*line, then the* are *enerall* of t*o t**es. first one \n",
            "\n",
            "is ind**ed dis*i*line and the se*ond one is self- dis*i*line.ind**ed \n",
            "\n",
            "dis*i*line is so*ethin* that others ta**ht *s or *e learn \n",
            "\n",
            "** seein* others. *hile self-dis*i*line *o*es fro* *ithin and *e \n",
            "\n",
            "learn it on o*r o*n self. self-dis*i*line re**ires a lot \n",
            "\n",
            "of *oti*ation and s***ort fro* others.a*o*e all, follo*in* *o*r dail* \n",
            "\n",
            "s*hed*le *itho*t an* *ista*e is also *art of *ein* dis*i*lined.\n",
            "\n",
            "\n"
          ]
        }
      ]
    },
    {
      "cell_type": "code",
      "source": [
        "# line 1, word 7, we can see a word looks like \"*erson\"\n",
        "# after analyzing the whole sentence, let's consider this as \"person\"\n",
        "# map a=p\n",
        "\n",
        "\n",
        "mapping = {'l':'a', 'x':'i', 'm':'e', 'o':'n', 't':'r', 'z':'o', 's':'f', 'k':'d', 'u':'t', 'p':'h', 'w':'s', 'g':'l', 'a':'p'}\n",
        "words_per_line = 10\n",
        "plaintext = substitution_cipher(ciphertext, mapping)\n",
        "print_result(ciphertext, words_per_line)\n",
        "print_result(plaintext, words_per_line)"
      ],
      "metadata": {
        "colab": {
          "base_uri": "https://localhost:8080/"
        },
        "id": "2hX_cohIV8sL",
        "outputId": "3e73e766-4925-4774-80e0-e137b55be339"
      },
      "execution_count": null,
      "outputs": [
        {
          "output_type": "stream",
          "name": "stdout",
          "text": [
            "exupziu kxwqxagxom, upm gxsm zs l amtwzo exgg rmqzfm kigg \n",
            "\n",
            "lok xolquxjm.lgwz, l kxwqxagxomk amtwzo qlo qzoutzg lok plokgm upm \n",
            "\n",
            "wxuiluxzo zs gxjxoh xo l wzapxwuxqlumk elc uplo upzwm epz \n",
            "\n",
            "kz ozu.fztmzjmt, xs czi pljm l aglo lok czi elou \n",
            "\n",
            "uz xfagmfmou xu xo czit gxsm upmo czi ommk kxwqxagxom. \n",
            "\n",
            "xu flnmw upxohw mlwc szt czi uz plokgm lok iguxflumgc \n",
            "\n",
            "rtxoh wiqqmww uz czit gxsm.xs ulgn lrziu upm ucamw zs \n",
            "\n",
            "kxwqxagxom, upmo upmc ltm hmomtlggc zs uez ucamw. sxtwu zom \n",
            "\n",
            "xw xokiqmk kxwqxagxom lok upm wmqzok zom xw wmgs- kxwqxagxom.xokiqmk \n",
            "\n",
            "kxwqxagxom xw wzfmupxoh uplu zupmtw ulihpu iw zt em gmlto \n",
            "\n",
            "rc wmmxoh zupmtw. epxgm wmgs-kxwqxagxom qzfmw stzf exupxo lok em \n",
            "\n",
            "gmlto xu zo zit zeo wmgs. wmgs-kxwqxagxom tmyixtmw l gzu \n",
            "\n",
            "zs fzuxjluxzo lok wiaaztu stzf zupmtw.lrzjm lgg, szggzexoh czit klxgc \n",
            "\n",
            "wqpmkigm exupziu loc fxwulnm xw lgwz altu zs rmxoh kxwqxagxomk.\n",
            "\n",
            "\n",
            "*itho*t dis*ipline, the life of a person *ill *e*o*e d*ll \n",
            "\n",
            "and ina*ti*e.also, a dis*iplined person *an *ontrol and handle the \n",
            "\n",
            "sit*ation of li*in* in a sophisti*ated *a* than those *ho \n",
            "\n",
            "do not.*oreo*er, if *o* ha*e a plan and *o* *ant \n",
            "\n",
            "to i*ple*ent it in *o*r life then *o* need dis*ipline. \n",
            "\n",
            "it *a*es thin*s eas* for *o* to handle and *lti*atel* \n",
            "\n",
            "*rin* s***ess to *o*r life.if tal* a*o*t the t*pes of \n",
            "\n",
            "dis*ipline, then the* are *enerall* of t*o t*pes. first one \n",
            "\n",
            "is ind**ed dis*ipline and the se*ond one is self- dis*ipline.ind**ed \n",
            "\n",
            "dis*ipline is so*ethin* that others ta**ht *s or *e learn \n",
            "\n",
            "** seein* others. *hile self-dis*ipline *o*es fro* *ithin and *e \n",
            "\n",
            "learn it on o*r o*n self. self-dis*ipline re**ires a lot \n",
            "\n",
            "of *oti*ation and s*pport fro* others.a*o*e all, follo*in* *o*r dail* \n",
            "\n",
            "s*hed*le *itho*t an* *ista*e is also part of *ein* dis*iplined.\n",
            "\n",
            "\n"
          ]
        }
      ]
    },
    {
      "cell_type": "code",
      "source": [
        "# line 1, word 2, we can see a word looks like \"dis*ipline\"\n",
        "# after analyzing the whole sentence, let's consider this as \"discipline\"\n",
        "# map q=c\n",
        "\n",
        "\n",
        "mapping = {'l':'a', 'x':'i', 'm':'e', 'o':'n', 't':'r', 'z':'o', 's':'f', 'k':'d', 'u':'t', 'p':'h', 'w':'s', 'g':'l', 'a':'p', 'q':'c'}\n",
        "words_per_line = 10\n",
        "plaintext = substitution_cipher(ciphertext, mapping)\n",
        "print_result(ciphertext, words_per_line)\n",
        "print_result(plaintext, words_per_line)"
      ],
      "metadata": {
        "colab": {
          "base_uri": "https://localhost:8080/"
        },
        "id": "-Pfz4womWbFE",
        "outputId": "531aac20-68f8-4023-bf0f-30d15bcc23a1"
      },
      "execution_count": null,
      "outputs": [
        {
          "output_type": "stream",
          "name": "stdout",
          "text": [
            "exupziu kxwqxagxom, upm gxsm zs l amtwzo exgg rmqzfm kigg \n",
            "\n",
            "lok xolquxjm.lgwz, l kxwqxagxomk amtwzo qlo qzoutzg lok plokgm upm \n",
            "\n",
            "wxuiluxzo zs gxjxoh xo l wzapxwuxqlumk elc uplo upzwm epz \n",
            "\n",
            "kz ozu.fztmzjmt, xs czi pljm l aglo lok czi elou \n",
            "\n",
            "uz xfagmfmou xu xo czit gxsm upmo czi ommk kxwqxagxom. \n",
            "\n",
            "xu flnmw upxohw mlwc szt czi uz plokgm lok iguxflumgc \n",
            "\n",
            "rtxoh wiqqmww uz czit gxsm.xs ulgn lrziu upm ucamw zs \n",
            "\n",
            "kxwqxagxom, upmo upmc ltm hmomtlggc zs uez ucamw. sxtwu zom \n",
            "\n",
            "xw xokiqmk kxwqxagxom lok upm wmqzok zom xw wmgs- kxwqxagxom.xokiqmk \n",
            "\n",
            "kxwqxagxom xw wzfmupxoh uplu zupmtw ulihpu iw zt em gmlto \n",
            "\n",
            "rc wmmxoh zupmtw. epxgm wmgs-kxwqxagxom qzfmw stzf exupxo lok em \n",
            "\n",
            "gmlto xu zo zit zeo wmgs. wmgs-kxwqxagxom tmyixtmw l gzu \n",
            "\n",
            "zs fzuxjluxzo lok wiaaztu stzf zupmtw.lrzjm lgg, szggzexoh czit klxgc \n",
            "\n",
            "wqpmkigm exupziu loc fxwulnm xw lgwz altu zs rmxoh kxwqxagxomk.\n",
            "\n",
            "\n",
            "*itho*t discipline, the life of a person *ill *eco*e d*ll \n",
            "\n",
            "and inacti*e.also, a disciplined person can control and handle the \n",
            "\n",
            "sit*ation of li*in* in a sophisticated *a* than those *ho \n",
            "\n",
            "do not.*oreo*er, if *o* ha*e a plan and *o* *ant \n",
            "\n",
            "to i*ple*ent it in *o*r life then *o* need discipline. \n",
            "\n",
            "it *a*es thin*s eas* for *o* to handle and *lti*atel* \n",
            "\n",
            "*rin* s*ccess to *o*r life.if tal* a*o*t the t*pes of \n",
            "\n",
            "discipline, then the* are *enerall* of t*o t*pes. first one \n",
            "\n",
            "is ind*ced discipline and the second one is self- discipline.ind*ced \n",
            "\n",
            "discipline is so*ethin* that others ta**ht *s or *e learn \n",
            "\n",
            "** seein* others. *hile self-discipline co*es fro* *ithin and *e \n",
            "\n",
            "learn it on o*r o*n self. self-discipline re**ires a lot \n",
            "\n",
            "of *oti*ation and s*pport fro* others.a*o*e all, follo*in* *o*r dail* \n",
            "\n",
            "sched*le *itho*t an* *ista*e is also part of *ein* disciplined.\n",
            "\n",
            "\n"
          ]
        }
      ]
    },
    {
      "cell_type": "code",
      "source": [
        "# line 1, word 1, we can see a word looks like \"*itho*t\"\n",
        "# after analyzing the whole sentence, let's consider this as \"without\"\n",
        "# map e=w and i=u\n",
        "\n",
        "\n",
        "mapping = {'l':'a', 'x':'i', 'm':'e', 'o':'n', 't':'r', 'z':'o', 's':'f', 'k':'d', 'u':'t', 'p':'h', 'w':'s', 'g':'l', 'a':'p', 'q':'c',\n",
        "           'e':'w', 'i':'u'}\n",
        "words_per_line = 10\n",
        "plaintext = substitution_cipher(ciphertext, mapping)\n",
        "print_result(ciphertext, words_per_line)\n",
        "print_result(plaintext, words_per_line)"
      ],
      "metadata": {
        "colab": {
          "base_uri": "https://localhost:8080/"
        },
        "id": "PGIupHlJW24P",
        "outputId": "a6f8a675-6fbc-425a-f12a-af42ef80d93a"
      },
      "execution_count": null,
      "outputs": [
        {
          "output_type": "stream",
          "name": "stdout",
          "text": [
            "exupziu kxwqxagxom, upm gxsm zs l amtwzo exgg rmqzfm kigg \n",
            "\n",
            "lok xolquxjm.lgwz, l kxwqxagxomk amtwzo qlo qzoutzg lok plokgm upm \n",
            "\n",
            "wxuiluxzo zs gxjxoh xo l wzapxwuxqlumk elc uplo upzwm epz \n",
            "\n",
            "kz ozu.fztmzjmt, xs czi pljm l aglo lok czi elou \n",
            "\n",
            "uz xfagmfmou xu xo czit gxsm upmo czi ommk kxwqxagxom. \n",
            "\n",
            "xu flnmw upxohw mlwc szt czi uz plokgm lok iguxflumgc \n",
            "\n",
            "rtxoh wiqqmww uz czit gxsm.xs ulgn lrziu upm ucamw zs \n",
            "\n",
            "kxwqxagxom, upmo upmc ltm hmomtlggc zs uez ucamw. sxtwu zom \n",
            "\n",
            "xw xokiqmk kxwqxagxom lok upm wmqzok zom xw wmgs- kxwqxagxom.xokiqmk \n",
            "\n",
            "kxwqxagxom xw wzfmupxoh uplu zupmtw ulihpu iw zt em gmlto \n",
            "\n",
            "rc wmmxoh zupmtw. epxgm wmgs-kxwqxagxom qzfmw stzf exupxo lok em \n",
            "\n",
            "gmlto xu zo zit zeo wmgs. wmgs-kxwqxagxom tmyixtmw l gzu \n",
            "\n",
            "zs fzuxjluxzo lok wiaaztu stzf zupmtw.lrzjm lgg, szggzexoh czit klxgc \n",
            "\n",
            "wqpmkigm exupziu loc fxwulnm xw lgwz altu zs rmxoh kxwqxagxomk.\n",
            "\n",
            "\n",
            "without discipline, the life of a person will *eco*e dull \n",
            "\n",
            "and inacti*e.also, a disciplined person can control and handle the \n",
            "\n",
            "situation of li*in* in a sophisticated wa* than those who \n",
            "\n",
            "do not.*oreo*er, if *ou ha*e a plan and *ou want \n",
            "\n",
            "to i*ple*ent it in *our life then *ou need discipline. \n",
            "\n",
            "it *a*es thin*s eas* for *ou to handle and ulti*atel* \n",
            "\n",
            "*rin* success to *our life.if tal* a*out the t*pes of \n",
            "\n",
            "discipline, then the* are *enerall* of two t*pes. first one \n",
            "\n",
            "is induced discipline and the second one is self- discipline.induced \n",
            "\n",
            "discipline is so*ethin* that others tau*ht us or we learn \n",
            "\n",
            "** seein* others. while self-discipline co*es fro* within and we \n",
            "\n",
            "learn it on our own self. self-discipline re*uires a lot \n",
            "\n",
            "of *oti*ation and support fro* others.a*o*e all, followin* *our dail* \n",
            "\n",
            "schedule without an* *ista*e is also part of *ein* disciplined.\n",
            "\n",
            "\n"
          ]
        }
      ]
    },
    {
      "cell_type": "code",
      "source": [
        "# line 6, word 6, we can see a word looks like \"*ou\"\n",
        "# we know \"you\" is one of the most frequently used three letter word that ends with \"ou\"\n",
        "# map c=y\n",
        "\n",
        "\n",
        "mapping = {'l':'a', 'x':'i', 'm':'e', 'o':'n', 't':'r', 'z':'o', 's':'f', 'k':'d', 'u':'t', 'p':'h', 'w':'s', 'g':'l', 'a':'p', 'q':'c',\n",
        "           'e':'w', 'i':'u', 'c':'y'}\n",
        "words_per_line = 10\n",
        "plaintext = substitution_cipher(ciphertext, mapping)\n",
        "print_result(ciphertext, words_per_line)\n",
        "print_result(plaintext, words_per_line)"
      ],
      "metadata": {
        "colab": {
          "base_uri": "https://localhost:8080/"
        },
        "id": "ErUZ3_BVXigd",
        "outputId": "4ff65e9b-751a-4d17-9d0b-a2c90b5c429d"
      },
      "execution_count": null,
      "outputs": [
        {
          "output_type": "stream",
          "name": "stdout",
          "text": [
            "exupziu kxwqxagxom, upm gxsm zs l amtwzo exgg rmqzfm kigg \n",
            "\n",
            "lok xolquxjm.lgwz, l kxwqxagxomk amtwzo qlo qzoutzg lok plokgm upm \n",
            "\n",
            "wxuiluxzo zs gxjxoh xo l wzapxwuxqlumk elc uplo upzwm epz \n",
            "\n",
            "kz ozu.fztmzjmt, xs czi pljm l aglo lok czi elou \n",
            "\n",
            "uz xfagmfmou xu xo czit gxsm upmo czi ommk kxwqxagxom. \n",
            "\n",
            "xu flnmw upxohw mlwc szt czi uz plokgm lok iguxflumgc \n",
            "\n",
            "rtxoh wiqqmww uz czit gxsm.xs ulgn lrziu upm ucamw zs \n",
            "\n",
            "kxwqxagxom, upmo upmc ltm hmomtlggc zs uez ucamw. sxtwu zom \n",
            "\n",
            "xw xokiqmk kxwqxagxom lok upm wmqzok zom xw wmgs- kxwqxagxom.xokiqmk \n",
            "\n",
            "kxwqxagxom xw wzfmupxoh uplu zupmtw ulihpu iw zt em gmlto \n",
            "\n",
            "rc wmmxoh zupmtw. epxgm wmgs-kxwqxagxom qzfmw stzf exupxo lok em \n",
            "\n",
            "gmlto xu zo zit zeo wmgs. wmgs-kxwqxagxom tmyixtmw l gzu \n",
            "\n",
            "zs fzuxjluxzo lok wiaaztu stzf zupmtw.lrzjm lgg, szggzexoh czit klxgc \n",
            "\n",
            "wqpmkigm exupziu loc fxwulnm xw lgwz altu zs rmxoh kxwqxagxomk.\n",
            "\n",
            "\n",
            "without discipline, the life of a person will *eco*e dull \n",
            "\n",
            "and inacti*e.also, a disciplined person can control and handle the \n",
            "\n",
            "situation of li*in* in a sophisticated way than those who \n",
            "\n",
            "do not.*oreo*er, if you ha*e a plan and you want \n",
            "\n",
            "to i*ple*ent it in your life then you need discipline. \n",
            "\n",
            "it *a*es thin*s easy for you to handle and ulti*ately \n",
            "\n",
            "*rin* success to your life.if tal* a*out the types of \n",
            "\n",
            "discipline, then they are *enerally of two types. first one \n",
            "\n",
            "is induced discipline and the second one is self- discipline.induced \n",
            "\n",
            "discipline is so*ethin* that others tau*ht us or we learn \n",
            "\n",
            "*y seein* others. while self-discipline co*es fro* within and we \n",
            "\n",
            "learn it on our own self. self-discipline re*uires a lot \n",
            "\n",
            "of *oti*ation and support fro* others.a*o*e all, followin* your daily \n",
            "\n",
            "schedule without any *ista*e is also part of *ein* disciplined.\n",
            "\n",
            "\n"
          ]
        }
      ]
    },
    {
      "cell_type": "code",
      "source": [
        "# line 4, word 6, we can see a word looks like \"ha*e\"\n",
        "# we know \"have\" is one of the most frequently used four letter word\n",
        "# map j=v\n",
        "\n",
        "\n",
        "mapping = {'l':'a', 'x':'i', 'm':'e', 'o':'n', 't':'r', 'z':'o', 's':'f', 'k':'d', 'u':'t', 'p':'h', 'w':'s', 'g':'l', 'a':'p', 'q':'c',\n",
        "           'e':'w', 'i':'u', 'c':'y', 'j':'v'}\n",
        "words_per_line = 10\n",
        "plaintext = substitution_cipher(ciphertext, mapping)\n",
        "print_result(ciphertext, words_per_line)\n",
        "print_result(plaintext, words_per_line)"
      ],
      "metadata": {
        "colab": {
          "base_uri": "https://localhost:8080/"
        },
        "id": "UJvTBLyeYKCV",
        "outputId": "0cb6f9d3-e4e6-4068-9b78-c10217280df8"
      },
      "execution_count": null,
      "outputs": [
        {
          "output_type": "stream",
          "name": "stdout",
          "text": [
            "exupziu kxwqxagxom, upm gxsm zs l amtwzo exgg rmqzfm kigg \n",
            "\n",
            "lok xolquxjm.lgwz, l kxwqxagxomk amtwzo qlo qzoutzg lok plokgm upm \n",
            "\n",
            "wxuiluxzo zs gxjxoh xo l wzapxwuxqlumk elc uplo upzwm epz \n",
            "\n",
            "kz ozu.fztmzjmt, xs czi pljm l aglo lok czi elou \n",
            "\n",
            "uz xfagmfmou xu xo czit gxsm upmo czi ommk kxwqxagxom. \n",
            "\n",
            "xu flnmw upxohw mlwc szt czi uz plokgm lok iguxflumgc \n",
            "\n",
            "rtxoh wiqqmww uz czit gxsm.xs ulgn lrziu upm ucamw zs \n",
            "\n",
            "kxwqxagxom, upmo upmc ltm hmomtlggc zs uez ucamw. sxtwu zom \n",
            "\n",
            "xw xokiqmk kxwqxagxom lok upm wmqzok zom xw wmgs- kxwqxagxom.xokiqmk \n",
            "\n",
            "kxwqxagxom xw wzfmupxoh uplu zupmtw ulihpu iw zt em gmlto \n",
            "\n",
            "rc wmmxoh zupmtw. epxgm wmgs-kxwqxagxom qzfmw stzf exupxo lok em \n",
            "\n",
            "gmlto xu zo zit zeo wmgs. wmgs-kxwqxagxom tmyixtmw l gzu \n",
            "\n",
            "zs fzuxjluxzo lok wiaaztu stzf zupmtw.lrzjm lgg, szggzexoh czit klxgc \n",
            "\n",
            "wqpmkigm exupziu loc fxwulnm xw lgwz altu zs rmxoh kxwqxagxomk.\n",
            "\n",
            "\n",
            "without discipline, the life of a person will *eco*e dull \n",
            "\n",
            "and inactive.also, a disciplined person can control and handle the \n",
            "\n",
            "situation of livin* in a sophisticated way than those who \n",
            "\n",
            "do not.*oreover, if you have a plan and you want \n",
            "\n",
            "to i*ple*ent it in your life then you need discipline. \n",
            "\n",
            "it *a*es thin*s easy for you to handle and ulti*ately \n",
            "\n",
            "*rin* success to your life.if tal* a*out the types of \n",
            "\n",
            "discipline, then they are *enerally of two types. first one \n",
            "\n",
            "is induced discipline and the second one is self- discipline.induced \n",
            "\n",
            "discipline is so*ethin* that others tau*ht us or we learn \n",
            "\n",
            "*y seein* others. while self-discipline co*es fro* within and we \n",
            "\n",
            "learn it on our own self. self-discipline re*uires a lot \n",
            "\n",
            "of *otivation and support fro* others.a*ove all, followin* your daily \n",
            "\n",
            "schedule without any *ista*e is also part of *ein* disciplined.\n",
            "\n",
            "\n"
          ]
        }
      ]
    },
    {
      "cell_type": "code",
      "source": [
        "# line 11, word 7, we can see a word looks like \"fro*\"\n",
        "# we know \"from\" is one of the most frequently used four letter word that starts with \"fro\"\n",
        "# map f=m\n",
        "\n",
        "\n",
        "mapping = {'l':'a', 'x':'i', 'm':'e', 'o':'n', 't':'r', 'z':'o', 's':'f', 'k':'d', 'u':'t', 'p':'h', 'w':'s', 'g':'l', 'a':'p', 'q':'c',\n",
        "           'e':'w', 'i':'u', 'c':'y', 'j':'v', 'f':'m'}\n",
        "words_per_line = 10\n",
        "plaintext = substitution_cipher(ciphertext, mapping)\n",
        "print_result(ciphertext, words_per_line)\n",
        "print_result(plaintext, words_per_line)"
      ],
      "metadata": {
        "colab": {
          "base_uri": "https://localhost:8080/"
        },
        "id": "lXVmxnfZYwss",
        "outputId": "eadd8bfc-850c-4219-8b7b-56c2edc799e0"
      },
      "execution_count": null,
      "outputs": [
        {
          "output_type": "stream",
          "name": "stdout",
          "text": [
            "exupziu kxwqxagxom, upm gxsm zs l amtwzo exgg rmqzfm kigg \n",
            "\n",
            "lok xolquxjm.lgwz, l kxwqxagxomk amtwzo qlo qzoutzg lok plokgm upm \n",
            "\n",
            "wxuiluxzo zs gxjxoh xo l wzapxwuxqlumk elc uplo upzwm epz \n",
            "\n",
            "kz ozu.fztmzjmt, xs czi pljm l aglo lok czi elou \n",
            "\n",
            "uz xfagmfmou xu xo czit gxsm upmo czi ommk kxwqxagxom. \n",
            "\n",
            "xu flnmw upxohw mlwc szt czi uz plokgm lok iguxflumgc \n",
            "\n",
            "rtxoh wiqqmww uz czit gxsm.xs ulgn lrziu upm ucamw zs \n",
            "\n",
            "kxwqxagxom, upmo upmc ltm hmomtlggc zs uez ucamw. sxtwu zom \n",
            "\n",
            "xw xokiqmk kxwqxagxom lok upm wmqzok zom xw wmgs- kxwqxagxom.xokiqmk \n",
            "\n",
            "kxwqxagxom xw wzfmupxoh uplu zupmtw ulihpu iw zt em gmlto \n",
            "\n",
            "rc wmmxoh zupmtw. epxgm wmgs-kxwqxagxom qzfmw stzf exupxo lok em \n",
            "\n",
            "gmlto xu zo zit zeo wmgs. wmgs-kxwqxagxom tmyixtmw l gzu \n",
            "\n",
            "zs fzuxjluxzo lok wiaaztu stzf zupmtw.lrzjm lgg, szggzexoh czit klxgc \n",
            "\n",
            "wqpmkigm exupziu loc fxwulnm xw lgwz altu zs rmxoh kxwqxagxomk.\n",
            "\n",
            "\n",
            "without discipline, the life of a person will *ecome dull \n",
            "\n",
            "and inactive.also, a disciplined person can control and handle the \n",
            "\n",
            "situation of livin* in a sophisticated way than those who \n",
            "\n",
            "do not.moreover, if you have a plan and you want \n",
            "\n",
            "to implement it in your life then you need discipline. \n",
            "\n",
            "it ma*es thin*s easy for you to handle and ultimately \n",
            "\n",
            "*rin* success to your life.if tal* a*out the types of \n",
            "\n",
            "discipline, then they are *enerally of two types. first one \n",
            "\n",
            "is induced discipline and the second one is self- discipline.induced \n",
            "\n",
            "discipline is somethin* that others tau*ht us or we learn \n",
            "\n",
            "*y seein* others. while self-discipline comes from within and we \n",
            "\n",
            "learn it on our own self. self-discipline re*uires a lot \n",
            "\n",
            "of motivation and support from others.a*ove all, followin* your daily \n",
            "\n",
            "schedule without any mista*e is also part of *ein* disciplined.\n",
            "\n",
            "\n"
          ]
        }
      ]
    },
    {
      "cell_type": "code",
      "source": [
        "# line 1, word 9, we can see a word looks like \"*ecome\"\n",
        "# let's consider this word as \"become\"\n",
        "# map r=b\n",
        "\n",
        "\n",
        "mapping = {'l':'a', 'x':'i', 'm':'e', 'o':'n', 't':'r', 'z':'o', 's':'f', 'k':'d', 'u':'t', 'p':'h', 'w':'s', 'g':'l', 'a':'p', 'q':'c',\n",
        "           'e':'w', 'i':'u', 'c':'y', 'j':'v', 'f':'m', 'r':'b'}\n",
        "words_per_line = 10\n",
        "plaintext = substitution_cipher(ciphertext, mapping)\n",
        "print_result(ciphertext, words_per_line)\n",
        "print_result(plaintext, words_per_line)"
      ],
      "metadata": {
        "colab": {
          "base_uri": "https://localhost:8080/"
        },
        "id": "brZoYUisZWcV",
        "outputId": "346374fe-fde7-4111-ad2a-b6140451696c"
      },
      "execution_count": null,
      "outputs": [
        {
          "output_type": "stream",
          "name": "stdout",
          "text": [
            "exupziu kxwqxagxom, upm gxsm zs l amtwzo exgg rmqzfm kigg \n",
            "\n",
            "lok xolquxjm.lgwz, l kxwqxagxomk amtwzo qlo qzoutzg lok plokgm upm \n",
            "\n",
            "wxuiluxzo zs gxjxoh xo l wzapxwuxqlumk elc uplo upzwm epz \n",
            "\n",
            "kz ozu.fztmzjmt, xs czi pljm l aglo lok czi elou \n",
            "\n",
            "uz xfagmfmou xu xo czit gxsm upmo czi ommk kxwqxagxom. \n",
            "\n",
            "xu flnmw upxohw mlwc szt czi uz plokgm lok iguxflumgc \n",
            "\n",
            "rtxoh wiqqmww uz czit gxsm.xs ulgn lrziu upm ucamw zs \n",
            "\n",
            "kxwqxagxom, upmo upmc ltm hmomtlggc zs uez ucamw. sxtwu zom \n",
            "\n",
            "xw xokiqmk kxwqxagxom lok upm wmqzok zom xw wmgs- kxwqxagxom.xokiqmk \n",
            "\n",
            "kxwqxagxom xw wzfmupxoh uplu zupmtw ulihpu iw zt em gmlto \n",
            "\n",
            "rc wmmxoh zupmtw. epxgm wmgs-kxwqxagxom qzfmw stzf exupxo lok em \n",
            "\n",
            "gmlto xu zo zit zeo wmgs. wmgs-kxwqxagxom tmyixtmw l gzu \n",
            "\n",
            "zs fzuxjluxzo lok wiaaztu stzf zupmtw.lrzjm lgg, szggzexoh czit klxgc \n",
            "\n",
            "wqpmkigm exupziu loc fxwulnm xw lgwz altu zs rmxoh kxwqxagxomk.\n",
            "\n",
            "\n",
            "without discipline, the life of a person will become dull \n",
            "\n",
            "and inactive.also, a disciplined person can control and handle the \n",
            "\n",
            "situation of livin* in a sophisticated way than those who \n",
            "\n",
            "do not.moreover, if you have a plan and you want \n",
            "\n",
            "to implement it in your life then you need discipline. \n",
            "\n",
            "it ma*es thin*s easy for you to handle and ultimately \n",
            "\n",
            "brin* success to your life.if tal* about the types of \n",
            "\n",
            "discipline, then they are *enerally of two types. first one \n",
            "\n",
            "is induced discipline and the second one is self- discipline.induced \n",
            "\n",
            "discipline is somethin* that others tau*ht us or we learn \n",
            "\n",
            "by seein* others. while self-discipline comes from within and we \n",
            "\n",
            "learn it on our own self. self-discipline re*uires a lot \n",
            "\n",
            "of motivation and support from others.above all, followin* your daily \n",
            "\n",
            "schedule without any mista*e is also part of bein* disciplined.\n",
            "\n",
            "\n"
          ]
        }
      ]
    },
    {
      "cell_type": "code",
      "source": [
        "# line 10, word 3, we can see a word looks like \"somethin*\"\n",
        "# let's consider \"somethin*\" as \"something\"\n",
        "# map h=g\n",
        "\n",
        "\n",
        "mapping = {'l':'a', 'x':'i', 'm':'e', 'o':'n', 't':'r', 'z':'o', 's':'f', 'k':'d', 'u':'t', 'p':'h', 'w':'s', 'g':'l', 'a':'p', 'q':'c',\n",
        "           'e':'w', 'i':'u', 'c':'y', 'j':'v', 'f':'m', 'r':'b', 'h':'g'}\n",
        "words_per_line = 10\n",
        "plaintext = substitution_cipher(ciphertext, mapping)\n",
        "print_result(ciphertext, words_per_line)\n",
        "print_result(plaintext, words_per_line)"
      ],
      "metadata": {
        "colab": {
          "base_uri": "https://localhost:8080/"
        },
        "id": "aOfax9EtZrqw",
        "outputId": "ab2a8332-2a44-48a5-d29e-d1a6f7a7b6c9"
      },
      "execution_count": null,
      "outputs": [
        {
          "output_type": "stream",
          "name": "stdout",
          "text": [
            "exupziu kxwqxagxom, upm gxsm zs l amtwzo exgg rmqzfm kigg \n",
            "\n",
            "lok xolquxjm.lgwz, l kxwqxagxomk amtwzo qlo qzoutzg lok plokgm upm \n",
            "\n",
            "wxuiluxzo zs gxjxoh xo l wzapxwuxqlumk elc uplo upzwm epz \n",
            "\n",
            "kz ozu.fztmzjmt, xs czi pljm l aglo lok czi elou \n",
            "\n",
            "uz xfagmfmou xu xo czit gxsm upmo czi ommk kxwqxagxom. \n",
            "\n",
            "xu flnmw upxohw mlwc szt czi uz plokgm lok iguxflumgc \n",
            "\n",
            "rtxoh wiqqmww uz czit gxsm.xs ulgn lrziu upm ucamw zs \n",
            "\n",
            "kxwqxagxom, upmo upmc ltm hmomtlggc zs uez ucamw. sxtwu zom \n",
            "\n",
            "xw xokiqmk kxwqxagxom lok upm wmqzok zom xw wmgs- kxwqxagxom.xokiqmk \n",
            "\n",
            "kxwqxagxom xw wzfmupxoh uplu zupmtw ulihpu iw zt em gmlto \n",
            "\n",
            "rc wmmxoh zupmtw. epxgm wmgs-kxwqxagxom qzfmw stzf exupxo lok em \n",
            "\n",
            "gmlto xu zo zit zeo wmgs. wmgs-kxwqxagxom tmyixtmw l gzu \n",
            "\n",
            "zs fzuxjluxzo lok wiaaztu stzf zupmtw.lrzjm lgg, szggzexoh czit klxgc \n",
            "\n",
            "wqpmkigm exupziu loc fxwulnm xw lgwz altu zs rmxoh kxwqxagxomk.\n",
            "\n",
            "\n",
            "without discipline, the life of a person will become dull \n",
            "\n",
            "and inactive.also, a disciplined person can control and handle the \n",
            "\n",
            "situation of living in a sophisticated way than those who \n",
            "\n",
            "do not.moreover, if you have a plan and you want \n",
            "\n",
            "to implement it in your life then you need discipline. \n",
            "\n",
            "it ma*es things easy for you to handle and ultimately \n",
            "\n",
            "bring success to your life.if tal* about the types of \n",
            "\n",
            "discipline, then they are generally of two types. first one \n",
            "\n",
            "is induced discipline and the second one is self- discipline.induced \n",
            "\n",
            "discipline is something that others taught us or we learn \n",
            "\n",
            "by seeing others. while self-discipline comes from within and we \n",
            "\n",
            "learn it on our own self. self-discipline re*uires a lot \n",
            "\n",
            "of motivation and support from others.above all, following your daily \n",
            "\n",
            "schedule without any mista*e is also part of being disciplined.\n",
            "\n",
            "\n"
          ]
        }
      ]
    },
    {
      "cell_type": "code",
      "source": [
        "# line 6, word 2, the word is \"ma*es\"\n",
        "# consider \"ma*es\" as \"makes\"\n",
        "# map n=k\n",
        "\n",
        "\n",
        "mapping = {'l':'a', 'x':'i', 'm':'e', 'o':'n', 't':'r', 'z':'o', 's':'f', 'k':'d', 'u':'t', 'p':'h', 'w':'s', 'g':'l', 'a':'p', 'q':'c',\n",
        "           'e':'w', 'i':'u', 'c':'y', 'j':'v', 'f':'m', 'r':'b', 'h':'g', 'n':'k'}\n",
        "words_per_line = 10\n",
        "plaintext = substitution_cipher(ciphertext, mapping)\n",
        "print_result(ciphertext, words_per_line)\n",
        "print_result(plaintext, words_per_line)"
      ],
      "metadata": {
        "colab": {
          "base_uri": "https://localhost:8080/"
        },
        "id": "xdsu8hWPaPHW",
        "outputId": "67aefce4-f4ec-473f-f627-047fc849b860"
      },
      "execution_count": null,
      "outputs": [
        {
          "output_type": "stream",
          "name": "stdout",
          "text": [
            "exupziu kxwqxagxom, upm gxsm zs l amtwzo exgg rmqzfm kigg \n",
            "\n",
            "lok xolquxjm.lgwz, l kxwqxagxomk amtwzo qlo qzoutzg lok plokgm upm \n",
            "\n",
            "wxuiluxzo zs gxjxoh xo l wzapxwuxqlumk elc uplo upzwm epz \n",
            "\n",
            "kz ozu.fztmzjmt, xs czi pljm l aglo lok czi elou \n",
            "\n",
            "uz xfagmfmou xu xo czit gxsm upmo czi ommk kxwqxagxom. \n",
            "\n",
            "xu flnmw upxohw mlwc szt czi uz plokgm lok iguxflumgc \n",
            "\n",
            "rtxoh wiqqmww uz czit gxsm.xs ulgn lrziu upm ucamw zs \n",
            "\n",
            "kxwqxagxom, upmo upmc ltm hmomtlggc zs uez ucamw. sxtwu zom \n",
            "\n",
            "xw xokiqmk kxwqxagxom lok upm wmqzok zom xw wmgs- kxwqxagxom.xokiqmk \n",
            "\n",
            "kxwqxagxom xw wzfmupxoh uplu zupmtw ulihpu iw zt em gmlto \n",
            "\n",
            "rc wmmxoh zupmtw. epxgm wmgs-kxwqxagxom qzfmw stzf exupxo lok em \n",
            "\n",
            "gmlto xu zo zit zeo wmgs. wmgs-kxwqxagxom tmyixtmw l gzu \n",
            "\n",
            "zs fzuxjluxzo lok wiaaztu stzf zupmtw.lrzjm lgg, szggzexoh czit klxgc \n",
            "\n",
            "wqpmkigm exupziu loc fxwulnm xw lgwz altu zs rmxoh kxwqxagxomk.\n",
            "\n",
            "\n",
            "without discipline, the life of a person will become dull \n",
            "\n",
            "and inactive.also, a disciplined person can control and handle the \n",
            "\n",
            "situation of living in a sophisticated way than those who \n",
            "\n",
            "do not.moreover, if you have a plan and you want \n",
            "\n",
            "to implement it in your life then you need discipline. \n",
            "\n",
            "it makes things easy for you to handle and ultimately \n",
            "\n",
            "bring success to your life.if talk about the types of \n",
            "\n",
            "discipline, then they are generally of two types. first one \n",
            "\n",
            "is induced discipline and the second one is self- discipline.induced \n",
            "\n",
            "discipline is something that others taught us or we learn \n",
            "\n",
            "by seeing others. while self-discipline comes from within and we \n",
            "\n",
            "learn it on our own self. self-discipline re*uires a lot \n",
            "\n",
            "of motivation and support from others.above all, following your daily \n",
            "\n",
            "schedule without any mistake is also part of being disciplined.\n",
            "\n",
            "\n"
          ]
        }
      ]
    },
    {
      "cell_type": "code",
      "source": [
        "# there is only one word left which is \"re*uires\"\n",
        "# consider \"re*uires\"  as \"requires\"\n",
        "# map y=q\n",
        "\n",
        "mapping = {'l':'a', 'x':'i', 'm':'e', 'o':'n', 't':'r', 'z':'o', 's':'f', 'k':'d', 'u':'t', 'p':'h', 'w':'s', 'g':'l', 'a':'p', 'q':'c',\n",
        "           'e':'w', 'i':'u', 'c':'y', 'j':'v', 'f':'m', 'r':'b', 'h':'g', 'n':'k', 'y':'q'}\n",
        "words_per_line = 10\n",
        "plaintext = substitution_cipher(ciphertext, mapping)\n",
        "print_result(ciphertext, words_per_line)\n",
        "print_result(plaintext, words_per_line)"
      ],
      "metadata": {
        "colab": {
          "base_uri": "https://localhost:8080/"
        },
        "id": "8eFrllKdapQt",
        "outputId": "5822850e-ea05-458c-da52-c9fe1fba0f63"
      },
      "execution_count": null,
      "outputs": [
        {
          "output_type": "stream",
          "name": "stdout",
          "text": [
            "exupziu kxwqxagxom, upm gxsm zs l amtwzo exgg rmqzfm kigg \n",
            "\n",
            "lok xolquxjm.lgwz, l kxwqxagxomk amtwzo qlo qzoutzg lok plokgm upm \n",
            "\n",
            "wxuiluxzo zs gxjxoh xo l wzapxwuxqlumk elc uplo upzwm epz \n",
            "\n",
            "kz ozu.fztmzjmt, xs czi pljm l aglo lok czi elou \n",
            "\n",
            "uz xfagmfmou xu xo czit gxsm upmo czi ommk kxwqxagxom. \n",
            "\n",
            "xu flnmw upxohw mlwc szt czi uz plokgm lok iguxflumgc \n",
            "\n",
            "rtxoh wiqqmww uz czit gxsm.xs ulgn lrziu upm ucamw zs \n",
            "\n",
            "kxwqxagxom, upmo upmc ltm hmomtlggc zs uez ucamw. sxtwu zom \n",
            "\n",
            "xw xokiqmk kxwqxagxom lok upm wmqzok zom xw wmgs- kxwqxagxom.xokiqmk \n",
            "\n",
            "kxwqxagxom xw wzfmupxoh uplu zupmtw ulihpu iw zt em gmlto \n",
            "\n",
            "rc wmmxoh zupmtw. epxgm wmgs-kxwqxagxom qzfmw stzf exupxo lok em \n",
            "\n",
            "gmlto xu zo zit zeo wmgs. wmgs-kxwqxagxom tmyixtmw l gzu \n",
            "\n",
            "zs fzuxjluxzo lok wiaaztu stzf zupmtw.lrzjm lgg, szggzexoh czit klxgc \n",
            "\n",
            "wqpmkigm exupziu loc fxwulnm xw lgwz altu zs rmxoh kxwqxagxomk.\n",
            "\n",
            "\n",
            "without discipline, the life of a person will become dull \n",
            "\n",
            "and inactive.also, a disciplined person can control and handle the \n",
            "\n",
            "situation of living in a sophisticated way than those who \n",
            "\n",
            "do not.moreover, if you have a plan and you want \n",
            "\n",
            "to implement it in your life then you need discipline. \n",
            "\n",
            "it makes things easy for you to handle and ultimately \n",
            "\n",
            "bring success to your life.if talk about the types of \n",
            "\n",
            "discipline, then they are generally of two types. first one \n",
            "\n",
            "is induced discipline and the second one is self- discipline.induced \n",
            "\n",
            "discipline is something that others taught us or we learn \n",
            "\n",
            "by seeing others. while self-discipline comes from within and we \n",
            "\n",
            "learn it on our own self. self-discipline requires a lot \n",
            "\n",
            "of motivation and support from others.above all, following your daily \n",
            "\n",
            "schedule without any mistake is also part of being disciplined.\n",
            "\n",
            "\n"
          ]
        }
      ]
    },
    {
      "cell_type": "code",
      "source": [
        "# desired mappings\n",
        "\n",
        "desired_mapping(mapping)"
      ],
      "metadata": {
        "colab": {
          "base_uri": "https://localhost:8080/"
        },
        "id": "s3HAO7PMbUkJ",
        "outputId": "793fe02a-d0ac-4b4d-aa7b-7cbafa3d4b09"
      },
      "execution_count": null,
      "outputs": [
        {
          "output_type": "stream",
          "name": "stdout",
          "text": [
            "Desired Mappings : \n",
            "m:a\n",
            "f:s\n",
            "v:i\n",
            "d:e\n",
            "g:t\n",
            "t:h\n",
            "h:o\n",
            "a:f\n",
            "b:u\n",
            "e:r\n",
            "s:n\n",
            "u:g\n",
            "z:m\n",
            "l:y\n",
            "x:d\n",
            "c:p\n",
            "j:w\n",
            "y:l\n",
            "k:x\n",
            "i:b\n",
            "q:c\n",
            "o:v\n",
            "p:k\n"
          ]
        }
      ]
    },
    {
      "cell_type": "markdown",
      "source": [
        "<ins>**Plaintext of Task-02(B) is :**</ins><br>\n",
        "<p>without discipline, the life of a person will become dull and inactive.also, a disciplined person can control\n",
        "and handle the situation of living in a sophisticated way than those who do not.moreover, if you have a plan and you want to implement it in your life then you need discipline.\n",
        "it makes things easy for you to handle and ultimately bring success to your life.if talk about the types of discipline, then they are generally of two types. first one is induced discipline and the second one is self- discipline.induced discipline is something that others taught us or we learn by seeing others. while self-discipline comes from within and we learn it on our own self. self-discipline requires a lot of motivation and support from others.above all, following your daily schedule without any mistake is also part of being disciplined.</p>"
      ],
      "metadata": {
        "id": "28XPz5c7bfbY"
      }
    },
    {
      "cell_type": "markdown",
      "source": [
        "# <ins>Task - 02(C)</ins>"
      ],
      "metadata": {
        "id": "-Bkmi2HkJ_tc"
      }
    },
    {
      "cell_type": "code",
      "source": [
        "ciphertext = \"AUHC MVKFC V BYZUGC V IZMC CJ GUMBZYAZD UKUVM. \\\n",
        "VC HZZGZB CJ GZ, V HCJJB PD CFZ VYJM KUCZ AZUBVMK CJ CFZ \\\n",
        "BYVWZ UMB OJY U IFVAZ, V TJNAB MJC ZMCZY. \\\n",
        "OJY CFZ IUD, VC IUH PUYYZB CJ GZ.\"\n",
        "\n",
        "mapping = {}\n",
        "words_per_line = 10\n",
        "plaintext = substitution_cipher(ciphertext, mapping)\n",
        "print_result(ciphertext, words_per_line)\n",
        "print_result(plaintext, words_per_line)"
      ],
      "metadata": {
        "colab": {
          "base_uri": "https://localhost:8080/"
        },
        "id": "WpSCJXFAKGtK",
        "outputId": "6ca6702f-8808-4679-c4c9-3b66283357d0"
      },
      "execution_count": null,
      "outputs": [
        {
          "output_type": "stream",
          "name": "stdout",
          "text": [
            "AUHC MVKFC V BYZUGC V IZMC CJ GUMBZYAZD UKUVM. VC \n",
            "\n",
            "HZZGZB CJ GZ, V HCJJB PD CFZ VYJM KUCZ AZUBVMK \n",
            "\n",
            "CJ CFZ BYVWZ UMB OJY U IFVAZ, V TJNAB MJC \n",
            "\n",
            "ZMCZY. OJY CFZ IUD, VC IUH PUYYZB CJ GZ.\n",
            "\n",
            "\n",
            "**** ***** * ****** * **** ** ********* *****. ** \n",
            "\n",
            "****** ** **, * ***** ** *** **** **** ******* \n",
            "\n",
            "** *** ***** *** *** * *****, * ***** *** \n",
            "\n",
            "*****. *** *** ***, ** *** ****** ** **.\n",
            "\n",
            "\n"
          ]
        }
      ]
    },
    {
      "cell_type": "code",
      "source": [
        "# let's cheack frequency of characters in the ciphertext\n",
        "\n",
        "calc_frequency(ciphertext)"
      ],
      "metadata": {
        "colab": {
          "base_uri": "https://localhost:8080/"
        },
        "id": "V-Xaoy1iKhZ_",
        "outputId": "88d2c8dd-9f0f-4a35-dd8a-24985b493d52"
      },
      "execution_count": null,
      "outputs": [
        {
          "output_type": "stream",
          "name": "stdout",
          "text": [
            "Character:  , Frequency: 38\n",
            "Character: Z, Frequency: 19\n",
            "Character: C, Frequency: 17\n",
            "Character: U, Frequency: 12\n",
            "Character: V, Frequency: 12\n",
            "Character: J, Frequency: 11\n",
            "Character: M, Frequency: 9\n",
            "Character: B, Frequency: 9\n",
            "Character: Y, Frequency: 9\n",
            "Character: A, Frequency: 5\n",
            "Character: F, Frequency: 5\n",
            "Character: G, Frequency: 5\n",
            "Character: H, Frequency: 4\n",
            "Character: K, Frequency: 4\n",
            "Character: I, Frequency: 4\n",
            "Character: D, Frequency: 3\n",
            "Character: ., Frequency: 3\n",
            "Character: ,, Frequency: 3\n",
            "Character: P, Frequency: 2\n",
            "Character: O, Frequency: 2\n",
            "Character: W, Frequency: 1\n",
            "Character: T, Frequency: 1\n",
            "Character: N, Frequency: 1\n"
          ]
        }
      ]
    },
    {
      "cell_type": "code",
      "source": [
        "# here we can see that character \"V\" is a single letter word.\n",
        "# we know \"A\" and \"I\" are two single letter word\n",
        "# but in the ciphertext we can see that \"V\" is using in the middle of a sentence\n",
        "# we know out of \"A\" and \"I\", only \"A\" can be used in the middle of a sentence\n",
        "# map V=A\n",
        "\n",
        "mapping = {'V':'A'}\n",
        "words_per_line = 10\n",
        "plaintext = substitution_cipher(ciphertext, mapping)\n",
        "print_result(ciphertext, words_per_line)\n",
        "print_result(plaintext, words_per_line)"
      ],
      "metadata": {
        "colab": {
          "base_uri": "https://localhost:8080/"
        },
        "id": "aoiYbO2zKz5q",
        "outputId": "53846178-4b9a-463b-c232-17562c17641b"
      },
      "execution_count": null,
      "outputs": [
        {
          "output_type": "stream",
          "name": "stdout",
          "text": [
            "AUHC MVKFC V BYZUGC V IZMC CJ GUMBZYAZD UKUVM. VC \n",
            "\n",
            "HZZGZB CJ GZ, V HCJJB PD CFZ VYJM KUCZ AZUBVMK \n",
            "\n",
            "CJ CFZ BYVWZ UMB OJY U IFVAZ, V TJNAB MJC \n",
            "\n",
            "ZMCZY. OJY CFZ IUD, VC IUH PUYYZB CJ GZ.\n",
            "\n",
            "\n",
            "**** *A*** A ****** A **** ** ********* ***A*. A* \n",
            "\n",
            "****** ** **, A ***** ** *** A*** **** ****A** \n",
            "\n",
            "** *** **A** *** *** * **A**, A ***** *** \n",
            "\n",
            "*****. *** *** ***, A* *** ****** ** **.\n",
            "\n",
            "\n"
          ]
        }
      ]
    },
    {
      "cell_type": "code",
      "source": [
        "# line 1, word 10, the word is \"A*\"\n",
        "# we know \"AS\" is one of the most frequently used two letter word that starts with \"A\"\n",
        "# map C=S\n",
        "\n",
        "mapping = {'V':'A', 'C':'S'}\n",
        "words_per_line = 10\n",
        "plaintext = substitution_cipher(ciphertext, mapping)\n",
        "print_result(ciphertext, words_per_line)\n",
        "print_result(plaintext, words_per_line)"
      ],
      "metadata": {
        "colab": {
          "base_uri": "https://localhost:8080/"
        },
        "id": "RRWXAJTcLPXi",
        "outputId": "5713fcda-1d44-4639-9a94-a476830bef88"
      },
      "execution_count": null,
      "outputs": [
        {
          "output_type": "stream",
          "name": "stdout",
          "text": [
            "AUHC MVKFC V BYZUGC V IZMC CJ GUMBZYAZD UKUVM. VC \n",
            "\n",
            "HZZGZB CJ GZ, V HCJJB PD CFZ VYJM KUCZ AZUBVMK \n",
            "\n",
            "CJ CFZ BYVWZ UMB OJY U IFVAZ, V TJNAB MJC \n",
            "\n",
            "ZMCZY. OJY CFZ IUD, VC IUH PUYYZB CJ GZ.\n",
            "\n",
            "\n",
            "***S *A**S A *****S A ***S S* ********* ***A*. AS \n",
            "\n",
            "****** S* **, A *S*** ** S** A*** **S* ****A** \n",
            "\n",
            "S* S** **A** *** *** * **A**, A ***** **S \n",
            "\n",
            "**S**. *** S** ***, AS *** ****** S* **.\n",
            "\n",
            "\n"
          ]
        }
      ]
    },
    {
      "cell_type": "code",
      "source": [
        "# line 3, word 1, the word is \"S*\"\n",
        "# we know \"SO\" is one of the most frequently used two letter word that starts with \"S\"\n",
        "# map J=O\n",
        "\n",
        "mapping = {'V':'A', 'C':'S', 'J':'O'}\n",
        "words_per_line = 10\n",
        "plaintext = substitution_cipher(ciphertext, mapping)\n",
        "print_result(ciphertext, words_per_line)\n",
        "print_result(plaintext, words_per_line)"
      ],
      "metadata": {
        "colab": {
          "base_uri": "https://localhost:8080/"
        },
        "id": "-HJ8CE3fL9YU",
        "outputId": "c6bc5fe3-d305-41f2-db78-815ef767a11a"
      },
      "execution_count": null,
      "outputs": [
        {
          "output_type": "stream",
          "name": "stdout",
          "text": [
            "AUHC MVKFC V BYZUGC V IZMC CJ GUMBZYAZD UKUVM. VC \n",
            "\n",
            "HZZGZB CJ GZ, V HCJJB PD CFZ VYJM KUCZ AZUBVMK \n",
            "\n",
            "CJ CFZ BYVWZ UMB OJY U IFVAZ, V TJNAB MJC \n",
            "\n",
            "ZMCZY. OJY CFZ IUD, VC IUH PUYYZB CJ GZ.\n",
            "\n",
            "\n",
            "***S *A**S A *****S A ***S SO ********* ***A*. AS \n",
            "\n",
            "****** SO **, A *SOO* ** S** A*O* **S* ****A** \n",
            "\n",
            "SO S** **A** *** *O* * **A**, A *O*** *OS \n",
            "\n",
            "**S**. *O* S** ***, AS *** ****** SO **.\n",
            "\n",
            "\n"
          ]
        }
      ]
    },
    {
      "cell_type": "code",
      "source": [
        "# we are not finding any patterns\n",
        "# let's cheack frequencies again\n",
        "\n",
        "calc_frequency(ciphertext)"
      ],
      "metadata": {
        "colab": {
          "base_uri": "https://localhost:8080/"
        },
        "id": "dAbndQpnMVhk",
        "outputId": "375015d5-e256-4003-f7a0-00258fcebe98"
      },
      "execution_count": null,
      "outputs": [
        {
          "output_type": "stream",
          "name": "stdout",
          "text": [
            "Character:  , Frequency: 38\n",
            "Character: Z, Frequency: 19\n",
            "Character: C, Frequency: 17\n",
            "Character: U, Frequency: 12\n",
            "Character: V, Frequency: 12\n",
            "Character: J, Frequency: 11\n",
            "Character: M, Frequency: 9\n",
            "Character: B, Frequency: 9\n",
            "Character: Y, Frequency: 9\n",
            "Character: A, Frequency: 5\n",
            "Character: F, Frequency: 5\n",
            "Character: G, Frequency: 5\n",
            "Character: H, Frequency: 4\n",
            "Character: K, Frequency: 4\n",
            "Character: I, Frequency: 4\n",
            "Character: D, Frequency: 3\n",
            "Character: ., Frequency: 3\n",
            "Character: ,, Frequency: 3\n",
            "Character: P, Frequency: 2\n",
            "Character: O, Frequency: 2\n",
            "Character: W, Frequency: 1\n",
            "Character: T, Frequency: 1\n",
            "Character: N, Frequency: 1\n"
          ]
        }
      ]
    },
    {
      "cell_type": "code",
      "source": [
        "# frequency of 'Z' is 19\n",
        "# frequency of 'C' is 17\n",
        "# we know E and T are most frequently used characters. so let's try them\n",
        "# map Z=E and C=T\n",
        "\n",
        "mapping = {'V':'A', 'C':'T', 'J':'O', 'Z':'E'}\n",
        "words_per_line = 10\n",
        "plaintext = substitution_cipher(ciphertext, mapping)\n",
        "print_result(ciphertext, words_per_line)\n",
        "print_result(plaintext, words_per_line)"
      ],
      "metadata": {
        "colab": {
          "base_uri": "https://localhost:8080/"
        },
        "id": "VFGwuQz1MpLf",
        "outputId": "8c5f448f-38ae-4a32-e55b-1ae7818c1d25"
      },
      "execution_count": null,
      "outputs": [
        {
          "output_type": "stream",
          "name": "stdout",
          "text": [
            "AUHC MVKFC V BYZUGC V IZMC CJ GUMBZYAZD UKUVM. VC \n",
            "\n",
            "HZZGZB CJ GZ, V HCJJB PD CFZ VYJM KUCZ AZUBVMK \n",
            "\n",
            "CJ CFZ BYVWZ UMB OJY U IFVAZ, V TJNAB MJC \n",
            "\n",
            "ZMCZY. OJY CFZ IUD, VC IUH PUYYZB CJ GZ.\n",
            "\n",
            "\n",
            "***T *A**T A **E**T A *E*T TO ****E**E* ***A*. AT \n",
            "\n",
            "*EE*E* TO *E, A *TOO* ** T*E A*O* **TE *E**A** \n",
            "\n",
            "TO T*E **A*E *** *O* * **A*E, A *O*** *OT \n",
            "\n",
            "E*TE*. *O* T*E ***, AT *** ****E* TO *E.\n",
            "\n",
            "\n"
          ]
        }
      ]
    },
    {
      "cell_type": "code",
      "source": [
        "# line 3, word 2, the word is \"T*E\"\n",
        "# we know \"THE\" is one of the most frequently used three letter word\n",
        "# map F=H\n",
        "\n",
        "mapping = {'V':'A', 'C':'T', 'J':'O', 'Z':'E', 'F':'H'}\n",
        "words_per_line = 10\n",
        "plaintext = substitution_cipher(ciphertext, mapping)\n",
        "print_result(ciphertext, words_per_line)\n",
        "print_result(plaintext, words_per_line)"
      ],
      "metadata": {
        "colab": {
          "base_uri": "https://localhost:8080/"
        },
        "id": "I_M9LBUQNHcF",
        "outputId": "5cd45c5b-b6c8-40d4-f758-141ae78743ef"
      },
      "execution_count": null,
      "outputs": [
        {
          "output_type": "stream",
          "name": "stdout",
          "text": [
            "AUHC MVKFC V BYZUGC V IZMC CJ GUMBZYAZD UKUVM. VC \n",
            "\n",
            "HZZGZB CJ GZ, V HCJJB PD CFZ VYJM KUCZ AZUBVMK \n",
            "\n",
            "CJ CFZ BYVWZ UMB OJY U IFVAZ, V TJNAB MJC \n",
            "\n",
            "ZMCZY. OJY CFZ IUD, VC IUH PUYYZB CJ GZ.\n",
            "\n",
            "\n",
            "***T *A*HT A **E**T A *E*T TO ****E**E* ***A*. AT \n",
            "\n",
            "*EE*E* TO *E, A *TOO* ** THE A*O* **TE *E**A** \n",
            "\n",
            "TO THE **A*E *** *O* * *HA*E, A *O*** *OT \n",
            "\n",
            "E*TE*. *O* THE ***, AT *** ****E* TO *E.\n",
            "\n",
            "\n"
          ]
        }
      ]
    },
    {
      "cell_type": "code",
      "source": [
        "# line 2, word 3, the word is \"*E\"\n",
        "# we know \"BE\" is one of the most frequently used two letter words that ends with \"E\"\n",
        "# map G=B\n",
        "\n",
        "mapping = {'V':'A', 'C':'T', 'J':'O', 'Z':'E', 'F':'H', 'G':'B'}\n",
        "words_per_line = 10\n",
        "plaintext = substitution_cipher(ciphertext, mapping)\n",
        "print_result(ciphertext, words_per_line)\n",
        "print_result(plaintext, words_per_line)"
      ],
      "metadata": {
        "colab": {
          "base_uri": "https://localhost:8080/"
        },
        "id": "2oiFTgTYNqOU",
        "outputId": "4b3adc77-9c6a-44c9-ee12-bc1ed04b7037"
      },
      "execution_count": null,
      "outputs": [
        {
          "output_type": "stream",
          "name": "stdout",
          "text": [
            "AUHC MVKFC V BYZUGC V IZMC CJ GUMBZYAZD UKUVM. VC \n",
            "\n",
            "HZZGZB CJ GZ, V HCJJB PD CFZ VYJM KUCZ AZUBVMK \n",
            "\n",
            "CJ CFZ BYVWZ UMB OJY U IFVAZ, V TJNAB MJC \n",
            "\n",
            "ZMCZY. OJY CFZ IUD, VC IUH PUYYZB CJ GZ.\n",
            "\n",
            "\n",
            "***T *A*HT A **E*BT A *E*T TO B***E**E* ***A*. AT \n",
            "\n",
            "*EEBE* TO BE, A *TOO* ** THE A*O* **TE *E**A** \n",
            "\n",
            "TO THE **A*E *** *O* * *HA*E, A *O*** *OT \n",
            "\n",
            "E*TE*. *O* THE ***, AT *** ****E* TO BE.\n",
            "\n",
            "\n"
          ]
        }
      ]
    },
    {
      "cell_type": "code",
      "source": [
        "# line 3, word 10, the word is \"*OT\"\n",
        "# we know \"NOT\" is one of the most frequently used three letter words that ends with \"OT\"\n",
        "# map M=N\n",
        "\n",
        "mapping = {'V':'A', 'C':'T', 'J':'O', 'Z':'E', 'F':'H', 'G':'B', 'M':'N'}\n",
        "words_per_line = 10\n",
        "plaintext = substitution_cipher(ciphertext, mapping)\n",
        "print_result(ciphertext, words_per_line)\n",
        "print_result(plaintext, words_per_line)"
      ],
      "metadata": {
        "colab": {
          "base_uri": "https://localhost:8080/"
        },
        "id": "ETYse8N-N-OK",
        "outputId": "738bc06f-73d6-4f62-fa29-19020c0a1d56"
      },
      "execution_count": null,
      "outputs": [
        {
          "output_type": "stream",
          "name": "stdout",
          "text": [
            "AUHC MVKFC V BYZUGC V IZMC CJ GUMBZYAZD UKUVM. VC \n",
            "\n",
            "HZZGZB CJ GZ, V HCJJB PD CFZ VYJM KUCZ AZUBVMK \n",
            "\n",
            "CJ CFZ BYVWZ UMB OJY U IFVAZ, V TJNAB MJC \n",
            "\n",
            "ZMCZY. OJY CFZ IUD, VC IUH PUYYZB CJ GZ.\n",
            "\n",
            "\n",
            "***T NA*HT A **E*BT A *ENT TO B*N*E**E* ***AN. AT \n",
            "\n",
            "*EEBE* TO BE, A *TOO* ** THE A*ON **TE *E**AN* \n",
            "\n",
            "TO THE **A*E *N* *O* * *HA*E, A *O*** NOT \n",
            "\n",
            "ENTE*. *O* THE ***, AT *** ****E* TO BE.\n",
            "\n",
            "\n"
          ]
        }
      ]
    },
    {
      "cell_type": "code",
      "source": [
        "# line 4, word 1, the word is \"ENTE*\"\n",
        "# let's consider this as \"ENTER\"\n",
        "# map Y=R\n",
        "\n",
        "mapping = {'V':'A', 'C':'T', 'J':'O', 'Z':'E', 'F':'H', 'G':'B', 'M':'N', 'Y':'R'}\n",
        "words_per_line = 10\n",
        "plaintext = substitution_cipher(ciphertext, mapping)\n",
        "print_result(ciphertext, words_per_line)\n",
        "print_result(plaintext, words_per_line)"
      ],
      "metadata": {
        "colab": {
          "base_uri": "https://localhost:8080/"
        },
        "id": "dP2K9T4FSl1y",
        "outputId": "d85eb8ba-69cb-4cde-ceea-e23244482a28"
      },
      "execution_count": null,
      "outputs": [
        {
          "output_type": "stream",
          "name": "stdout",
          "text": [
            "AUHC MVKFC V BYZUGC V IZMC CJ GUMBZYAZD UKUVM. VC \n",
            "\n",
            "HZZGZB CJ GZ, V HCJJB PD CFZ VYJM KUCZ AZUBVMK \n",
            "\n",
            "CJ CFZ BYVWZ UMB OJY U IFVAZ, V TJNAB MJC \n",
            "\n",
            "ZMCZY. OJY CFZ IUD, VC IUH PUYYZB CJ GZ.\n",
            "\n",
            "\n",
            "***T NA*HT A *RE*BT A *ENT TO B*N*ER*E* ***AN. AT \n",
            "\n",
            "*EEBE* TO BE, A *TOO* ** THE ARON **TE *E**AN* \n",
            "\n",
            "TO THE *RA*E *N* *OR * *HA*E, A *O*** NOT \n",
            "\n",
            "ENTER. *OR THE ***, AT *** **RRE* TO BE.\n",
            "\n",
            "\n"
          ]
        }
      ]
    },
    {
      "cell_type": "code",
      "source": [
        "# line 4, word 2, the word is \"*OR\"\n",
        "# we know \"FOR\" is one of the most frequently used three letter word that ends with \"OR\"\n",
        "# map O=F\n",
        "\n",
        "mapping = {'V':'A', 'C':'T', 'J':'O', 'Z':'E', 'F':'H', 'G':'B', 'M':'N', 'Y':'R', 'O':'F'}\n",
        "words_per_line = 10\n",
        "plaintext = substitution_cipher(ciphertext, mapping)\n",
        "print_result(ciphertext, words_per_line)\n",
        "print_result(plaintext, words_per_line)"
      ],
      "metadata": {
        "colab": {
          "base_uri": "https://localhost:8080/"
        },
        "id": "FdTlndVSTf-6",
        "outputId": "ea842911-5ffd-48c0-8e09-739ad2850e52"
      },
      "execution_count": null,
      "outputs": [
        {
          "output_type": "stream",
          "name": "stdout",
          "text": [
            "AUHC MVKFC V BYZUGC V IZMC CJ GUMBZYAZD UKUVM. VC \n",
            "\n",
            "HZZGZB CJ GZ, V HCJJB PD CFZ VYJM KUCZ AZUBVMK \n",
            "\n",
            "CJ CFZ BYVWZ UMB OJY U IFVAZ, V TJNAB MJC \n",
            "\n",
            "ZMCZY. OJY CFZ IUD, VC IUH PUYYZB CJ GZ.\n",
            "\n",
            "\n",
            "***T NA*HT A *RE*BT A *ENT TO B*N*ER*E* ***AN. AT \n",
            "\n",
            "*EEBE* TO BE, A *TOO* ** THE ARON **TE *E**AN* \n",
            "\n",
            "TO THE *RA*E *N* FOR * *HA*E, A *O*** NOT \n",
            "\n",
            "ENTER. FOR THE ***, AT *** **RRE* TO BE.\n",
            "\n",
            "\n"
          ]
        }
      ]
    },
    {
      "cell_type": "code",
      "source": [
        "# line 1, word 2, the word is \"NA*HT\"\n",
        "# this word is not making any sense\n",
        "# but it looks similar to the word \"NIGHT\"\n",
        "# we need to change our map V=A to V=I.\n",
        "# also need to add another map K=G\n",
        "# map V=I, K=G\n",
        "\n",
        "\n",
        "mapping = {'V':'I', 'C':'T', 'J':'O', 'Z':'E', 'F':'H', 'G':'B', 'M':'N', 'Y':'R', 'O':'F', 'K':'G'}\n",
        "words_per_line = 10\n",
        "plaintext = substitution_cipher(ciphertext, mapping)\n",
        "print_result(ciphertext, words_per_line)\n",
        "print_result(plaintext, words_per_line)"
      ],
      "metadata": {
        "colab": {
          "base_uri": "https://localhost:8080/"
        },
        "id": "RV5pkuOoUBRK",
        "outputId": "38f6a881-a16b-469c-ec7a-15b9474221e0"
      },
      "execution_count": null,
      "outputs": [
        {
          "output_type": "stream",
          "name": "stdout",
          "text": [
            "AUHC MVKFC V BYZUGC V IZMC CJ GUMBZYAZD UKUVM. VC \n",
            "\n",
            "HZZGZB CJ GZ, V HCJJB PD CFZ VYJM KUCZ AZUBVMK \n",
            "\n",
            "CJ CFZ BYVWZ UMB OJY U IFVAZ, V TJNAB MJC \n",
            "\n",
            "ZMCZY. OJY CFZ IUD, VC IUH PUYYZB CJ GZ.\n",
            "\n",
            "\n",
            "***T NIGHT I *RE*BT I *ENT TO B*N*ER*E* *G*IN. IT \n",
            "\n",
            "*EEBE* TO BE, I *TOO* ** THE IRON G*TE *E**ING \n",
            "\n",
            "TO THE *RI*E *N* FOR * *HI*E, I *O*** NOT \n",
            "\n",
            "ENTER. FOR THE ***, IT *** **RRE* TO BE.\n",
            "\n",
            "\n"
          ]
        }
      ]
    },
    {
      "cell_type": "code",
      "source": [
        "# line 1, word 9, the word is \"*G*IN\"\n",
        "# this word is similar to \"AGAIN\"\n",
        "# map U=A\n",
        "\n",
        "\n",
        "mapping = {'V':'I', 'C':'T', 'J':'O', 'Z':'E', 'F':'H', 'G':'B', 'M':'N', 'Y':'R', 'O':'F', 'K':'G', 'U':'A'}\n",
        "words_per_line = 10\n",
        "plaintext = substitution_cipher(ciphertext, mapping)\n",
        "print_result(ciphertext, words_per_line)\n",
        "print_result(plaintext, words_per_line)"
      ],
      "metadata": {
        "colab": {
          "base_uri": "https://localhost:8080/"
        },
        "id": "I78yiZbSU67S",
        "outputId": "9d6ca77d-3ff9-4f73-8ca0-ee26500e7ad5"
      },
      "execution_count": null,
      "outputs": [
        {
          "output_type": "stream",
          "name": "stdout",
          "text": [
            "AUHC MVKFC V BYZUGC V IZMC CJ GUMBZYAZD UKUVM. VC \n",
            "\n",
            "HZZGZB CJ GZ, V HCJJB PD CFZ VYJM KUCZ AZUBVMK \n",
            "\n",
            "CJ CFZ BYVWZ UMB OJY U IFVAZ, V TJNAB MJC \n",
            "\n",
            "ZMCZY. OJY CFZ IUD, VC IUH PUYYZB CJ GZ.\n",
            "\n",
            "\n",
            "*A*T NIGHT I *REABT I *ENT TO BAN*ER*E* AGAIN. IT \n",
            "\n",
            "*EEBE* TO BE, I *TOO* ** THE IRON GATE *EA*ING \n",
            "\n",
            "TO THE *RI*E AN* FOR A *HI*E, I *O*** NOT \n",
            "\n",
            "ENTER. FOR THE *A*, IT *A* *ARRE* TO BE.\n",
            "\n",
            "\n"
          ]
        }
      ]
    },
    {
      "cell_type": "code",
      "source": [
        "# line 3, word 4, the word is \"AN*\"\n",
        "# we know \"AND\" is one of the most frequently used three letter word that starts with \"AN\"\n",
        "# map B=D\n",
        "\n",
        "\n",
        "mapping = {'V':'I', 'C':'T', 'J':'O', 'Z':'E', 'F':'H', 'G':'B', 'M':'N', 'Y':'R', 'O':'F',\n",
        "           'K':'G', 'U':'A', 'B':'D'}\n",
        "words_per_line = 10\n",
        "plaintext = substitution_cipher(ciphertext, mapping)\n",
        "print_result(ciphertext, words_per_line)\n",
        "print_result(plaintext, words_per_line)"
      ],
      "metadata": {
        "colab": {
          "base_uri": "https://localhost:8080/"
        },
        "id": "rE-JLmP1Vl3e",
        "outputId": "53f25213-e2b9-42c5-bb10-adf90cb85707"
      },
      "execution_count": null,
      "outputs": [
        {
          "output_type": "stream",
          "name": "stdout",
          "text": [
            "AUHC MVKFC V BYZUGC V IZMC CJ GUMBZYAZD UKUVM. VC \n",
            "\n",
            "HZZGZB CJ GZ, V HCJJB PD CFZ VYJM KUCZ AZUBVMK \n",
            "\n",
            "CJ CFZ BYVWZ UMB OJY U IFVAZ, V TJNAB MJC \n",
            "\n",
            "ZMCZY. OJY CFZ IUD, VC IUH PUYYZB CJ GZ.\n",
            "\n",
            "\n",
            "*A*T NIGHT I DREABT I *ENT TO BANDER*E* AGAIN. IT \n",
            "\n",
            "*EEBED TO BE, I *TOOD ** THE IRON GATE *EADING \n",
            "\n",
            "TO THE DRI*E AND FOR A *HI*E, I *O**D NOT \n",
            "\n",
            "ENTER. FOR THE *A*, IT *A* *ARRED TO BE.\n",
            "\n",
            "\n"
          ]
        }
      ]
    },
    {
      "cell_type": "code",
      "source": [
        "# line 1, word 4, the word is \"DREABT\"\n",
        "# this word is not making any sense. But the word \"DREAMT\" is making sense\n",
        "# so we need to change our map again\n",
        "# map G=B to G=M\n",
        "\n",
        "\n",
        "mapping = {'V':'I', 'C':'T', 'J':'O', 'Z':'E', 'F':'H', 'G':'M', 'M':'N', 'Y':'R', 'O':'F',\n",
        "           'K':'G', 'U':'A', 'B':'D'}\n",
        "words_per_line = 10\n",
        "plaintext = substitution_cipher(ciphertext, mapping)\n",
        "print_result(ciphertext, words_per_line)\n",
        "print_result(plaintext, words_per_line)"
      ],
      "metadata": {
        "colab": {
          "base_uri": "https://localhost:8080/"
        },
        "id": "hyswxOqAWCca",
        "outputId": "d756718c-b5b2-431e-9f52-dff849a37054"
      },
      "execution_count": null,
      "outputs": [
        {
          "output_type": "stream",
          "name": "stdout",
          "text": [
            "AUHC MVKFC V BYZUGC V IZMC CJ GUMBZYAZD UKUVM. VC \n",
            "\n",
            "HZZGZB CJ GZ, V HCJJB PD CFZ VYJM KUCZ AZUBVMK \n",
            "\n",
            "CJ CFZ BYVWZ UMB OJY U IFVAZ, V TJNAB MJC \n",
            "\n",
            "ZMCZY. OJY CFZ IUD, VC IUH PUYYZB CJ GZ.\n",
            "\n",
            "\n",
            "*A*T NIGHT I DREAMT I *ENT TO MANDER*E* AGAIN. IT \n",
            "\n",
            "*EEMED TO ME, I *TOOD ** THE IRON GATE *EADING \n",
            "\n",
            "TO THE DRI*E AND FOR A *HI*E, I *O**D NOT \n",
            "\n",
            "ENTER. FOR THE *A*, IT *A* *ARRED TO ME.\n",
            "\n",
            "\n"
          ]
        }
      ]
    },
    {
      "cell_type": "code",
      "source": [
        "# line 1, word 1, the word is \"*A*T\"\n",
        "# in the same sentence, we use \"DREAMT\" which is in past tense\n",
        "# so let's consider \"*A*T\" as \"LAST\"\n",
        "# map A=L, H=S\n",
        "\n",
        "\n",
        "mapping = {'V':'I', 'C':'T', 'J':'O', 'Z':'E', 'F':'H', 'G':'M', 'M':'N', 'Y':'R', 'O':'F',\n",
        "           'K':'G', 'U':'A', 'B':'D', 'A':'L', 'H':'S'}\n",
        "words_per_line = 10\n",
        "plaintext = substitution_cipher(ciphertext, mapping)\n",
        "print_result(ciphertext, words_per_line)\n",
        "print_result(plaintext, words_per_line)"
      ],
      "metadata": {
        "colab": {
          "base_uri": "https://localhost:8080/"
        },
        "id": "3HTauvGvWqRW",
        "outputId": "043a0bae-7be1-45e6-80db-ef5794c4e7d6"
      },
      "execution_count": null,
      "outputs": [
        {
          "output_type": "stream",
          "name": "stdout",
          "text": [
            "AUHC MVKFC V BYZUGC V IZMC CJ GUMBZYAZD UKUVM. VC \n",
            "\n",
            "HZZGZB CJ GZ, V HCJJB PD CFZ VYJM KUCZ AZUBVMK \n",
            "\n",
            "CJ CFZ BYVWZ UMB OJY U IFVAZ, V TJNAB MJC \n",
            "\n",
            "ZMCZY. OJY CFZ IUD, VC IUH PUYYZB CJ GZ.\n",
            "\n",
            "\n",
            "LAST NIGHT I DREAMT I *ENT TO MANDERLE* AGAIN. IT \n",
            "\n",
            "SEEMED TO ME, I STOOD ** THE IRON GATE LEADING \n",
            "\n",
            "TO THE DRI*E AND FOR A *HILE, I *O*LD NOT \n",
            "\n",
            "ENTER. FOR THE *A*, IT *AS *ARRED TO ME.\n",
            "\n",
            "\n"
          ]
        }
      ]
    },
    {
      "cell_type": "code",
      "source": [
        "# line 1, word 6, the word is \"*ENT\"\n",
        "# in the same sentence, we use \"DREAMT\" which is in past tense\n",
        "# so try to consider \"*ENT\" as \"WENT\"\n",
        "# map I=W\n",
        "\n",
        "\n",
        "mapping = {'V':'I', 'C':'T', 'J':'O', 'Z':'E', 'F':'H', 'G':'M', 'M':'N', 'Y':'R', 'O':'F',\n",
        "           'K':'G', 'U':'A', 'B':'D', 'A':'L', 'H':'S', 'I':'W'}\n",
        "words_per_line = 10\n",
        "plaintext = substitution_cipher(ciphertext, mapping)\n",
        "print_result(ciphertext, words_per_line)\n",
        "print_result(plaintext, words_per_line)"
      ],
      "metadata": {
        "colab": {
          "base_uri": "https://localhost:8080/"
        },
        "id": "C6LRqdP3XQI6",
        "outputId": "3cade83d-066e-4cc5-bee7-d73ab875f363"
      },
      "execution_count": null,
      "outputs": [
        {
          "output_type": "stream",
          "name": "stdout",
          "text": [
            "AUHC MVKFC V BYZUGC V IZMC CJ GUMBZYAZD UKUVM. VC \n",
            "\n",
            "HZZGZB CJ GZ, V HCJJB PD CFZ VYJM KUCZ AZUBVMK \n",
            "\n",
            "CJ CFZ BYVWZ UMB OJY U IFVAZ, V TJNAB MJC \n",
            "\n",
            "ZMCZY. OJY CFZ IUD, VC IUH PUYYZB CJ GZ.\n",
            "\n",
            "\n",
            "LAST NIGHT I DREAMT I WENT TO MANDERLE* AGAIN. IT \n",
            "\n",
            "SEEMED TO ME, I STOOD ** THE IRON GATE LEADING \n",
            "\n",
            "TO THE DRI*E AND FOR A WHILE, I *O*LD NOT \n",
            "\n",
            "ENTER. FOR THE WA*, IT WAS *ARRED TO ME.\n",
            "\n",
            "\n"
          ]
        }
      ]
    },
    {
      "cell_type": "code",
      "source": [
        "# line 1, word 8, the word is \"MANDERLE*\"\n",
        "# by making some try and error, google told me that \"MANDERLEY\" is a fictional estate\n",
        "# other combinations were not making any sense.\n",
        "# map D=Y\n",
        "\n",
        "\n",
        "mapping = {'V':'I', 'C':'T', 'J':'O', 'Z':'E', 'F':'H', 'G':'M', 'M':'N', 'Y':'R', 'O':'F',\n",
        "           'K':'G', 'U':'A', 'B':'D', 'A':'L', 'H':'S', 'I':'W', 'D':'Y'}\n",
        "words_per_line = 10\n",
        "plaintext = substitution_cipher(ciphertext, mapping)\n",
        "print_result(ciphertext, words_per_line)\n",
        "print_result(plaintext, words_per_line)"
      ],
      "metadata": {
        "colab": {
          "base_uri": "https://localhost:8080/"
        },
        "id": "iQ85T9pbYI6c",
        "outputId": "85e5fdce-baaf-434c-ea16-91aaa9d434cf"
      },
      "execution_count": null,
      "outputs": [
        {
          "output_type": "stream",
          "name": "stdout",
          "text": [
            "AUHC MVKFC V BYZUGC V IZMC CJ GUMBZYAZD UKUVM. VC \n",
            "\n",
            "HZZGZB CJ GZ, V HCJJB PD CFZ VYJM KUCZ AZUBVMK \n",
            "\n",
            "CJ CFZ BYVWZ UMB OJY U IFVAZ, V TJNAB MJC \n",
            "\n",
            "ZMCZY. OJY CFZ IUD, VC IUH PUYYZB CJ GZ.\n",
            "\n",
            "\n",
            "LAST NIGHT I DREAMT I WENT TO MANDERLEY AGAIN. IT \n",
            "\n",
            "SEEMED TO ME, I STOOD *Y THE IRON GATE LEADING \n",
            "\n",
            "TO THE DRI*E AND FOR A WHILE, I *O*LD NOT \n",
            "\n",
            "ENTER. FOR THE WAY, IT WAS *ARRED TO ME.\n",
            "\n",
            "\n"
          ]
        }
      ]
    },
    {
      "cell_type": "code",
      "source": [
        "# line 2, word 6, the word is \"*Y\"\n",
        "# some two letter word similar to that is MY,BY, etc\n",
        "# we already mapped M\n",
        "# so let's map B\n",
        "# map P=B\n",
        "\n",
        "\n",
        "mapping = {'V':'I', 'C':'T', 'J':'O', 'Z':'E', 'F':'H', 'G':'M', 'M':'N', 'Y':'R', 'O':'F',\n",
        "           'K':'G', 'U':'A', 'B':'D', 'A':'L', 'H':'S', 'I':'W', 'D':'Y', 'P':'B'}\n",
        "words_per_line = 10\n",
        "plaintext = substitution_cipher(ciphertext, mapping)\n",
        "print_result(ciphertext, words_per_line)\n",
        "print_result(plaintext, words_per_line)"
      ],
      "metadata": {
        "colab": {
          "base_uri": "https://localhost:8080/"
        },
        "id": "uST1wvbnZBlb",
        "outputId": "737bdb4e-b1c7-4132-eefe-6fc09ca2a74e"
      },
      "execution_count": null,
      "outputs": [
        {
          "output_type": "stream",
          "name": "stdout",
          "text": [
            "AUHC MVKFC V BYZUGC V IZMC CJ GUMBZYAZD UKUVM. VC \n",
            "\n",
            "HZZGZB CJ GZ, V HCJJB PD CFZ VYJM KUCZ AZUBVMK \n",
            "\n",
            "CJ CFZ BYVWZ UMB OJY U IFVAZ, V TJNAB MJC \n",
            "\n",
            "ZMCZY. OJY CFZ IUD, VC IUH PUYYZB CJ GZ.\n",
            "\n",
            "\n",
            "LAST NIGHT I DREAMT I WENT TO MANDERLEY AGAIN. IT \n",
            "\n",
            "SEEMED TO ME, I STOOD BY THE IRON GATE LEADING \n",
            "\n",
            "TO THE DRI*E AND FOR A WHILE, I *O*LD NOT \n",
            "\n",
            "ENTER. FOR THE WAY, IT WAS BARRED TO ME.\n",
            "\n",
            "\n"
          ]
        }
      ]
    },
    {
      "cell_type": "code",
      "source": [
        "# line 3, word 9, the word is \"*O*LD\"\n",
        "# it is similar to words like \"could, should\"\n",
        "# we already mapped 'S', so only could is preferable here\n",
        "# map T=C and N=U\n",
        "\n",
        "\n",
        "mapping = {'V':'I', 'C':'T', 'J':'O', 'Z':'E', 'F':'H', 'G':'M', 'M':'N', 'Y':'R', 'O':'F', 'K':'G', 'U':'A',\n",
        "           'B':'D', 'A':'L', 'H':'S', 'I':'W', 'D':'Y', 'P':'B', 'T':'C', 'N':'U'}\n",
        "words_per_line = 10\n",
        "plaintext = substitution_cipher(ciphertext, mapping)\n",
        "print_result(ciphertext, words_per_line)\n",
        "print_result(plaintext, words_per_line)"
      ],
      "metadata": {
        "colab": {
          "base_uri": "https://localhost:8080/"
        },
        "id": "9BM54aS4Z6SB",
        "outputId": "8caa60c2-7e2c-4a28-e0bd-b5584b119cd5"
      },
      "execution_count": null,
      "outputs": [
        {
          "output_type": "stream",
          "name": "stdout",
          "text": [
            "AUHC MVKFC V BYZUGC V IZMC CJ GUMBZYAZD UKUVM. VC \n",
            "\n",
            "HZZGZB CJ GZ, V HCJJB PD CFZ VYJM KUCZ AZUBVMK \n",
            "\n",
            "CJ CFZ BYVWZ UMB OJY U IFVAZ, V TJNAB MJC \n",
            "\n",
            "ZMCZY. OJY CFZ IUD, VC IUH PUYYZB CJ GZ.\n",
            "\n",
            "\n",
            "LAST NIGHT I DREAMT I WENT TO MANDERLEY AGAIN. IT \n",
            "\n",
            "SEEMED TO ME, I STOOD BY THE IRON GATE LEADING \n",
            "\n",
            "TO THE DRI*E AND FOR A WHILE, I COULD NOT \n",
            "\n",
            "ENTER. FOR THE WAY, IT WAS BARRED TO ME.\n",
            "\n",
            "\n"
          ]
        }
      ]
    },
    {
      "cell_type": "code",
      "source": [
        "# the only word left is \"DRI*E\"\n",
        "# after analyzing the whole sentence, we can consider \"DRI*E\" as \"DRIVE\"\n",
        "# map W=V\n",
        "\n",
        "\n",
        "mapping = {'V':'I', 'C':'T', 'J':'O', 'Z':'E', 'F':'H', 'G':'M', 'M':'N', 'Y':'R', 'O':'F', 'K':'G',\n",
        "           'U':'A', 'B':'D', 'A':'L', 'H':'S', 'I':'W', 'D':'Y', 'P':'B', 'T':'C', 'N':'U', 'W':'V'}\n",
        "words_per_line = 10\n",
        "plaintext = substitution_cipher(ciphertext, mapping)\n",
        "print_result(ciphertext, words_per_line)\n",
        "print_result(plaintext, words_per_line)"
      ],
      "metadata": {
        "colab": {
          "base_uri": "https://localhost:8080/"
        },
        "id": "ijhZMgLbaz88",
        "outputId": "8f6819ef-c6d0-45fb-f165-d1cdc892b4ef"
      },
      "execution_count": null,
      "outputs": [
        {
          "output_type": "stream",
          "name": "stdout",
          "text": [
            "AUHC MVKFC V BYZUGC V IZMC CJ GUMBZYAZD UKUVM. VC \n",
            "\n",
            "HZZGZB CJ GZ, V HCJJB PD CFZ VYJM KUCZ AZUBVMK \n",
            "\n",
            "CJ CFZ BYVWZ UMB OJY U IFVAZ, V TJNAB MJC \n",
            "\n",
            "ZMCZY. OJY CFZ IUD, VC IUH PUYYZB CJ GZ.\n",
            "\n",
            "\n",
            "LAST NIGHT I DREAMT I WENT TO MANDERLEY AGAIN. IT \n",
            "\n",
            "SEEMED TO ME, I STOOD BY THE IRON GATE LEADING \n",
            "\n",
            "TO THE DRIVE AND FOR A WHILE, I COULD NOT \n",
            "\n",
            "ENTER. FOR THE WAY, IT WAS BARRED TO ME.\n",
            "\n",
            "\n"
          ]
        }
      ]
    },
    {
      "cell_type": "code",
      "source": [
        "# desired mapping\n",
        "\n",
        "desired_mapping(mapping)"
      ],
      "metadata": {
        "colab": {
          "base_uri": "https://localhost:8080/"
        },
        "id": "e8VqXp0dbWuC",
        "outputId": "017d080a-4502-4778-a751-3cd538c08319"
      },
      "execution_count": null,
      "outputs": [
        {
          "output_type": "stream",
          "name": "stdout",
          "text": [
            "Desired Mappings : \n",
            "V:I\n",
            "C:T\n",
            "J:O\n",
            "Z:E\n",
            "F:H\n",
            "G:M\n",
            "M:N\n",
            "Y:R\n",
            "O:F\n",
            "K:G\n",
            "U:A\n",
            "B:D\n",
            "A:L\n",
            "H:S\n",
            "I:W\n",
            "D:Y\n",
            "P:B\n",
            "T:C\n",
            "N:U\n",
            "W:V\n"
          ]
        }
      ]
    },
    {
      "cell_type": "markdown",
      "source": [
        "<ins>**Plaintext of Task-02(C) is :**</ins><br>\n",
        "<p>LAST NIGHT I DREAMT I WENT TO MANDERLEY AGAIN. IT SEEMED TO ME, I STOOD BY THE IRON GATE LEADING TO THE DRIVE AND FOR A WHILE, I COULD NOT ENTER. FOR THE WAY, IT WAS BARRED TO ME.</p>"
      ],
      "metadata": {
        "id": "uUGCMecJbihQ"
      }
    },
    {
      "cell_type": "markdown",
      "source": [
        "# <ins>Task - 02(D)</ins>"
      ],
      "metadata": {
        "id": "--ijcIXHwg18"
      }
    },
    {
      "cell_type": "code",
      "source": [
        "ciphertext = \"JGRMQOYGHMVBJ WRWQFPW HGF FDQGFPFZR KBEEBJIZQ QO CIBZK. \\\n",
        "LFAFGQVFZFWW, EOG WOPF GFHWOL PHLR LOLFDMFGQW BLWBWQ OL \\\n",
        "KFWBYLBLY LFS FLJGRMQBOL WJVFPFW QVHQ WFFP QO QVFP QO CF \\\n",
        "POGF WFJIGF QVHL HLR OQVFG WJVFPF OL FHGQV. QVF ILEOGQILHQF \\\n",
        "QGIQV VOSFAFG BW QVHQ WIJV WJVFPFW HGF IWIHZZR QGBABHZ QO \\\n",
        "CGFHX.\"\n",
        "\n",
        "mapping = {}\n",
        "words_per_line = 10\n",
        "plaintext = substitution_cipher(ciphertext, mapping)\n",
        "print_result(ciphertext, words_per_line)\n",
        "print_result(plaintext, words_per_line)"
      ],
      "metadata": {
        "colab": {
          "base_uri": "https://localhost:8080/"
        },
        "id": "Tzhy3T8RwvZT",
        "outputId": "5dc62a84-b960-4d02-cd9b-061d7dce1bf6"
      },
      "execution_count": null,
      "outputs": [
        {
          "output_type": "stream",
          "name": "stdout",
          "text": [
            "JGRMQOYGHMVBJ WRWQFPW HGF FDQGFPFZR KBEEBJIZQ QO CIBZK. LFAFGQVFZFWW, EOG WOPF \n",
            "\n",
            "GFHWOL PHLR LOLFDMFGQW BLWBWQ OL KFWBYLBLY LFS FLJGRMQBOL WJVFPFW QVHQ \n",
            "\n",
            "WFFP QO QVFP QO CF POGF WFJIGF QVHL HLR OQVFG \n",
            "\n",
            "WJVFPF OL FHGQV. QVF ILEOGQILHQF QGIQV VOSFAFG BW QVHQ WIJV \n",
            "\n",
            "WJVFPFW HGF IWIHZZR QGBABHZ QO CGFHX.\n",
            "\n",
            "\n",
            "************* ******* *** ********* ********* ** *****. ************, *** **** \n",
            "\n",
            "****** **** ********** ****** ** ********* *** ********** ******* **** \n",
            "\n",
            "**** ** **** ** ** **** ****** **** *** ***** \n",
            "\n",
            "****** ** *****. *** *********** ***** ******* ** **** **** \n",
            "\n",
            "******* *** ******* ******* ** *****.\n",
            "\n",
            "\n"
          ]
        }
      ]
    },
    {
      "cell_type": "code",
      "source": [
        "# let's cheack frequency of characters in the ciphertext\n",
        "\n",
        "calc_frequency(ciphertext)"
      ],
      "metadata": {
        "colab": {
          "base_uri": "https://localhost:8080/"
        },
        "id": "-rU0Xb_Hw46B",
        "outputId": "39bf28d7-e93b-4540-e5d6-678f8df888e5"
      },
      "execution_count": null,
      "outputs": [
        {
          "output_type": "stream",
          "name": "stdout",
          "text": [
            "Character:  , Frequency: 45\n",
            "Character: F, Frequency: 37\n",
            "Character: Q, Frequency: 26\n",
            "Character: W, Frequency: 21\n",
            "Character: G, Frequency: 19\n",
            "Character: L, Frequency: 17\n",
            "Character: O, Frequency: 16\n",
            "Character: V, Frequency: 15\n",
            "Character: H, Frequency: 14\n",
            "Character: B, Frequency: 12\n",
            "Character: P, Frequency: 10\n",
            "Character: J, Frequency: 9\n",
            "Character: I, Frequency: 9\n",
            "Character: R, Frequency: 7\n",
            "Character: Z, Frequency: 7\n",
            "Character: M, Frequency: 4\n",
            "Character: E, Frequency: 4\n",
            "Character: Y, Frequency: 3\n",
            "Character: K, Frequency: 3\n",
            "Character: C, Frequency: 3\n",
            "Character: ., Frequency: 3\n",
            "Character: A, Frequency: 3\n",
            "Character: D, Frequency: 2\n",
            "Character: S, Frequency: 2\n",
            "Character: ,, Frequency: 1\n",
            "Character: X, Frequency: 1\n"
          ]
        }
      ]
    },
    {
      "cell_type": "code",
      "source": [
        "# from frequency of characters, we can see that\n",
        "# the frequency of 'F' is 37 and\n",
        "# the frequency of character 'Q' is 26\n",
        "# we know that 'E' and 'T' are most frequently used letters\n",
        "# map F=E and Q=T\n",
        "\n",
        "mapping = {'F':'E', 'Q':'T'}\n",
        "words_per_line = 10\n",
        "plaintext = substitution_cipher(ciphertext, mapping)\n",
        "print_result(ciphertext, words_per_line)\n",
        "print_result(plaintext, words_per_line)"
      ],
      "metadata": {
        "colab": {
          "base_uri": "https://localhost:8080/"
        },
        "id": "ehz0TFWGxKMZ",
        "outputId": "bee9d967-7ebe-46da-d7f4-c13c09c62b60"
      },
      "execution_count": null,
      "outputs": [
        {
          "output_type": "stream",
          "name": "stdout",
          "text": [
            "JGRMQOYGHMVBJ WRWQFPW HGF FDQGFPFZR KBEEBJIZQ QO CIBZK. LFAFGQVFZFWW, EOG WOPF \n",
            "\n",
            "GFHWOL PHLR LOLFDMFGQW BLWBWQ OL KFWBYLBLY LFS FLJGRMQBOL WJVFPFW QVHQ \n",
            "\n",
            "WFFP QO QVFP QO CF POGF WFJIGF QVHL HLR OQVFG \n",
            "\n",
            "WJVFPF OL FHGQV. QVF ILEOGQILHQF QGIQV VOSFAFG BW QVHQ WIJV \n",
            "\n",
            "WJVFPFW HGF IWIHZZR QGBABHZ QO CGFHX.\n",
            "\n",
            "\n",
            "****T******** ***TE** **E E*T*E*E** ********T T* *****. *E*E*T*E*E**, *** ***E \n",
            "\n",
            "*E**** **** ***E**E*T* *****T ** *E******* *E* E*****T*** ***E*E* T**T \n",
            "\n",
            "*EE* T* T*E* T* *E ***E *E***E T*** *** *T*E* \n",
            "\n",
            "***E*E ** E**T*. T*E *****T***TE T**T* ***E*E* ** T**T **** \n",
            "\n",
            "***E*E* **E ******* T****** T* **E**.\n",
            "\n",
            "\n"
          ]
        }
      ]
    },
    {
      "cell_type": "code",
      "source": [
        "# line 4, word 4, the word is looks like \"T*E\"\n",
        "# we know \"THE\" is one of the most frequently used three letter word\n",
        "# map V=H\n",
        "\n",
        "mapping = {'F':'E', 'Q':'T', 'V':'H'}\n",
        "words_per_line = 10\n",
        "plaintext = substitution_cipher(ciphertext, mapping)\n",
        "print_result(ciphertext, words_per_line)\n",
        "print_result(plaintext, words_per_line)"
      ],
      "metadata": {
        "colab": {
          "base_uri": "https://localhost:8080/"
        },
        "id": "DVq-Tgr_x26Z",
        "outputId": "1ce4a487-55d4-478a-9180-3be1d58f0d1c"
      },
      "execution_count": null,
      "outputs": [
        {
          "output_type": "stream",
          "name": "stdout",
          "text": [
            "JGRMQOYGHMVBJ WRWQFPW HGF FDQGFPFZR KBEEBJIZQ QO CIBZK. LFAFGQVFZFWW, EOG WOPF \n",
            "\n",
            "GFHWOL PHLR LOLFDMFGQW BLWBWQ OL KFWBYLBLY LFS FLJGRMQBOL WJVFPFW QVHQ \n",
            "\n",
            "WFFP QO QVFP QO CF POGF WFJIGF QVHL HLR OQVFG \n",
            "\n",
            "WJVFPF OL FHGQV. QVF ILEOGQILHQF QGIQV VOSFAFG BW QVHQ WIJV \n",
            "\n",
            "WJVFPFW HGF IWIHZZR QGBABHZ QO CGFHX.\n",
            "\n",
            "\n",
            "****T*****H** ***TE** **E E*T*E*E** ********T T* *****. *E*E*THE*E**, *** ***E \n",
            "\n",
            "*E**** **** ***E**E*T* *****T ** *E******* *E* E*****T*** **HE*E* TH*T \n",
            "\n",
            "*EE* T* THE* T* *E ***E *E***E TH** *** *THE* \n",
            "\n",
            "**HE*E ** E**TH. THE *****T***TE T**TH H**E*E* ** TH*T ***H \n",
            "\n",
            "**HE*E* **E ******* T****** T* **E**.\n",
            "\n",
            "\n"
          ]
        }
      ]
    },
    {
      "cell_type": "code",
      "source": [
        "# we are seeing a lot of \"T*\" words\n",
        "# we know \"TO\" is one of the most frequently used two letter word\n",
        "# map O=O\n",
        "\n",
        "mapping = {'F':'E', 'Q':'T', 'V':'H', 'O':'O'}\n",
        "words_per_line = 10\n",
        "plaintext = substitution_cipher(ciphertext, mapping)\n",
        "print_result(ciphertext, words_per_line)\n",
        "print_result(plaintext, words_per_line)"
      ],
      "metadata": {
        "colab": {
          "base_uri": "https://localhost:8080/"
        },
        "id": "tfR4n-A6yPnH",
        "outputId": "8dce4a17-eea5-462e-f0ac-c12e5fe61b08"
      },
      "execution_count": null,
      "outputs": [
        {
          "output_type": "stream",
          "name": "stdout",
          "text": [
            "JGRMQOYGHMVBJ WRWQFPW HGF FDQGFPFZR KBEEBJIZQ QO CIBZK. LFAFGQVFZFWW, EOG WOPF \n",
            "\n",
            "GFHWOL PHLR LOLFDMFGQW BLWBWQ OL KFWBYLBLY LFS FLJGRMQBOL WJVFPFW QVHQ \n",
            "\n",
            "WFFP QO QVFP QO CF POGF WFJIGF QVHL HLR OQVFG \n",
            "\n",
            "WJVFPF OL FHGQV. QVF ILEOGQILHQF QGIQV VOSFAFG BW QVHQ WIJV \n",
            "\n",
            "WJVFPFW HGF IWIHZZR QGBABHZ QO CGFHX.\n",
            "\n",
            "\n",
            "****TO****H** ***TE** **E E*T*E*E** ********T TO *****. *E*E*THE*E**, *O* *O*E \n",
            "\n",
            "*E**O* **** *O*E**E*T* *****T O* *E******* *E* E*****T*O* **HE*E* TH*T \n",
            "\n",
            "*EE* TO THE* TO *E *O*E *E***E TH** *** OTHE* \n",
            "\n",
            "**HE*E O* E**TH. THE ***O*T***TE T**TH HO*E*E* ** TH*T ***H \n",
            "\n",
            "**HE*E* **E ******* T****** TO **E**.\n",
            "\n",
            "\n"
          ]
        }
      ]
    },
    {
      "cell_type": "code",
      "source": [
        "# line 2, word 5, the word is \"O*\"\n",
        "# we know \"OF\" is one of the most frequently used two letter word that starts with \"O\"\n",
        "# map L=F\n",
        "\n",
        "mapping = {'F':'E', 'Q':'T', 'V':'H', 'O':'O', 'L':'F'}\n",
        "words_per_line = 10\n",
        "plaintext = substitution_cipher(ciphertext, mapping)\n",
        "print_result(ciphertext, words_per_line)\n",
        "print_result(plaintext, words_per_line)"
      ],
      "metadata": {
        "colab": {
          "base_uri": "https://localhost:8080/"
        },
        "id": "fINghGivyk-S",
        "outputId": "55cc0181-801b-4520-b6eb-f94c8f93bf6c"
      },
      "execution_count": null,
      "outputs": [
        {
          "output_type": "stream",
          "name": "stdout",
          "text": [
            "JGRMQOYGHMVBJ WRWQFPW HGF FDQGFPFZR KBEEBJIZQ QO CIBZK. LFAFGQVFZFWW, EOG WOPF \n",
            "\n",
            "GFHWOL PHLR LOLFDMFGQW BLWBWQ OL KFWBYLBLY LFS FLJGRMQBOL WJVFPFW QVHQ \n",
            "\n",
            "WFFP QO QVFP QO CF POGF WFJIGF QVHL HLR OQVFG \n",
            "\n",
            "WJVFPF OL FHGQV. QVF ILEOGQILHQF QGIQV VOSFAFG BW QVHQ WIJV \n",
            "\n",
            "WJVFPFW HGF IWIHZZR QGBABHZ QO CGFHX.\n",
            "\n",
            "\n",
            "****TO****H** ***TE** **E E*T*E*E** ********T TO *****. FE*E*THE*E**, *O* *O*E \n",
            "\n",
            "*E**OF **F* FOFE**E*T* *F***T OF *E***F*F* FE* EF****T*OF **HE*E* TH*T \n",
            "\n",
            "*EE* TO THE* TO *E *O*E *E***E TH*F *F* OTHE* \n",
            "\n",
            "**HE*E OF E**TH. THE *F*O*T*F*TE T**TH HO*E*E* ** TH*T ***H \n",
            "\n",
            "**HE*E* **E ******* T****** TO **E**.\n",
            "\n",
            "\n"
          ]
        }
      ]
    },
    {
      "cell_type": "code",
      "source": [
        "# line 4, word 9, the word is \"TH*T\"\n",
        "# let's consider this word as \"THAT\"\n",
        "# map H=A\n",
        "\n",
        "mapping = {'F':'E', 'Q':'T', 'V':'H', 'O':'O', 'L':'F', 'H':'A'}\n",
        "words_per_line = 10\n",
        "plaintext = substitution_cipher(ciphertext, mapping)\n",
        "print_result(ciphertext, words_per_line)\n",
        "print_result(plaintext, words_per_line)"
      ],
      "metadata": {
        "colab": {
          "base_uri": "https://localhost:8080/"
        },
        "id": "8SjjnobHy6Ts",
        "outputId": "1a9cf478-8890-42ce-c37c-771b29d34251"
      },
      "execution_count": null,
      "outputs": [
        {
          "output_type": "stream",
          "name": "stdout",
          "text": [
            "JGRMQOYGHMVBJ WRWQFPW HGF FDQGFPFZR KBEEBJIZQ QO CIBZK. LFAFGQVFZFWW, EOG WOPF \n",
            "\n",
            "GFHWOL PHLR LOLFDMFGQW BLWBWQ OL KFWBYLBLY LFS FLJGRMQBOL WJVFPFW QVHQ \n",
            "\n",
            "WFFP QO QVFP QO CF POGF WFJIGF QVHL HLR OQVFG \n",
            "\n",
            "WJVFPF OL FHGQV. QVF ILEOGQILHQF QGIQV VOSFAFG BW QVHQ WIJV \n",
            "\n",
            "WJVFPFW HGF IWIHZZR QGBABHZ QO CGFHX.\n",
            "\n",
            "\n",
            "****TO**A*H** ***TE** A*E E*T*E*E** ********T TO *****. FE*E*THE*E**, *O* *O*E \n",
            "\n",
            "*EA*OF *AF* FOFE**E*T* *F***T OF *E***F*F* FE* EF****T*OF **HE*E* THAT \n",
            "\n",
            "*EE* TO THE* TO *E *O*E *E***E THAF AF* OTHE* \n",
            "\n",
            "**HE*E OF EA*TH. THE *F*O*T*FATE T**TH HO*E*E* ** THAT ***H \n",
            "\n",
            "**HE*E* A*E ***A*** T****A* TO **EA*.\n",
            "\n",
            "\n"
          ]
        }
      ]
    },
    {
      "cell_type": "code",
      "source": [
        "# line 5, word 2, the word is \"A*E\"\n",
        "# let's consider this word as \"ARE\"\n",
        "# map G=R\n",
        "\n",
        "mapping = {'F':'E', 'Q':'T', 'V':'H', 'O':'O', 'L':'F', 'H':'A', 'G':'R'}\n",
        "words_per_line = 10\n",
        "plaintext = substitution_cipher(ciphertext, mapping)\n",
        "print_result(ciphertext, words_per_line)\n",
        "print_result(plaintext, words_per_line)"
      ],
      "metadata": {
        "colab": {
          "base_uri": "https://localhost:8080/"
        },
        "id": "mOmzp-jMzQHN",
        "outputId": "aecc2d0d-59b9-4ae0-d718-03a4c934bdb1"
      },
      "execution_count": null,
      "outputs": [
        {
          "output_type": "stream",
          "name": "stdout",
          "text": [
            "JGRMQOYGHMVBJ WRWQFPW HGF FDQGFPFZR KBEEBJIZQ QO CIBZK. LFAFGQVFZFWW, EOG WOPF \n",
            "\n",
            "GFHWOL PHLR LOLFDMFGQW BLWBWQ OL KFWBYLBLY LFS FLJGRMQBOL WJVFPFW QVHQ \n",
            "\n",
            "WFFP QO QVFP QO CF POGF WFJIGF QVHL HLR OQVFG \n",
            "\n",
            "WJVFPF OL FHGQV. QVF ILEOGQILHQF QGIQV VOSFAFG BW QVHQ WIJV \n",
            "\n",
            "WJVFPFW HGF IWIHZZR QGBABHZ QO CGFHX.\n",
            "\n",
            "\n",
            "*R**TO*RA*H** ***TE** ARE E*TRE*E** ********T TO *****. FE*ERTHE*E**, *OR *O*E \n",
            "\n",
            "REA*OF *AF* FOFE**ERT* *F***T OF *E***F*F* FE* EF*R**T*OF **HE*E* THAT \n",
            "\n",
            "*EE* TO THE* TO *E *ORE *E**RE THAF AF* OTHER \n",
            "\n",
            "**HE*E OF EARTH. THE *F*ORT*FATE TR*TH HO*E*ER ** THAT ***H \n",
            "\n",
            "**HE*E* ARE ***A*** TR***A* TO *REA*.\n",
            "\n",
            "\n"
          ]
        }
      ]
    },
    {
      "cell_type": "code",
      "source": [
        "# line 3, word 8, the word is \"THAF\"\n",
        "# this word is not making any sense\n",
        "# so we need to change the map\n",
        "# let's try to use \"THAN\", instead of \"THAF\"\n",
        "# change map L=F to L=N\n",
        "\n",
        "mapping = {'F':'E', 'Q':'T', 'V':'H', 'O':'O', 'L':'N', 'H':'A', 'G':'R'}\n",
        "words_per_line = 10\n",
        "plaintext = substitution_cipher(ciphertext, mapping)\n",
        "print_result(ciphertext, words_per_line)\n",
        "print_result(plaintext, words_per_line)"
      ],
      "metadata": {
        "colab": {
          "base_uri": "https://localhost:8080/"
        },
        "id": "Wld8elrH0is0",
        "outputId": "3b532101-d749-433a-f81f-df9009bb2722"
      },
      "execution_count": null,
      "outputs": [
        {
          "output_type": "stream",
          "name": "stdout",
          "text": [
            "JGRMQOYGHMVBJ WRWQFPW HGF FDQGFPFZR KBEEBJIZQ QO CIBZK. LFAFGQVFZFWW, EOG WOPF \n",
            "\n",
            "GFHWOL PHLR LOLFDMFGQW BLWBWQ OL KFWBYLBLY LFS FLJGRMQBOL WJVFPFW QVHQ \n",
            "\n",
            "WFFP QO QVFP QO CF POGF WFJIGF QVHL HLR OQVFG \n",
            "\n",
            "WJVFPF OL FHGQV. QVF ILEOGQILHQF QGIQV VOSFAFG BW QVHQ WIJV \n",
            "\n",
            "WJVFPFW HGF IWIHZZR QGBABHZ QO CGFHX.\n",
            "\n",
            "\n",
            "*R**TO*RA*H** ***TE** ARE E*TRE*E** ********T TO *****. NE*ERTHE*E**, *OR *O*E \n",
            "\n",
            "REA*ON *AN* NONE**ERT* *N***T ON *E***N*N* NE* EN*R**T*ON **HE*E* THAT \n",
            "\n",
            "*EE* TO THE* TO *E *ORE *E**RE THAN AN* OTHER \n",
            "\n",
            "**HE*E ON EARTH. THE *N*ORT*NATE TR*TH HO*E*ER ** THAT ***H \n",
            "\n",
            "**HE*E* ARE ***A*** TR***A* TO *REA*.\n",
            "\n",
            "\n"
          ]
        }
      ]
    },
    {
      "cell_type": "code",
      "source": [
        "# line 1, word 9, the word is \"*OR\"\n",
        "# we knoe \"FOR\" is one of the most frequently used three letter words that ends with \"OR\"\n",
        "# map E=F\n",
        "\n",
        "mapping = {'F':'E', 'Q':'T', 'V':'H', 'O':'O', 'L':'N', 'H':'A', 'G':'R', 'E':'F'}\n",
        "words_per_line = 10\n",
        "plaintext = substitution_cipher(ciphertext, mapping)\n",
        "print_result(ciphertext, words_per_line)\n",
        "print_result(plaintext, words_per_line)"
      ],
      "metadata": {
        "colab": {
          "base_uri": "https://localhost:8080/"
        },
        "id": "jkauZ8hL1Ere",
        "outputId": "6bd3688b-9cad-42ae-b861-606480f9833a"
      },
      "execution_count": null,
      "outputs": [
        {
          "output_type": "stream",
          "name": "stdout",
          "text": [
            "JGRMQOYGHMVBJ WRWQFPW HGF FDQGFPFZR KBEEBJIZQ QO CIBZK. LFAFGQVFZFWW, EOG WOPF \n",
            "\n",
            "GFHWOL PHLR LOLFDMFGQW BLWBWQ OL KFWBYLBLY LFS FLJGRMQBOL WJVFPFW QVHQ \n",
            "\n",
            "WFFP QO QVFP QO CF POGF WFJIGF QVHL HLR OQVFG \n",
            "\n",
            "WJVFPF OL FHGQV. QVF ILEOGQILHQF QGIQV VOSFAFG BW QVHQ WIJV \n",
            "\n",
            "WJVFPFW HGF IWIHZZR QGBABHZ QO CGFHX.\n",
            "\n",
            "\n",
            "*R**TO*RA*H** ***TE** ARE E*TRE*E** **FF****T TO *****. NE*ERTHE*E**, FOR *O*E \n",
            "\n",
            "REA*ON *AN* NONE**ERT* *N***T ON *E***N*N* NE* EN*R**T*ON **HE*E* THAT \n",
            "\n",
            "*EE* TO THE* TO *E *ORE *E**RE THAN AN* OTHER \n",
            "\n",
            "**HE*E ON EARTH. THE *NFORT*NATE TR*TH HO*E*ER ** THAT ***H \n",
            "\n",
            "**HE*E* ARE ***A*** TR***A* TO *REA*.\n",
            "\n",
            "\n"
          ]
        }
      ]
    },
    {
      "cell_type": "code",
      "source": [
        "# line 3, word 9, the word is \"AN*\"\n",
        "# some three letter words starts with \"AN\" are AND,ANY,ANT\n",
        "# we can see that before \"AN*\", the word is 'THAN'\n",
        "# after \"AN*\", the word is \"OTHER\"\n",
        "# so it's suitable to use \"ANY\"\n",
        "# let's consider \"AN*\" as \"ANY\"\n",
        "# map R=Y\n",
        "\n",
        "mapping = {'F':'E', 'Q':'T', 'V':'H', 'O':'O', 'L':'N', 'H':'A', 'G':'R', 'E':'F', 'R':'Y'}\n",
        "words_per_line = 10\n",
        "plaintext = substitution_cipher(ciphertext, mapping)\n",
        "print_result(ciphertext, words_per_line)\n",
        "print_result(plaintext, words_per_line)"
      ],
      "metadata": {
        "colab": {
          "base_uri": "https://localhost:8080/"
        },
        "id": "SgvT3T9J14nY",
        "outputId": "d2460ef3-81e7-471d-896d-5fb3a75e3feb"
      },
      "execution_count": null,
      "outputs": [
        {
          "output_type": "stream",
          "name": "stdout",
          "text": [
            "JGRMQOYGHMVBJ WRWQFPW HGF FDQGFPFZR KBEEBJIZQ QO CIBZK. LFAFGQVFZFWW, EOG WOPF \n",
            "\n",
            "GFHWOL PHLR LOLFDMFGQW BLWBWQ OL KFWBYLBLY LFS FLJGRMQBOL WJVFPFW QVHQ \n",
            "\n",
            "WFFP QO QVFP QO CF POGF WFJIGF QVHL HLR OQVFG \n",
            "\n",
            "WJVFPF OL FHGQV. QVF ILEOGQILHQF QGIQV VOSFAFG BW QVHQ WIJV \n",
            "\n",
            "WJVFPFW HGF IWIHZZR QGBABHZ QO CGFHX.\n",
            "\n",
            "\n",
            "*RY*TO*RA*H** *Y*TE** ARE E*TRE*E*Y **FF****T TO *****. NE*ERTHE*E**, FOR *O*E \n",
            "\n",
            "REA*ON *ANY NONE**ERT* *N***T ON *E***N*N* NE* EN*RY*T*ON **HE*E* THAT \n",
            "\n",
            "*EE* TO THE* TO *E *ORE *E**RE THAN ANY OTHER \n",
            "\n",
            "**HE*E ON EARTH. THE *NFORT*NATE TR*TH HO*E*ER ** THAT ***H \n",
            "\n",
            "**HE*E* ARE ***A**Y TR***A* TO *REA*.\n",
            "\n",
            "\n"
          ]
        }
      ]
    },
    {
      "cell_type": "code",
      "source": [
        "# line 4, word 8, the word is \"**\"\n",
        "# we know OF,TO,IN,IT,IS are some most frequently used two letter word\n",
        "# we already map T,O,N.. still we are seeing \"**\" here\n",
        "# so the word can't be OF,TO,IN,IT\n",
        "# so we need to consider \"**\" as \"IS\"\n",
        "# map B=I and W=S\n",
        "\n",
        "mapping = {'F':'E', 'Q':'T', 'V':'H', 'O':'O', 'L':'N', 'H':'A', 'G':'R', 'E':'F', 'R':'Y', 'B':'I', 'W':'S'}\n",
        "words_per_line = 10\n",
        "plaintext = substitution_cipher(ciphertext, mapping)\n",
        "print_result(ciphertext, words_per_line)\n",
        "print_result(plaintext, words_per_line)"
      ],
      "metadata": {
        "colab": {
          "base_uri": "https://localhost:8080/"
        },
        "id": "Zvzzy64W3PWg",
        "outputId": "6f6a8f08-6295-4cef-ee8a-e5252c6edcd1"
      },
      "execution_count": null,
      "outputs": [
        {
          "output_type": "stream",
          "name": "stdout",
          "text": [
            "JGRMQOYGHMVBJ WRWQFPW HGF FDQGFPFZR KBEEBJIZQ QO CIBZK. LFAFGQVFZFWW, EOG WOPF \n",
            "\n",
            "GFHWOL PHLR LOLFDMFGQW BLWBWQ OL KFWBYLBLY LFS FLJGRMQBOL WJVFPFW QVHQ \n",
            "\n",
            "WFFP QO QVFP QO CF POGF WFJIGF QVHL HLR OQVFG \n",
            "\n",
            "WJVFPF OL FHGQV. QVF ILEOGQILHQF QGIQV VOSFAFG BW QVHQ WIJV \n",
            "\n",
            "WJVFPFW HGF IWIHZZR QGBABHZ QO CGFHX.\n",
            "\n",
            "\n",
            "*RY*TO*RA*HI* SYSTE*S ARE E*TRE*E*Y *IFFI***T TO **I**. NE*ERTHE*ESS, FOR SO*E \n",
            "\n",
            "REASON *ANY NONE**ERTS INSIST ON *ESI*NIN* NE* EN*RY*TION S*HE*ES THAT \n",
            "\n",
            "SEE* TO THE* TO *E *ORE SE**RE THAN ANY OTHER \n",
            "\n",
            "S*HE*E ON EARTH. THE *NFORT*NATE TR*TH HO*E*ER IS THAT S**H \n",
            "\n",
            "S*HE*ES ARE *S*A**Y TRI*IA* TO *REA*.\n",
            "\n",
            "\n"
          ]
        }
      ]
    },
    {
      "cell_type": "code",
      "source": [
        "# line 2, word 2, the word is \"*ANY\"\n",
        "# let's consider this word as \"MANY\"\n",
        "# map P=M\n",
        "\n",
        "mapping = {'F':'E', 'Q':'T', 'V':'H', 'O':'O', 'L':'N', 'H':'A', 'G':'R', 'E':'F', 'R':'Y', 'B':'I', 'W':'S',\n",
        "           'P':'M'}\n",
        "words_per_line = 10\n",
        "plaintext = substitution_cipher(ciphertext, mapping)\n",
        "print_result(ciphertext, words_per_line)\n",
        "print_result(plaintext, words_per_line)"
      ],
      "metadata": {
        "colab": {
          "base_uri": "https://localhost:8080/"
        },
        "id": "mtanbQUt4H6a",
        "outputId": "28ef0302-d8c7-4ed5-c900-85d6682e4eb1"
      },
      "execution_count": null,
      "outputs": [
        {
          "output_type": "stream",
          "name": "stdout",
          "text": [
            "JGRMQOYGHMVBJ WRWQFPW HGF FDQGFPFZR KBEEBJIZQ QO CIBZK. LFAFGQVFZFWW, EOG WOPF \n",
            "\n",
            "GFHWOL PHLR LOLFDMFGQW BLWBWQ OL KFWBYLBLY LFS FLJGRMQBOL WJVFPFW QVHQ \n",
            "\n",
            "WFFP QO QVFP QO CF POGF WFJIGF QVHL HLR OQVFG \n",
            "\n",
            "WJVFPF OL FHGQV. QVF ILEOGQILHQF QGIQV VOSFAFG BW QVHQ WIJV \n",
            "\n",
            "WJVFPFW HGF IWIHZZR QGBABHZ QO CGFHX.\n",
            "\n",
            "\n",
            "*RY*TO*RA*HI* SYSTEMS ARE E*TREME*Y *IFFI***T TO **I**. NE*ERTHE*ESS, FOR SOME \n",
            "\n",
            "REASON MANY NONE**ERTS INSIST ON *ESI*NIN* NE* EN*RY*TION S*HEMES THAT \n",
            "\n",
            "SEEM TO THEM TO *E MORE SE**RE THAN ANY OTHER \n",
            "\n",
            "S*HEME ON EARTH. THE *NFORT*NATE TR*TH HO*E*ER IS THAT S**H \n",
            "\n",
            "S*HEMES ARE *S*A**Y TRI*IA* TO *REA*.\n",
            "\n",
            "\n"
          ]
        }
      ]
    },
    {
      "cell_type": "code",
      "source": [
        "# line 1, word 8, the word is \"NE*ERTHE*ESS\"\n",
        "# let's consider this word as \"NEVERTHELESS\"\n",
        "# map A=V and Z=L\n",
        "\n",
        "mapping = {'F':'E', 'Q':'T', 'V':'H', 'O':'O', 'L':'N', 'H':'A', 'G':'R', 'E':'F', 'R':'Y', 'B':'I', 'W':'S',\n",
        "           'P':'M', 'A':'V', 'Z':'L'}\n",
        "words_per_line = 10\n",
        "plaintext = substitution_cipher(ciphertext, mapping)\n",
        "print_result(ciphertext, words_per_line)\n",
        "print_result(plaintext, words_per_line)"
      ],
      "metadata": {
        "colab": {
          "base_uri": "https://localhost:8080/"
        },
        "id": "qQOIbH584_Wo",
        "outputId": "93718255-31cb-428b-82e1-c9805fab585c"
      },
      "execution_count": null,
      "outputs": [
        {
          "output_type": "stream",
          "name": "stdout",
          "text": [
            "JGRMQOYGHMVBJ WRWQFPW HGF FDQGFPFZR KBEEBJIZQ QO CIBZK. LFAFGQVFZFWW, EOG WOPF \n",
            "\n",
            "GFHWOL PHLR LOLFDMFGQW BLWBWQ OL KFWBYLBLY LFS FLJGRMQBOL WJVFPFW QVHQ \n",
            "\n",
            "WFFP QO QVFP QO CF POGF WFJIGF QVHL HLR OQVFG \n",
            "\n",
            "WJVFPF OL FHGQV. QVF ILEOGQILHQF QGIQV VOSFAFG BW QVHQ WIJV \n",
            "\n",
            "WJVFPFW HGF IWIHZZR QGBABHZ QO CGFHX.\n",
            "\n",
            "\n",
            "*RY*TO*RA*HI* SYSTEMS ARE E*TREMELY *IFFI**LT TO **IL*. NEVERTHELESS, FOR SOME \n",
            "\n",
            "REASON MANY NONE**ERTS INSIST ON *ESI*NIN* NE* EN*RY*TION S*HEMES THAT \n",
            "\n",
            "SEEM TO THEM TO *E MORE SE**RE THAN ANY OTHER \n",
            "\n",
            "S*HEME ON EARTH. THE *NFORT*NATE TR*TH HO*EVER IS THAT S**H \n",
            "\n",
            "S*HEMES ARE *S*ALLY TRIVIAL TO *REA*.\n",
            "\n",
            "\n"
          ]
        }
      ]
    },
    {
      "cell_type": "code",
      "source": [
        "# line 1, word 4, the word is \"E*TREMELY\"\n",
        "# let's consider this word as \"EXTREMELY\"\n",
        "# map D=X\n",
        "\n",
        "mapping = {'F':'E', 'Q':'T', 'V':'H', 'O':'O', 'L':'N', 'H':'A', 'G':'R', 'E':'F', 'R':'Y', 'B':'I', 'W':'S',\n",
        "           'P':'M', 'A':'V', 'Z':'L', 'D':'X'}\n",
        "words_per_line = 10\n",
        "plaintext = substitution_cipher(ciphertext, mapping)\n",
        "print_result(ciphertext, words_per_line)\n",
        "print_result(plaintext, words_per_line)"
      ],
      "metadata": {
        "colab": {
          "base_uri": "https://localhost:8080/"
        },
        "id": "nK2shEX25ZV1",
        "outputId": "c672fa31-ada5-451f-abd3-e935e4db4111"
      },
      "execution_count": null,
      "outputs": [
        {
          "output_type": "stream",
          "name": "stdout",
          "text": [
            "JGRMQOYGHMVBJ WRWQFPW HGF FDQGFPFZR KBEEBJIZQ QO CIBZK. LFAFGQVFZFWW, EOG WOPF \n",
            "\n",
            "GFHWOL PHLR LOLFDMFGQW BLWBWQ OL KFWBYLBLY LFS FLJGRMQBOL WJVFPFW QVHQ \n",
            "\n",
            "WFFP QO QVFP QO CF POGF WFJIGF QVHL HLR OQVFG \n",
            "\n",
            "WJVFPF OL FHGQV. QVF ILEOGQILHQF QGIQV VOSFAFG BW QVHQ WIJV \n",
            "\n",
            "WJVFPFW HGF IWIHZZR QGBABHZ QO CGFHX.\n",
            "\n",
            "\n",
            "*RY*TO*RA*HI* SYSTEMS ARE EXTREMELY *IFFI**LT TO **IL*. NEVERTHELESS, FOR SOME \n",
            "\n",
            "REASON MANY NONEX*ERTS INSIST ON *ESI*NIN* NE* EN*RY*TION S*HEMES THAT \n",
            "\n",
            "SEEM TO THEM TO *E MORE SE**RE THAN ANY OTHER \n",
            "\n",
            "S*HEME ON EARTH. THE *NFORT*NATE TR*TH HO*EVER IS THAT S**H \n",
            "\n",
            "S*HEMES ARE *S*ALLY TRIVIAL TO *REA*.\n",
            "\n",
            "\n"
          ]
        }
      ]
    },
    {
      "cell_type": "code",
      "source": [
        "# line 4, word 6, the word is \"TR*TH\"\n",
        "# let's consider this word as \"TRUTH\"\n",
        "# map I=U\n",
        "\n",
        "mapping = {'F':'E', 'Q':'T', 'V':'H', 'O':'O', 'L':'N', 'H':'A', 'G':'R', 'E':'F', 'R':'Y', 'B':'I', 'W':'S',\n",
        "           'P':'M', 'A':'V', 'Z':'L', 'D':'X', 'I':'U'}\n",
        "words_per_line = 10\n",
        "plaintext = substitution_cipher(ciphertext, mapping)\n",
        "print_result(ciphertext, words_per_line)\n",
        "print_result(plaintext, words_per_line)"
      ],
      "metadata": {
        "colab": {
          "base_uri": "https://localhost:8080/"
        },
        "id": "xwg1MxZH53vh",
        "outputId": "9c35574a-ef26-4595-ac5a-370592a0c141"
      },
      "execution_count": null,
      "outputs": [
        {
          "output_type": "stream",
          "name": "stdout",
          "text": [
            "JGRMQOYGHMVBJ WRWQFPW HGF FDQGFPFZR KBEEBJIZQ QO CIBZK. LFAFGQVFZFWW, EOG WOPF \n",
            "\n",
            "GFHWOL PHLR LOLFDMFGQW BLWBWQ OL KFWBYLBLY LFS FLJGRMQBOL WJVFPFW QVHQ \n",
            "\n",
            "WFFP QO QVFP QO CF POGF WFJIGF QVHL HLR OQVFG \n",
            "\n",
            "WJVFPF OL FHGQV. QVF ILEOGQILHQF QGIQV VOSFAFG BW QVHQ WIJV \n",
            "\n",
            "WJVFPFW HGF IWIHZZR QGBABHZ QO CGFHX.\n",
            "\n",
            "\n",
            "*RY*TO*RA*HI* SYSTEMS ARE EXTREMELY *IFFI*ULT TO *UIL*. NEVERTHELESS, FOR SOME \n",
            "\n",
            "REASON MANY NONEX*ERTS INSIST ON *ESI*NIN* NE* EN*RY*TION S*HEMES THAT \n",
            "\n",
            "SEEM TO THEM TO *E MORE SE*URE THAN ANY OTHER \n",
            "\n",
            "S*HEME ON EARTH. THE UNFORTUNATE TRUTH HO*EVER IS THAT SU*H \n",
            "\n",
            "S*HEMES ARE USUALLY TRIVIAL TO *REA*.\n",
            "\n",
            "\n"
          ]
        }
      ]
    },
    {
      "cell_type": "code",
      "source": [
        "# line 3, word 5, the word is \"*E\"\n",
        "# we know \"BE\" is one of the most frequently used two letter word that ends with \"E\"\n",
        "# map C=B\n",
        "\n",
        "mapping = {'F':'E', 'Q':'T', 'V':'H', 'O':'O', 'L':'N', 'H':'A', 'G':'R', 'E':'F', 'R':'Y', 'B':'I', 'W':'S',\n",
        "           'P':'M', 'A':'V', 'Z':'L', 'D':'X', 'I':'U', 'C':'B'}\n",
        "words_per_line = 10\n",
        "plaintext = substitution_cipher(ciphertext, mapping)\n",
        "print_result(ciphertext, words_per_line)\n",
        "print_result(plaintext, words_per_line)"
      ],
      "metadata": {
        "colab": {
          "base_uri": "https://localhost:8080/"
        },
        "id": "HCM3MyRt6T6w",
        "outputId": "6b474036-466b-4b04-f554-2c15ade8072d"
      },
      "execution_count": null,
      "outputs": [
        {
          "output_type": "stream",
          "name": "stdout",
          "text": [
            "JGRMQOYGHMVBJ WRWQFPW HGF FDQGFPFZR KBEEBJIZQ QO CIBZK. LFAFGQVFZFWW, EOG WOPF \n",
            "\n",
            "GFHWOL PHLR LOLFDMFGQW BLWBWQ OL KFWBYLBLY LFS FLJGRMQBOL WJVFPFW QVHQ \n",
            "\n",
            "WFFP QO QVFP QO CF POGF WFJIGF QVHL HLR OQVFG \n",
            "\n",
            "WJVFPF OL FHGQV. QVF ILEOGQILHQF QGIQV VOSFAFG BW QVHQ WIJV \n",
            "\n",
            "WJVFPFW HGF IWIHZZR QGBABHZ QO CGFHX.\n",
            "\n",
            "\n",
            "*RY*TO*RA*HI* SYSTEMS ARE EXTREMELY *IFFI*ULT TO BUIL*. NEVERTHELESS, FOR SOME \n",
            "\n",
            "REASON MANY NONEX*ERTS INSIST ON *ESI*NIN* NE* EN*RY*TION S*HEMES THAT \n",
            "\n",
            "SEEM TO THEM TO BE MORE SE*URE THAN ANY OTHER \n",
            "\n",
            "S*HEME ON EARTH. THE UNFORTUNATE TRUTH HO*EVER IS THAT SU*H \n",
            "\n",
            "S*HEMES ARE USUALLY TRIVIAL TO BREA*.\n",
            "\n",
            "\n"
          ]
        }
      ]
    },
    {
      "cell_type": "code",
      "source": [
        "# line 1, word 7, the word is \"BUIL*\"\n",
        "# let's consider this word as \"BUILD\"\n",
        "# map K=D\n",
        "\n",
        "mapping = {'F':'E', 'Q':'T', 'V':'H', 'O':'O', 'L':'N', 'H':'A', 'G':'R', 'E':'F', 'R':'Y', 'B':'I', 'W':'S',\n",
        "           'P':'M', 'A':'V', 'Z':'L', 'D':'X', 'I':'U', 'C':'B', 'K':'D'}\n",
        "words_per_line = 10\n",
        "plaintext = substitution_cipher(ciphertext, mapping)\n",
        "print_result(ciphertext, words_per_line)\n",
        "print_result(plaintext, words_per_line)"
      ],
      "metadata": {
        "colab": {
          "base_uri": "https://localhost:8080/"
        },
        "id": "_aWFhLOt6wPA",
        "outputId": "190eed7e-3828-4c3d-ec52-4d931f4fe961"
      },
      "execution_count": null,
      "outputs": [
        {
          "output_type": "stream",
          "name": "stdout",
          "text": [
            "JGRMQOYGHMVBJ WRWQFPW HGF FDQGFPFZR KBEEBJIZQ QO CIBZK. LFAFGQVFZFWW, EOG WOPF \n",
            "\n",
            "GFHWOL PHLR LOLFDMFGQW BLWBWQ OL KFWBYLBLY LFS FLJGRMQBOL WJVFPFW QVHQ \n",
            "\n",
            "WFFP QO QVFP QO CF POGF WFJIGF QVHL HLR OQVFG \n",
            "\n",
            "WJVFPF OL FHGQV. QVF ILEOGQILHQF QGIQV VOSFAFG BW QVHQ WIJV \n",
            "\n",
            "WJVFPFW HGF IWIHZZR QGBABHZ QO CGFHX.\n",
            "\n",
            "\n",
            "*RY*TO*RA*HI* SYSTEMS ARE EXTREMELY DIFFI*ULT TO BUILD. NEVERTHELESS, FOR SOME \n",
            "\n",
            "REASON MANY NONEX*ERTS INSIST ON DESI*NIN* NE* EN*RY*TION S*HEMES THAT \n",
            "\n",
            "SEEM TO THEM TO BE MORE SE*URE THAN ANY OTHER \n",
            "\n",
            "S*HEME ON EARTH. THE UNFORTUNATE TRUTH HO*EVER IS THAT SU*H \n",
            "\n",
            "S*HEMES ARE USUALLY TRIVIAL TO BREA*.\n",
            "\n",
            "\n"
          ]
        }
      ]
    },
    {
      "cell_type": "code",
      "source": [
        "# line 1, word 5, the word is \"DIFFI*ULT\"\n",
        "# let's consider this word as \"DIFFICULT\"\n",
        "# map J=C\n",
        "\n",
        "mapping = {'F':'E', 'Q':'T', 'V':'H', 'O':'O', 'L':'N', 'H':'A', 'G':'R', 'E':'F', 'R':'Y', 'B':'I', 'W':'S',\n",
        "           'P':'M', 'A':'V', 'Z':'L', 'D':'X', 'I':'U', 'C':'B', 'K':'D', 'J':'C'}\n",
        "words_per_line = 10\n",
        "plaintext = substitution_cipher(ciphertext, mapping)\n",
        "print_result(ciphertext, words_per_line)\n",
        "print_result(plaintext, words_per_line)"
      ],
      "metadata": {
        "colab": {
          "base_uri": "https://localhost:8080/"
        },
        "id": "Su6pfkt87A9G",
        "outputId": "5421eba1-e8d4-4011-f0f7-2b751f2f92e1"
      },
      "execution_count": null,
      "outputs": [
        {
          "output_type": "stream",
          "name": "stdout",
          "text": [
            "JGRMQOYGHMVBJ WRWQFPW HGF FDQGFPFZR KBEEBJIZQ QO CIBZK. LFAFGQVFZFWW, EOG WOPF \n",
            "\n",
            "GFHWOL PHLR LOLFDMFGQW BLWBWQ OL KFWBYLBLY LFS FLJGRMQBOL WJVFPFW QVHQ \n",
            "\n",
            "WFFP QO QVFP QO CF POGF WFJIGF QVHL HLR OQVFG \n",
            "\n",
            "WJVFPF OL FHGQV. QVF ILEOGQILHQF QGIQV VOSFAFG BW QVHQ WIJV \n",
            "\n",
            "WJVFPFW HGF IWIHZZR QGBABHZ QO CGFHX.\n",
            "\n",
            "\n",
            "CRY*TO*RA*HIC SYSTEMS ARE EXTREMELY DIFFICULT TO BUILD. NEVERTHELESS, FOR SOME \n",
            "\n",
            "REASON MANY NONEX*ERTS INSIST ON DESI*NIN* NE* ENCRY*TION SCHEMES THAT \n",
            "\n",
            "SEEM TO THEM TO BE MORE SECURE THAN ANY OTHER \n",
            "\n",
            "SCHEME ON EARTH. THE UNFORTUNATE TRUTH HO*EVER IS THAT SUCH \n",
            "\n",
            "SCHEMES ARE USUALLY TRIVIAL TO BREA*.\n",
            "\n",
            "\n"
          ]
        }
      ]
    },
    {
      "cell_type": "code",
      "source": [
        "# line 1, word 1, the word is \"CRY*TO*RA*HIC\"\n",
        "# let's consider this word as \"CRYPTOGRAPHIC\"\n",
        "# map M=P and Y=G\n",
        "\n",
        "mapping = {'F':'E', 'Q':'T', 'V':'H', 'O':'O', 'L':'N', 'H':'A', 'G':'R', 'E':'F', 'R':'Y', 'B':'I', 'W':'S',\n",
        "           'P':'M', 'A':'V', 'Z':'L', 'D':'X', 'I':'U', 'C':'B', 'K':'D', 'J':'C', 'M':'P', 'Y':'G'}\n",
        "words_per_line = 10\n",
        "plaintext = substitution_cipher(ciphertext, mapping)\n",
        "print_result(ciphertext, words_per_line)\n",
        "print_result(plaintext, words_per_line)"
      ],
      "metadata": {
        "colab": {
          "base_uri": "https://localhost:8080/"
        },
        "id": "cv6Nb8hR7PeA",
        "outputId": "1e9487cb-9e93-4185-8dd6-9d09e190f57d"
      },
      "execution_count": null,
      "outputs": [
        {
          "output_type": "stream",
          "name": "stdout",
          "text": [
            "JGRMQOYGHMVBJ WRWQFPW HGF FDQGFPFZR KBEEBJIZQ QO CIBZK. LFAFGQVFZFWW, EOG WOPF \n",
            "\n",
            "GFHWOL PHLR LOLFDMFGQW BLWBWQ OL KFWBYLBLY LFS FLJGRMQBOL WJVFPFW QVHQ \n",
            "\n",
            "WFFP QO QVFP QO CF POGF WFJIGF QVHL HLR OQVFG \n",
            "\n",
            "WJVFPF OL FHGQV. QVF ILEOGQILHQF QGIQV VOSFAFG BW QVHQ WIJV \n",
            "\n",
            "WJVFPFW HGF IWIHZZR QGBABHZ QO CGFHX.\n",
            "\n",
            "\n",
            "CRYPTOGRAPHIC SYSTEMS ARE EXTREMELY DIFFICULT TO BUILD. NEVERTHELESS, FOR SOME \n",
            "\n",
            "REASON MANY NONEXPERTS INSIST ON DESIGNING NE* ENCRYPTION SCHEMES THAT \n",
            "\n",
            "SEEM TO THEM TO BE MORE SECURE THAN ANY OTHER \n",
            "\n",
            "SCHEME ON EARTH. THE UNFORTUNATE TRUTH HO*EVER IS THAT SUCH \n",
            "\n",
            "SCHEMES ARE USUALLY TRIVIAL TO BREA*.\n",
            "\n",
            "\n"
          ]
        }
      ]
    },
    {
      "cell_type": "code",
      "source": [
        "# line 2, word 7, the word is \"NE*\"\n",
        "# line 4, word 7, the word is \"HO*EVER\"\n",
        "# again we can see that the character \"S\" is present in the \"*\" position in both sentences\n",
        "# let's consider these two words as \"NEW\" and \"HOWEVER\"\n",
        "# map S=W\n",
        "\n",
        "mapping = {'F':'E', 'Q':'T', 'V':'H', 'O':'O', 'L':'N', 'H':'A', 'G':'R', 'E':'F', 'R':'Y', 'B':'I', 'W':'S',\n",
        "           'P':'M', 'A':'V', 'Z':'L', 'D':'X', 'I':'U', 'C':'B', 'K':'D', 'J':'C', 'M':'P', 'Y':'G', 'S':'W'}\n",
        "words_per_line = 10\n",
        "plaintext = substitution_cipher(ciphertext, mapping)\n",
        "print_result(ciphertext, words_per_line)\n",
        "print_result(plaintext, words_per_line)"
      ],
      "metadata": {
        "colab": {
          "base_uri": "https://localhost:8080/"
        },
        "id": "36D93QGP7zU3",
        "outputId": "de63554f-a963-494f-e5a8-f29483483f27"
      },
      "execution_count": null,
      "outputs": [
        {
          "output_type": "stream",
          "name": "stdout",
          "text": [
            "JGRMQOYGHMVBJ WRWQFPW HGF FDQGFPFZR KBEEBJIZQ QO CIBZK. LFAFGQVFZFWW, EOG WOPF \n",
            "\n",
            "GFHWOL PHLR LOLFDMFGQW BLWBWQ OL KFWBYLBLY LFS FLJGRMQBOL WJVFPFW QVHQ \n",
            "\n",
            "WFFP QO QVFP QO CF POGF WFJIGF QVHL HLR OQVFG \n",
            "\n",
            "WJVFPF OL FHGQV. QVF ILEOGQILHQF QGIQV VOSFAFG BW QVHQ WIJV \n",
            "\n",
            "WJVFPFW HGF IWIHZZR QGBABHZ QO CGFHX.\n",
            "\n",
            "\n",
            "CRYPTOGRAPHIC SYSTEMS ARE EXTREMELY DIFFICULT TO BUILD. NEVERTHELESS, FOR SOME \n",
            "\n",
            "REASON MANY NONEXPERTS INSIST ON DESIGNING NEW ENCRYPTION SCHEMES THAT \n",
            "\n",
            "SEEM TO THEM TO BE MORE SECURE THAN ANY OTHER \n",
            "\n",
            "SCHEME ON EARTH. THE UNFORTUNATE TRUTH HOWEVER IS THAT SUCH \n",
            "\n",
            "SCHEMES ARE USUALLY TRIVIAL TO BREA*.\n",
            "\n",
            "\n"
          ]
        }
      ]
    },
    {
      "cell_type": "code",
      "source": [
        "# after analyzing whole paragragraph, we can say that the word \"BREA*\" is nothing but \"BREAK\"\n",
        "# map X=K\n",
        "\n",
        "mapping = {'F':'E', 'Q':'T', 'V':'H', 'O':'O', 'L':'N', 'H':'A', 'G':'R', 'E':'F', 'R':'Y', 'B':'I', 'W':'S', 'P':'M',\n",
        "           'A':'V', 'Z':'L', 'D':'X', 'I':'U', 'C':'B', 'K':'D', 'J':'C', 'M':'P', 'Y':'G', 'S':'W', 'X':'K'}\n",
        "words_per_line = 10\n",
        "plaintext = substitution_cipher(ciphertext, mapping)\n",
        "print_result(ciphertext, words_per_line)\n",
        "print_result(plaintext, words_per_line)"
      ],
      "metadata": {
        "colab": {
          "base_uri": "https://localhost:8080/"
        },
        "id": "lGTMLm_H8RyX",
        "outputId": "653d8bdc-fc81-40ee-b6f0-2e5f7c161e77"
      },
      "execution_count": null,
      "outputs": [
        {
          "output_type": "stream",
          "name": "stdout",
          "text": [
            "JGRMQOYGHMVBJ WRWQFPW HGF FDQGFPFZR KBEEBJIZQ QO CIBZK. LFAFGQVFZFWW, EOG WOPF \n",
            "\n",
            "GFHWOL PHLR LOLFDMFGQW BLWBWQ OL KFWBYLBLY LFS FLJGRMQBOL WJVFPFW QVHQ \n",
            "\n",
            "WFFP QO QVFP QO CF POGF WFJIGF QVHL HLR OQVFG \n",
            "\n",
            "WJVFPF OL FHGQV. QVF ILEOGQILHQF QGIQV VOSFAFG BW QVHQ WIJV \n",
            "\n",
            "WJVFPFW HGF IWIHZZR QGBABHZ QO CGFHX.\n",
            "\n",
            "\n",
            "CRYPTOGRAPHIC SYSTEMS ARE EXTREMELY DIFFICULT TO BUILD. NEVERTHELESS, FOR SOME \n",
            "\n",
            "REASON MANY NONEXPERTS INSIST ON DESIGNING NEW ENCRYPTION SCHEMES THAT \n",
            "\n",
            "SEEM TO THEM TO BE MORE SECURE THAN ANY OTHER \n",
            "\n",
            "SCHEME ON EARTH. THE UNFORTUNATE TRUTH HOWEVER IS THAT SUCH \n",
            "\n",
            "SCHEMES ARE USUALLY TRIVIAL TO BREAK.\n",
            "\n",
            "\n"
          ]
        }
      ]
    },
    {
      "cell_type": "markdown",
      "source": [
        "<ins>**Plaintext of Task-02(D) is :**</ins><br>\n",
        "<p>CRYPTOGRAPHIC SYSTEMS ARE EXTREMELY DIFFICULT TO BUILD. NEVERTHELESS, FOR SOME REASON MANY NONEXPERTS INSIST ON DESIGNING NEW ENCRYPTION SCHEMES THAT SEEM TO THEM TO BE MORE SECURE THAN ANY OTHER SCHEME ON EARTH. THE UNFORTUNATE TRUTH HOWEVER IS THAT SUCH SCHEMES ARE USUALLY TRIVIAL TO BREAK.</p>"
      ],
      "metadata": {
        "id": "dlPpWPmtrxCM"
      }
    },
    {
      "cell_type": "markdown",
      "source": [
        "# <ins>Task - 03</ins>"
      ],
      "metadata": {
        "id": "5xNroxD-EIiP"
      }
    },
    {
      "cell_type": "code",
      "source": [
        "'''\n",
        "   in this function, we are making length of our given keystring equal to length of given plaintext/ciphertext\n",
        "'''\n",
        "\n",
        "def get_key_string(text, keystring):\n",
        "  keystring = keystring.replace(\" \",\"\")\n",
        "  n = int(len(text) / len(keystring))\n",
        "  rem = int(len(text) % len(keystring))\n",
        "\n",
        "  for i in range(n-1):\n",
        "    keystring += keystring\n",
        "  for i in range(rem):\n",
        "    keystring += keystring[i]\n",
        "  return keystring"
      ],
      "metadata": {
        "id": "cpS_NvwIk3hC"
      },
      "execution_count": 79,
      "outputs": []
    },
    {
      "cell_type": "code",
      "source": [
        "'''\n",
        "  the encryption function takes plaintext and keystring as input\n",
        "  the equation of vigenere cipher for encryption is :\n",
        "    Ei = (Pi + Ki) % 26\n",
        "    here, Pi = ith character of plaintext\n",
        "    and,  Ki = ith character of keystring\n",
        "  the function returns a ciphertext after encryption\n",
        "'''\n",
        "\n",
        "def encryption(plaintext, keystring):\n",
        "  plaintext = plaintext.replace(\" \",\"\")     # removing space\n",
        "  keystring = get_key_string(plaintext, keystring)\n",
        "  ciphertext = \"\"\n",
        "\n",
        "  for i in range(len(plaintext)):\n",
        "    ciphertext += chr((ord(plaintext[i]) + ord(keystring[i])) % 26 + 65)\n",
        "  return ciphertext"
      ],
      "metadata": {
        "id": "i39z-SUSEQs2"
      },
      "execution_count": 80,
      "outputs": []
    },
    {
      "cell_type": "code",
      "source": [
        "'''\n",
        "  the decryption function takes ciphertext and keystring as input\n",
        "  the equation of vigenere cipher for decryption is :\n",
        "    Di = (Ei - Ki) % 26\n",
        "    here, Ei = ith character of ciphertext\n",
        "    and,  Ki = ith character of keystring\n",
        "  the function returns a plaintext after decryption\n",
        "'''\n",
        "\n",
        "def decryption(ciphertext, keystring):\n",
        "  ciphertext = ciphertext.replace(\" \",\"\")     # removing space\n",
        "  keystring = get_key_string(ciphertext, keystring)\n",
        "  plaintext = \"\"\n",
        "\n",
        "  for i in range(len(ciphertext)):\n",
        "    plaintext += chr((ord(ciphertext[i]) - ord(keystring[i])) % 26 + 65)\n",
        "  return plaintext"
      ],
      "metadata": {
        "id": "YvFf6ESsIeOb"
      },
      "execution_count": 81,
      "outputs": []
    },
    {
      "cell_type": "code",
      "source": [
        "'''\n",
        "  this function is used to print plaintext/ciphertext after decryption/encryption\n",
        "'''\n",
        "\n",
        "def print_result(a, b, key, s1, s2):\n",
        "  res = \"\"\n",
        "  j = 0\n",
        "  for i in range(len(a)):\n",
        "    if a[i]==' ':\n",
        "      res+=' '\n",
        "    else:\n",
        "      res+=b[j]\n",
        "      j+=1\n",
        "  print(f\"\\n{s1} of your given {s2} by using key {key} is : {res}\\n\")"
      ],
      "metadata": {
        "id": "oSQol1QFJXFh"
      },
      "execution_count": 82,
      "outputs": []
    },
    {
      "cell_type": "code",
      "source": [
        "while True:\n",
        "  print(\"0. break\\n1. encryption\\n2. decryption\\n\")\n",
        "  choice = input(\"enter your choice : \")\n",
        "  if(choice==\"0\"):\n",
        "    break\n",
        "  elif(choice==\"1\"):\n",
        "    plaintext = input(\"enter your plain text : \")\n",
        "    plaintext = plaintext.upper()\n",
        "    keystring = input(\"enter your keystring : \")\n",
        "    keystring = keystring.upper()\n",
        "    ciphertext = encryption(plaintext, keystring)\n",
        "    print_result(plaintext, ciphertext, keystring, \"ciphertext\", \"plaintext\")\n",
        "  else:\n",
        "    ciphertext = input(\"enter your cipher text : \")\n",
        "    ciphertext = ciphertext.upper()\n",
        "    keystring = input(\"enter your keystring : \")\n",
        "    keystring = keystring.upper()\n",
        "    plaintext = decryption(ciphertext, keystring)\n",
        "    print_result(ciphertext, plaintext, keystring, \"plaintext\", \"ciphertext\")"
      ],
      "metadata": {
        "colab": {
          "base_uri": "https://localhost:8080/"
        },
        "id": "NnpIKVk0FVGe",
        "outputId": "3d299c70-de9b-475f-8754-c136efce94c2"
      },
      "execution_count": 83,
      "outputs": [
        {
          "name": "stdout",
          "output_type": "stream",
          "text": [
            "0. break\n",
            "1. encryption\n",
            "2. decryption\n",
            "\n",
            "enter your choice : 1\n",
            "enter your plain text : CSE FINAL YEAR THEORY COURSE INTRODUCTION TO COMPUER SECURITY AND FORENSICS\n",
            "enter your keystring : SUSTCSE\n",
            "\n",
            "ciphertext of your given plaintext by using key SUSTCSE is : UMW YKFED SWTT LLWIJR EGYJMW BPLVGXMVVASF NG VQETMYJ LGUYJCLR CFH XIJXPKMUM\n",
            "\n",
            "0. break\n",
            "1. encryption\n",
            "2. decryption\n",
            "\n",
            "enter your choice : 2\n",
            "enter your cipher text : UMW YKFED SWTT LLWIJR EGYJMW BPLVGXMVVASF NG VQETMYJ LGUYJCLR CFH XIJXPKMUM\n",
            "enter your keystring : SUSTCSE\n",
            "\n",
            "plaintext of your given ciphertext by using key SUSTCSE is : CSE FINAL YEAR THEORY COURSE INTRODUCTION TO COMPUER SECURITY AND FORENSICS\n",
            "\n",
            "0. break\n",
            "1. encryption\n",
            "2. decryption\n",
            "\n",
            "enter your choice : 0\n"
          ]
        }
      ]
    },
    {
      "cell_type": "markdown",
      "source": [
        "# <ins>Task - 04</ins>"
      ],
      "metadata": {
        "id": "glr5c6CXBqS7"
      }
    },
    {
      "cell_type": "code",
      "source": [
        "'''\n",
        " calc_key_string_ascii_matrix function takes keystring as input\n",
        " let n = sizeof(keystring)\n",
        " m = sqrt(n)\n",
        " this function creates a mxm matrix by taking ascii values of keystring\n",
        "'''\n",
        "\n",
        "import math\n",
        "import numpy as np\n",
        "\n",
        "def calc_key_string_ascii_matrix(keystring):\n",
        "  keystring = keystring.replace(\" \",\"\")\n",
        "  n = len(keystring)\n",
        "  m = int(math.sqrt(n))\n",
        "  key_string_ascii_matrix = np.zeros((m,m))\n",
        "  cnt = 0\n",
        "  for i in range(m):\n",
        "    for j in range(m):\n",
        "      key_string_ascii_matrix[i][j] = int(ord(keystring[cnt]))\n",
        "      cnt+=1\n",
        "  key_string_ascii_matrix = key_string_ascii_matrix % 65\n",
        "  return key_string_ascii_matrix"
      ],
      "metadata": {
        "id": "_rZp5Ys_hg9X"
      },
      "execution_count": 66,
      "outputs": []
    },
    {
      "cell_type": "code",
      "source": [
        "'''\n",
        "  this function is used to print plaintext/ciphertext after decryption/encryption\n",
        "'''\n",
        "\n",
        "def print_result(a, b, s1, s2):\n",
        "  res = \"\"\n",
        "  j = 0\n",
        "  for i in range(len(a)):\n",
        "    if a[i]==' ':\n",
        "      res+=' '\n",
        "    else:\n",
        "      res+=b[j]\n",
        "      j+=1\n",
        "  print(f\"\\n{s1} of your given {s2} is : {res}\\n\")"
      ],
      "metadata": {
        "id": "YIj6XyM3iZyA"
      },
      "execution_count": 74,
      "outputs": []
    },
    {
      "cell_type": "code",
      "source": [
        "'''\n",
        "  the encryption function takes plaintext and keystring as input\n",
        "  let n = sizeof(plaintext)\n",
        "  we need to create nx1 matrix by taking ascii values of each character of plaintext\n",
        "  we then multiply key_string_ascii_matrix and plaintext_ascii_matrix to get ciphertext_ascii_matrix\n",
        "  from ciphertext_ascii_matrix, we derive our ciphertext\n",
        "'''\n",
        "\n",
        "\n",
        "def encryption(plaintext, keystring):\n",
        "  key_string_ascii_matrix = calc_key_string_ascii_matrix(keystring)\n",
        "  plaintext = plaintext.replace(\" \",\"\")\n",
        "  n = len(plaintext)\n",
        "\n",
        "  # calculating plaintext_ascii_matrix\n",
        "  plaintext_ascii_matrix = np.zeros((n,1))\n",
        "  for i in range(n):\n",
        "    plaintext_ascii_matrix[i][0] = int(ord(plaintext[i]))\n",
        "  plaintext_ascii_matrix = plaintext_ascii_matrix % 65\n",
        "\n",
        "  # calculating ciphertext_ascii_matrix\n",
        "  ciphertext_ascii_matrix = np.dot(key_string_ascii_matrix, plaintext_ascii_matrix)\n",
        "  ciphertext_ascii_matrix = ciphertext_ascii_matrix % 26\n",
        "\n",
        "  # generating cipher text\n",
        "  ciphertext = \"\"\n",
        "  for i in range(n):\n",
        "    ciphertext += chr(int(ciphertext_ascii_matrix[i][0]) + ord('A'))\n",
        "  return ciphertext"
      ],
      "metadata": {
        "id": "Bjmhv_uhD6FA"
      },
      "execution_count": 69,
      "outputs": []
    },
    {
      "cell_type": "code",
      "source": [
        "'''\n",
        "  the decryption function takes ciphertext and keystring as input\n",
        "  let n = sizeof(ciphertext)\n",
        "  we need to create nx1 matrix by taking ascii values of each character of ciphertext\n",
        "  we then need to calculate multiplicative modular inverse of our key_string_ascii_matrix\n",
        "  we then multiply key_string_ascii_matrix_inv and ciphertext_ascii_matrix to get plaintext_ascii_matrix\n",
        "  from plaintext_ascii_matrix, we derive our plaintext\n",
        "'''\n",
        "\n",
        "\n",
        "def decryption(ciphertext, keystring):\n",
        "  key_string_ascii_matrix = calc_key_string_ascii_matrix(keystring)\n",
        "  ciphertext = ciphertext.replace(\" \",\"\")\n",
        "  n = len(ciphertext)\n",
        "\n",
        "  # calculating ciphertext_ascii_matrix\n",
        "  ciphertext_ascii_matrix = np.zeros((n,1))\n",
        "  for i in range(n):\n",
        "    ciphertext_ascii_matrix[i][0] = int(ord(ciphertext[i]))\n",
        "  ciphertext_ascii_matrix = ciphertext_ascii_matrix % 65\n",
        "\n",
        "  # inverse of key_string_ascii_matrix\n",
        "  det_key_string_ascii_matrix = np.linalg.det(key_string_ascii_matrix)\n",
        "  key_string_ascii_matrix_inv = pow(int(det_key_string_ascii_matrix), -1, 26)\n",
        "  adj_key_string_ascii_matrix = np.linalg.inv(key_string_ascii_matrix) * det_key_string_ascii_matrix\n",
        "  key_string_ascii_matrix_inv = (adj_key_string_ascii_matrix * key_string_ascii_matrix_inv) % 26\n",
        "\n",
        "  # calculating plaintext_ascii_matrix\n",
        "  plaintext_ascii_matrix = np.dot(key_string_ascii_matrix_inv, ciphertext_ascii_matrix)\n",
        "  plaintext_ascii_matrix = np.round(plaintext_ascii_matrix)\n",
        "  plaintext_ascii_matrix = plaintext_ascii_matrix.astype(np.int64)\n",
        "  plaintext_ascii_matrix = plaintext_ascii_matrix % 26\n",
        "\n",
        "  # generating plain text\n",
        "  plaintext = \"\"\n",
        "  for i in range(n):\n",
        "    plaintext += chr(int(plaintext_ascii_matrix[i][0]) + ord('A'))\n",
        "  return plaintext"
      ],
      "metadata": {
        "id": "1rm8voH1Hgm3"
      },
      "execution_count": 70,
      "outputs": []
    },
    {
      "cell_type": "code",
      "source": [
        "while True:\n",
        "  print(\"0. break\\n1. encryption\\n2. decryption\\n\")\n",
        "  choice = input(\"enter your choice : \")\n",
        "  if(choice==\"0\"):\n",
        "    break\n",
        "  elif(choice==\"1\"):\n",
        "    plaintext = input(\"enter your plain text : \")\n",
        "    plaintext = plaintext.upper()\n",
        "    keystring = input(\"enter your keystring : \")\n",
        "    keystring = keystring.upper()\n",
        "    ciphertext = encryption(plaintext, keystring)\n",
        "    print_result(plaintext, ciphertext, \"ciphertext\", \"plaintext\")\n",
        "  else:\n",
        "    ciphertext = input(\"enter your cipher text : \")\n",
        "    ciphertext = ciphertext.upper()\n",
        "    keystring = input(\"enter your keystring : \")\n",
        "    keystring = keystring.upper()\n",
        "    plaintext = decryption(ciphertext, keystring)\n",
        "    print_result(ciphertext, plaintext, \"plaintext\", \"ciphertext\")"
      ],
      "metadata": {
        "colab": {
          "base_uri": "https://localhost:8080/"
        },
        "id": "YyQu-ZXshL2e",
        "outputId": "8d02394d-355e-499f-a858-6781e19f7755"
      },
      "execution_count": 75,
      "outputs": [
        {
          "name": "stdout",
          "output_type": "stream",
          "text": [
            "0. break\n",
            "1. encryption\n",
            "2. decryption\n",
            "\n",
            "enter your choice : 1\n",
            "enter your plain text : SUST CSE\n",
            "enter your keystring : AWESOME INTRODUCTION TO COMPUTER SECURITY AND FORENSICS\n",
            "\n",
            "ciphertext of your given plaintext is : WJCT KZU\n",
            "\n",
            "0. break\n",
            "1. encryption\n",
            "2. decryption\n",
            "\n",
            "enter your choice : 2\n",
            "enter your cipher text : POH\n",
            "enter your keystring : GYBNQKURP\n",
            "\n",
            "plaintext of your given ciphertext is : ACT\n",
            "\n",
            "0. break\n",
            "1. encryption\n",
            "2. decryption\n",
            "\n",
            "enter your choice : 0\n"
          ]
        }
      ]
    },
    {
      "cell_type": "markdown",
      "source": [
        "<b>Here keystring \"AWESOME INTRODUCTION TO COMPUTER SECURITY AND FORENSICS\" can't be converted to muliplicative modular inverse.\n",
        "That's why we use different example to show our decryption functionality. The example is taken from the lecture slide.\n",
        "</b>"
      ],
      "metadata": {
        "id": "_4gaVWwxkGd7"
      }
    }
  ]
}