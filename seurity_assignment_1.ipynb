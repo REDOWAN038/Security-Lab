{
  "nbformat": 4,
  "nbformat_minor": 0,
  "metadata": {
    "colab": {
      "provenance": [],
      "collapsed_sections": [
        "ju8bFe3btyPU",
        "sVyE9eNc2gE_",
        "OZouv1O47U1n",
        "5xNroxD-EIiP",
        "glr5c6CXBqS7"
      ],
      "authorship_tag": "ABX9TyMF9cdJ2vQDyh1E3bnCPCFf"
    },
    "kernelspec": {
      "name": "python3",
      "display_name": "Python 3"
    },
    "language_info": {
      "name": "python"
    }
  },
  "cells": [
    {
      "cell_type": "markdown",
      "source": [
        "# <ins>Task - 01(A)</ins>"
      ],
      "metadata": {
        "id": "ju8bFe3btyPU"
      }
    },
    {
      "cell_type": "code",
      "source": [
        "def decryption(ciphertext,key):\n",
        "    plaintext = \"\"\n",
        "    for i in range(len(ciphertext)):\n",
        "        ch = ciphertext[i]\n",
        "        if(ch.isupper()):\n",
        "            plaintext += chr((ord(ch) - (key-65)) % 26 + 65)\n",
        "        elif(ch.islower()):\n",
        "            plaintext += chr((ord(ch) - (key-97)) % 26 + 97)\n",
        "        else:\n",
        "          plaintext+=ch\n",
        "    return plaintext"
      ],
      "metadata": {
        "id": "RO0Ra9Wzt29T"
      },
      "execution_count": 56,
      "outputs": []
    },
    {
      "cell_type": "markdown",
      "source": [
        "# <ins>Task - 01(B)</ins>"
      ],
      "metadata": {
        "id": "sVyE9eNc2gE_"
      }
    },
    {
      "cell_type": "code",
      "source": [
        "ciphertext = \"XNZ XVMIDQVG VO DDXO WPDGYDIB NPNO DN BJDIB OJ WZ BMZVO VBVDI.\""
      ],
      "metadata": {
        "id": "2omhU80puf-Y"
      },
      "execution_count": 57,
      "outputs": []
    },
    {
      "cell_type": "code",
      "source": [
        "# key = 1\n",
        "print(\"Plain Text : \",decryption(ciphertext,1))"
      ],
      "metadata": {
        "colab": {
          "base_uri": "https://localhost:8080/"
        },
        "id": "KwGi44gHvC1f",
        "outputId": "0b089cc1-6c47-4e7f-8ca9-ec3898f9dc50"
      },
      "execution_count": 58,
      "outputs": [
        {
          "output_type": "stream",
          "name": "stdout",
          "text": [
            "Plain Text :  WMY WULHCPUF UN CCWN VOCFXCHA MOMN CM AICHA NI VY ALYUN UAUCH.\n"
          ]
        }
      ]
    },
    {
      "cell_type": "code",
      "source": [
        "# key = 2\n",
        "print(\"Plain Text : \",decryption(ciphertext,2))"
      ],
      "metadata": {
        "colab": {
          "base_uri": "https://localhost:8080/"
        },
        "id": "R6sMOzn1x9kH",
        "outputId": "4bb7d813-c0e6-4800-b4a2-3290fea8536c"
      },
      "execution_count": 59,
      "outputs": [
        {
          "output_type": "stream",
          "name": "stdout",
          "text": [
            "Plain Text :  VLX VTKGBOTE TM BBVM UNBEWBGZ LNLM BL ZHBGZ MH UX ZKXTM TZTBG.\n"
          ]
        }
      ]
    },
    {
      "cell_type": "code",
      "source": [
        "# key = 3\n",
        "print(\"Plain Text : \",decryption(ciphertext,3))"
      ],
      "metadata": {
        "colab": {
          "base_uri": "https://localhost:8080/"
        },
        "id": "FwNGNNwWyAob",
        "outputId": "aa8439ba-ec47-4826-9b7a-8dbf3e9f077d"
      },
      "execution_count": 60,
      "outputs": [
        {
          "output_type": "stream",
          "name": "stdout",
          "text": [
            "Plain Text :  UKW USJFANSD SL AAUL TMADVAFY KMKL AK YGAFY LG TW YJWSL SYSAF.\n"
          ]
        }
      ]
    },
    {
      "cell_type": "code",
      "source": [
        "# key = 4\n",
        "print(\"Plain Text : \",decryption(ciphertext,4))"
      ],
      "metadata": {
        "colab": {
          "base_uri": "https://localhost:8080/"
        },
        "id": "R1D0wPagyDOZ",
        "outputId": "79dbac41-19ff-4e31-9099-e11d61784767"
      },
      "execution_count": 61,
      "outputs": [
        {
          "output_type": "stream",
          "name": "stdout",
          "text": [
            "Plain Text :  TJV TRIEZMRC RK ZZTK SLZCUZEX JLJK ZJ XFZEX KF SV XIVRK RXRZE.\n"
          ]
        }
      ]
    },
    {
      "cell_type": "code",
      "source": [
        "# key = 5\n",
        "print(\"Plain Text : \",decryption(ciphertext,5))"
      ],
      "metadata": {
        "colab": {
          "base_uri": "https://localhost:8080/"
        },
        "id": "S38H9YAOyGBh",
        "outputId": "07a08a6f-bbd0-4ccd-8135-31c8816516ac"
      },
      "execution_count": 62,
      "outputs": [
        {
          "output_type": "stream",
          "name": "stdout",
          "text": [
            "Plain Text :  SIU SQHDYLQB QJ YYSJ RKYBTYDW IKIJ YI WEYDW JE RU WHUQJ QWQYD.\n"
          ]
        }
      ]
    },
    {
      "cell_type": "code",
      "source": [
        "# key = 6\n",
        "print(\"Plain Text : \",decryption(ciphertext,6))"
      ],
      "metadata": {
        "colab": {
          "base_uri": "https://localhost:8080/"
        },
        "id": "QKqkqB35yIgl",
        "outputId": "646ed5cc-1464-4192-94b0-7120dcc59aad"
      },
      "execution_count": 63,
      "outputs": [
        {
          "output_type": "stream",
          "name": "stdout",
          "text": [
            "Plain Text :  RHT RPGCXKPA PI XXRI QJXASXCV HJHI XH VDXCV ID QT VGTPI PVPXC.\n"
          ]
        }
      ]
    },
    {
      "cell_type": "code",
      "source": [
        "# key = 7\n",
        "print(\"Plain Text : \",decryption(ciphertext,7))"
      ],
      "metadata": {
        "colab": {
          "base_uri": "https://localhost:8080/"
        },
        "id": "qRlLX1KyyLhT",
        "outputId": "7c2eeb94-187c-4522-dfda-67f45986ed8e"
      },
      "execution_count": 64,
      "outputs": [
        {
          "output_type": "stream",
          "name": "stdout",
          "text": [
            "Plain Text :  QGS QOFBWJOZ OH WWQH PIWZRWBU GIGH WG UCWBU HC PS UFSOH OUOWB.\n"
          ]
        }
      ]
    },
    {
      "cell_type": "code",
      "source": [
        "# key = 8\n",
        "print(\"Plain Text : \",decryption(ciphertext,8))"
      ],
      "metadata": {
        "colab": {
          "base_uri": "https://localhost:8080/"
        },
        "id": "gaHP2sApyOLb",
        "outputId": "46a7f49d-d387-4d7a-dc38-5c67bdd4d519"
      },
      "execution_count": 65,
      "outputs": [
        {
          "output_type": "stream",
          "name": "stdout",
          "text": [
            "Plain Text :  PFR PNEAVINY NG VVPG OHVYQVAT FHFG VF TBVAT GB OR TERNG NTNVA.\n"
          ]
        }
      ]
    },
    {
      "cell_type": "code",
      "source": [
        "# key = 9\n",
        "print(\"Plain Text : \",decryption(ciphertext,9))"
      ],
      "metadata": {
        "colab": {
          "base_uri": "https://localhost:8080/"
        },
        "id": "g_v_G0gayQbi",
        "outputId": "01662b62-3950-4bbf-e060-30eaf0b78de2"
      },
      "execution_count": 66,
      "outputs": [
        {
          "output_type": "stream",
          "name": "stdout",
          "text": [
            "Plain Text :  OEQ OMDZUHMX MF UUOF NGUXPUZS EGEF UE SAUZS FA NQ SDQMF MSMUZ.\n"
          ]
        }
      ]
    },
    {
      "cell_type": "code",
      "source": [
        "# key = 10\n",
        "print(\"Plain Text : \",decryption(ciphertext,10))"
      ],
      "metadata": {
        "colab": {
          "base_uri": "https://localhost:8080/"
        },
        "id": "RlywALJFySTO",
        "outputId": "e4dfc8aa-05d1-4938-9030-68b86249f314"
      },
      "execution_count": 67,
      "outputs": [
        {
          "output_type": "stream",
          "name": "stdout",
          "text": [
            "Plain Text :  NDP NLCYTGLW LE TTNE MFTWOTYR DFDE TD RZTYR EZ MP RCPLE LRLTY.\n"
          ]
        }
      ]
    },
    {
      "cell_type": "code",
      "source": [
        "# key = 11\n",
        "print(\"Plain Text : \",decryption(ciphertext,11))"
      ],
      "metadata": {
        "colab": {
          "base_uri": "https://localhost:8080/"
        },
        "id": "893fMaiOyU3F",
        "outputId": "bca5061c-2a00-4022-cadc-4167462a9b3e"
      },
      "execution_count": 68,
      "outputs": [
        {
          "output_type": "stream",
          "name": "stdout",
          "text": [
            "Plain Text :  MCO MKBXSFKV KD SSMD LESVNSXQ CECD SC QYSXQ DY LO QBOKD KQKSX.\n"
          ]
        }
      ]
    },
    {
      "cell_type": "code",
      "source": [
        "# key = 12\n",
        "print(\"Plain Text : \",decryption(ciphertext,12))"
      ],
      "metadata": {
        "colab": {
          "base_uri": "https://localhost:8080/"
        },
        "id": "CvYRtWpqyXD1",
        "outputId": "7756bd62-e7a8-408f-d852-c80f8a8452b2"
      },
      "execution_count": 69,
      "outputs": [
        {
          "output_type": "stream",
          "name": "stdout",
          "text": [
            "Plain Text :  LBN LJAWREJU JC RRLC KDRUMRWP BDBC RB PXRWP CX KN PANJC JPJRW.\n"
          ]
        }
      ]
    },
    {
      "cell_type": "code",
      "source": [
        "# key = 13\n",
        "print(\"Plain Text : \",decryption(ciphertext,13))"
      ],
      "metadata": {
        "colab": {
          "base_uri": "https://localhost:8080/"
        },
        "id": "gHohfg_ayZJv",
        "outputId": "1f989530-5874-4d51-91d1-fd0e7e6e059e"
      },
      "execution_count": 70,
      "outputs": [
        {
          "output_type": "stream",
          "name": "stdout",
          "text": [
            "Plain Text :  KAM KIZVQDIT IB QQKB JCQTLQVO ACAB QA OWQVO BW JM OZMIB IOIQV.\n"
          ]
        }
      ]
    },
    {
      "cell_type": "code",
      "source": [
        "# key = 14\n",
        "print(\"Plain Text : \",decryption(ciphertext,14))"
      ],
      "metadata": {
        "colab": {
          "base_uri": "https://localhost:8080/"
        },
        "id": "3u5V-5V7y0Hf",
        "outputId": "a46cdb06-0db0-4dbd-df48-812846ec9117"
      },
      "execution_count": 71,
      "outputs": [
        {
          "output_type": "stream",
          "name": "stdout",
          "text": [
            "Plain Text :  JZL JHYUPCHS HA PPJA IBPSKPUN ZBZA PZ NVPUN AV IL NYLHA HNHPU.\n"
          ]
        }
      ]
    },
    {
      "cell_type": "code",
      "source": [
        "# key = 15\n",
        "print(\"Plain Text : \",decryption(ciphertext,15))"
      ],
      "metadata": {
        "colab": {
          "base_uri": "https://localhost:8080/"
        },
        "id": "0wA0JSGzy2xN",
        "outputId": "dfade37f-91a8-4b74-d9d2-a2bfb43874ac"
      },
      "execution_count": 72,
      "outputs": [
        {
          "output_type": "stream",
          "name": "stdout",
          "text": [
            "Plain Text :  IYK IGXTOBGR GZ OOIZ HAORJOTM YAYZ OY MUOTM ZU HK MXKGZ GMGOT.\n"
          ]
        }
      ]
    },
    {
      "cell_type": "code",
      "source": [
        "# key = 16\n",
        "print(\"Plain Text : \",decryption(ciphertext,16))"
      ],
      "metadata": {
        "colab": {
          "base_uri": "https://localhost:8080/"
        },
        "id": "ApGlUXmRy5cv",
        "outputId": "aa0a6a1e-af86-4fe8-eb69-a5c063567651"
      },
      "execution_count": 73,
      "outputs": [
        {
          "output_type": "stream",
          "name": "stdout",
          "text": [
            "Plain Text :  HXJ HFWSNAFQ FY NNHY GZNQINSL XZXY NX LTNSL YT GJ LWJFY FLFNS.\n"
          ]
        }
      ]
    },
    {
      "cell_type": "code",
      "source": [
        "# key = 17\n",
        "print(\"Plain Text : \",decryption(ciphertext,17))"
      ],
      "metadata": {
        "colab": {
          "base_uri": "https://localhost:8080/"
        },
        "id": "H_DvnRjWy7jv",
        "outputId": "6f371c61-4ad3-459b-cde1-dcfc46b69789"
      },
      "execution_count": 74,
      "outputs": [
        {
          "output_type": "stream",
          "name": "stdout",
          "text": [
            "Plain Text :  GWI GEVRMZEP EX MMGX FYMPHMRK WYWX MW KSMRK XS FI KVIEX EKEMR.\n"
          ]
        }
      ]
    },
    {
      "cell_type": "code",
      "source": [
        "# key = 18\n",
        "print(\"Plain Text : \",decryption(ciphertext,18))"
      ],
      "metadata": {
        "colab": {
          "base_uri": "https://localhost:8080/"
        },
        "id": "S9oKMIEyy_Oy",
        "outputId": "9ce2b304-99dc-4b5d-a3e4-b917c23291b5"
      },
      "execution_count": 75,
      "outputs": [
        {
          "output_type": "stream",
          "name": "stdout",
          "text": [
            "Plain Text :  FVH FDUQLYDO DW LLFW EXLOGLQJ VXVW LV JRLQJ WR EH JUHDW DJDLQ.\n"
          ]
        }
      ]
    },
    {
      "cell_type": "code",
      "source": [
        "# key = 19\n",
        "print(\"Plain Text : \",decryption(ciphertext,19))"
      ],
      "metadata": {
        "colab": {
          "base_uri": "https://localhost:8080/"
        },
        "id": "YAka9PHKzCB7",
        "outputId": "97497691-5ff3-4f25-914a-e5cc4e841240"
      },
      "execution_count": 76,
      "outputs": [
        {
          "output_type": "stream",
          "name": "stdout",
          "text": [
            "Plain Text :  EUG ECTPKXCN CV KKEV DWKNFKPI UWUV KU IQKPI VQ DG ITGCV CICKP.\n"
          ]
        }
      ]
    },
    {
      "cell_type": "code",
      "source": [
        "# key = 20\n",
        "print(\"Plain Text : \",decryption(ciphertext,20))"
      ],
      "metadata": {
        "colab": {
          "base_uri": "https://localhost:8080/"
        },
        "id": "dYkOYY8pzDtA",
        "outputId": "48eec8ab-523f-4ad8-99c4-f169ac175e80"
      },
      "execution_count": 77,
      "outputs": [
        {
          "output_type": "stream",
          "name": "stdout",
          "text": [
            "Plain Text :  DTF DBSOJWBM BU JJDU CVJMEJOH TVTU JT HPJOH UP CF HSFBU BHBJO.\n"
          ]
        }
      ]
    },
    {
      "cell_type": "code",
      "source": [
        "# key = 21\n",
        "print(\"Plain Text : \",decryption(ciphertext,21))"
      ],
      "metadata": {
        "colab": {
          "base_uri": "https://localhost:8080/"
        },
        "id": "woZ_ltJozG1y",
        "outputId": "e46d52a3-d22c-4766-cc53-7e9d735412f9"
      },
      "execution_count": 78,
      "outputs": [
        {
          "output_type": "stream",
          "name": "stdout",
          "text": [
            "Plain Text :  CSE CARNIVAL AT IICT BUILDING SUST IS GOING TO BE GREAT AGAIN.\n"
          ]
        }
      ]
    },
    {
      "cell_type": "markdown",
      "source": [
        "**when we use key 21, we are getting a sentence which is not a grabage**"
      ],
      "metadata": {
        "id": "v5dyxxBGz5aN"
      }
    },
    {
      "cell_type": "markdown",
      "source": [
        "# <ins>Task - 02(A)</ins>"
      ],
      "metadata": {
        "id": "OZouv1O47U1n"
      }
    },
    {
      "cell_type": "code",
      "source": [
        "# function for substitution cipher\n",
        "\n",
        "def substitution_cipher(ciphertext, mapping):\n",
        "  plaintext = \"\"\n",
        "  for c in ciphertext:\n",
        "    if c.isalpha():\n",
        "      if c in mapping:\n",
        "        plaintext+=mapping[c]\n",
        "      else:\n",
        "        plaintext+='*'\n",
        "    else:\n",
        "      plaintext+=c\n",
        "\n",
        "  return plaintext"
      ],
      "metadata": {
        "id": "g_ccuFzx7-PA"
      },
      "execution_count": 25,
      "outputs": []
    },
    {
      "cell_type": "code",
      "source": [
        "# printing plaintext and ciphertext\n",
        "\n",
        "def print_result(text, words_per_line):\n",
        "  cnt=0\n",
        "  for c in text:\n",
        "    print(c, end='')\n",
        "    if(c==' '):\n",
        "      cnt+=1\n",
        "    if(cnt==words_per_line):\n",
        "      print(\"\\n\")\n",
        "      cnt=0\n",
        "\n",
        "  print(\"\\n\\n\")"
      ],
      "metadata": {
        "id": "oZjQGkYw8r93"
      },
      "execution_count": 26,
      "outputs": []
    },
    {
      "cell_type": "code",
      "source": [
        "from collections import Counter\n",
        "\n",
        "def calc_frequency(text):\n",
        "    frequency = Counter(text)\n",
        "    sorted_characters = sorted(frequency.items(), key=lambda x: x[1], reverse=True)\n",
        "\n",
        "    for char, freq in sorted_characters:\n",
        "        print(f\"Character: {char}, Frequency: {freq}\")"
      ],
      "metadata": {
        "id": "jtSFxJ_d-RGK"
      },
      "execution_count": 27,
      "outputs": []
    },
    {
      "cell_type": "code",
      "source": [
        "ciphertext = \"gtd bsvgl vf fgedsugt dffml dkcymvsf gtmg gtd chjde ha aevdsxftvc tdycf \\\n",
        "bf gh id fgehsu aehz tmexftvcf. aevdsxf qms uvod bf gtd fgedsugt jd sddx \\\n",
        "jtds yvad udgf ghbut. vs mxxvgvhs, cdhcyd dkcedff bsvgl gtehbut \\\n",
        "yhod,amzvyl, aevdsxf, msx hgtdef ftmed fghevdf ha avsxvsu qhzzhs \\\n",
        "uehbsx jvgt fhzdhsd.gtded med zmsl idsdavgf ha fgmlvsu bsvgdx vs \\\n",
        "ghbut gvzdf, mf vg tdycf gh amqd qtmyydsuvsu fvgbmgvhsf jvgt \\\n",
        "qhbemud. gtd vzchegmsqd ha fgmlvsu bsvgdx tmf fgebqp m qthex mzhsu \\\n",
        "zmsl cdhcyd gtehbuthbg tvfghel.pddcvsu zdzhevdf ha jtmg jd tmod \\\n",
        "mqqhzcyvftdx gtehbuthbg tvfghel qms tdyc bf fdd thj vsxvovxbmyf msx \\\n",
        "qhzzbsvgvdf tmod cdefdodedx gtehbut ghbut gvzdf msx vsgh m ievutgde \\\n",
        "abgbed.\"\n",
        "\n",
        "mapping = {}\n",
        "words_per_line = 10\n",
        "plaintext = substitution_cipher(ciphertext, mapping)\n",
        "print_result(ciphertext, words_per_line)\n",
        "print_result(plaintext, words_per_line)"
      ],
      "metadata": {
        "colab": {
          "base_uri": "https://localhost:8080/"
        },
        "id": "B7w1_MAs7Z0C",
        "outputId": "93d8bbd3-41ee-46cc-c01c-ae3636a1b37a"
      },
      "execution_count": 28,
      "outputs": [
        {
          "output_type": "stream",
          "name": "stdout",
          "text": [
            "gtd bsvgl vf fgedsugt dffml dkcymvsf gtmg gtd chjde ha \n",
            "\n",
            "aevdsxftvc tdycf bf gh id fgehsu aehz tmexftvcf. aevdsxf qms \n",
            "\n",
            "uvod bf gtd fgedsugt jd sddx jtds yvad udgf ghbut. \n",
            "\n",
            "vs mxxvgvhs, cdhcyd dkcedff bsvgl gtehbut yhod,amzvyl, aevdsxf, msx hgtdef \n",
            "\n",
            "ftmed fghevdf ha avsxvsu qhzzhs uehbsx jvgt fhzdhsd.gtded med zmsl \n",
            "\n",
            "idsdavgf ha fgmlvsu bsvgdx vs ghbut gvzdf, mf vg tdycf \n",
            "\n",
            "gh amqd qtmyydsuvsu fvgbmgvhsf jvgt qhbemud. gtd vzchegmsqd ha fgmlvsu \n",
            "\n",
            "bsvgdx tmf fgebqp m qthex mzhsu zmsl cdhcyd gtehbuthbg tvfghel.pddcvsu \n",
            "\n",
            "zdzhevdf ha jtmg jd tmod mqqhzcyvftdx gtehbuthbg tvfghel qms tdyc \n",
            "\n",
            "bf fdd thj vsxvovxbmyf msx qhzzbsvgvdf tmod cdefdodedx gtehbut ghbut \n",
            "\n",
            "gvzdf msx vsgh m ievutgde abgbed.\n",
            "\n",
            "\n",
            "*** ***** ** ******** ***** ******** **** *** ***** ** \n",
            "\n",
            "********** ***** ** ** ** ****** **** *********. ******* *** \n",
            "\n",
            "**** ** *** ******** ** **** **** **** **** *****. \n",
            "\n",
            "** ********, ****** ******* ***** ******* ****,******, *******, *** ****** \n",
            "\n",
            "***** ******* ** ******* ****** ****** **** *******.***** *** **** \n",
            "\n",
            "******** ** ******* ****** ** ***** *****, ** ** ***** \n",
            "\n",
            "** **** *********** ********** **** *******. *** ********** ** ******* \n",
            "\n",
            "****** *** ****** * ***** ***** **** ****** ********** *******.******* \n",
            "\n",
            "******** ** **** ** **** ************ ********** ******* *** **** \n",
            "\n",
            "** *** *** *********** *** *********** **** ********** ******* ***** \n",
            "\n",
            "***** *** **** * ******** ******.\n",
            "\n",
            "\n"
          ]
        }
      ]
    },
    {
      "cell_type": "code",
      "source": [
        "calc_frequency(ciphertext)"
      ],
      "metadata": {
        "colab": {
          "base_uri": "https://localhost:8080/"
        },
        "id": "zTKqY1OO-KMb",
        "outputId": "61d71c83-9204-4b3f-cd11-d6d8b0f7d4d5"
      },
      "execution_count": 29,
      "outputs": [
        {
          "output_type": "stream",
          "name": "stdout",
          "text": [
            "Character:  , Frequency: 105\n",
            "Character: d, Frequency: 65\n",
            "Character: g, Frequency: 50\n",
            "Character: v, Frequency: 45\n",
            "Character: f, Frequency: 43\n",
            "Character: h, Frequency: 42\n",
            "Character: t, Frequency: 41\n",
            "Character: s, Frequency: 40\n",
            "Character: e, Frequency: 32\n",
            "Character: m, Frequency: 32\n",
            "Character: b, Frequency: 24\n",
            "Character: u, Frequency: 22\n",
            "Character: x, Frequency: 19\n",
            "Character: c, Frequency: 16\n",
            "Character: z, Frequency: 16\n",
            "Character: a, Frequency: 15\n",
            "Character: y, Frequency: 13\n",
            "Character: q, Frequency: 12\n",
            "Character: l, Frequency: 10\n",
            "Character: j, Frequency: 8\n",
            "Character: ., Frequency: 6\n",
            "Character: o, Frequency: 6\n",
            "Character: ,, Frequency: 5\n",
            "Character: i, Frequency: 3\n",
            "Character: k, Frequency: 2\n",
            "Character: p, Frequency: 2\n"
          ]
        }
      ]
    },
    {
      "cell_type": "code",
      "source": [
        "# here we can see that character \"m\" is a single letter word. let's use 'a' for 'm'\n",
        "mapping = {'m':'a'}\n",
        "words_per_line = 10\n",
        "plaintext = substitution_cipher(ciphertext, mapping)\n",
        "print_result(ciphertext, words_per_line)\n",
        "print_result(plaintext, words_per_line)"
      ],
      "metadata": {
        "colab": {
          "base_uri": "https://localhost:8080/"
        },
        "id": "yUeVYNe7Agyt",
        "outputId": "f810e54d-84af-4887-931a-bd86d74c4b48"
      },
      "execution_count": 30,
      "outputs": [
        {
          "output_type": "stream",
          "name": "stdout",
          "text": [
            "gtd bsvgl vf fgedsugt dffml dkcymvsf gtmg gtd chjde ha \n",
            "\n",
            "aevdsxftvc tdycf bf gh id fgehsu aehz tmexftvcf. aevdsxf qms \n",
            "\n",
            "uvod bf gtd fgedsugt jd sddx jtds yvad udgf ghbut. \n",
            "\n",
            "vs mxxvgvhs, cdhcyd dkcedff bsvgl gtehbut yhod,amzvyl, aevdsxf, msx hgtdef \n",
            "\n",
            "ftmed fghevdf ha avsxvsu qhzzhs uehbsx jvgt fhzdhsd.gtded med zmsl \n",
            "\n",
            "idsdavgf ha fgmlvsu bsvgdx vs ghbut gvzdf, mf vg tdycf \n",
            "\n",
            "gh amqd qtmyydsuvsu fvgbmgvhsf jvgt qhbemud. gtd vzchegmsqd ha fgmlvsu \n",
            "\n",
            "bsvgdx tmf fgebqp m qthex mzhsu zmsl cdhcyd gtehbuthbg tvfghel.pddcvsu \n",
            "\n",
            "zdzhevdf ha jtmg jd tmod mqqhzcyvftdx gtehbuthbg tvfghel qms tdyc \n",
            "\n",
            "bf fdd thj vsxvovxbmyf msx qhzzbsvgvdf tmod cdefdodedx gtehbut ghbut \n",
            "\n",
            "gvzdf msx vsgh m ievutgde abgbed.\n",
            "\n",
            "\n",
            "*** ***** ** ******** ***a* ****a*** **a* *** ***** ** \n",
            "\n",
            "********** ***** ** ** ** ****** **** *a*******. ******* *a* \n",
            "\n",
            "**** ** *** ******** ** **** **** **** **** *****. \n",
            "\n",
            "** a*******, ****** ******* ***** ******* ****,*a****, *******, a** ****** \n",
            "\n",
            "**a** ******* ** ******* ****** ****** **** *******.***** a** *a** \n",
            "\n",
            "******** ** **a**** ****** ** ***** *****, a* ** ***** \n",
            "\n",
            "** *a** **a******** ****a***** **** ****a**. *** ******a*** ** **a**** \n",
            "\n",
            "****** *a* ****** a ***** a**** *a** ****** ********** *******.******* \n",
            "\n",
            "******** ** **a* ** *a** a*********** ********** ******* *a* **** \n",
            "\n",
            "** *** *** ********a** a** *********** *a** ********** ******* ***** \n",
            "\n",
            "***** a** **** a ******** ******.\n",
            "\n",
            "\n"
          ]
        }
      ]
    },
    {
      "cell_type": "code",
      "source": [
        "# in line 6, word no 8, we are seeing a two letter word. from given hints we can consider the word as \"as\"\n",
        "\n",
        "mapping = {'m':'a', 'f':'s'}\n",
        "words_per_line = 10\n",
        "plaintext = substitution_cipher(ciphertext, mapping)\n",
        "print_result(ciphertext, words_per_line)\n",
        "print_result(plaintext, words_per_line)"
      ],
      "metadata": {
        "colab": {
          "base_uri": "https://localhost:8080/"
        },
        "id": "aTQF3InmBBEi",
        "outputId": "910585f8-498c-4a30-9955-061611abf46c"
      },
      "execution_count": 31,
      "outputs": [
        {
          "output_type": "stream",
          "name": "stdout",
          "text": [
            "gtd bsvgl vf fgedsugt dffml dkcymvsf gtmg gtd chjde ha \n",
            "\n",
            "aevdsxftvc tdycf bf gh id fgehsu aehz tmexftvcf. aevdsxf qms \n",
            "\n",
            "uvod bf gtd fgedsugt jd sddx jtds yvad udgf ghbut. \n",
            "\n",
            "vs mxxvgvhs, cdhcyd dkcedff bsvgl gtehbut yhod,amzvyl, aevdsxf, msx hgtdef \n",
            "\n",
            "ftmed fghevdf ha avsxvsu qhzzhs uehbsx jvgt fhzdhsd.gtded med zmsl \n",
            "\n",
            "idsdavgf ha fgmlvsu bsvgdx vs ghbut gvzdf, mf vg tdycf \n",
            "\n",
            "gh amqd qtmyydsuvsu fvgbmgvhsf jvgt qhbemud. gtd vzchegmsqd ha fgmlvsu \n",
            "\n",
            "bsvgdx tmf fgebqp m qthex mzhsu zmsl cdhcyd gtehbuthbg tvfghel.pddcvsu \n",
            "\n",
            "zdzhevdf ha jtmg jd tmod mqqhzcyvftdx gtehbuthbg tvfghel qms tdyc \n",
            "\n",
            "bf fdd thj vsxvovxbmyf msx qhzzbsvgvdf tmod cdefdodedx gtehbut ghbut \n",
            "\n",
            "gvzdf msx vsgh m ievutgde abgbed.\n",
            "\n",
            "\n",
            "*** ***** *s s******* *ssa* ****a**s **a* *** ***** ** \n",
            "\n",
            "******s*** ****s *s ** ** s***** **** *a**s***s. ******s *a* \n",
            "\n",
            "**** *s *** s******* ** **** **** **** ***s *****. \n",
            "\n",
            "** a*******, ****** *****ss ***** ******* ****,*a****, ******s, a** *****s \n",
            "\n",
            "s*a** s*****s ** ******* ****** ****** **** s******.***** a** *a** \n",
            "\n",
            "*******s ** s*a**** ****** ** ***** ****s, as ** ****s \n",
            "\n",
            "** *a** **a******** s***a****s **** ****a**. *** ******a*** ** s*a**** \n",
            "\n",
            "****** *as s***** a ***** a**** *a** ****** ********** **s****.******* \n",
            "\n",
            "*******s ** **a* ** *a** a*******s*** ********** **s**** *a* **** \n",
            "\n",
            "*s s** *** ********a*s a** **********s *a** ***s****** ******* ***** \n",
            "\n",
            "****s a** **** a ******** ******.\n",
            "\n",
            "\n"
          ]
        }
      ]
    },
    {
      "cell_type": "code",
      "source": [
        "# in line 1, word no 3, we are seeing a two letter word. from given hints we can consider the word as \"is\"\n",
        "\n",
        "mapping = {'m':'a', 'f':'s', 'v':'i'}\n",
        "words_per_line = 10\n",
        "plaintext = substitution_cipher(ciphertext, mapping)\n",
        "print_result(ciphertext, words_per_line)\n",
        "print_result(plaintext, words_per_line)"
      ],
      "metadata": {
        "colab": {
          "base_uri": "https://localhost:8080/"
        },
        "id": "HFHRkEsrCGGl",
        "outputId": "6fcd89f4-db13-43df-f03c-f06335a163f2"
      },
      "execution_count": 32,
      "outputs": [
        {
          "output_type": "stream",
          "name": "stdout",
          "text": [
            "gtd bsvgl vf fgedsugt dffml dkcymvsf gtmg gtd chjde ha \n",
            "\n",
            "aevdsxftvc tdycf bf gh id fgehsu aehz tmexftvcf. aevdsxf qms \n",
            "\n",
            "uvod bf gtd fgedsugt jd sddx jtds yvad udgf ghbut. \n",
            "\n",
            "vs mxxvgvhs, cdhcyd dkcedff bsvgl gtehbut yhod,amzvyl, aevdsxf, msx hgtdef \n",
            "\n",
            "ftmed fghevdf ha avsxvsu qhzzhs uehbsx jvgt fhzdhsd.gtded med zmsl \n",
            "\n",
            "idsdavgf ha fgmlvsu bsvgdx vs ghbut gvzdf, mf vg tdycf \n",
            "\n",
            "gh amqd qtmyydsuvsu fvgbmgvhsf jvgt qhbemud. gtd vzchegmsqd ha fgmlvsu \n",
            "\n",
            "bsvgdx tmf fgebqp m qthex mzhsu zmsl cdhcyd gtehbuthbg tvfghel.pddcvsu \n",
            "\n",
            "zdzhevdf ha jtmg jd tmod mqqhzcyvftdx gtehbuthbg tvfghel qms tdyc \n",
            "\n",
            "bf fdd thj vsxvovxbmyf msx qhzzbsvgvdf tmod cdefdodedx gtehbut ghbut \n",
            "\n",
            "gvzdf msx vsgh m ievutgde abgbed.\n",
            "\n",
            "\n",
            "*** **i** is s******* *ssa* ****ai*s **a* *** ***** ** \n",
            "\n",
            "**i***s*i* ****s *s ** ** s***** **** *a**s*i*s. **i***s *a* \n",
            "\n",
            "*i** *s *** s******* ** **** **** *i** ***s *****. \n",
            "\n",
            "i* a**i*i**, ****** *****ss **i** ******* ****,*a*i**, **i***s, a** *****s \n",
            "\n",
            "s*a** s***i*s ** *i**i** ****** ****** *i** s******.***** a** *a** \n",
            "\n",
            "*****i*s ** s*a*i** **i*** i* ***** *i**s, as i* ****s \n",
            "\n",
            "** *a** **a*****i** si**a*i**s *i** ****a**. *** i*****a*** ** s*a*i** \n",
            "\n",
            "**i*** *as s***** a ***** a**** *a** ****** ********** *is****.****i** \n",
            "\n",
            "*****i*s ** **a* ** *a** a******is*** ********** *is**** *a* **** \n",
            "\n",
            "*s s** *** i**i*i**a*s a** ******i*i*s *a** ***s****** ******* ***** \n",
            "\n",
            "*i**s a** i*** a **i***** ******.\n",
            "\n",
            "\n"
          ]
        }
      ]
    },
    {
      "cell_type": "code",
      "source": [
        "calc_frequency(ciphertext)"
      ],
      "metadata": {
        "colab": {
          "base_uri": "https://localhost:8080/"
        },
        "id": "Z5paEeRkCYQP",
        "outputId": "07e99010-21a7-4c80-966f-fe4e89c88178"
      },
      "execution_count": 33,
      "outputs": [
        {
          "output_type": "stream",
          "name": "stdout",
          "text": [
            "Character:  , Frequency: 105\n",
            "Character: d, Frequency: 65\n",
            "Character: g, Frequency: 50\n",
            "Character: v, Frequency: 45\n",
            "Character: f, Frequency: 43\n",
            "Character: h, Frequency: 42\n",
            "Character: t, Frequency: 41\n",
            "Character: s, Frequency: 40\n",
            "Character: e, Frequency: 32\n",
            "Character: m, Frequency: 32\n",
            "Character: b, Frequency: 24\n",
            "Character: u, Frequency: 22\n",
            "Character: x, Frequency: 19\n",
            "Character: c, Frequency: 16\n",
            "Character: z, Frequency: 16\n",
            "Character: a, Frequency: 15\n",
            "Character: y, Frequency: 13\n",
            "Character: q, Frequency: 12\n",
            "Character: l, Frequency: 10\n",
            "Character: j, Frequency: 8\n",
            "Character: ., Frequency: 6\n",
            "Character: o, Frequency: 6\n",
            "Character: ,, Frequency: 5\n",
            "Character: i, Frequency: 3\n",
            "Character: k, Frequency: 2\n",
            "Character: p, Frequency: 2\n"
          ]
        }
      ]
    },
    {
      "cell_type": "code",
      "source": [
        "# by frequency analysis let's map d=e\n",
        "\n",
        "mapping = {'m':'a', 'f':'s', 'v':'i', 'd':'e'}\n",
        "words_per_line = 10\n",
        "plaintext = substitution_cipher(ciphertext, mapping)\n",
        "print_result(ciphertext, words_per_line)\n",
        "print_result(plaintext, words_per_line)"
      ],
      "metadata": {
        "colab": {
          "base_uri": "https://localhost:8080/"
        },
        "id": "_JlzoyuvCpf3",
        "outputId": "ff2171fc-ed1b-418a-86a1-3ad2b0ec8cab"
      },
      "execution_count": 34,
      "outputs": [
        {
          "output_type": "stream",
          "name": "stdout",
          "text": [
            "gtd bsvgl vf fgedsugt dffml dkcymvsf gtmg gtd chjde ha \n",
            "\n",
            "aevdsxftvc tdycf bf gh id fgehsu aehz tmexftvcf. aevdsxf qms \n",
            "\n",
            "uvod bf gtd fgedsugt jd sddx jtds yvad udgf ghbut. \n",
            "\n",
            "vs mxxvgvhs, cdhcyd dkcedff bsvgl gtehbut yhod,amzvyl, aevdsxf, msx hgtdef \n",
            "\n",
            "ftmed fghevdf ha avsxvsu qhzzhs uehbsx jvgt fhzdhsd.gtded med zmsl \n",
            "\n",
            "idsdavgf ha fgmlvsu bsvgdx vs ghbut gvzdf, mf vg tdycf \n",
            "\n",
            "gh amqd qtmyydsuvsu fvgbmgvhsf jvgt qhbemud. gtd vzchegmsqd ha fgmlvsu \n",
            "\n",
            "bsvgdx tmf fgebqp m qthex mzhsu zmsl cdhcyd gtehbuthbg tvfghel.pddcvsu \n",
            "\n",
            "zdzhevdf ha jtmg jd tmod mqqhzcyvftdx gtehbuthbg tvfghel qms tdyc \n",
            "\n",
            "bf fdd thj vsxvovxbmyf msx qhzzbsvgvdf tmod cdefdodedx gtehbut ghbut \n",
            "\n",
            "gvzdf msx vsgh m ievutgde abgbed.\n",
            "\n",
            "\n",
            "**e **i** is s**e**** essa* e***ai*s **a* **e ***e* ** \n",
            "\n",
            "**ie**s*i* *e**s *s ** *e s***** **** *a**s*i*s. **ie**s *a* \n",
            "\n",
            "*i*e *s **e s**e**** *e *ee* **e* *i*e *e*s *****. \n",
            "\n",
            "i* a**i*i**, *e***e e***ess **i** ******* ***e,*a*i**, **ie**s, a** ***e*s \n",
            "\n",
            "s*a*e s***ies ** *i**i** ****** ****** *i** s**e**e.**e*e a*e *a** \n",
            "\n",
            "*e*e*i*s ** s*a*i** **i*e* i* ***** *i*es, as i* *e**s \n",
            "\n",
            "** *a*e **a**e**i** si**a*i**s *i** ****a*e. **e i*****a**e ** s*a*i** \n",
            "\n",
            "**i*e* *as s***** a ***** a**** *a** *e***e ********** *is****.*ee*i** \n",
            "\n",
            "*e***ies ** **a* *e *a*e a******is*e* ********** *is**** *a* *e** \n",
            "\n",
            "*s see *** i**i*i**a*s a** ******i*ies *a*e *e*se*e*e* ******* ***** \n",
            "\n",
            "*i*es a** i*** a **i***e* *****e.\n",
            "\n",
            "\n"
          ]
        }
      ]
    },
    {
      "cell_type": "code",
      "source": [
        "# line 1, word no 1, is ended by character 'e'.. we \"the\" is the most frequent 3 letter word and frequency od 'g' is second most.\n",
        "# so we can map g=t and t=h\n",
        "\n",
        "mapping = {'m':'a', 'f':'s', 'v':'i', 'd':'e', 'g':'t', 't':'h'}\n",
        "words_per_line = 10\n",
        "plaintext = substitution_cipher(ciphertext, mapping)\n",
        "print_result(ciphertext, words_per_line)\n",
        "print_result(plaintext, words_per_line)"
      ],
      "metadata": {
        "colab": {
          "base_uri": "https://localhost:8080/"
        },
        "id": "qv3CkR2cDOv9",
        "outputId": "76c7fd36-c566-4b93-df50-c4e28e8b943d"
      },
      "execution_count": 37,
      "outputs": [
        {
          "output_type": "stream",
          "name": "stdout",
          "text": [
            "gtd bsvgl vf fgedsugt dffml dkcymvsf gtmg gtd chjde ha \n",
            "\n",
            "aevdsxftvc tdycf bf gh id fgehsu aehz tmexftvcf. aevdsxf qms \n",
            "\n",
            "uvod bf gtd fgedsugt jd sddx jtds yvad udgf ghbut. \n",
            "\n",
            "vs mxxvgvhs, cdhcyd dkcedff bsvgl gtehbut yhod,amzvyl, aevdsxf, msx hgtdef \n",
            "\n",
            "ftmed fghevdf ha avsxvsu qhzzhs uehbsx jvgt fhzdhsd.gtded med zmsl \n",
            "\n",
            "idsdavgf ha fgmlvsu bsvgdx vs ghbut gvzdf, mf vg tdycf \n",
            "\n",
            "gh amqd qtmyydsuvsu fvgbmgvhsf jvgt qhbemud. gtd vzchegmsqd ha fgmlvsu \n",
            "\n",
            "bsvgdx tmf fgebqp m qthex mzhsu zmsl cdhcyd gtehbuthbg tvfghel.pddcvsu \n",
            "\n",
            "zdzhevdf ha jtmg jd tmod mqqhzcyvftdx gtehbuthbg tvfghel qms tdyc \n",
            "\n",
            "bf fdd thj vsxvovxbmyf msx qhzzbsvgvdf tmod cdefdodedx gtehbut ghbut \n",
            "\n",
            "gvzdf msx vsgh m ievutgde abgbed.\n",
            "\n",
            "\n",
            "the **it* is st*e**th essa* e***ai*s that the ***e* ** \n",
            "\n",
            "**ie**shi* he**s *s t* *e st**** **** ha**shi*s. **ie**s *a* \n",
            "\n",
            "*i*e *s the st*e**th *e *ee* *he* *i*e *ets t***h. \n",
            "\n",
            "i* a**iti**, *e***e e***ess **it* th****h ***e,*a*i**, **ie**s, a** *the*s \n",
            "\n",
            "sha*e st**ies ** *i**i** ****** ****** *ith s**e**e.the*e a*e *a** \n",
            "\n",
            "*e*e*its ** sta*i** **ite* i* t***h ti*es, as it he**s \n",
            "\n",
            "t* *a*e *ha**e**i** sit*ati**s *ith ****a*e. the i****ta**e ** sta*i** \n",
            "\n",
            "**ite* has st**** a *h*** a**** *a** *e***e th****h**t hist***.*ee*i** \n",
            "\n",
            "*e***ies ** *hat *e ha*e a******ishe* th****h**t hist*** *a* he** \n",
            "\n",
            "*s see h** i**i*i**a*s a** ******ities ha*e *e*se*e*e* th****h t***h \n",
            "\n",
            "ti*es a** i*t* a **i*hte* **t**e.\n",
            "\n",
            "\n"
          ]
        }
      ]
    },
    {
      "cell_type": "code",
      "source": [
        "calc_frequency(ciphertext)"
      ],
      "metadata": {
        "colab": {
          "base_uri": "https://localhost:8080/"
        },
        "id": "X5nNyXs6EhQr",
        "outputId": "f58119a3-81f3-4c62-ec02-da2dc5c58f44"
      },
      "execution_count": 38,
      "outputs": [
        {
          "output_type": "stream",
          "name": "stdout",
          "text": [
            "Character:  , Frequency: 105\n",
            "Character: d, Frequency: 65\n",
            "Character: g, Frequency: 50\n",
            "Character: v, Frequency: 45\n",
            "Character: f, Frequency: 43\n",
            "Character: h, Frequency: 42\n",
            "Character: t, Frequency: 41\n",
            "Character: s, Frequency: 40\n",
            "Character: e, Frequency: 32\n",
            "Character: m, Frequency: 32\n",
            "Character: b, Frequency: 24\n",
            "Character: u, Frequency: 22\n",
            "Character: x, Frequency: 19\n",
            "Character: c, Frequency: 16\n",
            "Character: z, Frequency: 16\n",
            "Character: a, Frequency: 15\n",
            "Character: y, Frequency: 13\n",
            "Character: q, Frequency: 12\n",
            "Character: l, Frequency: 10\n",
            "Character: j, Frequency: 8\n",
            "Character: ., Frequency: 6\n",
            "Character: o, Frequency: 6\n",
            "Character: ,, Frequency: 5\n",
            "Character: i, Frequency: 3\n",
            "Character: k, Frequency: 2\n",
            "Character: p, Frequency: 2\n"
          ]
        }
      ]
    },
    {
      "cell_type": "code",
      "source": [
        "# from frequency analysis the character 'h' comes 42 times\n",
        "# in line 1 word no 10, it's a two letter word\n",
        "# we know the word \"of\" is one of the most frequent two letter character\n",
        "# so we map h=o and a=f\n",
        "\n",
        "mapping = {'m':'a', 'f':'s', 'v':'i', 'd':'e', 'g':'t', 't':'h', 'h':'o', 'a':'f'}\n",
        "words_per_line = 10\n",
        "plaintext = substitution_cipher(ciphertext, mapping)\n",
        "print_result(ciphertext, words_per_line)\n",
        "print_result(plaintext, words_per_line)"
      ],
      "metadata": {
        "colab": {
          "base_uri": "https://localhost:8080/"
        },
        "id": "hzLXNZzuE5cp",
        "outputId": "78f9264f-d520-4c55-ebcb-59c8548353e6"
      },
      "execution_count": 39,
      "outputs": [
        {
          "output_type": "stream",
          "name": "stdout",
          "text": [
            "gtd bsvgl vf fgedsugt dffml dkcymvsf gtmg gtd chjde ha \n",
            "\n",
            "aevdsxftvc tdycf bf gh id fgehsu aehz tmexftvcf. aevdsxf qms \n",
            "\n",
            "uvod bf gtd fgedsugt jd sddx jtds yvad udgf ghbut. \n",
            "\n",
            "vs mxxvgvhs, cdhcyd dkcedff bsvgl gtehbut yhod,amzvyl, aevdsxf, msx hgtdef \n",
            "\n",
            "ftmed fghevdf ha avsxvsu qhzzhs uehbsx jvgt fhzdhsd.gtded med zmsl \n",
            "\n",
            "idsdavgf ha fgmlvsu bsvgdx vs ghbut gvzdf, mf vg tdycf \n",
            "\n",
            "gh amqd qtmyydsuvsu fvgbmgvhsf jvgt qhbemud. gtd vzchegmsqd ha fgmlvsu \n",
            "\n",
            "bsvgdx tmf fgebqp m qthex mzhsu zmsl cdhcyd gtehbuthbg tvfghel.pddcvsu \n",
            "\n",
            "zdzhevdf ha jtmg jd tmod mqqhzcyvftdx gtehbuthbg tvfghel qms tdyc \n",
            "\n",
            "bf fdd thj vsxvovxbmyf msx qhzzbsvgvdf tmod cdefdodedx gtehbut ghbut \n",
            "\n",
            "gvzdf msx vsgh m ievutgde abgbed.\n",
            "\n",
            "\n",
            "the **it* is st*e**th essa* e***ai*s that the *o*e* of \n",
            "\n",
            "f*ie**shi* he**s *s to *e st*o** f*o* ha**shi*s. f*ie**s *a* \n",
            "\n",
            "*i*e *s the st*e**th *e *ee* *he* *ife *ets to**h. \n",
            "\n",
            "i* a**itio*, *eo**e e***ess **it* th*o**h *o*e,fa*i**, f*ie**s, a** othe*s \n",
            "\n",
            "sha*e sto*ies of fi**i** *o**o* **o*** *ith so*eo*e.the*e a*e *a** \n",
            "\n",
            "*e*efits of sta*i** **ite* i* to**h ti*es, as it he**s \n",
            "\n",
            "to fa*e *ha**e**i** sit*atio*s *ith *o**a*e. the i**o*ta**e of sta*i** \n",
            "\n",
            "**ite* has st**** a *ho** a*o** *a** *eo**e th*o**ho*t histo**.*ee*i** \n",
            "\n",
            "*e*o*ies of *hat *e ha*e a**o***ishe* th*o**ho*t histo** *a* he** \n",
            "\n",
            "*s see ho* i**i*i**a*s a** *o****ities ha*e *e*se*e*e* th*o**h to**h \n",
            "\n",
            "ti*es a** i*to a **i*hte* f*t**e.\n",
            "\n",
            "\n"
          ]
        }
      ]
    },
    {
      "cell_type": "code",
      "source": [
        "# line 3, word no 2, is a two letter word\n",
        "# we know is,as,us those are some most frequent two letter word ends with 's'\n",
        "# let's map b=u\n",
        "\n",
        "mapping = {'m':'a', 'f':'s', 'v':'i', 'd':'e', 'g':'t', 't':'h', 'h':'o', 'a':'f', 'b':'u'}\n",
        "words_per_line = 10\n",
        "plaintext = substitution_cipher(ciphertext, mapping)\n",
        "print_result(ciphertext, words_per_line)\n",
        "print_result(plaintext, words_per_line)"
      ],
      "metadata": {
        "colab": {
          "base_uri": "https://localhost:8080/"
        },
        "id": "RYLWFWFNF0Os",
        "outputId": "6776ced8-6d1f-4938-afce-7c36f77ed87e"
      },
      "execution_count": 40,
      "outputs": [
        {
          "output_type": "stream",
          "name": "stdout",
          "text": [
            "gtd bsvgl vf fgedsugt dffml dkcymvsf gtmg gtd chjde ha \n",
            "\n",
            "aevdsxftvc tdycf bf gh id fgehsu aehz tmexftvcf. aevdsxf qms \n",
            "\n",
            "uvod bf gtd fgedsugt jd sddx jtds yvad udgf ghbut. \n",
            "\n",
            "vs mxxvgvhs, cdhcyd dkcedff bsvgl gtehbut yhod,amzvyl, aevdsxf, msx hgtdef \n",
            "\n",
            "ftmed fghevdf ha avsxvsu qhzzhs uehbsx jvgt fhzdhsd.gtded med zmsl \n",
            "\n",
            "idsdavgf ha fgmlvsu bsvgdx vs ghbut gvzdf, mf vg tdycf \n",
            "\n",
            "gh amqd qtmyydsuvsu fvgbmgvhsf jvgt qhbemud. gtd vzchegmsqd ha fgmlvsu \n",
            "\n",
            "bsvgdx tmf fgebqp m qthex mzhsu zmsl cdhcyd gtehbuthbg tvfghel.pddcvsu \n",
            "\n",
            "zdzhevdf ha jtmg jd tmod mqqhzcyvftdx gtehbuthbg tvfghel qms tdyc \n",
            "\n",
            "bf fdd thj vsxvovxbmyf msx qhzzbsvgvdf tmod cdefdodedx gtehbut ghbut \n",
            "\n",
            "gvzdf msx vsgh m ievutgde abgbed.\n",
            "\n",
            "\n",
            "the u*it* is st*e**th essa* e***ai*s that the *o*e* of \n",
            "\n",
            "f*ie**shi* he**s us to *e st*o** f*o* ha**shi*s. f*ie**s *a* \n",
            "\n",
            "*i*e us the st*e**th *e *ee* *he* *ife *ets tou*h. \n",
            "\n",
            "i* a**itio*, *eo**e e***ess u*it* th*ou*h *o*e,fa*i**, f*ie**s, a** othe*s \n",
            "\n",
            "sha*e sto*ies of fi**i** *o**o* **ou** *ith so*eo*e.the*e a*e *a** \n",
            "\n",
            "*e*efits of sta*i** u*ite* i* tou*h ti*es, as it he**s \n",
            "\n",
            "to fa*e *ha**e**i** situatio*s *ith *ou*a*e. the i**o*ta**e of sta*i** \n",
            "\n",
            "u*ite* has st*u** a *ho** a*o** *a** *eo**e th*ou*hout histo**.*ee*i** \n",
            "\n",
            "*e*o*ies of *hat *e ha*e a**o***ishe* th*ou*hout histo** *a* he** \n",
            "\n",
            "us see ho* i**i*i*ua*s a** *o**u*ities ha*e *e*se*e*e* th*ou*h tou*h \n",
            "\n",
            "ti*es a** i*to a **i*hte* futu*e.\n",
            "\n",
            "\n"
          ]
        }
      ]
    },
    {
      "cell_type": "code",
      "source": [
        "# the last word is futu*e\n",
        "# so ut can be future\n",
        "# let's map e=r\n",
        "\n",
        "mapping = {'m':'a', 'f':'s', 'v':'i', 'd':'e', 'g':'t', 't':'h', 'h':'o', 'a':'f', 'b':'u', 'e':'r'}\n",
        "words_per_line = 10\n",
        "plaintext = substitution_cipher(ciphertext, mapping)\n",
        "print_result(ciphertext, words_per_line)\n",
        "print_result(plaintext, words_per_line)"
      ],
      "metadata": {
        "colab": {
          "base_uri": "https://localhost:8080/"
        },
        "id": "8XI8uA9rGcKG",
        "outputId": "56fbe5ee-dc72-4df9-ea68-2b90193c1efe"
      },
      "execution_count": 41,
      "outputs": [
        {
          "output_type": "stream",
          "name": "stdout",
          "text": [
            "gtd bsvgl vf fgedsugt dffml dkcymvsf gtmg gtd chjde ha \n",
            "\n",
            "aevdsxftvc tdycf bf gh id fgehsu aehz tmexftvcf. aevdsxf qms \n",
            "\n",
            "uvod bf gtd fgedsugt jd sddx jtds yvad udgf ghbut. \n",
            "\n",
            "vs mxxvgvhs, cdhcyd dkcedff bsvgl gtehbut yhod,amzvyl, aevdsxf, msx hgtdef \n",
            "\n",
            "ftmed fghevdf ha avsxvsu qhzzhs uehbsx jvgt fhzdhsd.gtded med zmsl \n",
            "\n",
            "idsdavgf ha fgmlvsu bsvgdx vs ghbut gvzdf, mf vg tdycf \n",
            "\n",
            "gh amqd qtmyydsuvsu fvgbmgvhsf jvgt qhbemud. gtd vzchegmsqd ha fgmlvsu \n",
            "\n",
            "bsvgdx tmf fgebqp m qthex mzhsu zmsl cdhcyd gtehbuthbg tvfghel.pddcvsu \n",
            "\n",
            "zdzhevdf ha jtmg jd tmod mqqhzcyvftdx gtehbuthbg tvfghel qms tdyc \n",
            "\n",
            "bf fdd thj vsxvovxbmyf msx qhzzbsvgvdf tmod cdefdodedx gtehbut ghbut \n",
            "\n",
            "gvzdf msx vsgh m ievutgde abgbed.\n",
            "\n",
            "\n",
            "the u*it* is stre**th essa* e***ai*s that the *o*er of \n",
            "\n",
            "frie**shi* he**s us to *e stro** fro* har*shi*s. frie**s *a* \n",
            "\n",
            "*i*e us the stre**th *e *ee* *he* *ife *ets tou*h. \n",
            "\n",
            "i* a**itio*, *eo**e e**ress u*it* throu*h *o*e,fa*i**, frie**s, a** others \n",
            "\n",
            "share stories of fi**i** *o**o* *rou** *ith so*eo*e.there are *a** \n",
            "\n",
            "*e*efits of sta*i** u*ite* i* tou*h ti*es, as it he**s \n",
            "\n",
            "to fa*e *ha**e**i** situatio*s *ith *oura*e. the i**orta**e of sta*i** \n",
            "\n",
            "u*ite* has stru** a *hor* a*o** *a** *eo**e throu*hout histor*.*ee*i** \n",
            "\n",
            "*e*ories of *hat *e ha*e a**o***ishe* throu*hout histor* *a* he** \n",
            "\n",
            "us see ho* i**i*i*ua*s a** *o**u*ities ha*e *erse*ere* throu*h tou*h \n",
            "\n",
            "ti*es a** i*to a *ri*hter future.\n",
            "\n",
            "\n"
          ]
        }
      ]
    },
    {
      "cell_type": "code",
      "source": [
        "# in line 4, word no 1, i* is a two letter word\n",
        "# we know \"in\" is one of the most frequent two letter word\n",
        "# the frequency of character \"s\" is also 40\n",
        "# let's map s=n\n",
        "\n",
        "mapping = {'m':'a', 'f':'s', 'v':'i', 'd':'e', 'g':'t', 't':'h', 'h':'o', 'a':'f', 'b':'u', 'e':'r', 's':'n'}\n",
        "words_per_line = 10\n",
        "plaintext = substitution_cipher(ciphertext, mapping)\n",
        "print_result(ciphertext, words_per_line)\n",
        "print_result(plaintext, words_per_line)"
      ],
      "metadata": {
        "colab": {
          "base_uri": "https://localhost:8080/"
        },
        "id": "fuJTDZOvHMx_",
        "outputId": "236d5ad0-50db-4041-9887-cb89ecceca82"
      },
      "execution_count": 42,
      "outputs": [
        {
          "output_type": "stream",
          "name": "stdout",
          "text": [
            "gtd bsvgl vf fgedsugt dffml dkcymvsf gtmg gtd chjde ha \n",
            "\n",
            "aevdsxftvc tdycf bf gh id fgehsu aehz tmexftvcf. aevdsxf qms \n",
            "\n",
            "uvod bf gtd fgedsugt jd sddx jtds yvad udgf ghbut. \n",
            "\n",
            "vs mxxvgvhs, cdhcyd dkcedff bsvgl gtehbut yhod,amzvyl, aevdsxf, msx hgtdef \n",
            "\n",
            "ftmed fghevdf ha avsxvsu qhzzhs uehbsx jvgt fhzdhsd.gtded med zmsl \n",
            "\n",
            "idsdavgf ha fgmlvsu bsvgdx vs ghbut gvzdf, mf vg tdycf \n",
            "\n",
            "gh amqd qtmyydsuvsu fvgbmgvhsf jvgt qhbemud. gtd vzchegmsqd ha fgmlvsu \n",
            "\n",
            "bsvgdx tmf fgebqp m qthex mzhsu zmsl cdhcyd gtehbuthbg tvfghel.pddcvsu \n",
            "\n",
            "zdzhevdf ha jtmg jd tmod mqqhzcyvftdx gtehbuthbg tvfghel qms tdyc \n",
            "\n",
            "bf fdd thj vsxvovxbmyf msx qhzzbsvgvdf tmod cdefdodedx gtehbut ghbut \n",
            "\n",
            "gvzdf msx vsgh m ievutgde abgbed.\n",
            "\n",
            "\n",
            "the unit* is stren*th essa* e***ains that the *o*er of \n",
            "\n",
            "frien*shi* he**s us to *e stron* fro* har*shi*s. frien*s *an \n",
            "\n",
            "*i*e us the stren*th *e nee* *hen *ife *ets tou*h. \n",
            "\n",
            "in a**ition, *eo**e e**ress unit* throu*h *o*e,fa*i**, frien*s, an* others \n",
            "\n",
            "share stories of fin*in* *o**on *roun* *ith so*eone.there are *an* \n",
            "\n",
            "*enefits of sta*in* unite* in tou*h ti*es, as it he**s \n",
            "\n",
            "to fa*e *ha**en*in* situations *ith *oura*e. the i**ortan*e of sta*in* \n",
            "\n",
            "unite* has stru** a *hor* a*on* *an* *eo**e throu*hout histor*.*ee*in* \n",
            "\n",
            "*e*ories of *hat *e ha*e a**o***ishe* throu*hout histor* *an he** \n",
            "\n",
            "us see ho* in*i*i*ua*s an* *o**unities ha*e *erse*ere* throu*h tou*h \n",
            "\n",
            "ti*es an* into a *ri*hter future.\n",
            "\n",
            "\n"
          ]
        }
      ]
    },
    {
      "cell_type": "code",
      "source": [
        "# let's consider the word \"stren*th\" as \"strength\"\n",
        "# let's map u=g\n",
        "\n",
        "mapping = {'m':'a', 'f':'s', 'v':'i', 'd':'e', 'g':'t', 't':'h', 'h':'o', 'a':'f', 'b':'u', 'e':'r', 's':'n', 'u':'g'}\n",
        "words_per_line = 10\n",
        "plaintext = substitution_cipher(ciphertext, mapping)\n",
        "print_result(ciphertext, words_per_line)\n",
        "print_result(plaintext, words_per_line)"
      ],
      "metadata": {
        "colab": {
          "base_uri": "https://localhost:8080/"
        },
        "id": "brZsMT8LHqME",
        "outputId": "59da1af6-571b-4fc7-8dc6-afa04c621bdc"
      },
      "execution_count": 44,
      "outputs": [
        {
          "output_type": "stream",
          "name": "stdout",
          "text": [
            "gtd bsvgl vf fgedsugt dffml dkcymvsf gtmg gtd chjde ha \n",
            "\n",
            "aevdsxftvc tdycf bf gh id fgehsu aehz tmexftvcf. aevdsxf qms \n",
            "\n",
            "uvod bf gtd fgedsugt jd sddx jtds yvad udgf ghbut. \n",
            "\n",
            "vs mxxvgvhs, cdhcyd dkcedff bsvgl gtehbut yhod,amzvyl, aevdsxf, msx hgtdef \n",
            "\n",
            "ftmed fghevdf ha avsxvsu qhzzhs uehbsx jvgt fhzdhsd.gtded med zmsl \n",
            "\n",
            "idsdavgf ha fgmlvsu bsvgdx vs ghbut gvzdf, mf vg tdycf \n",
            "\n",
            "gh amqd qtmyydsuvsu fvgbmgvhsf jvgt qhbemud. gtd vzchegmsqd ha fgmlvsu \n",
            "\n",
            "bsvgdx tmf fgebqp m qthex mzhsu zmsl cdhcyd gtehbuthbg tvfghel.pddcvsu \n",
            "\n",
            "zdzhevdf ha jtmg jd tmod mqqhzcyvftdx gtehbuthbg tvfghel qms tdyc \n",
            "\n",
            "bf fdd thj vsxvovxbmyf msx qhzzbsvgvdf tmod cdefdodedx gtehbut ghbut \n",
            "\n",
            "gvzdf msx vsgh m ievutgde abgbed.\n",
            "\n",
            "\n",
            "the unit* is strength essa* e***ains that the *o*er of \n",
            "\n",
            "frien*shi* he**s us to *e strong fro* har*shi*s. frien*s *an \n",
            "\n",
            "gi*e us the strength *e nee* *hen *ife gets tough. \n",
            "\n",
            "in a**ition, *eo**e e**ress unit* through *o*e,fa*i**, frien*s, an* others \n",
            "\n",
            "share stories of fin*ing *o**on groun* *ith so*eone.there are *an* \n",
            "\n",
            "*enefits of sta*ing unite* in tough ti*es, as it he**s \n",
            "\n",
            "to fa*e *ha**enging situations *ith *ourage. the i**ortan*e of sta*ing \n",
            "\n",
            "unite* has stru** a *hor* a*ong *an* *eo**e throughout histor*.*ee*ing \n",
            "\n",
            "*e*ories of *hat *e ha*e a**o***ishe* throughout histor* *an he** \n",
            "\n",
            "us see ho* in*i*i*ua*s an* *o**unities ha*e *erse*ere* through tough \n",
            "\n",
            "ti*es an* into a *righter future.\n",
            "\n",
            "\n"
          ]
        }
      ]
    },
    {
      "cell_type": "code",
      "source": [
        "# line 2, word 7, consider \"fro*\" as \"from\"\n",
        "# map z=m\n",
        "\n",
        "mapping = {'m':'a', 'f':'s', 'v':'i', 'd':'e', 'g':'t', 't':'h', 'h':'o', 'a':'f', 'b':'u', 'e':'r', 's':'n', 'u':'g', 'z':'m'}\n",
        "words_per_line = 10\n",
        "plaintext = substitution_cipher(ciphertext, mapping)\n",
        "print_result(ciphertext, words_per_line)\n",
        "print_result(plaintext, words_per_line)"
      ],
      "metadata": {
        "colab": {
          "base_uri": "https://localhost:8080/"
        },
        "id": "G76MS4YZIdXW",
        "outputId": "6d414c83-cebe-44ad-d963-9c2cb57fe6ab"
      },
      "execution_count": 45,
      "outputs": [
        {
          "output_type": "stream",
          "name": "stdout",
          "text": [
            "gtd bsvgl vf fgedsugt dffml dkcymvsf gtmg gtd chjde ha \n",
            "\n",
            "aevdsxftvc tdycf bf gh id fgehsu aehz tmexftvcf. aevdsxf qms \n",
            "\n",
            "uvod bf gtd fgedsugt jd sddx jtds yvad udgf ghbut. \n",
            "\n",
            "vs mxxvgvhs, cdhcyd dkcedff bsvgl gtehbut yhod,amzvyl, aevdsxf, msx hgtdef \n",
            "\n",
            "ftmed fghevdf ha avsxvsu qhzzhs uehbsx jvgt fhzdhsd.gtded med zmsl \n",
            "\n",
            "idsdavgf ha fgmlvsu bsvgdx vs ghbut gvzdf, mf vg tdycf \n",
            "\n",
            "gh amqd qtmyydsuvsu fvgbmgvhsf jvgt qhbemud. gtd vzchegmsqd ha fgmlvsu \n",
            "\n",
            "bsvgdx tmf fgebqp m qthex mzhsu zmsl cdhcyd gtehbuthbg tvfghel.pddcvsu \n",
            "\n",
            "zdzhevdf ha jtmg jd tmod mqqhzcyvftdx gtehbuthbg tvfghel qms tdyc \n",
            "\n",
            "bf fdd thj vsxvovxbmyf msx qhzzbsvgvdf tmod cdefdodedx gtehbut ghbut \n",
            "\n",
            "gvzdf msx vsgh m ievutgde abgbed.\n",
            "\n",
            "\n",
            "the unit* is strength essa* e***ains that the *o*er of \n",
            "\n",
            "frien*shi* he**s us to *e strong from har*shi*s. frien*s *an \n",
            "\n",
            "gi*e us the strength *e nee* *hen *ife gets tough. \n",
            "\n",
            "in a**ition, *eo**e e**ress unit* through *o*e,fami**, frien*s, an* others \n",
            "\n",
            "share stories of fin*ing *ommon groun* *ith someone.there are man* \n",
            "\n",
            "*enefits of sta*ing unite* in tough times, as it he**s \n",
            "\n",
            "to fa*e *ha**enging situations *ith *ourage. the im*ortan*e of sta*ing \n",
            "\n",
            "unite* has stru** a *hor* among man* *eo**e throughout histor*.*ee*ing \n",
            "\n",
            "memories of *hat *e ha*e a**om**ishe* throughout histor* *an he** \n",
            "\n",
            "us see ho* in*i*i*ua*s an* *ommunities ha*e *erse*ere* through tough \n",
            "\n",
            "times an* into a *righter future.\n",
            "\n",
            "\n"
          ]
        }
      ]
    },
    {
      "cell_type": "code",
      "source": [
        "# line 1, word 2, consider \"unit*\" as \"unity\"\n",
        "# map l=y\n",
        "\n",
        "mapping = {'m':'a', 'f':'s', 'v':'i', 'd':'e', 'g':'t', 't':'h', 'h':'o', 'a':'f', 'b':'u', 'e':'r', 's':'n', 'u':'g', 'z':'m', 'l':'y'}\n",
        "words_per_line = 10\n",
        "plaintext = substitution_cipher(ciphertext, mapping)\n",
        "print_result(ciphertext, words_per_line)\n",
        "print_result(plaintext, words_per_line)"
      ],
      "metadata": {
        "colab": {
          "base_uri": "https://localhost:8080/"
        },
        "id": "XukKArljJKq9",
        "outputId": "bfbed9d5-76ea-4467-b3e2-7c6ccca42abc"
      },
      "execution_count": 46,
      "outputs": [
        {
          "output_type": "stream",
          "name": "stdout",
          "text": [
            "gtd bsvgl vf fgedsugt dffml dkcymvsf gtmg gtd chjde ha \n",
            "\n",
            "aevdsxftvc tdycf bf gh id fgehsu aehz tmexftvcf. aevdsxf qms \n",
            "\n",
            "uvod bf gtd fgedsugt jd sddx jtds yvad udgf ghbut. \n",
            "\n",
            "vs mxxvgvhs, cdhcyd dkcedff bsvgl gtehbut yhod,amzvyl, aevdsxf, msx hgtdef \n",
            "\n",
            "ftmed fghevdf ha avsxvsu qhzzhs uehbsx jvgt fhzdhsd.gtded med zmsl \n",
            "\n",
            "idsdavgf ha fgmlvsu bsvgdx vs ghbut gvzdf, mf vg tdycf \n",
            "\n",
            "gh amqd qtmyydsuvsu fvgbmgvhsf jvgt qhbemud. gtd vzchegmsqd ha fgmlvsu \n",
            "\n",
            "bsvgdx tmf fgebqp m qthex mzhsu zmsl cdhcyd gtehbuthbg tvfghel.pddcvsu \n",
            "\n",
            "zdzhevdf ha jtmg jd tmod mqqhzcyvftdx gtehbuthbg tvfghel qms tdyc \n",
            "\n",
            "bf fdd thj vsxvovxbmyf msx qhzzbsvgvdf tmod cdefdodedx gtehbut ghbut \n",
            "\n",
            "gvzdf msx vsgh m ievutgde abgbed.\n",
            "\n",
            "\n",
            "the unity is strength essay e***ains that the *o*er of \n",
            "\n",
            "frien*shi* he**s us to *e strong from har*shi*s. frien*s *an \n",
            "\n",
            "gi*e us the strength *e nee* *hen *ife gets tough. \n",
            "\n",
            "in a**ition, *eo**e e**ress unity through *o*e,fami*y, frien*s, an* others \n",
            "\n",
            "share stories of fin*ing *ommon groun* *ith someone.there are many \n",
            "\n",
            "*enefits of staying unite* in tough times, as it he**s \n",
            "\n",
            "to fa*e *ha**enging situations *ith *ourage. the im*ortan*e of staying \n",
            "\n",
            "unite* has stru** a *hor* among many *eo**e throughout history.*ee*ing \n",
            "\n",
            "memories of *hat *e ha*e a**om**ishe* throughout history *an he** \n",
            "\n",
            "us see ho* in*i*i*ua*s an* *ommunities ha*e *erse*ere* through tough \n",
            "\n",
            "times an* into a *righter future.\n",
            "\n",
            "\n"
          ]
        }
      ]
    },
    {
      "cell_type": "code",
      "source": [
        "# line 2, word 9, consider \"frien*s\" as \"friends\"\n",
        "# map x=d\n",
        "\n",
        "mapping = {'m':'a', 'f':'s', 'v':'i', 'd':'e', 'g':'t', 't':'h', 'h':'o', 'a':'f', 'b':'u', 'e':'r', 's':'n', 'u':'g', 'z':'m', 'l':'y', 'x':'d'}\n",
        "words_per_line = 10\n",
        "plaintext = substitution_cipher(ciphertext, mapping)\n",
        "print_result(ciphertext, words_per_line)\n",
        "print_result(plaintext, words_per_line)"
      ],
      "metadata": {
        "colab": {
          "base_uri": "https://localhost:8080/"
        },
        "id": "e_2UUhagJqAz",
        "outputId": "31725b96-0e41-43a0-b18d-86a29eb10241"
      },
      "execution_count": 47,
      "outputs": [
        {
          "output_type": "stream",
          "name": "stdout",
          "text": [
            "gtd bsvgl vf fgedsugt dffml dkcymvsf gtmg gtd chjde ha \n",
            "\n",
            "aevdsxftvc tdycf bf gh id fgehsu aehz tmexftvcf. aevdsxf qms \n",
            "\n",
            "uvod bf gtd fgedsugt jd sddx jtds yvad udgf ghbut. \n",
            "\n",
            "vs mxxvgvhs, cdhcyd dkcedff bsvgl gtehbut yhod,amzvyl, aevdsxf, msx hgtdef \n",
            "\n",
            "ftmed fghevdf ha avsxvsu qhzzhs uehbsx jvgt fhzdhsd.gtded med zmsl \n",
            "\n",
            "idsdavgf ha fgmlvsu bsvgdx vs ghbut gvzdf, mf vg tdycf \n",
            "\n",
            "gh amqd qtmyydsuvsu fvgbmgvhsf jvgt qhbemud. gtd vzchegmsqd ha fgmlvsu \n",
            "\n",
            "bsvgdx tmf fgebqp m qthex mzhsu zmsl cdhcyd gtehbuthbg tvfghel.pddcvsu \n",
            "\n",
            "zdzhevdf ha jtmg jd tmod mqqhzcyvftdx gtehbuthbg tvfghel qms tdyc \n",
            "\n",
            "bf fdd thj vsxvovxbmyf msx qhzzbsvgvdf tmod cdefdodedx gtehbut ghbut \n",
            "\n",
            "gvzdf msx vsgh m ievutgde abgbed.\n",
            "\n",
            "\n",
            "the unity is strength essay e***ains that the *o*er of \n",
            "\n",
            "friendshi* he**s us to *e strong from hardshi*s. friends *an \n",
            "\n",
            "gi*e us the strength *e need *hen *ife gets tough. \n",
            "\n",
            "in addition, *eo**e e**ress unity through *o*e,fami*y, friends, and others \n",
            "\n",
            "share stories of finding *ommon ground *ith someone.there are many \n",
            "\n",
            "*enefits of staying united in tough times, as it he**s \n",
            "\n",
            "to fa*e *ha**enging situations *ith *ourage. the im*ortan*e of staying \n",
            "\n",
            "united has stru** a *hord among many *eo**e throughout history.*ee*ing \n",
            "\n",
            "memories of *hat *e ha*e a**om**ished throughout history *an he** \n",
            "\n",
            "us see ho* indi*idua*s and *ommunities ha*e *erse*ered through tough \n",
            "\n",
            "times and into a *righter future.\n",
            "\n",
            "\n"
          ]
        }
      ]
    },
    {
      "cell_type": "code",
      "source": [
        "# line 2, word 1 and 8, \"friendshi*\", \"hardshi*s\" looks similiar to \"friendship\" and \"hardships\"\n",
        "# the character \"c\" is also present in the \"*\" position\n",
        "# so let's map c=p\n",
        "\n",
        "mapping = {'m':'a', 'f':'s', 'v':'i', 'd':'e', 'g':'t', 't':'h', 'h':'o', 'a':'f', 'b':'u', 'e':'r', 's':'n', 'u':'g', 'z':'m', 'l':'y', 'x':'d', 'c':'p'}\n",
        "words_per_line = 10\n",
        "plaintext = substitution_cipher(ciphertext, mapping)\n",
        "print_result(ciphertext, words_per_line)\n",
        "print_result(plaintext, words_per_line)"
      ],
      "metadata": {
        "colab": {
          "base_uri": "https://localhost:8080/"
        },
        "id": "MF4wbfMeKDPs",
        "outputId": "83862310-5d3a-47ea-d470-503bc2201810"
      },
      "execution_count": 48,
      "outputs": [
        {
          "output_type": "stream",
          "name": "stdout",
          "text": [
            "gtd bsvgl vf fgedsugt dffml dkcymvsf gtmg gtd chjde ha \n",
            "\n",
            "aevdsxftvc tdycf bf gh id fgehsu aehz tmexftvcf. aevdsxf qms \n",
            "\n",
            "uvod bf gtd fgedsugt jd sddx jtds yvad udgf ghbut. \n",
            "\n",
            "vs mxxvgvhs, cdhcyd dkcedff bsvgl gtehbut yhod,amzvyl, aevdsxf, msx hgtdef \n",
            "\n",
            "ftmed fghevdf ha avsxvsu qhzzhs uehbsx jvgt fhzdhsd.gtded med zmsl \n",
            "\n",
            "idsdavgf ha fgmlvsu bsvgdx vs ghbut gvzdf, mf vg tdycf \n",
            "\n",
            "gh amqd qtmyydsuvsu fvgbmgvhsf jvgt qhbemud. gtd vzchegmsqd ha fgmlvsu \n",
            "\n",
            "bsvgdx tmf fgebqp m qthex mzhsu zmsl cdhcyd gtehbuthbg tvfghel.pddcvsu \n",
            "\n",
            "zdzhevdf ha jtmg jd tmod mqqhzcyvftdx gtehbuthbg tvfghel qms tdyc \n",
            "\n",
            "bf fdd thj vsxvovxbmyf msx qhzzbsvgvdf tmod cdefdodedx gtehbut ghbut \n",
            "\n",
            "gvzdf msx vsgh m ievutgde abgbed.\n",
            "\n",
            "\n",
            "the unity is strength essay e*p*ains that the po*er of \n",
            "\n",
            "friendship he*ps us to *e strong from hardships. friends *an \n",
            "\n",
            "gi*e us the strength *e need *hen *ife gets tough. \n",
            "\n",
            "in addition, peop*e e*press unity through *o*e,fami*y, friends, and others \n",
            "\n",
            "share stories of finding *ommon ground *ith someone.there are many \n",
            "\n",
            "*enefits of staying united in tough times, as it he*ps \n",
            "\n",
            "to fa*e *ha**enging situations *ith *ourage. the importan*e of staying \n",
            "\n",
            "united has stru** a *hord among many peop*e throughout history.*eeping \n",
            "\n",
            "memories of *hat *e ha*e a**omp*ished throughout history *an he*p \n",
            "\n",
            "us see ho* indi*idua*s and *ommunities ha*e perse*ered through tough \n",
            "\n",
            "times and into a *righter future.\n",
            "\n",
            "\n"
          ]
        }
      ]
    },
    {
      "cell_type": "code",
      "source": [
        "# line 1, word no 9, po*er\n",
        "# by analyzing whole sentence we can consider po*er as power\n",
        "# again line 5, word 7, \"*ith\", the most frequent 4 letter words ends with \"ith\" is \"with\"\n",
        "# so map j=w\n",
        "\n",
        "mapping = {'m':'a', 'f':'s', 'v':'i', 'd':'e', 'g':'t', 't':'h', 'h':'o', 'a':'f', 'b':'u', 'e':'r', 's':'n',\n",
        "           'u':'g', 'z':'m', 'l':'y', 'x':'d', 'c':'p', 'j':'w'}\n",
        "words_per_line = 10\n",
        "plaintext = substitution_cipher(ciphertext, mapping)\n",
        "print_result(ciphertext, words_per_line)\n",
        "print_result(plaintext, words_per_line)"
      ],
      "metadata": {
        "colab": {
          "base_uri": "https://localhost:8080/"
        },
        "id": "CdcGIBHfK2Py",
        "outputId": "601413f2-925c-4c81-bade-288f6b6f8089"
      },
      "execution_count": 49,
      "outputs": [
        {
          "output_type": "stream",
          "name": "stdout",
          "text": [
            "gtd bsvgl vf fgedsugt dffml dkcymvsf gtmg gtd chjde ha \n",
            "\n",
            "aevdsxftvc tdycf bf gh id fgehsu aehz tmexftvcf. aevdsxf qms \n",
            "\n",
            "uvod bf gtd fgedsugt jd sddx jtds yvad udgf ghbut. \n",
            "\n",
            "vs mxxvgvhs, cdhcyd dkcedff bsvgl gtehbut yhod,amzvyl, aevdsxf, msx hgtdef \n",
            "\n",
            "ftmed fghevdf ha avsxvsu qhzzhs uehbsx jvgt fhzdhsd.gtded med zmsl \n",
            "\n",
            "idsdavgf ha fgmlvsu bsvgdx vs ghbut gvzdf, mf vg tdycf \n",
            "\n",
            "gh amqd qtmyydsuvsu fvgbmgvhsf jvgt qhbemud. gtd vzchegmsqd ha fgmlvsu \n",
            "\n",
            "bsvgdx tmf fgebqp m qthex mzhsu zmsl cdhcyd gtehbuthbg tvfghel.pddcvsu \n",
            "\n",
            "zdzhevdf ha jtmg jd tmod mqqhzcyvftdx gtehbuthbg tvfghel qms tdyc \n",
            "\n",
            "bf fdd thj vsxvovxbmyf msx qhzzbsvgvdf tmod cdefdodedx gtehbut ghbut \n",
            "\n",
            "gvzdf msx vsgh m ievutgde abgbed.\n",
            "\n",
            "\n",
            "the unity is strength essay e*p*ains that the power of \n",
            "\n",
            "friendship he*ps us to *e strong from hardships. friends *an \n",
            "\n",
            "gi*e us the strength we need when *ife gets tough. \n",
            "\n",
            "in addition, peop*e e*press unity through *o*e,fami*y, friends, and others \n",
            "\n",
            "share stories of finding *ommon ground with someone.there are many \n",
            "\n",
            "*enefits of staying united in tough times, as it he*ps \n",
            "\n",
            "to fa*e *ha**enging situations with *ourage. the importan*e of staying \n",
            "\n",
            "united has stru** a *hord among many peop*e throughout history.*eeping \n",
            "\n",
            "memories of what we ha*e a**omp*ished throughout history *an he*p \n",
            "\n",
            "us see how indi*idua*s and *ommunities ha*e perse*ered through tough \n",
            "\n",
            "times and into a *righter future.\n",
            "\n",
            "\n"
          ]
        }
      ]
    },
    {
      "cell_type": "code",
      "source": [
        "# line 2, word 2, \"he*ps\" consider it as \"helps\"\n",
        "# so map y=l\n",
        "\n",
        "mapping = {'m':'a', 'f':'s', 'v':'i', 'd':'e', 'g':'t', 't':'h', 'h':'o', 'a':'f', 'b':'u', 'e':'r', 's':'n',\n",
        "           'u':'g', 'z':'m', 'l':'y', 'x':'d', 'c':'p', 'j':'w', 'y':'l'}\n",
        "words_per_line = 10\n",
        "plaintext = substitution_cipher(ciphertext, mapping)\n",
        "print_result(ciphertext, words_per_line)\n",
        "print_result(plaintext, words_per_line)"
      ],
      "metadata": {
        "colab": {
          "base_uri": "https://localhost:8080/"
        },
        "id": "Up3JVv3xL4LO",
        "outputId": "c8717dae-9592-4a00-a30d-1be7ebba971f"
      },
      "execution_count": 50,
      "outputs": [
        {
          "output_type": "stream",
          "name": "stdout",
          "text": [
            "gtd bsvgl vf fgedsugt dffml dkcymvsf gtmg gtd chjde ha \n",
            "\n",
            "aevdsxftvc tdycf bf gh id fgehsu aehz tmexftvcf. aevdsxf qms \n",
            "\n",
            "uvod bf gtd fgedsugt jd sddx jtds yvad udgf ghbut. \n",
            "\n",
            "vs mxxvgvhs, cdhcyd dkcedff bsvgl gtehbut yhod,amzvyl, aevdsxf, msx hgtdef \n",
            "\n",
            "ftmed fghevdf ha avsxvsu qhzzhs uehbsx jvgt fhzdhsd.gtded med zmsl \n",
            "\n",
            "idsdavgf ha fgmlvsu bsvgdx vs ghbut gvzdf, mf vg tdycf \n",
            "\n",
            "gh amqd qtmyydsuvsu fvgbmgvhsf jvgt qhbemud. gtd vzchegmsqd ha fgmlvsu \n",
            "\n",
            "bsvgdx tmf fgebqp m qthex mzhsu zmsl cdhcyd gtehbuthbg tvfghel.pddcvsu \n",
            "\n",
            "zdzhevdf ha jtmg jd tmod mqqhzcyvftdx gtehbuthbg tvfghel qms tdyc \n",
            "\n",
            "bf fdd thj vsxvovxbmyf msx qhzzbsvgvdf tmod cdefdodedx gtehbut ghbut \n",
            "\n",
            "gvzdf msx vsgh m ievutgde abgbed.\n",
            "\n",
            "\n",
            "the unity is strength essay e*plains that the power of \n",
            "\n",
            "friendship helps us to *e strong from hardships. friends *an \n",
            "\n",
            "gi*e us the strength we need when life gets tough. \n",
            "\n",
            "in addition, people e*press unity through lo*e,family, friends, and others \n",
            "\n",
            "share stories of finding *ommon ground with someone.there are many \n",
            "\n",
            "*enefits of staying united in tough times, as it helps \n",
            "\n",
            "to fa*e *hallenging situations with *ourage. the importan*e of staying \n",
            "\n",
            "united has stru** a *hord among many people throughout history.*eeping \n",
            "\n",
            "memories of what we ha*e a**omplished throughout history *an help \n",
            "\n",
            "us see how indi*iduals and *ommunities ha*e perse*ered through tough \n",
            "\n",
            "times and into a *righter future.\n",
            "\n",
            "\n"
          ]
        }
      ]
    },
    {
      "cell_type": "code",
      "source": [
        "# line 1, word 6, \"e*plains\" consider it as \"explains\"\n",
        "# so map k=x\n",
        "\n",
        "mapping = {'m':'a', 'f':'s', 'v':'i', 'd':'e', 'g':'t', 't':'h', 'h':'o', 'a':'f', 'b':'u', 'e':'r', 's':'n',\n",
        "           'u':'g', 'z':'m', 'l':'y', 'x':'d', 'c':'p', 'j':'w', 'y':'l', 'k':'x'}\n",
        "words_per_line = 10\n",
        "plaintext = substitution_cipher(ciphertext, mapping)\n",
        "print_result(ciphertext, words_per_line)\n",
        "print_result(plaintext, words_per_line)"
      ],
      "metadata": {
        "colab": {
          "base_uri": "https://localhost:8080/"
        },
        "id": "kOaWlaigMRxr",
        "outputId": "61312484-ca1b-442c-c069-3a9ba1963b18"
      },
      "execution_count": 51,
      "outputs": [
        {
          "output_type": "stream",
          "name": "stdout",
          "text": [
            "gtd bsvgl vf fgedsugt dffml dkcymvsf gtmg gtd chjde ha \n",
            "\n",
            "aevdsxftvc tdycf bf gh id fgehsu aehz tmexftvcf. aevdsxf qms \n",
            "\n",
            "uvod bf gtd fgedsugt jd sddx jtds yvad udgf ghbut. \n",
            "\n",
            "vs mxxvgvhs, cdhcyd dkcedff bsvgl gtehbut yhod,amzvyl, aevdsxf, msx hgtdef \n",
            "\n",
            "ftmed fghevdf ha avsxvsu qhzzhs uehbsx jvgt fhzdhsd.gtded med zmsl \n",
            "\n",
            "idsdavgf ha fgmlvsu bsvgdx vs ghbut gvzdf, mf vg tdycf \n",
            "\n",
            "gh amqd qtmyydsuvsu fvgbmgvhsf jvgt qhbemud. gtd vzchegmsqd ha fgmlvsu \n",
            "\n",
            "bsvgdx tmf fgebqp m qthex mzhsu zmsl cdhcyd gtehbuthbg tvfghel.pddcvsu \n",
            "\n",
            "zdzhevdf ha jtmg jd tmod mqqhzcyvftdx gtehbuthbg tvfghel qms tdyc \n",
            "\n",
            "bf fdd thj vsxvovxbmyf msx qhzzbsvgvdf tmod cdefdodedx gtehbut ghbut \n",
            "\n",
            "gvzdf msx vsgh m ievutgde abgbed.\n",
            "\n",
            "\n",
            "the unity is strength essay explains that the power of \n",
            "\n",
            "friendship helps us to *e strong from hardships. friends *an \n",
            "\n",
            "gi*e us the strength we need when life gets tough. \n",
            "\n",
            "in addition, people express unity through lo*e,family, friends, and others \n",
            "\n",
            "share stories of finding *ommon ground with someone.there are many \n",
            "\n",
            "*enefits of staying united in tough times, as it helps \n",
            "\n",
            "to fa*e *hallenging situations with *ourage. the importan*e of staying \n",
            "\n",
            "united has stru** a *hord among many people throughout history.*eeping \n",
            "\n",
            "memories of what we ha*e a**omplished throughout history *an help \n",
            "\n",
            "us see how indi*iduals and *ommunities ha*e perse*ered through tough \n",
            "\n",
            "times and into a *righter future.\n",
            "\n",
            "\n"
          ]
        }
      ]
    },
    {
      "cell_type": "code",
      "source": [
        "# line 2, word 5, is \"*e\"\n",
        "# most frequent two letter word that ends with \"e\" is \"be\"\n",
        "# so map i=b\n",
        "\n",
        "mapping = {'m':'a', 'f':'s', 'v':'i', 'd':'e', 'g':'t', 't':'h', 'h':'o', 'a':'f', 'b':'u', 'e':'r', 's':'n',\n",
        "           'u':'g', 'z':'m', 'l':'y', 'x':'d', 'c':'p', 'j':'w', 'y':'l', 'k':'x', 'i':'b'}\n",
        "words_per_line = 10\n",
        "plaintext = substitution_cipher(ciphertext, mapping)\n",
        "print_result(ciphertext, words_per_line)\n",
        "print_result(plaintext, words_per_line)"
      ],
      "metadata": {
        "colab": {
          "base_uri": "https://localhost:8080/"
        },
        "id": "yeEd9Gu8Mo3r",
        "outputId": "cc9f930a-6116-48fd-877f-ab93f149c3f9"
      },
      "execution_count": 52,
      "outputs": [
        {
          "output_type": "stream",
          "name": "stdout",
          "text": [
            "gtd bsvgl vf fgedsugt dffml dkcymvsf gtmg gtd chjde ha \n",
            "\n",
            "aevdsxftvc tdycf bf gh id fgehsu aehz tmexftvcf. aevdsxf qms \n",
            "\n",
            "uvod bf gtd fgedsugt jd sddx jtds yvad udgf ghbut. \n",
            "\n",
            "vs mxxvgvhs, cdhcyd dkcedff bsvgl gtehbut yhod,amzvyl, aevdsxf, msx hgtdef \n",
            "\n",
            "ftmed fghevdf ha avsxvsu qhzzhs uehbsx jvgt fhzdhsd.gtded med zmsl \n",
            "\n",
            "idsdavgf ha fgmlvsu bsvgdx vs ghbut gvzdf, mf vg tdycf \n",
            "\n",
            "gh amqd qtmyydsuvsu fvgbmgvhsf jvgt qhbemud. gtd vzchegmsqd ha fgmlvsu \n",
            "\n",
            "bsvgdx tmf fgebqp m qthex mzhsu zmsl cdhcyd gtehbuthbg tvfghel.pddcvsu \n",
            "\n",
            "zdzhevdf ha jtmg jd tmod mqqhzcyvftdx gtehbuthbg tvfghel qms tdyc \n",
            "\n",
            "bf fdd thj vsxvovxbmyf msx qhzzbsvgvdf tmod cdefdodedx gtehbut ghbut \n",
            "\n",
            "gvzdf msx vsgh m ievutgde abgbed.\n",
            "\n",
            "\n",
            "the unity is strength essay explains that the power of \n",
            "\n",
            "friendship helps us to be strong from hardships. friends *an \n",
            "\n",
            "gi*e us the strength we need when life gets tough. \n",
            "\n",
            "in addition, people express unity through lo*e,family, friends, and others \n",
            "\n",
            "share stories of finding *ommon ground with someone.there are many \n",
            "\n",
            "benefits of staying united in tough times, as it helps \n",
            "\n",
            "to fa*e *hallenging situations with *ourage. the importan*e of staying \n",
            "\n",
            "united has stru** a *hord among many people throughout history.*eeping \n",
            "\n",
            "memories of what we ha*e a**omplished throughout history *an help \n",
            "\n",
            "us see how indi*iduals and *ommunities ha*e perse*ered through tough \n",
            "\n",
            "times and into a brighter future.\n",
            "\n",
            "\n"
          ]
        }
      ]
    },
    {
      "cell_type": "code",
      "source": [
        "# line 2, word 10, is \"*an\"\n",
        "# most frequent three letter word that ends with \"an\" is \"can\"\n",
        "# so map q=c\n",
        "\n",
        "mapping = {'m':'a', 'f':'s', 'v':'i', 'd':'e', 'g':'t', 't':'h', 'h':'o', 'a':'f', 'b':'u', 'e':'r', 's':'n',\n",
        "           'u':'g', 'z':'m', 'l':'y', 'x':'d', 'c':'p', 'j':'w', 'y':'l', 'k':'x', 'i':'b', 'q':'c'}\n",
        "words_per_line = 10\n",
        "plaintext = substitution_cipher(ciphertext, mapping)\n",
        "print_result(ciphertext, words_per_line)\n",
        "print_result(plaintext, words_per_line)"
      ],
      "metadata": {
        "colab": {
          "base_uri": "https://localhost:8080/"
        },
        "id": "XgL_YvuvNC41",
        "outputId": "09db48d4-686f-4ce1-b4a8-683d66536533"
      },
      "execution_count": 53,
      "outputs": [
        {
          "output_type": "stream",
          "name": "stdout",
          "text": [
            "gtd bsvgl vf fgedsugt dffml dkcymvsf gtmg gtd chjde ha \n",
            "\n",
            "aevdsxftvc tdycf bf gh id fgehsu aehz tmexftvcf. aevdsxf qms \n",
            "\n",
            "uvod bf gtd fgedsugt jd sddx jtds yvad udgf ghbut. \n",
            "\n",
            "vs mxxvgvhs, cdhcyd dkcedff bsvgl gtehbut yhod,amzvyl, aevdsxf, msx hgtdef \n",
            "\n",
            "ftmed fghevdf ha avsxvsu qhzzhs uehbsx jvgt fhzdhsd.gtded med zmsl \n",
            "\n",
            "idsdavgf ha fgmlvsu bsvgdx vs ghbut gvzdf, mf vg tdycf \n",
            "\n",
            "gh amqd qtmyydsuvsu fvgbmgvhsf jvgt qhbemud. gtd vzchegmsqd ha fgmlvsu \n",
            "\n",
            "bsvgdx tmf fgebqp m qthex mzhsu zmsl cdhcyd gtehbuthbg tvfghel.pddcvsu \n",
            "\n",
            "zdzhevdf ha jtmg jd tmod mqqhzcyvftdx gtehbuthbg tvfghel qms tdyc \n",
            "\n",
            "bf fdd thj vsxvovxbmyf msx qhzzbsvgvdf tmod cdefdodedx gtehbut ghbut \n",
            "\n",
            "gvzdf msx vsgh m ievutgde abgbed.\n",
            "\n",
            "\n",
            "the unity is strength essay explains that the power of \n",
            "\n",
            "friendship helps us to be strong from hardships. friends can \n",
            "\n",
            "gi*e us the strength we need when life gets tough. \n",
            "\n",
            "in addition, people express unity through lo*e,family, friends, and others \n",
            "\n",
            "share stories of finding common ground with someone.there are many \n",
            "\n",
            "benefits of staying united in tough times, as it helps \n",
            "\n",
            "to face challenging situations with courage. the importance of staying \n",
            "\n",
            "united has struc* a chord among many people throughout history.*eeping \n",
            "\n",
            "memories of what we ha*e accomplished throughout history can help \n",
            "\n",
            "us see how indi*iduals and communities ha*e perse*ered through tough \n",
            "\n",
            "times and into a brighter future.\n",
            "\n",
            "\n"
          ]
        }
      ]
    },
    {
      "cell_type": "code",
      "source": [
        "# line 9, word 5, is \"ha*e\"\n",
        "# \"have\" is one of the most frequent 4 letter word\n",
        "# so map o=v\n",
        "\n",
        "mapping = {'m':'a', 'f':'s', 'v':'i', 'd':'e', 'g':'t', 't':'h', 'h':'o', 'a':'f', 'b':'u', 'e':'r', 's':'n',\n",
        "           'u':'g', 'z':'m', 'l':'y', 'x':'d', 'c':'p', 'j':'w', 'y':'l', 'k':'x', 'i':'b', 'q':'c', 'o':'v'}\n",
        "words_per_line = 10\n",
        "plaintext = substitution_cipher(ciphertext, mapping)\n",
        "print_result(ciphertext, words_per_line)\n",
        "print_result(plaintext, words_per_line)"
      ],
      "metadata": {
        "colab": {
          "base_uri": "https://localhost:8080/"
        },
        "id": "RUW-298MNg8u",
        "outputId": "10ff7f02-c922-455e-8f13-da586e8753da"
      },
      "execution_count": 54,
      "outputs": [
        {
          "output_type": "stream",
          "name": "stdout",
          "text": [
            "gtd bsvgl vf fgedsugt dffml dkcymvsf gtmg gtd chjde ha \n",
            "\n",
            "aevdsxftvc tdycf bf gh id fgehsu aehz tmexftvcf. aevdsxf qms \n",
            "\n",
            "uvod bf gtd fgedsugt jd sddx jtds yvad udgf ghbut. \n",
            "\n",
            "vs mxxvgvhs, cdhcyd dkcedff bsvgl gtehbut yhod,amzvyl, aevdsxf, msx hgtdef \n",
            "\n",
            "ftmed fghevdf ha avsxvsu qhzzhs uehbsx jvgt fhzdhsd.gtded med zmsl \n",
            "\n",
            "idsdavgf ha fgmlvsu bsvgdx vs ghbut gvzdf, mf vg tdycf \n",
            "\n",
            "gh amqd qtmyydsuvsu fvgbmgvhsf jvgt qhbemud. gtd vzchegmsqd ha fgmlvsu \n",
            "\n",
            "bsvgdx tmf fgebqp m qthex mzhsu zmsl cdhcyd gtehbuthbg tvfghel.pddcvsu \n",
            "\n",
            "zdzhevdf ha jtmg jd tmod mqqhzcyvftdx gtehbuthbg tvfghel qms tdyc \n",
            "\n",
            "bf fdd thj vsxvovxbmyf msx qhzzbsvgvdf tmod cdefdodedx gtehbut ghbut \n",
            "\n",
            "gvzdf msx vsgh m ievutgde abgbed.\n",
            "\n",
            "\n",
            "the unity is strength essay explains that the power of \n",
            "\n",
            "friendship helps us to be strong from hardships. friends can \n",
            "\n",
            "give us the strength we need when life gets tough. \n",
            "\n",
            "in addition, people express unity through love,family, friends, and others \n",
            "\n",
            "share stories of finding common ground with someone.there are many \n",
            "\n",
            "benefits of staying united in tough times, as it helps \n",
            "\n",
            "to face challenging situations with courage. the importance of staying \n",
            "\n",
            "united has struc* a chord among many people throughout history.*eeping \n",
            "\n",
            "memories of what we have accomplished throughout history can help \n",
            "\n",
            "us see how individuals and communities have persevered through tough \n",
            "\n",
            "times and into a brighter future.\n",
            "\n",
            "\n"
          ]
        }
      ]
    },
    {
      "cell_type": "code",
      "source": [
        "# by analyzing the whole essay, we can only map p to k\n",
        "\n",
        "mapping = {'m':'a', 'f':'s', 'v':'i', 'd':'e', 'g':'t', 't':'h', 'h':'o', 'a':'f', 'b':'u', 'e':'r', 's':'n',\n",
        "           'u':'g', 'z':'m', 'l':'y', 'x':'d', 'c':'p', 'j':'w', 'y':'l', 'k':'x', 'i':'b', 'q':'c', 'o':'v', 'p':'k'}\n",
        "words_per_line = 10\n",
        "plaintext = substitution_cipher(ciphertext, mapping)\n",
        "print_result(ciphertext, words_per_line)\n",
        "print_result(plaintext, words_per_line)"
      ],
      "metadata": {
        "colab": {
          "base_uri": "https://localhost:8080/"
        },
        "id": "IPt7yAvPOia4",
        "outputId": "b8fb2fa7-0e3f-40dd-911f-93b8d1f94ed1"
      },
      "execution_count": 55,
      "outputs": [
        {
          "output_type": "stream",
          "name": "stdout",
          "text": [
            "gtd bsvgl vf fgedsugt dffml dkcymvsf gtmg gtd chjde ha \n",
            "\n",
            "aevdsxftvc tdycf bf gh id fgehsu aehz tmexftvcf. aevdsxf qms \n",
            "\n",
            "uvod bf gtd fgedsugt jd sddx jtds yvad udgf ghbut. \n",
            "\n",
            "vs mxxvgvhs, cdhcyd dkcedff bsvgl gtehbut yhod,amzvyl, aevdsxf, msx hgtdef \n",
            "\n",
            "ftmed fghevdf ha avsxvsu qhzzhs uehbsx jvgt fhzdhsd.gtded med zmsl \n",
            "\n",
            "idsdavgf ha fgmlvsu bsvgdx vs ghbut gvzdf, mf vg tdycf \n",
            "\n",
            "gh amqd qtmyydsuvsu fvgbmgvhsf jvgt qhbemud. gtd vzchegmsqd ha fgmlvsu \n",
            "\n",
            "bsvgdx tmf fgebqp m qthex mzhsu zmsl cdhcyd gtehbuthbg tvfghel.pddcvsu \n",
            "\n",
            "zdzhevdf ha jtmg jd tmod mqqhzcyvftdx gtehbuthbg tvfghel qms tdyc \n",
            "\n",
            "bf fdd thj vsxvovxbmyf msx qhzzbsvgvdf tmod cdefdodedx gtehbut ghbut \n",
            "\n",
            "gvzdf msx vsgh m ievutgde abgbed.\n",
            "\n",
            "\n",
            "the unity is strength essay explains that the power of \n",
            "\n",
            "friendship helps us to be strong from hardships. friends can \n",
            "\n",
            "give us the strength we need when life gets tough. \n",
            "\n",
            "in addition, people express unity through love,family, friends, and others \n",
            "\n",
            "share stories of finding common ground with someone.there are many \n",
            "\n",
            "benefits of staying united in tough times, as it helps \n",
            "\n",
            "to face challenging situations with courage. the importance of staying \n",
            "\n",
            "united has struck a chord among many people throughout history.keeping \n",
            "\n",
            "memories of what we have accomplished throughout history can help \n",
            "\n",
            "us see how individuals and communities have persevered through tough \n",
            "\n",
            "times and into a brighter future.\n",
            "\n",
            "\n"
          ]
        }
      ]
    },
    {
      "cell_type": "markdown",
      "source": [
        "<ins>**Plaintext of Task-02(a) is :**</ins><br>\n",
        "<p>the unity is strength essay explains that the power of\n",
        "friendship helps us to be strong from hardships. friends can\n",
        "give us the strength we need when life gets tough.\n",
        "in addition, people express unity through love,family, friends, and others\n",
        "share stories of finding common ground with someone.there are many\n",
        "benefits of staying united in tough times, as it helps\n",
        "to face challenging situations with courage. the importance of staying\n",
        "united has struck a chord among many people throughout history.keeping\n",
        "memories of what we have accomplished throughout history can help\n",
        "us see how individuals and communities have persevered through tough\n",
        "times and into a brighter future.</p>"
      ],
      "metadata": {
        "id": "NFVgDWv2PIqX"
      }
    },
    {
      "cell_type": "markdown",
      "source": [
        "# <ins>Task - 03</ins>"
      ],
      "metadata": {
        "id": "5xNroxD-EIiP"
      }
    },
    {
      "cell_type": "code",
      "source": [
        "# encryption function\n",
        "\n",
        "def encryption(plaintext, keystring):\n",
        "  plaintext = plaintext.replace(\" \",\"\")     # removing space\n",
        "  n = int(len(plaintext) / len(keystring))\n",
        "  rem = int(len(plaintext) % len(keystring))\n",
        "\n",
        "  for i in range(n-1):\n",
        "    keystring += keystring\n",
        "  for i in range(rem):\n",
        "    keystring += keystring[i]\n",
        "\n",
        "  ciphertext = \"\"\n",
        "\n",
        "  for i in range(len(plaintext)):\n",
        "    ciphertext += chr((ord(plaintext[i]) + ord(keystring[i])) % 26 + 65)\n",
        "  return ciphertext"
      ],
      "metadata": {
        "id": "i39z-SUSEQs2"
      },
      "execution_count": null,
      "outputs": []
    },
    {
      "cell_type": "code",
      "source": [
        "# decryption function\n",
        "\n",
        "def decryption(ciphertext, keystring):\n",
        "  ciphertext = ciphertext.replace(\" \",\"\")     # removing space\n",
        "  n = int(len(ciphertext) / len(keystring))\n",
        "  rem = int(len(ciphertext) % len(keystring))\n",
        "\n",
        "  for i in range(n-1):\n",
        "    keystring += keystring\n",
        "  for i in range(rem):\n",
        "    keystring += keystring[i]\n",
        "\n",
        "  plaintext = \"\"\n",
        "\n",
        "  for i in range(len(ciphertext)):\n",
        "    plaintext += chr((ord(ciphertext[i]) - ord(keystring[i])) % 26 + 65)\n",
        "  return plaintext"
      ],
      "metadata": {
        "id": "YvFf6ESsIeOb"
      },
      "execution_count": null,
      "outputs": []
    },
    {
      "cell_type": "code",
      "source": [
        "def print_result(a, b, key, s1, s2):\n",
        "  res = \"\"\n",
        "  j = 0\n",
        "  for i in range(len(a)):\n",
        "    if a[i]==' ':\n",
        "      res+=' '\n",
        "    else:\n",
        "      res+=b[j]\n",
        "      j+=1\n",
        "  print(f\"\\n{s1} of your given {s2} by using key {key} is : {res}\\n\")"
      ],
      "metadata": {
        "id": "oSQol1QFJXFh"
      },
      "execution_count": null,
      "outputs": []
    },
    {
      "cell_type": "code",
      "source": [
        "while True:\n",
        "  print(\"0. break\\n1. encryption\\n2. decryption\\n\")\n",
        "  choice = input(\"enter your choice : \")\n",
        "  if(choice==\"0\"):\n",
        "    break\n",
        "  elif(choice==\"1\"):\n",
        "    plaintext = input(\"enter your plain text : \")\n",
        "    plaintext = plaintext.upper()\n",
        "    keystring = input(\"enter your keystring : \")\n",
        "    keystring = keystring.upper()\n",
        "    ciphertext = encryption(plaintext, keystring)\n",
        "    print_result(plaintext, ciphertext, keystring, \"cipher text\", \"plain text\")\n",
        "  else:\n",
        "    ciphertext = input(\"enter your cipher text : \")\n",
        "    ciphertext = ciphertext.upper()\n",
        "    keystring = input(\"enter your keystring : \")\n",
        "    keystring = keystring.upper()\n",
        "    plaintext = decryption(ciphertext, keystring)\n",
        "    print_result(ciphertext, plaintext, keystring, \"plain text\", \"cipher text\")"
      ],
      "metadata": {
        "colab": {
          "base_uri": "https://localhost:8080/"
        },
        "id": "NnpIKVk0FVGe",
        "outputId": "25274f27-a8a2-496f-b0da-8a296db8a2d1"
      },
      "execution_count": null,
      "outputs": [
        {
          "name": "stdout",
          "output_type": "stream",
          "text": [
            "0. break\n",
            "1. encryption\n",
            "2. decryption\n",
            "\n",
            "enter your choice : 1\n",
            "enter your plain text : CSE FINAL YEAR THEORY COURSE INTRODUCTION TO COMPUER SECURITY AND FORENSICS\n",
            "enter your keystring : sustcse\n",
            "\n",
            "cipher text of your given plain text by using key SUSTCSE is : UMW YKFED SWTT LLWIJR EGYJMW BPLVGXMVVASF NG VQETMYJ LGUYJCLR CFH XIJXPKMUM\n",
            "\n",
            "0. break\n",
            "1. encryption\n",
            "2. decryption\n",
            "\n",
            "enter your choice : 2\n",
            "enter your cipher text : UMW YKFED SWTT LLWIJR EGYJMW BPLVGXMVVASF NG VQETMYJ LGUYJCLR CFH XIJXPKMUM\n",
            "enter your keystring : sustcse\n",
            "\n",
            "plain text of your given cipher text by using key SUSTCSE is : CSE FINAL YEAR THEORY COURSE INTRODUCTION TO COMPUER SECURITY AND FORENSICS\n",
            "\n",
            "0. break\n",
            "1. encryption\n",
            "2. decryption\n",
            "\n",
            "enter your choice : 0\n"
          ]
        }
      ]
    },
    {
      "cell_type": "markdown",
      "source": [
        "# <ins>Task - 04</ins>"
      ],
      "metadata": {
        "id": "glr5c6CXBqS7"
      }
    },
    {
      "cell_type": "code",
      "source": [
        "# key_string = \"AWESOME INTRODUCTION TO COMPUTER SECURITY AND FORENSICS\"\n",
        "key_string = \"GYBNQKURP\""
      ],
      "metadata": {
        "id": "VsLY8NB3BuTu"
      },
      "execution_count": null,
      "outputs": []
    },
    {
      "cell_type": "code",
      "source": [
        "# key string without spaces\n",
        "key_string = key_string.replace(\" \",\"\")\n",
        "key_string"
      ],
      "metadata": {
        "colab": {
          "base_uri": "https://localhost:8080/",
          "height": 35
        },
        "id": "HL1rDrbECC8j",
        "outputId": "00df2d71-9ae1-40c0-d355-ffc56b5364f3"
      },
      "execution_count": null,
      "outputs": [
        {
          "output_type": "execute_result",
          "data": {
            "text/plain": [
              "'GYBNQKURP'"
            ],
            "application/vnd.google.colaboratory.intrinsic+json": {
              "type": "string"
            }
          },
          "metadata": {},
          "execution_count": 2
        }
      ]
    },
    {
      "cell_type": "code",
      "source": [
        "# calculating dimension of the key_string_ascii_matrix\n",
        "# we want mxm = n\n",
        "import math\n",
        "n = len(key_string)\n",
        "m = int(math.sqrt(n))\n",
        "m"
      ],
      "metadata": {
        "colab": {
          "base_uri": "https://localhost:8080/"
        },
        "id": "8B0En5DYCJw_",
        "outputId": "633ebce5-1b72-4576-8d33-1c8863f1c6ec"
      },
      "execution_count": null,
      "outputs": [
        {
          "output_type": "execute_result",
          "data": {
            "text/plain": [
              "3"
            ]
          },
          "metadata": {},
          "execution_count": 3
        }
      ]
    },
    {
      "cell_type": "code",
      "source": [
        "# calculating key_string_ascii_matrix\n",
        "import numpy as np\n",
        "key_string_ascii_matrix = np.zeros((m,m))\n",
        "cnt = 0\n",
        "for i in range(m):\n",
        "  for j in range(m):\n",
        "    key_string_ascii_matrix[i][j] = int(ord(key_string[cnt]))\n",
        "    cnt+=1\n",
        "key_string_ascii_matrix = key_string_ascii_matrix % 65\n",
        "key_string_ascii_matrix"
      ],
      "metadata": {
        "colab": {
          "base_uri": "https://localhost:8080/"
        },
        "id": "XthmEvTnCP-p",
        "outputId": "7f775c3b-2f65-46db-9570-26e66b05b085"
      },
      "execution_count": null,
      "outputs": [
        {
          "output_type": "execute_result",
          "data": {
            "text/plain": [
              "array([[ 6., 24.,  1.],\n",
              "       [13., 16., 10.],\n",
              "       [20., 17., 15.]])"
            ]
          },
          "metadata": {},
          "execution_count": 94
        }
      ]
    },
    {
      "cell_type": "code",
      "source": [
        "# encryption function\n",
        "def encryption(plaintext):\n",
        "  plaintext = plaintext.replace(\" \",\"\")\n",
        "  n = len(plaintext)\n",
        "  # calculating plaintext_ascii_matrix\n",
        "  plaintext_ascii_matrix = np.zeros((n,1))\n",
        "  for i in range(n):\n",
        "    plaintext_ascii_matrix[i][0] = int(ord(plaintext[i]))\n",
        "  plaintext_ascii_matrix = plaintext_ascii_matrix % 65\n",
        "\n",
        "  # calculating ciphertext_ascii_matrix\n",
        "  ciphertext_ascii_matrix = np.dot(key_string_ascii_matrix, plaintext_ascii_matrix)\n",
        "  ciphertext_ascii_matrix = ciphertext_ascii_matrix % 26\n",
        "\n",
        "  # generating cipher text\n",
        "  ciphertext = \"\"\n",
        "  for i in range(n):\n",
        "    ciphertext += chr(int(ciphertext_ascii_matrix[i][0]) + ord('A'))\n",
        "  return ciphertext"
      ],
      "metadata": {
        "id": "Bjmhv_uhD6FA"
      },
      "execution_count": null,
      "outputs": []
    },
    {
      "cell_type": "code",
      "source": [
        "# calling encryption function\n",
        "plaintext = input(\"enter plain text : \")\n",
        "ciphertext = encryption(plaintext)\n",
        "ciphertext_with_spaces = \"\"\n",
        "\n",
        "for char1,char2 in zip(plaintext, ciphertext):\n",
        "  if char1==' ':\n",
        "    ciphertext_with_spaces+=' '\n",
        "  ciphertext_with_spaces+=char2\n",
        "\n",
        "print(\"cipher text of given plain text : \", ciphertext_with_spaces)"
      ],
      "metadata": {
        "colab": {
          "base_uri": "https://localhost:8080/"
        },
        "id": "xKA2XAkgHGy-",
        "outputId": "1c6216ca-2b03-4511-996a-2dd270563280"
      },
      "execution_count": null,
      "outputs": [
        {
          "output_type": "stream",
          "name": "stdout",
          "text": [
            "enter plain text : ACT\n",
            "cipher text of given plain text :  POH\n"
          ]
        }
      ]
    },
    {
      "cell_type": "code",
      "source": [
        "# decryption function\n",
        "def decryption(ciphertext):\n",
        "  ciphertext = ciphertext.replace(\" \",\"\")\n",
        "  n = len(ciphertext)\n",
        "  # calculating ciphertext_ascii_matrix\n",
        "  ciphertext_ascii_matrix = np.zeros((n,1))\n",
        "  for i in range(n):\n",
        "    ciphertext_ascii_matrix[i][0] = int(ord(ciphertext[i]))\n",
        "  ciphertext_ascii_matrix = ciphertext_ascii_matrix % 65\n",
        "\n",
        "  # inverse of key_string_ascii_matrix\n",
        "  key_string_ascii_matrix_inv = np.linalg.inv(key_string_ascii_matrix)\n",
        "  key_string_ascii_matrix_inv = (key_string_ascii_matrix_inv) % 26\n",
        "\n",
        "\n",
        "  # calculating plaintext_ascii_matrix\n",
        "  plaintext_ascii_matrix = np.dot(key_string_ascii_matrix_inv, ciphertext_ascii_matrix)\n",
        "  plaintext_ascii_matrix = plaintext_ascii_matrix % 26\n",
        "\n",
        "  # generating plain text\n",
        "  plaintext = \"\"\n",
        "  for i in range(n):\n",
        "    plaintext += chr(int(plaintext_ascii_matrix[i][0]) + ord('A'))\n",
        "  return plaintext"
      ],
      "metadata": {
        "id": "1rm8voH1Hgm3"
      },
      "execution_count": null,
      "outputs": []
    },
    {
      "cell_type": "code",
      "source": [
        "# calling decryption function\n",
        "ciphertext = input(\"enter cipher text : \")\n",
        "plaintext = decryption(ciphertext)\n",
        "plaintext_with_spaces = \"\"\n",
        "\n",
        "for char1,char2 in zip(ciphertext, plaintext):\n",
        "  if char1==' ':\n",
        "    plaintext_with_spaces+=' '\n",
        "  plaintext_with_spaces+=char2\n",
        "\n",
        "print(\"plain text of given plain text : \", plaintext_with_spaces)"
      ],
      "metadata": {
        "colab": {
          "base_uri": "https://localhost:8080/"
        },
        "id": "1JDvEU2zL8lb",
        "outputId": "9977811c-e94f-4801-bb73-6d226d2aeefd"
      },
      "execution_count": null,
      "outputs": [
        {
          "output_type": "stream",
          "name": "stdout",
          "text": [
            "enter cipher text : POH\n",
            "[[15.]\n",
            " [14.]\n",
            " [ 7.]]\n",
            "[[ 6. 24.  1.]\n",
            " [13. 16. 10.]\n",
            " [20. 17. 15.]]\n",
            "plain text of given plain text :  AAA\n"
          ]
        }
      ]
    }
  ]
}