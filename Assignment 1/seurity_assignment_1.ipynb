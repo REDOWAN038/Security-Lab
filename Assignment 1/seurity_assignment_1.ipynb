{
  "nbformat": 4,
  "nbformat_minor": 0,
  "metadata": {
    "colab": {
      "provenance": [],
      "toc_visible": true,
      "authorship_tag": "ABX9TyPxpH+wCJ95Di3IPk+ppVWt",
      "include_colab_link": true
    },
    "kernelspec": {
      "name": "python3",
      "display_name": "Python 3"
    },
    "language_info": {
      "name": "python"
    }
  },
  "cells": [
    {
      "cell_type": "markdown",
      "metadata": {
        "id": "view-in-github",
        "colab_type": "text"
      },
      "source": [
        "<a href=\"https://colab.research.google.com/github/REDOWAN038/Security-Lab/blob/main/seurity_assignment_1.ipynb\" target=\"_parent\"><img src=\"https://colab.research.google.com/assets/colab-badge.svg\" alt=\"Open In Colab\"/></a>"
      ]
    },
    {
      "cell_type": "markdown",
      "source": [
        "# <ins>Task - 01(A)</ins>"
      ],
      "metadata": {
        "id": "ju8bFe3btyPU"
      }
    },
    {
      "cell_type": "code",
      "source": [
        "'''\n",
        "  the decryption function takes ciphertext and key as input\n",
        "  Every character is replaced with the character K slots to the left\n",
        "  Dn(x) = (x-n) mod 26\n",
        "'''\n",
        "\n",
        "def decryption(ciphertext,key):\n",
        "    plaintext = \"\"\n",
        "    for i in range(len(ciphertext)):\n",
        "        ch = ciphertext[i]\n",
        "        if(ch.isupper()):\n",
        "            plaintext += chr((ord(ch) - (key-65)) % 26 + 65)\n",
        "        elif(ch.islower()):\n",
        "            plaintext += chr((ord(ch) - (key-97)) % 26 + 97)\n",
        "        else:\n",
        "          plaintext+=ch\n",
        "    return plaintext"
      ],
      "metadata": {
        "id": "RO0Ra9Wzt29T"
      },
      "execution_count": 54,
      "outputs": []
    },
    {
      "cell_type": "markdown",
      "source": [
        "# <ins>Task - 01(B)</ins>"
      ],
      "metadata": {
        "id": "sVyE9eNc2gE_"
      }
    },
    {
      "cell_type": "code",
      "source": [
        "# given ciphertext\n",
        "\n",
        "ciphertext = \"XNZ XVMIDQVG VO DDXO WPDGYDIB NPNO DN BJDIB OJ WZ BMZVO VBVDI.\""
      ],
      "metadata": {
        "id": "2omhU80puf-Y"
      },
      "execution_count": 55,
      "outputs": []
    },
    {
      "cell_type": "code",
      "source": [
        "# first let's use key = 1\n",
        "\n",
        "key = 1\n",
        "plaintext = decryption(ciphertext,key)\n",
        "print(f\"plaintext of given ciphertext when we use key {key} : \", plaintext)"
      ],
      "metadata": {
        "colab": {
          "base_uri": "https://localhost:8080/"
        },
        "id": "KwGi44gHvC1f",
        "outputId": "698a2f9e-03c2-4d8f-ba4e-28fc2f4f0809"
      },
      "execution_count": 56,
      "outputs": [
        {
          "output_type": "stream",
          "name": "stdout",
          "text": [
            "plaintext of given ciphertext when we use key 1 :  WMY WULHCPUF UN CCWN VOCFXCHA MOMN CM AICHA NI VY ALYUN UAUCH.\n"
          ]
        }
      ]
    },
    {
      "cell_type": "code",
      "source": [
        "# let's use key = 2\n",
        "\n",
        "key = 2\n",
        "plaintext = decryption(ciphertext,key)\n",
        "print(f\"plaintext of given ciphertext when we use key {key} : \", plaintext)"
      ],
      "metadata": {
        "colab": {
          "base_uri": "https://localhost:8080/"
        },
        "id": "R6sMOzn1x9kH",
        "outputId": "3e0f3bca-79aa-4227-d772-3bb9352fedb5"
      },
      "execution_count": 57,
      "outputs": [
        {
          "output_type": "stream",
          "name": "stdout",
          "text": [
            "plaintext of given ciphertext when we use key 2 :  VLX VTKGBOTE TM BBVM UNBEWBGZ LNLM BL ZHBGZ MH UX ZKXTM TZTBG.\n"
          ]
        }
      ]
    },
    {
      "cell_type": "code",
      "source": [
        "# let's use key = 3\n",
        "\n",
        "key = 3\n",
        "plaintext = decryption(ciphertext,key)\n",
        "print(f\"plaintext of given ciphertext when we use key {key} : \", plaintext)"
      ],
      "metadata": {
        "colab": {
          "base_uri": "https://localhost:8080/"
        },
        "id": "FwNGNNwWyAob",
        "outputId": "18ec762f-cdc4-45ed-b882-041fa8f7940c"
      },
      "execution_count": 58,
      "outputs": [
        {
          "output_type": "stream",
          "name": "stdout",
          "text": [
            "plaintext of given ciphertext when we use key 3 :  UKW USJFANSD SL AAUL TMADVAFY KMKL AK YGAFY LG TW YJWSL SYSAF.\n"
          ]
        }
      ]
    },
    {
      "cell_type": "code",
      "source": [
        "# let's use key = 4\n",
        "\n",
        "key = 4\n",
        "plaintext = decryption(ciphertext,key)\n",
        "print(f\"plaintext of given ciphertext when we use key {key} : \", plaintext)"
      ],
      "metadata": {
        "colab": {
          "base_uri": "https://localhost:8080/"
        },
        "id": "R1D0wPagyDOZ",
        "outputId": "fba87f53-ec38-40f4-cb3c-ece126f9d778"
      },
      "execution_count": 59,
      "outputs": [
        {
          "output_type": "stream",
          "name": "stdout",
          "text": [
            "plaintext of given ciphertext when we use key 4 :  TJV TRIEZMRC RK ZZTK SLZCUZEX JLJK ZJ XFZEX KF SV XIVRK RXRZE.\n"
          ]
        }
      ]
    },
    {
      "cell_type": "code",
      "source": [
        "# let's use key = 5\n",
        "\n",
        "key = 5\n",
        "plaintext = decryption(ciphertext,key)\n",
        "print(f\"plaintext of given ciphertext when we use key {key} : \", plaintext)"
      ],
      "metadata": {
        "colab": {
          "base_uri": "https://localhost:8080/"
        },
        "id": "S38H9YAOyGBh",
        "outputId": "3d3bc5d6-dfa7-4fad-cb4a-1e464d771db2"
      },
      "execution_count": 60,
      "outputs": [
        {
          "output_type": "stream",
          "name": "stdout",
          "text": [
            "plaintext of given ciphertext when we use key 5 :  SIU SQHDYLQB QJ YYSJ RKYBTYDW IKIJ YI WEYDW JE RU WHUQJ QWQYD.\n"
          ]
        }
      ]
    },
    {
      "cell_type": "code",
      "source": [
        "# let's use key = 6\n",
        "\n",
        "key = 6\n",
        "plaintext = decryption(ciphertext,key)\n",
        "print(f\"plaintext of given ciphertext when we use key {key} : \", plaintext)"
      ],
      "metadata": {
        "colab": {
          "base_uri": "https://localhost:8080/"
        },
        "id": "QKqkqB35yIgl",
        "outputId": "3e71cde9-f45d-4141-fae6-4136c721ff10"
      },
      "execution_count": 61,
      "outputs": [
        {
          "output_type": "stream",
          "name": "stdout",
          "text": [
            "plaintext of given ciphertext when we use key 6 :  RHT RPGCXKPA PI XXRI QJXASXCV HJHI XH VDXCV ID QT VGTPI PVPXC.\n"
          ]
        }
      ]
    },
    {
      "cell_type": "code",
      "source": [
        "# let's use key = 7\n",
        "\n",
        "key = 7\n",
        "plaintext = decryption(ciphertext,key)\n",
        "print(f\"plaintext of given ciphertext when we use key {key} : \", plaintext)"
      ],
      "metadata": {
        "colab": {
          "base_uri": "https://localhost:8080/"
        },
        "id": "qRlLX1KyyLhT",
        "outputId": "5097ddcf-38b4-4d84-f38d-dd036d477e57"
      },
      "execution_count": 62,
      "outputs": [
        {
          "output_type": "stream",
          "name": "stdout",
          "text": [
            "plaintext of given ciphertext when we use key 7 :  QGS QOFBWJOZ OH WWQH PIWZRWBU GIGH WG UCWBU HC PS UFSOH OUOWB.\n"
          ]
        }
      ]
    },
    {
      "cell_type": "code",
      "source": [
        "# let's use key = 8\n",
        "\n",
        "key = 8\n",
        "plaintext = decryption(ciphertext,key)\n",
        "print(f\"plaintext of given ciphertext when we use key {key} : \", plaintext)"
      ],
      "metadata": {
        "colab": {
          "base_uri": "https://localhost:8080/"
        },
        "id": "gaHP2sApyOLb",
        "outputId": "b838552f-97c9-495f-b6c0-651e0f151022"
      },
      "execution_count": 63,
      "outputs": [
        {
          "output_type": "stream",
          "name": "stdout",
          "text": [
            "plaintext of given ciphertext when we use key 8 :  PFR PNEAVINY NG VVPG OHVYQVAT FHFG VF TBVAT GB OR TERNG NTNVA.\n"
          ]
        }
      ]
    },
    {
      "cell_type": "code",
      "source": [
        "# let's use key = 9\n",
        "\n",
        "key = 9\n",
        "plaintext = decryption(ciphertext,key)\n",
        "print(f\"plaintext of given ciphertext when we use key {key} : \", plaintext)"
      ],
      "metadata": {
        "colab": {
          "base_uri": "https://localhost:8080/"
        },
        "id": "g_v_G0gayQbi",
        "outputId": "b2f2d15f-b29a-4efc-e933-4cbdd414a4a9"
      },
      "execution_count": 64,
      "outputs": [
        {
          "output_type": "stream",
          "name": "stdout",
          "text": [
            "plaintext of given ciphertext when we use key 9 :  OEQ OMDZUHMX MF UUOF NGUXPUZS EGEF UE SAUZS FA NQ SDQMF MSMUZ.\n"
          ]
        }
      ]
    },
    {
      "cell_type": "code",
      "source": [
        "# let's use key = 10\n",
        "\n",
        "key = 10\n",
        "plaintext = decryption(ciphertext,key)\n",
        "print(f\"plaintext of given ciphertext when we use key {key} : \", plaintext)"
      ],
      "metadata": {
        "colab": {
          "base_uri": "https://localhost:8080/"
        },
        "id": "RlywALJFySTO",
        "outputId": "e97a8adf-e89c-4823-f8b4-2e3894b9085e"
      },
      "execution_count": 65,
      "outputs": [
        {
          "output_type": "stream",
          "name": "stdout",
          "text": [
            "plaintext of given ciphertext when we use key 10 :  NDP NLCYTGLW LE TTNE MFTWOTYR DFDE TD RZTYR EZ MP RCPLE LRLTY.\n"
          ]
        }
      ]
    },
    {
      "cell_type": "code",
      "source": [
        "# let's use key = 11\n",
        "\n",
        "key = 11\n",
        "plaintext = decryption(ciphertext,key)\n",
        "print(f\"plaintext of given ciphertext when we use key {key} : \", plaintext)"
      ],
      "metadata": {
        "colab": {
          "base_uri": "https://localhost:8080/"
        },
        "id": "893fMaiOyU3F",
        "outputId": "41f45d11-51d8-4df8-a8bb-4f4e85e7bd19"
      },
      "execution_count": 66,
      "outputs": [
        {
          "output_type": "stream",
          "name": "stdout",
          "text": [
            "plaintext of given ciphertext when we use key 11 :  MCO MKBXSFKV KD SSMD LESVNSXQ CECD SC QYSXQ DY LO QBOKD KQKSX.\n"
          ]
        }
      ]
    },
    {
      "cell_type": "code",
      "source": [
        "# let's use key = 12\n",
        "\n",
        "key = 12\n",
        "plaintext = decryption(ciphertext,key)\n",
        "print(f\"plaintext of given ciphertext when we use key {key} : \", plaintext)"
      ],
      "metadata": {
        "colab": {
          "base_uri": "https://localhost:8080/"
        },
        "id": "CvYRtWpqyXD1",
        "outputId": "93a47959-254e-47bc-bf04-b11f32e944cc"
      },
      "execution_count": 67,
      "outputs": [
        {
          "output_type": "stream",
          "name": "stdout",
          "text": [
            "plaintext of given ciphertext when we use key 12 :  LBN LJAWREJU JC RRLC KDRUMRWP BDBC RB PXRWP CX KN PANJC JPJRW.\n"
          ]
        }
      ]
    },
    {
      "cell_type": "code",
      "source": [
        "# let's use key = 13\n",
        "\n",
        "key = 13\n",
        "plaintext = decryption(ciphertext,key)\n",
        "print(f\"plaintext of given ciphertext when we use key {key} : \", plaintext)"
      ],
      "metadata": {
        "colab": {
          "base_uri": "https://localhost:8080/"
        },
        "id": "gHohfg_ayZJv",
        "outputId": "fbdcaf5b-9abd-47f4-ab5a-d857b8b24a56"
      },
      "execution_count": 68,
      "outputs": [
        {
          "output_type": "stream",
          "name": "stdout",
          "text": [
            "plaintext of given ciphertext when we use key 13 :  KAM KIZVQDIT IB QQKB JCQTLQVO ACAB QA OWQVO BW JM OZMIB IOIQV.\n"
          ]
        }
      ]
    },
    {
      "cell_type": "code",
      "source": [
        "# let's use key = 14\n",
        "\n",
        "key = 14\n",
        "plaintext = decryption(ciphertext,key)\n",
        "print(f\"plaintext of given ciphertext when we use key {key} : \", plaintext)"
      ],
      "metadata": {
        "colab": {
          "base_uri": "https://localhost:8080/"
        },
        "id": "3u5V-5V7y0Hf",
        "outputId": "56a5220b-dea2-4521-ac25-75c0a9e9b6e3"
      },
      "execution_count": 69,
      "outputs": [
        {
          "output_type": "stream",
          "name": "stdout",
          "text": [
            "plaintext of given ciphertext when we use key 14 :  JZL JHYUPCHS HA PPJA IBPSKPUN ZBZA PZ NVPUN AV IL NYLHA HNHPU.\n"
          ]
        }
      ]
    },
    {
      "cell_type": "code",
      "source": [
        "# let's use key = 15\n",
        "\n",
        "key = 15\n",
        "plaintext = decryption(ciphertext,key)\n",
        "print(f\"plaintext of given ciphertext when we use key {key} : \", plaintext)"
      ],
      "metadata": {
        "colab": {
          "base_uri": "https://localhost:8080/"
        },
        "id": "0wA0JSGzy2xN",
        "outputId": "3d29ca31-9ebf-4c60-aa88-b3c0ed888e2d"
      },
      "execution_count": 70,
      "outputs": [
        {
          "output_type": "stream",
          "name": "stdout",
          "text": [
            "plaintext of given ciphertext when we use key 15 :  IYK IGXTOBGR GZ OOIZ HAORJOTM YAYZ OY MUOTM ZU HK MXKGZ GMGOT.\n"
          ]
        }
      ]
    },
    {
      "cell_type": "code",
      "source": [
        "# let's use key = 16\n",
        "\n",
        "key = 16\n",
        "plaintext = decryption(ciphertext,key)\n",
        "print(f\"plaintext of given ciphertext when we use key {key} : \", plaintext)"
      ],
      "metadata": {
        "colab": {
          "base_uri": "https://localhost:8080/"
        },
        "id": "ApGlUXmRy5cv",
        "outputId": "9183df29-10d5-4570-9f81-4a6b7ee552a2"
      },
      "execution_count": 71,
      "outputs": [
        {
          "output_type": "stream",
          "name": "stdout",
          "text": [
            "plaintext of given ciphertext when we use key 16 :  HXJ HFWSNAFQ FY NNHY GZNQINSL XZXY NX LTNSL YT GJ LWJFY FLFNS.\n"
          ]
        }
      ]
    },
    {
      "cell_type": "code",
      "source": [
        "# let's use key = 17\n",
        "\n",
        "key = 17\n",
        "plaintext = decryption(ciphertext,key)\n",
        "print(f\"plaintext of given ciphertext when we use key {key} : \", plaintext)"
      ],
      "metadata": {
        "colab": {
          "base_uri": "https://localhost:8080/"
        },
        "id": "H_DvnRjWy7jv",
        "outputId": "2c72ed19-f5af-42ed-bb17-1cc516220f2e"
      },
      "execution_count": 72,
      "outputs": [
        {
          "output_type": "stream",
          "name": "stdout",
          "text": [
            "plaintext of given ciphertext when we use key 17 :  GWI GEVRMZEP EX MMGX FYMPHMRK WYWX MW KSMRK XS FI KVIEX EKEMR.\n"
          ]
        }
      ]
    },
    {
      "cell_type": "code",
      "source": [
        "# let's use key = 18\n",
        "\n",
        "key = 18\n",
        "plaintext = decryption(ciphertext,key)\n",
        "print(f\"plaintext of given ciphertext when we use key {key} : \", plaintext)"
      ],
      "metadata": {
        "colab": {
          "base_uri": "https://localhost:8080/"
        },
        "id": "S9oKMIEyy_Oy",
        "outputId": "4a21ac0d-8c2c-43bd-a7f6-ae27f787ba45"
      },
      "execution_count": 73,
      "outputs": [
        {
          "output_type": "stream",
          "name": "stdout",
          "text": [
            "plaintext of given ciphertext when we use key 18 :  FVH FDUQLYDO DW LLFW EXLOGLQJ VXVW LV JRLQJ WR EH JUHDW DJDLQ.\n"
          ]
        }
      ]
    },
    {
      "cell_type": "code",
      "source": [
        "# let's use key = 19\n",
        "\n",
        "key = 19\n",
        "plaintext = decryption(ciphertext,key)\n",
        "print(f\"plaintext of given ciphertext when we use key {key} : \", plaintext)"
      ],
      "metadata": {
        "colab": {
          "base_uri": "https://localhost:8080/"
        },
        "id": "YAka9PHKzCB7",
        "outputId": "c385797d-0ddc-4af1-e087-ff3c8cd21caa"
      },
      "execution_count": 74,
      "outputs": [
        {
          "output_type": "stream",
          "name": "stdout",
          "text": [
            "plaintext of given ciphertext when we use key 19 :  EUG ECTPKXCN CV KKEV DWKNFKPI UWUV KU IQKPI VQ DG ITGCV CICKP.\n"
          ]
        }
      ]
    },
    {
      "cell_type": "code",
      "source": [
        "# let's use key = 20\n",
        "\n",
        "key = 20\n",
        "plaintext = decryption(ciphertext,key)\n",
        "print(f\"plaintext of given ciphertext when we use key {key} : \", plaintext)"
      ],
      "metadata": {
        "colab": {
          "base_uri": "https://localhost:8080/"
        },
        "id": "dYkOYY8pzDtA",
        "outputId": "ab3b42db-c368-480f-9cff-360f88b8cc84"
      },
      "execution_count": 75,
      "outputs": [
        {
          "output_type": "stream",
          "name": "stdout",
          "text": [
            "plaintext of given ciphertext when we use key 20 :  DTF DBSOJWBM BU JJDU CVJMEJOH TVTU JT HPJOH UP CF HSFBU BHBJO.\n"
          ]
        }
      ]
    },
    {
      "cell_type": "code",
      "source": [
        "# let's use key = 21\n",
        "\n",
        "key = 21\n",
        "plaintext = decryption(ciphertext,key)\n",
        "print(f\"plaintext of given ciphertext when we use key {key} : \", plaintext)"
      ],
      "metadata": {
        "colab": {
          "base_uri": "https://localhost:8080/"
        },
        "id": "woZ_ltJozG1y",
        "outputId": "0e2776c2-5103-4820-bd90-3efa4deabc74"
      },
      "execution_count": 76,
      "outputs": [
        {
          "output_type": "stream",
          "name": "stdout",
          "text": [
            "plaintext of given ciphertext when we use key 21 :  CSE CARNIVAL AT IICT BUILDING SUST IS GOING TO BE GREAT AGAIN.\n"
          ]
        }
      ]
    },
    {
      "cell_type": "markdown",
      "source": [
        "<p><b>We use every keys from 1 to 20. but all of them provides garbage results. But when we use key=21, we get a plain text which is not a garbage</b></p>\n",
        "\n",
        "<ins>**Plaintext of given ciphertext by using key 21  :**</ins><br>\n",
        "<p><b>CSE CARNIVAL AT IICT BUILDING SUST IS GOING TO BE GREAT AGAIN.</b></p>"
      ],
      "metadata": {
        "id": "v5dyxxBGz5aN"
      }
    },
    {
      "cell_type": "markdown",
      "source": [
        "# <ins>Task - 01(C)</ins>"
      ],
      "metadata": {
        "id": "pLJqc9wIsHbO"
      }
    },
    {
      "cell_type": "code",
      "source": [
        "ciphertext = \"ZKDW GR BRX JHW ZKHQ BRX FURVV D VQRZPDQ ZLWK D YDPSLUH? IURVWELWH\""
      ],
      "metadata": {
        "id": "3Z9OYZ8UsL_6"
      },
      "execution_count": 77,
      "outputs": []
    },
    {
      "cell_type": "code",
      "source": [
        "# first let's use key = 1\n",
        "\n",
        "key = 1\n",
        "plaintext = decryption(ciphertext,key)\n",
        "print(f\"plaintext of given ciphertext when we use key {key} : \", plaintext)"
      ],
      "metadata": {
        "colab": {
          "base_uri": "https://localhost:8080/"
        },
        "id": "i1S5m90630Gs",
        "outputId": "17fa4b6b-f5fb-4f08-9ef8-0efab4f6e77a"
      },
      "execution_count": 78,
      "outputs": [
        {
          "output_type": "stream",
          "name": "stdout",
          "text": [
            "plaintext of given ciphertext when we use key 1 :  YJCV FQ AQW IGV YJGP AQW ETQUU C UPQYOCP YKVJ C XCORKTG? HTQUVDKVG\n"
          ]
        }
      ]
    },
    {
      "cell_type": "code",
      "source": [
        "# let's use key = 2\n",
        "\n",
        "key = 2\n",
        "plaintext = decryption(ciphertext,key)\n",
        "print(f\"plaintext of given ciphertext when we use key {key} : \", plaintext)"
      ],
      "metadata": {
        "colab": {
          "base_uri": "https://localhost:8080/"
        },
        "id": "edDtXJKv32ZD",
        "outputId": "0f6ad060-ef89-4a7a-ebd8-be07540cdc39"
      },
      "execution_count": 79,
      "outputs": [
        {
          "output_type": "stream",
          "name": "stdout",
          "text": [
            "plaintext of given ciphertext when we use key 2 :  XIBU EP ZPV HFU XIFO ZPV DSPTT B TOPXNBO XJUI B WBNQJSF? GSPTUCJUF\n"
          ]
        }
      ]
    },
    {
      "cell_type": "code",
      "source": [
        "# let's use key = 3\n",
        "\n",
        "key = 3\n",
        "plaintext = decryption(ciphertext,key)\n",
        "print(f\"plaintext of given ciphertext when we use key {key} : \", plaintext)"
      ],
      "metadata": {
        "colab": {
          "base_uri": "https://localhost:8080/"
        },
        "id": "Fuf_FnT935pg",
        "outputId": "8e19d128-5b08-4fc1-8743-dc02c28dc675"
      },
      "execution_count": 80,
      "outputs": [
        {
          "output_type": "stream",
          "name": "stdout",
          "text": [
            "plaintext of given ciphertext when we use key 3 :  WHAT DO YOU GET WHEN YOU CROSS A SNOWMAN WITH A VAMPIRE? FROSTBITE\n"
          ]
        }
      ]
    },
    {
      "cell_type": "markdown",
      "source": [
        "<p><b>We use every keys from 1 to 2. but all of them provides garbage results. But when we use key=3, we get a plain text which is not a garbage</b></p>\n",
        "\n",
        "<ins>**Plaintext of given ciphertext by using key 3  :**</ins><br>\n",
        "<p><b>WHAT DO YOU GET WHEN YOU CROSS A SNOWMAN WITH A VAMPIRE? FROSTBITE</b></p>"
      ],
      "metadata": {
        "id": "CcM-gyYh4jXZ"
      }
    },
    {
      "cell_type": "markdown",
      "source": [
        "# <ins>Task - 02</ins>"
      ],
      "metadata": {
        "id": "OZouv1O47U1n"
      }
    },
    {
      "cell_type": "code",
      "source": [
        "'''\n",
        "  substitution_cipher takes ciphertext and mapping as input\n",
        "  based on the mapping, it maps the characters of ciphertext\n",
        "  if the character is available in mapping, then it maps in plaintext\n",
        "  otherwise it just add '*' sign in plaintext\n",
        "'''\n",
        "\n",
        "def substitution_cipher(ciphertext, mapping):\n",
        "  plaintext = \"\"\n",
        "  for c in ciphertext:\n",
        "    if c.isalpha():\n",
        "      if c in mapping:\n",
        "        plaintext+=mapping[c]\n",
        "      else:\n",
        "        plaintext+='*'\n",
        "    else:\n",
        "      plaintext+=c\n",
        "\n",
        "  return plaintext"
      ],
      "metadata": {
        "id": "g_ccuFzx7-PA"
      },
      "execution_count": 81,
      "outputs": []
    },
    {
      "cell_type": "code",
      "source": [
        "'''\n",
        "  print_result function is used for printing ciphertext and plaintext\n",
        "'''\n",
        "\n",
        "def print_result(text, words_per_line):\n",
        "  cnt=0\n",
        "  for c in text:\n",
        "    print(c, end='')\n",
        "    if(c==' '):\n",
        "      cnt+=1\n",
        "    if(cnt==words_per_line):\n",
        "      print(\"\\n\")\n",
        "      cnt=0\n",
        "\n",
        "  print(\"\\n\\n\")"
      ],
      "metadata": {
        "id": "oZjQGkYw8r93"
      },
      "execution_count": 82,
      "outputs": []
    },
    {
      "cell_type": "code",
      "source": [
        "'''\n",
        "  calc_frequency takes \"text\" as input\n",
        "  it calculates frequency of characters in a given text\n",
        "'''\n",
        "\n",
        "from collections import Counter\n",
        "\n",
        "def calc_frequency(text):\n",
        "    frequency = Counter(text)\n",
        "    sorted_characters = sorted(frequency.items(), key=lambda x: x[1], reverse=True)\n",
        "\n",
        "    for char, freq in sorted_characters:\n",
        "        print(f\"Character: {char}, Frequency: {freq}\")"
      ],
      "metadata": {
        "id": "jtSFxJ_d-RGK"
      },
      "execution_count": 83,
      "outputs": []
    },
    {
      "cell_type": "code",
      "source": [
        "'''\n",
        "  desired_mapping function is used to print characters mapping\n",
        "'''\n",
        "\n",
        "def desired_mapping(mapping):\n",
        "  print(\"Desired Mappings : \")\n",
        "  for key,val in mapping.items():\n",
        "    print(f\"{key}:{val}\")"
      ],
      "metadata": {
        "id": "WbVSHMnTJkWg"
      },
      "execution_count": 84,
      "outputs": []
    },
    {
      "cell_type": "markdown",
      "source": [
        "# <ins>Task - 02(A)</ins>"
      ],
      "metadata": {
        "id": "Crk7sgjeJDr_"
      }
    },
    {
      "cell_type": "code",
      "source": [
        "ciphertext = \"gtd bsvgl vf fgedsugt dffml dkcymvsf gtmg gtd chjde ha aevdsxftvc tdycf \\\n",
        "bf gh id fgehsu aehz tmexftvcf. aevdsxf qms uvod bf gtd fgedsugt jd sddx \\\n",
        "jtds yvad udgf ghbut. vs mxxvgvhs, cdhcyd dkcedff bsvgl gtehbut \\\n",
        "yhod,amzvyl, aevdsxf, msx hgtdef ftmed fghevdf ha avsxvsu qhzzhs \\\n",
        "uehbsx jvgt fhzdhsd.gtded med zmsl idsdavgf ha fgmlvsu bsvgdx vs \\\n",
        "ghbut gvzdf, mf vg tdycf gh amqd qtmyydsuvsu fvgbmgvhsf jvgt \\\n",
        "qhbemud. gtd vzchegmsqd ha fgmlvsu bsvgdx tmf fgebqp m qthex mzhsu \\\n",
        "zmsl cdhcyd gtehbuthbg tvfghel.pddcvsu zdzhevdf ha jtmg jd tmod \\\n",
        "mqqhzcyvftdx gtehbuthbg tvfghel qms tdyc bf fdd thj vsxvovxbmyf msx \\\n",
        "qhzzbsvgvdf tmod cdefdodedx gtehbut ghbut gvzdf msx vsgh m ievutgde \\\n",
        "abgbed.\"\n",
        "\n",
        "mapping = {}\n",
        "words_per_line = 10\n",
        "plaintext = substitution_cipher(ciphertext, mapping)\n",
        "print_result(ciphertext, words_per_line)\n",
        "print_result(plaintext, words_per_line)"
      ],
      "metadata": {
        "colab": {
          "base_uri": "https://localhost:8080/"
        },
        "id": "B7w1_MAs7Z0C",
        "outputId": "17ea7baa-6d39-470a-f5f9-6c11651863a3"
      },
      "execution_count": 85,
      "outputs": [
        {
          "output_type": "stream",
          "name": "stdout",
          "text": [
            "gtd bsvgl vf fgedsugt dffml dkcymvsf gtmg gtd chjde ha \n",
            "\n",
            "aevdsxftvc tdycf bf gh id fgehsu aehz tmexftvcf. aevdsxf qms \n",
            "\n",
            "uvod bf gtd fgedsugt jd sddx jtds yvad udgf ghbut. \n",
            "\n",
            "vs mxxvgvhs, cdhcyd dkcedff bsvgl gtehbut yhod,amzvyl, aevdsxf, msx hgtdef \n",
            "\n",
            "ftmed fghevdf ha avsxvsu qhzzhs uehbsx jvgt fhzdhsd.gtded med zmsl \n",
            "\n",
            "idsdavgf ha fgmlvsu bsvgdx vs ghbut gvzdf, mf vg tdycf \n",
            "\n",
            "gh amqd qtmyydsuvsu fvgbmgvhsf jvgt qhbemud. gtd vzchegmsqd ha fgmlvsu \n",
            "\n",
            "bsvgdx tmf fgebqp m qthex mzhsu zmsl cdhcyd gtehbuthbg tvfghel.pddcvsu \n",
            "\n",
            "zdzhevdf ha jtmg jd tmod mqqhzcyvftdx gtehbuthbg tvfghel qms tdyc \n",
            "\n",
            "bf fdd thj vsxvovxbmyf msx qhzzbsvgvdf tmod cdefdodedx gtehbut ghbut \n",
            "\n",
            "gvzdf msx vsgh m ievutgde abgbed.\n",
            "\n",
            "\n",
            "*** ***** ** ******** ***** ******** **** *** ***** ** \n",
            "\n",
            "********** ***** ** ** ** ****** **** *********. ******* *** \n",
            "\n",
            "**** ** *** ******** ** **** **** **** **** *****. \n",
            "\n",
            "** ********, ****** ******* ***** ******* ****,******, *******, *** ****** \n",
            "\n",
            "***** ******* ** ******* ****** ****** **** *******.***** *** **** \n",
            "\n",
            "******** ** ******* ****** ** ***** *****, ** ** ***** \n",
            "\n",
            "** **** *********** ********** **** *******. *** ********** ** ******* \n",
            "\n",
            "****** *** ****** * ***** ***** **** ****** ********** *******.******* \n",
            "\n",
            "******** ** **** ** **** ************ ********** ******* *** **** \n",
            "\n",
            "** *** *** *********** *** *********** **** ********** ******* ***** \n",
            "\n",
            "***** *** **** * ******** ******.\n",
            "\n",
            "\n"
          ]
        }
      ]
    },
    {
      "cell_type": "code",
      "source": [
        "# let's cheack frequency of characters in the ciphertext\n",
        "\n",
        "calc_frequency(ciphertext)"
      ],
      "metadata": {
        "colab": {
          "base_uri": "https://localhost:8080/"
        },
        "id": "zTKqY1OO-KMb",
        "outputId": "72f04d44-5fa7-4733-e097-360c3d5b832c"
      },
      "execution_count": 86,
      "outputs": [
        {
          "output_type": "stream",
          "name": "stdout",
          "text": [
            "Character:  , Frequency: 105\n",
            "Character: d, Frequency: 65\n",
            "Character: g, Frequency: 50\n",
            "Character: v, Frequency: 45\n",
            "Character: f, Frequency: 43\n",
            "Character: h, Frequency: 42\n",
            "Character: t, Frequency: 41\n",
            "Character: s, Frequency: 40\n",
            "Character: e, Frequency: 32\n",
            "Character: m, Frequency: 32\n",
            "Character: b, Frequency: 24\n",
            "Character: u, Frequency: 22\n",
            "Character: x, Frequency: 19\n",
            "Character: c, Frequency: 16\n",
            "Character: z, Frequency: 16\n",
            "Character: a, Frequency: 15\n",
            "Character: y, Frequency: 13\n",
            "Character: q, Frequency: 12\n",
            "Character: l, Frequency: 10\n",
            "Character: j, Frequency: 8\n",
            "Character: ., Frequency: 6\n",
            "Character: o, Frequency: 6\n",
            "Character: ,, Frequency: 5\n",
            "Character: i, Frequency: 3\n",
            "Character: k, Frequency: 2\n",
            "Character: p, Frequency: 2\n"
          ]
        }
      ]
    },
    {
      "cell_type": "code",
      "source": [
        "# here we can see that character \"m\" is a single letter word.\n",
        "# we know \"a\" and \"i\" are two single letter word\n",
        "# but in the ciphertext we can see that \"m\" is using in the middle of a sentence\n",
        "# we know out of \"a\" and \"i\", only \"a\" can be used in the middle of a sentence\n",
        "# let's map m=a\n",
        "\n",
        "mapping = {'m':'a'}\n",
        "words_per_line = 10\n",
        "plaintext = substitution_cipher(ciphertext, mapping)\n",
        "print_result(ciphertext, words_per_line)\n",
        "print_result(plaintext, words_per_line)"
      ],
      "metadata": {
        "colab": {
          "base_uri": "https://localhost:8080/"
        },
        "id": "yUeVYNe7Agyt",
        "outputId": "e4bcdf39-ede8-4b25-a53b-cc2921b846c1"
      },
      "execution_count": 87,
      "outputs": [
        {
          "output_type": "stream",
          "name": "stdout",
          "text": [
            "gtd bsvgl vf fgedsugt dffml dkcymvsf gtmg gtd chjde ha \n",
            "\n",
            "aevdsxftvc tdycf bf gh id fgehsu aehz tmexftvcf. aevdsxf qms \n",
            "\n",
            "uvod bf gtd fgedsugt jd sddx jtds yvad udgf ghbut. \n",
            "\n",
            "vs mxxvgvhs, cdhcyd dkcedff bsvgl gtehbut yhod,amzvyl, aevdsxf, msx hgtdef \n",
            "\n",
            "ftmed fghevdf ha avsxvsu qhzzhs uehbsx jvgt fhzdhsd.gtded med zmsl \n",
            "\n",
            "idsdavgf ha fgmlvsu bsvgdx vs ghbut gvzdf, mf vg tdycf \n",
            "\n",
            "gh amqd qtmyydsuvsu fvgbmgvhsf jvgt qhbemud. gtd vzchegmsqd ha fgmlvsu \n",
            "\n",
            "bsvgdx tmf fgebqp m qthex mzhsu zmsl cdhcyd gtehbuthbg tvfghel.pddcvsu \n",
            "\n",
            "zdzhevdf ha jtmg jd tmod mqqhzcyvftdx gtehbuthbg tvfghel qms tdyc \n",
            "\n",
            "bf fdd thj vsxvovxbmyf msx qhzzbsvgvdf tmod cdefdodedx gtehbut ghbut \n",
            "\n",
            "gvzdf msx vsgh m ievutgde abgbed.\n",
            "\n",
            "\n",
            "*** ***** ** ******** ***a* ****a*** **a* *** ***** ** \n",
            "\n",
            "********** ***** ** ** ** ****** **** *a*******. ******* *a* \n",
            "\n",
            "**** ** *** ******** ** **** **** **** **** *****. \n",
            "\n",
            "** a*******, ****** ******* ***** ******* ****,*a****, *******, a** ****** \n",
            "\n",
            "**a** ******* ** ******* ****** ****** **** *******.***** a** *a** \n",
            "\n",
            "******** ** **a**** ****** ** ***** *****, a* ** ***** \n",
            "\n",
            "** *a** **a******** ****a***** **** ****a**. *** ******a*** ** **a**** \n",
            "\n",
            "****** *a* ****** a ***** a**** *a** ****** ********** *******.******* \n",
            "\n",
            "******** ** **a* ** *a** a*********** ********** ******* *a* **** \n",
            "\n",
            "** *** *** ********a** a** *********** *a** ********** ******* ***** \n",
            "\n",
            "***** a** **** a ******** ******.\n",
            "\n",
            "\n"
          ]
        }
      ]
    },
    {
      "cell_type": "code",
      "source": [
        "# in line 6, word no 8, the word is \"a*\"\n",
        "# we know \"as\" is one of the most frequently used two letter words that starts with \"a\"\n",
        "# map f=s\n",
        "\n",
        "mapping = {'m':'a', 'f':'s'}\n",
        "words_per_line = 10\n",
        "plaintext = substitution_cipher(ciphertext, mapping)\n",
        "print_result(ciphertext, words_per_line)\n",
        "print_result(plaintext, words_per_line)"
      ],
      "metadata": {
        "colab": {
          "base_uri": "https://localhost:8080/"
        },
        "id": "aTQF3InmBBEi",
        "outputId": "524d8925-3213-4ba3-bb2d-80db05ad03a8"
      },
      "execution_count": 88,
      "outputs": [
        {
          "output_type": "stream",
          "name": "stdout",
          "text": [
            "gtd bsvgl vf fgedsugt dffml dkcymvsf gtmg gtd chjde ha \n",
            "\n",
            "aevdsxftvc tdycf bf gh id fgehsu aehz tmexftvcf. aevdsxf qms \n",
            "\n",
            "uvod bf gtd fgedsugt jd sddx jtds yvad udgf ghbut. \n",
            "\n",
            "vs mxxvgvhs, cdhcyd dkcedff bsvgl gtehbut yhod,amzvyl, aevdsxf, msx hgtdef \n",
            "\n",
            "ftmed fghevdf ha avsxvsu qhzzhs uehbsx jvgt fhzdhsd.gtded med zmsl \n",
            "\n",
            "idsdavgf ha fgmlvsu bsvgdx vs ghbut gvzdf, mf vg tdycf \n",
            "\n",
            "gh amqd qtmyydsuvsu fvgbmgvhsf jvgt qhbemud. gtd vzchegmsqd ha fgmlvsu \n",
            "\n",
            "bsvgdx tmf fgebqp m qthex mzhsu zmsl cdhcyd gtehbuthbg tvfghel.pddcvsu \n",
            "\n",
            "zdzhevdf ha jtmg jd tmod mqqhzcyvftdx gtehbuthbg tvfghel qms tdyc \n",
            "\n",
            "bf fdd thj vsxvovxbmyf msx qhzzbsvgvdf tmod cdefdodedx gtehbut ghbut \n",
            "\n",
            "gvzdf msx vsgh m ievutgde abgbed.\n",
            "\n",
            "\n",
            "*** ***** *s s******* *ssa* ****a**s **a* *** ***** ** \n",
            "\n",
            "******s*** ****s *s ** ** s***** **** *a**s***s. ******s *a* \n",
            "\n",
            "**** *s *** s******* ** **** **** **** ***s *****. \n",
            "\n",
            "** a*******, ****** *****ss ***** ******* ****,*a****, ******s, a** *****s \n",
            "\n",
            "s*a** s*****s ** ******* ****** ****** **** s******.***** a** *a** \n",
            "\n",
            "*******s ** s*a**** ****** ** ***** ****s, as ** ****s \n",
            "\n",
            "** *a** **a******** s***a****s **** ****a**. *** ******a*** ** s*a**** \n",
            "\n",
            "****** *as s***** a ***** a**** *a** ****** ********** **s****.******* \n",
            "\n",
            "*******s ** **a* ** *a** a*******s*** ********** **s**** *a* **** \n",
            "\n",
            "*s s** *** ********a*s a** **********s *a** ***s****** ******* ***** \n",
            "\n",
            "****s a** **** a ******** ******.\n",
            "\n",
            "\n"
          ]
        }
      ]
    },
    {
      "cell_type": "code",
      "source": [
        "# line 1, word no 3, the word is \"*s\"\n",
        "# we know \"is\" is one of the most frequently used two letter words that ends with \"s\"\n",
        "# map v=i\n",
        "\n",
        "mapping = {'m':'a', 'f':'s', 'v':'i'}\n",
        "words_per_line = 10\n",
        "plaintext = substitution_cipher(ciphertext, mapping)\n",
        "print_result(ciphertext, words_per_line)\n",
        "print_result(plaintext, words_per_line)"
      ],
      "metadata": {
        "colab": {
          "base_uri": "https://localhost:8080/"
        },
        "id": "HFHRkEsrCGGl",
        "outputId": "dad54ba7-dfef-49d9-eb12-f257f6baa6c4"
      },
      "execution_count": 89,
      "outputs": [
        {
          "output_type": "stream",
          "name": "stdout",
          "text": [
            "gtd bsvgl vf fgedsugt dffml dkcymvsf gtmg gtd chjde ha \n",
            "\n",
            "aevdsxftvc tdycf bf gh id fgehsu aehz tmexftvcf. aevdsxf qms \n",
            "\n",
            "uvod bf gtd fgedsugt jd sddx jtds yvad udgf ghbut. \n",
            "\n",
            "vs mxxvgvhs, cdhcyd dkcedff bsvgl gtehbut yhod,amzvyl, aevdsxf, msx hgtdef \n",
            "\n",
            "ftmed fghevdf ha avsxvsu qhzzhs uehbsx jvgt fhzdhsd.gtded med zmsl \n",
            "\n",
            "idsdavgf ha fgmlvsu bsvgdx vs ghbut gvzdf, mf vg tdycf \n",
            "\n",
            "gh amqd qtmyydsuvsu fvgbmgvhsf jvgt qhbemud. gtd vzchegmsqd ha fgmlvsu \n",
            "\n",
            "bsvgdx tmf fgebqp m qthex mzhsu zmsl cdhcyd gtehbuthbg tvfghel.pddcvsu \n",
            "\n",
            "zdzhevdf ha jtmg jd tmod mqqhzcyvftdx gtehbuthbg tvfghel qms tdyc \n",
            "\n",
            "bf fdd thj vsxvovxbmyf msx qhzzbsvgvdf tmod cdefdodedx gtehbut ghbut \n",
            "\n",
            "gvzdf msx vsgh m ievutgde abgbed.\n",
            "\n",
            "\n",
            "*** **i** is s******* *ssa* ****ai*s **a* *** ***** ** \n",
            "\n",
            "**i***s*i* ****s *s ** ** s***** **** *a**s*i*s. **i***s *a* \n",
            "\n",
            "*i** *s *** s******* ** **** **** *i** ***s *****. \n",
            "\n",
            "i* a**i*i**, ****** *****ss **i** ******* ****,*a*i**, **i***s, a** *****s \n",
            "\n",
            "s*a** s***i*s ** *i**i** ****** ****** *i** s******.***** a** *a** \n",
            "\n",
            "*****i*s ** s*a*i** **i*** i* ***** *i**s, as i* ****s \n",
            "\n",
            "** *a** **a*****i** si**a*i**s *i** ****a**. *** i*****a*** ** s*a*i** \n",
            "\n",
            "**i*** *as s***** a ***** a**** *a** ****** ********** *is****.****i** \n",
            "\n",
            "*****i*s ** **a* ** *a** a******is*** ********** *is**** *a* **** \n",
            "\n",
            "*s s** *** i**i*i**a*s a** ******i*i*s *a** ***s****** ******* ***** \n",
            "\n",
            "*i**s a** i*** a **i***** ******.\n",
            "\n",
            "\n"
          ]
        }
      ]
    },
    {
      "cell_type": "code",
      "source": [
        "# i am not finding any pattern\n",
        "# so let's check the frequency again\n",
        "\n",
        "calc_frequency(ciphertext)"
      ],
      "metadata": {
        "colab": {
          "base_uri": "https://localhost:8080/"
        },
        "id": "Z5paEeRkCYQP",
        "outputId": "fc134c0f-aa2c-41f8-f7ca-23eec44531cb"
      },
      "execution_count": 90,
      "outputs": [
        {
          "output_type": "stream",
          "name": "stdout",
          "text": [
            "Character:  , Frequency: 105\n",
            "Character: d, Frequency: 65\n",
            "Character: g, Frequency: 50\n",
            "Character: v, Frequency: 45\n",
            "Character: f, Frequency: 43\n",
            "Character: h, Frequency: 42\n",
            "Character: t, Frequency: 41\n",
            "Character: s, Frequency: 40\n",
            "Character: e, Frequency: 32\n",
            "Character: m, Frequency: 32\n",
            "Character: b, Frequency: 24\n",
            "Character: u, Frequency: 22\n",
            "Character: x, Frequency: 19\n",
            "Character: c, Frequency: 16\n",
            "Character: z, Frequency: 16\n",
            "Character: a, Frequency: 15\n",
            "Character: y, Frequency: 13\n",
            "Character: q, Frequency: 12\n",
            "Character: l, Frequency: 10\n",
            "Character: j, Frequency: 8\n",
            "Character: ., Frequency: 6\n",
            "Character: o, Frequency: 6\n",
            "Character: ,, Frequency: 5\n",
            "Character: i, Frequency: 3\n",
            "Character: k, Frequency: 2\n",
            "Character: p, Frequency: 2\n"
          ]
        }
      ]
    },
    {
      "cell_type": "code",
      "source": [
        "# from frequency, we can see that 'd' comes 65 times\n",
        "# we know 'e' is one of the most frequently used character\n",
        "# let's map d=e\n",
        "\n",
        "mapping = {'m':'a', 'f':'s', 'v':'i', 'd':'e'}\n",
        "words_per_line = 10\n",
        "plaintext = substitution_cipher(ciphertext, mapping)\n",
        "print_result(ciphertext, words_per_line)\n",
        "print_result(plaintext, words_per_line)"
      ],
      "metadata": {
        "colab": {
          "base_uri": "https://localhost:8080/"
        },
        "id": "_JlzoyuvCpf3",
        "outputId": "d939486f-319f-4e44-de01-93c3f6e76ae5"
      },
      "execution_count": 91,
      "outputs": [
        {
          "output_type": "stream",
          "name": "stdout",
          "text": [
            "gtd bsvgl vf fgedsugt dffml dkcymvsf gtmg gtd chjde ha \n",
            "\n",
            "aevdsxftvc tdycf bf gh id fgehsu aehz tmexftvcf. aevdsxf qms \n",
            "\n",
            "uvod bf gtd fgedsugt jd sddx jtds yvad udgf ghbut. \n",
            "\n",
            "vs mxxvgvhs, cdhcyd dkcedff bsvgl gtehbut yhod,amzvyl, aevdsxf, msx hgtdef \n",
            "\n",
            "ftmed fghevdf ha avsxvsu qhzzhs uehbsx jvgt fhzdhsd.gtded med zmsl \n",
            "\n",
            "idsdavgf ha fgmlvsu bsvgdx vs ghbut gvzdf, mf vg tdycf \n",
            "\n",
            "gh amqd qtmyydsuvsu fvgbmgvhsf jvgt qhbemud. gtd vzchegmsqd ha fgmlvsu \n",
            "\n",
            "bsvgdx tmf fgebqp m qthex mzhsu zmsl cdhcyd gtehbuthbg tvfghel.pddcvsu \n",
            "\n",
            "zdzhevdf ha jtmg jd tmod mqqhzcyvftdx gtehbuthbg tvfghel qms tdyc \n",
            "\n",
            "bf fdd thj vsxvovxbmyf msx qhzzbsvgvdf tmod cdefdodedx gtehbut ghbut \n",
            "\n",
            "gvzdf msx vsgh m ievutgde abgbed.\n",
            "\n",
            "\n",
            "**e **i** is s**e**** essa* e***ai*s **a* **e ***e* ** \n",
            "\n",
            "**ie**s*i* *e**s *s ** *e s***** **** *a**s*i*s. **ie**s *a* \n",
            "\n",
            "*i*e *s **e s**e**** *e *ee* **e* *i*e *e*s *****. \n",
            "\n",
            "i* a**i*i**, *e***e e***ess **i** ******* ***e,*a*i**, **ie**s, a** ***e*s \n",
            "\n",
            "s*a*e s***ies ** *i**i** ****** ****** *i** s**e**e.**e*e a*e *a** \n",
            "\n",
            "*e*e*i*s ** s*a*i** **i*e* i* ***** *i*es, as i* *e**s \n",
            "\n",
            "** *a*e **a**e**i** si**a*i**s *i** ****a*e. **e i*****a**e ** s*a*i** \n",
            "\n",
            "**i*e* *as s***** a ***** a**** *a** *e***e ********** *is****.*ee*i** \n",
            "\n",
            "*e***ies ** **a* *e *a*e a******is*e* ********** *is**** *a* *e** \n",
            "\n",
            "*s see *** i**i*i**a*s a** ******i*ies *a*e *e*se*e*e* ******* ***** \n",
            "\n",
            "*i*es a** i*** a **i***e* *****e.\n",
            "\n",
            "\n"
          ]
        }
      ]
    },
    {
      "cell_type": "code",
      "source": [
        "# line 1, word no 1, the word is \"**e\"\n",
        "# we \"the\" is the most frequently used three letter word\n",
        "# and again frequency of 'g' is second most. we know 't' is one of the most frequently used characters\n",
        "# so let's map g=t and t=h\n",
        "\n",
        "mapping = {'m':'a', 'f':'s', 'v':'i', 'd':'e', 'g':'t', 't':'h'}\n",
        "words_per_line = 10\n",
        "plaintext = substitution_cipher(ciphertext, mapping)\n",
        "print_result(ciphertext, words_per_line)\n",
        "print_result(plaintext, words_per_line)"
      ],
      "metadata": {
        "colab": {
          "base_uri": "https://localhost:8080/"
        },
        "id": "qv3CkR2cDOv9",
        "outputId": "e79bc585-b43a-4c6d-bc74-bf06171ecb9c"
      },
      "execution_count": 92,
      "outputs": [
        {
          "output_type": "stream",
          "name": "stdout",
          "text": [
            "gtd bsvgl vf fgedsugt dffml dkcymvsf gtmg gtd chjde ha \n",
            "\n",
            "aevdsxftvc tdycf bf gh id fgehsu aehz tmexftvcf. aevdsxf qms \n",
            "\n",
            "uvod bf gtd fgedsugt jd sddx jtds yvad udgf ghbut. \n",
            "\n",
            "vs mxxvgvhs, cdhcyd dkcedff bsvgl gtehbut yhod,amzvyl, aevdsxf, msx hgtdef \n",
            "\n",
            "ftmed fghevdf ha avsxvsu qhzzhs uehbsx jvgt fhzdhsd.gtded med zmsl \n",
            "\n",
            "idsdavgf ha fgmlvsu bsvgdx vs ghbut gvzdf, mf vg tdycf \n",
            "\n",
            "gh amqd qtmyydsuvsu fvgbmgvhsf jvgt qhbemud. gtd vzchegmsqd ha fgmlvsu \n",
            "\n",
            "bsvgdx tmf fgebqp m qthex mzhsu zmsl cdhcyd gtehbuthbg tvfghel.pddcvsu \n",
            "\n",
            "zdzhevdf ha jtmg jd tmod mqqhzcyvftdx gtehbuthbg tvfghel qms tdyc \n",
            "\n",
            "bf fdd thj vsxvovxbmyf msx qhzzbsvgvdf tmod cdefdodedx gtehbut ghbut \n",
            "\n",
            "gvzdf msx vsgh m ievutgde abgbed.\n",
            "\n",
            "\n",
            "the **it* is st*e**th essa* e***ai*s that the ***e* ** \n",
            "\n",
            "**ie**shi* he**s *s t* *e st**** **** ha**shi*s. **ie**s *a* \n",
            "\n",
            "*i*e *s the st*e**th *e *ee* *he* *i*e *ets t***h. \n",
            "\n",
            "i* a**iti**, *e***e e***ess **it* th****h ***e,*a*i**, **ie**s, a** *the*s \n",
            "\n",
            "sha*e st**ies ** *i**i** ****** ****** *ith s**e**e.the*e a*e *a** \n",
            "\n",
            "*e*e*its ** sta*i** **ite* i* t***h ti*es, as it he**s \n",
            "\n",
            "t* *a*e *ha**e**i** sit*ati**s *ith ****a*e. the i****ta**e ** sta*i** \n",
            "\n",
            "**ite* has st**** a *h*** a**** *a** *e***e th****h**t hist***.*ee*i** \n",
            "\n",
            "*e***ies ** *hat *e ha*e a******ishe* th****h**t hist*** *a* he** \n",
            "\n",
            "*s see h** i**i*i**a*s a** ******ities ha*e *e*se*e*e* th****h t***h \n",
            "\n",
            "ti*es a** i*t* a **i*hte* **t**e.\n",
            "\n",
            "\n"
          ]
        }
      ]
    },
    {
      "cell_type": "code",
      "source": [
        "# in line 1 word no 10, it's a two letter word\n",
        "# we know the word \"of\" is one of the most frequently used two letter word\n",
        "# so we map h=o and a=f\n",
        "\n",
        "mapping = {'m':'a', 'f':'s', 'v':'i', 'd':'e', 'g':'t', 't':'h', 'h':'o', 'a':'f'}\n",
        "words_per_line = 10\n",
        "plaintext = substitution_cipher(ciphertext, mapping)\n",
        "print_result(ciphertext, words_per_line)\n",
        "print_result(plaintext, words_per_line)"
      ],
      "metadata": {
        "colab": {
          "base_uri": "https://localhost:8080/"
        },
        "id": "hzLXNZzuE5cp",
        "outputId": "73cfd12f-e06d-4b5e-c2b4-b6cc544ff64b"
      },
      "execution_count": 93,
      "outputs": [
        {
          "output_type": "stream",
          "name": "stdout",
          "text": [
            "gtd bsvgl vf fgedsugt dffml dkcymvsf gtmg gtd chjde ha \n",
            "\n",
            "aevdsxftvc tdycf bf gh id fgehsu aehz tmexftvcf. aevdsxf qms \n",
            "\n",
            "uvod bf gtd fgedsugt jd sddx jtds yvad udgf ghbut. \n",
            "\n",
            "vs mxxvgvhs, cdhcyd dkcedff bsvgl gtehbut yhod,amzvyl, aevdsxf, msx hgtdef \n",
            "\n",
            "ftmed fghevdf ha avsxvsu qhzzhs uehbsx jvgt fhzdhsd.gtded med zmsl \n",
            "\n",
            "idsdavgf ha fgmlvsu bsvgdx vs ghbut gvzdf, mf vg tdycf \n",
            "\n",
            "gh amqd qtmyydsuvsu fvgbmgvhsf jvgt qhbemud. gtd vzchegmsqd ha fgmlvsu \n",
            "\n",
            "bsvgdx tmf fgebqp m qthex mzhsu zmsl cdhcyd gtehbuthbg tvfghel.pddcvsu \n",
            "\n",
            "zdzhevdf ha jtmg jd tmod mqqhzcyvftdx gtehbuthbg tvfghel qms tdyc \n",
            "\n",
            "bf fdd thj vsxvovxbmyf msx qhzzbsvgvdf tmod cdefdodedx gtehbut ghbut \n",
            "\n",
            "gvzdf msx vsgh m ievutgde abgbed.\n",
            "\n",
            "\n",
            "the **it* is st*e**th essa* e***ai*s that the *o*e* of \n",
            "\n",
            "f*ie**shi* he**s *s to *e st*o** f*o* ha**shi*s. f*ie**s *a* \n",
            "\n",
            "*i*e *s the st*e**th *e *ee* *he* *ife *ets to**h. \n",
            "\n",
            "i* a**itio*, *eo**e e***ess **it* th*o**h *o*e,fa*i**, f*ie**s, a** othe*s \n",
            "\n",
            "sha*e sto*ies of fi**i** *o**o* **o*** *ith so*eo*e.the*e a*e *a** \n",
            "\n",
            "*e*efits of sta*i** **ite* i* to**h ti*es, as it he**s \n",
            "\n",
            "to fa*e *ha**e**i** sit*atio*s *ith *o**a*e. the i**o*ta**e of sta*i** \n",
            "\n",
            "**ite* has st**** a *ho** a*o** *a** *eo**e th*o**ho*t histo**.*ee*i** \n",
            "\n",
            "*e*o*ies of *hat *e ha*e a**o***ishe* th*o**ho*t histo** *a* he** \n",
            "\n",
            "*s see ho* i**i*i**a*s a** *o****ities ha*e *e*se*e*e* th*o**h to**h \n",
            "\n",
            "ti*es a** i*to a **i*hte* f*t**e.\n",
            "\n",
            "\n"
          ]
        }
      ]
    },
    {
      "cell_type": "code",
      "source": [
        "# line 3, word no 2, the word is \"*s\"\n",
        "# we know \"is,as,us\" those are some of most frequently used two letter word that ends with 's'\n",
        "# but we already mapped \"i\" and \"a\", so we need to map \"u\" here\n",
        "# let's map b=u\n",
        "\n",
        "mapping = {'m':'a', 'f':'s', 'v':'i', 'd':'e', 'g':'t', 't':'h', 'h':'o', 'a':'f', 'b':'u'}\n",
        "words_per_line = 10\n",
        "plaintext = substitution_cipher(ciphertext, mapping)\n",
        "print_result(ciphertext, words_per_line)\n",
        "print_result(plaintext, words_per_line)"
      ],
      "metadata": {
        "colab": {
          "base_uri": "https://localhost:8080/"
        },
        "id": "RYLWFWFNF0Os",
        "outputId": "759f1768-23eb-4bd2-9ab0-07d8caef0026"
      },
      "execution_count": 94,
      "outputs": [
        {
          "output_type": "stream",
          "name": "stdout",
          "text": [
            "gtd bsvgl vf fgedsugt dffml dkcymvsf gtmg gtd chjde ha \n",
            "\n",
            "aevdsxftvc tdycf bf gh id fgehsu aehz tmexftvcf. aevdsxf qms \n",
            "\n",
            "uvod bf gtd fgedsugt jd sddx jtds yvad udgf ghbut. \n",
            "\n",
            "vs mxxvgvhs, cdhcyd dkcedff bsvgl gtehbut yhod,amzvyl, aevdsxf, msx hgtdef \n",
            "\n",
            "ftmed fghevdf ha avsxvsu qhzzhs uehbsx jvgt fhzdhsd.gtded med zmsl \n",
            "\n",
            "idsdavgf ha fgmlvsu bsvgdx vs ghbut gvzdf, mf vg tdycf \n",
            "\n",
            "gh amqd qtmyydsuvsu fvgbmgvhsf jvgt qhbemud. gtd vzchegmsqd ha fgmlvsu \n",
            "\n",
            "bsvgdx tmf fgebqp m qthex mzhsu zmsl cdhcyd gtehbuthbg tvfghel.pddcvsu \n",
            "\n",
            "zdzhevdf ha jtmg jd tmod mqqhzcyvftdx gtehbuthbg tvfghel qms tdyc \n",
            "\n",
            "bf fdd thj vsxvovxbmyf msx qhzzbsvgvdf tmod cdefdodedx gtehbut ghbut \n",
            "\n",
            "gvzdf msx vsgh m ievutgde abgbed.\n",
            "\n",
            "\n",
            "the u*it* is st*e**th essa* e***ai*s that the *o*e* of \n",
            "\n",
            "f*ie**shi* he**s us to *e st*o** f*o* ha**shi*s. f*ie**s *a* \n",
            "\n",
            "*i*e us the st*e**th *e *ee* *he* *ife *ets tou*h. \n",
            "\n",
            "i* a**itio*, *eo**e e***ess u*it* th*ou*h *o*e,fa*i**, f*ie**s, a** othe*s \n",
            "\n",
            "sha*e sto*ies of fi**i** *o**o* **ou** *ith so*eo*e.the*e a*e *a** \n",
            "\n",
            "*e*efits of sta*i** u*ite* i* tou*h ti*es, as it he**s \n",
            "\n",
            "to fa*e *ha**e**i** situatio*s *ith *ou*a*e. the i**o*ta**e of sta*i** \n",
            "\n",
            "u*ite* has st*u** a *ho** a*o** *a** *eo**e th*ou*hout histo**.*ee*i** \n",
            "\n",
            "*e*o*ies of *hat *e ha*e a**o***ishe* th*ou*hout histo** *a* he** \n",
            "\n",
            "us see ho* i**i*i*ua*s a** *o**u*ities ha*e *e*se*e*e* th*ou*h tou*h \n",
            "\n",
            "ti*es a** i*to a **i*hte* futu*e.\n",
            "\n",
            "\n"
          ]
        }
      ]
    },
    {
      "cell_type": "code",
      "source": [
        "# the last word is \"futu*e\"\n",
        "# so let's consider it as \"future\"\n",
        "# let's map e=r\n",
        "\n",
        "mapping = {'m':'a', 'f':'s', 'v':'i', 'd':'e', 'g':'t', 't':'h', 'h':'o', 'a':'f', 'b':'u', 'e':'r'}\n",
        "words_per_line = 10\n",
        "plaintext = substitution_cipher(ciphertext, mapping)\n",
        "print_result(ciphertext, words_per_line)\n",
        "print_result(plaintext, words_per_line)"
      ],
      "metadata": {
        "colab": {
          "base_uri": "https://localhost:8080/"
        },
        "id": "8XI8uA9rGcKG",
        "outputId": "edabb17f-cf09-4911-f930-0bb9568f0cba"
      },
      "execution_count": 95,
      "outputs": [
        {
          "output_type": "stream",
          "name": "stdout",
          "text": [
            "gtd bsvgl vf fgedsugt dffml dkcymvsf gtmg gtd chjde ha \n",
            "\n",
            "aevdsxftvc tdycf bf gh id fgehsu aehz tmexftvcf. aevdsxf qms \n",
            "\n",
            "uvod bf gtd fgedsugt jd sddx jtds yvad udgf ghbut. \n",
            "\n",
            "vs mxxvgvhs, cdhcyd dkcedff bsvgl gtehbut yhod,amzvyl, aevdsxf, msx hgtdef \n",
            "\n",
            "ftmed fghevdf ha avsxvsu qhzzhs uehbsx jvgt fhzdhsd.gtded med zmsl \n",
            "\n",
            "idsdavgf ha fgmlvsu bsvgdx vs ghbut gvzdf, mf vg tdycf \n",
            "\n",
            "gh amqd qtmyydsuvsu fvgbmgvhsf jvgt qhbemud. gtd vzchegmsqd ha fgmlvsu \n",
            "\n",
            "bsvgdx tmf fgebqp m qthex mzhsu zmsl cdhcyd gtehbuthbg tvfghel.pddcvsu \n",
            "\n",
            "zdzhevdf ha jtmg jd tmod mqqhzcyvftdx gtehbuthbg tvfghel qms tdyc \n",
            "\n",
            "bf fdd thj vsxvovxbmyf msx qhzzbsvgvdf tmod cdefdodedx gtehbut ghbut \n",
            "\n",
            "gvzdf msx vsgh m ievutgde abgbed.\n",
            "\n",
            "\n",
            "the u*it* is stre**th essa* e***ai*s that the *o*er of \n",
            "\n",
            "frie**shi* he**s us to *e stro** fro* har*shi*s. frie**s *a* \n",
            "\n",
            "*i*e us the stre**th *e *ee* *he* *ife *ets tou*h. \n",
            "\n",
            "i* a**itio*, *eo**e e**ress u*it* throu*h *o*e,fa*i**, frie**s, a** others \n",
            "\n",
            "share stories of fi**i** *o**o* *rou** *ith so*eo*e.there are *a** \n",
            "\n",
            "*e*efits of sta*i** u*ite* i* tou*h ti*es, as it he**s \n",
            "\n",
            "to fa*e *ha**e**i** situatio*s *ith *oura*e. the i**orta**e of sta*i** \n",
            "\n",
            "u*ite* has stru** a *hor* a*o** *a** *eo**e throu*hout histor*.*ee*i** \n",
            "\n",
            "*e*ories of *hat *e ha*e a**o***ishe* throu*hout histor* *a* he** \n",
            "\n",
            "us see ho* i**i*i*ua*s a** *o**u*ities ha*e *erse*ere* throu*h tou*h \n",
            "\n",
            "ti*es a** i*to a *ri*hter future.\n",
            "\n",
            "\n"
          ]
        }
      ]
    },
    {
      "cell_type": "code",
      "source": [
        "# in line 4, word no 1, the word is \"i*\"\n",
        "# we know \"in\" is one of the most frequently used two letter word that starts with \"i\"\n",
        "# let's map s=n\n",
        "\n",
        "mapping = {'m':'a', 'f':'s', 'v':'i', 'd':'e', 'g':'t', 't':'h', 'h':'o', 'a':'f', 'b':'u', 'e':'r', 's':'n'}\n",
        "words_per_line = 10\n",
        "plaintext = substitution_cipher(ciphertext, mapping)\n",
        "print_result(ciphertext, words_per_line)\n",
        "print_result(plaintext, words_per_line)"
      ],
      "metadata": {
        "colab": {
          "base_uri": "https://localhost:8080/"
        },
        "id": "fuJTDZOvHMx_",
        "outputId": "48169e2d-207e-4d87-e1f8-7b9815c16746"
      },
      "execution_count": 96,
      "outputs": [
        {
          "output_type": "stream",
          "name": "stdout",
          "text": [
            "gtd bsvgl vf fgedsugt dffml dkcymvsf gtmg gtd chjde ha \n",
            "\n",
            "aevdsxftvc tdycf bf gh id fgehsu aehz tmexftvcf. aevdsxf qms \n",
            "\n",
            "uvod bf gtd fgedsugt jd sddx jtds yvad udgf ghbut. \n",
            "\n",
            "vs mxxvgvhs, cdhcyd dkcedff bsvgl gtehbut yhod,amzvyl, aevdsxf, msx hgtdef \n",
            "\n",
            "ftmed fghevdf ha avsxvsu qhzzhs uehbsx jvgt fhzdhsd.gtded med zmsl \n",
            "\n",
            "idsdavgf ha fgmlvsu bsvgdx vs ghbut gvzdf, mf vg tdycf \n",
            "\n",
            "gh amqd qtmyydsuvsu fvgbmgvhsf jvgt qhbemud. gtd vzchegmsqd ha fgmlvsu \n",
            "\n",
            "bsvgdx tmf fgebqp m qthex mzhsu zmsl cdhcyd gtehbuthbg tvfghel.pddcvsu \n",
            "\n",
            "zdzhevdf ha jtmg jd tmod mqqhzcyvftdx gtehbuthbg tvfghel qms tdyc \n",
            "\n",
            "bf fdd thj vsxvovxbmyf msx qhzzbsvgvdf tmod cdefdodedx gtehbut ghbut \n",
            "\n",
            "gvzdf msx vsgh m ievutgde abgbed.\n",
            "\n",
            "\n",
            "the unit* is stren*th essa* e***ains that the *o*er of \n",
            "\n",
            "frien*shi* he**s us to *e stron* fro* har*shi*s. frien*s *an \n",
            "\n",
            "*i*e us the stren*th *e nee* *hen *ife *ets tou*h. \n",
            "\n",
            "in a**ition, *eo**e e**ress unit* throu*h *o*e,fa*i**, frien*s, an* others \n",
            "\n",
            "share stories of fin*in* *o**on *roun* *ith so*eone.there are *an* \n",
            "\n",
            "*enefits of sta*in* unite* in tou*h ti*es, as it he**s \n",
            "\n",
            "to fa*e *ha**en*in* situations *ith *oura*e. the i**ortan*e of sta*in* \n",
            "\n",
            "unite* has stru** a *hor* a*on* *an* *eo**e throu*hout histor*.*ee*in* \n",
            "\n",
            "*e*ories of *hat *e ha*e a**o***ishe* throu*hout histor* *an he** \n",
            "\n",
            "us see ho* in*i*i*ua*s an* *o**unities ha*e *erse*ere* throu*h tou*h \n",
            "\n",
            "ti*es an* into a *ri*hter future.\n",
            "\n",
            "\n"
          ]
        }
      ]
    },
    {
      "cell_type": "code",
      "source": [
        "# let's consider the word \"stren*th\" as \"strength\"\n",
        "# let's map u=g\n",
        "\n",
        "mapping = {'m':'a', 'f':'s', 'v':'i', 'd':'e', 'g':'t', 't':'h', 'h':'o', 'a':'f', 'b':'u', 'e':'r', 's':'n', 'u':'g'}\n",
        "words_per_line = 10\n",
        "plaintext = substitution_cipher(ciphertext, mapping)\n",
        "print_result(ciphertext, words_per_line)\n",
        "print_result(plaintext, words_per_line)"
      ],
      "metadata": {
        "colab": {
          "base_uri": "https://localhost:8080/"
        },
        "id": "brZsMT8LHqME",
        "outputId": "4a75c07b-7ef9-4600-c3c0-8a5d72dfe21e"
      },
      "execution_count": 97,
      "outputs": [
        {
          "output_type": "stream",
          "name": "stdout",
          "text": [
            "gtd bsvgl vf fgedsugt dffml dkcymvsf gtmg gtd chjde ha \n",
            "\n",
            "aevdsxftvc tdycf bf gh id fgehsu aehz tmexftvcf. aevdsxf qms \n",
            "\n",
            "uvod bf gtd fgedsugt jd sddx jtds yvad udgf ghbut. \n",
            "\n",
            "vs mxxvgvhs, cdhcyd dkcedff bsvgl gtehbut yhod,amzvyl, aevdsxf, msx hgtdef \n",
            "\n",
            "ftmed fghevdf ha avsxvsu qhzzhs uehbsx jvgt fhzdhsd.gtded med zmsl \n",
            "\n",
            "idsdavgf ha fgmlvsu bsvgdx vs ghbut gvzdf, mf vg tdycf \n",
            "\n",
            "gh amqd qtmyydsuvsu fvgbmgvhsf jvgt qhbemud. gtd vzchegmsqd ha fgmlvsu \n",
            "\n",
            "bsvgdx tmf fgebqp m qthex mzhsu zmsl cdhcyd gtehbuthbg tvfghel.pddcvsu \n",
            "\n",
            "zdzhevdf ha jtmg jd tmod mqqhzcyvftdx gtehbuthbg tvfghel qms tdyc \n",
            "\n",
            "bf fdd thj vsxvovxbmyf msx qhzzbsvgvdf tmod cdefdodedx gtehbut ghbut \n",
            "\n",
            "gvzdf msx vsgh m ievutgde abgbed.\n",
            "\n",
            "\n",
            "the unit* is strength essa* e***ains that the *o*er of \n",
            "\n",
            "frien*shi* he**s us to *e strong fro* har*shi*s. frien*s *an \n",
            "\n",
            "gi*e us the strength *e nee* *hen *ife gets tough. \n",
            "\n",
            "in a**ition, *eo**e e**ress unit* through *o*e,fa*i**, frien*s, an* others \n",
            "\n",
            "share stories of fin*ing *o**on groun* *ith so*eone.there are *an* \n",
            "\n",
            "*enefits of sta*ing unite* in tough ti*es, as it he**s \n",
            "\n",
            "to fa*e *ha**enging situations *ith *ourage. the i**ortan*e of sta*ing \n",
            "\n",
            "unite* has stru** a *hor* a*ong *an* *eo**e throughout histor*.*ee*ing \n",
            "\n",
            "*e*ories of *hat *e ha*e a**o***ishe* throughout histor* *an he** \n",
            "\n",
            "us see ho* in*i*i*ua*s an* *o**unities ha*e *erse*ere* through tough \n",
            "\n",
            "ti*es an* into a *righter future.\n",
            "\n",
            "\n"
          ]
        }
      ]
    },
    {
      "cell_type": "code",
      "source": [
        "# line 2, word 7, the word is \"fro*\"\n",
        "# let's consider this as \"from\"\n",
        "# map z=m\n",
        "\n",
        "mapping = {'m':'a', 'f':'s', 'v':'i', 'd':'e', 'g':'t', 't':'h', 'h':'o', 'a':'f', 'b':'u', 'e':'r', 's':'n', 'u':'g', 'z':'m'}\n",
        "words_per_line = 10\n",
        "plaintext = substitution_cipher(ciphertext, mapping)\n",
        "print_result(ciphertext, words_per_line)\n",
        "print_result(plaintext, words_per_line)"
      ],
      "metadata": {
        "colab": {
          "base_uri": "https://localhost:8080/"
        },
        "id": "G76MS4YZIdXW",
        "outputId": "fd88a3c0-6e27-4665-bcfb-5a711e76e794"
      },
      "execution_count": 98,
      "outputs": [
        {
          "output_type": "stream",
          "name": "stdout",
          "text": [
            "gtd bsvgl vf fgedsugt dffml dkcymvsf gtmg gtd chjde ha \n",
            "\n",
            "aevdsxftvc tdycf bf gh id fgehsu aehz tmexftvcf. aevdsxf qms \n",
            "\n",
            "uvod bf gtd fgedsugt jd sddx jtds yvad udgf ghbut. \n",
            "\n",
            "vs mxxvgvhs, cdhcyd dkcedff bsvgl gtehbut yhod,amzvyl, aevdsxf, msx hgtdef \n",
            "\n",
            "ftmed fghevdf ha avsxvsu qhzzhs uehbsx jvgt fhzdhsd.gtded med zmsl \n",
            "\n",
            "idsdavgf ha fgmlvsu bsvgdx vs ghbut gvzdf, mf vg tdycf \n",
            "\n",
            "gh amqd qtmyydsuvsu fvgbmgvhsf jvgt qhbemud. gtd vzchegmsqd ha fgmlvsu \n",
            "\n",
            "bsvgdx tmf fgebqp m qthex mzhsu zmsl cdhcyd gtehbuthbg tvfghel.pddcvsu \n",
            "\n",
            "zdzhevdf ha jtmg jd tmod mqqhzcyvftdx gtehbuthbg tvfghel qms tdyc \n",
            "\n",
            "bf fdd thj vsxvovxbmyf msx qhzzbsvgvdf tmod cdefdodedx gtehbut ghbut \n",
            "\n",
            "gvzdf msx vsgh m ievutgde abgbed.\n",
            "\n",
            "\n",
            "the unit* is strength essa* e***ains that the *o*er of \n",
            "\n",
            "frien*shi* he**s us to *e strong from har*shi*s. frien*s *an \n",
            "\n",
            "gi*e us the strength *e nee* *hen *ife gets tough. \n",
            "\n",
            "in a**ition, *eo**e e**ress unit* through *o*e,fami**, frien*s, an* others \n",
            "\n",
            "share stories of fin*ing *ommon groun* *ith someone.there are man* \n",
            "\n",
            "*enefits of sta*ing unite* in tough times, as it he**s \n",
            "\n",
            "to fa*e *ha**enging situations *ith *ourage. the im*ortan*e of sta*ing \n",
            "\n",
            "unite* has stru** a *hor* among man* *eo**e throughout histor*.*ee*ing \n",
            "\n",
            "memories of *hat *e ha*e a**om**ishe* throughout histor* *an he** \n",
            "\n",
            "us see ho* in*i*i*ua*s an* *ommunities ha*e *erse*ere* through tough \n",
            "\n",
            "times an* into a *righter future.\n",
            "\n",
            "\n"
          ]
        }
      ]
    },
    {
      "cell_type": "code",
      "source": [
        "# line 1, word 2, consider \"unit*\" as \"unity\"\n",
        "# map l=y\n",
        "\n",
        "mapping = {'m':'a', 'f':'s', 'v':'i', 'd':'e', 'g':'t', 't':'h', 'h':'o', 'a':'f', 'b':'u', 'e':'r', 's':'n', 'u':'g', 'z':'m', 'l':'y'}\n",
        "words_per_line = 10\n",
        "plaintext = substitution_cipher(ciphertext, mapping)\n",
        "print_result(ciphertext, words_per_line)\n",
        "print_result(plaintext, words_per_line)"
      ],
      "metadata": {
        "colab": {
          "base_uri": "https://localhost:8080/"
        },
        "id": "XukKArljJKq9",
        "outputId": "7bd14ecd-a59d-4019-87d3-3a2366c00345"
      },
      "execution_count": 99,
      "outputs": [
        {
          "output_type": "stream",
          "name": "stdout",
          "text": [
            "gtd bsvgl vf fgedsugt dffml dkcymvsf gtmg gtd chjde ha \n",
            "\n",
            "aevdsxftvc tdycf bf gh id fgehsu aehz tmexftvcf. aevdsxf qms \n",
            "\n",
            "uvod bf gtd fgedsugt jd sddx jtds yvad udgf ghbut. \n",
            "\n",
            "vs mxxvgvhs, cdhcyd dkcedff bsvgl gtehbut yhod,amzvyl, aevdsxf, msx hgtdef \n",
            "\n",
            "ftmed fghevdf ha avsxvsu qhzzhs uehbsx jvgt fhzdhsd.gtded med zmsl \n",
            "\n",
            "idsdavgf ha fgmlvsu bsvgdx vs ghbut gvzdf, mf vg tdycf \n",
            "\n",
            "gh amqd qtmyydsuvsu fvgbmgvhsf jvgt qhbemud. gtd vzchegmsqd ha fgmlvsu \n",
            "\n",
            "bsvgdx tmf fgebqp m qthex mzhsu zmsl cdhcyd gtehbuthbg tvfghel.pddcvsu \n",
            "\n",
            "zdzhevdf ha jtmg jd tmod mqqhzcyvftdx gtehbuthbg tvfghel qms tdyc \n",
            "\n",
            "bf fdd thj vsxvovxbmyf msx qhzzbsvgvdf tmod cdefdodedx gtehbut ghbut \n",
            "\n",
            "gvzdf msx vsgh m ievutgde abgbed.\n",
            "\n",
            "\n",
            "the unity is strength essay e***ains that the *o*er of \n",
            "\n",
            "frien*shi* he**s us to *e strong from har*shi*s. frien*s *an \n",
            "\n",
            "gi*e us the strength *e nee* *hen *ife gets tough. \n",
            "\n",
            "in a**ition, *eo**e e**ress unity through *o*e,fami*y, frien*s, an* others \n",
            "\n",
            "share stories of fin*ing *ommon groun* *ith someone.there are many \n",
            "\n",
            "*enefits of staying unite* in tough times, as it he**s \n",
            "\n",
            "to fa*e *ha**enging situations *ith *ourage. the im*ortan*e of staying \n",
            "\n",
            "unite* has stru** a *hor* among many *eo**e throughout history.*ee*ing \n",
            "\n",
            "memories of *hat *e ha*e a**om**ishe* throughout history *an he** \n",
            "\n",
            "us see ho* in*i*i*ua*s an* *ommunities ha*e *erse*ere* through tough \n",
            "\n",
            "times an* into a *righter future.\n",
            "\n",
            "\n"
          ]
        }
      ]
    },
    {
      "cell_type": "code",
      "source": [
        "# line 2, word 9, consider \"frien*s\" as \"friends\"\n",
        "# map x=d\n",
        "\n",
        "mapping = {'m':'a', 'f':'s', 'v':'i', 'd':'e', 'g':'t', 't':'h', 'h':'o', 'a':'f', 'b':'u', 'e':'r', 's':'n', 'u':'g', 'z':'m', 'l':'y', 'x':'d'}\n",
        "words_per_line = 10\n",
        "plaintext = substitution_cipher(ciphertext, mapping)\n",
        "print_result(ciphertext, words_per_line)\n",
        "print_result(plaintext, words_per_line)"
      ],
      "metadata": {
        "colab": {
          "base_uri": "https://localhost:8080/"
        },
        "id": "e_2UUhagJqAz",
        "outputId": "dd667d90-5079-4d8b-88cc-e1ac90c34b77"
      },
      "execution_count": 100,
      "outputs": [
        {
          "output_type": "stream",
          "name": "stdout",
          "text": [
            "gtd bsvgl vf fgedsugt dffml dkcymvsf gtmg gtd chjde ha \n",
            "\n",
            "aevdsxftvc tdycf bf gh id fgehsu aehz tmexftvcf. aevdsxf qms \n",
            "\n",
            "uvod bf gtd fgedsugt jd sddx jtds yvad udgf ghbut. \n",
            "\n",
            "vs mxxvgvhs, cdhcyd dkcedff bsvgl gtehbut yhod,amzvyl, aevdsxf, msx hgtdef \n",
            "\n",
            "ftmed fghevdf ha avsxvsu qhzzhs uehbsx jvgt fhzdhsd.gtded med zmsl \n",
            "\n",
            "idsdavgf ha fgmlvsu bsvgdx vs ghbut gvzdf, mf vg tdycf \n",
            "\n",
            "gh amqd qtmyydsuvsu fvgbmgvhsf jvgt qhbemud. gtd vzchegmsqd ha fgmlvsu \n",
            "\n",
            "bsvgdx tmf fgebqp m qthex mzhsu zmsl cdhcyd gtehbuthbg tvfghel.pddcvsu \n",
            "\n",
            "zdzhevdf ha jtmg jd tmod mqqhzcyvftdx gtehbuthbg tvfghel qms tdyc \n",
            "\n",
            "bf fdd thj vsxvovxbmyf msx qhzzbsvgvdf tmod cdefdodedx gtehbut ghbut \n",
            "\n",
            "gvzdf msx vsgh m ievutgde abgbed.\n",
            "\n",
            "\n",
            "the unity is strength essay e***ains that the *o*er of \n",
            "\n",
            "friendshi* he**s us to *e strong from hardshi*s. friends *an \n",
            "\n",
            "gi*e us the strength *e need *hen *ife gets tough. \n",
            "\n",
            "in addition, *eo**e e**ress unity through *o*e,fami*y, friends, and others \n",
            "\n",
            "share stories of finding *ommon ground *ith someone.there are many \n",
            "\n",
            "*enefits of staying united in tough times, as it he**s \n",
            "\n",
            "to fa*e *ha**enging situations *ith *ourage. the im*ortan*e of staying \n",
            "\n",
            "united has stru** a *hord among many *eo**e throughout history.*ee*ing \n",
            "\n",
            "memories of *hat *e ha*e a**om**ished throughout history *an he** \n",
            "\n",
            "us see ho* indi*idua*s and *ommunities ha*e *erse*ered through tough \n",
            "\n",
            "times and into a *righter future.\n",
            "\n",
            "\n"
          ]
        }
      ]
    },
    {
      "cell_type": "code",
      "source": [
        "# line 2, word 1 and 8, \"friendshi*\", \"hardshi*s\" looks similiar to \"friendship\" and \"hardships\"\n",
        "# the character \"c\" is also present in the \"*\" position in both sentences\n",
        "# so let's map c=p\n",
        "\n",
        "mapping = {'m':'a', 'f':'s', 'v':'i', 'd':'e', 'g':'t', 't':'h', 'h':'o', 'a':'f', 'b':'u', 'e':'r', 's':'n', 'u':'g', 'z':'m', 'l':'y', 'x':'d', 'c':'p'}\n",
        "words_per_line = 10\n",
        "plaintext = substitution_cipher(ciphertext, mapping)\n",
        "print_result(ciphertext, words_per_line)\n",
        "print_result(plaintext, words_per_line)"
      ],
      "metadata": {
        "colab": {
          "base_uri": "https://localhost:8080/"
        },
        "id": "MF4wbfMeKDPs",
        "outputId": "75e871eb-9af0-4cb3-b740-77039752ab3f"
      },
      "execution_count": 101,
      "outputs": [
        {
          "output_type": "stream",
          "name": "stdout",
          "text": [
            "gtd bsvgl vf fgedsugt dffml dkcymvsf gtmg gtd chjde ha \n",
            "\n",
            "aevdsxftvc tdycf bf gh id fgehsu aehz tmexftvcf. aevdsxf qms \n",
            "\n",
            "uvod bf gtd fgedsugt jd sddx jtds yvad udgf ghbut. \n",
            "\n",
            "vs mxxvgvhs, cdhcyd dkcedff bsvgl gtehbut yhod,amzvyl, aevdsxf, msx hgtdef \n",
            "\n",
            "ftmed fghevdf ha avsxvsu qhzzhs uehbsx jvgt fhzdhsd.gtded med zmsl \n",
            "\n",
            "idsdavgf ha fgmlvsu bsvgdx vs ghbut gvzdf, mf vg tdycf \n",
            "\n",
            "gh amqd qtmyydsuvsu fvgbmgvhsf jvgt qhbemud. gtd vzchegmsqd ha fgmlvsu \n",
            "\n",
            "bsvgdx tmf fgebqp m qthex mzhsu zmsl cdhcyd gtehbuthbg tvfghel.pddcvsu \n",
            "\n",
            "zdzhevdf ha jtmg jd tmod mqqhzcyvftdx gtehbuthbg tvfghel qms tdyc \n",
            "\n",
            "bf fdd thj vsxvovxbmyf msx qhzzbsvgvdf tmod cdefdodedx gtehbut ghbut \n",
            "\n",
            "gvzdf msx vsgh m ievutgde abgbed.\n",
            "\n",
            "\n",
            "the unity is strength essay e*p*ains that the po*er of \n",
            "\n",
            "friendship he*ps us to *e strong from hardships. friends *an \n",
            "\n",
            "gi*e us the strength *e need *hen *ife gets tough. \n",
            "\n",
            "in addition, peop*e e*press unity through *o*e,fami*y, friends, and others \n",
            "\n",
            "share stories of finding *ommon ground *ith someone.there are many \n",
            "\n",
            "*enefits of staying united in tough times, as it he*ps \n",
            "\n",
            "to fa*e *ha**enging situations *ith *ourage. the importan*e of staying \n",
            "\n",
            "united has stru** a *hord among many peop*e throughout history.*eeping \n",
            "\n",
            "memories of *hat *e ha*e a**omp*ished throughout history *an he*p \n",
            "\n",
            "us see ho* indi*idua*s and *ommunities ha*e perse*ered through tough \n",
            "\n",
            "times and into a *righter future.\n",
            "\n",
            "\n"
          ]
        }
      ]
    },
    {
      "cell_type": "code",
      "source": [
        "# line 1, word no 9, the word is \"po*er\"\n",
        "# let's consider \"po*er\" as \"power\"\n",
        "# again line 5, word 7, the word is \"*ith\"\n",
        "# we know the most frequently used 4 letter words that ends with \"ith\" is \"with\"\n",
        "# the character \"j\" is also present in the \"*\" position in both sentences\n",
        "# so map j=w\n",
        "\n",
        "mapping = {'m':'a', 'f':'s', 'v':'i', 'd':'e', 'g':'t', 't':'h', 'h':'o', 'a':'f', 'b':'u', 'e':'r', 's':'n',\n",
        "           'u':'g', 'z':'m', 'l':'y', 'x':'d', 'c':'p', 'j':'w'}\n",
        "words_per_line = 10\n",
        "plaintext = substitution_cipher(ciphertext, mapping)\n",
        "print_result(ciphertext, words_per_line)\n",
        "print_result(plaintext, words_per_line)"
      ],
      "metadata": {
        "colab": {
          "base_uri": "https://localhost:8080/"
        },
        "id": "CdcGIBHfK2Py",
        "outputId": "0924531b-3eb4-492b-c0c3-40862d9b6bab"
      },
      "execution_count": 102,
      "outputs": [
        {
          "output_type": "stream",
          "name": "stdout",
          "text": [
            "gtd bsvgl vf fgedsugt dffml dkcymvsf gtmg gtd chjde ha \n",
            "\n",
            "aevdsxftvc tdycf bf gh id fgehsu aehz tmexftvcf. aevdsxf qms \n",
            "\n",
            "uvod bf gtd fgedsugt jd sddx jtds yvad udgf ghbut. \n",
            "\n",
            "vs mxxvgvhs, cdhcyd dkcedff bsvgl gtehbut yhod,amzvyl, aevdsxf, msx hgtdef \n",
            "\n",
            "ftmed fghevdf ha avsxvsu qhzzhs uehbsx jvgt fhzdhsd.gtded med zmsl \n",
            "\n",
            "idsdavgf ha fgmlvsu bsvgdx vs ghbut gvzdf, mf vg tdycf \n",
            "\n",
            "gh amqd qtmyydsuvsu fvgbmgvhsf jvgt qhbemud. gtd vzchegmsqd ha fgmlvsu \n",
            "\n",
            "bsvgdx tmf fgebqp m qthex mzhsu zmsl cdhcyd gtehbuthbg tvfghel.pddcvsu \n",
            "\n",
            "zdzhevdf ha jtmg jd tmod mqqhzcyvftdx gtehbuthbg tvfghel qms tdyc \n",
            "\n",
            "bf fdd thj vsxvovxbmyf msx qhzzbsvgvdf tmod cdefdodedx gtehbut ghbut \n",
            "\n",
            "gvzdf msx vsgh m ievutgde abgbed.\n",
            "\n",
            "\n",
            "the unity is strength essay e*p*ains that the power of \n",
            "\n",
            "friendship he*ps us to *e strong from hardships. friends *an \n",
            "\n",
            "gi*e us the strength we need when *ife gets tough. \n",
            "\n",
            "in addition, peop*e e*press unity through *o*e,fami*y, friends, and others \n",
            "\n",
            "share stories of finding *ommon ground with someone.there are many \n",
            "\n",
            "*enefits of staying united in tough times, as it he*ps \n",
            "\n",
            "to fa*e *ha**enging situations with *ourage. the importan*e of staying \n",
            "\n",
            "united has stru** a *hord among many peop*e throughout history.*eeping \n",
            "\n",
            "memories of what we ha*e a**omp*ished throughout history *an he*p \n",
            "\n",
            "us see how indi*idua*s and *ommunities ha*e perse*ered through tough \n",
            "\n",
            "times and into a *righter future.\n",
            "\n",
            "\n"
          ]
        }
      ]
    },
    {
      "cell_type": "code",
      "source": [
        "# line 2, word 2, the word is \"he*ps\"\n",
        "# consider it as \"helps\"\n",
        "# so map y=l\n",
        "\n",
        "mapping = {'m':'a', 'f':'s', 'v':'i', 'd':'e', 'g':'t', 't':'h', 'h':'o', 'a':'f', 'b':'u', 'e':'r', 's':'n',\n",
        "           'u':'g', 'z':'m', 'l':'y', 'x':'d', 'c':'p', 'j':'w', 'y':'l'}\n",
        "words_per_line = 10\n",
        "plaintext = substitution_cipher(ciphertext, mapping)\n",
        "print_result(ciphertext, words_per_line)\n",
        "print_result(plaintext, words_per_line)"
      ],
      "metadata": {
        "colab": {
          "base_uri": "https://localhost:8080/"
        },
        "id": "Up3JVv3xL4LO",
        "outputId": "4ee22cf1-ad50-4189-9d97-0917db691836"
      },
      "execution_count": 103,
      "outputs": [
        {
          "output_type": "stream",
          "name": "stdout",
          "text": [
            "gtd bsvgl vf fgedsugt dffml dkcymvsf gtmg gtd chjde ha \n",
            "\n",
            "aevdsxftvc tdycf bf gh id fgehsu aehz tmexftvcf. aevdsxf qms \n",
            "\n",
            "uvod bf gtd fgedsugt jd sddx jtds yvad udgf ghbut. \n",
            "\n",
            "vs mxxvgvhs, cdhcyd dkcedff bsvgl gtehbut yhod,amzvyl, aevdsxf, msx hgtdef \n",
            "\n",
            "ftmed fghevdf ha avsxvsu qhzzhs uehbsx jvgt fhzdhsd.gtded med zmsl \n",
            "\n",
            "idsdavgf ha fgmlvsu bsvgdx vs ghbut gvzdf, mf vg tdycf \n",
            "\n",
            "gh amqd qtmyydsuvsu fvgbmgvhsf jvgt qhbemud. gtd vzchegmsqd ha fgmlvsu \n",
            "\n",
            "bsvgdx tmf fgebqp m qthex mzhsu zmsl cdhcyd gtehbuthbg tvfghel.pddcvsu \n",
            "\n",
            "zdzhevdf ha jtmg jd tmod mqqhzcyvftdx gtehbuthbg tvfghel qms tdyc \n",
            "\n",
            "bf fdd thj vsxvovxbmyf msx qhzzbsvgvdf tmod cdefdodedx gtehbut ghbut \n",
            "\n",
            "gvzdf msx vsgh m ievutgde abgbed.\n",
            "\n",
            "\n",
            "the unity is strength essay e*plains that the power of \n",
            "\n",
            "friendship helps us to *e strong from hardships. friends *an \n",
            "\n",
            "gi*e us the strength we need when life gets tough. \n",
            "\n",
            "in addition, people e*press unity through lo*e,family, friends, and others \n",
            "\n",
            "share stories of finding *ommon ground with someone.there are many \n",
            "\n",
            "*enefits of staying united in tough times, as it helps \n",
            "\n",
            "to fa*e *hallenging situations with *ourage. the importan*e of staying \n",
            "\n",
            "united has stru** a *hord among many people throughout history.*eeping \n",
            "\n",
            "memories of what we ha*e a**omplished throughout history *an help \n",
            "\n",
            "us see how indi*iduals and *ommunities ha*e perse*ered through tough \n",
            "\n",
            "times and into a *righter future.\n",
            "\n",
            "\n"
          ]
        }
      ]
    },
    {
      "cell_type": "code",
      "source": [
        "# line 1, word 6, the word is \"e*plains\"\n",
        "# consider it as \"explains\"\n",
        "# so map k=x\n",
        "\n",
        "mapping = {'m':'a', 'f':'s', 'v':'i', 'd':'e', 'g':'t', 't':'h', 'h':'o', 'a':'f', 'b':'u', 'e':'r', 's':'n',\n",
        "           'u':'g', 'z':'m', 'l':'y', 'x':'d', 'c':'p', 'j':'w', 'y':'l', 'k':'x'}\n",
        "words_per_line = 10\n",
        "plaintext = substitution_cipher(ciphertext, mapping)\n",
        "print_result(ciphertext, words_per_line)\n",
        "print_result(plaintext, words_per_line)"
      ],
      "metadata": {
        "colab": {
          "base_uri": "https://localhost:8080/"
        },
        "id": "kOaWlaigMRxr",
        "outputId": "2a744843-e596-4fb2-c871-300edd1a69de"
      },
      "execution_count": 104,
      "outputs": [
        {
          "output_type": "stream",
          "name": "stdout",
          "text": [
            "gtd bsvgl vf fgedsugt dffml dkcymvsf gtmg gtd chjde ha \n",
            "\n",
            "aevdsxftvc tdycf bf gh id fgehsu aehz tmexftvcf. aevdsxf qms \n",
            "\n",
            "uvod bf gtd fgedsugt jd sddx jtds yvad udgf ghbut. \n",
            "\n",
            "vs mxxvgvhs, cdhcyd dkcedff bsvgl gtehbut yhod,amzvyl, aevdsxf, msx hgtdef \n",
            "\n",
            "ftmed fghevdf ha avsxvsu qhzzhs uehbsx jvgt fhzdhsd.gtded med zmsl \n",
            "\n",
            "idsdavgf ha fgmlvsu bsvgdx vs ghbut gvzdf, mf vg tdycf \n",
            "\n",
            "gh amqd qtmyydsuvsu fvgbmgvhsf jvgt qhbemud. gtd vzchegmsqd ha fgmlvsu \n",
            "\n",
            "bsvgdx tmf fgebqp m qthex mzhsu zmsl cdhcyd gtehbuthbg tvfghel.pddcvsu \n",
            "\n",
            "zdzhevdf ha jtmg jd tmod mqqhzcyvftdx gtehbuthbg tvfghel qms tdyc \n",
            "\n",
            "bf fdd thj vsxvovxbmyf msx qhzzbsvgvdf tmod cdefdodedx gtehbut ghbut \n",
            "\n",
            "gvzdf msx vsgh m ievutgde abgbed.\n",
            "\n",
            "\n",
            "the unity is strength essay explains that the power of \n",
            "\n",
            "friendship helps us to *e strong from hardships. friends *an \n",
            "\n",
            "gi*e us the strength we need when life gets tough. \n",
            "\n",
            "in addition, people express unity through lo*e,family, friends, and others \n",
            "\n",
            "share stories of finding *ommon ground with someone.there are many \n",
            "\n",
            "*enefits of staying united in tough times, as it helps \n",
            "\n",
            "to fa*e *hallenging situations with *ourage. the importan*e of staying \n",
            "\n",
            "united has stru** a *hord among many people throughout history.*eeping \n",
            "\n",
            "memories of what we ha*e a**omplished throughout history *an help \n",
            "\n",
            "us see how indi*iduals and *ommunities ha*e perse*ered through tough \n",
            "\n",
            "times and into a *righter future.\n",
            "\n",
            "\n"
          ]
        }
      ]
    },
    {
      "cell_type": "code",
      "source": [
        "# line 2, word 5, the word is \"*e\"\n",
        "# we know one of the most frequently used two letter word that ends with \"e\" is \"be\"\n",
        "# so map i=b\n",
        "\n",
        "mapping = {'m':'a', 'f':'s', 'v':'i', 'd':'e', 'g':'t', 't':'h', 'h':'o', 'a':'f', 'b':'u', 'e':'r', 's':'n',\n",
        "           'u':'g', 'z':'m', 'l':'y', 'x':'d', 'c':'p', 'j':'w', 'y':'l', 'k':'x', 'i':'b'}\n",
        "words_per_line = 10\n",
        "plaintext = substitution_cipher(ciphertext, mapping)\n",
        "print_result(ciphertext, words_per_line)\n",
        "print_result(plaintext, words_per_line)"
      ],
      "metadata": {
        "colab": {
          "base_uri": "https://localhost:8080/"
        },
        "id": "yeEd9Gu8Mo3r",
        "outputId": "920fdd35-b1d6-4ffc-d763-7a9fe75da69d"
      },
      "execution_count": 105,
      "outputs": [
        {
          "output_type": "stream",
          "name": "stdout",
          "text": [
            "gtd bsvgl vf fgedsugt dffml dkcymvsf gtmg gtd chjde ha \n",
            "\n",
            "aevdsxftvc tdycf bf gh id fgehsu aehz tmexftvcf. aevdsxf qms \n",
            "\n",
            "uvod bf gtd fgedsugt jd sddx jtds yvad udgf ghbut. \n",
            "\n",
            "vs mxxvgvhs, cdhcyd dkcedff bsvgl gtehbut yhod,amzvyl, aevdsxf, msx hgtdef \n",
            "\n",
            "ftmed fghevdf ha avsxvsu qhzzhs uehbsx jvgt fhzdhsd.gtded med zmsl \n",
            "\n",
            "idsdavgf ha fgmlvsu bsvgdx vs ghbut gvzdf, mf vg tdycf \n",
            "\n",
            "gh amqd qtmyydsuvsu fvgbmgvhsf jvgt qhbemud. gtd vzchegmsqd ha fgmlvsu \n",
            "\n",
            "bsvgdx tmf fgebqp m qthex mzhsu zmsl cdhcyd gtehbuthbg tvfghel.pddcvsu \n",
            "\n",
            "zdzhevdf ha jtmg jd tmod mqqhzcyvftdx gtehbuthbg tvfghel qms tdyc \n",
            "\n",
            "bf fdd thj vsxvovxbmyf msx qhzzbsvgvdf tmod cdefdodedx gtehbut ghbut \n",
            "\n",
            "gvzdf msx vsgh m ievutgde abgbed.\n",
            "\n",
            "\n",
            "the unity is strength essay explains that the power of \n",
            "\n",
            "friendship helps us to be strong from hardships. friends *an \n",
            "\n",
            "gi*e us the strength we need when life gets tough. \n",
            "\n",
            "in addition, people express unity through lo*e,family, friends, and others \n",
            "\n",
            "share stories of finding *ommon ground with someone.there are many \n",
            "\n",
            "benefits of staying united in tough times, as it helps \n",
            "\n",
            "to fa*e *hallenging situations with *ourage. the importan*e of staying \n",
            "\n",
            "united has stru** a *hord among many people throughout history.*eeping \n",
            "\n",
            "memories of what we ha*e a**omplished throughout history *an help \n",
            "\n",
            "us see how indi*iduals and *ommunities ha*e perse*ered through tough \n",
            "\n",
            "times and into a brighter future.\n",
            "\n",
            "\n"
          ]
        }
      ]
    },
    {
      "cell_type": "code",
      "source": [
        "# line 2, word 10, the word is \"*an\"\n",
        "# one of the most frequently used three letter word that ends with \"an\" is \"can\"\n",
        "# so map q=c\n",
        "\n",
        "mapping = {'m':'a', 'f':'s', 'v':'i', 'd':'e', 'g':'t', 't':'h', 'h':'o', 'a':'f', 'b':'u', 'e':'r', 's':'n',\n",
        "           'u':'g', 'z':'m', 'l':'y', 'x':'d', 'c':'p', 'j':'w', 'y':'l', 'k':'x', 'i':'b', 'q':'c'}\n",
        "words_per_line = 10\n",
        "plaintext = substitution_cipher(ciphertext, mapping)\n",
        "print_result(ciphertext, words_per_line)\n",
        "print_result(plaintext, words_per_line)"
      ],
      "metadata": {
        "colab": {
          "base_uri": "https://localhost:8080/"
        },
        "id": "XgL_YvuvNC41",
        "outputId": "e58a6e58-58d1-4577-ab2f-7f500c921ee0"
      },
      "execution_count": 106,
      "outputs": [
        {
          "output_type": "stream",
          "name": "stdout",
          "text": [
            "gtd bsvgl vf fgedsugt dffml dkcymvsf gtmg gtd chjde ha \n",
            "\n",
            "aevdsxftvc tdycf bf gh id fgehsu aehz tmexftvcf. aevdsxf qms \n",
            "\n",
            "uvod bf gtd fgedsugt jd sddx jtds yvad udgf ghbut. \n",
            "\n",
            "vs mxxvgvhs, cdhcyd dkcedff bsvgl gtehbut yhod,amzvyl, aevdsxf, msx hgtdef \n",
            "\n",
            "ftmed fghevdf ha avsxvsu qhzzhs uehbsx jvgt fhzdhsd.gtded med zmsl \n",
            "\n",
            "idsdavgf ha fgmlvsu bsvgdx vs ghbut gvzdf, mf vg tdycf \n",
            "\n",
            "gh amqd qtmyydsuvsu fvgbmgvhsf jvgt qhbemud. gtd vzchegmsqd ha fgmlvsu \n",
            "\n",
            "bsvgdx tmf fgebqp m qthex mzhsu zmsl cdhcyd gtehbuthbg tvfghel.pddcvsu \n",
            "\n",
            "zdzhevdf ha jtmg jd tmod mqqhzcyvftdx gtehbuthbg tvfghel qms tdyc \n",
            "\n",
            "bf fdd thj vsxvovxbmyf msx qhzzbsvgvdf tmod cdefdodedx gtehbut ghbut \n",
            "\n",
            "gvzdf msx vsgh m ievutgde abgbed.\n",
            "\n",
            "\n",
            "the unity is strength essay explains that the power of \n",
            "\n",
            "friendship helps us to be strong from hardships. friends can \n",
            "\n",
            "gi*e us the strength we need when life gets tough. \n",
            "\n",
            "in addition, people express unity through lo*e,family, friends, and others \n",
            "\n",
            "share stories of finding common ground with someone.there are many \n",
            "\n",
            "benefits of staying united in tough times, as it helps \n",
            "\n",
            "to face challenging situations with courage. the importance of staying \n",
            "\n",
            "united has struc* a chord among many people throughout history.*eeping \n",
            "\n",
            "memories of what we ha*e accomplished throughout history can help \n",
            "\n",
            "us see how indi*iduals and communities ha*e perse*ered through tough \n",
            "\n",
            "times and into a brighter future.\n",
            "\n",
            "\n"
          ]
        }
      ]
    },
    {
      "cell_type": "code",
      "source": [
        "# line 9, word 5, the word is \"ha*e\"\n",
        "# \"have\" is one of the most frequently used 4 letter word\n",
        "# so map o=v\n",
        "\n",
        "mapping = {'m':'a', 'f':'s', 'v':'i', 'd':'e', 'g':'t', 't':'h', 'h':'o', 'a':'f', 'b':'u', 'e':'r', 's':'n',\n",
        "           'u':'g', 'z':'m', 'l':'y', 'x':'d', 'c':'p', 'j':'w', 'y':'l', 'k':'x', 'i':'b', 'q':'c', 'o':'v'}\n",
        "words_per_line = 10\n",
        "plaintext = substitution_cipher(ciphertext, mapping)\n",
        "print_result(ciphertext, words_per_line)\n",
        "print_result(plaintext, words_per_line)"
      ],
      "metadata": {
        "colab": {
          "base_uri": "https://localhost:8080/"
        },
        "id": "RUW-298MNg8u",
        "outputId": "1d7b5acb-0db7-4691-b8ba-bee1d2028cbb"
      },
      "execution_count": 107,
      "outputs": [
        {
          "output_type": "stream",
          "name": "stdout",
          "text": [
            "gtd bsvgl vf fgedsugt dffml dkcymvsf gtmg gtd chjde ha \n",
            "\n",
            "aevdsxftvc tdycf bf gh id fgehsu aehz tmexftvcf. aevdsxf qms \n",
            "\n",
            "uvod bf gtd fgedsugt jd sddx jtds yvad udgf ghbut. \n",
            "\n",
            "vs mxxvgvhs, cdhcyd dkcedff bsvgl gtehbut yhod,amzvyl, aevdsxf, msx hgtdef \n",
            "\n",
            "ftmed fghevdf ha avsxvsu qhzzhs uehbsx jvgt fhzdhsd.gtded med zmsl \n",
            "\n",
            "idsdavgf ha fgmlvsu bsvgdx vs ghbut gvzdf, mf vg tdycf \n",
            "\n",
            "gh amqd qtmyydsuvsu fvgbmgvhsf jvgt qhbemud. gtd vzchegmsqd ha fgmlvsu \n",
            "\n",
            "bsvgdx tmf fgebqp m qthex mzhsu zmsl cdhcyd gtehbuthbg tvfghel.pddcvsu \n",
            "\n",
            "zdzhevdf ha jtmg jd tmod mqqhzcyvftdx gtehbuthbg tvfghel qms tdyc \n",
            "\n",
            "bf fdd thj vsxvovxbmyf msx qhzzbsvgvdf tmod cdefdodedx gtehbut ghbut \n",
            "\n",
            "gvzdf msx vsgh m ievutgde abgbed.\n",
            "\n",
            "\n",
            "the unity is strength essay explains that the power of \n",
            "\n",
            "friendship helps us to be strong from hardships. friends can \n",
            "\n",
            "give us the strength we need when life gets tough. \n",
            "\n",
            "in addition, people express unity through love,family, friends, and others \n",
            "\n",
            "share stories of finding common ground with someone.there are many \n",
            "\n",
            "benefits of staying united in tough times, as it helps \n",
            "\n",
            "to face challenging situations with courage. the importance of staying \n",
            "\n",
            "united has struc* a chord among many people throughout history.*eeping \n",
            "\n",
            "memories of what we have accomplished throughout history can help \n",
            "\n",
            "us see how individuals and communities have persevered through tough \n",
            "\n",
            "times and into a brighter future.\n",
            "\n",
            "\n"
          ]
        }
      ]
    },
    {
      "cell_type": "code",
      "source": [
        "# only two words remians. \"struc*\" and \"*eeping\"\n",
        "# after analyzing the whole sentence, we can say that these two words are \"struck\" and \"keeping\"\n",
        "# map p=k\n",
        "\n",
        "mapping = {'m':'a', 'f':'s', 'v':'i', 'd':'e', 'g':'t', 't':'h', 'h':'o', 'a':'f', 'b':'u', 'e':'r', 's':'n',\n",
        "           'u':'g', 'z':'m', 'l':'y', 'x':'d', 'c':'p', 'j':'w', 'y':'l', 'k':'x', 'i':'b', 'q':'c', 'o':'v', 'p':'k'}\n",
        "words_per_line = 10\n",
        "plaintext = substitution_cipher(ciphertext, mapping)\n",
        "print_result(ciphertext, words_per_line)\n",
        "print_result(plaintext, words_per_line)"
      ],
      "metadata": {
        "colab": {
          "base_uri": "https://localhost:8080/"
        },
        "id": "IPt7yAvPOia4",
        "outputId": "d62a72cf-55af-467c-b73d-d0e3f90ebbdc"
      },
      "execution_count": 108,
      "outputs": [
        {
          "output_type": "stream",
          "name": "stdout",
          "text": [
            "gtd bsvgl vf fgedsugt dffml dkcymvsf gtmg gtd chjde ha \n",
            "\n",
            "aevdsxftvc tdycf bf gh id fgehsu aehz tmexftvcf. aevdsxf qms \n",
            "\n",
            "uvod bf gtd fgedsugt jd sddx jtds yvad udgf ghbut. \n",
            "\n",
            "vs mxxvgvhs, cdhcyd dkcedff bsvgl gtehbut yhod,amzvyl, aevdsxf, msx hgtdef \n",
            "\n",
            "ftmed fghevdf ha avsxvsu qhzzhs uehbsx jvgt fhzdhsd.gtded med zmsl \n",
            "\n",
            "idsdavgf ha fgmlvsu bsvgdx vs ghbut gvzdf, mf vg tdycf \n",
            "\n",
            "gh amqd qtmyydsuvsu fvgbmgvhsf jvgt qhbemud. gtd vzchegmsqd ha fgmlvsu \n",
            "\n",
            "bsvgdx tmf fgebqp m qthex mzhsu zmsl cdhcyd gtehbuthbg tvfghel.pddcvsu \n",
            "\n",
            "zdzhevdf ha jtmg jd tmod mqqhzcyvftdx gtehbuthbg tvfghel qms tdyc \n",
            "\n",
            "bf fdd thj vsxvovxbmyf msx qhzzbsvgvdf tmod cdefdodedx gtehbut ghbut \n",
            "\n",
            "gvzdf msx vsgh m ievutgde abgbed.\n",
            "\n",
            "\n",
            "the unity is strength essay explains that the power of \n",
            "\n",
            "friendship helps us to be strong from hardships. friends can \n",
            "\n",
            "give us the strength we need when life gets tough. \n",
            "\n",
            "in addition, people express unity through love,family, friends, and others \n",
            "\n",
            "share stories of finding common ground with someone.there are many \n",
            "\n",
            "benefits of staying united in tough times, as it helps \n",
            "\n",
            "to face challenging situations with courage. the importance of staying \n",
            "\n",
            "united has struck a chord among many people throughout history.keeping \n",
            "\n",
            "memories of what we have accomplished throughout history can help \n",
            "\n",
            "us see how individuals and communities have persevered through tough \n",
            "\n",
            "times and into a brighter future.\n",
            "\n",
            "\n"
          ]
        }
      ]
    },
    {
      "cell_type": "code",
      "source": [
        "# desired mappings of given ciphertext\n",
        "\n",
        "desired_mapping(mapping)"
      ],
      "metadata": {
        "colab": {
          "base_uri": "https://localhost:8080/"
        },
        "id": "S5oWFCsFJ4HL",
        "outputId": "510e2625-b3c2-4692-e23f-617cd6ebdf4e"
      },
      "execution_count": 109,
      "outputs": [
        {
          "output_type": "stream",
          "name": "stdout",
          "text": [
            "Desired Mappings : \n",
            "m:a\n",
            "f:s\n",
            "v:i\n",
            "d:e\n",
            "g:t\n",
            "t:h\n",
            "h:o\n",
            "a:f\n",
            "b:u\n",
            "e:r\n",
            "s:n\n",
            "u:g\n",
            "z:m\n",
            "l:y\n",
            "x:d\n",
            "c:p\n",
            "j:w\n",
            "y:l\n",
            "k:x\n",
            "i:b\n",
            "q:c\n",
            "o:v\n",
            "p:k\n"
          ]
        }
      ]
    },
    {
      "cell_type": "markdown",
      "source": [
        "<ins>**Plaintext of Task-02(A) is :**</ins><br>\n",
        "<p>the unity is strength essay explains that the power of\n",
        "friendship helps us to be strong from hardships. friends can\n",
        "give us the strength we need when life gets tough.\n",
        "in addition, people express unity through love,family, friends, and others\n",
        "share stories of finding common ground with someone.there are many\n",
        "benefits of staying united in tough times, as it helps\n",
        "to face challenging situations with courage. the importance of staying\n",
        "united has struck a chord among many people throughout history.keeping\n",
        "memories of what we have accomplished throughout history can help\n",
        "us see how individuals and communities have persevered through tough\n",
        "times and into a brighter future.</p>"
      ],
      "metadata": {
        "id": "NFVgDWv2PIqX"
      }
    },
    {
      "cell_type": "markdown",
      "source": [
        "# <ins>Task - 02(B)</ins>"
      ],
      "metadata": {
        "id": "bF45EjMhJT2X"
      }
    },
    {
      "cell_type": "code",
      "source": [
        "ciphertext = \"exupziu kxwqxagxom, upm gxsm zs l amtwzo exgg rmqzfm kigg \\\n",
        "lok xolquxjm.lgwz, l kxwqxagxomk amtwzo qlo qzoutzg lok plokgm \\\n",
        "upm wxuiluxzo zs gxjxoh xo l wzapxwuxqlumk elc uplo upzwm epz \\\n",
        "kz ozu.fztmzjmt, xs czi pljm l aglo lok czi elou \\\n",
        "uz xfagmfmou xu xo czit gxsm upmo czi ommk kxwqxagxom. \\\n",
        "xu flnmw upxohw mlwc szt czi uz plokgm lok iguxflumgc \\\n",
        "rtxoh wiqqmww uz czit gxsm.xs ulgn lrziu upm ucamw zs \\\n",
        "kxwqxagxom, upmo upmc ltm hmomtlggc zs uez ucamw. sxtwu zom \\\n",
        "xw xokiqmk kxwqxagxom lok upm wmqzok zom xw wmgs- \\\n",
        "kxwqxagxom.xokiqmk kxwqxagxom \\\n",
        "xw wzfmupxoh uplu zupmtw ulihpu iw zt em gmlto rc \\\n",
        "wmmxoh zupmtw. epxgm wmgs-kxwqxagxom qzfmw stzf exupxo lok \\\n",
        "em gmlto xu zo zit zeo wmgs. wmgs-kxwqxagxom tmyixtmw l gzu \\\n",
        "zs fzuxjluxzo lok wiaaztu stzf zupmtw.lrzjm lgg, szggzexoh czit klxgc \\\n",
        "wqpmkigm exupziu loc fxwulnm xw lgwz altu zs rmxoh kxwqxagxomk.\"\n",
        "\n",
        "mapping = {}\n",
        "words_per_line = 10\n",
        "plaintext = substitution_cipher(ciphertext, mapping)\n",
        "print_result(ciphertext, words_per_line)\n",
        "print_result(plaintext, words_per_line)"
      ],
      "metadata": {
        "colab": {
          "base_uri": "https://localhost:8080/"
        },
        "id": "w1xGW5mNKvOC",
        "outputId": "d5395936-152e-4aae-ff18-6e08be1d8822"
      },
      "execution_count": 110,
      "outputs": [
        {
          "output_type": "stream",
          "name": "stdout",
          "text": [
            "exupziu kxwqxagxom, upm gxsm zs l amtwzo exgg rmqzfm kigg \n",
            "\n",
            "lok xolquxjm.lgwz, l kxwqxagxomk amtwzo qlo qzoutzg lok plokgm upm \n",
            "\n",
            "wxuiluxzo zs gxjxoh xo l wzapxwuxqlumk elc uplo upzwm epz \n",
            "\n",
            "kz ozu.fztmzjmt, xs czi pljm l aglo lok czi elou \n",
            "\n",
            "uz xfagmfmou xu xo czit gxsm upmo czi ommk kxwqxagxom. \n",
            "\n",
            "xu flnmw upxohw mlwc szt czi uz plokgm lok iguxflumgc \n",
            "\n",
            "rtxoh wiqqmww uz czit gxsm.xs ulgn lrziu upm ucamw zs \n",
            "\n",
            "kxwqxagxom, upmo upmc ltm hmomtlggc zs uez ucamw. sxtwu zom \n",
            "\n",
            "xw xokiqmk kxwqxagxom lok upm wmqzok zom xw wmgs- kxwqxagxom.xokiqmk \n",
            "\n",
            "kxwqxagxom xw wzfmupxoh uplu zupmtw ulihpu iw zt em gmlto \n",
            "\n",
            "rc wmmxoh zupmtw. epxgm wmgs-kxwqxagxom qzfmw stzf exupxo lok em \n",
            "\n",
            "gmlto xu zo zit zeo wmgs. wmgs-kxwqxagxom tmyixtmw l gzu \n",
            "\n",
            "zs fzuxjluxzo lok wiaaztu stzf zupmtw.lrzjm lgg, szggzexoh czit klxgc \n",
            "\n",
            "wqpmkigm exupziu loc fxwulnm xw lgwz altu zs rmxoh kxwqxagxomk.\n",
            "\n",
            "\n",
            "******* **********, *** **** ** * ****** **** ****** **** \n",
            "\n",
            "*** ********.****, * *********** ****** *** ******* *** ****** *** \n",
            "\n",
            "********* ** ****** ** * ************* *** **** ***** *** \n",
            "\n",
            "** ***.********, ** *** **** * **** *** *** **** \n",
            "\n",
            "** ********* ** ** **** **** **** *** **** **********. \n",
            "\n",
            "** ***** ****** **** *** *** ** ****** *** ********** \n",
            "\n",
            "***** ******* ** **** ****.** **** ***** *** ***** ** \n",
            "\n",
            "**********, **** **** *** ********* ** *** *****. ***** *** \n",
            "\n",
            "** ******* ********** *** *** ****** *** ** ****- **********.******* \n",
            "\n",
            "********** ** ********* **** ****** ****** ** ** ** ***** \n",
            "\n",
            "** ****** ******. ***** ****-********** ***** **** ****** *** ** \n",
            "\n",
            "***** ** ** *** *** ****. ****-********** ******** * *** \n",
            "\n",
            "** ********** *** ******* **** ******.***** ***, ********* **** ***** \n",
            "\n",
            "******** ******* *** ******* ** **** **** ** ***** ***********.\n",
            "\n",
            "\n"
          ]
        }
      ]
    },
    {
      "cell_type": "code",
      "source": [
        "# let's cheack frequency of characters in the ciphertext\n",
        "\n",
        "calc_frequency(ciphertext)"
      ],
      "metadata": {
        "colab": {
          "base_uri": "https://localhost:8080/"
        },
        "id": "KmnsUbVFLRdl",
        "outputId": "bfb95002-1ddc-4b5c-cb43-b9e8cca99c4c"
      },
      "execution_count": 111,
      "outputs": [
        {
          "output_type": "stream",
          "name": "stdout",
          "text": [
            "Character:  , Frequency: 139\n",
            "Character: x, Frequency: 74\n",
            "Character: m, Frequency: 73\n",
            "Character: z, Frequency: 57\n",
            "Character: o, Frequency: 55\n",
            "Character: u, Frequency: 52\n",
            "Character: w, Frequency: 47\n",
            "Character: g, Frequency: 44\n",
            "Character: l, Frequency: 43\n",
            "Character: k, Frequency: 32\n",
            "Character: p, Frequency: 26\n",
            "Character: t, Frequency: 26\n",
            "Character: i, Frequency: 22\n",
            "Character: q, Frequency: 22\n",
            "Character: a, Frequency: 20\n",
            "Character: s, Frequency: 20\n",
            "Character: c, Frequency: 17\n",
            "Character: e, Frequency: 13\n",
            "Character: f, Frequency: 12\n",
            "Character: ., Frequency: 10\n",
            "Character: h, Frequency: 9\n",
            "Character: r, Frequency: 6\n",
            "Character: j, Frequency: 6\n",
            "Character: ,, Frequency: 5\n",
            "Character: n, Frequency: 3\n",
            "Character: -, Frequency: 3\n",
            "Character: y, Frequency: 1\n"
          ]
        }
      ]
    },
    {
      "cell_type": "code",
      "source": [
        "# line 1, word 6, here we can see that character \"l\" is a single letter word.\n",
        "# we know \"a\" and \"i\" are two single letter word\n",
        "# but in the ciphertext we can see that \"l\" is using in the middle of a sentence\n",
        "# we know out of \"a\" and \"i\", only \"a\" can be used in the middle of a sentence\n",
        "# let's map l=a\n",
        "\n",
        "mapping = {'l':'a'}\n",
        "words_per_line = 10\n",
        "plaintext = substitution_cipher(ciphertext, mapping)\n",
        "print_result(ciphertext, words_per_line)\n",
        "print_result(plaintext, words_per_line)"
      ],
      "metadata": {
        "colab": {
          "base_uri": "https://localhost:8080/"
        },
        "id": "uws4352XLcN4",
        "outputId": "3f20e2fd-4737-42e8-b4ba-f43a86148883"
      },
      "execution_count": 112,
      "outputs": [
        {
          "output_type": "stream",
          "name": "stdout",
          "text": [
            "exupziu kxwqxagxom, upm gxsm zs l amtwzo exgg rmqzfm kigg \n",
            "\n",
            "lok xolquxjm.lgwz, l kxwqxagxomk amtwzo qlo qzoutzg lok plokgm upm \n",
            "\n",
            "wxuiluxzo zs gxjxoh xo l wzapxwuxqlumk elc uplo upzwm epz \n",
            "\n",
            "kz ozu.fztmzjmt, xs czi pljm l aglo lok czi elou \n",
            "\n",
            "uz xfagmfmou xu xo czit gxsm upmo czi ommk kxwqxagxom. \n",
            "\n",
            "xu flnmw upxohw mlwc szt czi uz plokgm lok iguxflumgc \n",
            "\n",
            "rtxoh wiqqmww uz czit gxsm.xs ulgn lrziu upm ucamw zs \n",
            "\n",
            "kxwqxagxom, upmo upmc ltm hmomtlggc zs uez ucamw. sxtwu zom \n",
            "\n",
            "xw xokiqmk kxwqxagxom lok upm wmqzok zom xw wmgs- kxwqxagxom.xokiqmk \n",
            "\n",
            "kxwqxagxom xw wzfmupxoh uplu zupmtw ulihpu iw zt em gmlto \n",
            "\n",
            "rc wmmxoh zupmtw. epxgm wmgs-kxwqxagxom qzfmw stzf exupxo lok em \n",
            "\n",
            "gmlto xu zo zit zeo wmgs. wmgs-kxwqxagxom tmyixtmw l gzu \n",
            "\n",
            "zs fzuxjluxzo lok wiaaztu stzf zupmtw.lrzjm lgg, szggzexoh czit klxgc \n",
            "\n",
            "wqpmkigm exupziu loc fxwulnm xw lgwz altu zs rmxoh kxwqxagxomk.\n",
            "\n",
            "\n",
            "******* **********, *** **** ** a ****** **** ****** **** \n",
            "\n",
            "a** **a*****.a***, a *********** ****** *a* ******* a** *a**** *** \n",
            "\n",
            "****a**** ** ****** ** a *********a*** *a* **a* ***** *** \n",
            "\n",
            "** ***.********, ** *** *a** a **a* a** *** *a** \n",
            "\n",
            "** ********* ** ** **** **** **** *** **** **********. \n",
            "\n",
            "** *a*** ****** *a** *** *** ** *a**** a** *****a**** \n",
            "\n",
            "***** ******* ** **** ****.** *a** a**** *** ***** ** \n",
            "\n",
            "**********, **** **** a** *****a*** ** *** *****. ***** *** \n",
            "\n",
            "** ******* ********** a** *** ****** *** ** ****- **********.******* \n",
            "\n",
            "********** ** ********* **a* ****** *a**** ** ** ** **a** \n",
            "\n",
            "** ****** ******. ***** ****-********** ***** **** ****** a** ** \n",
            "\n",
            "**a** ** ** *** *** ****. ****-********** ******** a *** \n",
            "\n",
            "** *****a**** a** ******* **** ******.a**** a**, ********* **** *a*** \n",
            "\n",
            "******** ******* a** ****a** ** a*** *a** ** ***** ***********.\n",
            "\n",
            "\n"
          ]
        }
      ]
    },
    {
      "cell_type": "code",
      "source": [
        "# frequency of character 'x' is 74\n",
        "# frequency of character 'm' is 73\n",
        "# we know 'e' and 't', are most frequently used characters\n",
        "# let's map x=e and m=t\n",
        "\n",
        "mapping = {'l':'a', 'x':'e', 'm':'t'}\n",
        "words_per_line = 10\n",
        "plaintext = substitution_cipher(ciphertext, mapping)\n",
        "print_result(ciphertext, words_per_line)\n",
        "print_result(plaintext, words_per_line)"
      ],
      "metadata": {
        "colab": {
          "base_uri": "https://localhost:8080/"
        },
        "id": "VXQDN_rNL8p_",
        "outputId": "1f5caf7d-90af-409c-ee59-9cad18f59209"
      },
      "execution_count": 113,
      "outputs": [
        {
          "output_type": "stream",
          "name": "stdout",
          "text": [
            "exupziu kxwqxagxom, upm gxsm zs l amtwzo exgg rmqzfm kigg \n",
            "\n",
            "lok xolquxjm.lgwz, l kxwqxagxomk amtwzo qlo qzoutzg lok plokgm upm \n",
            "\n",
            "wxuiluxzo zs gxjxoh xo l wzapxwuxqlumk elc uplo upzwm epz \n",
            "\n",
            "kz ozu.fztmzjmt, xs czi pljm l aglo lok czi elou \n",
            "\n",
            "uz xfagmfmou xu xo czit gxsm upmo czi ommk kxwqxagxom. \n",
            "\n",
            "xu flnmw upxohw mlwc szt czi uz plokgm lok iguxflumgc \n",
            "\n",
            "rtxoh wiqqmww uz czit gxsm.xs ulgn lrziu upm ucamw zs \n",
            "\n",
            "kxwqxagxom, upmo upmc ltm hmomtlggc zs uez ucamw. sxtwu zom \n",
            "\n",
            "xw xokiqmk kxwqxagxom lok upm wmqzok zom xw wmgs- kxwqxagxom.xokiqmk \n",
            "\n",
            "kxwqxagxom xw wzfmupxoh uplu zupmtw ulihpu iw zt em gmlto \n",
            "\n",
            "rc wmmxoh zupmtw. epxgm wmgs-kxwqxagxom qzfmw stzf exupxo lok em \n",
            "\n",
            "gmlto xu zo zit zeo wmgs. wmgs-kxwqxagxom tmyixtmw l gzu \n",
            "\n",
            "zs fzuxjluxzo lok wiaaztu stzf zupmtw.lrzjm lgg, szggzexoh czit klxgc \n",
            "\n",
            "wqpmkigm exupziu loc fxwulnm xw lgwz altu zs rmxoh kxwqxagxomk.\n",
            "\n",
            "\n",
            "*e***** *e**e**e*t, **t *e*t ** a *t**** *e** *t***t **** \n",
            "\n",
            "a** e*a**e*t.a***, a *e**e**e*t* *t**** *a* ******* a** *a***t **t \n",
            "\n",
            "*e**a*e** ** *e*e** e* a ****e**e*a*t* *a* **a* ****t *** \n",
            "\n",
            "** ***.***t**t*, e* *** *a*t a **a* a** *** *a** \n",
            "\n",
            "** e***t*t** e* e* **** *e*t **t* *** *tt* *e**e**e*t. \n",
            "\n",
            "e* *a*t* **e*** ta** *** *** ** *a***t a** ***e*a*t** \n",
            "\n",
            "**e** ****t** ** **** *e*t.e* *a** a**** **t ***t* ** \n",
            "\n",
            "*e**e**e*t, **t* **t* a*t *t*t*a*** ** *** ***t*. *e*** **t \n",
            "\n",
            "e* e****t* *e**e**e*t a** **t *t**** **t e* *t**- *e**e**e*t.e****t* \n",
            "\n",
            "*e**e**e*t e* ***t**e** **a* ***t** *a**** ** ** *t *ta** \n",
            "\n",
            "** *tte** ***t**. **e*t *t**-*e**e**e*t ***t* **** *e**e* a** *t \n",
            "\n",
            "*ta** e* ** *** *** *t**. *t**-*e**e**e*t *t**e*t* a *** \n",
            "\n",
            "** ***e*a*e** a** ******* **** ***t**.a***t a**, ******e** **** *ae** \n",
            "\n",
            "***t***t *e***** a** *e**a*t e* a*** *a** ** *te** *e**e**e*t*.\n",
            "\n",
            "\n"
          ]
        }
      ]
    },
    {
      "cell_type": "code",
      "source": [
        "# line 4,word 4, we can see that, it's a two letter word starting with 'e'\n",
        "# it's very unusual to see a two letter word starts with \"e\"\n",
        "# so let's change our map\n",
        "# map x=t and m=e\n",
        "\n",
        "mapping = {'l':'a', 'x':'t', 'm':'e'}\n",
        "words_per_line = 10\n",
        "plaintext = substitution_cipher(ciphertext, mapping)\n",
        "print_result(ciphertext, words_per_line)\n",
        "print_result(plaintext, words_per_line)"
      ],
      "metadata": {
        "colab": {
          "base_uri": "https://localhost:8080/"
        },
        "id": "kfmAKb7VMyVz",
        "outputId": "70861150-c305-42eb-d5f2-4b02e6c27d87"
      },
      "execution_count": 114,
      "outputs": [
        {
          "output_type": "stream",
          "name": "stdout",
          "text": [
            "exupziu kxwqxagxom, upm gxsm zs l amtwzo exgg rmqzfm kigg \n",
            "\n",
            "lok xolquxjm.lgwz, l kxwqxagxomk amtwzo qlo qzoutzg lok plokgm upm \n",
            "\n",
            "wxuiluxzo zs gxjxoh xo l wzapxwuxqlumk elc uplo upzwm epz \n",
            "\n",
            "kz ozu.fztmzjmt, xs czi pljm l aglo lok czi elou \n",
            "\n",
            "uz xfagmfmou xu xo czit gxsm upmo czi ommk kxwqxagxom. \n",
            "\n",
            "xu flnmw upxohw mlwc szt czi uz plokgm lok iguxflumgc \n",
            "\n",
            "rtxoh wiqqmww uz czit gxsm.xs ulgn lrziu upm ucamw zs \n",
            "\n",
            "kxwqxagxom, upmo upmc ltm hmomtlggc zs uez ucamw. sxtwu zom \n",
            "\n",
            "xw xokiqmk kxwqxagxom lok upm wmqzok zom xw wmgs- kxwqxagxom.xokiqmk \n",
            "\n",
            "kxwqxagxom xw wzfmupxoh uplu zupmtw ulihpu iw zt em gmlto \n",
            "\n",
            "rc wmmxoh zupmtw. epxgm wmgs-kxwqxagxom qzfmw stzf exupxo lok em \n",
            "\n",
            "gmlto xu zo zit zeo wmgs. wmgs-kxwqxagxom tmyixtmw l gzu \n",
            "\n",
            "zs fzuxjluxzo lok wiaaztu stzf zupmtw.lrzjm lgg, szggzexoh czit klxgc \n",
            "\n",
            "wqpmkigm exupziu loc fxwulnm xw lgwz altu zs rmxoh kxwqxagxomk.\n",
            "\n",
            "\n",
            "*t***** *t**t**t*e, **e *t*e ** a *e**** *t** *e***e **** \n",
            "\n",
            "a** t*a**t*e.a***, a *t**t**t*e* *e**** *a* ******* a** *a***e **e \n",
            "\n",
            "*t**a*t** ** *t*t** t* a ****t**t*a*e* *a* **a* ****e *** \n",
            "\n",
            "** ***.***e**e*, t* *** *a*e a **a* a** *** *a** \n",
            "\n",
            "** t***e*e** t* t* **** *t*e **e* *** *ee* *t**t**t*e. \n",
            "\n",
            "t* *a*e* **t*** ea** *** *** ** *a***e a** ***t*a*e** \n",
            "\n",
            "**t** ****e** ** **** *t*e.t* *a** a**** **e ***e* ** \n",
            "\n",
            "*t**t**t*e, **e* **e* a*e *e*e*a*** ** *** ***e*. *t*** **e \n",
            "\n",
            "t* t****e* *t**t**t*e a** **e *e**** **e t* *e**- *t**t**t*e.t****e* \n",
            "\n",
            "*t**t**t*e t* ***e**t** **a* ***e** *a**** ** ** *e *ea** \n",
            "\n",
            "** *eet** ***e**. **t*e *e**-*t**t**t*e ***e* **** *t**t* a** *e \n",
            "\n",
            "*ea** t* ** *** *** *e**. *e**-*t**t**t*e *e**t*e* a *** \n",
            "\n",
            "** ***t*a*t** a** ******* **** ***e**.a***e a**, ******t** **** *at** \n",
            "\n",
            "***e***e *t***** a** *t**a*e t* a*** *a** ** *et** *t**t**t*e*.\n",
            "\n",
            "\n"
          ]
        }
      ]
    },
    {
      "cell_type": "code",
      "source": [
        "# we can see there many \"t*\" form\n",
        "# we know \"to\" is one of the most frequently used two letter word that starts with \"t\"\n",
        "# from line 3, word 6,\n",
        "# map o=o\n",
        "\n",
        "mapping = {'l':'a', 'x':'t', 'm':'e', 'o':'o'}\n",
        "words_per_line = 10\n",
        "plaintext = substitution_cipher(ciphertext, mapping)\n",
        "print_result(ciphertext, words_per_line)\n",
        "print_result(plaintext, words_per_line)"
      ],
      "metadata": {
        "colab": {
          "base_uri": "https://localhost:8080/"
        },
        "id": "dP_eBMoHNTlo",
        "outputId": "db584a9f-f671-40b5-f52a-eacada256a36"
      },
      "execution_count": 115,
      "outputs": [
        {
          "output_type": "stream",
          "name": "stdout",
          "text": [
            "exupziu kxwqxagxom, upm gxsm zs l amtwzo exgg rmqzfm kigg \n",
            "\n",
            "lok xolquxjm.lgwz, l kxwqxagxomk amtwzo qlo qzoutzg lok plokgm upm \n",
            "\n",
            "wxuiluxzo zs gxjxoh xo l wzapxwuxqlumk elc uplo upzwm epz \n",
            "\n",
            "kz ozu.fztmzjmt, xs czi pljm l aglo lok czi elou \n",
            "\n",
            "uz xfagmfmou xu xo czit gxsm upmo czi ommk kxwqxagxom. \n",
            "\n",
            "xu flnmw upxohw mlwc szt czi uz plokgm lok iguxflumgc \n",
            "\n",
            "rtxoh wiqqmww uz czit gxsm.xs ulgn lrziu upm ucamw zs \n",
            "\n",
            "kxwqxagxom, upmo upmc ltm hmomtlggc zs uez ucamw. sxtwu zom \n",
            "\n",
            "xw xokiqmk kxwqxagxom lok upm wmqzok zom xw wmgs- kxwqxagxom.xokiqmk \n",
            "\n",
            "kxwqxagxom xw wzfmupxoh uplu zupmtw ulihpu iw zt em gmlto \n",
            "\n",
            "rc wmmxoh zupmtw. epxgm wmgs-kxwqxagxom qzfmw stzf exupxo lok em \n",
            "\n",
            "gmlto xu zo zit zeo wmgs. wmgs-kxwqxagxom tmyixtmw l gzu \n",
            "\n",
            "zs fzuxjluxzo lok wiaaztu stzf zupmtw.lrzjm lgg, szggzexoh czit klxgc \n",
            "\n",
            "wqpmkigm exupziu loc fxwulnm xw lgwz altu zs rmxoh kxwqxagxomk.\n",
            "\n",
            "\n",
            "*t***** *t**t**toe, **e *t*e ** a *e***o *t** *e***e **** \n",
            "\n",
            "ao* toa**t*e.a***, a *t**t**toe* *e***o *ao **o**** ao* *ao**e **e \n",
            "\n",
            "*t**a*t*o ** *t*to* to a ****t**t*a*e* *a* **ao ****e *** \n",
            "\n",
            "** o**.***e**e*, t* *** *a*e a **ao ao* *** *ao* \n",
            "\n",
            "** t***e*eo* t* to **** *t*e **eo *** oee* *t**t**toe. \n",
            "\n",
            "t* *a*e* **to** ea** *** *** ** *ao**e ao* ***t*a*e** \n",
            "\n",
            "**to* ****e** ** **** *t*e.t* *a** a**** **e ***e* ** \n",
            "\n",
            "*t**t**toe, **eo **e* a*e *eoe*a*** ** *** ***e*. *t*** *oe \n",
            "\n",
            "t* to***e* *t**t**toe ao* **e *e**o* *oe t* *e**- *t**t**toe.to***e* \n",
            "\n",
            "*t**t**toe t* ***e**to* **a* ***e** *a**** ** ** *e *ea*o \n",
            "\n",
            "** *eeto* ***e**. **t*e *e**-*t**t**toe ***e* **** *t**to ao* *e \n",
            "\n",
            "*ea*o t* *o *** **o *e**. *e**-*t**t**toe *e**t*e* a *** \n",
            "\n",
            "** ***t*a*t*o ao* ******* **** ***e**.a***e a**, ******to* **** *at** \n",
            "\n",
            "***e***e *t***** ao* *t**a*e t* a*** *a** ** *eto* *t**t**toe*.\n",
            "\n",
            "\n"
          ]
        }
      ]
    },
    {
      "cell_type": "code",
      "source": [
        "# line 8, word 4, the word is \"a*e\"\n",
        "# we know \"are\" is one of the most frequently used three letter word\n",
        "# let's consider \"a*e\" as \"are\"\n",
        "# let's map t=r\n",
        "\n",
        "mapping = {'l':'a', 'x':'t', 'm':'e', 'o':'o', 't':'r'}\n",
        "words_per_line = 10\n",
        "plaintext = substitution_cipher(ciphertext, mapping)\n",
        "print_result(ciphertext, words_per_line)\n",
        "print_result(plaintext, words_per_line)"
      ],
      "metadata": {
        "colab": {
          "base_uri": "https://localhost:8080/"
        },
        "id": "8RkUuayuODFA",
        "outputId": "ca090a59-be9f-4543-f8de-b6158f8ce122"
      },
      "execution_count": 116,
      "outputs": [
        {
          "output_type": "stream",
          "name": "stdout",
          "text": [
            "exupziu kxwqxagxom, upm gxsm zs l amtwzo exgg rmqzfm kigg \n",
            "\n",
            "lok xolquxjm.lgwz, l kxwqxagxomk amtwzo qlo qzoutzg lok plokgm upm \n",
            "\n",
            "wxuiluxzo zs gxjxoh xo l wzapxwuxqlumk elc uplo upzwm epz \n",
            "\n",
            "kz ozu.fztmzjmt, xs czi pljm l aglo lok czi elou \n",
            "\n",
            "uz xfagmfmou xu xo czit gxsm upmo czi ommk kxwqxagxom. \n",
            "\n",
            "xu flnmw upxohw mlwc szt czi uz plokgm lok iguxflumgc \n",
            "\n",
            "rtxoh wiqqmww uz czit gxsm.xs ulgn lrziu upm ucamw zs \n",
            "\n",
            "kxwqxagxom, upmo upmc ltm hmomtlggc zs uez ucamw. sxtwu zom \n",
            "\n",
            "xw xokiqmk kxwqxagxom lok upm wmqzok zom xw wmgs- kxwqxagxom.xokiqmk \n",
            "\n",
            "kxwqxagxom xw wzfmupxoh uplu zupmtw ulihpu iw zt em gmlto \n",
            "\n",
            "rc wmmxoh zupmtw. epxgm wmgs-kxwqxagxom qzfmw stzf exupxo lok em \n",
            "\n",
            "gmlto xu zo zit zeo wmgs. wmgs-kxwqxagxom tmyixtmw l gzu \n",
            "\n",
            "zs fzuxjluxzo lok wiaaztu stzf zupmtw.lrzjm lgg, szggzexoh czit klxgc \n",
            "\n",
            "wqpmkigm exupziu loc fxwulnm xw lgwz altu zs rmxoh kxwqxagxomk.\n",
            "\n",
            "\n",
            "*t***** *t**t**toe, **e *t*e ** a *er**o *t** *e***e **** \n",
            "\n",
            "ao* toa**t*e.a***, a *t**t**toe* *er**o *ao **o*r** ao* *ao**e **e \n",
            "\n",
            "*t**a*t*o ** *t*to* to a ****t**t*a*e* *a* **ao ****e *** \n",
            "\n",
            "** o**.**re**er, t* *** *a*e a **ao ao* *** *ao* \n",
            "\n",
            "** t***e*eo* t* to ***r *t*e **eo *** oee* *t**t**toe. \n",
            "\n",
            "t* *a*e* **to** ea** **r *** ** *ao**e ao* ***t*a*e** \n",
            "\n",
            "*rto* ****e** ** ***r *t*e.t* *a** a**** **e ***e* ** \n",
            "\n",
            "*t**t**toe, **eo **e* are *eoera*** ** *** ***e*. *tr** *oe \n",
            "\n",
            "t* to***e* *t**t**toe ao* **e *e**o* *oe t* *e**- *t**t**toe.to***e* \n",
            "\n",
            "*t**t**toe t* ***e**to* **a* ***er* *a**** ** *r *e *earo \n",
            "\n",
            "** *eeto* ***er*. **t*e *e**-*t**t**toe ***e* *r** *t**to ao* *e \n",
            "\n",
            "*earo t* *o **r **o *e**. *e**-*t**t**toe re**tre* a *** \n",
            "\n",
            "** ***t*a*t*o ao* *****r* *r** ***er*.a***e a**, ******to* ***r *at** \n",
            "\n",
            "***e***e *t***** ao* *t**a*e t* a*** *ar* ** *eto* *t**t**toe*.\n",
            "\n",
            "\n"
          ]
        }
      ]
    },
    {
      "cell_type": "code",
      "source": [
        "# we are unable to find any pattern\n",
        "# but we can see that a lot of \"t*\" is still there\n",
        "# we already used \"to\"\n",
        "# so we need to change our map again\n",
        "# we know \"is, in, it\" are some of most frequently used two letter words\n",
        "# so let's consider \"i\" in place of \"t\"\n",
        "# map x=i\n",
        "\n",
        "mapping = {'l':'a', 'x':'i', 'm':'e', 'o':'o', 't':'r'}\n",
        "words_per_line = 10\n",
        "plaintext = substitution_cipher(ciphertext, mapping)\n",
        "print_result(ciphertext, words_per_line)\n",
        "print_result(plaintext, words_per_line)"
      ],
      "metadata": {
        "colab": {
          "base_uri": "https://localhost:8080/"
        },
        "id": "eaSH-NSmQFAc",
        "outputId": "f351be6b-18be-439b-cffa-4607d0e468de"
      },
      "execution_count": 117,
      "outputs": [
        {
          "output_type": "stream",
          "name": "stdout",
          "text": [
            "exupziu kxwqxagxom, upm gxsm zs l amtwzo exgg rmqzfm kigg \n",
            "\n",
            "lok xolquxjm.lgwz, l kxwqxagxomk amtwzo qlo qzoutzg lok plokgm upm \n",
            "\n",
            "wxuiluxzo zs gxjxoh xo l wzapxwuxqlumk elc uplo upzwm epz \n",
            "\n",
            "kz ozu.fztmzjmt, xs czi pljm l aglo lok czi elou \n",
            "\n",
            "uz xfagmfmou xu xo czit gxsm upmo czi ommk kxwqxagxom. \n",
            "\n",
            "xu flnmw upxohw mlwc szt czi uz plokgm lok iguxflumgc \n",
            "\n",
            "rtxoh wiqqmww uz czit gxsm.xs ulgn lrziu upm ucamw zs \n",
            "\n",
            "kxwqxagxom, upmo upmc ltm hmomtlggc zs uez ucamw. sxtwu zom \n",
            "\n",
            "xw xokiqmk kxwqxagxom lok upm wmqzok zom xw wmgs- kxwqxagxom.xokiqmk \n",
            "\n",
            "kxwqxagxom xw wzfmupxoh uplu zupmtw ulihpu iw zt em gmlto \n",
            "\n",
            "rc wmmxoh zupmtw. epxgm wmgs-kxwqxagxom qzfmw stzf exupxo lok em \n",
            "\n",
            "gmlto xu zo zit zeo wmgs. wmgs-kxwqxagxom tmyixtmw l gzu \n",
            "\n",
            "zs fzuxjluxzo lok wiaaztu stzf zupmtw.lrzjm lgg, szggzexoh czit klxgc \n",
            "\n",
            "wqpmkigm exupziu loc fxwulnm xw lgwz altu zs rmxoh kxwqxagxomk.\n",
            "\n",
            "\n",
            "*i***** *i**i**ioe, **e *i*e ** a *er**o *i** *e***e **** \n",
            "\n",
            "ao* ioa**i*e.a***, a *i**i**ioe* *er**o *ao **o*r** ao* *ao**e **e \n",
            "\n",
            "*i**a*i*o ** *i*io* io a ****i**i*a*e* *a* **ao ****e *** \n",
            "\n",
            "** o**.**re**er, i* *** *a*e a **ao ao* *** *ao* \n",
            "\n",
            "** i***e*eo* i* io ***r *i*e **eo *** oee* *i**i**ioe. \n",
            "\n",
            "i* *a*e* **io** ea** **r *** ** *ao**e ao* ***i*a*e** \n",
            "\n",
            "*rio* ****e** ** ***r *i*e.i* *a** a**** **e ***e* ** \n",
            "\n",
            "*i**i**ioe, **eo **e* are *eoera*** ** *** ***e*. *ir** *oe \n",
            "\n",
            "i* io***e* *i**i**ioe ao* **e *e**o* *oe i* *e**- *i**i**ioe.io***e* \n",
            "\n",
            "*i**i**ioe i* ***e**io* **a* ***er* *a**** ** *r *e *earo \n",
            "\n",
            "** *eeio* ***er*. **i*e *e**-*i**i**ioe ***e* *r** *i**io ao* *e \n",
            "\n",
            "*earo i* *o **r **o *e**. *e**-*i**i**ioe re**ire* a *** \n",
            "\n",
            "** ***i*a*i*o ao* *****r* *r** ***er*.a***e a**, ******io* ***r *ai** \n",
            "\n",
            "***e***e *i***** ao* *i**a*e i* a*** *ar* ** *eio* *i**i**ioe*.\n",
            "\n",
            "\n"
          ]
        }
      ]
    },
    {
      "cell_type": "code",
      "source": [
        "# we are seeing a lot of \"io\"\n",
        "# we know \"in\" is one of the most frequently used two letter word that starts with \"i\"\n",
        "# map o=n\n",
        "\n",
        "mapping = {'l':'a', 'x':'i', 'm':'e', 'o':'n', 't':'r'}\n",
        "words_per_line = 10\n",
        "plaintext = substitution_cipher(ciphertext, mapping)\n",
        "print_result(ciphertext, words_per_line)\n",
        "print_result(plaintext, words_per_line)"
      ],
      "metadata": {
        "colab": {
          "base_uri": "https://localhost:8080/"
        },
        "id": "8RhLgcI6Q34P",
        "outputId": "74698a68-51c4-4a01-e9fa-6515eeb13113"
      },
      "execution_count": 118,
      "outputs": [
        {
          "output_type": "stream",
          "name": "stdout",
          "text": [
            "exupziu kxwqxagxom, upm gxsm zs l amtwzo exgg rmqzfm kigg \n",
            "\n",
            "lok xolquxjm.lgwz, l kxwqxagxomk amtwzo qlo qzoutzg lok plokgm upm \n",
            "\n",
            "wxuiluxzo zs gxjxoh xo l wzapxwuxqlumk elc uplo upzwm epz \n",
            "\n",
            "kz ozu.fztmzjmt, xs czi pljm l aglo lok czi elou \n",
            "\n",
            "uz xfagmfmou xu xo czit gxsm upmo czi ommk kxwqxagxom. \n",
            "\n",
            "xu flnmw upxohw mlwc szt czi uz plokgm lok iguxflumgc \n",
            "\n",
            "rtxoh wiqqmww uz czit gxsm.xs ulgn lrziu upm ucamw zs \n",
            "\n",
            "kxwqxagxom, upmo upmc ltm hmomtlggc zs uez ucamw. sxtwu zom \n",
            "\n",
            "xw xokiqmk kxwqxagxom lok upm wmqzok zom xw wmgs- kxwqxagxom.xokiqmk \n",
            "\n",
            "kxwqxagxom xw wzfmupxoh uplu zupmtw ulihpu iw zt em gmlto \n",
            "\n",
            "rc wmmxoh zupmtw. epxgm wmgs-kxwqxagxom qzfmw stzf exupxo lok em \n",
            "\n",
            "gmlto xu zo zit zeo wmgs. wmgs-kxwqxagxom tmyixtmw l gzu \n",
            "\n",
            "zs fzuxjluxzo lok wiaaztu stzf zupmtw.lrzjm lgg, szggzexoh czit klxgc \n",
            "\n",
            "wqpmkigm exupziu loc fxwulnm xw lgwz altu zs rmxoh kxwqxagxomk.\n",
            "\n",
            "\n",
            "*i***** *i**i**ine, **e *i*e ** a *er**n *i** *e***e **** \n",
            "\n",
            "an* ina**i*e.a***, a *i**i**ine* *er**n *an **n*r** an* *an**e **e \n",
            "\n",
            "*i**a*i*n ** *i*in* in a ****i**i*a*e* *a* **an ****e *** \n",
            "\n",
            "** n**.**re**er, i* *** *a*e a **an an* *** *an* \n",
            "\n",
            "** i***e*en* i* in ***r *i*e **en *** nee* *i**i**ine. \n",
            "\n",
            "i* *a*e* **in** ea** **r *** ** *an**e an* ***i*a*e** \n",
            "\n",
            "*rin* ****e** ** ***r *i*e.i* *a** a**** **e ***e* ** \n",
            "\n",
            "*i**i**ine, **en **e* are *enera*** ** *** ***e*. *ir** *ne \n",
            "\n",
            "i* in***e* *i**i**ine an* **e *e**n* *ne i* *e**- *i**i**ine.in***e* \n",
            "\n",
            "*i**i**ine i* ***e**in* **a* ***er* *a**** ** *r *e *earn \n",
            "\n",
            "** *eein* ***er*. **i*e *e**-*i**i**ine ***e* *r** *i**in an* *e \n",
            "\n",
            "*earn i* *n **r **n *e**. *e**-*i**i**ine re**ire* a *** \n",
            "\n",
            "** ***i*a*i*n an* *****r* *r** ***er*.a***e a**, ******in* ***r *ai** \n",
            "\n",
            "***e***e *i***** an* *i**a*e i* a*** *ar* ** *ein* *i**i**ine*.\n",
            "\n",
            "\n"
          ]
        }
      ]
    },
    {
      "cell_type": "code",
      "source": [
        "# line 10, word 8, we can see a word looks like \"*r\"\n",
        "# we know \"or\" is one of the most frequently used two letter word that ends with \"r\"\n",
        "# map z=o\n",
        "\n",
        "mapping = {'l':'a', 'x':'i', 'm':'e', 'o':'n', 't':'r', 'z':'o'}\n",
        "words_per_line = 10\n",
        "plaintext = substitution_cipher(ciphertext, mapping)\n",
        "print_result(ciphertext, words_per_line)\n",
        "print_result(plaintext, words_per_line)"
      ],
      "metadata": {
        "colab": {
          "base_uri": "https://localhost:8080/"
        },
        "id": "ZM2ygtNNRauH",
        "outputId": "c8e39ed1-d389-46a2-a86a-b8d207ca8828"
      },
      "execution_count": 119,
      "outputs": [
        {
          "output_type": "stream",
          "name": "stdout",
          "text": [
            "exupziu kxwqxagxom, upm gxsm zs l amtwzo exgg rmqzfm kigg \n",
            "\n",
            "lok xolquxjm.lgwz, l kxwqxagxomk amtwzo qlo qzoutzg lok plokgm upm \n",
            "\n",
            "wxuiluxzo zs gxjxoh xo l wzapxwuxqlumk elc uplo upzwm epz \n",
            "\n",
            "kz ozu.fztmzjmt, xs czi pljm l aglo lok czi elou \n",
            "\n",
            "uz xfagmfmou xu xo czit gxsm upmo czi ommk kxwqxagxom. \n",
            "\n",
            "xu flnmw upxohw mlwc szt czi uz plokgm lok iguxflumgc \n",
            "\n",
            "rtxoh wiqqmww uz czit gxsm.xs ulgn lrziu upm ucamw zs \n",
            "\n",
            "kxwqxagxom, upmo upmc ltm hmomtlggc zs uez ucamw. sxtwu zom \n",
            "\n",
            "xw xokiqmk kxwqxagxom lok upm wmqzok zom xw wmgs- kxwqxagxom.xokiqmk \n",
            "\n",
            "kxwqxagxom xw wzfmupxoh uplu zupmtw ulihpu iw zt em gmlto \n",
            "\n",
            "rc wmmxoh zupmtw. epxgm wmgs-kxwqxagxom qzfmw stzf exupxo lok em \n",
            "\n",
            "gmlto xu zo zit zeo wmgs. wmgs-kxwqxagxom tmyixtmw l gzu \n",
            "\n",
            "zs fzuxjluxzo lok wiaaztu stzf zupmtw.lrzjm lgg, szggzexoh czit klxgc \n",
            "\n",
            "wqpmkigm exupziu loc fxwulnm xw lgwz altu zs rmxoh kxwqxagxomk.\n",
            "\n",
            "\n",
            "*i**o** *i**i**ine, **e *i*e o* a *er*on *i** *e*o*e **** \n",
            "\n",
            "an* ina**i*e.a**o, a *i**i**ine* *er*on *an *on*ro* an* *an**e **e \n",
            "\n",
            "*i**a*ion o* *i*in* in a *o**i**i*a*e* *a* **an **o*e **o \n",
            "\n",
            "*o no*.*oreo*er, i* *o* *a*e a **an an* *o* *an* \n",
            "\n",
            "*o i***e*en* i* in *o*r *i*e **en *o* nee* *i**i**ine. \n",
            "\n",
            "i* *a*e* **in** ea** *or *o* *o *an**e an* ***i*a*e** \n",
            "\n",
            "*rin* ****e** *o *o*r *i*e.i* *a** a*o** **e ***e* o* \n",
            "\n",
            "*i**i**ine, **en **e* are *enera*** o* **o ***e*. *ir** one \n",
            "\n",
            "i* in***e* *i**i**ine an* **e *e*on* one i* *e**- *i**i**ine.in***e* \n",
            "\n",
            "*i**i**ine i* *o*e**in* **a* o**er* *a**** ** or *e *earn \n",
            "\n",
            "** *eein* o**er*. **i*e *e**-*i**i**ine *o*e* *ro* *i**in an* *e \n",
            "\n",
            "*earn i* on o*r o*n *e**. *e**-*i**i**ine re**ire* a *o* \n",
            "\n",
            "o* *o*i*a*ion an* ****or* *ro* o**er*.a*o*e a**, *o**o*in* *o*r *ai** \n",
            "\n",
            "***e***e *i**o** an* *i**a*e i* a**o *ar* o* *ein* *i**i**ine*.\n",
            "\n",
            "\n"
          ]
        }
      ]
    },
    {
      "cell_type": "code",
      "source": [
        "# line 1, word 5, we can see a word looks like \"o*\"\n",
        "# we know \"of\" is one of the most frequently used two letter word that starts with \"o\"\n",
        "# map s=f\n",
        "\n",
        "mapping = {'l':'a', 'x':'i', 'm':'e', 'o':'n', 't':'r', 'z':'o', 's':'f'}\n",
        "words_per_line = 10\n",
        "plaintext = substitution_cipher(ciphertext, mapping)\n",
        "print_result(ciphertext, words_per_line)\n",
        "print_result(plaintext, words_per_line)"
      ],
      "metadata": {
        "colab": {
          "base_uri": "https://localhost:8080/"
        },
        "id": "Y8BHfSRZR8Bz",
        "outputId": "425b46c4-236a-4e49-933b-14285ab0e308"
      },
      "execution_count": 120,
      "outputs": [
        {
          "output_type": "stream",
          "name": "stdout",
          "text": [
            "exupziu kxwqxagxom, upm gxsm zs l amtwzo exgg rmqzfm kigg \n",
            "\n",
            "lok xolquxjm.lgwz, l kxwqxagxomk amtwzo qlo qzoutzg lok plokgm upm \n",
            "\n",
            "wxuiluxzo zs gxjxoh xo l wzapxwuxqlumk elc uplo upzwm epz \n",
            "\n",
            "kz ozu.fztmzjmt, xs czi pljm l aglo lok czi elou \n",
            "\n",
            "uz xfagmfmou xu xo czit gxsm upmo czi ommk kxwqxagxom. \n",
            "\n",
            "xu flnmw upxohw mlwc szt czi uz plokgm lok iguxflumgc \n",
            "\n",
            "rtxoh wiqqmww uz czit gxsm.xs ulgn lrziu upm ucamw zs \n",
            "\n",
            "kxwqxagxom, upmo upmc ltm hmomtlggc zs uez ucamw. sxtwu zom \n",
            "\n",
            "xw xokiqmk kxwqxagxom lok upm wmqzok zom xw wmgs- kxwqxagxom.xokiqmk \n",
            "\n",
            "kxwqxagxom xw wzfmupxoh uplu zupmtw ulihpu iw zt em gmlto \n",
            "\n",
            "rc wmmxoh zupmtw. epxgm wmgs-kxwqxagxom qzfmw stzf exupxo lok em \n",
            "\n",
            "gmlto xu zo zit zeo wmgs. wmgs-kxwqxagxom tmyixtmw l gzu \n",
            "\n",
            "zs fzuxjluxzo lok wiaaztu stzf zupmtw.lrzjm lgg, szggzexoh czit klxgc \n",
            "\n",
            "wqpmkigm exupziu loc fxwulnm xw lgwz altu zs rmxoh kxwqxagxomk.\n",
            "\n",
            "\n",
            "*i**o** *i**i**ine, **e *ife of a *er*on *i** *e*o*e **** \n",
            "\n",
            "an* ina**i*e.a**o, a *i**i**ine* *er*on *an *on*ro* an* *an**e **e \n",
            "\n",
            "*i**a*ion of *i*in* in a *o**i**i*a*e* *a* **an **o*e **o \n",
            "\n",
            "*o no*.*oreo*er, if *o* *a*e a **an an* *o* *an* \n",
            "\n",
            "*o i***e*en* i* in *o*r *ife **en *o* nee* *i**i**ine. \n",
            "\n",
            "i* *a*e* **in** ea** for *o* *o *an**e an* ***i*a*e** \n",
            "\n",
            "*rin* ****e** *o *o*r *ife.if *a** a*o** **e ***e* of \n",
            "\n",
            "*i**i**ine, **en **e* are *enera*** of **o ***e*. fir** one \n",
            "\n",
            "i* in***e* *i**i**ine an* **e *e*on* one i* *e*f- *i**i**ine.in***e* \n",
            "\n",
            "*i**i**ine i* *o*e**in* **a* o**er* *a**** ** or *e *earn \n",
            "\n",
            "** *eein* o**er*. **i*e *e*f-*i**i**ine *o*e* fro* *i**in an* *e \n",
            "\n",
            "*earn i* on o*r o*n *e*f. *e*f-*i**i**ine re**ire* a *o* \n",
            "\n",
            "of *o*i*a*ion an* ****or* fro* o**er*.a*o*e a**, fo**o*in* *o*r *ai** \n",
            "\n",
            "***e***e *i**o** an* *i**a*e i* a**o *ar* of *ein* *i**i**ine*.\n",
            "\n",
            "\n"
          ]
        }
      ]
    },
    {
      "cell_type": "code",
      "source": [
        "# line 2, word 1, we can see a word looks like \"an*\"\n",
        "# we know \"and\" is one of the most frequently used three letter word that starts with \"an\"\n",
        "# map k=d\n",
        "\n",
        "mapping = {'l':'a', 'x':'i', 'm':'e', 'o':'n', 't':'r', 'z':'o', 's':'f', 'k':'d'}\n",
        "words_per_line = 10\n",
        "plaintext = substitution_cipher(ciphertext, mapping)\n",
        "print_result(ciphertext, words_per_line)\n",
        "print_result(plaintext, words_per_line)"
      ],
      "metadata": {
        "colab": {
          "base_uri": "https://localhost:8080/"
        },
        "id": "AUxSQDKOSpRi",
        "outputId": "e5275d5d-567d-4a72-c5ce-18835c2620f8"
      },
      "execution_count": 121,
      "outputs": [
        {
          "output_type": "stream",
          "name": "stdout",
          "text": [
            "exupziu kxwqxagxom, upm gxsm zs l amtwzo exgg rmqzfm kigg \n",
            "\n",
            "lok xolquxjm.lgwz, l kxwqxagxomk amtwzo qlo qzoutzg lok plokgm upm \n",
            "\n",
            "wxuiluxzo zs gxjxoh xo l wzapxwuxqlumk elc uplo upzwm epz \n",
            "\n",
            "kz ozu.fztmzjmt, xs czi pljm l aglo lok czi elou \n",
            "\n",
            "uz xfagmfmou xu xo czit gxsm upmo czi ommk kxwqxagxom. \n",
            "\n",
            "xu flnmw upxohw mlwc szt czi uz plokgm lok iguxflumgc \n",
            "\n",
            "rtxoh wiqqmww uz czit gxsm.xs ulgn lrziu upm ucamw zs \n",
            "\n",
            "kxwqxagxom, upmo upmc ltm hmomtlggc zs uez ucamw. sxtwu zom \n",
            "\n",
            "xw xokiqmk kxwqxagxom lok upm wmqzok zom xw wmgs- kxwqxagxom.xokiqmk \n",
            "\n",
            "kxwqxagxom xw wzfmupxoh uplu zupmtw ulihpu iw zt em gmlto \n",
            "\n",
            "rc wmmxoh zupmtw. epxgm wmgs-kxwqxagxom qzfmw stzf exupxo lok em \n",
            "\n",
            "gmlto xu zo zit zeo wmgs. wmgs-kxwqxagxom tmyixtmw l gzu \n",
            "\n",
            "zs fzuxjluxzo lok wiaaztu stzf zupmtw.lrzjm lgg, szggzexoh czit klxgc \n",
            "\n",
            "wqpmkigm exupziu loc fxwulnm xw lgwz altu zs rmxoh kxwqxagxomk.\n",
            "\n",
            "\n",
            "*i**o** di**i**ine, **e *ife of a *er*on *i** *e*o*e d*** \n",
            "\n",
            "and ina**i*e.a**o, a di**i**ined *er*on *an *on*ro* and *and*e **e \n",
            "\n",
            "*i**a*ion of *i*in* in a *o**i**i*a*ed *a* **an **o*e **o \n",
            "\n",
            "do no*.*oreo*er, if *o* *a*e a **an and *o* *an* \n",
            "\n",
            "*o i***e*en* i* in *o*r *ife **en *o* need di**i**ine. \n",
            "\n",
            "i* *a*e* **in** ea** for *o* *o *and*e and ***i*a*e** \n",
            "\n",
            "*rin* ****e** *o *o*r *ife.if *a** a*o** **e ***e* of \n",
            "\n",
            "di**i**ine, **en **e* are *enera*** of **o ***e*. fir** one \n",
            "\n",
            "i* ind**ed di**i**ine and **e *e*ond one i* *e*f- di**i**ine.ind**ed \n",
            "\n",
            "di**i**ine i* *o*e**in* **a* o**er* *a**** ** or *e *earn \n",
            "\n",
            "** *eein* o**er*. **i*e *e*f-di**i**ine *o*e* fro* *i**in and *e \n",
            "\n",
            "*earn i* on o*r o*n *e*f. *e*f-di**i**ine re**ire* a *o* \n",
            "\n",
            "of *o*i*a*ion and ****or* fro* o**er*.a*o*e a**, fo**o*in* *o*r dai** \n",
            "\n",
            "***ed**e *i**o** an* *i**a*e i* a**o *ar* of *ein* di**i**ined.\n",
            "\n",
            "\n"
          ]
        }
      ]
    },
    {
      "cell_type": "code",
      "source": [
        "# line 5, word 1, we can see a word looks like \"*o\"\n",
        "# we know \"to\" is one of the most frequently used two letter word that ends with \"o\"\n",
        "# map u=t\n",
        "\n",
        "mapping = {'l':'a', 'x':'i', 'm':'e', 'o':'n', 't':'r', 'z':'o', 's':'f', 'k':'d', 'u':'t'}\n",
        "words_per_line = 10\n",
        "plaintext = substitution_cipher(ciphertext, mapping)\n",
        "print_result(ciphertext, words_per_line)\n",
        "print_result(plaintext, words_per_line)"
      ],
      "metadata": {
        "colab": {
          "base_uri": "https://localhost:8080/"
        },
        "id": "uZ_Q6mBST_6k",
        "outputId": "613b26e2-ce2e-4768-bb3c-37a17d22bbf0"
      },
      "execution_count": 122,
      "outputs": [
        {
          "output_type": "stream",
          "name": "stdout",
          "text": [
            "exupziu kxwqxagxom, upm gxsm zs l amtwzo exgg rmqzfm kigg \n",
            "\n",
            "lok xolquxjm.lgwz, l kxwqxagxomk amtwzo qlo qzoutzg lok plokgm upm \n",
            "\n",
            "wxuiluxzo zs gxjxoh xo l wzapxwuxqlumk elc uplo upzwm epz \n",
            "\n",
            "kz ozu.fztmzjmt, xs czi pljm l aglo lok czi elou \n",
            "\n",
            "uz xfagmfmou xu xo czit gxsm upmo czi ommk kxwqxagxom. \n",
            "\n",
            "xu flnmw upxohw mlwc szt czi uz plokgm lok iguxflumgc \n",
            "\n",
            "rtxoh wiqqmww uz czit gxsm.xs ulgn lrziu upm ucamw zs \n",
            "\n",
            "kxwqxagxom, upmo upmc ltm hmomtlggc zs uez ucamw. sxtwu zom \n",
            "\n",
            "xw xokiqmk kxwqxagxom lok upm wmqzok zom xw wmgs- kxwqxagxom.xokiqmk \n",
            "\n",
            "kxwqxagxom xw wzfmupxoh uplu zupmtw ulihpu iw zt em gmlto \n",
            "\n",
            "rc wmmxoh zupmtw. epxgm wmgs-kxwqxagxom qzfmw stzf exupxo lok em \n",
            "\n",
            "gmlto xu zo zit zeo wmgs. wmgs-kxwqxagxom tmyixtmw l gzu \n",
            "\n",
            "zs fzuxjluxzo lok wiaaztu stzf zupmtw.lrzjm lgg, szggzexoh czit klxgc \n",
            "\n",
            "wqpmkigm exupziu loc fxwulnm xw lgwz altu zs rmxoh kxwqxagxomk.\n",
            "\n",
            "\n",
            "*it*o*t di**i**ine, t*e *ife of a *er*on *i** *e*o*e d*** \n",
            "\n",
            "and ina*ti*e.a**o, a di**i**ined *er*on *an *ontro* and *and*e t*e \n",
            "\n",
            "*it*ation of *i*in* in a *o**i*ti*ated *a* t*an t*o*e **o \n",
            "\n",
            "do not.*oreo*er, if *o* *a*e a **an and *o* *ant \n",
            "\n",
            "to i***e*ent it in *o*r *ife t*en *o* need di**i**ine. \n",
            "\n",
            "it *a*e* t*in** ea** for *o* to *and*e and **ti*ate** \n",
            "\n",
            "*rin* ****e** to *o*r *ife.if ta** a*o*t t*e t**e* of \n",
            "\n",
            "di**i**ine, t*en t*e* are *enera*** of t*o t**e*. fir*t one \n",
            "\n",
            "i* ind**ed di**i**ine and t*e *e*ond one i* *e*f- di**i**ine.ind**ed \n",
            "\n",
            "di**i**ine i* *o*et*in* t*at ot*er* ta***t ** or *e *earn \n",
            "\n",
            "** *eein* ot*er*. **i*e *e*f-di**i**ine *o*e* fro* *it*in and *e \n",
            "\n",
            "*earn it on o*r o*n *e*f. *e*f-di**i**ine re**ire* a *ot \n",
            "\n",
            "of *oti*ation and ****ort fro* ot*er*.a*o*e a**, fo**o*in* *o*r dai** \n",
            "\n",
            "***ed**e *it*o*t an* *i*ta*e i* a**o *art of *ein* di**i**ined.\n",
            "\n",
            "\n"
          ]
        }
      ]
    },
    {
      "cell_type": "code",
      "source": [
        "# line 1, word 3,, we can see a word looks like \"t*e\"\n",
        "# we know \"the\" is the most frequently used three letter word\n",
        "# map p=h\n",
        "\n",
        "mapping = {'l':'a', 'x':'i', 'm':'e', 'o':'n', 't':'r', 'z':'o', 's':'f', 'k':'d', 'u':'t', 'p':'h'}\n",
        "words_per_line = 10\n",
        "plaintext = substitution_cipher(ciphertext, mapping)\n",
        "print_result(ciphertext, words_per_line)\n",
        "print_result(plaintext, words_per_line)"
      ],
      "metadata": {
        "colab": {
          "base_uri": "https://localhost:8080/"
        },
        "id": "cRQ_RnU4UW7A",
        "outputId": "4cd1865f-62a5-42a3-869f-b779b3f1033b"
      },
      "execution_count": 123,
      "outputs": [
        {
          "output_type": "stream",
          "name": "stdout",
          "text": [
            "exupziu kxwqxagxom, upm gxsm zs l amtwzo exgg rmqzfm kigg \n",
            "\n",
            "lok xolquxjm.lgwz, l kxwqxagxomk amtwzo qlo qzoutzg lok plokgm upm \n",
            "\n",
            "wxuiluxzo zs gxjxoh xo l wzapxwuxqlumk elc uplo upzwm epz \n",
            "\n",
            "kz ozu.fztmzjmt, xs czi pljm l aglo lok czi elou \n",
            "\n",
            "uz xfagmfmou xu xo czit gxsm upmo czi ommk kxwqxagxom. \n",
            "\n",
            "xu flnmw upxohw mlwc szt czi uz plokgm lok iguxflumgc \n",
            "\n",
            "rtxoh wiqqmww uz czit gxsm.xs ulgn lrziu upm ucamw zs \n",
            "\n",
            "kxwqxagxom, upmo upmc ltm hmomtlggc zs uez ucamw. sxtwu zom \n",
            "\n",
            "xw xokiqmk kxwqxagxom lok upm wmqzok zom xw wmgs- kxwqxagxom.xokiqmk \n",
            "\n",
            "kxwqxagxom xw wzfmupxoh uplu zupmtw ulihpu iw zt em gmlto \n",
            "\n",
            "rc wmmxoh zupmtw. epxgm wmgs-kxwqxagxom qzfmw stzf exupxo lok em \n",
            "\n",
            "gmlto xu zo zit zeo wmgs. wmgs-kxwqxagxom tmyixtmw l gzu \n",
            "\n",
            "zs fzuxjluxzo lok wiaaztu stzf zupmtw.lrzjm lgg, szggzexoh czit klxgc \n",
            "\n",
            "wqpmkigm exupziu loc fxwulnm xw lgwz altu zs rmxoh kxwqxagxomk.\n",
            "\n",
            "\n",
            "*itho*t di**i**ine, the *ife of a *er*on *i** *e*o*e d*** \n",
            "\n",
            "and ina*ti*e.a**o, a di**i**ined *er*on *an *ontro* and hand*e the \n",
            "\n",
            "*it*ation of *i*in* in a *o*hi*ti*ated *a* than tho*e *ho \n",
            "\n",
            "do not.*oreo*er, if *o* ha*e a **an and *o* *ant \n",
            "\n",
            "to i***e*ent it in *o*r *ife then *o* need di**i**ine. \n",
            "\n",
            "it *a*e* thin** ea** for *o* to hand*e and **ti*ate** \n",
            "\n",
            "*rin* ****e** to *o*r *ife.if ta** a*o*t the t**e* of \n",
            "\n",
            "di**i**ine, then the* are *enera*** of t*o t**e*. fir*t one \n",
            "\n",
            "i* ind**ed di**i**ine and the *e*ond one i* *e*f- di**i**ine.ind**ed \n",
            "\n",
            "di**i**ine i* *o*ethin* that other* ta**ht ** or *e *earn \n",
            "\n",
            "** *eein* other*. *hi*e *e*f-di**i**ine *o*e* fro* *ithin and *e \n",
            "\n",
            "*earn it on o*r o*n *e*f. *e*f-di**i**ine re**ire* a *ot \n",
            "\n",
            "of *oti*ation and ****ort fro* other*.a*o*e a**, fo**o*in* *o*r dai** \n",
            "\n",
            "**hed**e *itho*t an* *i*ta*e i* a**o *art of *ein* di**i**ined.\n",
            "\n",
            "\n"
          ]
        }
      ]
    },
    {
      "cell_type": "code",
      "source": [
        "# line 9, word 1, we can see a word looks like \"i*\"\n",
        "# we know \"is\" is one of the most frequently used two letter word that starts with \"i\"\n",
        "# map w=s\n",
        "\n",
        "mapping = {'l':'a', 'x':'i', 'm':'e', 'o':'n', 't':'r', 'z':'o', 's':'f', 'k':'d', 'u':'t', 'p':'h', 'w':'s'}\n",
        "words_per_line = 10\n",
        "plaintext = substitution_cipher(ciphertext, mapping)\n",
        "print_result(ciphertext, words_per_line)\n",
        "print_result(plaintext, words_per_line)"
      ],
      "metadata": {
        "colab": {
          "base_uri": "https://localhost:8080/"
        },
        "id": "xgL8sJq3U0uf",
        "outputId": "081a1a3d-e02e-478c-a817-b003670da46e"
      },
      "execution_count": 124,
      "outputs": [
        {
          "output_type": "stream",
          "name": "stdout",
          "text": [
            "exupziu kxwqxagxom, upm gxsm zs l amtwzo exgg rmqzfm kigg \n",
            "\n",
            "lok xolquxjm.lgwz, l kxwqxagxomk amtwzo qlo qzoutzg lok plokgm upm \n",
            "\n",
            "wxuiluxzo zs gxjxoh xo l wzapxwuxqlumk elc uplo upzwm epz \n",
            "\n",
            "kz ozu.fztmzjmt, xs czi pljm l aglo lok czi elou \n",
            "\n",
            "uz xfagmfmou xu xo czit gxsm upmo czi ommk kxwqxagxom. \n",
            "\n",
            "xu flnmw upxohw mlwc szt czi uz plokgm lok iguxflumgc \n",
            "\n",
            "rtxoh wiqqmww uz czit gxsm.xs ulgn lrziu upm ucamw zs \n",
            "\n",
            "kxwqxagxom, upmo upmc ltm hmomtlggc zs uez ucamw. sxtwu zom \n",
            "\n",
            "xw xokiqmk kxwqxagxom lok upm wmqzok zom xw wmgs- kxwqxagxom.xokiqmk \n",
            "\n",
            "kxwqxagxom xw wzfmupxoh uplu zupmtw ulihpu iw zt em gmlto \n",
            "\n",
            "rc wmmxoh zupmtw. epxgm wmgs-kxwqxagxom qzfmw stzf exupxo lok em \n",
            "\n",
            "gmlto xu zo zit zeo wmgs. wmgs-kxwqxagxom tmyixtmw l gzu \n",
            "\n",
            "zs fzuxjluxzo lok wiaaztu stzf zupmtw.lrzjm lgg, szggzexoh czit klxgc \n",
            "\n",
            "wqpmkigm exupziu loc fxwulnm xw lgwz altu zs rmxoh kxwqxagxomk.\n",
            "\n",
            "\n",
            "*itho*t dis*i**ine, the *ife of a *erson *i** *e*o*e d*** \n",
            "\n",
            "and ina*ti*e.a*so, a dis*i**ined *erson *an *ontro* and hand*e the \n",
            "\n",
            "sit*ation of *i*in* in a so*histi*ated *a* than those *ho \n",
            "\n",
            "do not.*oreo*er, if *o* ha*e a **an and *o* *ant \n",
            "\n",
            "to i***e*ent it in *o*r *ife then *o* need dis*i**ine. \n",
            "\n",
            "it *a*es thin*s eas* for *o* to hand*e and **ti*ate** \n",
            "\n",
            "*rin* s***ess to *o*r *ife.if ta** a*o*t the t**es of \n",
            "\n",
            "dis*i**ine, then the* are *enera*** of t*o t**es. first one \n",
            "\n",
            "is ind**ed dis*i**ine and the se*ond one is se*f- dis*i**ine.ind**ed \n",
            "\n",
            "dis*i**ine is so*ethin* that others ta**ht *s or *e *earn \n",
            "\n",
            "** seein* others. *hi*e se*f-dis*i**ine *o*es fro* *ithin and *e \n",
            "\n",
            "*earn it on o*r o*n se*f. se*f-dis*i**ine re**ires a *ot \n",
            "\n",
            "of *oti*ation and s***ort fro* others.a*o*e a**, fo**o*in* *o*r dai** \n",
            "\n",
            "s*hed**e *itho*t an* *ista*e is a*so *art of *ein* dis*i**ined.\n",
            "\n",
            "\n"
          ]
        }
      ]
    },
    {
      "cell_type": "code",
      "source": [
        "# line 1, word 4,, we can see a word looks like \"*ife\"\n",
        "# let's consider \"*ife\" as \"life\"\n",
        "# map g=l\n",
        "\n",
        "mapping = {'l':'a', 'x':'i', 'm':'e', 'o':'n', 't':'r', 'z':'o', 's':'f', 'k':'d', 'u':'t', 'p':'h', 'w':'s', 'g':'l'}\n",
        "words_per_line = 10\n",
        "plaintext = substitution_cipher(ciphertext, mapping)\n",
        "print_result(ciphertext, words_per_line)\n",
        "print_result(plaintext, words_per_line)"
      ],
      "metadata": {
        "colab": {
          "base_uri": "https://localhost:8080/"
        },
        "id": "LrqfzuWHVV_W",
        "outputId": "90e792ea-0074-4666-e195-60a4939c55c7"
      },
      "execution_count": 125,
      "outputs": [
        {
          "output_type": "stream",
          "name": "stdout",
          "text": [
            "exupziu kxwqxagxom, upm gxsm zs l amtwzo exgg rmqzfm kigg \n",
            "\n",
            "lok xolquxjm.lgwz, l kxwqxagxomk amtwzo qlo qzoutzg lok plokgm upm \n",
            "\n",
            "wxuiluxzo zs gxjxoh xo l wzapxwuxqlumk elc uplo upzwm epz \n",
            "\n",
            "kz ozu.fztmzjmt, xs czi pljm l aglo lok czi elou \n",
            "\n",
            "uz xfagmfmou xu xo czit gxsm upmo czi ommk kxwqxagxom. \n",
            "\n",
            "xu flnmw upxohw mlwc szt czi uz plokgm lok iguxflumgc \n",
            "\n",
            "rtxoh wiqqmww uz czit gxsm.xs ulgn lrziu upm ucamw zs \n",
            "\n",
            "kxwqxagxom, upmo upmc ltm hmomtlggc zs uez ucamw. sxtwu zom \n",
            "\n",
            "xw xokiqmk kxwqxagxom lok upm wmqzok zom xw wmgs- kxwqxagxom.xokiqmk \n",
            "\n",
            "kxwqxagxom xw wzfmupxoh uplu zupmtw ulihpu iw zt em gmlto \n",
            "\n",
            "rc wmmxoh zupmtw. epxgm wmgs-kxwqxagxom qzfmw stzf exupxo lok em \n",
            "\n",
            "gmlto xu zo zit zeo wmgs. wmgs-kxwqxagxom tmyixtmw l gzu \n",
            "\n",
            "zs fzuxjluxzo lok wiaaztu stzf zupmtw.lrzjm lgg, szggzexoh czit klxgc \n",
            "\n",
            "wqpmkigm exupziu loc fxwulnm xw lgwz altu zs rmxoh kxwqxagxomk.\n",
            "\n",
            "\n",
            "*itho*t dis*i*line, the life of a *erson *ill *e*o*e d*ll \n",
            "\n",
            "and ina*ti*e.also, a dis*i*lined *erson *an *ontrol and handle the \n",
            "\n",
            "sit*ation of li*in* in a so*histi*ated *a* than those *ho \n",
            "\n",
            "do not.*oreo*er, if *o* ha*e a *lan and *o* *ant \n",
            "\n",
            "to i**le*ent it in *o*r life then *o* need dis*i*line. \n",
            "\n",
            "it *a*es thin*s eas* for *o* to handle and *lti*atel* \n",
            "\n",
            "*rin* s***ess to *o*r life.if tal* a*o*t the t**es of \n",
            "\n",
            "dis*i*line, then the* are *enerall* of t*o t**es. first one \n",
            "\n",
            "is ind**ed dis*i*line and the se*ond one is self- dis*i*line.ind**ed \n",
            "\n",
            "dis*i*line is so*ethin* that others ta**ht *s or *e learn \n",
            "\n",
            "** seein* others. *hile self-dis*i*line *o*es fro* *ithin and *e \n",
            "\n",
            "learn it on o*r o*n self. self-dis*i*line re**ires a lot \n",
            "\n",
            "of *oti*ation and s***ort fro* others.a*o*e all, follo*in* *o*r dail* \n",
            "\n",
            "s*hed*le *itho*t an* *ista*e is also *art of *ein* dis*i*lined.\n",
            "\n",
            "\n"
          ]
        }
      ]
    },
    {
      "cell_type": "code",
      "source": [
        "# line 1, word 7, we can see a word looks like \"*erson\"\n",
        "# after analyzing the whole sentence, let's consider this as \"person\"\n",
        "# map a=p\n",
        "\n",
        "\n",
        "mapping = {'l':'a', 'x':'i', 'm':'e', 'o':'n', 't':'r', 'z':'o', 's':'f', 'k':'d', 'u':'t', 'p':'h', 'w':'s', 'g':'l', 'a':'p'}\n",
        "words_per_line = 10\n",
        "plaintext = substitution_cipher(ciphertext, mapping)\n",
        "print_result(ciphertext, words_per_line)\n",
        "print_result(plaintext, words_per_line)"
      ],
      "metadata": {
        "colab": {
          "base_uri": "https://localhost:8080/"
        },
        "id": "2hX_cohIV8sL",
        "outputId": "5213464c-9e8a-4bc0-d3f6-11d91948cdff"
      },
      "execution_count": 126,
      "outputs": [
        {
          "output_type": "stream",
          "name": "stdout",
          "text": [
            "exupziu kxwqxagxom, upm gxsm zs l amtwzo exgg rmqzfm kigg \n",
            "\n",
            "lok xolquxjm.lgwz, l kxwqxagxomk amtwzo qlo qzoutzg lok plokgm upm \n",
            "\n",
            "wxuiluxzo zs gxjxoh xo l wzapxwuxqlumk elc uplo upzwm epz \n",
            "\n",
            "kz ozu.fztmzjmt, xs czi pljm l aglo lok czi elou \n",
            "\n",
            "uz xfagmfmou xu xo czit gxsm upmo czi ommk kxwqxagxom. \n",
            "\n",
            "xu flnmw upxohw mlwc szt czi uz plokgm lok iguxflumgc \n",
            "\n",
            "rtxoh wiqqmww uz czit gxsm.xs ulgn lrziu upm ucamw zs \n",
            "\n",
            "kxwqxagxom, upmo upmc ltm hmomtlggc zs uez ucamw. sxtwu zom \n",
            "\n",
            "xw xokiqmk kxwqxagxom lok upm wmqzok zom xw wmgs- kxwqxagxom.xokiqmk \n",
            "\n",
            "kxwqxagxom xw wzfmupxoh uplu zupmtw ulihpu iw zt em gmlto \n",
            "\n",
            "rc wmmxoh zupmtw. epxgm wmgs-kxwqxagxom qzfmw stzf exupxo lok em \n",
            "\n",
            "gmlto xu zo zit zeo wmgs. wmgs-kxwqxagxom tmyixtmw l gzu \n",
            "\n",
            "zs fzuxjluxzo lok wiaaztu stzf zupmtw.lrzjm lgg, szggzexoh czit klxgc \n",
            "\n",
            "wqpmkigm exupziu loc fxwulnm xw lgwz altu zs rmxoh kxwqxagxomk.\n",
            "\n",
            "\n",
            "*itho*t dis*ipline, the life of a person *ill *e*o*e d*ll \n",
            "\n",
            "and ina*ti*e.also, a dis*iplined person *an *ontrol and handle the \n",
            "\n",
            "sit*ation of li*in* in a sophisti*ated *a* than those *ho \n",
            "\n",
            "do not.*oreo*er, if *o* ha*e a plan and *o* *ant \n",
            "\n",
            "to i*ple*ent it in *o*r life then *o* need dis*ipline. \n",
            "\n",
            "it *a*es thin*s eas* for *o* to handle and *lti*atel* \n",
            "\n",
            "*rin* s***ess to *o*r life.if tal* a*o*t the t*pes of \n",
            "\n",
            "dis*ipline, then the* are *enerall* of t*o t*pes. first one \n",
            "\n",
            "is ind**ed dis*ipline and the se*ond one is self- dis*ipline.ind**ed \n",
            "\n",
            "dis*ipline is so*ethin* that others ta**ht *s or *e learn \n",
            "\n",
            "** seein* others. *hile self-dis*ipline *o*es fro* *ithin and *e \n",
            "\n",
            "learn it on o*r o*n self. self-dis*ipline re**ires a lot \n",
            "\n",
            "of *oti*ation and s*pport fro* others.a*o*e all, follo*in* *o*r dail* \n",
            "\n",
            "s*hed*le *itho*t an* *ista*e is also part of *ein* dis*iplined.\n",
            "\n",
            "\n"
          ]
        }
      ]
    },
    {
      "cell_type": "code",
      "source": [
        "# line 1, word 2, we can see a word looks like \"dis*ipline\"\n",
        "# after analyzing the whole sentence, let's consider this as \"discipline\"\n",
        "# map q=c\n",
        "\n",
        "\n",
        "mapping = {'l':'a', 'x':'i', 'm':'e', 'o':'n', 't':'r', 'z':'o', 's':'f', 'k':'d', 'u':'t', 'p':'h', 'w':'s', 'g':'l', 'a':'p', 'q':'c'}\n",
        "words_per_line = 10\n",
        "plaintext = substitution_cipher(ciphertext, mapping)\n",
        "print_result(ciphertext, words_per_line)\n",
        "print_result(plaintext, words_per_line)"
      ],
      "metadata": {
        "colab": {
          "base_uri": "https://localhost:8080/"
        },
        "id": "-Pfz4womWbFE",
        "outputId": "fa0b4fe9-bfd2-4357-c1f8-49344de277bc"
      },
      "execution_count": 127,
      "outputs": [
        {
          "output_type": "stream",
          "name": "stdout",
          "text": [
            "exupziu kxwqxagxom, upm gxsm zs l amtwzo exgg rmqzfm kigg \n",
            "\n",
            "lok xolquxjm.lgwz, l kxwqxagxomk amtwzo qlo qzoutzg lok plokgm upm \n",
            "\n",
            "wxuiluxzo zs gxjxoh xo l wzapxwuxqlumk elc uplo upzwm epz \n",
            "\n",
            "kz ozu.fztmzjmt, xs czi pljm l aglo lok czi elou \n",
            "\n",
            "uz xfagmfmou xu xo czit gxsm upmo czi ommk kxwqxagxom. \n",
            "\n",
            "xu flnmw upxohw mlwc szt czi uz plokgm lok iguxflumgc \n",
            "\n",
            "rtxoh wiqqmww uz czit gxsm.xs ulgn lrziu upm ucamw zs \n",
            "\n",
            "kxwqxagxom, upmo upmc ltm hmomtlggc zs uez ucamw. sxtwu zom \n",
            "\n",
            "xw xokiqmk kxwqxagxom lok upm wmqzok zom xw wmgs- kxwqxagxom.xokiqmk \n",
            "\n",
            "kxwqxagxom xw wzfmupxoh uplu zupmtw ulihpu iw zt em gmlto \n",
            "\n",
            "rc wmmxoh zupmtw. epxgm wmgs-kxwqxagxom qzfmw stzf exupxo lok em \n",
            "\n",
            "gmlto xu zo zit zeo wmgs. wmgs-kxwqxagxom tmyixtmw l gzu \n",
            "\n",
            "zs fzuxjluxzo lok wiaaztu stzf zupmtw.lrzjm lgg, szggzexoh czit klxgc \n",
            "\n",
            "wqpmkigm exupziu loc fxwulnm xw lgwz altu zs rmxoh kxwqxagxomk.\n",
            "\n",
            "\n",
            "*itho*t discipline, the life of a person *ill *eco*e d*ll \n",
            "\n",
            "and inacti*e.also, a disciplined person can control and handle the \n",
            "\n",
            "sit*ation of li*in* in a sophisticated *a* than those *ho \n",
            "\n",
            "do not.*oreo*er, if *o* ha*e a plan and *o* *ant \n",
            "\n",
            "to i*ple*ent it in *o*r life then *o* need discipline. \n",
            "\n",
            "it *a*es thin*s eas* for *o* to handle and *lti*atel* \n",
            "\n",
            "*rin* s*ccess to *o*r life.if tal* a*o*t the t*pes of \n",
            "\n",
            "discipline, then the* are *enerall* of t*o t*pes. first one \n",
            "\n",
            "is ind*ced discipline and the second one is self- discipline.ind*ced \n",
            "\n",
            "discipline is so*ethin* that others ta**ht *s or *e learn \n",
            "\n",
            "** seein* others. *hile self-discipline co*es fro* *ithin and *e \n",
            "\n",
            "learn it on o*r o*n self. self-discipline re**ires a lot \n",
            "\n",
            "of *oti*ation and s*pport fro* others.a*o*e all, follo*in* *o*r dail* \n",
            "\n",
            "sched*le *itho*t an* *ista*e is also part of *ein* disciplined.\n",
            "\n",
            "\n"
          ]
        }
      ]
    },
    {
      "cell_type": "code",
      "source": [
        "# line 1, word 1, we can see a word looks like \"*itho*t\"\n",
        "# after analyzing the whole sentence, let's consider this as \"without\"\n",
        "# map e=w and i=u\n",
        "\n",
        "\n",
        "mapping = {'l':'a', 'x':'i', 'm':'e', 'o':'n', 't':'r', 'z':'o', 's':'f', 'k':'d', 'u':'t', 'p':'h', 'w':'s', 'g':'l', 'a':'p', 'q':'c',\n",
        "           'e':'w', 'i':'u'}\n",
        "words_per_line = 10\n",
        "plaintext = substitution_cipher(ciphertext, mapping)\n",
        "print_result(ciphertext, words_per_line)\n",
        "print_result(plaintext, words_per_line)"
      ],
      "metadata": {
        "colab": {
          "base_uri": "https://localhost:8080/"
        },
        "id": "PGIupHlJW24P",
        "outputId": "f92ad457-c047-4e06-b9f9-3031857b8621"
      },
      "execution_count": 128,
      "outputs": [
        {
          "output_type": "stream",
          "name": "stdout",
          "text": [
            "exupziu kxwqxagxom, upm gxsm zs l amtwzo exgg rmqzfm kigg \n",
            "\n",
            "lok xolquxjm.lgwz, l kxwqxagxomk amtwzo qlo qzoutzg lok plokgm upm \n",
            "\n",
            "wxuiluxzo zs gxjxoh xo l wzapxwuxqlumk elc uplo upzwm epz \n",
            "\n",
            "kz ozu.fztmzjmt, xs czi pljm l aglo lok czi elou \n",
            "\n",
            "uz xfagmfmou xu xo czit gxsm upmo czi ommk kxwqxagxom. \n",
            "\n",
            "xu flnmw upxohw mlwc szt czi uz plokgm lok iguxflumgc \n",
            "\n",
            "rtxoh wiqqmww uz czit gxsm.xs ulgn lrziu upm ucamw zs \n",
            "\n",
            "kxwqxagxom, upmo upmc ltm hmomtlggc zs uez ucamw. sxtwu zom \n",
            "\n",
            "xw xokiqmk kxwqxagxom lok upm wmqzok zom xw wmgs- kxwqxagxom.xokiqmk \n",
            "\n",
            "kxwqxagxom xw wzfmupxoh uplu zupmtw ulihpu iw zt em gmlto \n",
            "\n",
            "rc wmmxoh zupmtw. epxgm wmgs-kxwqxagxom qzfmw stzf exupxo lok em \n",
            "\n",
            "gmlto xu zo zit zeo wmgs. wmgs-kxwqxagxom tmyixtmw l gzu \n",
            "\n",
            "zs fzuxjluxzo lok wiaaztu stzf zupmtw.lrzjm lgg, szggzexoh czit klxgc \n",
            "\n",
            "wqpmkigm exupziu loc fxwulnm xw lgwz altu zs rmxoh kxwqxagxomk.\n",
            "\n",
            "\n",
            "without discipline, the life of a person will *eco*e dull \n",
            "\n",
            "and inacti*e.also, a disciplined person can control and handle the \n",
            "\n",
            "situation of li*in* in a sophisticated wa* than those who \n",
            "\n",
            "do not.*oreo*er, if *ou ha*e a plan and *ou want \n",
            "\n",
            "to i*ple*ent it in *our life then *ou need discipline. \n",
            "\n",
            "it *a*es thin*s eas* for *ou to handle and ulti*atel* \n",
            "\n",
            "*rin* success to *our life.if tal* a*out the t*pes of \n",
            "\n",
            "discipline, then the* are *enerall* of two t*pes. first one \n",
            "\n",
            "is induced discipline and the second one is self- discipline.induced \n",
            "\n",
            "discipline is so*ethin* that others tau*ht us or we learn \n",
            "\n",
            "** seein* others. while self-discipline co*es fro* within and we \n",
            "\n",
            "learn it on our own self. self-discipline re*uires a lot \n",
            "\n",
            "of *oti*ation and support fro* others.a*o*e all, followin* *our dail* \n",
            "\n",
            "schedule without an* *ista*e is also part of *ein* disciplined.\n",
            "\n",
            "\n"
          ]
        }
      ]
    },
    {
      "cell_type": "code",
      "source": [
        "# line 6, word 6, we can see a word looks like \"*ou\"\n",
        "# we know \"you\" is one of the most frequently used three letter word that ends with \"ou\"\n",
        "# map c=y\n",
        "\n",
        "\n",
        "mapping = {'l':'a', 'x':'i', 'm':'e', 'o':'n', 't':'r', 'z':'o', 's':'f', 'k':'d', 'u':'t', 'p':'h', 'w':'s', 'g':'l', 'a':'p', 'q':'c',\n",
        "           'e':'w', 'i':'u', 'c':'y'}\n",
        "words_per_line = 10\n",
        "plaintext = substitution_cipher(ciphertext, mapping)\n",
        "print_result(ciphertext, words_per_line)\n",
        "print_result(plaintext, words_per_line)"
      ],
      "metadata": {
        "colab": {
          "base_uri": "https://localhost:8080/"
        },
        "id": "ErUZ3_BVXigd",
        "outputId": "c7000752-6aeb-4812-82b9-7467df66d333"
      },
      "execution_count": 129,
      "outputs": [
        {
          "output_type": "stream",
          "name": "stdout",
          "text": [
            "exupziu kxwqxagxom, upm gxsm zs l amtwzo exgg rmqzfm kigg \n",
            "\n",
            "lok xolquxjm.lgwz, l kxwqxagxomk amtwzo qlo qzoutzg lok plokgm upm \n",
            "\n",
            "wxuiluxzo zs gxjxoh xo l wzapxwuxqlumk elc uplo upzwm epz \n",
            "\n",
            "kz ozu.fztmzjmt, xs czi pljm l aglo lok czi elou \n",
            "\n",
            "uz xfagmfmou xu xo czit gxsm upmo czi ommk kxwqxagxom. \n",
            "\n",
            "xu flnmw upxohw mlwc szt czi uz plokgm lok iguxflumgc \n",
            "\n",
            "rtxoh wiqqmww uz czit gxsm.xs ulgn lrziu upm ucamw zs \n",
            "\n",
            "kxwqxagxom, upmo upmc ltm hmomtlggc zs uez ucamw. sxtwu zom \n",
            "\n",
            "xw xokiqmk kxwqxagxom lok upm wmqzok zom xw wmgs- kxwqxagxom.xokiqmk \n",
            "\n",
            "kxwqxagxom xw wzfmupxoh uplu zupmtw ulihpu iw zt em gmlto \n",
            "\n",
            "rc wmmxoh zupmtw. epxgm wmgs-kxwqxagxom qzfmw stzf exupxo lok em \n",
            "\n",
            "gmlto xu zo zit zeo wmgs. wmgs-kxwqxagxom tmyixtmw l gzu \n",
            "\n",
            "zs fzuxjluxzo lok wiaaztu stzf zupmtw.lrzjm lgg, szggzexoh czit klxgc \n",
            "\n",
            "wqpmkigm exupziu loc fxwulnm xw lgwz altu zs rmxoh kxwqxagxomk.\n",
            "\n",
            "\n",
            "without discipline, the life of a person will *eco*e dull \n",
            "\n",
            "and inacti*e.also, a disciplined person can control and handle the \n",
            "\n",
            "situation of li*in* in a sophisticated way than those who \n",
            "\n",
            "do not.*oreo*er, if you ha*e a plan and you want \n",
            "\n",
            "to i*ple*ent it in your life then you need discipline. \n",
            "\n",
            "it *a*es thin*s easy for you to handle and ulti*ately \n",
            "\n",
            "*rin* success to your life.if tal* a*out the types of \n",
            "\n",
            "discipline, then they are *enerally of two types. first one \n",
            "\n",
            "is induced discipline and the second one is self- discipline.induced \n",
            "\n",
            "discipline is so*ethin* that others tau*ht us or we learn \n",
            "\n",
            "*y seein* others. while self-discipline co*es fro* within and we \n",
            "\n",
            "learn it on our own self. self-discipline re*uires a lot \n",
            "\n",
            "of *oti*ation and support fro* others.a*o*e all, followin* your daily \n",
            "\n",
            "schedule without any *ista*e is also part of *ein* disciplined.\n",
            "\n",
            "\n"
          ]
        }
      ]
    },
    {
      "cell_type": "code",
      "source": [
        "# line 4, word 6, we can see a word looks like \"ha*e\"\n",
        "# we know \"have\" is one of the most frequently used four letter word\n",
        "# map j=v\n",
        "\n",
        "\n",
        "mapping = {'l':'a', 'x':'i', 'm':'e', 'o':'n', 't':'r', 'z':'o', 's':'f', 'k':'d', 'u':'t', 'p':'h', 'w':'s', 'g':'l', 'a':'p', 'q':'c',\n",
        "           'e':'w', 'i':'u', 'c':'y', 'j':'v'}\n",
        "words_per_line = 10\n",
        "plaintext = substitution_cipher(ciphertext, mapping)\n",
        "print_result(ciphertext, words_per_line)\n",
        "print_result(plaintext, words_per_line)"
      ],
      "metadata": {
        "colab": {
          "base_uri": "https://localhost:8080/"
        },
        "id": "UJvTBLyeYKCV",
        "outputId": "0a6247d5-17a8-4da7-ebc6-d43e1ceff30e"
      },
      "execution_count": 130,
      "outputs": [
        {
          "output_type": "stream",
          "name": "stdout",
          "text": [
            "exupziu kxwqxagxom, upm gxsm zs l amtwzo exgg rmqzfm kigg \n",
            "\n",
            "lok xolquxjm.lgwz, l kxwqxagxomk amtwzo qlo qzoutzg lok plokgm upm \n",
            "\n",
            "wxuiluxzo zs gxjxoh xo l wzapxwuxqlumk elc uplo upzwm epz \n",
            "\n",
            "kz ozu.fztmzjmt, xs czi pljm l aglo lok czi elou \n",
            "\n",
            "uz xfagmfmou xu xo czit gxsm upmo czi ommk kxwqxagxom. \n",
            "\n",
            "xu flnmw upxohw mlwc szt czi uz plokgm lok iguxflumgc \n",
            "\n",
            "rtxoh wiqqmww uz czit gxsm.xs ulgn lrziu upm ucamw zs \n",
            "\n",
            "kxwqxagxom, upmo upmc ltm hmomtlggc zs uez ucamw. sxtwu zom \n",
            "\n",
            "xw xokiqmk kxwqxagxom lok upm wmqzok zom xw wmgs- kxwqxagxom.xokiqmk \n",
            "\n",
            "kxwqxagxom xw wzfmupxoh uplu zupmtw ulihpu iw zt em gmlto \n",
            "\n",
            "rc wmmxoh zupmtw. epxgm wmgs-kxwqxagxom qzfmw stzf exupxo lok em \n",
            "\n",
            "gmlto xu zo zit zeo wmgs. wmgs-kxwqxagxom tmyixtmw l gzu \n",
            "\n",
            "zs fzuxjluxzo lok wiaaztu stzf zupmtw.lrzjm lgg, szggzexoh czit klxgc \n",
            "\n",
            "wqpmkigm exupziu loc fxwulnm xw lgwz altu zs rmxoh kxwqxagxomk.\n",
            "\n",
            "\n",
            "without discipline, the life of a person will *eco*e dull \n",
            "\n",
            "and inactive.also, a disciplined person can control and handle the \n",
            "\n",
            "situation of livin* in a sophisticated way than those who \n",
            "\n",
            "do not.*oreover, if you have a plan and you want \n",
            "\n",
            "to i*ple*ent it in your life then you need discipline. \n",
            "\n",
            "it *a*es thin*s easy for you to handle and ulti*ately \n",
            "\n",
            "*rin* success to your life.if tal* a*out the types of \n",
            "\n",
            "discipline, then they are *enerally of two types. first one \n",
            "\n",
            "is induced discipline and the second one is self- discipline.induced \n",
            "\n",
            "discipline is so*ethin* that others tau*ht us or we learn \n",
            "\n",
            "*y seein* others. while self-discipline co*es fro* within and we \n",
            "\n",
            "learn it on our own self. self-discipline re*uires a lot \n",
            "\n",
            "of *otivation and support fro* others.a*ove all, followin* your daily \n",
            "\n",
            "schedule without any *ista*e is also part of *ein* disciplined.\n",
            "\n",
            "\n"
          ]
        }
      ]
    },
    {
      "cell_type": "code",
      "source": [
        "# line 11, word 7, we can see a word looks like \"fro*\"\n",
        "# we know \"from\" is one of the most frequently used four letter word that starts with \"fro\"\n",
        "# map f=m\n",
        "\n",
        "\n",
        "mapping = {'l':'a', 'x':'i', 'm':'e', 'o':'n', 't':'r', 'z':'o', 's':'f', 'k':'d', 'u':'t', 'p':'h', 'w':'s', 'g':'l', 'a':'p', 'q':'c',\n",
        "           'e':'w', 'i':'u', 'c':'y', 'j':'v', 'f':'m'}\n",
        "words_per_line = 10\n",
        "plaintext = substitution_cipher(ciphertext, mapping)\n",
        "print_result(ciphertext, words_per_line)\n",
        "print_result(plaintext, words_per_line)"
      ],
      "metadata": {
        "colab": {
          "base_uri": "https://localhost:8080/"
        },
        "id": "lXVmxnfZYwss",
        "outputId": "4cbba5d0-cf88-40c9-d403-54e2e566c76c"
      },
      "execution_count": 131,
      "outputs": [
        {
          "output_type": "stream",
          "name": "stdout",
          "text": [
            "exupziu kxwqxagxom, upm gxsm zs l amtwzo exgg rmqzfm kigg \n",
            "\n",
            "lok xolquxjm.lgwz, l kxwqxagxomk amtwzo qlo qzoutzg lok plokgm upm \n",
            "\n",
            "wxuiluxzo zs gxjxoh xo l wzapxwuxqlumk elc uplo upzwm epz \n",
            "\n",
            "kz ozu.fztmzjmt, xs czi pljm l aglo lok czi elou \n",
            "\n",
            "uz xfagmfmou xu xo czit gxsm upmo czi ommk kxwqxagxom. \n",
            "\n",
            "xu flnmw upxohw mlwc szt czi uz plokgm lok iguxflumgc \n",
            "\n",
            "rtxoh wiqqmww uz czit gxsm.xs ulgn lrziu upm ucamw zs \n",
            "\n",
            "kxwqxagxom, upmo upmc ltm hmomtlggc zs uez ucamw. sxtwu zom \n",
            "\n",
            "xw xokiqmk kxwqxagxom lok upm wmqzok zom xw wmgs- kxwqxagxom.xokiqmk \n",
            "\n",
            "kxwqxagxom xw wzfmupxoh uplu zupmtw ulihpu iw zt em gmlto \n",
            "\n",
            "rc wmmxoh zupmtw. epxgm wmgs-kxwqxagxom qzfmw stzf exupxo lok em \n",
            "\n",
            "gmlto xu zo zit zeo wmgs. wmgs-kxwqxagxom tmyixtmw l gzu \n",
            "\n",
            "zs fzuxjluxzo lok wiaaztu stzf zupmtw.lrzjm lgg, szggzexoh czit klxgc \n",
            "\n",
            "wqpmkigm exupziu loc fxwulnm xw lgwz altu zs rmxoh kxwqxagxomk.\n",
            "\n",
            "\n",
            "without discipline, the life of a person will *ecome dull \n",
            "\n",
            "and inactive.also, a disciplined person can control and handle the \n",
            "\n",
            "situation of livin* in a sophisticated way than those who \n",
            "\n",
            "do not.moreover, if you have a plan and you want \n",
            "\n",
            "to implement it in your life then you need discipline. \n",
            "\n",
            "it ma*es thin*s easy for you to handle and ultimately \n",
            "\n",
            "*rin* success to your life.if tal* a*out the types of \n",
            "\n",
            "discipline, then they are *enerally of two types. first one \n",
            "\n",
            "is induced discipline and the second one is self- discipline.induced \n",
            "\n",
            "discipline is somethin* that others tau*ht us or we learn \n",
            "\n",
            "*y seein* others. while self-discipline comes from within and we \n",
            "\n",
            "learn it on our own self. self-discipline re*uires a lot \n",
            "\n",
            "of motivation and support from others.a*ove all, followin* your daily \n",
            "\n",
            "schedule without any mista*e is also part of *ein* disciplined.\n",
            "\n",
            "\n"
          ]
        }
      ]
    },
    {
      "cell_type": "code",
      "source": [
        "# line 1, word 9, we can see a word looks like \"*ecome\"\n",
        "# let's consider this word as \"become\"\n",
        "# map r=b\n",
        "\n",
        "\n",
        "mapping = {'l':'a', 'x':'i', 'm':'e', 'o':'n', 't':'r', 'z':'o', 's':'f', 'k':'d', 'u':'t', 'p':'h', 'w':'s', 'g':'l', 'a':'p', 'q':'c',\n",
        "           'e':'w', 'i':'u', 'c':'y', 'j':'v', 'f':'m', 'r':'b'}\n",
        "words_per_line = 10\n",
        "plaintext = substitution_cipher(ciphertext, mapping)\n",
        "print_result(ciphertext, words_per_line)\n",
        "print_result(plaintext, words_per_line)"
      ],
      "metadata": {
        "colab": {
          "base_uri": "https://localhost:8080/"
        },
        "id": "brZoYUisZWcV",
        "outputId": "237da708-7c7b-4a4a-e3b4-714df05c6727"
      },
      "execution_count": 132,
      "outputs": [
        {
          "output_type": "stream",
          "name": "stdout",
          "text": [
            "exupziu kxwqxagxom, upm gxsm zs l amtwzo exgg rmqzfm kigg \n",
            "\n",
            "lok xolquxjm.lgwz, l kxwqxagxomk amtwzo qlo qzoutzg lok plokgm upm \n",
            "\n",
            "wxuiluxzo zs gxjxoh xo l wzapxwuxqlumk elc uplo upzwm epz \n",
            "\n",
            "kz ozu.fztmzjmt, xs czi pljm l aglo lok czi elou \n",
            "\n",
            "uz xfagmfmou xu xo czit gxsm upmo czi ommk kxwqxagxom. \n",
            "\n",
            "xu flnmw upxohw mlwc szt czi uz plokgm lok iguxflumgc \n",
            "\n",
            "rtxoh wiqqmww uz czit gxsm.xs ulgn lrziu upm ucamw zs \n",
            "\n",
            "kxwqxagxom, upmo upmc ltm hmomtlggc zs uez ucamw. sxtwu zom \n",
            "\n",
            "xw xokiqmk kxwqxagxom lok upm wmqzok zom xw wmgs- kxwqxagxom.xokiqmk \n",
            "\n",
            "kxwqxagxom xw wzfmupxoh uplu zupmtw ulihpu iw zt em gmlto \n",
            "\n",
            "rc wmmxoh zupmtw. epxgm wmgs-kxwqxagxom qzfmw stzf exupxo lok em \n",
            "\n",
            "gmlto xu zo zit zeo wmgs. wmgs-kxwqxagxom tmyixtmw l gzu \n",
            "\n",
            "zs fzuxjluxzo lok wiaaztu stzf zupmtw.lrzjm lgg, szggzexoh czit klxgc \n",
            "\n",
            "wqpmkigm exupziu loc fxwulnm xw lgwz altu zs rmxoh kxwqxagxomk.\n",
            "\n",
            "\n",
            "without discipline, the life of a person will become dull \n",
            "\n",
            "and inactive.also, a disciplined person can control and handle the \n",
            "\n",
            "situation of livin* in a sophisticated way than those who \n",
            "\n",
            "do not.moreover, if you have a plan and you want \n",
            "\n",
            "to implement it in your life then you need discipline. \n",
            "\n",
            "it ma*es thin*s easy for you to handle and ultimately \n",
            "\n",
            "brin* success to your life.if tal* about the types of \n",
            "\n",
            "discipline, then they are *enerally of two types. first one \n",
            "\n",
            "is induced discipline and the second one is self- discipline.induced \n",
            "\n",
            "discipline is somethin* that others tau*ht us or we learn \n",
            "\n",
            "by seein* others. while self-discipline comes from within and we \n",
            "\n",
            "learn it on our own self. self-discipline re*uires a lot \n",
            "\n",
            "of motivation and support from others.above all, followin* your daily \n",
            "\n",
            "schedule without any mista*e is also part of bein* disciplined.\n",
            "\n",
            "\n"
          ]
        }
      ]
    },
    {
      "cell_type": "code",
      "source": [
        "# line 10, word 3, we can see a word looks like \"somethin*\"\n",
        "# let's consider \"somethin*\" as \"something\"\n",
        "# map h=g\n",
        "\n",
        "\n",
        "mapping = {'l':'a', 'x':'i', 'm':'e', 'o':'n', 't':'r', 'z':'o', 's':'f', 'k':'d', 'u':'t', 'p':'h', 'w':'s', 'g':'l', 'a':'p', 'q':'c',\n",
        "           'e':'w', 'i':'u', 'c':'y', 'j':'v', 'f':'m', 'r':'b', 'h':'g'}\n",
        "words_per_line = 10\n",
        "plaintext = substitution_cipher(ciphertext, mapping)\n",
        "print_result(ciphertext, words_per_line)\n",
        "print_result(plaintext, words_per_line)"
      ],
      "metadata": {
        "colab": {
          "base_uri": "https://localhost:8080/"
        },
        "id": "aOfax9EtZrqw",
        "outputId": "280f7a40-4616-4f29-f3c6-451a24e137bc"
      },
      "execution_count": 133,
      "outputs": [
        {
          "output_type": "stream",
          "name": "stdout",
          "text": [
            "exupziu kxwqxagxom, upm gxsm zs l amtwzo exgg rmqzfm kigg \n",
            "\n",
            "lok xolquxjm.lgwz, l kxwqxagxomk amtwzo qlo qzoutzg lok plokgm upm \n",
            "\n",
            "wxuiluxzo zs gxjxoh xo l wzapxwuxqlumk elc uplo upzwm epz \n",
            "\n",
            "kz ozu.fztmzjmt, xs czi pljm l aglo lok czi elou \n",
            "\n",
            "uz xfagmfmou xu xo czit gxsm upmo czi ommk kxwqxagxom. \n",
            "\n",
            "xu flnmw upxohw mlwc szt czi uz plokgm lok iguxflumgc \n",
            "\n",
            "rtxoh wiqqmww uz czit gxsm.xs ulgn lrziu upm ucamw zs \n",
            "\n",
            "kxwqxagxom, upmo upmc ltm hmomtlggc zs uez ucamw. sxtwu zom \n",
            "\n",
            "xw xokiqmk kxwqxagxom lok upm wmqzok zom xw wmgs- kxwqxagxom.xokiqmk \n",
            "\n",
            "kxwqxagxom xw wzfmupxoh uplu zupmtw ulihpu iw zt em gmlto \n",
            "\n",
            "rc wmmxoh zupmtw. epxgm wmgs-kxwqxagxom qzfmw stzf exupxo lok em \n",
            "\n",
            "gmlto xu zo zit zeo wmgs. wmgs-kxwqxagxom tmyixtmw l gzu \n",
            "\n",
            "zs fzuxjluxzo lok wiaaztu stzf zupmtw.lrzjm lgg, szggzexoh czit klxgc \n",
            "\n",
            "wqpmkigm exupziu loc fxwulnm xw lgwz altu zs rmxoh kxwqxagxomk.\n",
            "\n",
            "\n",
            "without discipline, the life of a person will become dull \n",
            "\n",
            "and inactive.also, a disciplined person can control and handle the \n",
            "\n",
            "situation of living in a sophisticated way than those who \n",
            "\n",
            "do not.moreover, if you have a plan and you want \n",
            "\n",
            "to implement it in your life then you need discipline. \n",
            "\n",
            "it ma*es things easy for you to handle and ultimately \n",
            "\n",
            "bring success to your life.if tal* about the types of \n",
            "\n",
            "discipline, then they are generally of two types. first one \n",
            "\n",
            "is induced discipline and the second one is self- discipline.induced \n",
            "\n",
            "discipline is something that others taught us or we learn \n",
            "\n",
            "by seeing others. while self-discipline comes from within and we \n",
            "\n",
            "learn it on our own self. self-discipline re*uires a lot \n",
            "\n",
            "of motivation and support from others.above all, following your daily \n",
            "\n",
            "schedule without any mista*e is also part of being disciplined.\n",
            "\n",
            "\n"
          ]
        }
      ]
    },
    {
      "cell_type": "code",
      "source": [
        "# line 6, word 2, the word is \"ma*es\"\n",
        "# consider \"ma*es\" as \"makes\"\n",
        "# map n=k\n",
        "\n",
        "\n",
        "mapping = {'l':'a', 'x':'i', 'm':'e', 'o':'n', 't':'r', 'z':'o', 's':'f', 'k':'d', 'u':'t', 'p':'h', 'w':'s', 'g':'l', 'a':'p', 'q':'c',\n",
        "           'e':'w', 'i':'u', 'c':'y', 'j':'v', 'f':'m', 'r':'b', 'h':'g', 'n':'k'}\n",
        "words_per_line = 10\n",
        "plaintext = substitution_cipher(ciphertext, mapping)\n",
        "print_result(ciphertext, words_per_line)\n",
        "print_result(plaintext, words_per_line)"
      ],
      "metadata": {
        "colab": {
          "base_uri": "https://localhost:8080/"
        },
        "id": "xdsu8hWPaPHW",
        "outputId": "5bc1281b-18ba-4b02-edde-56cd9efaf82e"
      },
      "execution_count": 134,
      "outputs": [
        {
          "output_type": "stream",
          "name": "stdout",
          "text": [
            "exupziu kxwqxagxom, upm gxsm zs l amtwzo exgg rmqzfm kigg \n",
            "\n",
            "lok xolquxjm.lgwz, l kxwqxagxomk amtwzo qlo qzoutzg lok plokgm upm \n",
            "\n",
            "wxuiluxzo zs gxjxoh xo l wzapxwuxqlumk elc uplo upzwm epz \n",
            "\n",
            "kz ozu.fztmzjmt, xs czi pljm l aglo lok czi elou \n",
            "\n",
            "uz xfagmfmou xu xo czit gxsm upmo czi ommk kxwqxagxom. \n",
            "\n",
            "xu flnmw upxohw mlwc szt czi uz plokgm lok iguxflumgc \n",
            "\n",
            "rtxoh wiqqmww uz czit gxsm.xs ulgn lrziu upm ucamw zs \n",
            "\n",
            "kxwqxagxom, upmo upmc ltm hmomtlggc zs uez ucamw. sxtwu zom \n",
            "\n",
            "xw xokiqmk kxwqxagxom lok upm wmqzok zom xw wmgs- kxwqxagxom.xokiqmk \n",
            "\n",
            "kxwqxagxom xw wzfmupxoh uplu zupmtw ulihpu iw zt em gmlto \n",
            "\n",
            "rc wmmxoh zupmtw. epxgm wmgs-kxwqxagxom qzfmw stzf exupxo lok em \n",
            "\n",
            "gmlto xu zo zit zeo wmgs. wmgs-kxwqxagxom tmyixtmw l gzu \n",
            "\n",
            "zs fzuxjluxzo lok wiaaztu stzf zupmtw.lrzjm lgg, szggzexoh czit klxgc \n",
            "\n",
            "wqpmkigm exupziu loc fxwulnm xw lgwz altu zs rmxoh kxwqxagxomk.\n",
            "\n",
            "\n",
            "without discipline, the life of a person will become dull \n",
            "\n",
            "and inactive.also, a disciplined person can control and handle the \n",
            "\n",
            "situation of living in a sophisticated way than those who \n",
            "\n",
            "do not.moreover, if you have a plan and you want \n",
            "\n",
            "to implement it in your life then you need discipline. \n",
            "\n",
            "it makes things easy for you to handle and ultimately \n",
            "\n",
            "bring success to your life.if talk about the types of \n",
            "\n",
            "discipline, then they are generally of two types. first one \n",
            "\n",
            "is induced discipline and the second one is self- discipline.induced \n",
            "\n",
            "discipline is something that others taught us or we learn \n",
            "\n",
            "by seeing others. while self-discipline comes from within and we \n",
            "\n",
            "learn it on our own self. self-discipline re*uires a lot \n",
            "\n",
            "of motivation and support from others.above all, following your daily \n",
            "\n",
            "schedule without any mistake is also part of being disciplined.\n",
            "\n",
            "\n"
          ]
        }
      ]
    },
    {
      "cell_type": "code",
      "source": [
        "# there is only one word left which is \"re*uires\"\n",
        "# consider \"re*uires\"  as \"requires\"\n",
        "# map y=q\n",
        "\n",
        "mapping = {'l':'a', 'x':'i', 'm':'e', 'o':'n', 't':'r', 'z':'o', 's':'f', 'k':'d', 'u':'t', 'p':'h', 'w':'s', 'g':'l', 'a':'p', 'q':'c',\n",
        "           'e':'w', 'i':'u', 'c':'y', 'j':'v', 'f':'m', 'r':'b', 'h':'g', 'n':'k', 'y':'q'}\n",
        "words_per_line = 10\n",
        "plaintext = substitution_cipher(ciphertext, mapping)\n",
        "print_result(ciphertext, words_per_line)\n",
        "print_result(plaintext, words_per_line)"
      ],
      "metadata": {
        "colab": {
          "base_uri": "https://localhost:8080/"
        },
        "id": "8eFrllKdapQt",
        "outputId": "b9d16b6d-cf58-40f7-cea5-0b047be0afd0"
      },
      "execution_count": 135,
      "outputs": [
        {
          "output_type": "stream",
          "name": "stdout",
          "text": [
            "exupziu kxwqxagxom, upm gxsm zs l amtwzo exgg rmqzfm kigg \n",
            "\n",
            "lok xolquxjm.lgwz, l kxwqxagxomk amtwzo qlo qzoutzg lok plokgm upm \n",
            "\n",
            "wxuiluxzo zs gxjxoh xo l wzapxwuxqlumk elc uplo upzwm epz \n",
            "\n",
            "kz ozu.fztmzjmt, xs czi pljm l aglo lok czi elou \n",
            "\n",
            "uz xfagmfmou xu xo czit gxsm upmo czi ommk kxwqxagxom. \n",
            "\n",
            "xu flnmw upxohw mlwc szt czi uz plokgm lok iguxflumgc \n",
            "\n",
            "rtxoh wiqqmww uz czit gxsm.xs ulgn lrziu upm ucamw zs \n",
            "\n",
            "kxwqxagxom, upmo upmc ltm hmomtlggc zs uez ucamw. sxtwu zom \n",
            "\n",
            "xw xokiqmk kxwqxagxom lok upm wmqzok zom xw wmgs- kxwqxagxom.xokiqmk \n",
            "\n",
            "kxwqxagxom xw wzfmupxoh uplu zupmtw ulihpu iw zt em gmlto \n",
            "\n",
            "rc wmmxoh zupmtw. epxgm wmgs-kxwqxagxom qzfmw stzf exupxo lok em \n",
            "\n",
            "gmlto xu zo zit zeo wmgs. wmgs-kxwqxagxom tmyixtmw l gzu \n",
            "\n",
            "zs fzuxjluxzo lok wiaaztu stzf zupmtw.lrzjm lgg, szggzexoh czit klxgc \n",
            "\n",
            "wqpmkigm exupziu loc fxwulnm xw lgwz altu zs rmxoh kxwqxagxomk.\n",
            "\n",
            "\n",
            "without discipline, the life of a person will become dull \n",
            "\n",
            "and inactive.also, a disciplined person can control and handle the \n",
            "\n",
            "situation of living in a sophisticated way than those who \n",
            "\n",
            "do not.moreover, if you have a plan and you want \n",
            "\n",
            "to implement it in your life then you need discipline. \n",
            "\n",
            "it makes things easy for you to handle and ultimately \n",
            "\n",
            "bring success to your life.if talk about the types of \n",
            "\n",
            "discipline, then they are generally of two types. first one \n",
            "\n",
            "is induced discipline and the second one is self- discipline.induced \n",
            "\n",
            "discipline is something that others taught us or we learn \n",
            "\n",
            "by seeing others. while self-discipline comes from within and we \n",
            "\n",
            "learn it on our own self. self-discipline requires a lot \n",
            "\n",
            "of motivation and support from others.above all, following your daily \n",
            "\n",
            "schedule without any mistake is also part of being disciplined.\n",
            "\n",
            "\n"
          ]
        }
      ]
    },
    {
      "cell_type": "code",
      "source": [
        "# desired mappings\n",
        "\n",
        "desired_mapping(mapping)"
      ],
      "metadata": {
        "colab": {
          "base_uri": "https://localhost:8080/"
        },
        "id": "s3HAO7PMbUkJ",
        "outputId": "6dbce61f-e02c-48c8-f93a-6fcdd653361a"
      },
      "execution_count": 136,
      "outputs": [
        {
          "output_type": "stream",
          "name": "stdout",
          "text": [
            "Desired Mappings : \n",
            "l:a\n",
            "x:i\n",
            "m:e\n",
            "o:n\n",
            "t:r\n",
            "z:o\n",
            "s:f\n",
            "k:d\n",
            "u:t\n",
            "p:h\n",
            "w:s\n",
            "g:l\n",
            "a:p\n",
            "q:c\n",
            "e:w\n",
            "i:u\n",
            "c:y\n",
            "j:v\n",
            "f:m\n",
            "r:b\n",
            "h:g\n",
            "n:k\n",
            "y:q\n"
          ]
        }
      ]
    },
    {
      "cell_type": "markdown",
      "source": [
        "<ins>**Plaintext of Task-02(B) is :**</ins><br>\n",
        "<p>without discipline, the life of a person will become dull and inactive.also, a disciplined person can control\n",
        "and handle the situation of living in a sophisticated way than those who do not.moreover, if you have a plan and you want to implement it in your life then you need discipline.\n",
        "it makes things easy for you to handle and ultimately bring success to your life.if talk about the types of discipline, then they are generally of two types. first one is induced discipline and the second one is self- discipline.induced discipline is something that others taught us or we learn by seeing others. while self-discipline comes from within and we learn it on our own self. self-discipline requires a lot of motivation and support from others.above all, following your daily schedule without any mistake is also part of being disciplined.</p>"
      ],
      "metadata": {
        "id": "28XPz5c7bfbY"
      }
    },
    {
      "cell_type": "markdown",
      "source": [
        "# <ins>Task - 02(C)</ins>"
      ],
      "metadata": {
        "id": "-Bkmi2HkJ_tc"
      }
    },
    {
      "cell_type": "code",
      "source": [
        "ciphertext = \"AUHC MVKFC V BYZUGC V IZMC CJ GUMBZYAZD UKUVM. \\\n",
        "VC HZZGZB CJ GZ, V HCJJB PD CFZ VYJM KUCZ AZUBVMK CJ CFZ \\\n",
        "BYVWZ UMB OJY U IFVAZ, V TJNAB MJC ZMCZY. \\\n",
        "OJY CFZ IUD, VC IUH PUYYZB CJ GZ.\"\n",
        "\n",
        "mapping = {}\n",
        "words_per_line = 10\n",
        "plaintext = substitution_cipher(ciphertext, mapping)\n",
        "print_result(ciphertext, words_per_line)\n",
        "print_result(plaintext, words_per_line)"
      ],
      "metadata": {
        "colab": {
          "base_uri": "https://localhost:8080/"
        },
        "id": "WpSCJXFAKGtK",
        "outputId": "5c4f0a57-d7e5-4b49-b21b-859f9af0e6b4"
      },
      "execution_count": 137,
      "outputs": [
        {
          "output_type": "stream",
          "name": "stdout",
          "text": [
            "AUHC MVKFC V BYZUGC V IZMC CJ GUMBZYAZD UKUVM. VC \n",
            "\n",
            "HZZGZB CJ GZ, V HCJJB PD CFZ VYJM KUCZ AZUBVMK \n",
            "\n",
            "CJ CFZ BYVWZ UMB OJY U IFVAZ, V TJNAB MJC \n",
            "\n",
            "ZMCZY. OJY CFZ IUD, VC IUH PUYYZB CJ GZ.\n",
            "\n",
            "\n",
            "**** ***** * ****** * **** ** ********* *****. ** \n",
            "\n",
            "****** ** **, * ***** ** *** **** **** ******* \n",
            "\n",
            "** *** ***** *** *** * *****, * ***** *** \n",
            "\n",
            "*****. *** *** ***, ** *** ****** ** **.\n",
            "\n",
            "\n"
          ]
        }
      ]
    },
    {
      "cell_type": "code",
      "source": [
        "# let's cheack frequency of characters in the ciphertext\n",
        "\n",
        "calc_frequency(ciphertext)"
      ],
      "metadata": {
        "colab": {
          "base_uri": "https://localhost:8080/"
        },
        "id": "V-Xaoy1iKhZ_",
        "outputId": "f153cb37-9107-4544-d65a-c432aa9bf57e"
      },
      "execution_count": 138,
      "outputs": [
        {
          "output_type": "stream",
          "name": "stdout",
          "text": [
            "Character:  , Frequency: 38\n",
            "Character: Z, Frequency: 19\n",
            "Character: C, Frequency: 17\n",
            "Character: U, Frequency: 12\n",
            "Character: V, Frequency: 12\n",
            "Character: J, Frequency: 11\n",
            "Character: M, Frequency: 9\n",
            "Character: B, Frequency: 9\n",
            "Character: Y, Frequency: 9\n",
            "Character: A, Frequency: 5\n",
            "Character: F, Frequency: 5\n",
            "Character: G, Frequency: 5\n",
            "Character: H, Frequency: 4\n",
            "Character: K, Frequency: 4\n",
            "Character: I, Frequency: 4\n",
            "Character: D, Frequency: 3\n",
            "Character: ., Frequency: 3\n",
            "Character: ,, Frequency: 3\n",
            "Character: P, Frequency: 2\n",
            "Character: O, Frequency: 2\n",
            "Character: W, Frequency: 1\n",
            "Character: T, Frequency: 1\n",
            "Character: N, Frequency: 1\n"
          ]
        }
      ]
    },
    {
      "cell_type": "code",
      "source": [
        "# here we can see that character \"V\" is a single letter word.\n",
        "# we know \"A\" and \"I\" are two single letter word\n",
        "# but in the ciphertext we can see that \"V\" is using in the middle of a sentence\n",
        "# we know out of \"A\" and \"I\", only \"A\" can be used in the middle of a sentence\n",
        "# map V=A\n",
        "\n",
        "mapping = {'V':'A'}\n",
        "words_per_line = 10\n",
        "plaintext = substitution_cipher(ciphertext, mapping)\n",
        "print_result(ciphertext, words_per_line)\n",
        "print_result(plaintext, words_per_line)"
      ],
      "metadata": {
        "colab": {
          "base_uri": "https://localhost:8080/"
        },
        "id": "aoiYbO2zKz5q",
        "outputId": "adb5c3ab-2049-4c38-a1dd-cf883a631283"
      },
      "execution_count": 139,
      "outputs": [
        {
          "output_type": "stream",
          "name": "stdout",
          "text": [
            "AUHC MVKFC V BYZUGC V IZMC CJ GUMBZYAZD UKUVM. VC \n",
            "\n",
            "HZZGZB CJ GZ, V HCJJB PD CFZ VYJM KUCZ AZUBVMK \n",
            "\n",
            "CJ CFZ BYVWZ UMB OJY U IFVAZ, V TJNAB MJC \n",
            "\n",
            "ZMCZY. OJY CFZ IUD, VC IUH PUYYZB CJ GZ.\n",
            "\n",
            "\n",
            "**** *A*** A ****** A **** ** ********* ***A*. A* \n",
            "\n",
            "****** ** **, A ***** ** *** A*** **** ****A** \n",
            "\n",
            "** *** **A** *** *** * **A**, A ***** *** \n",
            "\n",
            "*****. *** *** ***, A* *** ****** ** **.\n",
            "\n",
            "\n"
          ]
        }
      ]
    },
    {
      "cell_type": "code",
      "source": [
        "# line 1, word 10, the word is \"A*\"\n",
        "# we know \"AS\" is one of the most frequently used two letter word that starts with \"A\"\n",
        "# map C=S\n",
        "\n",
        "mapping = {'V':'A', 'C':'S'}\n",
        "words_per_line = 10\n",
        "plaintext = substitution_cipher(ciphertext, mapping)\n",
        "print_result(ciphertext, words_per_line)\n",
        "print_result(plaintext, words_per_line)"
      ],
      "metadata": {
        "colab": {
          "base_uri": "https://localhost:8080/"
        },
        "id": "RRWXAJTcLPXi",
        "outputId": "be077760-e442-431a-961f-27b505164648"
      },
      "execution_count": 140,
      "outputs": [
        {
          "output_type": "stream",
          "name": "stdout",
          "text": [
            "AUHC MVKFC V BYZUGC V IZMC CJ GUMBZYAZD UKUVM. VC \n",
            "\n",
            "HZZGZB CJ GZ, V HCJJB PD CFZ VYJM KUCZ AZUBVMK \n",
            "\n",
            "CJ CFZ BYVWZ UMB OJY U IFVAZ, V TJNAB MJC \n",
            "\n",
            "ZMCZY. OJY CFZ IUD, VC IUH PUYYZB CJ GZ.\n",
            "\n",
            "\n",
            "***S *A**S A *****S A ***S S* ********* ***A*. AS \n",
            "\n",
            "****** S* **, A *S*** ** S** A*** **S* ****A** \n",
            "\n",
            "S* S** **A** *** *** * **A**, A ***** **S \n",
            "\n",
            "**S**. *** S** ***, AS *** ****** S* **.\n",
            "\n",
            "\n"
          ]
        }
      ]
    },
    {
      "cell_type": "code",
      "source": [
        "# line 3, word 1, the word is \"S*\"\n",
        "# we know \"SO\" is one of the most frequently used two letter word that starts with \"S\"\n",
        "# map J=O\n",
        "\n",
        "mapping = {'V':'A', 'C':'S', 'J':'O'}\n",
        "words_per_line = 10\n",
        "plaintext = substitution_cipher(ciphertext, mapping)\n",
        "print_result(ciphertext, words_per_line)\n",
        "print_result(plaintext, words_per_line)"
      ],
      "metadata": {
        "colab": {
          "base_uri": "https://localhost:8080/"
        },
        "id": "-HJ8CE3fL9YU",
        "outputId": "aa806fe9-1445-4e48-a40a-6229e39dd676"
      },
      "execution_count": 141,
      "outputs": [
        {
          "output_type": "stream",
          "name": "stdout",
          "text": [
            "AUHC MVKFC V BYZUGC V IZMC CJ GUMBZYAZD UKUVM. VC \n",
            "\n",
            "HZZGZB CJ GZ, V HCJJB PD CFZ VYJM KUCZ AZUBVMK \n",
            "\n",
            "CJ CFZ BYVWZ UMB OJY U IFVAZ, V TJNAB MJC \n",
            "\n",
            "ZMCZY. OJY CFZ IUD, VC IUH PUYYZB CJ GZ.\n",
            "\n",
            "\n",
            "***S *A**S A *****S A ***S SO ********* ***A*. AS \n",
            "\n",
            "****** SO **, A *SOO* ** S** A*O* **S* ****A** \n",
            "\n",
            "SO S** **A** *** *O* * **A**, A *O*** *OS \n",
            "\n",
            "**S**. *O* S** ***, AS *** ****** SO **.\n",
            "\n",
            "\n"
          ]
        }
      ]
    },
    {
      "cell_type": "code",
      "source": [
        "# we are not finding any patterns\n",
        "# let's cheack frequencies again\n",
        "\n",
        "calc_frequency(ciphertext)"
      ],
      "metadata": {
        "colab": {
          "base_uri": "https://localhost:8080/"
        },
        "id": "dAbndQpnMVhk",
        "outputId": "717938b5-6243-49ee-b71e-f1bf7e14f643"
      },
      "execution_count": 142,
      "outputs": [
        {
          "output_type": "stream",
          "name": "stdout",
          "text": [
            "Character:  , Frequency: 38\n",
            "Character: Z, Frequency: 19\n",
            "Character: C, Frequency: 17\n",
            "Character: U, Frequency: 12\n",
            "Character: V, Frequency: 12\n",
            "Character: J, Frequency: 11\n",
            "Character: M, Frequency: 9\n",
            "Character: B, Frequency: 9\n",
            "Character: Y, Frequency: 9\n",
            "Character: A, Frequency: 5\n",
            "Character: F, Frequency: 5\n",
            "Character: G, Frequency: 5\n",
            "Character: H, Frequency: 4\n",
            "Character: K, Frequency: 4\n",
            "Character: I, Frequency: 4\n",
            "Character: D, Frequency: 3\n",
            "Character: ., Frequency: 3\n",
            "Character: ,, Frequency: 3\n",
            "Character: P, Frequency: 2\n",
            "Character: O, Frequency: 2\n",
            "Character: W, Frequency: 1\n",
            "Character: T, Frequency: 1\n",
            "Character: N, Frequency: 1\n"
          ]
        }
      ]
    },
    {
      "cell_type": "code",
      "source": [
        "# frequency of 'Z' is 19\n",
        "# frequency of 'C' is 17\n",
        "# we know E and T are most frequently used characters. so let's try them\n",
        "# map Z=E and C=T\n",
        "\n",
        "mapping = {'V':'A', 'C':'T', 'J':'O', 'Z':'E'}\n",
        "words_per_line = 10\n",
        "plaintext = substitution_cipher(ciphertext, mapping)\n",
        "print_result(ciphertext, words_per_line)\n",
        "print_result(plaintext, words_per_line)"
      ],
      "metadata": {
        "colab": {
          "base_uri": "https://localhost:8080/"
        },
        "id": "VFGwuQz1MpLf",
        "outputId": "2f3db09d-b481-426c-cba4-e404646f3224"
      },
      "execution_count": 143,
      "outputs": [
        {
          "output_type": "stream",
          "name": "stdout",
          "text": [
            "AUHC MVKFC V BYZUGC V IZMC CJ GUMBZYAZD UKUVM. VC \n",
            "\n",
            "HZZGZB CJ GZ, V HCJJB PD CFZ VYJM KUCZ AZUBVMK \n",
            "\n",
            "CJ CFZ BYVWZ UMB OJY U IFVAZ, V TJNAB MJC \n",
            "\n",
            "ZMCZY. OJY CFZ IUD, VC IUH PUYYZB CJ GZ.\n",
            "\n",
            "\n",
            "***T *A**T A **E**T A *E*T TO ****E**E* ***A*. AT \n",
            "\n",
            "*EE*E* TO *E, A *TOO* ** T*E A*O* **TE *E**A** \n",
            "\n",
            "TO T*E **A*E *** *O* * **A*E, A *O*** *OT \n",
            "\n",
            "E*TE*. *O* T*E ***, AT *** ****E* TO *E.\n",
            "\n",
            "\n"
          ]
        }
      ]
    },
    {
      "cell_type": "code",
      "source": [
        "# line 3, word 2, the word is \"T*E\"\n",
        "# we know \"THE\" is one of the most frequently used three letter word\n",
        "# map F=H\n",
        "\n",
        "mapping = {'V':'A', 'C':'T', 'J':'O', 'Z':'E', 'F':'H'}\n",
        "words_per_line = 10\n",
        "plaintext = substitution_cipher(ciphertext, mapping)\n",
        "print_result(ciphertext, words_per_line)\n",
        "print_result(plaintext, words_per_line)"
      ],
      "metadata": {
        "colab": {
          "base_uri": "https://localhost:8080/"
        },
        "id": "I_M9LBUQNHcF",
        "outputId": "84ad4e46-4746-4a5e-cd47-b7ee9b2fa94b"
      },
      "execution_count": 144,
      "outputs": [
        {
          "output_type": "stream",
          "name": "stdout",
          "text": [
            "AUHC MVKFC V BYZUGC V IZMC CJ GUMBZYAZD UKUVM. VC \n",
            "\n",
            "HZZGZB CJ GZ, V HCJJB PD CFZ VYJM KUCZ AZUBVMK \n",
            "\n",
            "CJ CFZ BYVWZ UMB OJY U IFVAZ, V TJNAB MJC \n",
            "\n",
            "ZMCZY. OJY CFZ IUD, VC IUH PUYYZB CJ GZ.\n",
            "\n",
            "\n",
            "***T *A*HT A **E**T A *E*T TO ****E**E* ***A*. AT \n",
            "\n",
            "*EE*E* TO *E, A *TOO* ** THE A*O* **TE *E**A** \n",
            "\n",
            "TO THE **A*E *** *O* * *HA*E, A *O*** *OT \n",
            "\n",
            "E*TE*. *O* THE ***, AT *** ****E* TO *E.\n",
            "\n",
            "\n"
          ]
        }
      ]
    },
    {
      "cell_type": "code",
      "source": [
        "# line 2, word 3, the word is \"*E\"\n",
        "# we know \"BE\" is one of the most frequently used two letter words that ends with \"E\"\n",
        "# map G=B\n",
        "\n",
        "mapping = {'V':'A', 'C':'T', 'J':'O', 'Z':'E', 'F':'H', 'G':'B'}\n",
        "words_per_line = 10\n",
        "plaintext = substitution_cipher(ciphertext, mapping)\n",
        "print_result(ciphertext, words_per_line)\n",
        "print_result(plaintext, words_per_line)"
      ],
      "metadata": {
        "colab": {
          "base_uri": "https://localhost:8080/"
        },
        "id": "2oiFTgTYNqOU",
        "outputId": "a68c77c3-ddc6-446b-ae2d-f2c0c631b65f"
      },
      "execution_count": 145,
      "outputs": [
        {
          "output_type": "stream",
          "name": "stdout",
          "text": [
            "AUHC MVKFC V BYZUGC V IZMC CJ GUMBZYAZD UKUVM. VC \n",
            "\n",
            "HZZGZB CJ GZ, V HCJJB PD CFZ VYJM KUCZ AZUBVMK \n",
            "\n",
            "CJ CFZ BYVWZ UMB OJY U IFVAZ, V TJNAB MJC \n",
            "\n",
            "ZMCZY. OJY CFZ IUD, VC IUH PUYYZB CJ GZ.\n",
            "\n",
            "\n",
            "***T *A*HT A **E*BT A *E*T TO B***E**E* ***A*. AT \n",
            "\n",
            "*EEBE* TO BE, A *TOO* ** THE A*O* **TE *E**A** \n",
            "\n",
            "TO THE **A*E *** *O* * *HA*E, A *O*** *OT \n",
            "\n",
            "E*TE*. *O* THE ***, AT *** ****E* TO BE.\n",
            "\n",
            "\n"
          ]
        }
      ]
    },
    {
      "cell_type": "code",
      "source": [
        "# line 3, word 10, the word is \"*OT\"\n",
        "# we know \"NOT\" is one of the most frequently used three letter words that ends with \"OT\"\n",
        "# map M=N\n",
        "\n",
        "mapping = {'V':'A', 'C':'T', 'J':'O', 'Z':'E', 'F':'H', 'G':'B', 'M':'N'}\n",
        "words_per_line = 10\n",
        "plaintext = substitution_cipher(ciphertext, mapping)\n",
        "print_result(ciphertext, words_per_line)\n",
        "print_result(plaintext, words_per_line)"
      ],
      "metadata": {
        "colab": {
          "base_uri": "https://localhost:8080/"
        },
        "id": "ETYse8N-N-OK",
        "outputId": "3f200390-19a0-4d55-e494-4b2c42b1828b"
      },
      "execution_count": 146,
      "outputs": [
        {
          "output_type": "stream",
          "name": "stdout",
          "text": [
            "AUHC MVKFC V BYZUGC V IZMC CJ GUMBZYAZD UKUVM. VC \n",
            "\n",
            "HZZGZB CJ GZ, V HCJJB PD CFZ VYJM KUCZ AZUBVMK \n",
            "\n",
            "CJ CFZ BYVWZ UMB OJY U IFVAZ, V TJNAB MJC \n",
            "\n",
            "ZMCZY. OJY CFZ IUD, VC IUH PUYYZB CJ GZ.\n",
            "\n",
            "\n",
            "***T NA*HT A **E*BT A *ENT TO B*N*E**E* ***AN. AT \n",
            "\n",
            "*EEBE* TO BE, A *TOO* ** THE A*ON **TE *E**AN* \n",
            "\n",
            "TO THE **A*E *N* *O* * *HA*E, A *O*** NOT \n",
            "\n",
            "ENTE*. *O* THE ***, AT *** ****E* TO BE.\n",
            "\n",
            "\n"
          ]
        }
      ]
    },
    {
      "cell_type": "code",
      "source": [
        "# line 4, word 1, the word is \"ENTE*\"\n",
        "# let's consider this as \"ENTER\"\n",
        "# map Y=R\n",
        "\n",
        "mapping = {'V':'A', 'C':'T', 'J':'O', 'Z':'E', 'F':'H', 'G':'B', 'M':'N', 'Y':'R'}\n",
        "words_per_line = 10\n",
        "plaintext = substitution_cipher(ciphertext, mapping)\n",
        "print_result(ciphertext, words_per_line)\n",
        "print_result(plaintext, words_per_line)"
      ],
      "metadata": {
        "colab": {
          "base_uri": "https://localhost:8080/"
        },
        "id": "dP2K9T4FSl1y",
        "outputId": "329d4e79-7991-4552-c669-186f523dec8b"
      },
      "execution_count": 147,
      "outputs": [
        {
          "output_type": "stream",
          "name": "stdout",
          "text": [
            "AUHC MVKFC V BYZUGC V IZMC CJ GUMBZYAZD UKUVM. VC \n",
            "\n",
            "HZZGZB CJ GZ, V HCJJB PD CFZ VYJM KUCZ AZUBVMK \n",
            "\n",
            "CJ CFZ BYVWZ UMB OJY U IFVAZ, V TJNAB MJC \n",
            "\n",
            "ZMCZY. OJY CFZ IUD, VC IUH PUYYZB CJ GZ.\n",
            "\n",
            "\n",
            "***T NA*HT A *RE*BT A *ENT TO B*N*ER*E* ***AN. AT \n",
            "\n",
            "*EEBE* TO BE, A *TOO* ** THE ARON **TE *E**AN* \n",
            "\n",
            "TO THE *RA*E *N* *OR * *HA*E, A *O*** NOT \n",
            "\n",
            "ENTER. *OR THE ***, AT *** **RRE* TO BE.\n",
            "\n",
            "\n"
          ]
        }
      ]
    },
    {
      "cell_type": "code",
      "source": [
        "# line 4, word 2, the word is \"*OR\"\n",
        "# we know \"FOR\" is one of the most frequently used three letter word that ends with \"OR\"\n",
        "# map O=F\n",
        "\n",
        "mapping = {'V':'A', 'C':'T', 'J':'O', 'Z':'E', 'F':'H', 'G':'B', 'M':'N', 'Y':'R', 'O':'F'}\n",
        "words_per_line = 10\n",
        "plaintext = substitution_cipher(ciphertext, mapping)\n",
        "print_result(ciphertext, words_per_line)\n",
        "print_result(plaintext, words_per_line)"
      ],
      "metadata": {
        "colab": {
          "base_uri": "https://localhost:8080/"
        },
        "id": "FdTlndVSTf-6",
        "outputId": "a38f58d7-ce8c-496b-ca6c-1dbda85f7e7d"
      },
      "execution_count": 148,
      "outputs": [
        {
          "output_type": "stream",
          "name": "stdout",
          "text": [
            "AUHC MVKFC V BYZUGC V IZMC CJ GUMBZYAZD UKUVM. VC \n",
            "\n",
            "HZZGZB CJ GZ, V HCJJB PD CFZ VYJM KUCZ AZUBVMK \n",
            "\n",
            "CJ CFZ BYVWZ UMB OJY U IFVAZ, V TJNAB MJC \n",
            "\n",
            "ZMCZY. OJY CFZ IUD, VC IUH PUYYZB CJ GZ.\n",
            "\n",
            "\n",
            "***T NA*HT A *RE*BT A *ENT TO B*N*ER*E* ***AN. AT \n",
            "\n",
            "*EEBE* TO BE, A *TOO* ** THE ARON **TE *E**AN* \n",
            "\n",
            "TO THE *RA*E *N* FOR * *HA*E, A *O*** NOT \n",
            "\n",
            "ENTER. FOR THE ***, AT *** **RRE* TO BE.\n",
            "\n",
            "\n"
          ]
        }
      ]
    },
    {
      "cell_type": "code",
      "source": [
        "# line 1, word 2, the word is \"NA*HT\"\n",
        "# this word is not making any sense\n",
        "# but it looks similar to the word \"NIGHT\"\n",
        "# we need to change our map V=A to V=I.\n",
        "# also need to add another map K=G\n",
        "# map V=I, K=G\n",
        "\n",
        "\n",
        "mapping = {'V':'I', 'C':'T', 'J':'O', 'Z':'E', 'F':'H', 'G':'B', 'M':'N', 'Y':'R', 'O':'F', 'K':'G'}\n",
        "words_per_line = 10\n",
        "plaintext = substitution_cipher(ciphertext, mapping)\n",
        "print_result(ciphertext, words_per_line)\n",
        "print_result(plaintext, words_per_line)"
      ],
      "metadata": {
        "colab": {
          "base_uri": "https://localhost:8080/"
        },
        "id": "RV5pkuOoUBRK",
        "outputId": "64ed90e8-2509-4413-8701-5bee20bd44dc"
      },
      "execution_count": 149,
      "outputs": [
        {
          "output_type": "stream",
          "name": "stdout",
          "text": [
            "AUHC MVKFC V BYZUGC V IZMC CJ GUMBZYAZD UKUVM. VC \n",
            "\n",
            "HZZGZB CJ GZ, V HCJJB PD CFZ VYJM KUCZ AZUBVMK \n",
            "\n",
            "CJ CFZ BYVWZ UMB OJY U IFVAZ, V TJNAB MJC \n",
            "\n",
            "ZMCZY. OJY CFZ IUD, VC IUH PUYYZB CJ GZ.\n",
            "\n",
            "\n",
            "***T NIGHT I *RE*BT I *ENT TO B*N*ER*E* *G*IN. IT \n",
            "\n",
            "*EEBE* TO BE, I *TOO* ** THE IRON G*TE *E**ING \n",
            "\n",
            "TO THE *RI*E *N* FOR * *HI*E, I *O*** NOT \n",
            "\n",
            "ENTER. FOR THE ***, IT *** **RRE* TO BE.\n",
            "\n",
            "\n"
          ]
        }
      ]
    },
    {
      "cell_type": "code",
      "source": [
        "# line 1, word 9, the word is \"*G*IN\"\n",
        "# this word is similar to \"AGAIN\"\n",
        "# map U=A\n",
        "\n",
        "\n",
        "mapping = {'V':'I', 'C':'T', 'J':'O', 'Z':'E', 'F':'H', 'G':'B', 'M':'N', 'Y':'R', 'O':'F', 'K':'G', 'U':'A'}\n",
        "words_per_line = 10\n",
        "plaintext = substitution_cipher(ciphertext, mapping)\n",
        "print_result(ciphertext, words_per_line)\n",
        "print_result(plaintext, words_per_line)"
      ],
      "metadata": {
        "colab": {
          "base_uri": "https://localhost:8080/"
        },
        "id": "I78yiZbSU67S",
        "outputId": "a07daf58-acc3-49e6-b0e9-afaacb2bd8eb"
      },
      "execution_count": 150,
      "outputs": [
        {
          "output_type": "stream",
          "name": "stdout",
          "text": [
            "AUHC MVKFC V BYZUGC V IZMC CJ GUMBZYAZD UKUVM. VC \n",
            "\n",
            "HZZGZB CJ GZ, V HCJJB PD CFZ VYJM KUCZ AZUBVMK \n",
            "\n",
            "CJ CFZ BYVWZ UMB OJY U IFVAZ, V TJNAB MJC \n",
            "\n",
            "ZMCZY. OJY CFZ IUD, VC IUH PUYYZB CJ GZ.\n",
            "\n",
            "\n",
            "*A*T NIGHT I *REABT I *ENT TO BAN*ER*E* AGAIN. IT \n",
            "\n",
            "*EEBE* TO BE, I *TOO* ** THE IRON GATE *EA*ING \n",
            "\n",
            "TO THE *RI*E AN* FOR A *HI*E, I *O*** NOT \n",
            "\n",
            "ENTER. FOR THE *A*, IT *A* *ARRE* TO BE.\n",
            "\n",
            "\n"
          ]
        }
      ]
    },
    {
      "cell_type": "code",
      "source": [
        "# line 3, word 4, the word is \"AN*\"\n",
        "# we know \"AND\" is one of the most frequently used three letter word that starts with \"AN\"\n",
        "# map B=D\n",
        "\n",
        "\n",
        "mapping = {'V':'I', 'C':'T', 'J':'O', 'Z':'E', 'F':'H', 'G':'B', 'M':'N', 'Y':'R', 'O':'F',\n",
        "           'K':'G', 'U':'A', 'B':'D'}\n",
        "words_per_line = 10\n",
        "plaintext = substitution_cipher(ciphertext, mapping)\n",
        "print_result(ciphertext, words_per_line)\n",
        "print_result(plaintext, words_per_line)"
      ],
      "metadata": {
        "colab": {
          "base_uri": "https://localhost:8080/"
        },
        "id": "rE-JLmP1Vl3e",
        "outputId": "7969e622-8257-4235-c4d9-a8999e9c94b4"
      },
      "execution_count": 151,
      "outputs": [
        {
          "output_type": "stream",
          "name": "stdout",
          "text": [
            "AUHC MVKFC V BYZUGC V IZMC CJ GUMBZYAZD UKUVM. VC \n",
            "\n",
            "HZZGZB CJ GZ, V HCJJB PD CFZ VYJM KUCZ AZUBVMK \n",
            "\n",
            "CJ CFZ BYVWZ UMB OJY U IFVAZ, V TJNAB MJC \n",
            "\n",
            "ZMCZY. OJY CFZ IUD, VC IUH PUYYZB CJ GZ.\n",
            "\n",
            "\n",
            "*A*T NIGHT I DREABT I *ENT TO BANDER*E* AGAIN. IT \n",
            "\n",
            "*EEBED TO BE, I *TOOD ** THE IRON GATE *EADING \n",
            "\n",
            "TO THE DRI*E AND FOR A *HI*E, I *O**D NOT \n",
            "\n",
            "ENTER. FOR THE *A*, IT *A* *ARRED TO BE.\n",
            "\n",
            "\n"
          ]
        }
      ]
    },
    {
      "cell_type": "code",
      "source": [
        "# line 1, word 4, the word is \"DREABT\"\n",
        "# this word is not making any sense. But the word \"DREAMT\" is making sense\n",
        "# so we need to change our map again\n",
        "# map G=B to G=M\n",
        "\n",
        "\n",
        "mapping = {'V':'I', 'C':'T', 'J':'O', 'Z':'E', 'F':'H', 'G':'M', 'M':'N', 'Y':'R', 'O':'F',\n",
        "           'K':'G', 'U':'A', 'B':'D'}\n",
        "words_per_line = 10\n",
        "plaintext = substitution_cipher(ciphertext, mapping)\n",
        "print_result(ciphertext, words_per_line)\n",
        "print_result(plaintext, words_per_line)"
      ],
      "metadata": {
        "colab": {
          "base_uri": "https://localhost:8080/"
        },
        "id": "hyswxOqAWCca",
        "outputId": "928565d9-a0cd-4596-dd1f-35ef2ae57675"
      },
      "execution_count": 152,
      "outputs": [
        {
          "output_type": "stream",
          "name": "stdout",
          "text": [
            "AUHC MVKFC V BYZUGC V IZMC CJ GUMBZYAZD UKUVM. VC \n",
            "\n",
            "HZZGZB CJ GZ, V HCJJB PD CFZ VYJM KUCZ AZUBVMK \n",
            "\n",
            "CJ CFZ BYVWZ UMB OJY U IFVAZ, V TJNAB MJC \n",
            "\n",
            "ZMCZY. OJY CFZ IUD, VC IUH PUYYZB CJ GZ.\n",
            "\n",
            "\n",
            "*A*T NIGHT I DREAMT I *ENT TO MANDER*E* AGAIN. IT \n",
            "\n",
            "*EEMED TO ME, I *TOOD ** THE IRON GATE *EADING \n",
            "\n",
            "TO THE DRI*E AND FOR A *HI*E, I *O**D NOT \n",
            "\n",
            "ENTER. FOR THE *A*, IT *A* *ARRED TO ME.\n",
            "\n",
            "\n"
          ]
        }
      ]
    },
    {
      "cell_type": "code",
      "source": [
        "# line 1, word 1, the word is \"*A*T\"\n",
        "# in the same sentence, we use \"DREAMT\" which is in past tense\n",
        "# so let's consider \"*A*T\" as \"LAST\"\n",
        "# map A=L, H=S\n",
        "\n",
        "\n",
        "mapping = {'V':'I', 'C':'T', 'J':'O', 'Z':'E', 'F':'H', 'G':'M', 'M':'N', 'Y':'R', 'O':'F',\n",
        "           'K':'G', 'U':'A', 'B':'D', 'A':'L', 'H':'S'}\n",
        "words_per_line = 10\n",
        "plaintext = substitution_cipher(ciphertext, mapping)\n",
        "print_result(ciphertext, words_per_line)\n",
        "print_result(plaintext, words_per_line)"
      ],
      "metadata": {
        "colab": {
          "base_uri": "https://localhost:8080/"
        },
        "id": "3HTauvGvWqRW",
        "outputId": "382b7397-4e52-42b2-81e8-541a1c82eb27"
      },
      "execution_count": 153,
      "outputs": [
        {
          "output_type": "stream",
          "name": "stdout",
          "text": [
            "AUHC MVKFC V BYZUGC V IZMC CJ GUMBZYAZD UKUVM. VC \n",
            "\n",
            "HZZGZB CJ GZ, V HCJJB PD CFZ VYJM KUCZ AZUBVMK \n",
            "\n",
            "CJ CFZ BYVWZ UMB OJY U IFVAZ, V TJNAB MJC \n",
            "\n",
            "ZMCZY. OJY CFZ IUD, VC IUH PUYYZB CJ GZ.\n",
            "\n",
            "\n",
            "LAST NIGHT I DREAMT I *ENT TO MANDERLE* AGAIN. IT \n",
            "\n",
            "SEEMED TO ME, I STOOD ** THE IRON GATE LEADING \n",
            "\n",
            "TO THE DRI*E AND FOR A *HILE, I *O*LD NOT \n",
            "\n",
            "ENTER. FOR THE *A*, IT *AS *ARRED TO ME.\n",
            "\n",
            "\n"
          ]
        }
      ]
    },
    {
      "cell_type": "code",
      "source": [
        "# line 1, word 6, the word is \"*ENT\"\n",
        "# in the same sentence, we use \"DREAMT\" which is in past tense\n",
        "# so try to consider \"*ENT\" as \"WENT\"\n",
        "# map I=W\n",
        "\n",
        "\n",
        "mapping = {'V':'I', 'C':'T', 'J':'O', 'Z':'E', 'F':'H', 'G':'M', 'M':'N', 'Y':'R', 'O':'F',\n",
        "           'K':'G', 'U':'A', 'B':'D', 'A':'L', 'H':'S', 'I':'W'}\n",
        "words_per_line = 10\n",
        "plaintext = substitution_cipher(ciphertext, mapping)\n",
        "print_result(ciphertext, words_per_line)\n",
        "print_result(plaintext, words_per_line)"
      ],
      "metadata": {
        "colab": {
          "base_uri": "https://localhost:8080/"
        },
        "id": "C6LRqdP3XQI6",
        "outputId": "61e333cf-ad44-46ee-dba2-a6f3b7b38c01"
      },
      "execution_count": 154,
      "outputs": [
        {
          "output_type": "stream",
          "name": "stdout",
          "text": [
            "AUHC MVKFC V BYZUGC V IZMC CJ GUMBZYAZD UKUVM. VC \n",
            "\n",
            "HZZGZB CJ GZ, V HCJJB PD CFZ VYJM KUCZ AZUBVMK \n",
            "\n",
            "CJ CFZ BYVWZ UMB OJY U IFVAZ, V TJNAB MJC \n",
            "\n",
            "ZMCZY. OJY CFZ IUD, VC IUH PUYYZB CJ GZ.\n",
            "\n",
            "\n",
            "LAST NIGHT I DREAMT I WENT TO MANDERLE* AGAIN. IT \n",
            "\n",
            "SEEMED TO ME, I STOOD ** THE IRON GATE LEADING \n",
            "\n",
            "TO THE DRI*E AND FOR A WHILE, I *O*LD NOT \n",
            "\n",
            "ENTER. FOR THE WA*, IT WAS *ARRED TO ME.\n",
            "\n",
            "\n"
          ]
        }
      ]
    },
    {
      "cell_type": "code",
      "source": [
        "# line 1, word 8, the word is \"MANDERLE*\"\n",
        "# by making some try and error, google told me that \"MANDERLEY\" is a fictional estate\n",
        "# other combinations were not making any sense.\n",
        "# map D=Y\n",
        "\n",
        "\n",
        "mapping = {'V':'I', 'C':'T', 'J':'O', 'Z':'E', 'F':'H', 'G':'M', 'M':'N', 'Y':'R', 'O':'F',\n",
        "           'K':'G', 'U':'A', 'B':'D', 'A':'L', 'H':'S', 'I':'W', 'D':'Y'}\n",
        "words_per_line = 10\n",
        "plaintext = substitution_cipher(ciphertext, mapping)\n",
        "print_result(ciphertext, words_per_line)\n",
        "print_result(plaintext, words_per_line)"
      ],
      "metadata": {
        "colab": {
          "base_uri": "https://localhost:8080/"
        },
        "id": "iQ85T9pbYI6c",
        "outputId": "2349beda-1710-4f4b-ea1a-c3ab77728905"
      },
      "execution_count": 155,
      "outputs": [
        {
          "output_type": "stream",
          "name": "stdout",
          "text": [
            "AUHC MVKFC V BYZUGC V IZMC CJ GUMBZYAZD UKUVM. VC \n",
            "\n",
            "HZZGZB CJ GZ, V HCJJB PD CFZ VYJM KUCZ AZUBVMK \n",
            "\n",
            "CJ CFZ BYVWZ UMB OJY U IFVAZ, V TJNAB MJC \n",
            "\n",
            "ZMCZY. OJY CFZ IUD, VC IUH PUYYZB CJ GZ.\n",
            "\n",
            "\n",
            "LAST NIGHT I DREAMT I WENT TO MANDERLEY AGAIN. IT \n",
            "\n",
            "SEEMED TO ME, I STOOD *Y THE IRON GATE LEADING \n",
            "\n",
            "TO THE DRI*E AND FOR A WHILE, I *O*LD NOT \n",
            "\n",
            "ENTER. FOR THE WAY, IT WAS *ARRED TO ME.\n",
            "\n",
            "\n"
          ]
        }
      ]
    },
    {
      "cell_type": "code",
      "source": [
        "# line 2, word 6, the word is \"*Y\"\n",
        "# some two letter word similar to that is MY,BY, etc\n",
        "# we already mapped M\n",
        "# so let's map B\n",
        "# map P=B\n",
        "\n",
        "\n",
        "mapping = {'V':'I', 'C':'T', 'J':'O', 'Z':'E', 'F':'H', 'G':'M', 'M':'N', 'Y':'R', 'O':'F',\n",
        "           'K':'G', 'U':'A', 'B':'D', 'A':'L', 'H':'S', 'I':'W', 'D':'Y', 'P':'B'}\n",
        "words_per_line = 10\n",
        "plaintext = substitution_cipher(ciphertext, mapping)\n",
        "print_result(ciphertext, words_per_line)\n",
        "print_result(plaintext, words_per_line)"
      ],
      "metadata": {
        "colab": {
          "base_uri": "https://localhost:8080/"
        },
        "id": "uST1wvbnZBlb",
        "outputId": "d8134bb1-1a56-40f9-c5b9-e2089b43001a"
      },
      "execution_count": 156,
      "outputs": [
        {
          "output_type": "stream",
          "name": "stdout",
          "text": [
            "AUHC MVKFC V BYZUGC V IZMC CJ GUMBZYAZD UKUVM. VC \n",
            "\n",
            "HZZGZB CJ GZ, V HCJJB PD CFZ VYJM KUCZ AZUBVMK \n",
            "\n",
            "CJ CFZ BYVWZ UMB OJY U IFVAZ, V TJNAB MJC \n",
            "\n",
            "ZMCZY. OJY CFZ IUD, VC IUH PUYYZB CJ GZ.\n",
            "\n",
            "\n",
            "LAST NIGHT I DREAMT I WENT TO MANDERLEY AGAIN. IT \n",
            "\n",
            "SEEMED TO ME, I STOOD BY THE IRON GATE LEADING \n",
            "\n",
            "TO THE DRI*E AND FOR A WHILE, I *O*LD NOT \n",
            "\n",
            "ENTER. FOR THE WAY, IT WAS BARRED TO ME.\n",
            "\n",
            "\n"
          ]
        }
      ]
    },
    {
      "cell_type": "code",
      "source": [
        "# line 3, word 9, the word is \"*O*LD\"\n",
        "# it is similar to words like \"could, should\"\n",
        "# we already mapped 'S', so only could is preferable here\n",
        "# map T=C and N=U\n",
        "\n",
        "\n",
        "mapping = {'V':'I', 'C':'T', 'J':'O', 'Z':'E', 'F':'H', 'G':'M', 'M':'N', 'Y':'R', 'O':'F', 'K':'G', 'U':'A',\n",
        "           'B':'D', 'A':'L', 'H':'S', 'I':'W', 'D':'Y', 'P':'B', 'T':'C', 'N':'U'}\n",
        "words_per_line = 10\n",
        "plaintext = substitution_cipher(ciphertext, mapping)\n",
        "print_result(ciphertext, words_per_line)\n",
        "print_result(plaintext, words_per_line)"
      ],
      "metadata": {
        "colab": {
          "base_uri": "https://localhost:8080/"
        },
        "id": "9BM54aS4Z6SB",
        "outputId": "96893b5e-6405-4d6c-e15d-1759a1f20d56"
      },
      "execution_count": 157,
      "outputs": [
        {
          "output_type": "stream",
          "name": "stdout",
          "text": [
            "AUHC MVKFC V BYZUGC V IZMC CJ GUMBZYAZD UKUVM. VC \n",
            "\n",
            "HZZGZB CJ GZ, V HCJJB PD CFZ VYJM KUCZ AZUBVMK \n",
            "\n",
            "CJ CFZ BYVWZ UMB OJY U IFVAZ, V TJNAB MJC \n",
            "\n",
            "ZMCZY. OJY CFZ IUD, VC IUH PUYYZB CJ GZ.\n",
            "\n",
            "\n",
            "LAST NIGHT I DREAMT I WENT TO MANDERLEY AGAIN. IT \n",
            "\n",
            "SEEMED TO ME, I STOOD BY THE IRON GATE LEADING \n",
            "\n",
            "TO THE DRI*E AND FOR A WHILE, I COULD NOT \n",
            "\n",
            "ENTER. FOR THE WAY, IT WAS BARRED TO ME.\n",
            "\n",
            "\n"
          ]
        }
      ]
    },
    {
      "cell_type": "code",
      "source": [
        "# the only word left is \"DRI*E\"\n",
        "# after analyzing the whole sentence, we can consider \"DRI*E\" as \"DRIVE\"\n",
        "# map W=V\n",
        "\n",
        "\n",
        "mapping = {'V':'I', 'C':'T', 'J':'O', 'Z':'E', 'F':'H', 'G':'M', 'M':'N', 'Y':'R', 'O':'F', 'K':'G',\n",
        "           'U':'A', 'B':'D', 'A':'L', 'H':'S', 'I':'W', 'D':'Y', 'P':'B', 'T':'C', 'N':'U', 'W':'V'}\n",
        "words_per_line = 10\n",
        "plaintext = substitution_cipher(ciphertext, mapping)\n",
        "print_result(ciphertext, words_per_line)\n",
        "print_result(plaintext, words_per_line)"
      ],
      "metadata": {
        "colab": {
          "base_uri": "https://localhost:8080/"
        },
        "id": "ijhZMgLbaz88",
        "outputId": "19579e33-4b48-49f4-92e2-c5297cbcbf97"
      },
      "execution_count": 158,
      "outputs": [
        {
          "output_type": "stream",
          "name": "stdout",
          "text": [
            "AUHC MVKFC V BYZUGC V IZMC CJ GUMBZYAZD UKUVM. VC \n",
            "\n",
            "HZZGZB CJ GZ, V HCJJB PD CFZ VYJM KUCZ AZUBVMK \n",
            "\n",
            "CJ CFZ BYVWZ UMB OJY U IFVAZ, V TJNAB MJC \n",
            "\n",
            "ZMCZY. OJY CFZ IUD, VC IUH PUYYZB CJ GZ.\n",
            "\n",
            "\n",
            "LAST NIGHT I DREAMT I WENT TO MANDERLEY AGAIN. IT \n",
            "\n",
            "SEEMED TO ME, I STOOD BY THE IRON GATE LEADING \n",
            "\n",
            "TO THE DRIVE AND FOR A WHILE, I COULD NOT \n",
            "\n",
            "ENTER. FOR THE WAY, IT WAS BARRED TO ME.\n",
            "\n",
            "\n"
          ]
        }
      ]
    },
    {
      "cell_type": "code",
      "source": [
        "# desired mapping\n",
        "\n",
        "desired_mapping(mapping)"
      ],
      "metadata": {
        "colab": {
          "base_uri": "https://localhost:8080/"
        },
        "id": "e8VqXp0dbWuC",
        "outputId": "ad8d3678-0be7-4bc5-8b11-9e3cfc75d938"
      },
      "execution_count": 159,
      "outputs": [
        {
          "output_type": "stream",
          "name": "stdout",
          "text": [
            "Desired Mappings : \n",
            "V:I\n",
            "C:T\n",
            "J:O\n",
            "Z:E\n",
            "F:H\n",
            "G:M\n",
            "M:N\n",
            "Y:R\n",
            "O:F\n",
            "K:G\n",
            "U:A\n",
            "B:D\n",
            "A:L\n",
            "H:S\n",
            "I:W\n",
            "D:Y\n",
            "P:B\n",
            "T:C\n",
            "N:U\n",
            "W:V\n"
          ]
        }
      ]
    },
    {
      "cell_type": "markdown",
      "source": [
        "<ins>**Plaintext of Task-02(C) is :**</ins><br>\n",
        "<p>LAST NIGHT I DREAMT I WENT TO MANDERLEY AGAIN. IT SEEMED TO ME, I STOOD BY THE IRON GATE LEADING TO THE DRIVE AND FOR A WHILE, I COULD NOT ENTER. FOR THE WAY, IT WAS BARRED TO ME.</p>"
      ],
      "metadata": {
        "id": "uUGCMecJbihQ"
      }
    },
    {
      "cell_type": "markdown",
      "source": [
        "# <ins>Task - 02(D)</ins>"
      ],
      "metadata": {
        "id": "--ijcIXHwg18"
      }
    },
    {
      "cell_type": "code",
      "source": [
        "ciphertext = \"JGRMQOYGHMVBJ WRWQFPW HGF FDQGFPFZR KBEEBJIZQ QO CIBZK. \\\n",
        "LFAFGQVFZFWW, EOG WOPF GFHWOL PHLR LOLFDMFGQW BLWBWQ OL \\\n",
        "KFWBYLBLY LFS FLJGRMQBOL WJVFPFW QVHQ WFFP QO QVFP QO CF \\\n",
        "POGF WFJIGF QVHL HLR OQVFG WJVFPF OL FHGQV. QVF ILEOGQILHQF \\\n",
        "QGIQV VOSFAFG BW QVHQ WIJV WJVFPFW HGF IWIHZZR QGBABHZ QO \\\n",
        "CGFHX.\"\n",
        "\n",
        "mapping = {}\n",
        "words_per_line = 10\n",
        "plaintext = substitution_cipher(ciphertext, mapping)\n",
        "print_result(ciphertext, words_per_line)\n",
        "print_result(plaintext, words_per_line)"
      ],
      "metadata": {
        "colab": {
          "base_uri": "https://localhost:8080/"
        },
        "id": "Tzhy3T8RwvZT",
        "outputId": "0979d2fc-691b-4d12-fbb3-a82e205afc69"
      },
      "execution_count": 160,
      "outputs": [
        {
          "output_type": "stream",
          "name": "stdout",
          "text": [
            "JGRMQOYGHMVBJ WRWQFPW HGF FDQGFPFZR KBEEBJIZQ QO CIBZK. LFAFGQVFZFWW, EOG WOPF \n",
            "\n",
            "GFHWOL PHLR LOLFDMFGQW BLWBWQ OL KFWBYLBLY LFS FLJGRMQBOL WJVFPFW QVHQ \n",
            "\n",
            "WFFP QO QVFP QO CF POGF WFJIGF QVHL HLR OQVFG \n",
            "\n",
            "WJVFPF OL FHGQV. QVF ILEOGQILHQF QGIQV VOSFAFG BW QVHQ WIJV \n",
            "\n",
            "WJVFPFW HGF IWIHZZR QGBABHZ QO CGFHX.\n",
            "\n",
            "\n",
            "************* ******* *** ********* ********* ** *****. ************, *** **** \n",
            "\n",
            "****** **** ********** ****** ** ********* *** ********** ******* **** \n",
            "\n",
            "**** ** **** ** ** **** ****** **** *** ***** \n",
            "\n",
            "****** ** *****. *** *********** ***** ******* ** **** **** \n",
            "\n",
            "******* *** ******* ******* ** *****.\n",
            "\n",
            "\n"
          ]
        }
      ]
    },
    {
      "cell_type": "code",
      "source": [
        "# let's cheack frequency of characters in the ciphertext\n",
        "\n",
        "calc_frequency(ciphertext)"
      ],
      "metadata": {
        "colab": {
          "base_uri": "https://localhost:8080/"
        },
        "id": "-rU0Xb_Hw46B",
        "outputId": "e6673da3-3591-4cb4-e7f0-7850d0f84a9c"
      },
      "execution_count": 161,
      "outputs": [
        {
          "output_type": "stream",
          "name": "stdout",
          "text": [
            "Character:  , Frequency: 45\n",
            "Character: F, Frequency: 37\n",
            "Character: Q, Frequency: 26\n",
            "Character: W, Frequency: 21\n",
            "Character: G, Frequency: 19\n",
            "Character: L, Frequency: 17\n",
            "Character: O, Frequency: 16\n",
            "Character: V, Frequency: 15\n",
            "Character: H, Frequency: 14\n",
            "Character: B, Frequency: 12\n",
            "Character: P, Frequency: 10\n",
            "Character: J, Frequency: 9\n",
            "Character: I, Frequency: 9\n",
            "Character: R, Frequency: 7\n",
            "Character: Z, Frequency: 7\n",
            "Character: M, Frequency: 4\n",
            "Character: E, Frequency: 4\n",
            "Character: Y, Frequency: 3\n",
            "Character: K, Frequency: 3\n",
            "Character: C, Frequency: 3\n",
            "Character: ., Frequency: 3\n",
            "Character: A, Frequency: 3\n",
            "Character: D, Frequency: 2\n",
            "Character: S, Frequency: 2\n",
            "Character: ,, Frequency: 1\n",
            "Character: X, Frequency: 1\n"
          ]
        }
      ]
    },
    {
      "cell_type": "code",
      "source": [
        "# from frequency of characters, we can see that\n",
        "# the frequency of 'F' is 37 and\n",
        "# the frequency of character 'Q' is 26\n",
        "# we know that 'E' and 'T' are most frequently used letters\n",
        "# map F=E and Q=T\n",
        "\n",
        "mapping = {'F':'E', 'Q':'T'}\n",
        "words_per_line = 10\n",
        "plaintext = substitution_cipher(ciphertext, mapping)\n",
        "print_result(ciphertext, words_per_line)\n",
        "print_result(plaintext, words_per_line)"
      ],
      "metadata": {
        "colab": {
          "base_uri": "https://localhost:8080/"
        },
        "id": "ehz0TFWGxKMZ",
        "outputId": "31c32ae3-46dc-44ea-99f8-3fef1e903795"
      },
      "execution_count": 162,
      "outputs": [
        {
          "output_type": "stream",
          "name": "stdout",
          "text": [
            "JGRMQOYGHMVBJ WRWQFPW HGF FDQGFPFZR KBEEBJIZQ QO CIBZK. LFAFGQVFZFWW, EOG WOPF \n",
            "\n",
            "GFHWOL PHLR LOLFDMFGQW BLWBWQ OL KFWBYLBLY LFS FLJGRMQBOL WJVFPFW QVHQ \n",
            "\n",
            "WFFP QO QVFP QO CF POGF WFJIGF QVHL HLR OQVFG \n",
            "\n",
            "WJVFPF OL FHGQV. QVF ILEOGQILHQF QGIQV VOSFAFG BW QVHQ WIJV \n",
            "\n",
            "WJVFPFW HGF IWIHZZR QGBABHZ QO CGFHX.\n",
            "\n",
            "\n",
            "****T******** ***TE** **E E*T*E*E** ********T T* *****. *E*E*T*E*E**, *** ***E \n",
            "\n",
            "*E**** **** ***E**E*T* *****T ** *E******* *E* E*****T*** ***E*E* T**T \n",
            "\n",
            "*EE* T* T*E* T* *E ***E *E***E T*** *** *T*E* \n",
            "\n",
            "***E*E ** E**T*. T*E *****T***TE T**T* ***E*E* ** T**T **** \n",
            "\n",
            "***E*E* **E ******* T****** T* **E**.\n",
            "\n",
            "\n"
          ]
        }
      ]
    },
    {
      "cell_type": "code",
      "source": [
        "# line 4, word 4, the word is looks like \"T*E\"\n",
        "# we know \"THE\" is one of the most frequently used three letter word\n",
        "# map V=H\n",
        "\n",
        "mapping = {'F':'E', 'Q':'T', 'V':'H'}\n",
        "words_per_line = 10\n",
        "plaintext = substitution_cipher(ciphertext, mapping)\n",
        "print_result(ciphertext, words_per_line)\n",
        "print_result(plaintext, words_per_line)"
      ],
      "metadata": {
        "colab": {
          "base_uri": "https://localhost:8080/"
        },
        "id": "DVq-Tgr_x26Z",
        "outputId": "e82bee93-9d01-40c1-b9dc-0e6b58d74a39"
      },
      "execution_count": 163,
      "outputs": [
        {
          "output_type": "stream",
          "name": "stdout",
          "text": [
            "JGRMQOYGHMVBJ WRWQFPW HGF FDQGFPFZR KBEEBJIZQ QO CIBZK. LFAFGQVFZFWW, EOG WOPF \n",
            "\n",
            "GFHWOL PHLR LOLFDMFGQW BLWBWQ OL KFWBYLBLY LFS FLJGRMQBOL WJVFPFW QVHQ \n",
            "\n",
            "WFFP QO QVFP QO CF POGF WFJIGF QVHL HLR OQVFG \n",
            "\n",
            "WJVFPF OL FHGQV. QVF ILEOGQILHQF QGIQV VOSFAFG BW QVHQ WIJV \n",
            "\n",
            "WJVFPFW HGF IWIHZZR QGBABHZ QO CGFHX.\n",
            "\n",
            "\n",
            "****T*****H** ***TE** **E E*T*E*E** ********T T* *****. *E*E*THE*E**, *** ***E \n",
            "\n",
            "*E**** **** ***E**E*T* *****T ** *E******* *E* E*****T*** **HE*E* TH*T \n",
            "\n",
            "*EE* T* THE* T* *E ***E *E***E TH** *** *THE* \n",
            "\n",
            "**HE*E ** E**TH. THE *****T***TE T**TH H**E*E* ** TH*T ***H \n",
            "\n",
            "**HE*E* **E ******* T****** T* **E**.\n",
            "\n",
            "\n"
          ]
        }
      ]
    },
    {
      "cell_type": "code",
      "source": [
        "# we are seeing a lot of \"T*\" words\n",
        "# we know \"TO\" is one of the most frequently used two letter word\n",
        "# map O=O\n",
        "\n",
        "mapping = {'F':'E', 'Q':'T', 'V':'H', 'O':'O'}\n",
        "words_per_line = 10\n",
        "plaintext = substitution_cipher(ciphertext, mapping)\n",
        "print_result(ciphertext, words_per_line)\n",
        "print_result(plaintext, words_per_line)"
      ],
      "metadata": {
        "colab": {
          "base_uri": "https://localhost:8080/"
        },
        "id": "tfR4n-A6yPnH",
        "outputId": "9ef00c22-d94c-4569-b6e5-b8f62015194a"
      },
      "execution_count": 164,
      "outputs": [
        {
          "output_type": "stream",
          "name": "stdout",
          "text": [
            "JGRMQOYGHMVBJ WRWQFPW HGF FDQGFPFZR KBEEBJIZQ QO CIBZK. LFAFGQVFZFWW, EOG WOPF \n",
            "\n",
            "GFHWOL PHLR LOLFDMFGQW BLWBWQ OL KFWBYLBLY LFS FLJGRMQBOL WJVFPFW QVHQ \n",
            "\n",
            "WFFP QO QVFP QO CF POGF WFJIGF QVHL HLR OQVFG \n",
            "\n",
            "WJVFPF OL FHGQV. QVF ILEOGQILHQF QGIQV VOSFAFG BW QVHQ WIJV \n",
            "\n",
            "WJVFPFW HGF IWIHZZR QGBABHZ QO CGFHX.\n",
            "\n",
            "\n",
            "****TO****H** ***TE** **E E*T*E*E** ********T TO *****. *E*E*THE*E**, *O* *O*E \n",
            "\n",
            "*E**O* **** *O*E**E*T* *****T O* *E******* *E* E*****T*O* **HE*E* TH*T \n",
            "\n",
            "*EE* TO THE* TO *E *O*E *E***E TH** *** OTHE* \n",
            "\n",
            "**HE*E O* E**TH. THE ***O*T***TE T**TH HO*E*E* ** TH*T ***H \n",
            "\n",
            "**HE*E* **E ******* T****** TO **E**.\n",
            "\n",
            "\n"
          ]
        }
      ]
    },
    {
      "cell_type": "code",
      "source": [
        "# line 2, word 5, the word is \"O*\"\n",
        "# we know \"OF\" is one of the most frequently used two letter word that starts with \"O\"\n",
        "# map L=F\n",
        "\n",
        "mapping = {'F':'E', 'Q':'T', 'V':'H', 'O':'O', 'L':'F'}\n",
        "words_per_line = 10\n",
        "plaintext = substitution_cipher(ciphertext, mapping)\n",
        "print_result(ciphertext, words_per_line)\n",
        "print_result(plaintext, words_per_line)"
      ],
      "metadata": {
        "colab": {
          "base_uri": "https://localhost:8080/"
        },
        "id": "fINghGivyk-S",
        "outputId": "160b8cc5-29ee-4bce-890d-aa29168ac237"
      },
      "execution_count": 165,
      "outputs": [
        {
          "output_type": "stream",
          "name": "stdout",
          "text": [
            "JGRMQOYGHMVBJ WRWQFPW HGF FDQGFPFZR KBEEBJIZQ QO CIBZK. LFAFGQVFZFWW, EOG WOPF \n",
            "\n",
            "GFHWOL PHLR LOLFDMFGQW BLWBWQ OL KFWBYLBLY LFS FLJGRMQBOL WJVFPFW QVHQ \n",
            "\n",
            "WFFP QO QVFP QO CF POGF WFJIGF QVHL HLR OQVFG \n",
            "\n",
            "WJVFPF OL FHGQV. QVF ILEOGQILHQF QGIQV VOSFAFG BW QVHQ WIJV \n",
            "\n",
            "WJVFPFW HGF IWIHZZR QGBABHZ QO CGFHX.\n",
            "\n",
            "\n",
            "****TO****H** ***TE** **E E*T*E*E** ********T TO *****. FE*E*THE*E**, *O* *O*E \n",
            "\n",
            "*E**OF **F* FOFE**E*T* *F***T OF *E***F*F* FE* EF****T*OF **HE*E* TH*T \n",
            "\n",
            "*EE* TO THE* TO *E *O*E *E***E TH*F *F* OTHE* \n",
            "\n",
            "**HE*E OF E**TH. THE *F*O*T*F*TE T**TH HO*E*E* ** TH*T ***H \n",
            "\n",
            "**HE*E* **E ******* T****** TO **E**.\n",
            "\n",
            "\n"
          ]
        }
      ]
    },
    {
      "cell_type": "code",
      "source": [
        "# line 4, word 9, the word is \"TH*T\"\n",
        "# let's consider this word as \"THAT\"\n",
        "# map H=A\n",
        "\n",
        "mapping = {'F':'E', 'Q':'T', 'V':'H', 'O':'O', 'L':'F', 'H':'A'}\n",
        "words_per_line = 10\n",
        "plaintext = substitution_cipher(ciphertext, mapping)\n",
        "print_result(ciphertext, words_per_line)\n",
        "print_result(plaintext, words_per_line)"
      ],
      "metadata": {
        "colab": {
          "base_uri": "https://localhost:8080/"
        },
        "id": "8SjjnobHy6Ts",
        "outputId": "8e66c9e9-b934-4337-a4ff-42359da9e211"
      },
      "execution_count": 166,
      "outputs": [
        {
          "output_type": "stream",
          "name": "stdout",
          "text": [
            "JGRMQOYGHMVBJ WRWQFPW HGF FDQGFPFZR KBEEBJIZQ QO CIBZK. LFAFGQVFZFWW, EOG WOPF \n",
            "\n",
            "GFHWOL PHLR LOLFDMFGQW BLWBWQ OL KFWBYLBLY LFS FLJGRMQBOL WJVFPFW QVHQ \n",
            "\n",
            "WFFP QO QVFP QO CF POGF WFJIGF QVHL HLR OQVFG \n",
            "\n",
            "WJVFPF OL FHGQV. QVF ILEOGQILHQF QGIQV VOSFAFG BW QVHQ WIJV \n",
            "\n",
            "WJVFPFW HGF IWIHZZR QGBABHZ QO CGFHX.\n",
            "\n",
            "\n",
            "****TO**A*H** ***TE** A*E E*T*E*E** ********T TO *****. FE*E*THE*E**, *O* *O*E \n",
            "\n",
            "*EA*OF *AF* FOFE**E*T* *F***T OF *E***F*F* FE* EF****T*OF **HE*E* THAT \n",
            "\n",
            "*EE* TO THE* TO *E *O*E *E***E THAF AF* OTHE* \n",
            "\n",
            "**HE*E OF EA*TH. THE *F*O*T*FATE T**TH HO*E*E* ** THAT ***H \n",
            "\n",
            "**HE*E* A*E ***A*** T****A* TO **EA*.\n",
            "\n",
            "\n"
          ]
        }
      ]
    },
    {
      "cell_type": "code",
      "source": [
        "# line 5, word 2, the word is \"A*E\"\n",
        "# let's consider this word as \"ARE\"\n",
        "# map G=R\n",
        "\n",
        "mapping = {'F':'E', 'Q':'T', 'V':'H', 'O':'O', 'L':'F', 'H':'A', 'G':'R'}\n",
        "words_per_line = 10\n",
        "plaintext = substitution_cipher(ciphertext, mapping)\n",
        "print_result(ciphertext, words_per_line)\n",
        "print_result(plaintext, words_per_line)"
      ],
      "metadata": {
        "colab": {
          "base_uri": "https://localhost:8080/"
        },
        "id": "mOmzp-jMzQHN",
        "outputId": "354c114c-ced1-4f72-a6d1-5856ebc1ef94"
      },
      "execution_count": 167,
      "outputs": [
        {
          "output_type": "stream",
          "name": "stdout",
          "text": [
            "JGRMQOYGHMVBJ WRWQFPW HGF FDQGFPFZR KBEEBJIZQ QO CIBZK. LFAFGQVFZFWW, EOG WOPF \n",
            "\n",
            "GFHWOL PHLR LOLFDMFGQW BLWBWQ OL KFWBYLBLY LFS FLJGRMQBOL WJVFPFW QVHQ \n",
            "\n",
            "WFFP QO QVFP QO CF POGF WFJIGF QVHL HLR OQVFG \n",
            "\n",
            "WJVFPF OL FHGQV. QVF ILEOGQILHQF QGIQV VOSFAFG BW QVHQ WIJV \n",
            "\n",
            "WJVFPFW HGF IWIHZZR QGBABHZ QO CGFHX.\n",
            "\n",
            "\n",
            "*R**TO*RA*H** ***TE** ARE E*TRE*E** ********T TO *****. FE*ERTHE*E**, *OR *O*E \n",
            "\n",
            "REA*OF *AF* FOFE**ERT* *F***T OF *E***F*F* FE* EF*R**T*OF **HE*E* THAT \n",
            "\n",
            "*EE* TO THE* TO *E *ORE *E**RE THAF AF* OTHER \n",
            "\n",
            "**HE*E OF EARTH. THE *F*ORT*FATE TR*TH HO*E*ER ** THAT ***H \n",
            "\n",
            "**HE*E* ARE ***A*** TR***A* TO *REA*.\n",
            "\n",
            "\n"
          ]
        }
      ]
    },
    {
      "cell_type": "code",
      "source": [
        "# line 3, word 8, the word is \"THAF\"\n",
        "# this word is not making any sense\n",
        "# so we need to change the map\n",
        "# let's try to use \"THAN\", instead of \"THAF\"\n",
        "# change map L=F to L=N\n",
        "\n",
        "mapping = {'F':'E', 'Q':'T', 'V':'H', 'O':'O', 'L':'N', 'H':'A', 'G':'R'}\n",
        "words_per_line = 10\n",
        "plaintext = substitution_cipher(ciphertext, mapping)\n",
        "print_result(ciphertext, words_per_line)\n",
        "print_result(plaintext, words_per_line)"
      ],
      "metadata": {
        "colab": {
          "base_uri": "https://localhost:8080/"
        },
        "id": "Wld8elrH0is0",
        "outputId": "de8aab29-adfd-40d3-e61c-a7582222f19e"
      },
      "execution_count": 168,
      "outputs": [
        {
          "output_type": "stream",
          "name": "stdout",
          "text": [
            "JGRMQOYGHMVBJ WRWQFPW HGF FDQGFPFZR KBEEBJIZQ QO CIBZK. LFAFGQVFZFWW, EOG WOPF \n",
            "\n",
            "GFHWOL PHLR LOLFDMFGQW BLWBWQ OL KFWBYLBLY LFS FLJGRMQBOL WJVFPFW QVHQ \n",
            "\n",
            "WFFP QO QVFP QO CF POGF WFJIGF QVHL HLR OQVFG \n",
            "\n",
            "WJVFPF OL FHGQV. QVF ILEOGQILHQF QGIQV VOSFAFG BW QVHQ WIJV \n",
            "\n",
            "WJVFPFW HGF IWIHZZR QGBABHZ QO CGFHX.\n",
            "\n",
            "\n",
            "*R**TO*RA*H** ***TE** ARE E*TRE*E** ********T TO *****. NE*ERTHE*E**, *OR *O*E \n",
            "\n",
            "REA*ON *AN* NONE**ERT* *N***T ON *E***N*N* NE* EN*R**T*ON **HE*E* THAT \n",
            "\n",
            "*EE* TO THE* TO *E *ORE *E**RE THAN AN* OTHER \n",
            "\n",
            "**HE*E ON EARTH. THE *N*ORT*NATE TR*TH HO*E*ER ** THAT ***H \n",
            "\n",
            "**HE*E* ARE ***A*** TR***A* TO *REA*.\n",
            "\n",
            "\n"
          ]
        }
      ]
    },
    {
      "cell_type": "code",
      "source": [
        "# line 1, word 9, the word is \"*OR\"\n",
        "# we knoe \"FOR\" is one of the most frequently used three letter words that ends with \"OR\"\n",
        "# map E=F\n",
        "\n",
        "mapping = {'F':'E', 'Q':'T', 'V':'H', 'O':'O', 'L':'N', 'H':'A', 'G':'R', 'E':'F'}\n",
        "words_per_line = 10\n",
        "plaintext = substitution_cipher(ciphertext, mapping)\n",
        "print_result(ciphertext, words_per_line)\n",
        "print_result(plaintext, words_per_line)"
      ],
      "metadata": {
        "colab": {
          "base_uri": "https://localhost:8080/"
        },
        "id": "jkauZ8hL1Ere",
        "outputId": "332b7116-39c3-4b97-a66b-76c05abd7af2"
      },
      "execution_count": 169,
      "outputs": [
        {
          "output_type": "stream",
          "name": "stdout",
          "text": [
            "JGRMQOYGHMVBJ WRWQFPW HGF FDQGFPFZR KBEEBJIZQ QO CIBZK. LFAFGQVFZFWW, EOG WOPF \n",
            "\n",
            "GFHWOL PHLR LOLFDMFGQW BLWBWQ OL KFWBYLBLY LFS FLJGRMQBOL WJVFPFW QVHQ \n",
            "\n",
            "WFFP QO QVFP QO CF POGF WFJIGF QVHL HLR OQVFG \n",
            "\n",
            "WJVFPF OL FHGQV. QVF ILEOGQILHQF QGIQV VOSFAFG BW QVHQ WIJV \n",
            "\n",
            "WJVFPFW HGF IWIHZZR QGBABHZ QO CGFHX.\n",
            "\n",
            "\n",
            "*R**TO*RA*H** ***TE** ARE E*TRE*E** **FF****T TO *****. NE*ERTHE*E**, FOR *O*E \n",
            "\n",
            "REA*ON *AN* NONE**ERT* *N***T ON *E***N*N* NE* EN*R**T*ON **HE*E* THAT \n",
            "\n",
            "*EE* TO THE* TO *E *ORE *E**RE THAN AN* OTHER \n",
            "\n",
            "**HE*E ON EARTH. THE *NFORT*NATE TR*TH HO*E*ER ** THAT ***H \n",
            "\n",
            "**HE*E* ARE ***A*** TR***A* TO *REA*.\n",
            "\n",
            "\n"
          ]
        }
      ]
    },
    {
      "cell_type": "code",
      "source": [
        "# line 3, word 9, the word is \"AN*\"\n",
        "# some three letter words starts with \"AN\" are AND,ANY,ANT\n",
        "# we can see that before \"AN*\", the word is 'THAN'\n",
        "# after \"AN*\", the word is \"OTHER\"\n",
        "# so it's suitable to use \"ANY\"\n",
        "# let's consider \"AN*\" as \"ANY\"\n",
        "# map R=Y\n",
        "\n",
        "mapping = {'F':'E', 'Q':'T', 'V':'H', 'O':'O', 'L':'N', 'H':'A', 'G':'R', 'E':'F', 'R':'Y'}\n",
        "words_per_line = 10\n",
        "plaintext = substitution_cipher(ciphertext, mapping)\n",
        "print_result(ciphertext, words_per_line)\n",
        "print_result(plaintext, words_per_line)"
      ],
      "metadata": {
        "colab": {
          "base_uri": "https://localhost:8080/"
        },
        "id": "SgvT3T9J14nY",
        "outputId": "9174f938-c09c-4d38-bc2a-80fc5243d383"
      },
      "execution_count": 170,
      "outputs": [
        {
          "output_type": "stream",
          "name": "stdout",
          "text": [
            "JGRMQOYGHMVBJ WRWQFPW HGF FDQGFPFZR KBEEBJIZQ QO CIBZK. LFAFGQVFZFWW, EOG WOPF \n",
            "\n",
            "GFHWOL PHLR LOLFDMFGQW BLWBWQ OL KFWBYLBLY LFS FLJGRMQBOL WJVFPFW QVHQ \n",
            "\n",
            "WFFP QO QVFP QO CF POGF WFJIGF QVHL HLR OQVFG \n",
            "\n",
            "WJVFPF OL FHGQV. QVF ILEOGQILHQF QGIQV VOSFAFG BW QVHQ WIJV \n",
            "\n",
            "WJVFPFW HGF IWIHZZR QGBABHZ QO CGFHX.\n",
            "\n",
            "\n",
            "*RY*TO*RA*H** *Y*TE** ARE E*TRE*E*Y **FF****T TO *****. NE*ERTHE*E**, FOR *O*E \n",
            "\n",
            "REA*ON *ANY NONE**ERT* *N***T ON *E***N*N* NE* EN*RY*T*ON **HE*E* THAT \n",
            "\n",
            "*EE* TO THE* TO *E *ORE *E**RE THAN ANY OTHER \n",
            "\n",
            "**HE*E ON EARTH. THE *NFORT*NATE TR*TH HO*E*ER ** THAT ***H \n",
            "\n",
            "**HE*E* ARE ***A**Y TR***A* TO *REA*.\n",
            "\n",
            "\n"
          ]
        }
      ]
    },
    {
      "cell_type": "code",
      "source": [
        "# line 4, word 8, the word is \"**\"\n",
        "# we know OF,TO,IN,IT,IS are some most frequently used two letter word\n",
        "# we already map T,O,N.. still we are seeing \"**\" here\n",
        "# so the word can't be OF,TO,IN,IT\n",
        "# so we need to consider \"**\" as \"IS\"\n",
        "# map B=I and W=S\n",
        "\n",
        "mapping = {'F':'E', 'Q':'T', 'V':'H', 'O':'O', 'L':'N', 'H':'A', 'G':'R', 'E':'F', 'R':'Y', 'B':'I', 'W':'S'}\n",
        "words_per_line = 10\n",
        "plaintext = substitution_cipher(ciphertext, mapping)\n",
        "print_result(ciphertext, words_per_line)\n",
        "print_result(plaintext, words_per_line)"
      ],
      "metadata": {
        "colab": {
          "base_uri": "https://localhost:8080/"
        },
        "id": "Zvzzy64W3PWg",
        "outputId": "e280d2fe-f4fb-436a-83da-d8afa6d66dba"
      },
      "execution_count": 171,
      "outputs": [
        {
          "output_type": "stream",
          "name": "stdout",
          "text": [
            "JGRMQOYGHMVBJ WRWQFPW HGF FDQGFPFZR KBEEBJIZQ QO CIBZK. LFAFGQVFZFWW, EOG WOPF \n",
            "\n",
            "GFHWOL PHLR LOLFDMFGQW BLWBWQ OL KFWBYLBLY LFS FLJGRMQBOL WJVFPFW QVHQ \n",
            "\n",
            "WFFP QO QVFP QO CF POGF WFJIGF QVHL HLR OQVFG \n",
            "\n",
            "WJVFPF OL FHGQV. QVF ILEOGQILHQF QGIQV VOSFAFG BW QVHQ WIJV \n",
            "\n",
            "WJVFPFW HGF IWIHZZR QGBABHZ QO CGFHX.\n",
            "\n",
            "\n",
            "*RY*TO*RA*HI* SYSTE*S ARE E*TRE*E*Y *IFFI***T TO **I**. NE*ERTHE*ESS, FOR SO*E \n",
            "\n",
            "REASON *ANY NONE**ERTS INSIST ON *ESI*NIN* NE* EN*RY*TION S*HE*ES THAT \n",
            "\n",
            "SEE* TO THE* TO *E *ORE SE**RE THAN ANY OTHER \n",
            "\n",
            "S*HE*E ON EARTH. THE *NFORT*NATE TR*TH HO*E*ER IS THAT S**H \n",
            "\n",
            "S*HE*ES ARE *S*A**Y TRI*IA* TO *REA*.\n",
            "\n",
            "\n"
          ]
        }
      ]
    },
    {
      "cell_type": "code",
      "source": [
        "# line 2, word 2, the word is \"*ANY\"\n",
        "# let's consider this word as \"MANY\"\n",
        "# map P=M\n",
        "\n",
        "mapping = {'F':'E', 'Q':'T', 'V':'H', 'O':'O', 'L':'N', 'H':'A', 'G':'R', 'E':'F', 'R':'Y', 'B':'I', 'W':'S',\n",
        "           'P':'M'}\n",
        "words_per_line = 10\n",
        "plaintext = substitution_cipher(ciphertext, mapping)\n",
        "print_result(ciphertext, words_per_line)\n",
        "print_result(plaintext, words_per_line)"
      ],
      "metadata": {
        "colab": {
          "base_uri": "https://localhost:8080/"
        },
        "id": "mtanbQUt4H6a",
        "outputId": "f50de9e3-8ad2-40ce-ece2-45077804fb66"
      },
      "execution_count": 172,
      "outputs": [
        {
          "output_type": "stream",
          "name": "stdout",
          "text": [
            "JGRMQOYGHMVBJ WRWQFPW HGF FDQGFPFZR KBEEBJIZQ QO CIBZK. LFAFGQVFZFWW, EOG WOPF \n",
            "\n",
            "GFHWOL PHLR LOLFDMFGQW BLWBWQ OL KFWBYLBLY LFS FLJGRMQBOL WJVFPFW QVHQ \n",
            "\n",
            "WFFP QO QVFP QO CF POGF WFJIGF QVHL HLR OQVFG \n",
            "\n",
            "WJVFPF OL FHGQV. QVF ILEOGQILHQF QGIQV VOSFAFG BW QVHQ WIJV \n",
            "\n",
            "WJVFPFW HGF IWIHZZR QGBABHZ QO CGFHX.\n",
            "\n",
            "\n",
            "*RY*TO*RA*HI* SYSTEMS ARE E*TREME*Y *IFFI***T TO **I**. NE*ERTHE*ESS, FOR SOME \n",
            "\n",
            "REASON MANY NONE**ERTS INSIST ON *ESI*NIN* NE* EN*RY*TION S*HEMES THAT \n",
            "\n",
            "SEEM TO THEM TO *E MORE SE**RE THAN ANY OTHER \n",
            "\n",
            "S*HEME ON EARTH. THE *NFORT*NATE TR*TH HO*E*ER IS THAT S**H \n",
            "\n",
            "S*HEMES ARE *S*A**Y TRI*IA* TO *REA*.\n",
            "\n",
            "\n"
          ]
        }
      ]
    },
    {
      "cell_type": "code",
      "source": [
        "# line 1, word 8, the word is \"NE*ERTHE*ESS\"\n",
        "# let's consider this word as \"NEVERTHELESS\"\n",
        "# map A=V and Z=L\n",
        "\n",
        "mapping = {'F':'E', 'Q':'T', 'V':'H', 'O':'O', 'L':'N', 'H':'A', 'G':'R', 'E':'F', 'R':'Y', 'B':'I', 'W':'S',\n",
        "           'P':'M', 'A':'V', 'Z':'L'}\n",
        "words_per_line = 10\n",
        "plaintext = substitution_cipher(ciphertext, mapping)\n",
        "print_result(ciphertext, words_per_line)\n",
        "print_result(plaintext, words_per_line)"
      ],
      "metadata": {
        "colab": {
          "base_uri": "https://localhost:8080/"
        },
        "id": "qQOIbH584_Wo",
        "outputId": "7f0297ae-8b22-4988-ecc3-92120c3315c4"
      },
      "execution_count": 173,
      "outputs": [
        {
          "output_type": "stream",
          "name": "stdout",
          "text": [
            "JGRMQOYGHMVBJ WRWQFPW HGF FDQGFPFZR KBEEBJIZQ QO CIBZK. LFAFGQVFZFWW, EOG WOPF \n",
            "\n",
            "GFHWOL PHLR LOLFDMFGQW BLWBWQ OL KFWBYLBLY LFS FLJGRMQBOL WJVFPFW QVHQ \n",
            "\n",
            "WFFP QO QVFP QO CF POGF WFJIGF QVHL HLR OQVFG \n",
            "\n",
            "WJVFPF OL FHGQV. QVF ILEOGQILHQF QGIQV VOSFAFG BW QVHQ WIJV \n",
            "\n",
            "WJVFPFW HGF IWIHZZR QGBABHZ QO CGFHX.\n",
            "\n",
            "\n",
            "*RY*TO*RA*HI* SYSTEMS ARE E*TREMELY *IFFI**LT TO **IL*. NEVERTHELESS, FOR SOME \n",
            "\n",
            "REASON MANY NONE**ERTS INSIST ON *ESI*NIN* NE* EN*RY*TION S*HEMES THAT \n",
            "\n",
            "SEEM TO THEM TO *E MORE SE**RE THAN ANY OTHER \n",
            "\n",
            "S*HEME ON EARTH. THE *NFORT*NATE TR*TH HO*EVER IS THAT S**H \n",
            "\n",
            "S*HEMES ARE *S*ALLY TRIVIAL TO *REA*.\n",
            "\n",
            "\n"
          ]
        }
      ]
    },
    {
      "cell_type": "code",
      "source": [
        "# line 1, word 4, the word is \"E*TREMELY\"\n",
        "# let's consider this word as \"EXTREMELY\"\n",
        "# map D=X\n",
        "\n",
        "mapping = {'F':'E', 'Q':'T', 'V':'H', 'O':'O', 'L':'N', 'H':'A', 'G':'R', 'E':'F', 'R':'Y', 'B':'I', 'W':'S',\n",
        "           'P':'M', 'A':'V', 'Z':'L', 'D':'X'}\n",
        "words_per_line = 10\n",
        "plaintext = substitution_cipher(ciphertext, mapping)\n",
        "print_result(ciphertext, words_per_line)\n",
        "print_result(plaintext, words_per_line)"
      ],
      "metadata": {
        "colab": {
          "base_uri": "https://localhost:8080/"
        },
        "id": "nK2shEX25ZV1",
        "outputId": "902d8f7e-5f15-4b74-9ccf-8a3049dc64d0"
      },
      "execution_count": 174,
      "outputs": [
        {
          "output_type": "stream",
          "name": "stdout",
          "text": [
            "JGRMQOYGHMVBJ WRWQFPW HGF FDQGFPFZR KBEEBJIZQ QO CIBZK. LFAFGQVFZFWW, EOG WOPF \n",
            "\n",
            "GFHWOL PHLR LOLFDMFGQW BLWBWQ OL KFWBYLBLY LFS FLJGRMQBOL WJVFPFW QVHQ \n",
            "\n",
            "WFFP QO QVFP QO CF POGF WFJIGF QVHL HLR OQVFG \n",
            "\n",
            "WJVFPF OL FHGQV. QVF ILEOGQILHQF QGIQV VOSFAFG BW QVHQ WIJV \n",
            "\n",
            "WJVFPFW HGF IWIHZZR QGBABHZ QO CGFHX.\n",
            "\n",
            "\n",
            "*RY*TO*RA*HI* SYSTEMS ARE EXTREMELY *IFFI**LT TO **IL*. NEVERTHELESS, FOR SOME \n",
            "\n",
            "REASON MANY NONEX*ERTS INSIST ON *ESI*NIN* NE* EN*RY*TION S*HEMES THAT \n",
            "\n",
            "SEEM TO THEM TO *E MORE SE**RE THAN ANY OTHER \n",
            "\n",
            "S*HEME ON EARTH. THE *NFORT*NATE TR*TH HO*EVER IS THAT S**H \n",
            "\n",
            "S*HEMES ARE *S*ALLY TRIVIAL TO *REA*.\n",
            "\n",
            "\n"
          ]
        }
      ]
    },
    {
      "cell_type": "code",
      "source": [
        "# line 4, word 6, the word is \"TR*TH\"\n",
        "# let's consider this word as \"TRUTH\"\n",
        "# map I=U\n",
        "\n",
        "mapping = {'F':'E', 'Q':'T', 'V':'H', 'O':'O', 'L':'N', 'H':'A', 'G':'R', 'E':'F', 'R':'Y', 'B':'I', 'W':'S',\n",
        "           'P':'M', 'A':'V', 'Z':'L', 'D':'X', 'I':'U'}\n",
        "words_per_line = 10\n",
        "plaintext = substitution_cipher(ciphertext, mapping)\n",
        "print_result(ciphertext, words_per_line)\n",
        "print_result(plaintext, words_per_line)"
      ],
      "metadata": {
        "colab": {
          "base_uri": "https://localhost:8080/"
        },
        "id": "xwg1MxZH53vh",
        "outputId": "c640bc63-6ed1-4649-a2a6-01d546cbe611"
      },
      "execution_count": 175,
      "outputs": [
        {
          "output_type": "stream",
          "name": "stdout",
          "text": [
            "JGRMQOYGHMVBJ WRWQFPW HGF FDQGFPFZR KBEEBJIZQ QO CIBZK. LFAFGQVFZFWW, EOG WOPF \n",
            "\n",
            "GFHWOL PHLR LOLFDMFGQW BLWBWQ OL KFWBYLBLY LFS FLJGRMQBOL WJVFPFW QVHQ \n",
            "\n",
            "WFFP QO QVFP QO CF POGF WFJIGF QVHL HLR OQVFG \n",
            "\n",
            "WJVFPF OL FHGQV. QVF ILEOGQILHQF QGIQV VOSFAFG BW QVHQ WIJV \n",
            "\n",
            "WJVFPFW HGF IWIHZZR QGBABHZ QO CGFHX.\n",
            "\n",
            "\n",
            "*RY*TO*RA*HI* SYSTEMS ARE EXTREMELY *IFFI*ULT TO *UIL*. NEVERTHELESS, FOR SOME \n",
            "\n",
            "REASON MANY NONEX*ERTS INSIST ON *ESI*NIN* NE* EN*RY*TION S*HEMES THAT \n",
            "\n",
            "SEEM TO THEM TO *E MORE SE*URE THAN ANY OTHER \n",
            "\n",
            "S*HEME ON EARTH. THE UNFORTUNATE TRUTH HO*EVER IS THAT SU*H \n",
            "\n",
            "S*HEMES ARE USUALLY TRIVIAL TO *REA*.\n",
            "\n",
            "\n"
          ]
        }
      ]
    },
    {
      "cell_type": "code",
      "source": [
        "# line 3, word 5, the word is \"*E\"\n",
        "# we know \"BE\" is one of the most frequently used two letter word that ends with \"E\"\n",
        "# map C=B\n",
        "\n",
        "mapping = {'F':'E', 'Q':'T', 'V':'H', 'O':'O', 'L':'N', 'H':'A', 'G':'R', 'E':'F', 'R':'Y', 'B':'I', 'W':'S',\n",
        "           'P':'M', 'A':'V', 'Z':'L', 'D':'X', 'I':'U', 'C':'B'}\n",
        "words_per_line = 10\n",
        "plaintext = substitution_cipher(ciphertext, mapping)\n",
        "print_result(ciphertext, words_per_line)\n",
        "print_result(plaintext, words_per_line)"
      ],
      "metadata": {
        "colab": {
          "base_uri": "https://localhost:8080/"
        },
        "id": "HCM3MyRt6T6w",
        "outputId": "a75e2f03-2a40-4c72-dd5f-2d0466fc35f5"
      },
      "execution_count": 176,
      "outputs": [
        {
          "output_type": "stream",
          "name": "stdout",
          "text": [
            "JGRMQOYGHMVBJ WRWQFPW HGF FDQGFPFZR KBEEBJIZQ QO CIBZK. LFAFGQVFZFWW, EOG WOPF \n",
            "\n",
            "GFHWOL PHLR LOLFDMFGQW BLWBWQ OL KFWBYLBLY LFS FLJGRMQBOL WJVFPFW QVHQ \n",
            "\n",
            "WFFP QO QVFP QO CF POGF WFJIGF QVHL HLR OQVFG \n",
            "\n",
            "WJVFPF OL FHGQV. QVF ILEOGQILHQF QGIQV VOSFAFG BW QVHQ WIJV \n",
            "\n",
            "WJVFPFW HGF IWIHZZR QGBABHZ QO CGFHX.\n",
            "\n",
            "\n",
            "*RY*TO*RA*HI* SYSTEMS ARE EXTREMELY *IFFI*ULT TO BUIL*. NEVERTHELESS, FOR SOME \n",
            "\n",
            "REASON MANY NONEX*ERTS INSIST ON *ESI*NIN* NE* EN*RY*TION S*HEMES THAT \n",
            "\n",
            "SEEM TO THEM TO BE MORE SE*URE THAN ANY OTHER \n",
            "\n",
            "S*HEME ON EARTH. THE UNFORTUNATE TRUTH HO*EVER IS THAT SU*H \n",
            "\n",
            "S*HEMES ARE USUALLY TRIVIAL TO BREA*.\n",
            "\n",
            "\n"
          ]
        }
      ]
    },
    {
      "cell_type": "code",
      "source": [
        "# line 1, word 7, the word is \"BUIL*\"\n",
        "# let's consider this word as \"BUILD\"\n",
        "# map K=D\n",
        "\n",
        "mapping = {'F':'E', 'Q':'T', 'V':'H', 'O':'O', 'L':'N', 'H':'A', 'G':'R', 'E':'F', 'R':'Y', 'B':'I', 'W':'S',\n",
        "           'P':'M', 'A':'V', 'Z':'L', 'D':'X', 'I':'U', 'C':'B', 'K':'D'}\n",
        "words_per_line = 10\n",
        "plaintext = substitution_cipher(ciphertext, mapping)\n",
        "print_result(ciphertext, words_per_line)\n",
        "print_result(plaintext, words_per_line)"
      ],
      "metadata": {
        "colab": {
          "base_uri": "https://localhost:8080/"
        },
        "id": "_aWFhLOt6wPA",
        "outputId": "49d0029c-7307-4c04-974d-3d29950c3b2a"
      },
      "execution_count": 177,
      "outputs": [
        {
          "output_type": "stream",
          "name": "stdout",
          "text": [
            "JGRMQOYGHMVBJ WRWQFPW HGF FDQGFPFZR KBEEBJIZQ QO CIBZK. LFAFGQVFZFWW, EOG WOPF \n",
            "\n",
            "GFHWOL PHLR LOLFDMFGQW BLWBWQ OL KFWBYLBLY LFS FLJGRMQBOL WJVFPFW QVHQ \n",
            "\n",
            "WFFP QO QVFP QO CF POGF WFJIGF QVHL HLR OQVFG \n",
            "\n",
            "WJVFPF OL FHGQV. QVF ILEOGQILHQF QGIQV VOSFAFG BW QVHQ WIJV \n",
            "\n",
            "WJVFPFW HGF IWIHZZR QGBABHZ QO CGFHX.\n",
            "\n",
            "\n",
            "*RY*TO*RA*HI* SYSTEMS ARE EXTREMELY DIFFI*ULT TO BUILD. NEVERTHELESS, FOR SOME \n",
            "\n",
            "REASON MANY NONEX*ERTS INSIST ON DESI*NIN* NE* EN*RY*TION S*HEMES THAT \n",
            "\n",
            "SEEM TO THEM TO BE MORE SE*URE THAN ANY OTHER \n",
            "\n",
            "S*HEME ON EARTH. THE UNFORTUNATE TRUTH HO*EVER IS THAT SU*H \n",
            "\n",
            "S*HEMES ARE USUALLY TRIVIAL TO BREA*.\n",
            "\n",
            "\n"
          ]
        }
      ]
    },
    {
      "cell_type": "code",
      "source": [
        "# line 1, word 5, the word is \"DIFFI*ULT\"\n",
        "# let's consider this word as \"DIFFICULT\"\n",
        "# map J=C\n",
        "\n",
        "mapping = {'F':'E', 'Q':'T', 'V':'H', 'O':'O', 'L':'N', 'H':'A', 'G':'R', 'E':'F', 'R':'Y', 'B':'I', 'W':'S',\n",
        "           'P':'M', 'A':'V', 'Z':'L', 'D':'X', 'I':'U', 'C':'B', 'K':'D', 'J':'C'}\n",
        "words_per_line = 10\n",
        "plaintext = substitution_cipher(ciphertext, mapping)\n",
        "print_result(ciphertext, words_per_line)\n",
        "print_result(plaintext, words_per_line)"
      ],
      "metadata": {
        "colab": {
          "base_uri": "https://localhost:8080/"
        },
        "id": "Su6pfkt87A9G",
        "outputId": "13c2251b-9ba3-452f-ef4d-998e4f298bb5"
      },
      "execution_count": 178,
      "outputs": [
        {
          "output_type": "stream",
          "name": "stdout",
          "text": [
            "JGRMQOYGHMVBJ WRWQFPW HGF FDQGFPFZR KBEEBJIZQ QO CIBZK. LFAFGQVFZFWW, EOG WOPF \n",
            "\n",
            "GFHWOL PHLR LOLFDMFGQW BLWBWQ OL KFWBYLBLY LFS FLJGRMQBOL WJVFPFW QVHQ \n",
            "\n",
            "WFFP QO QVFP QO CF POGF WFJIGF QVHL HLR OQVFG \n",
            "\n",
            "WJVFPF OL FHGQV. QVF ILEOGQILHQF QGIQV VOSFAFG BW QVHQ WIJV \n",
            "\n",
            "WJVFPFW HGF IWIHZZR QGBABHZ QO CGFHX.\n",
            "\n",
            "\n",
            "CRY*TO*RA*HIC SYSTEMS ARE EXTREMELY DIFFICULT TO BUILD. NEVERTHELESS, FOR SOME \n",
            "\n",
            "REASON MANY NONEX*ERTS INSIST ON DESI*NIN* NE* ENCRY*TION SCHEMES THAT \n",
            "\n",
            "SEEM TO THEM TO BE MORE SECURE THAN ANY OTHER \n",
            "\n",
            "SCHEME ON EARTH. THE UNFORTUNATE TRUTH HO*EVER IS THAT SUCH \n",
            "\n",
            "SCHEMES ARE USUALLY TRIVIAL TO BREA*.\n",
            "\n",
            "\n"
          ]
        }
      ]
    },
    {
      "cell_type": "code",
      "source": [
        "# line 1, word 1, the word is \"CRY*TO*RA*HIC\"\n",
        "# let's consider this word as \"CRYPTOGRAPHIC\"\n",
        "# map M=P and Y=G\n",
        "\n",
        "mapping = {'F':'E', 'Q':'T', 'V':'H', 'O':'O', 'L':'N', 'H':'A', 'G':'R', 'E':'F', 'R':'Y', 'B':'I', 'W':'S',\n",
        "           'P':'M', 'A':'V', 'Z':'L', 'D':'X', 'I':'U', 'C':'B', 'K':'D', 'J':'C', 'M':'P', 'Y':'G'}\n",
        "words_per_line = 10\n",
        "plaintext = substitution_cipher(ciphertext, mapping)\n",
        "print_result(ciphertext, words_per_line)\n",
        "print_result(plaintext, words_per_line)"
      ],
      "metadata": {
        "colab": {
          "base_uri": "https://localhost:8080/"
        },
        "id": "cv6Nb8hR7PeA",
        "outputId": "0998050f-5b54-4e50-9cfb-e4c9df478c50"
      },
      "execution_count": 179,
      "outputs": [
        {
          "output_type": "stream",
          "name": "stdout",
          "text": [
            "JGRMQOYGHMVBJ WRWQFPW HGF FDQGFPFZR KBEEBJIZQ QO CIBZK. LFAFGQVFZFWW, EOG WOPF \n",
            "\n",
            "GFHWOL PHLR LOLFDMFGQW BLWBWQ OL KFWBYLBLY LFS FLJGRMQBOL WJVFPFW QVHQ \n",
            "\n",
            "WFFP QO QVFP QO CF POGF WFJIGF QVHL HLR OQVFG \n",
            "\n",
            "WJVFPF OL FHGQV. QVF ILEOGQILHQF QGIQV VOSFAFG BW QVHQ WIJV \n",
            "\n",
            "WJVFPFW HGF IWIHZZR QGBABHZ QO CGFHX.\n",
            "\n",
            "\n",
            "CRYPTOGRAPHIC SYSTEMS ARE EXTREMELY DIFFICULT TO BUILD. NEVERTHELESS, FOR SOME \n",
            "\n",
            "REASON MANY NONEXPERTS INSIST ON DESIGNING NE* ENCRYPTION SCHEMES THAT \n",
            "\n",
            "SEEM TO THEM TO BE MORE SECURE THAN ANY OTHER \n",
            "\n",
            "SCHEME ON EARTH. THE UNFORTUNATE TRUTH HO*EVER IS THAT SUCH \n",
            "\n",
            "SCHEMES ARE USUALLY TRIVIAL TO BREA*.\n",
            "\n",
            "\n"
          ]
        }
      ]
    },
    {
      "cell_type": "code",
      "source": [
        "# line 2, word 7, the word is \"NE*\"\n",
        "# line 4, word 7, the word is \"HO*EVER\"\n",
        "# again we can see that the character \"S\" is present in the \"*\" position in both sentences\n",
        "# let's consider these two words as \"NEW\" and \"HOWEVER\"\n",
        "# map S=W\n",
        "\n",
        "mapping = {'F':'E', 'Q':'T', 'V':'H', 'O':'O', 'L':'N', 'H':'A', 'G':'R', 'E':'F', 'R':'Y', 'B':'I', 'W':'S',\n",
        "           'P':'M', 'A':'V', 'Z':'L', 'D':'X', 'I':'U', 'C':'B', 'K':'D', 'J':'C', 'M':'P', 'Y':'G', 'S':'W'}\n",
        "words_per_line = 10\n",
        "plaintext = substitution_cipher(ciphertext, mapping)\n",
        "print_result(ciphertext, words_per_line)\n",
        "print_result(plaintext, words_per_line)"
      ],
      "metadata": {
        "colab": {
          "base_uri": "https://localhost:8080/"
        },
        "id": "36D93QGP7zU3",
        "outputId": "56c72477-f5e3-45b9-fd16-702a9457d4fb"
      },
      "execution_count": 180,
      "outputs": [
        {
          "output_type": "stream",
          "name": "stdout",
          "text": [
            "JGRMQOYGHMVBJ WRWQFPW HGF FDQGFPFZR KBEEBJIZQ QO CIBZK. LFAFGQVFZFWW, EOG WOPF \n",
            "\n",
            "GFHWOL PHLR LOLFDMFGQW BLWBWQ OL KFWBYLBLY LFS FLJGRMQBOL WJVFPFW QVHQ \n",
            "\n",
            "WFFP QO QVFP QO CF POGF WFJIGF QVHL HLR OQVFG \n",
            "\n",
            "WJVFPF OL FHGQV. QVF ILEOGQILHQF QGIQV VOSFAFG BW QVHQ WIJV \n",
            "\n",
            "WJVFPFW HGF IWIHZZR QGBABHZ QO CGFHX.\n",
            "\n",
            "\n",
            "CRYPTOGRAPHIC SYSTEMS ARE EXTREMELY DIFFICULT TO BUILD. NEVERTHELESS, FOR SOME \n",
            "\n",
            "REASON MANY NONEXPERTS INSIST ON DESIGNING NEW ENCRYPTION SCHEMES THAT \n",
            "\n",
            "SEEM TO THEM TO BE MORE SECURE THAN ANY OTHER \n",
            "\n",
            "SCHEME ON EARTH. THE UNFORTUNATE TRUTH HOWEVER IS THAT SUCH \n",
            "\n",
            "SCHEMES ARE USUALLY TRIVIAL TO BREA*.\n",
            "\n",
            "\n"
          ]
        }
      ]
    },
    {
      "cell_type": "code",
      "source": [
        "# after analyzing whole paragragraph, we can say that the word \"BREA*\" is nothing but \"BREAK\"\n",
        "# map X=K\n",
        "\n",
        "mapping = {'F':'E', 'Q':'T', 'V':'H', 'O':'O', 'L':'N', 'H':'A', 'G':'R', 'E':'F', 'R':'Y', 'B':'I', 'W':'S', 'P':'M',\n",
        "           'A':'V', 'Z':'L', 'D':'X', 'I':'U', 'C':'B', 'K':'D', 'J':'C', 'M':'P', 'Y':'G', 'S':'W', 'X':'K'}\n",
        "words_per_line = 10\n",
        "plaintext = substitution_cipher(ciphertext, mapping)\n",
        "print_result(ciphertext, words_per_line)\n",
        "print_result(plaintext, words_per_line)"
      ],
      "metadata": {
        "colab": {
          "base_uri": "https://localhost:8080/"
        },
        "id": "lGTMLm_H8RyX",
        "outputId": "d386d6d2-ca92-4b6b-f69f-f67227e388a3"
      },
      "execution_count": 181,
      "outputs": [
        {
          "output_type": "stream",
          "name": "stdout",
          "text": [
            "JGRMQOYGHMVBJ WRWQFPW HGF FDQGFPFZR KBEEBJIZQ QO CIBZK. LFAFGQVFZFWW, EOG WOPF \n",
            "\n",
            "GFHWOL PHLR LOLFDMFGQW BLWBWQ OL KFWBYLBLY LFS FLJGRMQBOL WJVFPFW QVHQ \n",
            "\n",
            "WFFP QO QVFP QO CF POGF WFJIGF QVHL HLR OQVFG \n",
            "\n",
            "WJVFPF OL FHGQV. QVF ILEOGQILHQF QGIQV VOSFAFG BW QVHQ WIJV \n",
            "\n",
            "WJVFPFW HGF IWIHZZR QGBABHZ QO CGFHX.\n",
            "\n",
            "\n",
            "CRYPTOGRAPHIC SYSTEMS ARE EXTREMELY DIFFICULT TO BUILD. NEVERTHELESS, FOR SOME \n",
            "\n",
            "REASON MANY NONEXPERTS INSIST ON DESIGNING NEW ENCRYPTION SCHEMES THAT \n",
            "\n",
            "SEEM TO THEM TO BE MORE SECURE THAN ANY OTHER \n",
            "\n",
            "SCHEME ON EARTH. THE UNFORTUNATE TRUTH HOWEVER IS THAT SUCH \n",
            "\n",
            "SCHEMES ARE USUALLY TRIVIAL TO BREAK.\n",
            "\n",
            "\n"
          ]
        }
      ]
    },
    {
      "cell_type": "code",
      "source": [
        "# desired mapping\n",
        "\n",
        "desired_mapping(mapping)"
      ],
      "metadata": {
        "colab": {
          "base_uri": "https://localhost:8080/"
        },
        "id": "d_Wpig9jo_7h",
        "outputId": "28ae1cbf-160c-403f-c954-d2887cfa7204"
      },
      "execution_count": 192,
      "outputs": [
        {
          "output_type": "stream",
          "name": "stdout",
          "text": [
            "Desired Mappings : \n",
            "F:E\n",
            "Q:T\n",
            "V:H\n",
            "O:O\n",
            "L:N\n",
            "H:A\n",
            "G:R\n",
            "E:F\n",
            "R:Y\n",
            "B:I\n",
            "W:S\n",
            "P:M\n",
            "A:V\n",
            "Z:L\n",
            "D:X\n",
            "I:U\n",
            "C:B\n",
            "K:D\n",
            "J:C\n",
            "M:P\n",
            "Y:G\n",
            "S:W\n",
            "X:K\n"
          ]
        }
      ]
    },
    {
      "cell_type": "markdown",
      "source": [
        "<ins>**Plaintext of Task-02(D) is :**</ins><br>\n",
        "<p>CRYPTOGRAPHIC SYSTEMS ARE EXTREMELY DIFFICULT TO BUILD. NEVERTHELESS, FOR SOME REASON MANY NONEXPERTS INSIST ON DESIGNING NEW ENCRYPTION SCHEMES THAT SEEM TO THEM TO BE MORE SECURE THAN ANY OTHER SCHEME ON EARTH. THE UNFORTUNATE TRUTH HOWEVER IS THAT SUCH SCHEMES ARE USUALLY TRIVIAL TO BREAK.</p>"
      ],
      "metadata": {
        "id": "dlPpWPmtrxCM"
      }
    },
    {
      "cell_type": "markdown",
      "source": [
        "# <ins>Task - 03</ins>"
      ],
      "metadata": {
        "id": "5xNroxD-EIiP"
      }
    },
    {
      "cell_type": "code",
      "source": [
        "'''\n",
        "   in this function, we are making length of our given keystring equal to length of given plaintext/ciphertext\n",
        "'''\n",
        "\n",
        "def get_key_string(text, keystring):\n",
        "  keystring = keystring.replace(\" \",\"\")\n",
        "  n = int(len(text) / len(keystring))\n",
        "  rem = int(len(text) % len(keystring))\n",
        "\n",
        "  for i in range(n-1):\n",
        "    keystring += keystring\n",
        "  for i in range(rem):\n",
        "    keystring += keystring[i]\n",
        "  return keystring"
      ],
      "metadata": {
        "id": "cpS_NvwIk3hC"
      },
      "execution_count": 182,
      "outputs": []
    },
    {
      "cell_type": "code",
      "source": [
        "'''\n",
        "  the encryption function takes plaintext and keystring as input\n",
        "  the equation of vigenere cipher for encryption is :\n",
        "    Ei = (Pi + Ki) % 26\n",
        "    here, Pi = ith character of plaintext\n",
        "    and,  Ki = ith character of keystring\n",
        "  the function returns a ciphertext after encryption\n",
        "'''\n",
        "\n",
        "def encryption(plaintext, keystring):\n",
        "  plaintext = plaintext.replace(\" \",\"\")     # removing space\n",
        "  keystring = get_key_string(plaintext, keystring)\n",
        "  ciphertext = \"\"\n",
        "\n",
        "  for i in range(len(plaintext)):\n",
        "    ciphertext += chr((ord(plaintext[i]) + ord(keystring[i])) % 26 + 65)\n",
        "  return ciphertext"
      ],
      "metadata": {
        "id": "i39z-SUSEQs2"
      },
      "execution_count": 183,
      "outputs": []
    },
    {
      "cell_type": "code",
      "source": [
        "'''\n",
        "  the decryption function takes ciphertext and keystring as input\n",
        "  the equation of vigenere cipher for decryption is :\n",
        "    Di = (Ei - Ki) % 26\n",
        "    here, Ei = ith character of ciphertext\n",
        "    and,  Ki = ith character of keystring\n",
        "  the function returns a plaintext after decryption\n",
        "'''\n",
        "\n",
        "def decryption(ciphertext, keystring):\n",
        "  ciphertext = ciphertext.replace(\" \",\"\")     # removing space\n",
        "  keystring = get_key_string(ciphertext, keystring)\n",
        "  plaintext = \"\"\n",
        "\n",
        "  for i in range(len(ciphertext)):\n",
        "    plaintext += chr((ord(ciphertext[i]) - ord(keystring[i])) % 26 + 65)\n",
        "  return plaintext"
      ],
      "metadata": {
        "id": "YvFf6ESsIeOb"
      },
      "execution_count": 184,
      "outputs": []
    },
    {
      "cell_type": "code",
      "source": [
        "'''\n",
        "  this function is used to print plaintext/ciphertext after decryption/encryption\n",
        "'''\n",
        "\n",
        "def print_result(a, b, key, s1, s2):\n",
        "  res = \"\"\n",
        "  j = 0\n",
        "  for i in range(len(a)):\n",
        "    if a[i]==' ':\n",
        "      res+=' '\n",
        "    else:\n",
        "      res+=b[j]\n",
        "      j+=1\n",
        "  print(f\"\\n{s1} of your given {s2} by using key {key} is : {res}\\n\")"
      ],
      "metadata": {
        "id": "oSQol1QFJXFh"
      },
      "execution_count": 185,
      "outputs": []
    },
    {
      "cell_type": "code",
      "source": [
        "while True:\n",
        "  print(\"0. break\\n1. encryption\\n2. decryption\\n\")\n",
        "  choice = input(\"enter your choice : \")\n",
        "  if(choice==\"0\"):\n",
        "    break\n",
        "  elif(choice==\"1\"):\n",
        "    plaintext = input(\"enter your plain text : \")\n",
        "    plaintext = plaintext.upper()\n",
        "    keystring = input(\"enter your keystring : \")\n",
        "    keystring = keystring.upper()\n",
        "    ciphertext = encryption(plaintext, keystring)\n",
        "    print_result(plaintext, ciphertext, keystring, \"ciphertext\", \"plaintext\")\n",
        "  else:\n",
        "    ciphertext = input(\"enter your cipher text : \")\n",
        "    ciphertext = ciphertext.upper()\n",
        "    keystring = input(\"enter your keystring : \")\n",
        "    keystring = keystring.upper()\n",
        "    plaintext = decryption(ciphertext, keystring)\n",
        "    print_result(ciphertext, plaintext, keystring, \"plaintext\", \"ciphertext\")"
      ],
      "metadata": {
        "colab": {
          "base_uri": "https://localhost:8080/"
        },
        "id": "NnpIKVk0FVGe",
        "outputId": "23377941-093d-4d34-b179-aae2f45598ff"
      },
      "execution_count": 186,
      "outputs": [
        {
          "name": "stdout",
          "output_type": "stream",
          "text": [
            "0. break\n",
            "1. encryption\n",
            "2. decryption\n",
            "\n",
            "enter your choice : 1\n",
            "enter your plain text : CSE FINAL YEAR THEORY COURSE INTRODUCTION TO COMPUER SECURITY AND FORENSICS\n",
            "enter your keystring : SUSTCSE\n",
            "\n",
            "ciphertext of your given plaintext by using key SUSTCSE is : UMW YKFED SWTT LLWIJR EGYJMW BPLVGXMVVASF NG VQETMYJ LGUYJCLR CFH XIJXPKMUM\n",
            "\n",
            "0. break\n",
            "1. encryption\n",
            "2. decryption\n",
            "\n",
            "enter your choice : 2\n",
            "enter your cipher text : UMW YKFED SWTT LLWIJR EGYJMW BPLVGXMVVASF NG VQETMYJ LGUYJCLR CFH XIJXPKMUM\n",
            "enter your keystring : SUSTCSE\n",
            "\n",
            "plaintext of your given ciphertext by using key SUSTCSE is : CSE FINAL YEAR THEORY COURSE INTRODUCTION TO COMPUER SECURITY AND FORENSICS\n",
            "\n",
            "0. break\n",
            "1. encryption\n",
            "2. decryption\n",
            "\n",
            "enter your choice : 0\n"
          ]
        }
      ]
    },
    {
      "cell_type": "markdown",
      "source": [
        "# <ins>Task - 04</ins>"
      ],
      "metadata": {
        "id": "glr5c6CXBqS7"
      }
    },
    {
      "cell_type": "code",
      "source": [
        "'''\n",
        " calc_key_string_ascii_matrix function takes keystring as input\n",
        " let n = sizeof(keystring)\n",
        " m = sqrt(n)\n",
        " this function creates a mxm matrix by taking ascii values of keystring\n",
        "'''\n",
        "\n",
        "import math\n",
        "import numpy as np\n",
        "\n",
        "def calc_key_string_ascii_matrix(keystring):\n",
        "  keystring = keystring.replace(\" \",\"\")\n",
        "  n = len(keystring)\n",
        "  m = int(math.sqrt(n))\n",
        "  key_string_ascii_matrix = np.zeros((m,m))\n",
        "  cnt = 0\n",
        "  for i in range(m):\n",
        "    for j in range(m):\n",
        "      key_string_ascii_matrix[i][j] = int(ord(keystring[cnt]))\n",
        "      cnt+=1\n",
        "  key_string_ascii_matrix = key_string_ascii_matrix % 65\n",
        "  return key_string_ascii_matrix"
      ],
      "metadata": {
        "id": "_rZp5Ys_hg9X"
      },
      "execution_count": 187,
      "outputs": []
    },
    {
      "cell_type": "code",
      "source": [
        "'''\n",
        "  this function is used to print plaintext/ciphertext after decryption/encryption\n",
        "'''\n",
        "\n",
        "def print_result(a, b, s1, s2):\n",
        "  res = \"\"\n",
        "  j = 0\n",
        "  for i in range(len(a)):\n",
        "    if a[i]==' ':\n",
        "      res+=' '\n",
        "    else:\n",
        "      res+=b[j]\n",
        "      j+=1\n",
        "  print(f\"\\n{s1} of your given {s2} is : {res}\\n\")"
      ],
      "metadata": {
        "id": "YIj6XyM3iZyA"
      },
      "execution_count": 188,
      "outputs": []
    },
    {
      "cell_type": "code",
      "source": [
        "'''\n",
        "  the encryption function takes plaintext and keystring as input\n",
        "  let n = sizeof(plaintext)\n",
        "  we need to create nx1 matrix by taking ascii values of each character of plaintext\n",
        "  we then multiply key_string_ascii_matrix and plaintext_ascii_matrix to get ciphertext_ascii_matrix\n",
        "  from ciphertext_ascii_matrix, we derive our ciphertext\n",
        "'''\n",
        "\n",
        "\n",
        "def encryption(plaintext, keystring):\n",
        "  key_string_ascii_matrix = calc_key_string_ascii_matrix(keystring)\n",
        "  plaintext = plaintext.replace(\" \",\"\")\n",
        "  n = len(plaintext)\n",
        "\n",
        "  # calculating plaintext_ascii_matrix\n",
        "  plaintext_ascii_matrix = np.zeros((n,1))\n",
        "  for i in range(n):\n",
        "    plaintext_ascii_matrix[i][0] = int(ord(plaintext[i]))\n",
        "  plaintext_ascii_matrix = plaintext_ascii_matrix % 65\n",
        "\n",
        "  # calculating ciphertext_ascii_matrix\n",
        "  ciphertext_ascii_matrix = np.dot(key_string_ascii_matrix, plaintext_ascii_matrix)\n",
        "  ciphertext_ascii_matrix = ciphertext_ascii_matrix % 26\n",
        "\n",
        "  # generating cipher text\n",
        "  ciphertext = \"\"\n",
        "  for i in range(n):\n",
        "    ciphertext += chr(int(ciphertext_ascii_matrix[i][0]) + ord('A'))\n",
        "  return ciphertext"
      ],
      "metadata": {
        "id": "Bjmhv_uhD6FA"
      },
      "execution_count": 189,
      "outputs": []
    },
    {
      "cell_type": "code",
      "source": [
        "'''\n",
        "  the decryption function takes ciphertext and keystring as input\n",
        "  let n = sizeof(ciphertext)\n",
        "  we need to create nx1 matrix by taking ascii values of each character of ciphertext\n",
        "  we then need to calculate multiplicative modular inverse of our key_string_ascii_matrix\n",
        "  we then multiply key_string_ascii_matrix_inv and ciphertext_ascii_matrix to get plaintext_ascii_matrix\n",
        "  from plaintext_ascii_matrix, we derive our plaintext\n",
        "'''\n",
        "\n",
        "\n",
        "def decryption(ciphertext, keystring):\n",
        "  key_string_ascii_matrix = calc_key_string_ascii_matrix(keystring)\n",
        "  ciphertext = ciphertext.replace(\" \",\"\")\n",
        "  n = len(ciphertext)\n",
        "\n",
        "  # calculating ciphertext_ascii_matrix\n",
        "  ciphertext_ascii_matrix = np.zeros((n,1))\n",
        "  for i in range(n):\n",
        "    ciphertext_ascii_matrix[i][0] = int(ord(ciphertext[i]))\n",
        "  ciphertext_ascii_matrix = ciphertext_ascii_matrix % 65\n",
        "\n",
        "  # calculating maultiplicative modular inverse of key_string_ascii_matrix\n",
        "  det_key_string_ascii_matrix = np.linalg.det(key_string_ascii_matrix)\n",
        "  key_string_ascii_matrix_inv = pow(int(det_key_string_ascii_matrix), -1, 26)\n",
        "  adj_key_string_ascii_matrix = np.linalg.inv(key_string_ascii_matrix) * det_key_string_ascii_matrix\n",
        "  key_string_ascii_matrix_inv = (adj_key_string_ascii_matrix * key_string_ascii_matrix_inv) % 26\n",
        "\n",
        "  # calculating plaintext_ascii_matrix\n",
        "  plaintext_ascii_matrix = np.dot(key_string_ascii_matrix_inv, ciphertext_ascii_matrix)\n",
        "  plaintext_ascii_matrix = np.round(plaintext_ascii_matrix)\n",
        "  plaintext_ascii_matrix = plaintext_ascii_matrix.astype(np.int64)\n",
        "  plaintext_ascii_matrix = plaintext_ascii_matrix % 26\n",
        "\n",
        "  # generating plain text\n",
        "  plaintext = \"\"\n",
        "  for i in range(n):\n",
        "    plaintext += chr(int(plaintext_ascii_matrix[i][0]) + ord('A'))\n",
        "  return plaintext"
      ],
      "metadata": {
        "id": "1rm8voH1Hgm3"
      },
      "execution_count": 190,
      "outputs": []
    },
    {
      "cell_type": "code",
      "source": [
        "while True:\n",
        "  print(\"0. break\\n1. encryption\\n2. decryption\\n\")\n",
        "  choice = input(\"enter your choice : \")\n",
        "  if(choice==\"0\"):\n",
        "    break\n",
        "  elif(choice==\"1\"):\n",
        "    plaintext = input(\"enter your plain text : \")\n",
        "    plaintext = plaintext.upper()\n",
        "    keystring = input(\"enter your keystring : \")\n",
        "    keystring = keystring.upper()\n",
        "    ciphertext = encryption(plaintext, keystring)\n",
        "    print_result(plaintext, ciphertext, \"ciphertext\", \"plaintext\")\n",
        "  else:\n",
        "    ciphertext = input(\"enter your cipher text : \")\n",
        "    ciphertext = ciphertext.upper()\n",
        "    keystring = input(\"enter your keystring : \")\n",
        "    keystring = keystring.upper()\n",
        "    plaintext = decryption(ciphertext, keystring)\n",
        "    print_result(ciphertext, plaintext, \"plaintext\", \"ciphertext\")"
      ],
      "metadata": {
        "colab": {
          "base_uri": "https://localhost:8080/"
        },
        "id": "YyQu-ZXshL2e",
        "outputId": "d4d5bcb6-3972-451c-b14e-7df84660b0fd"
      },
      "execution_count": 191,
      "outputs": [
        {
          "name": "stdout",
          "output_type": "stream",
          "text": [
            "0. break\n",
            "1. encryption\n",
            "2. decryption\n",
            "\n",
            "enter your choice : 1\n",
            "enter your plain text : SUST CSE\n",
            "enter your keystring : AWESOME INTRODUCTION TO COMPUTER SECURITY AND FORENSICS\n",
            "\n",
            "ciphertext of your given plaintext is : WJCT KZU\n",
            "\n",
            "0. break\n",
            "1. encryption\n",
            "2. decryption\n",
            "\n",
            "enter your choice : 2\n",
            "enter your cipher text : POH\n",
            "enter your keystring : GYBNQKURP\n",
            "\n",
            "plaintext of your given ciphertext is : ACT\n",
            "\n",
            "0. break\n",
            "1. encryption\n",
            "2. decryption\n",
            "\n",
            "enter your choice : 0\n"
          ]
        }
      ]
    },
    {
      "cell_type": "markdown",
      "source": [
        "<b>Here keystring \"AWESOME INTRODUCTION TO COMPUTER SECURITY AND FORENSICS\" can't be converted to muliplicative modular inverse.\n",
        "That's why we use different example to show our decryption functionality. The example is taken from the lecture slide.\n",
        "</b>"
      ],
      "metadata": {
        "id": "_4gaVWwxkGd7"
      }
    }
  ]
}